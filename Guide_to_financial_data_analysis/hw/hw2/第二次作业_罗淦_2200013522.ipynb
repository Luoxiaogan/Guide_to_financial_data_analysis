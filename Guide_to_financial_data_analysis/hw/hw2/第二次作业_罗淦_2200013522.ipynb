{
 "cells": [
  {
   "cell_type": "markdown",
   "metadata": {},
   "source": [
    "# 作业\n",
    "\n",
    "1.  给定一个二维数组，每行是一个向量。找出所有不同的行。\n",
    "比如： \n",
    "\n",
    "```x = np.array([[1., 2., 3.], [4., 5., 6.],[1., 2., 3.], [4., 5., 6.]]),则\n",
    "x[:2]，即x的第0,1行，array([[ 1.,  2.,  3.],[ 4.,  5.,  6.]])就是要找到行。\n",
    "```\n",
    "\n",
    "备注：请不要直接调用numpy.unique\n",
    "\n",
    "2.  a).产生正态数据数据向量 Z,长度为T， 建立一个二维数组，使其第一行为 (Z[0],Z[1],Z[2])，然后每一行都后移一位 （因此最后一行为 (Z[T-3],Z[T-2],Z[T-1] );b). 计算每列数据的样本均值，方差，各列之间的协方差。\n",
    " \n",
    "3. a). 随机生成一个1000行50列二维数组，每个元素等概率取值0，1，2，并将该数组按第1列递增和第2列递减对每行排序，即先按第一列递增排序，然后在第一列每组中， 按第二列递减排序。 b). 编一个函数sortbycols(data,cols,descending)，实现行排序。给定参数 data是二维数值，cols是数或list,给出需要排序的列，descending是布尔值或布尔向量，如果是一个布尔值，则所有列都按该顺序排，如果descending是和cols等长的list，则各列按descending给定的顺序排。\n",
    "4.  熟悉学习numpy中的现金流函数, np.pv,np.fv,np.nper,np.pmt,np.rate, 然后编制一个函数，计算给定现金流(array)，利率(array),任意时刻(t)的现金价值。"
   ]
  },
  {
   "cell_type": "markdown",
   "metadata": {},
   "source": [
    "# 第一题\n",
    "给定一个二维数组，每行是一个向量。找出所有不同的行。\n",
    "比如： \n",
    "\n",
    "```x = np.array([[1., 2., 3.], [4., 5., 6.],[1., 2., 3.], [4., 5., 6.]]),则\n",
    "x[:2]，即x的第0,1行，array([[ 1.,  2.,  3.],[ 4.,  5.,  6.]])就是要找到行。\n",
    "```"
   ]
  },
  {
   "cell_type": "code",
   "execution_count": 1,
   "metadata": {},
   "outputs": [],
   "source": [
    "import numpy as np\n",
    "def check(arr):\n",
    "    \"\"\" 输入一个二维数组，每行是一个向量，找出所有不同的行 \"\"\"\n",
    "    if isinstance(arr,np.ndarray) and len(a.shape)==1:\n",
    "        print('The array only has one row.')\n",
    "        return arr\n",
    "    m=arr.shape[0]\n",
    "    remark=np.zeros((m,1))\n",
    "    for i in range(0,m):\n",
    "        for j in range(0,m):\n",
    "            if np.all(arr[i]==arr[j]):\n",
    "                remark[i]+=1\n",
    "    unique_rows=[]\n",
    "    for i in range(0,m):\n",
    "        if remark[i]==1:\n",
    "            unique_rows.append(arr[i])\n",
    "    return np.array(unique_rows)"
   ]
  },
  {
   "cell_type": "markdown",
   "metadata": {},
   "source": [
    "# 第二题\n",
    "+ a).产生正态数据数据向量 Z,长度为T， 建立一个二维数组，使其第一行为 (Z[0],Z[1],Z[2])，然后每一行都后移一位 （因此最后一行为 (Z[T-3],Z[T-2],Z[T-1] );\n",
    "\n",
    "+ b). 计算每列数据的样本均值，方差，各列之间的协方差。"
   ]
  },
  {
   "cell_type": "code",
   "execution_count": 2,
   "metadata": {},
   "outputs": [],
   "source": [
    "import numpy as np\n",
    "def create(T):\n",
    "    \"\"\"\n",
    "    产生正态数据数据向量 Z,长度为T， 建立一个二维数组，使其第一行为 (Z[0],Z[1],Z[2])，然后每一行都后移一位 （因此最后一行为 (Z[T-3],Z[T-2],Z[T-1] );\n",
    "    \"\"\"\n",
    "    arr=np.random.randn(T)\n",
    "    output=np.zeros((T-2,3))\n",
    "    for i in range(0,T-2):\n",
    "        output[i]=arr[i:i+3]\n",
    "    print(output,'\\n\\n')\n",
    "    print('每列数据的样本均值是\\n',np.mean(output,axis=0),'\\n\\n')\n",
    "    print('每列数据的样本方差是\\n',np.var(output,axis=0),'\\n\\n')\n",
    "    print('每列数据的样本协方差是\\n',np.cov(output,rowvar=False))\n",
    "    return "
   ]
  },
  {
   "cell_type": "markdown",
   "metadata": {},
   "source": [
    "# 第三题\n",
    "+ a). 随机生成一个1000行50列二维数组，每个元素等概率取值0，1，2，并将该数组按第1列递增和第2列递减对每行排序，即先按第一列递增排序，然后在第一列每组中， 按第二列递减排序。\n",
    "+ b). 编一个函数sortbycols(data,cols,descending)，实现行排序。给定参数 data是二维数值，cols是数或list,给出需要排序的列，descending是布尔值或布尔向量，如果是一个布尔值，则所有列都按该顺序排，如果descending是和cols等长的list，则各列按descending给定的顺序排。"
   ]
  },
  {
   "cell_type": "code",
   "execution_count": 3,
   "metadata": {},
   "outputs": [
    {
     "name": "stdout",
     "output_type": "stream",
     "text": [
      "[[0 2 2 ... 1 1 1]\n",
      " [0 2 1 ... 0 0 2]\n",
      " [0 2 0 ... 1 1 1]\n",
      " ...\n",
      " [2 0 0 ... 1 2 0]\n",
      " [2 0 1 ... 2 1 0]\n",
      " [2 0 0 ... 0 2 2]]\n"
     ]
    }
   ],
   "source": [
    "#Solution1：这里理解为对第一列或者第二列进行排序的时候，其他的元素不会动\n",
    "import numpy as np\n",
    "arr=np.random.choice([0,1,2],size=(1000,50))\n",
    "arr[:,0]=np.sort(arr[:,0])#对第一列进行递增排序\n",
    "i=0\n",
    "while i<=999:\n",
    "    start,end=0,0\n",
    "    if arr[i][0]==1:\n",
    "        end=i-1\n",
    "        arr[start:end,1]=np.sort(arr[start:end,1])[::-1]#对第一列是0的行的第二列进行递减排序\n",
    "        start=i\n",
    "    if arr[i][0]==2:\n",
    "        end=i-1\n",
    "        arr[start:end,1]=np.sort(arr[start:end,1])[::-1]#对第一列是1的行的第二列进行递减排序\n",
    "        start=i\n",
    "        arr[start:,1]=np.sort(arr[start:,1])[::-1]#对第一列是2的行的第二列进行递减排序\n",
    "    i=i+1\n",
    "print(arr)"
   ]
  },
  {
   "cell_type": "code",
   "execution_count": 4,
   "metadata": {},
   "outputs": [],
   "source": [
    "#Solution2：这里理解为对第一列或者第二列进行排序的时候，其他的元素会跟着动，也就是说，最开始在同一行的元素之间的位置是不变的\n",
    "import numpy as np\n",
    "arr=np.random.choice([0,1,2],size=(1000,50))"
   ]
  },
  {
   "cell_type": "markdown",
   "metadata": {},
   "source": [
    "# 第四题\n",
    "熟悉学习numpy中的现金流函数, np.pv,np.fv,np.nper,np.pmt,np.rate, 然后编制一个函数，计算给定现金流(array)，利率(array),任意时刻(t)的现金价值。"
   ]
  },
  {
   "cell_type": "markdown",
   "metadata": {},
   "source": [
    "需要下载 numpy_financial 包\n",
    "> pip install numpy_financial"
   ]
  },
  {
   "cell_type": "code",
   "execution_count": 5,
   "metadata": {},
   "outputs": [],
   "source": [
    "import numpy_financial as npf"
   ]
  },
  {
   "cell_type": "code",
   "execution_count": 6,
   "metadata": {},
   "outputs": [
    {
     "name": "stdout",
     "output_type": "stream",
     "text": [
      "\u001b[1;31mSignature:\u001b[0m \u001b[0mnpf\u001b[0m\u001b[1;33m.\u001b[0m\u001b[0mpv\u001b[0m\u001b[1;33m(\u001b[0m\u001b[0mrate\u001b[0m\u001b[1;33m,\u001b[0m \u001b[0mnper\u001b[0m\u001b[1;33m,\u001b[0m \u001b[0mpmt\u001b[0m\u001b[1;33m,\u001b[0m \u001b[0mfv\u001b[0m\u001b[1;33m=\u001b[0m\u001b[1;36m0\u001b[0m\u001b[1;33m,\u001b[0m \u001b[0mwhen\u001b[0m\u001b[1;33m=\u001b[0m\u001b[1;34m'end'\u001b[0m\u001b[1;33m)\u001b[0m\u001b[1;33m\u001b[0m\u001b[1;33m\u001b[0m\u001b[0m\n",
      "\u001b[1;31mDocstring:\u001b[0m\n",
      "Compute the present value.\n",
      "\n",
      "Given:\n",
      " * a future value, `fv`\n",
      " * an interest `rate` compounded once per period, of which\n",
      "   there are\n",
      " * `nper` total\n",
      " * a (fixed) payment, `pmt`, paid either\n",
      " * at the beginning (`when` = {'begin', 1}) or the end\n",
      "   (`when` = {'end', 0}) of each period\n",
      "\n",
      "Return:\n",
      "   the value now\n",
      "\n",
      "Parameters\n",
      "----------\n",
      "rate : array_like\n",
      "    Rate of interest (per period)\n",
      "nper : array_like\n",
      "    Number of compounding periods\n",
      "pmt : array_like\n",
      "    Payment\n",
      "fv : array_like, optional\n",
      "    Future value\n",
      "when : {{'begin', 1}, {'end', 0}}, {string, int}, optional\n",
      "    When payments are due ('begin' (1) or 'end' (0))\n",
      "\n",
      "Returns\n",
      "-------\n",
      "out : ndarray, float\n",
      "    Present value of a series of payments or investments.\n",
      "\n",
      "Notes\n",
      "-----\n",
      "The present value is computed by solving the equation::\n",
      "\n",
      " fv +\n",
      " pv*(1 + rate)**nper +\n",
      " pmt*(1 + rate*when)/rate*((1 + rate)**nper - 1) = 0\n",
      "\n",
      "or, when ``rate = 0``::\n",
      "\n",
      " fv + pv + pmt * nper = 0\n",
      "\n",
      "for `pv`, which is then returned.\n",
      "\n",
      "References\n",
      "----------\n",
      ".. [WRW] Wheeler, D. A., E. Rathke, and R. Weir (Eds.) (2009, May).\n",
      "   Open Document Format for Office Applications (OpenDocument)v1.2,\n",
      "   Part 2: Recalculated Formula (OpenFormula) Format - Annotated Version,\n",
      "   Pre-Draft 12. Organization for the Advancement of Structured Information\n",
      "   Standards (OASIS). Billerica, MA, USA. [ODT Document].\n",
      "   Available:\n",
      "   http://www.oasis-open.org/committees/documents.php?wg_abbrev=office-formula\n",
      "   OpenDocument-formula-20090508.odt\n",
      "\n",
      "Examples\n",
      "--------\n",
      ">>> import numpy as np\n",
      ">>> import numpy_financial as npf\n",
      "\n",
      "What is the present value (e.g., the initial investment)\n",
      "of an investment that needs to total $15692.93\n",
      "after 10 years of saving $100 every month?  Assume the\n",
      "interest rate is 5% (annually) compounded monthly.\n",
      "\n",
      ">>> npf.pv(0.05/12, 10*12, -100, 15692.93)\n",
      "-100.00067131625819\n",
      "\n",
      "By convention, the negative sign represents cash flow out\n",
      "(i.e., money not available today).  Thus, to end up with\n",
      "$15,692.93 in 10 years saving $100 a month at 5% annual\n",
      "interest, one's initial deposit should also be $100.\n",
      "\n",
      "If any input is array_like, ``pv`` returns an array of equal shape.\n",
      "Let's compare different interest rates in the example above:\n",
      "\n",
      ">>> a = np.array((0.05, 0.04, 0.03))/12\n",
      ">>> npf.pv(a, 10*12, -100, 15692.93)\n",
      "array([ -100.00067132,  -649.26771385, -1273.78633713]) # may vary\n",
      "\n",
      "So, to end up with the same $15692.93 under the same $100 per month\n",
      "\"savings plan,\" for annual interest rates of 4% and 3%, one would\n",
      "need initial investments of $649.27 and $1273.79, respectively.\n",
      "\u001b[1;31mFile:\u001b[0m      d:\\anaconda3\\lib\\site-packages\\numpy_financial\\_financial.py\n",
      "\u001b[1;31mType:\u001b[0m      function"
     ]
    }
   ],
   "source": [
    "?npf.pv"
   ]
  }
 ],
 "metadata": {
  "kernelspec": {
   "display_name": "base",
   "language": "python",
   "name": "python3"
  },
  "language_info": {
   "codemirror_mode": {
    "name": "ipython",
    "version": 3
   },
   "file_extension": ".py",
   "mimetype": "text/x-python",
   "name": "python",
   "nbconvert_exporter": "python",
   "pygments_lexer": "ipython3",
   "version": "3.11.4"
  },
  "orig_nbformat": 4
 },
 "nbformat": 4,
 "nbformat_minor": 2
}
