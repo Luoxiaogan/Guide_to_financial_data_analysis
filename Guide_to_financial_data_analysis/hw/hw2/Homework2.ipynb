{
 "cells": [
  {
   "cell_type": "markdown",
   "id": "0bf317cd",
   "metadata": {},
   "source": [
    "\n",
    "## Numpy\n",
    "\n",
    "1.  给定一个二维数组，每行是一个向量。找出所有不同的行。\n",
    "比如： \n",
    "\n",
    "```x = np.array([[1., 2., 3.], [4., 5., 6.],[1., 2., 3.], [4., 5., 6.]]),则\n",
    "x[:2]，即x的第0,1行，array([[ 1.,  2.,  3.],[ 4.,  5.,  6.]])就是要找到行。\n",
    "```\n",
    "\n",
    "备注：请不要直接调用numpy.unique\n",
    "\n",
    "2.  a).产生正态数据数据向量 Z,长度为T， 建立一个二维数组，使其第一行为 (Z[0],Z[1],Z[2])，然后每一行都后移一位 （因此最后一行为 (Z[T-3],Z[T-2],Z[T-1] );b). 计算每列数据的样本均值，方差，各列之间的协方差。\n",
    " \n",
    "3. a). 随机生成一个1000行50列二维数组，每个元素等概率取值0，1，2，并将该数组按第1列递增和第2列递减对每行排序，即先按第一列递增排序，然后在第一列每组中， 按第二列递减排序。 b). 编一个函数sortbycols(data,cols,descending)，实现行排序。给定参数 data是二维数值，cols是数或list,给出需要排序的列，descending是布尔值或布尔向量，如果是一个布尔值，则所有列都按该顺序排，如果descending是和cols等长的list，则各列按descending给定的顺序排。\n",
    "4.  熟悉学习numpy中的现金流函数, np.pv,np.fv,np.nper,np.pmt,np.rate, 然后编制一个函数，计算给定现金流(array)，利率(array),任意时刻(t)的现金价值。\n",
    "\n",
    "5. 有一个列表X,里面的元素可能是数，包含数的list,或者数值型np.array。请编一个函数把它转换为一维np.array数据。 比如将X=[[1,[2,[4,9]]],np.array([[1,2],[3,4]])]转换为：np.array([1,2,4,9,,1,2,3,4])。注意，列表X的嵌套层数可以是任意的。\n",
    "\n",
    "## Pandas \n",
    "\n",
    "1. 将A1.csv-A5.csv 读入合并，同一个股票合并为一行。注意，这些表格中都有相同的代码和名称列,可以用它们作为index。也可能有一些冗余的列和行，对数据进行清理。\n",
    "2. 按\"细分行业\" 将资产分组 \n",
    "   +  统计平均市盈率，平均价格；\n",
    "   + 用总资产作权重，计算加权市盈率和加权平均价格；\n",
    "   + 用流通市值作权重，计算加权市盈率和加权平均价格；\n",
    "3. 按\"地区\" 将资产分组，重新计算2中问题\n",
    "4. 将上述计算结果合并后存为csv文件。\n"
   ]
  },
  {
   "cell_type": "code",
   "execution_count": 51,
   "id": "6fdb448d",
   "metadata": {},
   "outputs": [],
   "source": [
    "import os\n",
    "import sys\n",
    "\n",
    "import numpy as np\n",
    "from numpy.random import randn\n",
    "from pandas import Series, DataFrame\n",
    "import pandas as pd\n",
    "import matplotlib.pyplot as plt\n",
    "\n",
    "\n",
    "np.random.seed(12345)\n",
    "plt.rc('figure', figsize=(10, 6))\n",
    "np.set_printoptions(precision=4)"
   ]
  },
  {
   "cell_type": "markdown",
   "id": "8d1fc3ec",
   "metadata": {},
   "source": [
    "## Numpy 第一题\n",
    "给定一个二维数组，每行是一个向量。找出所有不同的行。\n",
    "比如： \n",
    "\n",
    "```x = np.array([[1., 2., 3.], [4., 5., 6.],[1., 2., 3.], [4., 5., 6.]]),则\n",
    "x[:2]，即x的第0,1行，array([[ 1.,  2.,  3.],[ 4.,  5.,  6.]])就是要找到行。\n",
    "```\n",
    "\n",
    "备注：请不要直接调用numpy.unique"
   ]
  },
  {
   "cell_type": "code",
   "execution_count": 2,
   "id": "6f744e6a",
   "metadata": {},
   "outputs": [],
   "source": [
    "import numpy as np\n",
    "def find(arr):\n",
    "    length=len(arr.shape)\n",
    "    if length==1:\n",
    "        print('The array only has one row.')\n",
    "        return arr\n",
    "    m=arr.shape[0]\n",
    "    remark=np.zeros((m,1))\n",
    "    for i in range(0,m):\n",
    "        for j in range(0,m):\n",
    "            if np.all(arr[i]==arr[j]):\n",
    "                remark[i]+=1\n",
    "    output=[]\n",
    "    for i in range(0,m):\n",
    "        if remark[i]==1:\n",
    "            output.append(arr[i])\n",
    "    return np.array(output)"
   ]
  },
  {
   "cell_type": "code",
   "execution_count": 3,
   "id": "131c4650",
   "metadata": {},
   "outputs": [
    {
     "name": "stdout",
     "output_type": "stream",
     "text": [
      "The array only has one row.\n",
      "[ 0  1  2  3  4  5  6  7  8  9 10 11 12 13 14] \n",
      "\n",
      "[[ 0  1  2]\n",
      " [ 3  4  5]\n",
      " [ 6  7  8]\n",
      " [ 9 10 11]\n",
      " [12 13 14]] \n",
      "\n",
      "[[4 5 6]]\n"
     ]
    }
   ],
   "source": [
    "#测试\n",
    "arr1=np.array(range(0,15))\n",
    "print(find(arr1),'\\n')\n",
    "arr2=np.array(range(0,15)).reshape((5,3))\n",
    "print(find(arr2),'\\n')\n",
    "arr3=np.array([[1,2,3],[4,5,6],[1,2,3]])\n",
    "print(find(arr3))"
   ]
  },
  {
   "cell_type": "markdown",
   "id": "a4f6a464",
   "metadata": {},
   "source": [
    "## Numpy 第二题\n",
    "a).产生正态数据数据向量 Z,长度为T， 建立一个二维数组，使其第一行为 (Z[0],Z[1],Z[2])，然后每一行都后移一位 （因此最后一行为 (Z[T-3],Z[T-2],Z[T-1] );b). 计算每列数据的样本均值，方差，各列之间的协方差。"
   ]
  },
  {
   "cell_type": "code",
   "execution_count": 4,
   "id": "153c4d24",
   "metadata": {},
   "outputs": [],
   "source": [
    "import numpy as np\n",
    "def solve1(T):\n",
    "    arr=np.random.randn(T)\n",
    "    output=np.zeros((T-2,3))\n",
    "    for i in range(0,T-3):\n",
    "        output[i,0]=arr[i]\n",
    "        output[i,1]=arr[i+1]\n",
    "        output[i,2]=arr[i+2]\n",
    "    print('所求的二维数组是：\\n',output,'\\n')\n",
    "    print('每列数据的样本均值是\\n',np.mean(output,axis=0),'\\n\\n')\n",
    "    print('每列数据的样本方差是\\n',np.var(output,axis=0),'\\n\\n')\n",
    "    print('每列数据的样本协方差是\\n',np.cov(output,rowvar=False))\n",
    "    return "
   ]
  },
  {
   "cell_type": "code",
   "execution_count": 5,
   "id": "afd48e0b",
   "metadata": {},
   "outputs": [
    {
     "name": "stdout",
     "output_type": "stream",
     "text": [
      "所求的二维数组是：\n",
      " [[-0.2047  0.4789 -0.5194]\n",
      " [ 0.4789 -0.5194 -0.5557]\n",
      " [-0.5194 -0.5557  1.9658]\n",
      " [-0.5557  1.9658  1.3934]\n",
      " [ 1.9658  1.3934  0.0929]\n",
      " [ 1.3934  0.0929  0.2817]\n",
      " [ 0.0929  0.2817  0.769 ]\n",
      " [ 0.2817  0.769   1.2464]\n",
      " [ 0.769   1.2464  1.0072]\n",
      " [ 1.2464  1.0072 -1.2962]\n",
      " [ 1.0072 -1.2962  0.275 ]\n",
      " [-1.2962  0.275   0.2289]\n",
      " [ 0.      0.      0.    ]] \n",
      "\n",
      "每列数据的样本均值是\n",
      " [0.3584 0.3953 0.3761] \n",
      "\n",
      "\n",
      "每列数据的样本方差是\n",
      " [0.7626 0.7374 0.7386] \n",
      "\n",
      "\n",
      "每列数据的样本协方差是\n",
      " [[ 0.8261  0.0559 -0.2975]\n",
      " [ 0.0559  0.7988  0.0618]\n",
      " [-0.2975  0.0618  0.8001]]\n"
     ]
    }
   ],
   "source": [
    "#测试\n",
    "solve1(15)"
   ]
  },
  {
   "cell_type": "markdown",
   "id": "6e8746e0",
   "metadata": {},
   "source": [
    "## Numpy 第三题\n",
    "a). 随机生成一个1000行50列二维数组，每个元素等概率取值0，1，2，并将该数组按第1列递增和第2列递减对每行排序，即先按第一列递增排序，然后在第一列每组中， 按第二列递减排序。 b). 编一个函数sortbycols(data,cols,descending)，实现行排序。给定参数 data是二维数值，cols是数或list,给出需要排序的列，descending是布尔值或布尔向量，如果是一个布尔值，则所有列都按该顺序排，如果descending是和cols等长的list，则各列按descending给定的顺序排。"
   ]
  },
  {
   "cell_type": "markdown",
   "id": "828861e7",
   "metadata": {},
   "source": [
    "a). 随机生成一个1000行50列二维数组，每个元素等概率取值0，1，2，并将该数组按第1列递增和第2列递减对每行排序，即先按第一列递增排序，然后在第一列每组中， 按第二列递减排序。"
   ]
  },
  {
   "cell_type": "markdown",
   "id": "d5f3072d",
   "metadata": {},
   "source": [
    "+ Solution1：这里理解为对第一列或者第二列进行排序的时候，其他的元素不会动"
   ]
  },
  {
   "cell_type": "code",
   "execution_count": 6,
   "id": "eebb42e4",
   "metadata": {},
   "outputs": [
    {
     "name": "stdout",
     "output_type": "stream",
     "text": [
      "[[0 2 1 ... 0 0 1]\n",
      " [0 2 2 ... 2 0 1]\n",
      " [0 2 1 ... 1 0 2]\n",
      " ...\n",
      " [2 0 1 ... 1 2 0]\n",
      " [2 0 2 ... 2 2 1]\n",
      " [2 0 0 ... 2 1 1]]\n"
     ]
    }
   ],
   "source": [
    "#Solution1：这里理解为对第一列或者第二列进行排序的时候，其他的元素不会动\n",
    "import numpy as np\n",
    "arr=np.random.choice([0,1,2],size=(1000,50))\n",
    "arr[:,0]=np.sort(arr[:,0])#对第一列进行递增排序\n",
    "i=0\n",
    "while i<=999:\n",
    "    start,end=0,0\n",
    "    if arr[i][0]==1:\n",
    "        end=i-1\n",
    "        arr[start:end,1]=np.sort(arr[start:end,1])[::-1]#对第一列是0的行的第二列进行递减排序\n",
    "        start=i\n",
    "    if arr[i][0]==2:\n",
    "        end=i-1\n",
    "        arr[start:end,1]=np.sort(arr[start:end,1])[::-1]#对第一列是1的行的第二列进行递减排序\n",
    "        start=i\n",
    "        arr[start:,1]=np.sort(arr[start:,1])[::-1]#对第一列是2的行的第二列进行递减排序\n",
    "    i=i+1\n",
    "print(arr)"
   ]
  },
  {
   "cell_type": "markdown",
   "id": "863395c6",
   "metadata": {},
   "source": [
    "+ Solution2:理解为单一列进行排序的时候，同一行的元素相对位置不变"
   ]
  },
  {
   "cell_type": "code",
   "execution_count": 7,
   "id": "e1cd874a",
   "metadata": {},
   "outputs": [],
   "source": [
    "#Solution2:理解为单一列进行排序的时候，同一行的元素相对位置不变\n",
    "import numpy as np\n",
    "import copy\n",
    "\n",
    "def sort1(a,col):\n",
    "    \"\"\" 输入一个二维数组a，对col列进行递增排序，同一行元素相对位置不变，返回排序之后的二维数组\"\"\"\n",
    "    arr=copy.deepcopy(a)[:,col]#深度拷贝，取出第col列\n",
    "    if len(a.shape)==1:\n",
    "        return a\n",
    "    #用最简单的冒泡排序就行了,但是为了节约时间，我们可以只记住行号，最后集合到一起返回\n",
    "    m=a.shape[0]\n",
    "    index=np.array(range(0,m))\n",
    "    i=0\n",
    "    while i<m-1:\n",
    "        j=0\n",
    "        while j<m-1-i:\n",
    "            if arr[j]>arr[j+1]:\n",
    "                arr[j],arr[j+1]=arr[j+1],arr[j]\n",
    "                index[j],index[j+1]=index[j+1],index[j]###核心目的是为了确定行是怎么变的\n",
    "            j=j+1\n",
    "        i=i+1\n",
    "    output=[]\n",
    "    for i in index:\n",
    "        output.append(a[i])\n",
    "    return np.array(output)\n",
    "\n",
    "def sort2(a,col):\n",
    "    \"\"\" 输入一个二维数组a，对col列进行递减排序，同一行元素相对位置不变，返回排序之后的二维数组\"\"\"\n",
    "    arr=copy.deepcopy(a)[:,col]#深度拷贝，取出第col列\n",
    "    if len(a.shape)==1:\n",
    "        return a\n",
    "    #用最简单的冒泡排序就行了,但是为了节约时间，我们可以只记住行号，最后集合到一起返回\n",
    "    m=a.shape[0]\n",
    "    index=np.array(range(0,m))\n",
    "    i=0\n",
    "    while i<m-1:\n",
    "        j=0\n",
    "        while j<m-1-i:\n",
    "            if arr[j]<arr[j+1]:\n",
    "                arr[j],arr[j+1]=arr[j+1],arr[j]\n",
    "                index[j],index[j+1]=index[j+1],index[j]###核心目的是为了确是行是怎么变的\n",
    "            j=j+1\n",
    "        i=i+1\n",
    "    output=[]\n",
    "    for i in index:\n",
    "        output.append(a[i])\n",
    "    return np.array(output)"
   ]
  },
  {
   "cell_type": "code",
   "execution_count": null,
   "id": "de75e3eb",
   "metadata": {},
   "outputs": [],
   "source": [
    "import numpy as np\n",
    "arr=np.random.choice([0,1,2],size=(1000,50))\n",
    "arr=sort1(arr,0)#对第一列进行递增排序\n",
    "i=0\n",
    "while i<=999:\n",
    "    start,end=0,0\n",
    "    if arr[i][0]==1:\n",
    "        end=i-1\n",
    "        arr[start:end,:]=sort2(arr[start:end,:],1)#对第一列是0的行的第二列进行递减排序\n",
    "        start=i\n",
    "    if arr[i][0]==2:\n",
    "        end=i-1\n",
    "        arr[start:end,:]=sort2(arr[start:end,:],1)#对第一列是1的行的第二列进行递减排序\n",
    "        start=i\n",
    "        arr[start:,:]=sort2(arr[start:,:],1)#对第一列是2的行的第二列进行递减排序\n",
    "    i=i+1\n",
    "print(arr)"
   ]
  },
  {
   "cell_type": "markdown",
   "id": "14f40be7",
   "metadata": {},
   "source": [
    "b). 编一个函数sortbycols(data,cols,descending)，实现行排序。给定参数 data是二维数值，cols是数或list,给出需要排序的列，descending是布尔值或布尔向量，如果是一个布尔值，则所有列都按该顺序排，如果descending是和cols等长的list，则各列按descending给定的顺序排。"
   ]
  },
  {
   "cell_type": "code",
   "execution_count": 19,
   "id": "8643ad3c",
   "metadata": {},
   "outputs": [],
   "source": [
    "import numpy as np\n",
    "def sortbycols(data,cols,descending):\n",
    "    \"\"\" data是一个二维数组，cols是数或者list，给出的是需要排序的列，descending是布尔值或布尔向量，如果是一个布尔值，则所有列都按照该顺序排序，如果descending是和cols等长的list，则各列按descending给定的顺序排 \"\"\"\n",
    "    if isinstance(descending,bool):#是bool型\n",
    "        if isinstance(cols,int):#只是一列\n",
    "            if descending:\n",
    "                data[:,cols]=np.sort(data[:,cols])[::-1]\n",
    "            else:\n",
    "                data[:,cols]=np.sort(data[:,cols])\n",
    "            return data\n",
    "        else:#有很多列\n",
    "            for i in cols:\n",
    "                if descending:\n",
    "                    data[:,i]=np.sort(data[:,i])[::-1]\n",
    "                else:\n",
    "                    data[:,i]=np.sort(data[:,i])\n",
    "            return data\n",
    "    else:#是bool向量\n",
    "        for i,j in zip(cols,descending):\n",
    "            if j:\n",
    "                data[:,i]=np.sort(data[:,i])[::-1]\n",
    "            else:\n",
    "                data[:,i]=np.sort(data[:,i])\n",
    "        return data"
   ]
  },
  {
   "cell_type": "code",
   "execution_count": 23,
   "id": "2c241ea0",
   "metadata": {},
   "outputs": [
    {
     "name": "stdout",
     "output_type": "stream",
     "text": [
      "[[ 1  2  3]\n",
      " [ 0 -2  8]\n",
      " [ 9  9  9]\n",
      " [-5  0  6]] \n",
      "\n",
      "[[ 9 -2  3]\n",
      " [ 1  0  8]\n",
      " [ 0  2  9]\n",
      " [-5  9  6]]\n"
     ]
    }
   ],
   "source": [
    "#test\n",
    "a=np.array([[1,2,3],[0,-2,8],[9,9,9],[-5,0,6]])\n",
    "print(a,'\\n')\n",
    "print(sortbycols(a,[0,1],[True,False]))"
   ]
  },
  {
   "cell_type": "markdown",
   "id": "51afd423",
   "metadata": {},
   "source": [
    "## Numpy 第四题\n",
    "熟悉学习numpy中的现金流函数, np.pv,np.fv,np.nper,np.pmt,np.rate, 然后编制一个函数，计算给定现金流(array)，利率(array),任意时刻(t)的现金价值。"
   ]
  },
  {
   "cell_type": "markdown",
   "id": "4e84cf9e",
   "metadata": {},
   "source": [
    "需要下载 numpy_financial 包\n",
    "> pip install numpy_financial"
   ]
  },
  {
   "cell_type": "code",
   "execution_count": 3,
   "id": "89254d96",
   "metadata": {},
   "outputs": [],
   "source": [
    "import numpy_financial as npf"
   ]
  },
  {
   "cell_type": "code",
   "execution_count": null,
   "id": "e37d8d9b",
   "metadata": {},
   "outputs": [],
   "source": [
    "?npf.pv\n",
    "#present value\n",
    "#npf.pv(rate, nper, pmt, fv=0, when='end')"
   ]
  },
  {
   "cell_type": "code",
   "execution_count": null,
   "id": "6ccd4a89",
   "metadata": {},
   "outputs": [],
   "source": [
    "?npf.fv\n",
    "#future value\n",
    "#npf.fv(rate, nper, pmt, pv, when='end')"
   ]
  },
  {
   "cell_type": "code",
   "execution_count": null,
   "id": "88cfb7bf",
   "metadata": {},
   "outputs": [],
   "source": [
    "?npf.nper\n",
    "#periodic payments\n",
    "#npf.nper(rate, pmt, pv, fv=0, when='end')"
   ]
  },
  {
   "cell_type": "code",
   "execution_count": null,
   "id": "ae287c33",
   "metadata": {},
   "outputs": [],
   "source": [
    "?npf.pmt\n",
    "#payment\n",
    "#npf.pmt(rate, nper, pv, fv=0, when='end')"
   ]
  },
  {
   "cell_type": "code",
   "execution_count": null,
   "id": "e164d305",
   "metadata": {},
   "outputs": [],
   "source": [
    "?npf.rate\n",
    "#Compute the rate of interest per period.\n",
    "#npf.rate(nper, pmt, pv, fv, when='end', guess=None, tol=None, maxiter=100)"
   ]
  },
  {
   "cell_type": "code",
   "execution_count": null,
   "id": "7886b03b",
   "metadata": {},
   "outputs": [],
   "source": [
    "def solution(a,b,t):\n",
    "    \"\"\"\n",
    "    计算给定现金流(array)，利率(array),任意时刻(t)的现金价值\n",
    "    现金流:a, 利率:b, 时刻t\n",
    "    \"\"\"\n",
    "    "
   ]
  },
  {
   "cell_type": "markdown",
   "id": "37a017c8",
   "metadata": {},
   "source": [
    "## Numpy 第五题\n",
    "有一个列表X,里面的元素可能是数，包含数的list,或者数值型np.array。请编一个函数把它转换为一维np.array数据。 比如将X=[[1,[2,[4,9]]],np.array([[1,2],[3,4]])]转换为：np.array([1,2,4,9,,1,2,3,4])。注意，列表X的嵌套层数可以是任意的"
   ]
  },
  {
   "cell_type": "code",
   "execution_count": 49,
   "id": "1b682145",
   "metadata": {},
   "outputs": [],
   "source": [
    "def solution(x):\n",
    "    \"\"\"\n",
    "    有一个列表X,里面的元素可能是数，包含数的list,或者数值型np.array。请编一个函数把它转换为一维np.array数据。 比如将X=[[1,[2,[4,9]]],np.array([[1,2],[3,4]])]转换为：np.array([1,2,4,9,,1,2,3,4])。注意，列表X的嵌套层数可以是任意的\n",
    "    \"\"\"\n",
    "    #使用递归或者循环，感觉有点像tree结构\n",
    "    if isinstance(x,np.ndarray):\n",
    "        return x.flatten()#使用flatten进行展平\n",
    "    elif isinstance(x,list):\n",
    "        output=[]\n",
    "        for i in x:\n",
    "            output.extend(solution(i))\n",
    "        return np.array(output)\n",
    "    else:#是数字\n",
    "        return np.array([x])"
   ]
  },
  {
   "cell_type": "code",
   "execution_count": 50,
   "id": "4ae118cd",
   "metadata": {},
   "outputs": [
    {
     "name": "stdout",
     "output_type": "stream",
     "text": [
      "[[1, [2, [4, 9]]], array([[1, 2],\n",
      "       [3, 4]])] \n",
      "\n"
     ]
    },
    {
     "data": {
      "text/plain": [
       "array([1, 2, 4, 9, 1, 2, 3, 4])"
      ]
     },
     "execution_count": 50,
     "metadata": {},
     "output_type": "execute_result"
    }
   ],
   "source": [
    "#test\n",
    "X=[[1,[2,[4,9]]],np.array([[1,2],[3,4]])]\n",
    "print(X,'\\n')\n",
    "solution(X)"
   ]
  },
  {
   "cell_type": "markdown",
   "id": "d348b165",
   "metadata": {},
   "source": [
    "## Pandas 第一题\n",
    "将A1.csv-A5.csv 读入合并，同一个股票合并为一行。注意，这些表格中都有相同的代码和名称列,可以用它们作为index。也可能有一些冗余的列和行，对数据进行清理。"
   ]
  },
  {
   "cell_type": "code",
   "execution_count": null,
   "id": "e160dd56",
   "metadata": {},
   "outputs": [],
   "source": [
    "import os\n",
    "import sys\n",
    "\n",
    "import numpy as np\n",
    "from numpy.random import randn\n",
    "from pandas import Series, DataFrame\n",
    "import pandas as pd\n",
    "import matplotlib.pyplot as plt"
   ]
  }
 ],
 "metadata": {
  "kernelspec": {
   "display_name": "Python 3 (ipykernel)",
   "language": "python",
   "name": "python3"
  },
  "language_info": {
   "codemirror_mode": {
    "name": "ipython",
    "version": 3
   },
   "file_extension": ".py",
   "mimetype": "text/x-python",
   "name": "python",
   "nbconvert_exporter": "python",
   "pygments_lexer": "ipython3",
   "version": "3.11.4"
  }
 },
 "nbformat": 4,
 "nbformat_minor": 5
}
