{
 "cells": [
  {
   "cell_type": "markdown",
   "metadata": {
    "slideshow": {
     "slide_type": "slide"
    }
   },
   "source": [
    "# 收益率和指数的计算\n",
    "\n",
    "\n",
    "+ 具体计算的方法我们在第五讲  和第六讲中都有所涉及，这里再重温这些技术细节并介绍一些更详细的内容。\n",
    "\n",
    "+ 在金融市场中，收益率是用来衡量投资收益的最重要的指标。收益率越高，说明每单位本金的投资获得的收益越高。\n",
    "\n",
    "+ 需要注意，虽然严格的收益率计算和时间有关，我们通常会进行时间处理，比如做年化处理。不过如果分析数据的目的是发现数据中的规律，比如发现高收益策略，则收益率的计算只要保持一致就行，不一定需要进行时间的换算。"
   ]
  },
  {
   "cell_type": "markdown",
   "metadata": {
    "slideshow": {
     "slide_type": "slide"
    }
   },
   "source": [
    "+ 实际的宏观经济或金融市场都特别复杂，常常需要发展一些指数来描述经济或市场的现状。比方大家熟悉的CPI，GDP, 上证指数等等，都为我们从不同角度了解经济或金融市场提供一种简单的途径。\n",
    "\n",
    "+ 这一讲主要介绍金融市场中证券收益率以及各种指数的计算和展示。\n",
    "\n",
    "+ 首先我们介绍收益率及其计算。 "
   ]
  },
  {
   "cell_type": "markdown",
   "metadata": {
    "slideshow": {
     "slide_type": "slide"
    }
   },
   "source": [
    "## 收益率\n",
    "\n",
    "### 净收益率(net returns)\n",
    "\n",
    "$P_t$表示$t$ 时刻资产的价格，如果期间没有**股息**收入，则从$t-1$ 时刻持有到$t$ 时刻，投资者获得的净收益率为：\n",
    "\n",
    "$${R_t} = \\frac{{{P_t}}}{{{P_{t - 1}}}} - 1 = \\frac{{{P_t} - {P_{t - 1}}}}{{{P_{t - 1}}}}$$\n",
    "\n",
    "其中${P_t} - P_{t - 1}$ 表示投资者在持有期所获得的利润，如果其为负值在表示在期间投资者亏损了。 $P_{t - 1}$ 表示持有期的初始投资。因此，简单收益率实际是刻画相对利润。 并且，持有某项资产获得的利润可以表示为\n",
    "\n",
    "                                      利润=初始投资 × 净收益率\n",
    "\n",
    "比如，初始投资为10000元，净收益率为10%，在期间利润为1000元。"
   ]
  },
  {
   "cell_type": "markdown",
   "metadata": {
    "slideshow": {
     "slide_type": "slide"
    }
   },
   "source": [
    "###  连续复合收益率（continuously compounded returns）也称 对数收益率(log returns)\n",
    "\n",
    "定义如下：\n",
    "  \n",
    "  $${r_t} = \\ln \\left( {1 + {R_t}} \\right) = \\ln \\left( {\\frac{{{P_t}}}{{{P_{t - 1}}}}} \\right) = \\ln({P_t}) -\\ln({P_{t - 1}}) = {p_t} - {p_{t - 1}}$$\n",
    "  \n",
    "  其中$p_t=\\ln (P_t)$ 被称为对数价格。\n",
    "  "
   ]
  },
  {
   "cell_type": "markdown",
   "metadata": {
    "slideshow": {
     "slide_type": "slide"
    }
   },
   "source": [
    "  在金融数据分析中，我们**常常用对数收益率代替收益率(投资组合风险除外)**，则有几个原因。\n",
    "  \n",
    " 1. 在通常情形下，简单收益率和对数收益率差别不大。\n",
    " 2. 对数收益率有一些比较易于分析的条件。比如，取值范围，分布假设，我们会在后面做进一步的分析。\n",
    " "
   ]
  },
  {
   "cell_type": "markdown",
   "metadata": {
    "slideshow": {
     "slide_type": "slide"
    }
   },
   "source": [
    "下面先看看简单收益率和对数收益率在相同情况下的差距。\n",
    "\n",
    "通常我们知道 两者有如下关系：\n",
    "\n",
    "$$r_t=\\ln(1+R_t)$$"
   ]
  },
  {
   "cell_type": "markdown",
   "metadata": {
    "slideshow": {
     "slide_type": "slide"
    }
   },
   "source": [
    "我们计算净收益率从-20%到20%时两者差距。其中注意python中的map和plot用法。"
   ]
  },
  {
   "cell_type": "code",
   "execution_count": 1,
   "metadata": {
    "slideshow": {
     "slide_type": "-"
    }
   },
   "outputs": [
    {
     "data": {
      "text/html": [
       "<div>\n",
       "<style scoped>\n",
       "    .dataframe tbody tr th:only-of-type {\n",
       "        vertical-align: middle;\n",
       "    }\n",
       "\n",
       "    .dataframe tbody tr th {\n",
       "        vertical-align: top;\n",
       "    }\n",
       "\n",
       "    .dataframe thead th {\n",
       "        text-align: right;\n",
       "    }\n",
       "</style>\n",
       "<table border=\"1\" class=\"dataframe\">\n",
       "  <thead>\n",
       "    <tr style=\"text-align: right;\">\n",
       "      <th></th>\n",
       "      <th>-0.20</th>\n",
       "      <th>-0.12</th>\n",
       "      <th>-0.04</th>\n",
       "      <th>0.04</th>\n",
       "      <th>0.12</th>\n",
       "      <th>0.20</th>\n",
       "    </tr>\n",
       "  </thead>\n",
       "  <tbody>\n",
       "    <tr>\n",
       "      <th>SimpleRet</th>\n",
       "      <td>-0.200000</td>\n",
       "      <td>-0.120000</td>\n",
       "      <td>-0.040000</td>\n",
       "      <td>0.040000</td>\n",
       "      <td>0.120000</td>\n",
       "      <td>0.200000</td>\n",
       "    </tr>\n",
       "    <tr>\n",
       "      <th>LogRet</th>\n",
       "      <td>-0.223144</td>\n",
       "      <td>-0.127833</td>\n",
       "      <td>-0.040822</td>\n",
       "      <td>0.039221</td>\n",
       "      <td>0.113329</td>\n",
       "      <td>0.182322</td>\n",
       "    </tr>\n",
       "    <tr>\n",
       "      <th>Diff</th>\n",
       "      <td>0.023144</td>\n",
       "      <td>0.007833</td>\n",
       "      <td>0.000822</td>\n",
       "      <td>0.000779</td>\n",
       "      <td>0.006671</td>\n",
       "      <td>0.017678</td>\n",
       "    </tr>\n",
       "  </tbody>\n",
       "</table>\n",
       "</div>"
      ],
      "text/plain": [
       "              -0.20     -0.12     -0.04      0.04      0.12      0.20\n",
       "SimpleRet -0.200000 -0.120000 -0.040000  0.040000  0.120000  0.200000\n",
       "LogRet    -0.223144 -0.127833 -0.040822  0.039221  0.113329  0.182322\n",
       "Diff       0.023144  0.007833  0.000822  0.000779  0.006671  0.017678"
      ]
     },
     "execution_count": 1,
     "metadata": {},
     "output_type": "execute_result"
    }
   ],
   "source": [
    "import numpy as np\n",
    "import pandas as pd\n",
    "R=np.arange(-0.2,0.21,0.02)\n",
    "r=np.log(1+R);Rrdiff=R-r\n",
    "res=[R,r,Rrdiff]\n",
    "res=pd.DataFrame(res,index=[\"SimpleRet\",\"LogRet\",\"Diff\"],columns=R.round(2))\n",
    "res[res.columns[np.arange(0,21,4)]] "
   ]
  },
  {
   "cell_type": "code",
   "execution_count": 2,
   "metadata": {
    "slideshow": {
     "slide_type": "slide"
    }
   },
   "outputs": [
    {
     "data": {
      "text/plain": [
       "<Axes: >"
      ]
     },
     "execution_count": 2,
     "metadata": {},
     "output_type": "execute_result"
    },
    {
     "data": {
      "image/png": "[encoded data removed]",
      "text/plain": [
       "<Figure size 640x480 with 1 Axes>"
      ]
     },
     "metadata": {},
     "output_type": "display_data"
    }
   ],
   "source": [
    "%matplotlib inline \n",
    "res.T.plot()"
   ]
  },
  {
   "cell_type": "markdown",
   "metadata": {
    "slideshow": {
     "slide_type": "-"
    }
   },
   "source": [
    "+ 注意这里DataFrame数据的plot方法以index为三个曲线共同的横坐标"
   ]
  },
  {
   "cell_type": "markdown",
   "metadata": {
    "slideshow": {
     "slide_type": "slide"
    }
   },
   "source": [
    "### 不同频率的收益率计算。\n",
    "\n",
    "+ 计算资产收益率有不同的类型，比如分析高频数据时，我们可能需要计算１分钟、５分钟、１０分钟、１５分钟、半小时等不同市场的收益率。\n",
    "+ 在分析较长期的数据时，我们可能会关注日收益率、周收益率、月收益率、季度收益率、年收益率等。\n",
    "+ 通常我们能得到的数据是分时数据（比如ｓｉｎａ的每五秒的汇总数据），或者日线数据。我们需要从这些类型的数据来计算自己需要的收益率。"
   ]
  },
  {
   "cell_type": "markdown",
   "metadata": {
    "slideshow": {
     "slide_type": "slide"
    }
   },
   "source": [
    "利用时间序列 中的resample函数就可以得到相应的收益率。\n",
    "\n",
    "1. 如果从价格数据计算收益率，我们可以直接取出相应频率的数据进行然后在进行收益率计算。\n",
    "2. 如果从收益率数据出发，则需要讨论收益率的类型。当收益率为对数收益率时，问题比较简单，只需要利用resample函数同时进行取样和汇总(sum)即可.\n",
    "+ 在给出代码示例之前，我们稍微分析一下第2点。"
   ]
  },
  {
   "cell_type": "markdown",
   "metadata": {
    "slideshow": {
     "slide_type": "slide"
    }
   },
   "source": [
    "+ 对于对数收益率，我们有结论：\n",
    "\n",
    "**多期对数收益率是单期对数收益率之和**\n",
    "\n",
    "+ 设$r_t,R_t$为$t-1$时刻到$t$时刻对数收益率和简单收益率，$r_t(k),R_t(k)$为$t-k$时刻到$t$时刻对数收益率和简单收益率，则\n",
    "\n",
    "$\\begin{array}{rl}\n",
    "{r_t}\\left( k \\right) &= \\log \\left( {1 + {R_t}\\left( k \\right)} \\right)\\\\\n",
    " &= \\log \\left\\{ {\\left( {1 + {R_t}} \\right) \\cdots \\left( {1 + {R_{t - k + 1}}} \\right)} \\right\\}\\\\\n",
    " &= \\log \\left( {1 + {R_t}} \\right) +  \\cdots  + \\log \\left( {1 + {R_{t - k + 1}}} \\right)\\\\\n",
    " &= {r_t} + {t_{t - 1}} +  \\cdots  + {r_{t - k + 1.}}\n",
    "\\end{array}$"
   ]
  },
  {
   "cell_type": "markdown",
   "metadata": {
    "collapsed": true,
    "slideshow": {
     "slide_type": "subslide"
    }
   },
   "source": [
    "+ 显然，多期简单收益率和单期简单收益率的关系为：\n",
    "\n",
    " $$ {1 + {R_t}\\left( k \\right)}  =  \\left( {1 + {R_t}} \\right) \\cdots\\left( {1 + {R_{t - k + 1}}} \\right)$$\n",
    " \n",
    "+ 下面我们计算一下"
   ]
  },
  {
   "cell_type": "code",
   "execution_count": 3,
   "metadata": {},
   "outputs": [
    {
     "data": {
      "text/plain": [
       "0.9043820750088055"
      ]
     },
     "execution_count": 3,
     "metadata": {},
     "output_type": "execute_result"
    }
   ],
   "source": [
    "((1+0.1)**10)*((1-0.1)**10)"
   ]
  },
  {
   "cell_type": "code",
   "execution_count": 4,
   "metadata": {
    "slideshow": {
     "slide_type": "slide"
    }
   },
   "outputs": [
    {
     "name": "stdout",
     "output_type": "stream",
     "text": [
      "D:\\teaching\\金融数据分析datafin\\data\n"
     ]
    }
   ],
   "source": [
    "%cd C:\\Users\\16017\\Desktop\\Dropbox\\金融数据分析导引\\Guide_to_financial_data_analysis\\Lectures\\Lecture7\n",
    "HighF=pd.read_csv(\"highf.csv\",encoding=\"gbk\",index_col=1,parse_dates=True)##经常使用，encoding='gbk', index_col=1 第二例作为index, parse_dates=True 要去解析时间\n",
    "HighF=HighF.iloc[range(len(HighF)-1,-1,-1)]#倒序，因为最新的数据在最后\n",
    "Hprice=HighF[\"price\"]\n",
    "\n",
    "Shindex=pd.read_csv(\"000001.SH.csv\",index_col=0,parse_dates=True)\n",
    "Dprice=Shindex[\"CLOSE\"]"
   ]
  },
  {
   "cell_type": "code",
   "execution_count": 5,
   "metadata": {
    "scrolled": true,
    "slideshow": {
     "slide_type": "slide"
    }
   },
   "outputs": [
    {
     "data": {
      "text/html": [
       "<div>\n",
       "<style scoped>\n",
       "    .dataframe tbody tr th:only-of-type {\n",
       "        vertical-align: middle;\n",
       "    }\n",
       "\n",
       "    .dataframe tbody tr th {\n",
       "        vertical-align: top;\n",
       "    }\n",
       "\n",
       "    .dataframe thead th {\n",
       "        text-align: right;\n",
       "    }\n",
       "</style>\n",
       "<table border=\"1\" class=\"dataframe\">\n",
       "  <thead>\n",
       "    <tr style=\"text-align: right;\">\n",
       "      <th></th>\n",
       "      <th>Unnamed: 0</th>\n",
       "      <th>price</th>\n",
       "      <th>change</th>\n",
       "      <th>vol</th>\n",
       "      <th>amount</th>\n",
       "      <th>bid</th>\n",
       "    </tr>\n",
       "    <tr>\n",
       "      <th>date</th>\n",
       "      <th></th>\n",
       "      <th></th>\n",
       "      <th></th>\n",
       "      <th></th>\n",
       "      <th></th>\n",
       "      <th></th>\n",
       "    </tr>\n",
       "  </thead>\n",
       "  <tbody>\n",
       "    <tr>\n",
       "      <th>2022-08-18 09:25:07</th>\n",
       "      <td>2542</td>\n",
       "      <td>4.46</td>\n",
       "      <td>4.46</td>\n",
       "      <td>25902</td>\n",
       "      <td>11552439</td>\n",
       "      <td>买盘</td>\n",
       "    </tr>\n",
       "    <tr>\n",
       "      <th>2022-08-18 09:30:03</th>\n",
       "      <td>2541</td>\n",
       "      <td>4.46</td>\n",
       "      <td>NaN</td>\n",
       "      <td>3895</td>\n",
       "      <td>1737468</td>\n",
       "      <td>卖盘</td>\n",
       "    </tr>\n",
       "    <tr>\n",
       "      <th>2022-08-18 09:30:08</th>\n",
       "      <td>2540</td>\n",
       "      <td>4.46</td>\n",
       "      <td>NaN</td>\n",
       "      <td>15274</td>\n",
       "      <td>6812204</td>\n",
       "      <td>买盘</td>\n",
       "    </tr>\n",
       "    <tr>\n",
       "      <th>2022-08-18 09:30:18</th>\n",
       "      <td>2539</td>\n",
       "      <td>4.46</td>\n",
       "      <td>NaN</td>\n",
       "      <td>21353</td>\n",
       "      <td>9523438</td>\n",
       "      <td>买盘</td>\n",
       "    </tr>\n",
       "    <tr>\n",
       "      <th>2022-08-18 09:30:18</th>\n",
       "      <td>2538</td>\n",
       "      <td>4.45</td>\n",
       "      <td>-0.01</td>\n",
       "      <td>3209</td>\n",
       "      <td>1428005</td>\n",
       "      <td>卖盘</td>\n",
       "    </tr>\n",
       "  </tbody>\n",
       "</table>\n",
       "</div>"
      ],
      "text/plain": [
       "                     Unnamed: 0  price  change    vol    amount bid\n",
       "date                                                               \n",
       "2022-08-18 09:25:07        2542   4.46    4.46  25902  11552439  买盘\n",
       "2022-08-18 09:30:03        2541   4.46     NaN   3895   1737468  卖盘\n",
       "2022-08-18 09:30:08        2540   4.46     NaN  15274   6812204  买盘\n",
       "2022-08-18 09:30:18        2539   4.46     NaN  21353   9523438  买盘\n",
       "2022-08-18 09:30:18        2538   4.45   -0.01   3209   1428005  卖盘"
      ]
     },
     "execution_count": 5,
     "metadata": {},
     "output_type": "execute_result"
    }
   ],
   "source": [
    "HighF.iloc[:5]#NaN应该是0，价格没有变化\n",
    "#买卖盘：主买还是主卖\n",
    "#最后一笔是买还是卖？"
   ]
  },
  {
   "cell_type": "code",
   "execution_count": 6,
   "metadata": {
    "scrolled": true,
    "slideshow": {
     "slide_type": "slide"
    }
   },
   "outputs": [
    {
     "data": {
      "text/html": [
       "<div>\n",
       "<style scoped>\n",
       "    .dataframe tbody tr th:only-of-type {\n",
       "        vertical-align: middle;\n",
       "    }\n",
       "\n",
       "    .dataframe tbody tr th {\n",
       "        vertical-align: top;\n",
       "    }\n",
       "\n",
       "    .dataframe thead th {\n",
       "        text-align: right;\n",
       "    }\n",
       "</style>\n",
       "<table border=\"1\" class=\"dataframe\">\n",
       "  <thead>\n",
       "    <tr style=\"text-align: right;\">\n",
       "      <th></th>\n",
       "      <th>OPEN</th>\n",
       "      <th>HIGH</th>\n",
       "      <th>LOW</th>\n",
       "      <th>CLOSE</th>\n",
       "      <th>VOLUME</th>\n",
       "    </tr>\n",
       "  </thead>\n",
       "  <tbody>\n",
       "    <tr>\n",
       "      <th>1990-12-19</th>\n",
       "      <td>96.05</td>\n",
       "      <td>100.00</td>\n",
       "      <td>95.79</td>\n",
       "      <td>100.00</td>\n",
       "      <td>126000.0</td>\n",
       "    </tr>\n",
       "    <tr>\n",
       "      <th>1990-12-20</th>\n",
       "      <td>104.30</td>\n",
       "      <td>104.39</td>\n",
       "      <td>99.98</td>\n",
       "      <td>104.39</td>\n",
       "      <td>19700.0</td>\n",
       "    </tr>\n",
       "    <tr>\n",
       "      <th>1990-12-21</th>\n",
       "      <td>109.07</td>\n",
       "      <td>109.13</td>\n",
       "      <td>103.73</td>\n",
       "      <td>109.13</td>\n",
       "      <td>2800.0</td>\n",
       "    </tr>\n",
       "    <tr>\n",
       "      <th>1990-12-24</th>\n",
       "      <td>113.57</td>\n",
       "      <td>114.55</td>\n",
       "      <td>109.13</td>\n",
       "      <td>114.55</td>\n",
       "      <td>3200.0</td>\n",
       "    </tr>\n",
       "    <tr>\n",
       "      <th>1990-12-25</th>\n",
       "      <td>120.09</td>\n",
       "      <td>120.25</td>\n",
       "      <td>114.55</td>\n",
       "      <td>120.25</td>\n",
       "      <td>1500.0</td>\n",
       "    </tr>\n",
       "  </tbody>\n",
       "</table>\n",
       "</div>"
      ],
      "text/plain": [
       "              OPEN    HIGH     LOW   CLOSE    VOLUME\n",
       "1990-12-19   96.05  100.00   95.79  100.00  126000.0\n",
       "1990-12-20  104.30  104.39   99.98  104.39   19700.0\n",
       "1990-12-21  109.07  109.13  103.73  109.13    2800.0\n",
       "1990-12-24  113.57  114.55  109.13  114.55    3200.0\n",
       "1990-12-25  120.09  120.25  114.55  120.25    1500.0"
      ]
     },
     "execution_count": 6,
     "metadata": {},
     "output_type": "execute_result"
    }
   ],
   "source": [
    "Shindex.iloc[:5]\n",
    "#OHLC, V交易量"
   ]
  },
  {
   "cell_type": "markdown",
   "metadata": {
    "slideshow": {
     "slide_type": "slide"
    }
   },
   "source": [
    "+ 下面我们对高频数据 进行 5分钟收益率的计算"
   ]
  },
  {
   "cell_type": "code",
   "execution_count": 7,
   "metadata": {
    "slideshow": {
     "slide_type": "slide"
    }
   },
   "outputs": [],
   "source": [
    "#先抽样，再计算\n",
    "from  math  import log\n",
    "res1=Hprice.resample(\"5min\").last()#直接抽样五分钟，然后取出最后一笔交易\n",
    "#简单收益率\n",
    "return1=res1.pct_change()\n",
    " \n",
    "\n",
    "# 对数收益率\n",
    "res2= res1.map(log)\n",
    "return2=res2-res2.shift(1)\n",
    " "
   ]
  },
  {
   "cell_type": "code",
   "execution_count": 8,
   "metadata": {
    "slideshow": {
     "slide_type": "slide"
    }
   },
   "outputs": [
    {
     "name": "stdout",
     "output_type": "stream",
     "text": [
      "date\n",
      "2022-08-18 09:25:00    4.46\n",
      "2022-08-18 09:30:00    4.44\n",
      "2022-08-18 09:35:00    4.45\n",
      "Freq: 5T, Name: price, dtype: float64\n",
      "验证：(4.44-4.46)/4.46= -0.0044843049327353305\n",
      "验证：log(4.44)-log(4.46)= -0.004494389587839098\n"
     ]
    },
    {
     "data": {
      "text/html": [
       "<div>\n",
       "<style scoped>\n",
       "    .dataframe tbody tr th:only-of-type {\n",
       "        vertical-align: middle;\n",
       "    }\n",
       "\n",
       "    .dataframe tbody tr th {\n",
       "        vertical-align: top;\n",
       "    }\n",
       "\n",
       "    .dataframe thead th {\n",
       "        text-align: right;\n",
       "    }\n",
       "</style>\n",
       "<table border=\"1\" class=\"dataframe\">\n",
       "  <thead>\n",
       "    <tr style=\"text-align: right;\">\n",
       "      <th></th>\n",
       "      <th>SimpleReturn5min</th>\n",
       "      <th>LogReturn5min</th>\n",
       "    </tr>\n",
       "    <tr>\n",
       "      <th>date</th>\n",
       "      <th></th>\n",
       "      <th></th>\n",
       "    </tr>\n",
       "  </thead>\n",
       "  <tbody>\n",
       "    <tr>\n",
       "      <th>2022-08-18 09:25:00</th>\n",
       "      <td>NaN</td>\n",
       "      <td>NaN</td>\n",
       "    </tr>\n",
       "    <tr>\n",
       "      <th>2022-08-18 09:30:00</th>\n",
       "      <td>-0.004484</td>\n",
       "      <td>-0.004494</td>\n",
       "    </tr>\n",
       "    <tr>\n",
       "      <th>2022-08-18 09:35:00</th>\n",
       "      <td>0.002252</td>\n",
       "      <td>0.002250</td>\n",
       "    </tr>\n",
       "    <tr>\n",
       "      <th>2022-08-18 09:40:00</th>\n",
       "      <td>-0.002247</td>\n",
       "      <td>-0.002250</td>\n",
       "    </tr>\n",
       "    <tr>\n",
       "      <th>2022-08-18 09:45:00</th>\n",
       "      <td>-0.002252</td>\n",
       "      <td>-0.002255</td>\n",
       "    </tr>\n",
       "  </tbody>\n",
       "</table>\n",
       "</div>"
      ],
      "text/plain": [
       "                     SimpleReturn5min  LogReturn5min\n",
       "date                                                \n",
       "2022-08-18 09:25:00               NaN            NaN\n",
       "2022-08-18 09:30:00         -0.004484      -0.004494\n",
       "2022-08-18 09:35:00          0.002252       0.002250\n",
       "2022-08-18 09:40:00         -0.002247      -0.002250\n",
       "2022-08-18 09:45:00         -0.002252      -0.002255"
      ]
     },
     "execution_count": 8,
     "metadata": {},
     "output_type": "execute_result"
    }
   ],
   "source": [
    "print(res1[:3])\n",
    "print( \"验证：(4.44-4.46)/4.46=\",(4.44-4.46)/4.46)\n",
    "print( \"验证：log(4.44)-log(4.46)=\",log(4.44)-log(4.46))\n",
    "\n",
    "ret=pd.concat([return1,return2],axis=1)\n",
    "ret.columns=[\"SimpleReturn5min\",\"LogReturn5min\"]\n",
    "ret.iloc[:5]"
   ]
  },
  {
   "cell_type": "markdown",
   "metadata": {
    "slideshow": {
     "slide_type": "slide"
    }
   },
   "source": [
    "+ 如何通过五分钟简单收益率计算十分钟对数收益率呢？"
   ]
  },
  {
   "cell_type": "markdown",
   "metadata": {
    "slideshow": {
     "slide_type": "slide"
    }
   },
   "source": [
    "+ 下面我们利用日线数据，进行周收益率的计算。\n",
    "   - 收益率的计算"
   ]
  },
  {
   "cell_type": "code",
   "execution_count": 9,
   "metadata": {},
   "outputs": [],
   "source": [
    "SimpleReturnDaily=Dprice.pct_change()\n",
    "logp=Dprice.map(log)\n",
    "LogReturnDaily=logp-logp.shift(1)"
   ]
  },
  {
   "cell_type": "markdown",
   "metadata": {
    "slideshow": {
     "slide_type": "slide"
    }
   },
   "source": [
    "+ \n",
    "  - 周收益率"
   ]
  },
  {
   "cell_type": "code",
   "execution_count": 10,
   "metadata": {
    "slideshow": {
     "slide_type": "-"
    }
   },
   "outputs": [],
   "source": [
    "PriceFri=Dprice.resample(\"W-FRI\").last()\n",
    "SimpleReturnWeek=PriceFri.pct_change()\n",
    "logpw=PriceFri.map(log)\n",
    "LogReturnWeekly=logpw-logpw.shift(1)"
   ]
  },
  {
   "cell_type": "markdown",
   "metadata": {
    "slideshow": {
     "slide_type": "slide"
    }
   },
   "source": [
    "+ \n",
    "   - 从日对数收益率计算周对数收益率"
   ]
  },
  {
   "cell_type": "code",
   "execution_count": 11,
   "metadata": {
    "scrolled": true,
    "slideshow": {
     "slide_type": "-"
    }
   },
   "outputs": [
    {
     "data": {
      "text/html": [
       "<div>\n",
       "<style scoped>\n",
       "    .dataframe tbody tr th:only-of-type {\n",
       "        vertical-align: middle;\n",
       "    }\n",
       "\n",
       "    .dataframe tbody tr th {\n",
       "        vertical-align: top;\n",
       "    }\n",
       "\n",
       "    .dataframe thead th {\n",
       "        text-align: right;\n",
       "    }\n",
       "</style>\n",
       "<table border=\"1\" class=\"dataframe\">\n",
       "  <thead>\n",
       "    <tr style=\"text-align: right;\">\n",
       "      <th></th>\n",
       "      <th>SimpleReturnWeek</th>\n",
       "      <th>LogReturnWeekly</th>\n",
       "      <th>LogReturnWeekly1</th>\n",
       "    </tr>\n",
       "  </thead>\n",
       "  <tbody>\n",
       "    <tr>\n",
       "      <th>1990-12-21</th>\n",
       "      <td>NaN</td>\n",
       "      <td>NaN</td>\n",
       "      <td>0.087370</td>\n",
       "    </tr>\n",
       "    <tr>\n",
       "      <th>1990-12-28</th>\n",
       "      <td>0.158710</td>\n",
       "      <td>0.147307</td>\n",
       "      <td>0.147307</td>\n",
       "    </tr>\n",
       "    <tr>\n",
       "      <th>1991-01-04</th>\n",
       "      <td>0.039462</td>\n",
       "      <td>0.038704</td>\n",
       "      <td>0.038704</td>\n",
       "    </tr>\n",
       "    <tr>\n",
       "      <th>1991-01-11</th>\n",
       "      <td>0.024041</td>\n",
       "      <td>0.023757</td>\n",
       "      <td>0.023757</td>\n",
       "    </tr>\n",
       "    <tr>\n",
       "      <th>1991-01-18</th>\n",
       "      <td>-0.002675</td>\n",
       "      <td>-0.002678</td>\n",
       "      <td>-0.002678</td>\n",
       "    </tr>\n",
       "  </tbody>\n",
       "</table>\n",
       "</div>"
      ],
      "text/plain": [
       "            SimpleReturnWeek  LogReturnWeekly  LogReturnWeekly1\n",
       "1990-12-21               NaN              NaN          0.087370\n",
       "1990-12-28          0.158710         0.147307          0.147307\n",
       "1991-01-04          0.039462         0.038704          0.038704\n",
       "1991-01-11          0.024041         0.023757          0.023757\n",
       "1991-01-18         -0.002675        -0.002678         -0.002678"
      ]
     },
     "execution_count": 11,
     "metadata": {},
     "output_type": "execute_result"
    }
   ],
   "source": [
    "LogReturnWeekly1=LogReturnDaily.resample(\"W-FRI\").sum()\n",
    "\n",
    "res=pd.concat([SimpleReturnWeek,LogReturnWeekly,LogReturnWeekly1],axis=1)\n",
    "res.columns=[\"SimpleReturnWeek\",\"LogReturnWeekly\",\"LogReturnWeekly1\"]\n",
    "res.iloc[:5]"
   ]
  },
  {
   "cell_type": "code",
   "execution_count": 12,
   "metadata": {},
   "outputs": [
    {
     "data": {
      "text/plain": [
       "<AxesSubplot:>"
      ]
     },
     "execution_count": 12,
     "metadata": {},
     "output_type": "execute_result"
    },
    {
     "data": {
      "image/png": "[encoded data removed]",
      "text/plain": [
       "<Figure size 720x720 with 4 Axes>"
      ]
     },
     "metadata": {
      "needs_background": "light"
     },
     "output_type": "display_data"
    }
   ],
   "source": [
    "import matplotlib.pyplot as plt\n",
    "plt.figure(figsize=(10, 10))\n",
    "plt.subplot(221)\n",
    "Dprice.plot()\n",
    "plt.subplot(222)\n",
    "SimpleReturnDaily.plot()\n",
    "plt.subplot(223)\n",
    "SimpleReturnWeek.plot()\n",
    "plt.subplot(224)\n",
    "PriceM=Dprice.resample(\"A\").last()\n",
    "SimpleReturnMonth=PriceM.pct_change()\n",
    "SimpleReturnMonth.plot()"
   ]
  },
  {
   "cell_type": "markdown",
   "metadata": {
    "slideshow": {
     "slide_type": "slide"
    }
   },
   "source": [
    "## 股息和收益率\n",
    "\n",
    "+ 对股票持有者来说，资产价格变化可能带来收益，而且还有可能发生股息收入。\n",
    "+ 股息收入即红利，是上市公司发放给投资者的部分收益。 在一个成熟的市场，盈利能力较好的上市公司一般都有稳定的红利发放。\n",
    "+ 如果考虑$t$期获得的红利$D_t$，投资者实际的总收益率应该为\n",
    "\n",
    " \n",
    "$$1 + {R_t} = \\frac{{{P_t} + {D_t}}}{{{P_{t - 1}}}}$$\n",
    "\n",
    "而净收益率为 $${R_t} = \\left( {{P_t} + {D_t}} \\right)/{P_{t - 1}} - 1$$ \n",
    "对数收益率为 $${r_t} = \\ln \\left( {{P_t} + {D_t}} \\right) - \\ln \\left( {{P_{t - 1}}} \\right)$$"
   ]
  },
  {
   "cell_type": "markdown",
   "metadata": {
    "slideshow": {
     "slide_type": "slide"
    }
   },
   "source": [
    "## 复权价格\n",
    "\n",
    "+ 在我国证券市场中，资产价格会根据股息红利进行调整，同时还需要调整的包括配股，送股，股票分拆等市场操作。\n",
    "+ 计算收益率的价格不能是市场交易价格，而是需要除权的价格。\n",
    "+ 除权后的价格包括了红利等因素。因此，在计算相应收益率是就不再需要考虑红利因素，直接利用除权价格进行计算就可以了。"
   ]
  },
  {
   "cell_type": "markdown",
   "metadata": {
    "slideshow": {
     "slide_type": "slide"
    }
   },
   "source": [
    " +  上市公司发放股息红利的形式虽然有四种（现金，财产，负债，股票），但沪深股市的上市公司进行利润分配一般只采用股票红利和现金红利两种，即统称所说的送红股和派现金（股息）。\n",
    " + 当上市公司向股东分派股息时，就要对股票进行除息；当上市公司向股东送红股时，就要对股票进行除权。"
   ]
  },
  {
   "cell_type": "markdown",
   "metadata": {
    "slideshow": {
     "slide_type": "slide"
    }
   },
   "source": [
    "+ 当一家上市公司宣布上年度有利润可供分配并准备予以实施时，则该只股票就称为含权股，因为持有该股票就享有分红派息的权利。\n",
    "+ 在这一阶段，上市公司一般要宣布一个时间称为**股权登记日**，即在该日收市时持有该股票的股东就享有分红的权利。\n",
    "+ 进行股权登记后，股票将要除权除息，也就是将股票中含有的分红权利予以解除。\n",
    "+ 除权除息都在股权登记日的收盘后进行。除权之后再购买股票的股东将不再享有分红派息的权利。  在股票的除权除息日，证券交易所都要计算出股票的除权除息价，以作为股民在除权除息日开盘的参考。"
   ]
  },
  {
   "cell_type": "markdown",
   "metadata": {
    "slideshow": {
     "slide_type": "slide"
    }
   },
   "source": [
    "+ 因为在股权登记日拥有股票是含权的，而收盘后的次日其交易的股票将不再参加利润分配，所以除权除息价实际应该将股权登记日的收盘价予以变换。这样，除息价就是登记日收盘价减去每股股票应分得的现金红利。统一的公式为：\n",
    "\n",
    "     $$ \\mbox{除权价}=\\frac{\\mbox{股权登记日的收盘价－每股应分的现金红利＋配股率×配股价}}{\\mbox{1＋每股送股率＋每股配股率}}$$\n",
    "        "
   ]
  },
  {
   "cell_type": "markdown",
   "metadata": {
    "slideshow": {
     "slide_type": "slide"
    }
   },
   "source": [
    "+ 用友软件分红送股的例子\n",
    "\n",
    "    分红年度:2007-12-31\t\n",
    "    进展说明: 实施             \n",
    "    10转10派10(含税)(税后派)9  \n",
    "    预案公布日: 2008-03-05     \n",
    "    股东大会审议日: 2008-03-25 \n",
    "    股权登记日: 2008-04-10     \n",
    "    除权除息日: 2008-04-11     \n",
    "    派息日: 2008-04-16         \n",
    "    送转股上市日: 2008-04-14   \n",
    "    每股收益(元):1.6000  \n",
    "\n",
    "  - 在股权登记日（2008-04-10）其收盘价为57.99元，根据除权公式可得**除权**价为(57.99-1)/2=28.495\n",
    "  - 在下一个交易日（2008-04-11），系统将显示上一交易日收盘价为28.495，市场以此参考进行交易。\n",
    " "
   ]
  },
  {
   "cell_type": "markdown",
   "metadata": {},
   "source": [
    "+  计算收益率，若投资者在2008年4月10日以收盘价（57.99）买入1股，在次日以收盘价（27.97）卖出，则其实际净收益率为\n",
    "   \n",
    "    \n",
    "$$\\frac{{27.97*2 + 1 - 57.99}}{{57.99}} =  - 1.81\\% $$\n",
    "\n",
    "+ 注意，如果我们直接用除权的收盘价计算可能会有差异，主要是分红不包含在除权价格中，导致分母相对变小\n",
    " \n",
    "$$\\frac{{27.97}}{{28.495}} - 1 =  - 1.84\\% $$\n",
    " "
   ]
  },
  {
   "cell_type": "markdown",
   "metadata": {
    "slideshow": {
     "slide_type": "slide"
    }
   },
   "source": [
    "**复权**\n",
    "+ 收盘价格在除权之后变化比较大，并且除权每隔一段时间就会发生，因此交易价格就会非常不连续。\n",
    "+ 考虑到除权并不会带来收益率的变化，在我们观察分析历史数据时，常常需要做一个逆处理，这个过程叫做**复权**。\n",
    "+ 复权价格根据除权价和实际收益率进行调整。\n",
    "+ 复权一般有前复权和后复权， "
   ]
  },
  {
   "cell_type": "markdown",
   "metadata": {
    "slideshow": {
     "slide_type": "slide"
    }
   },
   "source": [
    "+ 前复权是指固定最近的收盘价，根据实际收益率调整以前的价格，调整公式为：\n",
    " \n",
    "$${\\tilde P_{t - 1}} = {\\tilde P_t}/(1 + {R_t})$$\n",
    "  \n",
    "+ 后复权是从最初的价格出发，根据实际收益率调整以后的价格，调整公式为： \n",
    " \n",
    "$${\\tilde P_t} = {\\tilde P_{t - 1}}(1 + {R_t})$$\n",
    "\n",
    " \n",
    "   几点说明：\n",
    "   \n",
    "     - 前复权的历史数据会变  \n",
    "     - 按上述公式，利用两种复权数据进行收益率计算是等价的\n",
    "     - 前复权如未按上述公式计算，经常会出现负价格的情形,\n",
    "\n",
    "$${\\tilde P_t} = {\\tilde P_{t - k}}\\prod_{i=0}^{k-1}(1 + {R_{t-i}})$$\n",
    "\n",
    "\n",
    "+ 下面看看拥有在2008年 3，4，5月的复权价格和未复权价格"
   ]
  },
  {
   "cell_type": "code",
   "execution_count": 28,
   "metadata": {
    "scrolled": true
   },
   "outputs": [
    {
     "data": {
      "text/html": [
       "<div>\n",
       "<style scoped>\n",
       "    .dataframe tbody tr th:only-of-type {\n",
       "        vertical-align: middle;\n",
       "    }\n",
       "\n",
       "    .dataframe tbody tr th {\n",
       "        vertical-align: top;\n",
       "    }\n",
       "\n",
       "    .dataframe thead th {\n",
       "        text-align: right;\n",
       "    }\n",
       "</style>\n",
       "<table border=\"1\" class=\"dataframe\">\n",
       "  <thead>\n",
       "    <tr style=\"text-align: right;\">\n",
       "      <th></th>\n",
       "      <th>close</th>\n",
       "      <th>preclose</th>\n",
       "      <th>pctChg</th>\n",
       "      <th>totalpct</th>\n",
       "      <th>cumreturn</th>\n",
       "    </tr>\n",
       "    <tr>\n",
       "      <th>date</th>\n",
       "      <th></th>\n",
       "      <th></th>\n",
       "      <th></th>\n",
       "      <th></th>\n",
       "      <th></th>\n",
       "    </tr>\n",
       "  </thead>\n",
       "  <tbody>\n",
       "    <tr>\n",
       "      <th>2001-05-18</th>\n",
       "      <td>92.00</td>\n",
       "      <td>36.68</td>\n",
       "      <td>150.817900</td>\n",
       "      <td>2.508179</td>\n",
       "      <td>2.508179</td>\n",
       "    </tr>\n",
       "    <tr>\n",
       "      <th>2001-05-21</th>\n",
       "      <td>85.95</td>\n",
       "      <td>92.00</td>\n",
       "      <td>-6.576090</td>\n",
       "      <td>0.934239</td>\n",
       "      <td>2.343239</td>\n",
       "    </tr>\n",
       "    <tr>\n",
       "      <th>2001-05-22</th>\n",
       "      <td>86.15</td>\n",
       "      <td>85.95</td>\n",
       "      <td>0.232699</td>\n",
       "      <td>1.002327</td>\n",
       "      <td>2.348692</td>\n",
       "    </tr>\n",
       "    <tr>\n",
       "      <th>2001-05-23</th>\n",
       "      <td>88.99</td>\n",
       "      <td>86.15</td>\n",
       "      <td>3.296571</td>\n",
       "      <td>1.032966</td>\n",
       "      <td>2.426118</td>\n",
       "    </tr>\n",
       "    <tr>\n",
       "      <th>2001-05-24</th>\n",
       "      <td>83.95</td>\n",
       "      <td>88.99</td>\n",
       "      <td>-5.663559</td>\n",
       "      <td>0.943364</td>\n",
       "      <td>2.288713</td>\n",
       "    </tr>\n",
       "  </tbody>\n",
       "</table>\n",
       "</div>"
      ],
      "text/plain": [
       "            close  preclose      pctChg  totalpct  cumreturn\n",
       "date                                                        \n",
       "2001-05-18  92.00     36.68  150.817900  2.508179   2.508179\n",
       "2001-05-21  85.95     92.00   -6.576090  0.934239   2.343239\n",
       "2001-05-22  86.15     85.95    0.232699  1.002327   2.348692\n",
       "2001-05-23  88.99     86.15    3.296571  1.032966   2.426118\n",
       "2001-05-24  83.95     88.99   -5.663559  0.943364   2.288713"
      ]
     },
     "execution_count": 28,
     "metadata": {},
     "output_type": "execute_result"
    }
   ],
   "source": [
    "import pandas as pd\n",
    "import os\n",
    "os.chdir('E:\\\\Quant\\\\data\\\\baostock\\\\stock\\\\daily')\n",
    "code=\"sh.600588\"  \n",
    "data = pd.read_csv(code+'.csv', parse_dates=['date'], index_col='date') \n",
    "selected_columns = ['close', 'preclose','pctChg']\n",
    "#data = data[selected_columns][start_date:end_date]\n",
    "data = data[selected_columns] \n",
    "#data[\"simple\"]=(data[\"close\"]-data[\"preclose\"])/data[\"preclose\"]\n",
    "data[\"totalpct\"]= data[\"pctChg\"]/100+1\n",
    "data[\"cumreturn\"]=data[\"totalpct\"].cumprod()\n",
    "data.head()"
   ]
  },
  {
   "cell_type": "code",
   "execution_count": 30,
   "metadata": {},
   "outputs": [
    {
     "data": {
      "text/plain": [
       "<AxesSubplot:xlabel='date'>"
      ]
     },
     "execution_count": 30,
     "metadata": {},
     "output_type": "execute_result"
    },
    {
     "data": {
      "image/png": "[encoded data removed]",
      "text/plain": [
       "<Figure size 432x288 with 1 Axes>"
      ]
     },
     "metadata": {
      "needs_background": "light"
     },
     "output_type": "display_data"
    }
   ],
   "source": [
    "start_date=\"2008-03-01\"\n",
    "end_date=\"2008-06-01\" #\" 2023-9-10\"\n",
    "\n",
    "datatem=data[start_date:end_date] \n",
    "fixed_close=datatem[\"close\"].iloc[-1] \n",
    "fixed_cumre=datatem[\"cumreturn\"].iloc[-1]\n",
    "qfq1= datatem[\"cumreturn\"]/fixed_cumre*fixed_close\n",
    "  \n",
    "end_date1=\" 2023-9-10\"\n",
    "datatem1=data[start_date:end_date1] \n",
    "fixed_close1=datatem1[\"close\"].iloc[-1] \n",
    "fixed_cumre1=datatem1[\"cumreturn\"].iloc[-1]\n",
    "qfq2= datatem1[\"cumreturn\"]/fixed_cumre1*fixed_close1\n",
    "qfq2=qfq2[start_date:end_date] \n",
    "\n",
    "Dclose=pd.concat([datatem.close,qfq1,qfq2],axis=1)\n",
    "Dclose.columns=[\"NFuquan\",\"qianfuq_1\",\"qianfuq_2\"]\n",
    "Dclose.plot()\n"
   ]
  },
  {
   "cell_type": "markdown",
   "metadata": {},
   "source": [
    "+ 复权数据再讨论\n",
    "   - 昨收盘价\n",
    "   - 复权因子\n",
    "   - 构建数据库如何保持价格一致     "
   ]
  },
  {
   "cell_type": "markdown",
   "metadata": {
    "slideshow": {
     "slide_type": "slide"
    }
   },
   "source": [
    "## 指数"
   ]
  },
  {
   "cell_type": "markdown",
   "metadata": {
    "slideshow": {
     "slide_type": "slide"
    }
   },
   "source": [
    " **股票指数定义**\n",
    "\n",
    "股票指数即股票价格指数。是由证券交易所或金融服务机构编制的表明股票行情变动的一种供参考的指数数字。\n",
    "\n",
    "由于股票价格起伏无常，投资者必然面临市场价格风险。对于具体某一种股票的价格变化，投资者容易了解，而对于多种股票的价格变化，要逐一了解，既不容易，也不胜其烦。为了适应这种情况需要，一些金融服务机构就利用自己的业务知识和熟悉股票市场的优势，编制出股票价格指数，公开发布，作为市场价格变动的指标。投资者据此就可以检验自己投资的效果，并用以预测股票市场的动向。 \n",
    "\n",
    "这种股票指数，也是股票行市变动情况的价格平均数。编制股票指数，通常以某年某月为基础，以这个基期的股票价格为 100，用以后各时期的股票价格与基期价格比较，计算出升降的百分比，就得到该时期的股票指数。投资者根据指数的升降，可以判断出股票价格的变动趋势。并且为了能实时地向投资者反应股市的动向，所有的股市几乎都是在股价变化的同时及时公布股票价格指数。"
   ]
  },
  {
   "cell_type": "markdown",
   "metadata": {},
   "source": [
    " **股票指数的计算方法 **\n",
    "\n",
    "计算股票指数，要考虑三个因素：\n",
    "1. **抽样**，即在众多股票中抽取少数具有代表性的成份股；\n",
    "2. **加权**，按单价或总值加权平均，或不加权平均；\n",
    "3. **计算程序**，计算算数平均数，几何平均数，或兼顾价格与总值。 "
   ]
  },
  {
   "cell_type": "markdown",
   "metadata": {
    "slideshow": {
     "slide_type": "slide"
    }
   },
   "source": [
    "+ 计算股票指数时，往往把**股票指数**和**股价平均数**分开计算。\n",
    "+ 但从两者对股市的实际作用而言，股价平均数是反映多种股票价格变动的一般水平，通常以算术平均数表示。人们通过对不同的时期股价平均数的比较，可以认识多种股票价格变动水平。\n",
    "+ 而股票指数是反映不同时期的股价变动情况的相对指标，也就是将第一时期的股价平均数作为另一时期股价平均数的基准的百分数。通过股票指数，人们可以了解计算期的股价比基期的股价上升或下降的百分比率。由于股票指数是一个相对指标，因此就一个较长的时期来说，股票指数比股价平均数能更为精确地衡量股价的变动。"
   ]
  },
  {
   "cell_type": "markdown",
   "metadata": {
    "slideshow": {
     "slide_type": "slide"
    }
   },
   "source": [
    "  1. 股价平均数的计算\n",
    " \n",
    "+  股票价格平均数反映一定时点上市股票价格的绝对水平，它可分为简单算术股价平均数、修正的股价平均数、加权股价平均数三类。人们通过对不同时点股价平均数的比较，可以看出股票价格的变动情况及趋势。\n",
    " "
   ]
  },
  {
   "cell_type": "markdown",
   "metadata": {
    "slideshow": {
     "slide_type": "slide"
    }
   },
   "source": [
    "   (1) 简单算术股价平均数\n",
    "   \n",
    " 简单算术股价平均数是将样本股票每日收盘价之和除以样本数得出的，即：\n",
    " \n",
    "                   简单算术股价平均数＝(P1＋P2＋P3＋…＋ Pn)/n\n",
    " \n",
    "世界上第一个股票价格平均──道·琼斯股价平均数在 1928 年 10 月 1 日前就是使用简单算术平均法计算的。\n",
    "\n",
    "现假设从某一股市采样的股票为A、B、C、D四种，在某一交易日的收盘价分别为 10 元、16 元、24 元和 30 元，计算该市场股价平均数。将上述数置入公式\n",
    "中，即得：\n",
    "       \n",
    "   股价平均数＝(P1＋P2＋P3＋P4)/n ＝(10＋16＋24＋30)/4 ＝20(元)\n",
    "\n",
    "简单算术股价平均数虽然计算较简便，但它有两个缺点：一是它未考虑各种样本股票的权数， 从而不能区分重要性不同的样本股票对股价平均数的不同影响。二是当样本股票发生股票分割、派发红股、增资等情况时，股价平均数会产生断层而失去连续性，使时间序列前后的比较发生困难。例如，上述D股票发生以 1 股分割为 3 股时，股价势必从 30 元下调为 10 元， 这时平均数就不是按上面计算得出的 20 元， 而是(10＋16＋24＋10)/4＝15(元)。这就是说，由于D股票分割技术上的变化，导致股价平均数从 20 元下跌为 15 元(这还未考虑其他影响股价变动的因素)，显然不符合平均数作为反映股价变动指标的要求。 "
   ]
  },
  {
   "cell_type": "markdown",
   "metadata": {
    "slideshow": {
     "slide_type": "slide"
    }
   },
   "source": [
    "   (2)修正的股份平均数 \n",
    "    \n",
    "   修正的股价平均数有两种： \n",
    "   一是除数修正法，又称道式修正法。\n",
    "   这是美国道·琼斯在 1928 年创造的一种计算股价平均数的方法。该法的核心是求出一个常数除数，以修正因股票分割、增资、发放红股等因素造成股价平均数的变化，以保持股份平均数的连续性和可比性。具体作法是以新股价总额除以旧股价平均数，求出新的除数，再以计算期的股价总额除以新除数，这就得出修正的股价平均数。即：  \n",
    "    \n",
    "   新除数＝变动后的新股价总额/旧的股价平均数           \n",
    "   修正的股价平均数＝报告期股价总额/新除数  \n",
    "        \n",
    "  在前面的例子除数是 4，经调整后的新的除数应是：   \n",
    "   新的除数＝(10＋16＋24＋10)/20＝3，将新的除数代入下列式中，则：   \n",
    "修正的股价平均数＝(10＋16＋24＋10)/3＝20(元)得出的平均数与未分割时计算的一样，股价水平也不会因股票分割而变动。   \n",
    "    \n",
    "   二是股价修正法。    \n",
    "   股价修正法就是将股票分割等操作变动后的股价还原为变动前的股价，使股价平均数不会因此变动。美国《纽约时报》编制的 500 种股价平均数就采用股价修正法来计算股价平均数。  \n",
    "    "
   ]
  },
  {
   "cell_type": "markdown",
   "metadata": {
    "collapsed": true,
    "slideshow": {
     "slide_type": "slide"
    }
   },
   "source": [
    " (3)加权股价平均数  \n",
    "   \n",
    "   加权股价平均数是根据各种样本股票的相对重要性进行加权平均计算的股价平均数，其权数(Q) 可以是成交股数、股票总市值、股票发行量等。   \n",
    "    \n",
    " "
   ]
  },
  {
   "cell_type": "markdown",
   "metadata": {
    "collapsed": true,
    "slideshow": {
     "slide_type": "slide"
    }
   },
   "source": [
    "##  股票指数的计算  \n",
    "    \n",
    "   股票指数是反映不同时点上股价变动情况的相对指标。通常是将报告期的股票价格与定的基期价格相比，并将两者的比值乘以基期的指数值(通常设为\n",
    "100)，即为该报告期的股票指数。股票指数的计算方法有三种：一是相对法，二是综合法，三是加权法。 \n",
    "\n",
    "   (1)相对法  \n",
    "   \n",
    "   相对法又称平均法，就是先计算各样本股票指数之和，再求算术平均数。\n",
    "其计算公式为： \n",
    "                            股票指数＝n个样本股票指数之和/n  \n",
    " 英国的《经济学家》普通股票指数就使用这种计算法。   \n",
    "   (2)综合法 \n",
    "   综合法是先将样本股票的基期和报告期价格分别加总，然后相比求出股票指数。即：\n",
    "   \n",
    "                          股票指数＝报告期股价之和/基期股价之和  \n",
    "   代入数字得：  \n",
    "   股价指数＝(8＋12＋14＋18)/(5＋8＋ 10 ＋ 15) ＝ 52/38＝136.8%  \n",
    "   即报告期的股价比基期上升了 36.8%。  \n",
    "   从平均法和综合法计算股票指数来看，两者都未考虑到由各种采样股票的发行量和交易量的不相同，而对整个股市股价的影响不一样等因素，因此，计算出\n",
    "来的指数亦不够准确。为使股票指数计算精确，则需要加入权数，这个权数可以是交易量，亦可以是发行量。\n",
    "\n",
    "   (3)加权法  \n",
    "   加权股票指数是根据各期样本股票的相对重要性予以加权，其权数可以是成交股数、股票发行量等。按时间划分，权数可以是基期权数，也可以是报告期权\n",
    "数。以基期成交股数(或发行量)为权数的指数称为拉斯拜尔指数；以报告期成交股数(或发行量)为权数的指数称为派许指数。  \n",
    "  \n",
    "  拉斯拜尔指数偏重基期成交股数(或发行量)，而派许指数则偏重报告期的成交股数(或发行量)。目前世界上大多数股票指数都是派许指数。  \n",
    "  \n",
    "三.国际市场的主要股票指数  \n",
    " \n",
    "   1.  道·琼斯股票指数  \n",
    "   道·琼斯股票指数是世界上历史最为悠久的股票指数，它的全称为股票价格平均数。它是在 1884 年由道·琼斯公司的创始人查理斯·道开始编制的。其最\n",
    "初的道·琼斯股票价格平均指数是根据 11 种具有代表性的铁路公司的股票，采用算术平均法进行计算编制而成，发表在查理斯·道自己编辑出版的《每日通讯》\n",
    "上。其计算公式为：\n",
    "股票价格平均数＝入选股票的价格之和/入选股票的数量。\n",
    "\n",
    "自 1897 年起，道·琼斯股票价格平均指数开始分成工业与运输业两大类，其中工业股票价格平均指数包括 12 种股票，运输业平均指数则包括 20 种股票，并且开始在道·琼斯公司出版的《华尔街日报》上公布。在 1929 年，道·琼斯股票价格平均指数又增加了公用事业类股票，使其所包含的股票达到 65 种，并一直延续至今。   \n",
    "\n",
    "   现在的道·琼斯股票价格平均指数是以 1928 年 10 月 1 日为基期，因为这一天收盘时的道·琼斯股票价格平均数恰好约为 100美元，所以就将其定为基准日。而以后股票价格同基期相比计算出的百分数，就成为各期的投票价格指数，所以现在的股票指数普遍用点来做单位，而股票指数每一点的涨跌就是相对于基准日的涨跌百分数。  \n",
    "  \n",
    "  道·琼斯股票价格平均指数最初的计算方法是用简单算术平均法求得，当遇到股票的除权除息时，股票指数将发生不连续的现象。1928 年后，道·琼斯股\n",
    "票价格平均数就改用新的计算方法，即在计点的股票除权或除息时采用连接技术，以保证股票指数的连续，从而使股票指数得到了完善，并逐渐推广到全世界。  \n",
    "    \n",
    "   目前，道·琼斯股票价格平均指数共分四组，第一组是工业股票价格平均指数。它由 30 种有代表性的大工商业公司的股票组成，且随经济发展而变大，大\n",
    "致可以反映美国整个工商业股票的价格水平，这也就是人们通常所引用的道·琼斯工业股票价格平均数。\n",
    "\n",
    "第二组是运输业股票价格平均指数。它包括着 20 种有代表性的运输业公司的股票，即 8 家铁路运输公司、8 家航空公司和 4 家公路货运公司。\n",
    "\n",
    "第三组是公用事业股票价格平均指数，是由代表着美国公用事业的 1 5 家煤气公司和电力公司的股票所组成。\n",
    "\n",
    "第四组是平均价格综合指数。   它是综合前三组股票价格平均指数 65 种股票而得出的综合指数，这组综合指数虽然为优等股票提供了直接的股票市场状况，但现在通常引用的是第一组——工业股票价格平均指数。  \n",
    "\n",
    "  道·琼斯股票价格平均指数是目前世界上影响最大、最有权威性的一种股票价格指数，原因之一是道·琼斯股票价格平均指数所选用的股票都是有代表性，这些股票的发行公司都是本行业具有重要影响的著名公司，其股票行情为世界股票市场所瞩目，各国投资者都极为重视。为了保持这一特点，道·琼斯公司对其编制的股票价格平均指数所选用的股票经常予以调整，用具有活力的更有代表性的公司股票替代那些失去代表性的公司股票。自 1928 年以来，仅用于计算道·琼斯工业股票价格平均指数的 30 种工商业公司股票，已有 30 次更换，几乎每两年就要有一个新公司的股票代替老公司的股票。原因之二是，公布道·琼斯股票价\n",
    "格平均指数的新闻载体——《华尔街日报》是世界金融界最有影响力的报纸。   该报每天详尽报道其每个小时计算的采样股票平均指数、百分比变动率、每\n",
    "种采样股票的成交数额等，并注意对股票分股后的股票价格平均指数进行校正。在纽约证券交易营业时间里，每隔半小时公布一次道·琼斯股票价格平均指数。\n",
    "原因之三是，这一股票价格平均指数自编制以来从未间断，可以用来比较不同时期的股票行情和经济发展情况，成为反映美国股市行情变化最敏感的股票价格平\n",
    "均指数之一，是观察市场动态和从事股票投资的主要参考。当然，由于道·琼斯股票价格指数是一种成分股指数，它包括的公司仅占目前 2500 多家上市公司的\n",
    "极少部分，而且多是热门股票，且未将近年来发展迅速的服务性行业和金融业的公司包括在内，所以它的代表性也一直受到人们的质疑和批评。  \n",
    "\n",
    "\n",
    "\n",
    " 2. 标准·普尔股票价格指数\n",
    " \n",
    "   除了道·琼斯股票价格指数外，标准·普尔股票价格指数在美国也很有影响，它是美国最大的证券研究机构即标准·普尔公司编制的股票价格指数。该公司于\n",
    "1923 年开始编制发表股票价格指数。最初采选了 230 种股票，编制两种股票价格指数。到 1957 年，这一股票价格指数的范围扩大到 500 种股票，分成 95 种组合。其中最重要的四种组合是工业股票组、铁路股票组、公用事业股票组和 500种股票混合组。从 1976 年 7 月 1 日开始，改为 400 种工业股票，20 种运输业股票，40 种公用事业股票和 40 种金融业股票。几十年来，虽然有股票更迭，但始终保持为 500 种。标准·普尔公司股票价格指数以 1941 年至 1943 年抽样股票的平均市价为基期，以上市股票数为权数，按基期进行加权计算，其基点数为 10。以目前的股票市场价格乘以股票市场上发行的股票数量为分子，用基期的股票市场价格乘以基期股票数为分母，相除之数再乘以 10 就是股票价格指数。 \n",
    "\n",
    "3. 纽约证券交易所股票价格指数  \n",
    "\n",
    "   纽约证券交易所股票价格指数，是由纽约证券交易所编制的股票价格指数。它起自 1966 年 6 月，先是普通股股票价格指数，后来改为混合指数，包括着在\n",
    "纽约证券交易所上市的 1500 家公司的 1570 种股票。具体计算方法是将这些股票按价格高低分开排列，分别计算工业股票、金融业股票、公用事业股票、运输业\n",
    "股票的价格指数，最大和最广泛的是工业股票价格指数，由 1093 种股票组成；金融业股票价格指数包括投资公司、储蓄贷款协会、分期付款融资公司、商业银\n",
    "行、保险公司和不动产公司的 223 种股票；运输业股票价格指数包括铁路、航空、轮船、汽车等公司的 65 种股票；公用事业股票价格指数则有电话电报公司、煤气公司、电力公司和邮电公司的 189 种股票。   \n",
    "  \n",
    "  纽约股票价格指数是以 1965 年 12 月 31 日确定的 50 点为基数，采用的是综合指数形式。纽约证券交易所每半个小时公布一次指数的变动情况。虽然纽约证券交易所编制股票价格指数的时间不长，因它可以全面及时地反映其股票市场活动的综合状况，较为受投资者欢迎。\n",
    "  \n",
    " 4. 日经道·琼斯股价指数(日经平均股价)   \n",
    " \n",
    "   系由日本经济新闻社编制并公布的反映日本股票市场价格变动的股票价格平均数。该指数从 1950 年 9 月开始编制。   \n",
    " \n",
    "   最初根据东京证券交易所第一市场上市的 225 家公司的股票算出修正平均股价，当时称为“东证修正平均股价”。1975 年 5 月 1 日，日本经济新闻社向道·琼斯公司买进商标，采用美国道·琼斯公司的修正法计算，这种股票指数也就改称“日经道·琼斯平均股价”。 1985 年 5 月 1 日在合同期满 10 年时，经两家商议，将名称改为“日经平均股价”。   \n",
    "   \n",
    "   按计算对象的采样数目不同，该指数分为两种，一种是日经 225 种平均股价。其所选样本均为在东京证券交易所第一市场上市的股票，样本选定后原则上不再\n",
    "更改。1981 年定位制造业 150 家，建筑业 10 家、水产业 3 家、矿业 3 家、商业12 家、路运及海运 14 家、金融保险业 15 家、不动产业 3 家、仓库业、电力和煤气 4 家、服务业 5 家。由于日经 225 种平均股价从 1950 年一直延续下来，因而其连续性及可比性较好，成为考察和分析日本股票市场长期演变及动态的最常用和最可靠指标。该指数的另一种是日经 500 种平均股价。这是从 1982 年 1 月4 日起开始编制的。由于其采样包括有 500 种股票，其代表性就相对更为广泛，但它的样本是不固定的，每年 4 月份要根据上市公司的经营状况、成交量和成交金额、市价总值等因素对样本进行更换。 \n",
    "\n",
    "5. 《金融时报》股票价格指数   \n",
    "\n",
    "《金融时报》股票价格指数的全称是“伦敦《金融时报》工商业普通股股票价格指数”，是由英国《金融时报》公布发表的。该股票价格指数包括着在英国工商\n",
    "业中挑选出来的具有代表性的 30 家公开挂牌的普通股股票。它以 1935 年 7 月 1日作为基期，其基点为 100 点。该股票价格指数以能够及时显示伦敦股票市场情况而闻名于世。  \n",
    "\n",
    "6. 香港恒生指数  \n",
    "\n",
    "  香港恒生指数是香港股票市场上历史最久、影响最大的股票价格指数，由香港恒生银行于 1969 年 11 月 24 日开始发表。   \n",
    "  恒生股票价格指数包括从香港 500 多家上市公司中挑选出来的 33 家有代表性且经济实力雄厚的大公司股票作为成份股，分为四大类——4 种金融业股票、6 种公用事业股票、 9 种地产业股票和 14 种其他工商业(包括航空和酒店)股票。 这些股票占香港股票市值的 63.8%，因该股票指数涉及到香港的各个行业，\n",
    "具有较强的代表性。 \n",
    "\n",
    "   恒生股票价格指数的编制是以 1964 年 7 月 31 日为基期，因为这一天香港股市运行正常，成交值均匀，可反映整个香港股市的基本情况，基点确定为 100\n",
    "点。其计算方法是将 33 种股票按每天的收盘价乘以各自的发行股数为计算日的市值，再与基期的市值相比较，乘以 100 就得出当天的股票价格指数。  \n",
    "  \n",
    "  由于恒生股票价格指数所选择的基期适当，因此，不论股票市场狂升或猛跌，还是处于正常交易水平，恒生股票价格指数基本上能反映整个股市的活动情况。  \n",
    "  自 1969 年恒生股票价格指数发表以来，已经过多次调整。由于 1980 年 8月香港当局通过立法，将香港证券交易所、远东交易所、金银证券交易所和九龙\n",
    "证券所合并为香港联合证券交易所，在目前的香港股票市场上，只有恒生股票价格指数与新产生的香港指数并存，香港的其他股票价格指数均不复存在。  \n",
    " \n",
    " 四. 我国的股票指数  \n",
    " \n",
    "   1. 上证股票指数系由上海证券交易所编制的股票指数，\n",
    "   \n",
    "   1990 年 12 月 19 日正式开始发布。该股票指数的样本为所有在上海证券交易所挂牌上市的股票，其中新上市的股票在挂牌的第二天纳入股票指数的计算范围。  \n",
    " \n",
    "  该股票指数的权数为上市公司的总股本。由于我国上市公司的股票有流通股和非流通股之分，其流通量与总股本并不一致，所以总股本较大的股票对股票指\n",
    "数的影响就较大，上证指数常常就成为机构大户造市的工具，使股票指数的走势与大部分股票的涨跌相背离。 \n",
    " \n",
    "   上海证券交易所股票指数的发布几乎是和股市行情的变化相同步的，它是我国股民和证券从业人员研判股票价格变化趋势必不可少的参考依据。   \n",
    " \n",
    " \n",
    "  2. 深圳综合股票指数系由深圳证券交易所编制的股票指数，1\n",
    "  \n",
    "  1991 年 4 月 3日为基期。该股票指数的计算方法基本与上证指数相同，其样本为所有在深圳证券交易所挂牌上市的股票，权数为股票的总股本。由于以所有挂牌的上市公司为样本，其代表性非常广泛，且它与深圳股市的行情同步发布，它是股民和证券从业人员研判深圳股市股票价格变化趋势必不可少的参考依据。在前些年，由于深圳证交所的股票交投不如上海证交所那么活跃，深圳证券交易所现已改变了股票指数的编制方法，采用成分股指数，其中只有 40 只股票入选并于 1995 年 5 月开始发布。  \n",
    " \n",
    "   现深圳证券交易所并存着两个股票指数，一个是老指数深圳综合指数，一个是现在的成分股指数，但从运行势态来看，两个指数间的区别并不是特别明显。 \n",
    " \n",
    " 3. 其它指数\n",
    " \n",
    "   目前市场上通用的指数已经有数百中，包括沪深300，上证50等综合综合指数，以及各类行业，板块指数。"
   ]
  },
  {
   "cell_type": "markdown",
   "metadata": {},
   "source": [
    "## 备注：\n",
    "\n",
    "+  一般来说，如果数据充分，我们比较容易计算出各类指数。这在第六讲中已经有涉及。对于常见的一些指数，比如沪深300，如果我们想要重新计算历史指数，则可能会面临一些数据收集的问题。我们需要知道每一次指数成分股变化的情况，也需要知道每只股票股权变动的情况，以及每只股票的价格变化。\n",
    "\n",
    "+  计算投资组合收益率的方法和计算指数类似。我们需要知道在每个资产中的投资权证以及资产的价格或收益率序列。然后通过加权的方法进行计算。"
   ]
  }
 ],
 "metadata": {
  "anaconda-cloud": {},
  "celltoolbar": "幻灯片",
  "kernelspec": {
   "display_name": "Python 3 (ipykernel)",
   "language": "python",
   "name": "python3"
  },
  "language_info": {
   "codemirror_mode": {
    "name": "ipython",
    "version": 3
   },
   "file_extension": ".py",
   "mimetype": "text/x-python",
   "name": "python",
   "nbconvert_exporter": "python",
   "pygments_lexer": "ipython3",
   "version": "3.11.4"
  },
  "latex_envs": {
   "LaTeX_envs_menu_present": true,
   "autoclose": false,
   "autocomplete": true,
   "bibliofile": "biblio.bib",
   "cite_by": "apalike",
   "current_citInitial": 1,
   "eqLabelWithNumbers": true,
   "eqNumInitial": 1,
   "hotkeys": {
    "equation": "Ctrl-E",
    "itemize": "Ctrl-I"
   },
   "labels_anchors": false,
   "latex_user_defs": false,
   "report_style_numbering": false,
   "user_envs_cfg": false
  }
 },
 "nbformat": 4,
 "nbformat_minor": 1
}
