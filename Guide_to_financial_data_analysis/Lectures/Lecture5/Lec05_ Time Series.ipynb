{
 "cells": [
  {
   "cell_type": "markdown",
   "metadata": {
    "slideshow": {
     "slide_type": "slide"
    }
   },
   "source": [
    "# Time series\n",
    "\n",
    "+ 时间序列是非常重要的数据形式。在一系列时间点上观察到的数据序列就是时间序列数据。\n",
    "+ 通常的时间序列数据根据数据采样的时间间隔可以分为固定频率或者非固定频率两类。"
   ]
  },
  {
   "cell_type": "markdown",
   "metadata": {
    "slideshow": {
     "slide_type": "slide"
    }
   },
   "source": [
    "+ 我们分析的很多时间序列数据大部分是固定频率的序列，\n",
    "  - 比如每季度、每年按期公布的宏观经济数据（GDP，CPI等）。\n",
    "  - 当然这里的固定频率也并非一定是绝对的等时间间隔数据，比如我们通常说的日收益率，虽然都间隔一个交易日，但因为假期等因素的影响，数据发生的绝对时间并不是等间隔的。\n",
    "+ 不等时间间隔的数据，如果我们将每一笔成交的数据都记录下来，得到的数据一般不是等时间间隔的。"
   ]
  },
  {
   "cell_type": "markdown",
   "metadata": {
    "slideshow": {
     "slide_type": "slide"
    }
   },
   "source": [
    "**三种时间类型**\n",
    "+ 时间戳 timestamp, 特定时间\n",
    "+ 固定时期，period，如2007年1月或2010年全年\n",
    "+ 时间间隔 interval"
   ]
  },
  {
   "cell_type": "markdown",
   "metadata": {
    "slideshow": {
     "slide_type": "slide"
    }
   },
   "source": [
    "+ Pandas 提供了一组标准的时间序列处理工具和数据算法，这些工具在处理金融和经济数据非常有用\n",
    "+ 和前面章节一样，我们首先导入一些包和函数"
   ]
  },
  {
   "cell_type": "code",
   "execution_count": 44,
   "metadata": {
    "slideshow": {
     "slide_type": "-"
    }
   },
   "outputs": [],
   "source": [
    "from pandas import Series, DataFrame\n",
    "import pandas as pd\n",
    "from numpy.random import randn\n",
    "import numpy as np\n",
    "pd.options.display.max_rows = 12\n",
    "np.set_printoptions(precision=4, suppress=True)\n",
    "import matplotlib.pyplot as plt\n",
    "plt.rc('figure', figsize=(12, 4))"
   ]
  },
  {
   "cell_type": "markdown",
   "metadata": {
    "slideshow": {
     "slide_type": "slide"
    }
   },
   "source": [
    "+ 查看当前工作目录"
   ]
  },
  {
   "cell_type": "code",
   "execution_count": 45,
   "metadata": {
    "slideshow": {
     "slide_type": "-"
    }
   },
   "outputs": [
    {
     "data": {
      "text/plain": [
       "'c:\\\\Users\\\\16017\\\\Desktop\\\\Dropbox\\\\金融数据分析导引\\\\Guide_to_financial_data_analysis\\\\Lectures\\\\Lecture5'"
      ]
     },
     "execution_count": 45,
     "metadata": {},
     "output_type": "execute_result"
    }
   ],
   "source": [
    "%pwd"
   ]
  },
  {
   "cell_type": "markdown",
   "metadata": {
    "slideshow": {
     "slide_type": "fragment"
    }
   },
   "source": [
    "+ 下面命令使得图形能出现在notebook页面中"
   ]
  },
  {
   "cell_type": "code",
   "execution_count": 46,
   "metadata": {
    "slideshow": {
     "slide_type": "-"
    }
   },
   "outputs": [],
   "source": [
    "%matplotlib inline\n",
    "#%matplotlib qt"
   ]
  },
  {
   "cell_type": "markdown",
   "metadata": {
    "slideshow": {
     "slide_type": "slide"
    }
   },
   "source": [
    "## 日期和时间数据类型及工具\n",
    "+ datetime模块包中提供了处理日期时间数据的工具, 以毫秒储存日期和时间，\n"
   ]
  },
  {
   "cell_type": "code",
   "execution_count": 47,
   "metadata": {
    "slideshow": {
     "slide_type": "slide"
    }
   },
   "outputs": [
    {
     "data": {
      "text/plain": [
       "datetime.datetime(2023, 10, 10, 16, 13, 17, 178352)"
      ]
     },
     "execution_count": 47,
     "metadata": {},
     "output_type": "execute_result"
    }
   ],
   "source": [
    "from datetime import datetime\n",
    "now = datetime.now()\n",
    "now#到毫秒"
   ]
  },
  {
   "cell_type": "markdown",
   "metadata": {
    "slideshow": {
     "slide_type": "-"
    }
   },
   "source": [
    "+ 下面分别给出了 年、月、日、时、分、秒、微秒(百万分之一秒)"
   ]
  },
  {
   "cell_type": "code",
   "execution_count": 48,
   "metadata": {
    "slideshow": {
     "slide_type": "-"
    }
   },
   "outputs": [
    {
     "data": {
      "text/plain": [
       "(2023, 10, 10, 16, 13, 17, 178352)"
      ]
     },
     "execution_count": 48,
     "metadata": {},
     "output_type": "execute_result"
    }
   ],
   "source": [
    "now.year, now.month, now.day,now.hour,now.minute,now.second,now.microsecond "
   ]
  },
  {
   "cell_type": "markdown",
   "metadata": {
    "slideshow": {
     "slide_type": "slide"
    }
   },
   "source": [
    "+ 我们可以直接对时间进行减法运算，得到两者的时间差"
   ]
  },
  {
   "cell_type": "code",
   "execution_count": 49,
   "metadata": {
    "slideshow": {
     "slide_type": "-"
    }
   },
   "outputs": [
    {
     "data": {
      "text/plain": [
       "datetime.timedelta(days=926, seconds=56700)"
      ]
     },
     "execution_count": 49,
     "metadata": {},
     "output_type": "execute_result"
    }
   ],
   "source": [
    "delta = datetime(2011, 1, 7) - datetime(2008, 6, 24, 8, 15)\n",
    "delta"
   ]
  },
  {
   "cell_type": "code",
   "execution_count": 50,
   "metadata": {
    "slideshow": {
     "slide_type": "-"
    }
   },
   "outputs": [
    {
     "data": {
      "text/plain": [
       "926"
      ]
     },
     "execution_count": 50,
     "metadata": {},
     "output_type": "execute_result"
    }
   ],
   "source": [
    "delta.days"
   ]
  },
  {
   "cell_type": "code",
   "execution_count": 51,
   "metadata": {
    "scrolled": true,
    "slideshow": {
     "slide_type": "-"
    }
   },
   "outputs": [
    {
     "data": {
      "text/plain": [
       "56700"
      ]
     },
     "execution_count": 51,
     "metadata": {},
     "output_type": "execute_result"
    }
   ],
   "source": [
    "delta.seconds"
   ]
  },
  {
   "cell_type": "markdown",
   "metadata": {
    "slideshow": {
     "slide_type": "slide"
    }
   },
   "source": [
    "+ 也可以直接构造时间差数据类型,得到给定间隔的时间,timedelta表示两个datetime对象的时间差。时间和时间差之间可以进行加减运算。"
   ]
  },
  {
   "cell_type": "code",
   "execution_count": 52,
   "metadata": {
    "slideshow": {
     "slide_type": "-"
    }
   },
   "outputs": [
    {
     "data": {
      "text/plain": [
       "datetime.datetime(2011, 5, 7, 0, 0)"
      ]
     },
     "execution_count": 52,
     "metadata": {},
     "output_type": "execute_result"
    }
   ],
   "source": [
    "from datetime import timedelta\n",
    "start = datetime(2011, 1, 7)\n",
    "start + timedelta(days=120)"
   ]
  },
  {
   "cell_type": "code",
   "execution_count": 53,
   "metadata": {
    "slideshow": {
     "slide_type": "-"
    }
   },
   "outputs": [
    {
     "data": {
      "text/plain": [
       "datetime.datetime(2010, 12, 14, 0, 0)"
      ]
     },
     "execution_count": 53,
     "metadata": {},
     "output_type": "execute_result"
    }
   ],
   "source": [
    "start - 2 * timedelta(days=12)"
   ]
  },
  {
   "cell_type": "markdown",
   "metadata": {
    "slideshow": {
     "slide_type": "slide"
    }
   },
   "source": [
    "### 字符串和datetime的相互转换\n",
    "\n",
    "+ str或者strftime方法可以将日期时间转换为字符串\n"
   ]
  },
  {
   "cell_type": "code",
   "execution_count": 54,
   "metadata": {
    "slideshow": {
     "slide_type": "-"
    }
   },
   "outputs": [],
   "source": [
    "stamp = datetime(2011, 1, 3,6)"
   ]
  },
  {
   "cell_type": "code",
   "execution_count": 55,
   "metadata": {
    "slideshow": {
     "slide_type": "-"
    }
   },
   "outputs": [
    {
     "data": {
      "text/plain": [
       "'2011-01-03 06:00:00'"
      ]
     },
     "execution_count": 55,
     "metadata": {},
     "output_type": "execute_result"
    }
   ],
   "source": [
    "str(stamp)"
   ]
  },
  {
   "cell_type": "code",
   "execution_count": 56,
   "metadata": {
    "scrolled": true,
    "slideshow": {
     "slide_type": "-"
    }
   },
   "outputs": [
    {
     "data": {
      "text/plain": [
       "'20110103'"
      ]
     },
     "execution_count": 56,
     "metadata": {},
     "output_type": "execute_result"
    }
   ],
   "source": [
    "stamp.strftime('%Y%m%d')\n",
    "# %Y:四位的年，$y两位的年，$m月，$d日"
   ]
  },
  {
   "cell_type": "markdown",
   "metadata": {
    "slideshow": {
     "slide_type": "slide"
    }
   },
   "source": [
    "+ strptime可以将已知格式的日期时间字符串解析为时间类型 "
   ]
  },
  {
   "cell_type": "code",
   "execution_count": 57,
   "metadata": {
    "slideshow": {
     "slide_type": "-"
    }
   },
   "outputs": [
    {
     "data": {
      "text/plain": [
       "datetime.datetime(2011, 1, 3, 0, 0)"
      ]
     },
     "execution_count": 57,
     "metadata": {},
     "output_type": "execute_result"
    }
   ],
   "source": [
    "value = '2011-01-03'\n",
    "datetime.strptime(value, '%Y-%m-%d')#要给出格式"
   ]
  },
  {
   "cell_type": "code",
   "execution_count": 58,
   "metadata": {
    "slideshow": {
     "slide_type": "-"
    }
   },
   "outputs": [
    {
     "data": {
      "text/plain": [
       "datetime.datetime(2001, 1, 10, 10, 10, 10, 500000)"
      ]
     },
     "execution_count": 58,
     "metadata": {},
     "output_type": "execute_result"
    }
   ],
   "source": [
    "datetime.strptime(\"2001-01-10 10:10:10.5\", \"%Y-%m-%d %I:%M:%S.%f\")\n",
    "# %M 分，%S 秒"
   ]
  },
  {
   "cell_type": "code",
   "execution_count": 59,
   "metadata": {
    "slideshow": {
     "slide_type": "-"
    }
   },
   "outputs": [
    {
     "data": {
      "text/plain": [
       "[datetime.datetime(2011, 7, 6, 0, 0), datetime.datetime(2011, 8, 6, 0, 0)]"
      ]
     },
     "execution_count": 59,
     "metadata": {},
     "output_type": "execute_result"
    }
   ],
   "source": [
    "datestrs = ['7/6/2011', '8/6/2011']\n",
    "[datetime.strptime(x, '%m/%d/%Y') for x in datestrs]"
   ]
  },
  {
   "cell_type": "markdown",
   "metadata": {
    "slideshow": {
     "slide_type": "slide"
    }
   },
   "source": [
    "datetime格式：\n",
    "\n",
    "格式 | 含义\n",
    "------ | ------\n",
    "%Y | 四位年\n",
    "%y |两位年\n",
    "%m |2位月\n",
    "%d |两位日\n",
    "%H |时 24小时制\n",
    "%I |时 12小时制\n",
    "%M |分钟\n",
    "%S |秒\n",
    "%w |星期几,0表示周日\n",
    "%W |每年的第几周 [0，53]，每年第一个星期一之前的那周为第0周\n",
    "%F |%Y-%m-%d 简写 2014-2-1\n",
    "%D |%m/%d/%y 简写 04/16/12\n"
   ]
  },
  {
   "cell_type": "markdown",
   "metadata": {
    "slideshow": {
     "slide_type": "slide"
    }
   },
   "source": [
    "+ pandas中的to_datetime 方法也可以解析成组日期。"
   ]
  },
  {
   "cell_type": "code",
   "execution_count": 60,
   "metadata": {
    "slideshow": {
     "slide_type": "-"
    }
   },
   "outputs": [
    {
     "data": {
      "text/plain": [
       "['7/6/2011', '8/6/2011']"
      ]
     },
     "execution_count": 60,
     "metadata": {},
     "output_type": "execute_result"
    }
   ],
   "source": [
    "datestrs"
   ]
  },
  {
   "cell_type": "code",
   "execution_count": 61,
   "metadata": {
    "slideshow": {
     "slide_type": "-"
    }
   },
   "outputs": [
    {
     "data": {
      "text/plain": [
       "DatetimeIndex(['2011-07-06', '2011-08-06'], dtype='datetime64[ns]', freq=None)"
      ]
     },
     "execution_count": 61,
     "metadata": {},
     "output_type": "execute_result"
    }
   ],
   "source": [
    "pd.to_datetime(datestrs)\n",
    "# note: output changed (no '00:00:00' anymore)"
   ]
  },
  {
   "cell_type": "markdown",
   "metadata": {
    "slideshow": {
     "slide_type": "slide"
    }
   },
   "source": [
    "## Time Series Basics\n",
    "Pandas 中最基本是时间序列类型是以时间为索引的Series"
   ]
  },
  {
   "cell_type": "code",
   "execution_count": 62,
   "metadata": {
    "slideshow": {
     "slide_type": "-"
    }
   },
   "outputs": [
    {
     "data": {
      "text/plain": [
       "2011-01-02    0.730945\n",
       "2011-01-05   -1.413019\n",
       "2011-01-07   -0.985091\n",
       "2011-01-08   -0.115496\n",
       "2011-01-10    0.965768\n",
       "2011-01-12   -0.505679\n",
       "dtype: float64"
      ]
     },
     "execution_count": 62,
     "metadata": {},
     "output_type": "execute_result"
    }
   ],
   "source": [
    "from datetime import datetime\n",
    "dates = [datetime(2011, 1, 2), datetime(2011, 1, 5), datetime(2011, 1, 7),\n",
    "         datetime(2011, 1, 8), datetime(2011, 1, 10), datetime(2011, 1, 12)]\n",
    "ts = Series(np.random.randn(6), index=dates)#dates as the index of the new Series\n",
    "ts"
   ]
  },
  {
   "cell_type": "markdown",
   "metadata": {
    "slideshow": {
     "slide_type": "slide"
    }
   },
   "source": [
    "+ 不同索引时间序列之间的运算会自动按时间对齐。"
   ]
  },
  {
   "cell_type": "code",
   "execution_count": 63,
   "metadata": {
    "slideshow": {
     "slide_type": "-"
    }
   },
   "outputs": [
    {
     "data": {
      "text/plain": [
       "2011-01-02    1.461890\n",
       "2011-01-05         NaN\n",
       "2011-01-07   -1.970182\n",
       "2011-01-08         NaN\n",
       "2011-01-10    1.931536\n",
       "2011-01-12         NaN\n",
       "dtype: float64"
      ]
     },
     "execution_count": 63,
     "metadata": {},
     "output_type": "execute_result"
    }
   ],
   "source": [
    "ts + ts[::2]\n",
    "##：：2表示每取0，2，4\n"
   ]
  },
  {
   "cell_type": "markdown",
   "metadata": {
    "slideshow": {
     "slide_type": "slide"
    }
   },
   "source": [
    "### Generating date ranges"
   ]
  },
  {
   "cell_type": "code",
   "execution_count": 64,
   "metadata": {
    "slideshow": {
     "slide_type": "-"
    }
   },
   "outputs": [
    {
     "data": {
      "text/plain": [
       "DatetimeIndex(['2012-04-01', '2012-04-02', '2012-04-03', '2012-04-04',\n",
       "               '2012-04-05', '2012-04-06', '2012-04-07', '2012-04-08',\n",
       "               '2012-04-09', '2012-04-10', '2012-04-11', '2012-04-12',\n",
       "               '2012-04-13', '2012-04-14', '2012-04-15', '2012-04-16',\n",
       "               '2012-04-17', '2012-04-18', '2012-04-19', '2012-04-20',\n",
       "               '2012-04-21', '2012-04-22', '2012-04-23', '2012-04-24',\n",
       "               '2012-04-25', '2012-04-26', '2012-04-27', '2012-04-28',\n",
       "               '2012-04-29', '2012-04-30', '2012-05-01', '2012-05-02',\n",
       "               '2012-05-03', '2012-05-04', '2012-05-05', '2012-05-06',\n",
       "               '2012-05-07', '2012-05-08', '2012-05-09', '2012-05-10',\n",
       "               '2012-05-11', '2012-05-12', '2012-05-13', '2012-05-14',\n",
       "               '2012-05-15', '2012-05-16', '2012-05-17', '2012-05-18',\n",
       "               '2012-05-19', '2012-05-20', '2012-05-21', '2012-05-22',\n",
       "               '2012-05-23', '2012-05-24', '2012-05-25', '2012-05-26',\n",
       "               '2012-05-27', '2012-05-28', '2012-05-29', '2012-05-30',\n",
       "               '2012-05-31', '2012-06-01'],\n",
       "              dtype='datetime64[ns]', freq='D')"
      ]
     },
     "execution_count": 64,
     "metadata": {},
     "output_type": "execute_result"
    }
   ],
   "source": [
    "index = pd.date_range('4/1/2012', '6/1/2012')\n",
    "index"
   ]
  },
  {
   "cell_type": "code",
   "execution_count": 65,
   "metadata": {
    "slideshow": {
     "slide_type": "slide"
    }
   },
   "outputs": [
    {
     "data": {
      "text/plain": [
       "DatetimeIndex(['2012-04-01', '2012-04-02', '2012-04-03', '2012-04-04',\n",
       "               '2012-04-05', '2012-04-06', '2012-04-07', '2012-04-08',\n",
       "               '2012-04-09', '2012-04-10', '2012-04-11', '2012-04-12',\n",
       "               '2012-04-13', '2012-04-14', '2012-04-15', '2012-04-16',\n",
       "               '2012-04-17', '2012-04-18', '2012-04-19', '2012-04-20'],\n",
       "              dtype='datetime64[ns]', freq='D')"
      ]
     },
     "execution_count": 65,
     "metadata": {},
     "output_type": "execute_result"
    }
   ],
   "source": [
    "pd.date_range(start='4/1/2012', periods=20)"
   ]
  },
  {
   "cell_type": "code",
   "execution_count": 66,
   "metadata": {},
   "outputs": [
    {
     "name": "stdout",
     "output_type": "stream",
     "text": [
      "\u001b[1;31mSignature:\u001b[0m\n",
      "\u001b[0mpd\u001b[0m\u001b[1;33m.\u001b[0m\u001b[0mdate_range\u001b[0m\u001b[1;33m(\u001b[0m\u001b[1;33m\n",
      "\u001b[0m    \u001b[0mstart\u001b[0m\u001b[1;33m=\u001b[0m\u001b[1;32mNone\u001b[0m\u001b[1;33m,\u001b[0m\u001b[1;33m\n",
      "\u001b[0m    \u001b[0mend\u001b[0m\u001b[1;33m=\u001b[0m\u001b[1;32mNone\u001b[0m\u001b[1;33m,\u001b[0m\u001b[1;33m\n",
      "\u001b[0m    \u001b[0mperiods\u001b[0m\u001b[1;33m=\u001b[0m\u001b[1;32mNone\u001b[0m\u001b[1;33m,\u001b[0m\u001b[1;33m\n",
      "\u001b[0m    \u001b[0mfreq\u001b[0m\u001b[1;33m=\u001b[0m\u001b[1;32mNone\u001b[0m\u001b[1;33m,\u001b[0m\u001b[1;33m\n",
      "\u001b[0m    \u001b[0mtz\u001b[0m\u001b[1;33m=\u001b[0m\u001b[1;32mNone\u001b[0m\u001b[1;33m,\u001b[0m\u001b[1;33m\n",
      "\u001b[0m    \u001b[0mnormalize\u001b[0m\u001b[1;33m:\u001b[0m \u001b[1;34m'bool'\u001b[0m \u001b[1;33m=\u001b[0m \u001b[1;32mFalse\u001b[0m\u001b[1;33m,\u001b[0m\u001b[1;33m\n",
      "\u001b[0m    \u001b[0mname\u001b[0m\u001b[1;33m:\u001b[0m \u001b[1;34m'Hashable'\u001b[0m \u001b[1;33m=\u001b[0m \u001b[1;32mNone\u001b[0m\u001b[1;33m,\u001b[0m\u001b[1;33m\n",
      "\u001b[0m    \u001b[0mclosed\u001b[0m\u001b[1;33m:\u001b[0m \u001b[1;34m\"Literal['left', 'right'] | None | lib.NoDefault\"\u001b[0m \u001b[1;33m=\u001b[0m \u001b[1;33m<\u001b[0m\u001b[0mno_default\u001b[0m\u001b[1;33m>\u001b[0m\u001b[1;33m,\u001b[0m\u001b[1;33m\n",
      "\u001b[0m    \u001b[0minclusive\u001b[0m\u001b[1;33m:\u001b[0m \u001b[1;34m'IntervalClosedType | None'\u001b[0m \u001b[1;33m=\u001b[0m \u001b[1;32mNone\u001b[0m\u001b[1;33m,\u001b[0m\u001b[1;33m\n",
      "\u001b[0m    \u001b[1;33m**\u001b[0m\u001b[0mkwargs\u001b[0m\u001b[1;33m,\u001b[0m\u001b[1;33m\n",
      "\u001b[0m\u001b[1;33m)\u001b[0m \u001b[1;33m->\u001b[0m \u001b[1;34m'DatetimeIndex'\u001b[0m\u001b[1;33m\u001b[0m\u001b[1;33m\u001b[0m\u001b[0m\n",
      "\u001b[1;31mDocstring:\u001b[0m\n",
      "Return a fixed frequency DatetimeIndex.\n",
      "\n",
      "Returns the range of equally spaced time points (where the difference between any\n",
      "two adjacent points is specified by the given frequency) such that they all\n",
      "satisfy `start <[=] x <[=] end`, where the first one and the last one are, resp.,\n",
      "the first and last time points in that range that fall on the boundary of ``freq``\n",
      "(if given as a frequency string) or that are valid for ``freq`` (if given as a\n",
      ":class:`pandas.tseries.offsets.DateOffset`). (If exactly one of ``start``,\n",
      "``end``, or ``freq`` is *not* specified, this missing parameter can be computed\n",
      "given ``periods``, the number of timesteps in the range. See the note below.)\n",
      "\n",
      "Parameters\n",
      "----------\n",
      "start : str or datetime-like, optional\n",
      "    Left bound for generating dates.\n",
      "end : str or datetime-like, optional\n",
      "    Right bound for generating dates.\n",
      "periods : int, optional\n",
      "    Number of periods to generate.\n",
      "freq : str or DateOffset, default 'D'\n",
      "    Frequency strings can have multiples, e.g. '5H'. See\n",
      "    :ref:`here <timeseries.offset_aliases>` for a list of\n",
      "    frequency aliases.\n",
      "tz : str or tzinfo, optional\n",
      "    Time zone name for returning localized DatetimeIndex, for example\n",
      "    'Asia/Hong_Kong'. By default, the resulting DatetimeIndex is\n",
      "    timezone-naive.\n",
      "normalize : bool, default False\n",
      "    Normalize start/end dates to midnight before generating date range.\n",
      "name : str, default None\n",
      "    Name of the resulting DatetimeIndex.\n",
      "closed : {None, 'left', 'right'}, optional\n",
      "    Make the interval closed with respect to the given frequency to\n",
      "    the 'left', 'right', or both sides (None, the default).\n",
      "\n",
      "    .. deprecated:: 1.4.0\n",
      "       Argument `closed` has been deprecated to standardize boundary inputs.\n",
      "       Use `inclusive` instead, to set each bound as closed or open.\n",
      "inclusive : {\"both\", \"neither\", \"left\", \"right\"}, default \"both\"\n",
      "    Include boundaries; Whether to set each bound as closed or open.\n",
      "\n",
      "    .. versionadded:: 1.4.0\n",
      "**kwargs\n",
      "    For compatibility. Has no effect on the result.\n",
      "\n",
      "Returns\n",
      "-------\n",
      "rng : DatetimeIndex\n",
      "\n",
      "See Also\n",
      "--------\n",
      "DatetimeIndex : An immutable container for datetimes.\n",
      "timedelta_range : Return a fixed frequency TimedeltaIndex.\n",
      "period_range : Return a fixed frequency PeriodIndex.\n",
      "interval_range : Return a fixed frequency IntervalIndex.\n",
      "\n",
      "Notes\n",
      "-----\n",
      "Of the four parameters ``start``, ``end``, ``periods``, and ``freq``,\n",
      "exactly three must be specified. If ``freq`` is omitted, the resulting\n",
      "``DatetimeIndex`` will have ``periods`` linearly spaced elements between\n",
      "``start`` and ``end`` (closed on both sides).\n",
      "\n",
      "To learn more about the frequency strings, please see `this link\n",
      "<https://pandas.pydata.org/pandas-docs/stable/user_guide/timeseries.html#offset-aliases>`__.\n",
      "\n",
      "Examples\n",
      "--------\n",
      "**Specifying the values**\n",
      "\n",
      "The next four examples generate the same `DatetimeIndex`, but vary\n",
      "the combination of `start`, `end` and `periods`.\n",
      "\n",
      "Specify `start` and `end`, with the default daily frequency.\n",
      "\n",
      ">>> pd.date_range(start='1/1/2018', end='1/08/2018')\n",
      "DatetimeIndex(['2018-01-01', '2018-01-02', '2018-01-03', '2018-01-04',\n",
      "               '2018-01-05', '2018-01-06', '2018-01-07', '2018-01-08'],\n",
      "              dtype='datetime64[ns]', freq='D')\n",
      "\n",
      "Specify `start` and `periods`, the number of periods (days).\n",
      "\n",
      ">>> pd.date_range(start='1/1/2018', periods=8)\n",
      "DatetimeIndex(['2018-01-01', '2018-01-02', '2018-01-03', '2018-01-04',\n",
      "               '2018-01-05', '2018-01-06', '2018-01-07', '2018-01-08'],\n",
      "              dtype='datetime64[ns]', freq='D')\n",
      "\n",
      "Specify `end` and `periods`, the number of periods (days).\n",
      "\n",
      ">>> pd.date_range(end='1/1/2018', periods=8)\n",
      "DatetimeIndex(['2017-12-25', '2017-12-26', '2017-12-27', '2017-12-28',\n",
      "               '2017-12-29', '2017-12-30', '2017-12-31', '2018-01-01'],\n",
      "              dtype='datetime64[ns]', freq='D')\n",
      "\n",
      "Specify `start`, `end`, and `periods`; the frequency is generated\n",
      "automatically (linearly spaced).\n",
      "\n",
      ">>> pd.date_range(start='2018-04-24', end='2018-04-27', periods=3)\n",
      "DatetimeIndex(['2018-04-24 00:00:00', '2018-04-25 12:00:00',\n",
      "               '2018-04-27 00:00:00'],\n",
      "              dtype='datetime64[ns]', freq=None)\n",
      "\n",
      "**Other Parameters**\n",
      "\n",
      "Changed the `freq` (frequency) to ``'M'`` (month end frequency).\n",
      "\n",
      ">>> pd.date_range(start='1/1/2018', periods=5, freq='M')\n",
      "DatetimeIndex(['2018-01-31', '2018-02-28', '2018-03-31', '2018-04-30',\n",
      "               '2018-05-31'],\n",
      "              dtype='datetime64[ns]', freq='M')\n",
      "\n",
      "Multiples are allowed\n",
      "\n",
      ">>> pd.date_range(start='1/1/2018', periods=5, freq='3M')\n",
      "DatetimeIndex(['2018-01-31', '2018-04-30', '2018-07-31', '2018-10-31',\n",
      "               '2019-01-31'],\n",
      "              dtype='datetime64[ns]', freq='3M')\n",
      "\n",
      "`freq` can also be specified as an Offset object.\n",
      "\n",
      ">>> pd.date_range(start='1/1/2018', periods=5, freq=pd.offsets.MonthEnd(3))\n",
      "DatetimeIndex(['2018-01-31', '2018-04-30', '2018-07-31', '2018-10-31',\n",
      "               '2019-01-31'],\n",
      "              dtype='datetime64[ns]', freq='3M')\n",
      "\n",
      "Specify `tz` to set the timezone.\n",
      "\n",
      ">>> pd.date_range(start='1/1/2018', periods=5, tz='Asia/Tokyo')\n",
      "DatetimeIndex(['2018-01-01 00:00:00+09:00', '2018-01-02 00:00:00+09:00',\n",
      "               '2018-01-03 00:00:00+09:00', '2018-01-04 00:00:00+09:00',\n",
      "               '2018-01-05 00:00:00+09:00'],\n",
      "              dtype='datetime64[ns, Asia/Tokyo]', freq='D')\n",
      "\n",
      "`inclusive` controls whether to include `start` and `end` that are on the\n",
      "boundary. The default, \"both\", includes boundary points on either end.\n",
      "\n",
      ">>> pd.date_range(start='2017-01-01', end='2017-01-04', inclusive=\"both\")\n",
      "DatetimeIndex(['2017-01-01', '2017-01-02', '2017-01-03', '2017-01-04'],\n",
      "              dtype='datetime64[ns]', freq='D')\n",
      "\n",
      "Use ``inclusive='left'`` to exclude `end` if it falls on the boundary.\n",
      "\n",
      ">>> pd.date_range(start='2017-01-01', end='2017-01-04', inclusive='left')\n",
      "DatetimeIndex(['2017-01-01', '2017-01-02', '2017-01-03'],\n",
      "              dtype='datetime64[ns]', freq='D')\n",
      "\n",
      "Use ``inclusive='right'`` to exclude `start` if it falls on the boundary, and\n",
      "similarly ``inclusive='neither'`` will exclude both `start` and `end`.\n",
      "\n",
      ">>> pd.date_range(start='2017-01-01', end='2017-01-04', inclusive='right')\n",
      "DatetimeIndex(['2017-01-02', '2017-01-03', '2017-01-04'],\n",
      "              dtype='datetime64[ns]', freq='D')\n",
      "\u001b[1;31mFile:\u001b[0m      d:\\anaconda3\\lib\\site-packages\\pandas\\core\\indexes\\datetimes.py\n",
      "\u001b[1;31mType:\u001b[0m      function"
     ]
    }
   ],
   "source": [
    "pd.date_range?"
   ]
  },
  {
   "cell_type": "code",
   "execution_count": 67,
   "metadata": {
    "slideshow": {
     "slide_type": "slide"
    }
   },
   "outputs": [
    {
     "data": {
      "text/plain": [
       "DatetimeIndex(['2012-05-13', '2012-05-14', '2012-05-15', '2012-05-16',\n",
       "               '2012-05-17', '2012-05-18', '2012-05-19', '2012-05-20',\n",
       "               '2012-05-21', '2012-05-22', '2012-05-23', '2012-05-24',\n",
       "               '2012-05-25', '2012-05-26', '2012-05-27', '2012-05-28',\n",
       "               '2012-05-29', '2012-05-30', '2012-05-31', '2012-06-01'],\n",
       "              dtype='datetime64[ns]', freq='D')"
      ]
     },
     "execution_count": 67,
     "metadata": {},
     "output_type": "execute_result"
    }
   ],
   "source": [
    "pd.date_range(end='6/1/2012', periods=20)"
   ]
  },
  {
   "cell_type": "code",
   "execution_count": 68,
   "metadata": {
    "slideshow": {
     "slide_type": "slide"
    }
   },
   "outputs": [
    {
     "data": {
      "text/plain": [
       "DatetimeIndex(['2015-01-30', '2015-02-27', '2015-03-31', '2015-04-30',\n",
       "               '2015-05-29', '2015-06-30', '2015-07-31', '2015-08-31',\n",
       "               '2015-09-30', '2015-10-30', '2015-11-30'],\n",
       "              dtype='datetime64[ns]', freq='BM')"
      ]
     },
     "execution_count": 68,
     "metadata": {},
     "output_type": "execute_result"
    }
   ],
   "source": [
    "pd.date_range('1/1/2015', '12/1/2015', freq='BM')\n",
    "# freq选项很多，上面表示每月的最后一个工作日"
   ]
  },
  {
   "cell_type": "code",
   "execution_count": 69,
   "metadata": {},
   "outputs": [
    {
     "data": {
      "text/plain": [
       "DatetimeIndex(['2015-01-01 00:00:00', '2015-01-01 02:00:00',\n",
       "               '2015-01-01 04:00:00', '2015-01-01 06:00:00',\n",
       "               '2015-01-01 08:00:00', '2015-01-01 10:00:00',\n",
       "               '2015-01-01 12:00:00', '2015-01-01 14:00:00',\n",
       "               '2015-01-01 16:00:00', '2015-01-01 18:00:00',\n",
       "               ...\n",
       "               '2015-11-30 06:00:00', '2015-11-30 08:00:00',\n",
       "               '2015-11-30 10:00:00', '2015-11-30 12:00:00',\n",
       "               '2015-11-30 14:00:00', '2015-11-30 16:00:00',\n",
       "               '2015-11-30 18:00:00', '2015-11-30 20:00:00',\n",
       "               '2015-11-30 22:00:00', '2015-12-01 00:00:00'],\n",
       "              dtype='datetime64[ns]', length=4009, freq='2H')"
      ]
     },
     "execution_count": 69,
     "metadata": {},
     "output_type": "execute_result"
    }
   ],
   "source": [
    "pd.date_range('1/1/2015', '12/1/2015', freq=\"2H\")"
   ]
  },
  {
   "cell_type": "code",
   "execution_count": 70,
   "metadata": {
    "slideshow": {
     "slide_type": "slide"
    }
   },
   "outputs": [
    {
     "data": {
      "text/plain": [
       "DatetimeIndex(['2012-05-02 12:56:31', '2012-05-03 12:56:31',\n",
       "               '2012-05-04 12:56:31', '2012-05-05 12:56:31',\n",
       "               '2012-05-06 12:56:31'],\n",
       "              dtype='datetime64[ns]', freq='D')"
      ]
     },
     "execution_count": 70,
     "metadata": {},
     "output_type": "execute_result"
    }
   ],
   "source": [
    "pd.date_range('5/2/2012 12:56:31', periods=5)"
   ]
  },
  {
   "cell_type": "code",
   "execution_count": 71,
   "metadata": {
    "scrolled": true,
    "slideshow": {
     "slide_type": "slide"
    }
   },
   "outputs": [
    {
     "data": {
      "text/plain": [
       "DatetimeIndex(['2012-05-02', '2012-05-03', '2012-05-04', '2012-05-05',\n",
       "               '2012-05-06'],\n",
       "              dtype='datetime64[ns]', freq='D')"
      ]
     },
     "execution_count": 71,
     "metadata": {},
     "output_type": "execute_result"
    }
   ],
   "source": [
    "pd.date_range('5/2/2012 12:56:31', periods=5, normalize=True)\n",
    "#标准化"
   ]
  },
  {
   "cell_type": "markdown",
   "metadata": {
    "slideshow": {
     "slide_type": "slide"
    }
   },
   "source": [
    "### 索引、选取、子集构造\n",
    "\n",
    " \n",
    "+ 可以通过传入年，月，日进行选择Series的子集，非常方便。\n",
    "+ 甚至可以非常直观的转入时间序列字符串设置选取的时间范围。"
   ]
  },
  {
   "cell_type": "code",
   "execution_count": 73,
   "metadata": {},
   "outputs": [
    {
     "data": {
      "text/plain": [
       "2011-01-02    0.730945\n",
       "2011-01-05   -1.413019\n",
       "2011-01-07   -0.985091\n",
       "2011-01-08   -0.115496\n",
       "2011-01-10    0.965768\n",
       "2011-01-12   -0.505679\n",
       "dtype: float64"
      ]
     },
     "execution_count": 73,
     "metadata": {},
     "output_type": "execute_result"
    }
   ],
   "source": [
    "ts"
   ]
  },
  {
   "cell_type": "code",
   "execution_count": 72,
   "metadata": {
    "slideshow": {
     "slide_type": "slide"
    }
   },
   "outputs": [
    {
     "name": "stdout",
     "output_type": "stream",
     "text": [
      "2011-01-07 00:00:00\n"
     ]
    },
    {
     "data": {
      "text/plain": [
       "-0.9850910765894495"
      ]
     },
     "execution_count": 72,
     "metadata": {},
     "output_type": "execute_result"
    }
   ],
   "source": [
    "stamp = ts.index[2]\n",
    "print(stamp)\n",
    "ts[stamp]\n"
   ]
  },
  {
   "cell_type": "code",
   "execution_count": 74,
   "metadata": {
    "slideshow": {
     "slide_type": "-"
    }
   },
   "outputs": [
    {
     "data": {
      "text/plain": [
       "0.9657677692569688"
      ]
     },
     "execution_count": 74,
     "metadata": {},
     "output_type": "execute_result"
    }
   ],
   "source": [
    "ts['1/10/2011']#也可以认出来，可以理解为是先把字符串改变为标准的时间格式，再去寻找的"
   ]
  },
  {
   "cell_type": "code",
   "execution_count": 75,
   "metadata": {
    "slideshow": {
     "slide_type": "-"
    }
   },
   "outputs": [
    {
     "data": {
      "text/plain": [
       "0.9657677692569688"
      ]
     },
     "execution_count": 75,
     "metadata": {},
     "output_type": "execute_result"
    }
   ],
   "source": [
    "ts['20110110']"
   ]
  },
  {
   "cell_type": "code",
   "execution_count": 77,
   "metadata": {
    "slideshow": {
     "slide_type": "slide"
    }
   },
   "outputs": [
    {
     "data": {
      "text/plain": [
       "2000-01-01   -0.538501\n",
       "2000-01-02   -0.867951\n",
       "2000-01-03   -0.886711\n",
       "2000-01-04   -0.409106\n",
       "2000-01-05   -0.658953\n",
       "                ...   \n",
       "2002-09-22    0.105938\n",
       "2002-09-23    1.182932\n",
       "2002-09-24   -0.499720\n",
       "2002-09-25    1.215944\n",
       "2002-09-26    1.617547\n",
       "Freq: D, Length: 1000, dtype: float64"
      ]
     },
     "execution_count": 77,
     "metadata": {},
     "output_type": "execute_result"
    }
   ],
   "source": [
    "longer_ts = Series(np.random.randn(1000),\n",
    "                   index=pd.date_range('1/1/2000', periods=1000))\n",
    "longer_ts"
   ]
  },
  {
   "cell_type": "code",
   "execution_count": 78,
   "metadata": {
    "slideshow": {
     "slide_type": "subslide"
    }
   },
   "outputs": [
    {
     "data": {
      "text/plain": [
       "2001-01-01   -1.032675\n",
       "2001-01-02    0.498920\n",
       "2001-01-03    2.343687\n",
       "2001-01-04    0.292963\n",
       "2001-01-05    0.835889\n",
       "                ...   \n",
       "2001-12-27   -0.342962\n",
       "2001-12-28   -0.358853\n",
       "2001-12-29    0.928742\n",
       "2001-12-30   -0.595095\n",
       "2001-12-31    0.694819\n",
       "Freq: D, Length: 365, dtype: float64"
      ]
     },
     "execution_count": 78,
     "metadata": {},
     "output_type": "execute_result"
    }
   ],
   "source": [
    "longer_ts['2001']#取出所有的2001年的数据"
   ]
  },
  {
   "cell_type": "code",
   "execution_count": 79,
   "metadata": {
    "slideshow": {
     "slide_type": "subslide"
    }
   },
   "outputs": [
    {
     "data": {
      "text/plain": [
       "2001-05-01   -0.592862\n",
       "2001-05-02    0.008138\n",
       "2001-05-03    1.264762\n",
       "2001-05-04    0.280549\n",
       "2001-05-05   -1.584563\n",
       "                ...   \n",
       "2001-05-27   -0.691740\n",
       "2001-05-28   -0.427595\n",
       "2001-05-29   -1.316458\n",
       "2001-05-30   -1.304623\n",
       "2001-05-31    0.388473\n",
       "Freq: D, Length: 31, dtype: float64"
      ]
     },
     "execution_count": 79,
     "metadata": {},
     "output_type": "execute_result"
    }
   ],
   "source": [
    "longer_ts['2001-05']#取出所有2001-05的所有数据"
   ]
  },
  {
   "cell_type": "code",
   "execution_count": 80,
   "metadata": {
    "scrolled": true,
    "slideshow": {
     "slide_type": "slide"
    }
   },
   "outputs": [
    {
     "data": {
      "text/plain": [
       "2011-01-02    0.730945\n",
       "2011-01-05   -1.413019\n",
       "2011-01-07   -0.985091\n",
       "2011-01-08   -0.115496\n",
       "2011-01-10    0.965768\n",
       "2011-01-12   -0.505679\n",
       "dtype: float64"
      ]
     },
     "execution_count": 80,
     "metadata": {},
     "output_type": "execute_result"
    }
   ],
   "source": [
    "ts"
   ]
  },
  {
   "cell_type": "code",
   "execution_count": 81,
   "metadata": {
    "slideshow": {
     "slide_type": "subslide"
    }
   },
   "outputs": [
    {
     "data": {
      "text/plain": [
       "2011-01-07   -0.985091\n",
       "2011-01-08   -0.115496\n",
       "2011-01-10    0.965768\n",
       "2011-01-12   -0.505679\n",
       "dtype: float64"
      ]
     },
     "execution_count": 81,
     "metadata": {},
     "output_type": "execute_result"
    }
   ],
   "source": [
    "ts[datetime(2011, 1, 7):]#取出2001-01-07及其之后的数据"
   ]
  },
  {
   "cell_type": "code",
   "execution_count": 82,
   "metadata": {
    "slideshow": {
     "slide_type": "subslide"
    }
   },
   "outputs": [
    {
     "data": {
      "text/plain": [
       "2011-01-02    0.730945\n",
       "2011-01-05   -1.413019\n",
       "2011-01-07   -0.985091\n",
       "2011-01-08   -0.115496\n",
       "dtype: float64"
      ]
     },
     "execution_count": 82,
     "metadata": {},
     "output_type": "execute_result"
    }
   ],
   "source": [
    "ts.truncate(after='1/9/2011')#使用面向对象的形式也行"
   ]
  },
  {
   "cell_type": "code",
   "execution_count": 83,
   "metadata": {
    "scrolled": false,
    "slideshow": {
     "slide_type": "subslide"
    }
   },
   "outputs": [
    {
     "data": {
      "text/plain": [
       "2011-01-07   -0.985091\n",
       "2011-01-08   -0.115496\n",
       "2011-01-10    0.965768\n",
       "2011-01-12   -0.505679\n",
       "dtype: float64"
      ]
     },
     "execution_count": 83,
     "metadata": {},
     "output_type": "execute_result"
    }
   ],
   "source": [
    "ts['1/7/2011':'1/12/2011']#与之前的切片不同，包含了初始值和终止值"
   ]
  },
  {
   "cell_type": "code",
   "execution_count": 91,
   "metadata": {
    "slideshow": {
     "slide_type": "slide"
    }
   },
   "outputs": [
    {
     "data": {
      "text/html": [
       "<div>\n",
       "<style scoped>\n",
       "    .dataframe tbody tr th:only-of-type {\n",
       "        vertical-align: middle;\n",
       "    }\n",
       "\n",
       "    .dataframe tbody tr th {\n",
       "        vertical-align: top;\n",
       "    }\n",
       "\n",
       "    .dataframe thead th {\n",
       "        text-align: right;\n",
       "    }\n",
       "</style>\n",
       "<table border=\"1\" class=\"dataframe\">\n",
       "  <thead>\n",
       "    <tr style=\"text-align: right;\">\n",
       "      <th></th>\n",
       "      <th>Colorado</th>\n",
       "      <th>Texas</th>\n",
       "      <th>New York</th>\n",
       "      <th>Ohio</th>\n",
       "    </tr>\n",
       "  </thead>\n",
       "  <tbody>\n",
       "    <tr>\n",
       "      <th>2023-10-10</th>\n",
       "      <td>-0.033112</td>\n",
       "      <td>-0.220518</td>\n",
       "      <td>1.327467</td>\n",
       "      <td>2.026256</td>\n",
       "    </tr>\n",
       "    <tr>\n",
       "      <th>2023-10-17</th>\n",
       "      <td>-1.997557</td>\n",
       "      <td>1.557152</td>\n",
       "      <td>-0.044465</td>\n",
       "      <td>1.292714</td>\n",
       "    </tr>\n",
       "    <tr>\n",
       "      <th>2023-10-24</th>\n",
       "      <td>1.761324</td>\n",
       "      <td>-0.095386</td>\n",
       "      <td>3.580562</td>\n",
       "      <td>0.254803</td>\n",
       "    </tr>\n",
       "    <tr>\n",
       "      <th>2023-10-31</th>\n",
       "      <td>1.389296</td>\n",
       "      <td>-0.914370</td>\n",
       "      <td>1.934397</td>\n",
       "      <td>0.163980</td>\n",
       "    </tr>\n",
       "  </tbody>\n",
       "</table>\n",
       "</div>"
      ],
      "text/plain": [
       "            Colorado     Texas  New York      Ohio\n",
       "2023-10-10 -0.033112 -0.220518  1.327467  2.026256\n",
       "2023-10-17 -1.997557  1.557152 -0.044465  1.292714\n",
       "2023-10-24  1.761324 -0.095386  3.580562  0.254803\n",
       "2023-10-31  1.389296 -0.914370  1.934397  0.163980"
      ]
     },
     "execution_count": 91,
     "metadata": {},
     "output_type": "execute_result"
    }
   ],
   "source": [
    "dates = pd.date_range('10/10/2023', periods=100, freq='W-TUE')\n",
    "long_df = DataFrame(np.random.randn(100, 4),\n",
    "                    index=dates,\n",
    "                    columns=['Colorado', 'Texas', 'New York', 'Ohio'])\n",
    "long_df.loc['2023-10']\n",
    "# 修改时间，通过输出推测W-WED的含义"
   ]
  },
  {
   "cell_type": "markdown",
   "metadata": {
    "slideshow": {
     "slide_type": "slide"
    }
   },
   "source": [
    "### Time series with duplicate indices***\n",
    "有时候一个时间点上可能有多个观察，即索引可以有重复，这时选择得到的数据可能是一组数据。"
   ]
  },
  {
   "cell_type": "code",
   "execution_count": 93,
   "metadata": {
    "slideshow": {
     "slide_type": "-"
    }
   },
   "outputs": [
    {
     "data": {
      "text/plain": [
       "2000-01-01    0\n",
       "2000-01-02    1\n",
       "2000-01-02    2\n",
       "2000-01-02    3\n",
       "2000-01-03    4\n",
       "dtype: int32"
      ]
     },
     "execution_count": 93,
     "metadata": {},
     "output_type": "execute_result"
    }
   ],
   "source": [
    "dates = pd.DatetimeIndex(['1/1/2000', '1/2/2000', '1/2/2000', '1/2/2000',\n",
    "                          '1/3/2000'])\n",
    "dup_ts = Series(np.arange(5), index=dates)\n",
    "dup_ts"
   ]
  },
  {
   "cell_type": "code",
   "execution_count": 95,
   "metadata": {
    "slideshow": {
     "slide_type": "subslide"
    }
   },
   "outputs": [
    {
     "data": {
      "text/plain": [
       "False"
      ]
     },
     "execution_count": 95,
     "metadata": {},
     "output_type": "execute_result"
    }
   ],
   "source": [
    "dup_ts.index.is_unique#判断index是不是unique的"
   ]
  },
  {
   "cell_type": "code",
   "execution_count": 96,
   "metadata": {
    "slideshow": {
     "slide_type": "subslide"
    }
   },
   "outputs": [
    {
     "data": {
      "text/plain": [
       "4"
      ]
     },
     "execution_count": 96,
     "metadata": {},
     "output_type": "execute_result"
    }
   ],
   "source": [
    "dup_ts['1/3/2000']  # not duplicated"
   ]
  },
  {
   "cell_type": "code",
   "execution_count": 97,
   "metadata": {
    "slideshow": {
     "slide_type": "subslide"
    }
   },
   "outputs": [
    {
     "data": {
      "text/plain": [
       "2000-01-02    1\n",
       "2000-01-02    2\n",
       "2000-01-02    3\n",
       "dtype: int32"
      ]
     },
     "execution_count": 97,
     "metadata": {},
     "output_type": "execute_result"
    }
   ],
   "source": [
    "dup_ts['1/2/2000']  # duplicated"
   ]
  },
  {
   "cell_type": "code",
   "execution_count": 100,
   "metadata": {
    "slideshow": {
     "slide_type": "slide"
    }
   },
   "outputs": [
    {
     "data": {
      "text/plain": [
       "2000-01-01    0.0\n",
       "2000-01-02    2.0\n",
       "2000-01-03    4.0\n",
       "dtype: float64"
      ]
     },
     "execution_count": 100,
     "metadata": {},
     "output_type": "execute_result"
    }
   ],
   "source": [
    "grouped = dup_ts.groupby(level=0)#level=0 实际上只有一个Index, not multi-index\n",
    "grouped.mean()\n",
    "#level是怎么用的？"
   ]
  },
  {
   "cell_type": "code",
   "execution_count": 101,
   "metadata": {},
   "outputs": [
    {
     "name": "stdout",
     "output_type": "stream",
     "text": [
      "\u001b[1;31mSignature:\u001b[0m\n",
      "\u001b[0mdup_ts\u001b[0m\u001b[1;33m.\u001b[0m\u001b[0mgroupby\u001b[0m\u001b[1;33m(\u001b[0m\u001b[1;33m\n",
      "\u001b[0m    \u001b[0mby\u001b[0m\u001b[1;33m=\u001b[0m\u001b[1;32mNone\u001b[0m\u001b[1;33m,\u001b[0m\u001b[1;33m\n",
      "\u001b[0m    \u001b[0maxis\u001b[0m\u001b[1;33m:\u001b[0m \u001b[1;34m'Axis'\u001b[0m \u001b[1;33m=\u001b[0m \u001b[1;36m0\u001b[0m\u001b[1;33m,\u001b[0m\u001b[1;33m\n",
      "\u001b[0m    \u001b[0mlevel\u001b[0m\u001b[1;33m:\u001b[0m \u001b[1;34m'Level'\u001b[0m \u001b[1;33m=\u001b[0m \u001b[1;32mNone\u001b[0m\u001b[1;33m,\u001b[0m\u001b[1;33m\n",
      "\u001b[0m    \u001b[0mas_index\u001b[0m\u001b[1;33m:\u001b[0m \u001b[1;34m'bool'\u001b[0m \u001b[1;33m=\u001b[0m \u001b[1;32mTrue\u001b[0m\u001b[1;33m,\u001b[0m\u001b[1;33m\n",
      "\u001b[0m    \u001b[0msort\u001b[0m\u001b[1;33m:\u001b[0m \u001b[1;34m'bool'\u001b[0m \u001b[1;33m=\u001b[0m \u001b[1;32mTrue\u001b[0m\u001b[1;33m,\u001b[0m\u001b[1;33m\n",
      "\u001b[0m    \u001b[0mgroup_keys\u001b[0m\u001b[1;33m:\u001b[0m \u001b[1;34m'bool | lib.NoDefault'\u001b[0m \u001b[1;33m=\u001b[0m \u001b[1;33m<\u001b[0m\u001b[0mno_default\u001b[0m\u001b[1;33m>\u001b[0m\u001b[1;33m,\u001b[0m\u001b[1;33m\n",
      "\u001b[0m    \u001b[0msqueeze\u001b[0m\u001b[1;33m:\u001b[0m \u001b[1;34m'bool | lib.NoDefault'\u001b[0m \u001b[1;33m=\u001b[0m \u001b[1;33m<\u001b[0m\u001b[0mno_default\u001b[0m\u001b[1;33m>\u001b[0m\u001b[1;33m,\u001b[0m\u001b[1;33m\n",
      "\u001b[0m    \u001b[0mobserved\u001b[0m\u001b[1;33m:\u001b[0m \u001b[1;34m'bool'\u001b[0m \u001b[1;33m=\u001b[0m \u001b[1;32mFalse\u001b[0m\u001b[1;33m,\u001b[0m\u001b[1;33m\n",
      "\u001b[0m    \u001b[0mdropna\u001b[0m\u001b[1;33m:\u001b[0m \u001b[1;34m'bool'\u001b[0m \u001b[1;33m=\u001b[0m \u001b[1;32mTrue\u001b[0m\u001b[1;33m,\u001b[0m\u001b[1;33m\n",
      "\u001b[0m\u001b[1;33m)\u001b[0m \u001b[1;33m->\u001b[0m \u001b[1;34m'SeriesGroupBy'\u001b[0m\u001b[1;33m\u001b[0m\u001b[1;33m\u001b[0m\u001b[0m\n",
      "\u001b[1;31mDocstring:\u001b[0m\n",
      "Group Series using a mapper or by a Series of columns.\n",
      "\n",
      "A groupby operation involves some combination of splitting the\n",
      "object, applying a function, and combining the results. This can be\n",
      "used to group large amounts of data and compute operations on these\n",
      "groups.\n",
      "\n",
      "Parameters\n",
      "----------\n",
      "by : mapping, function, label, or list of labels\n",
      "    Used to determine the groups for the groupby.\n",
      "    If ``by`` is a function, it's called on each value of the object's\n",
      "    index. If a dict or Series is passed, the Series or dict VALUES\n",
      "    will be used to determine the groups (the Series' values are first\n",
      "    aligned; see ``.align()`` method). If a list or ndarray of length\n",
      "    equal to the selected axis is passed (see the `groupby user guide\n",
      "    <https://pandas.pydata.org/pandas-docs/stable/user_guide/groupby.html#splitting-an-object-into-groups>`_),\n",
      "    the values are used as-is to determine the groups. A label or list\n",
      "    of labels may be passed to group by the columns in ``self``.\n",
      "    Notice that a tuple is interpreted as a (single) key.\n",
      "axis : {0 or 'index', 1 or 'columns'}, default 0\n",
      "    Split along rows (0) or columns (1). For `Series` this parameter\n",
      "    is unused and defaults to 0.\n",
      "level : int, level name, or sequence of such, default None\n",
      "    If the axis is a MultiIndex (hierarchical), group by a particular\n",
      "    level or levels. Do not specify both ``by`` and ``level``.\n",
      "as_index : bool, default True\n",
      "    For aggregated output, return object with group labels as the\n",
      "    index. Only relevant for DataFrame input. as_index=False is\n",
      "    effectively \"SQL-style\" grouped output.\n",
      "sort : bool, default True\n",
      "    Sort group keys. Get better performance by turning this off.\n",
      "    Note this does not influence the order of observations within each\n",
      "    group. Groupby preserves the order of rows within each group.\n",
      "group_keys : bool, optional\n",
      "    When calling apply and the ``by`` argument produces a like-indexed\n",
      "    (i.e. :ref:`a transform <groupby.transform>`) result, add group keys to\n",
      "    index to identify pieces. By default group keys are not included\n",
      "    when the result's index (and column) labels match the inputs, and\n",
      "    are included otherwise. This argument has no effect if the result produced\n",
      "    is not like-indexed with respect to the input.\n",
      "\n",
      "    .. versionchanged:: 1.5.0\n",
      "\n",
      "       Warns that `group_keys` will no longer be ignored when the\n",
      "       result from ``apply`` is a like-indexed Series or DataFrame.\n",
      "       Specify ``group_keys`` explicitly to include the group keys or\n",
      "       not.\n",
      "squeeze : bool, default False\n",
      "    Reduce the dimensionality of the return type if possible,\n",
      "    otherwise return a consistent type.\n",
      "\n",
      "    .. deprecated:: 1.1.0\n",
      "\n",
      "observed : bool, default False\n",
      "    This only applies if any of the groupers are Categoricals.\n",
      "    If True: only show observed values for categorical groupers.\n",
      "    If False: show all values for categorical groupers.\n",
      "dropna : bool, default True\n",
      "    If True, and if group keys contain NA values, NA values together\n",
      "    with row/column will be dropped.\n",
      "    If False, NA values will also be treated as the key in groups.\n",
      "\n",
      "    .. versionadded:: 1.1.0\n",
      "\n",
      "Returns\n",
      "-------\n",
      "SeriesGroupBy\n",
      "    Returns a groupby object that contains information about the groups.\n",
      "\n",
      "See Also\n",
      "--------\n",
      "resample : Convenience method for frequency conversion and resampling\n",
      "    of time series.\n",
      "\n",
      "Notes\n",
      "-----\n",
      "See the `user guide\n",
      "<https://pandas.pydata.org/pandas-docs/stable/groupby.html>`__ for more\n",
      "detailed usage and examples, including splitting an object into groups,\n",
      "iterating through groups, selecting a group, aggregation, and more.\n",
      "\n",
      "Examples\n",
      "--------\n",
      ">>> ser = pd.Series([390., 350., 30., 20.],\n",
      "...                 index=['Falcon', 'Falcon', 'Parrot', 'Parrot'], name=\"Max Speed\")\n",
      ">>> ser\n",
      "Falcon    390.0\n",
      "Falcon    350.0\n",
      "Parrot     30.0\n",
      "Parrot     20.0\n",
      "Name: Max Speed, dtype: float64\n",
      ">>> ser.groupby([\"a\", \"b\", \"a\", \"b\"]).mean()\n",
      "a    210.0\n",
      "b    185.0\n",
      "Name: Max Speed, dtype: float64\n",
      ">>> ser.groupby(level=0).mean()\n",
      "Falcon    370.0\n",
      "Parrot     25.0\n",
      "Name: Max Speed, dtype: float64\n",
      ">>> ser.groupby(ser > 100).mean()\n",
      "Max Speed\n",
      "False     25.0\n",
      "True     370.0\n",
      "Name: Max Speed, dtype: float64\n",
      "\n",
      "**Grouping by Indexes**\n",
      "\n",
      "We can groupby different levels of a hierarchical index\n",
      "using the `level` parameter:\n",
      "\n",
      ">>> arrays = [['Falcon', 'Falcon', 'Parrot', 'Parrot'],\n",
      "...           ['Captive', 'Wild', 'Captive', 'Wild']]\n",
      ">>> index = pd.MultiIndex.from_arrays(arrays, names=('Animal', 'Type'))\n",
      ">>> ser = pd.Series([390., 350., 30., 20.], index=index, name=\"Max Speed\")\n",
      ">>> ser\n",
      "Animal  Type\n",
      "Falcon  Captive    390.0\n",
      "        Wild       350.0\n",
      "Parrot  Captive     30.0\n",
      "        Wild        20.0\n",
      "Name: Max Speed, dtype: float64\n",
      ">>> ser.groupby(level=0).mean()\n",
      "Animal\n",
      "Falcon    370.0\n",
      "Parrot     25.0\n",
      "Name: Max Speed, dtype: float64\n",
      ">>> ser.groupby(level=\"Type\").mean()\n",
      "Type\n",
      "Captive    210.0\n",
      "Wild       185.0\n",
      "Name: Max Speed, dtype: float64\n",
      "\n",
      "We can also choose to include `NA` in group keys or not by defining\n",
      "`dropna` parameter, the default setting is `True`.\n",
      "\n",
      ">>> ser = pd.Series([1, 2, 3, 3], index=[\"a\", 'a', 'b', np.nan])\n",
      ">>> ser.groupby(level=0).sum()\n",
      "a    3\n",
      "b    3\n",
      "dtype: int64\n",
      "\n",
      ">>> ser.groupby(level=0, dropna=False).sum()\n",
      "a    3\n",
      "b    3\n",
      "NaN  3\n",
      "dtype: int64\n",
      "\n",
      ">>> arrays = ['Falcon', 'Falcon', 'Parrot', 'Parrot']\n",
      ">>> ser = pd.Series([390., 350., 30., 20.], index=arrays, name=\"Max Speed\")\n",
      ">>> ser.groupby([\"a\", \"b\", \"a\", np.nan]).mean()\n",
      "a    210.0\n",
      "b    350.0\n",
      "Name: Max Speed, dtype: float64\n",
      "\n",
      ">>> ser.groupby([\"a\", \"b\", \"a\", np.nan], dropna=False).mean()\n",
      "a    210.0\n",
      "b    350.0\n",
      "NaN   20.0\n",
      "Name: Max Speed, dtype: float64\n",
      "\u001b[1;31mFile:\u001b[0m      d:\\anaconda3\\lib\\site-packages\\pandas\\core\\series.py\n",
      "\u001b[1;31mType:\u001b[0m      method"
     ]
    }
   ],
   "source": [
    "dup_ts.groupby?\n",
    "# 看LEVEL的解释和例子"
   ]
  },
  {
   "cell_type": "code",
   "execution_count": 102,
   "metadata": {
    "scrolled": true
   },
   "outputs": [
    {
     "data": {
      "text/plain": [
       "2000-01-01    0\n",
       "2000-01-02    1\n",
       "2000-01-02    2\n",
       "2000-01-02    3\n",
       "2000-01-03    4\n",
       "dtype: int32"
      ]
     },
     "execution_count": 102,
     "metadata": {},
     "output_type": "execute_result"
    }
   ],
   "source": [
    "dup_ts"
   ]
  },
  {
   "cell_type": "code",
   "execution_count": 103,
   "metadata": {
    "scrolled": false,
    "slideshow": {
     "slide_type": "slide"
    }
   },
   "outputs": [
    {
     "data": {
      "text/plain": [
       "2000-01-01    1\n",
       "2000-01-02    3\n",
       "2000-01-03    1\n",
       "dtype: int64"
      ]
     },
     "execution_count": 103,
     "metadata": {},
     "output_type": "execute_result"
    }
   ],
   "source": [
    "grouped.count()"
   ]
  },
  {
   "cell_type": "markdown",
   "metadata": {
    "slideshow": {
     "slide_type": "slide"
    }
   },
   "source": [
    "## Date ranges, Frequencies, and Shifting\n",
    "\n",
    "+ 使用resample方法进行取样\n",
    "+ pandas中生成一串时间的函数 date_range\n"
   ]
  },
  {
   "cell_type": "code",
   "execution_count": 104,
   "metadata": {
    "scrolled": true,
    "slideshow": {
     "slide_type": "slide"
    }
   },
   "outputs": [
    {
     "data": {
      "text/plain": [
       "2011-01-02    0.730945\n",
       "2011-01-05   -1.413019\n",
       "2011-01-07   -0.985091\n",
       "2011-01-08   -0.115496\n",
       "2011-01-10    0.965768\n",
       "2011-01-12   -0.505679\n",
       "dtype: float64"
      ]
     },
     "execution_count": 104,
     "metadata": {},
     "output_type": "execute_result"
    }
   ],
   "source": [
    "ts"
   ]
  },
  {
   "cell_type": "code",
   "execution_count": 105,
   "metadata": {
    "slideshow": {
     "slide_type": "slide"
    }
   },
   "outputs": [
    {
     "data": {
      "text/plain": [
       "2011-01-02    0.730945\n",
       "2011-01-03    0.000000\n",
       "2011-01-04    0.000000\n",
       "2011-01-05   -1.413019\n",
       "2011-01-06    0.000000\n",
       "2011-01-07   -0.985091\n",
       "2011-01-08   -0.115496\n",
       "2011-01-09    0.000000\n",
       "2011-01-10    0.965768\n",
       "2011-01-11    0.000000\n",
       "2011-01-12   -0.505679\n",
       "Freq: D, dtype: float64"
      ]
     },
     "execution_count": 105,
     "metadata": {},
     "output_type": "execute_result"
    }
   ],
   "source": [
    "ts.resample('D').sum()\n",
    "#对于ts，按照日抽样，（会默认补全0），"
   ]
  },
  {
   "cell_type": "code",
   "execution_count": 106,
   "metadata": {},
   "outputs": [
    {
     "data": {
      "text/plain": [
       "2011-01-02    0.730945\n",
       "2011-01-05   -2.398110\n",
       "2011-01-08    0.850272\n",
       "2011-01-11   -0.505679\n",
       "Freq: 3D, dtype: float64"
      ]
     },
     "execution_count": 106,
     "metadata": {},
     "output_type": "execute_result"
    }
   ],
   "source": [
    "ts.resample('3D').sum()"
   ]
  },
  {
   "cell_type": "markdown",
   "metadata": {
    "slideshow": {
     "slide_type": "slide"
    }
   },
   "source": [
    "###  频率和日期偏移量"
   ]
  },
  {
   "cell_type": "code",
   "execution_count": 108,
   "metadata": {
    "slideshow": {
     "slide_type": "-"
    }
   },
   "outputs": [
    {
     "data": {
      "text/plain": [
       "<2 * Hours>"
      ]
     },
     "execution_count": 108,
     "metadata": {},
     "output_type": "execute_result"
    }
   ],
   "source": [
    "from pandas.tseries.offsets import Hour, Minute\n",
    "hour = Hour(2)\n",
    "hour"
   ]
  },
  {
   "cell_type": "code",
   "execution_count": 109,
   "metadata": {
    "slideshow": {
     "slide_type": "slide"
    }
   },
   "outputs": [
    {
     "data": {
      "text/plain": [
       "DatetimeIndex(['2000-01-01 00:00:00', '2000-01-01 04:00:00',\n",
       "               '2000-01-01 08:00:00', '2000-01-01 12:00:00',\n",
       "               '2000-01-01 16:00:00', '2000-01-01 20:00:00',\n",
       "               '2000-01-02 00:00:00', '2000-01-02 04:00:00',\n",
       "               '2000-01-02 08:00:00', '2000-01-02 12:00:00',\n",
       "               '2000-01-02 16:00:00', '2000-01-02 20:00:00',\n",
       "               '2000-01-03 00:00:00', '2000-01-03 04:00:00',\n",
       "               '2000-01-03 08:00:00', '2000-01-03 12:00:00',\n",
       "               '2000-01-03 16:00:00', '2000-01-03 20:00:00'],\n",
       "              dtype='datetime64[ns]', freq='4H')"
      ]
     },
     "execution_count": 109,
     "metadata": {},
     "output_type": "execute_result"
    }
   ],
   "source": [
    "pd.date_range('1/1/2000', '1/3/2000 23:59', freq='4h')"
   ]
  },
  {
   "cell_type": "code",
   "execution_count": 110,
   "metadata": {
    "slideshow": {
     "slide_type": "slide"
    }
   },
   "outputs": [
    {
     "data": {
      "text/plain": [
       "<150 * Minutes>"
      ]
     },
     "execution_count": 110,
     "metadata": {},
     "output_type": "execute_result"
    }
   ],
   "source": [
    "Hour(2) + Minute(30)"
   ]
  },
  {
   "cell_type": "code",
   "execution_count": 115,
   "metadata": {
    "slideshow": {
     "slide_type": "slide"
    }
   },
   "outputs": [
    {
     "data": {
      "text/plain": [
       "DatetimeIndex(['2000-01-01 00:00:00', '2000-01-01 01:30:00',\n",
       "               '2000-01-01 03:00:00', '2000-01-01 04:30:00',\n",
       "               '2000-01-01 06:00:00', '2000-01-01 07:30:00',\n",
       "               '2000-01-01 09:00:00', '2000-01-01 10:30:00',\n",
       "               '2000-01-01 12:00:00', '2000-01-01 13:30:00'],\n",
       "              dtype='datetime64[ns]', freq='90T')"
      ]
     },
     "execution_count": 115,
     "metadata": {},
     "output_type": "execute_result"
    }
   ],
   "source": [
    "pd.date_range(start='1/1/2000', periods=10, freq=(Hour(1) + Minute(30)))"
   ]
  },
  {
   "cell_type": "markdown",
   "metadata": {
    "slideshow": {
     "slide_type": "slide"
    }
   },
   "source": [
    "+ 下面的freq选项表示每月第三个星期五，WOM表示 week of month"
   ]
  },
  {
   "cell_type": "code",
   "execution_count": 119,
   "metadata": {
    "scrolled": true,
    "slideshow": {
     "slide_type": "-"
    }
   },
   "outputs": [
    {
     "data": {
      "text/plain": [
       "[Timestamp('2023-09-15 00:00:00', freq='WOM-3FRI'),\n",
       " Timestamp('2023-10-20 00:00:00', freq='WOM-3FRI')]"
      ]
     },
     "execution_count": 119,
     "metadata": {},
     "output_type": "execute_result"
    }
   ],
   "source": [
    "rng = pd.date_range(start='9/1/2023', end='11/1/2023', freq='WOM-3Fri')#每月第三个星期五\n",
    "\n",
    "list(rng)"
   ]
  },
  {
   "cell_type": "markdown",
   "metadata": {
    "slideshow": {
     "slide_type": "slide"
    }
   },
   "source": [
    "### 数据时间的平移\n",
    "\n",
    "将时间序列数据按时间平移，可以用来进行差分或者增长率计算。"
   ]
  },
  {
   "cell_type": "code",
   "execution_count": 120,
   "metadata": {},
   "outputs": [
    {
     "data": {
      "text/plain": [
       "2000-01-31    2.254607\n",
       "2000-02-29   -0.204677\n",
       "2000-03-31    0.980872\n",
       "2000-04-30    0.658216\n",
       "Freq: M, dtype: float64"
      ]
     },
     "execution_count": 120,
     "metadata": {},
     "output_type": "execute_result"
    }
   ],
   "source": [
    "ts = Series(np.random.randn(4),\n",
    "            index=pd.date_range('1/1/2000', periods=4, freq='M'))\n",
    "ts"
   ]
  },
  {
   "cell_type": "code",
   "execution_count": 121,
   "metadata": {
    "slideshow": {
     "slide_type": "slide"
    }
   },
   "outputs": [
    {
     "data": {
      "text/plain": [
       "2000-01-31         NaN\n",
       "2000-02-29    2.254607\n",
       "2000-03-31   -0.204677\n",
       "2000-04-30    0.980872\n",
       "Freq: M, dtype: float64"
      ]
     },
     "execution_count": 121,
     "metadata": {},
     "output_type": "execute_result"
    }
   ],
   "source": [
    "ts.shift(1)#把value向下平移一位"
   ]
  },
  {
   "cell_type": "code",
   "execution_count": 123,
   "metadata": {
    "slideshow": {
     "slide_type": "slide"
    }
   },
   "outputs": [
    {
     "data": {
      "text/plain": [
       "2000-01-31    0.980872\n",
       "2000-02-29    0.658216\n",
       "2000-03-31         NaN\n",
       "2000-04-30         NaN\n",
       "Freq: M, dtype: float64"
      ]
     },
     "execution_count": 123,
     "metadata": {},
     "output_type": "execute_result"
    }
   ],
   "source": [
    "ts.shift(-2)#把value向上平移2位"
   ]
  },
  {
   "cell_type": "code",
   "execution_count": 124,
   "metadata": {
    "slideshow": {
     "slide_type": "slide"
    }
   },
   "outputs": [
    {
     "data": {
      "text/plain": [
       "2000-01-31         NaN\n",
       "2000-02-29   -1.090782\n",
       "2000-03-31   -5.792283\n",
       "2000-04-30   -0.328949\n",
       "Freq: M, dtype: float64"
      ]
     },
     "execution_count": 124,
     "metadata": {},
     "output_type": "execute_result"
    }
   ],
   "source": [
    "ts/ts.shift(1)-1 #这个月/上个月 - 1"
   ]
  },
  {
   "cell_type": "code",
   "execution_count": 127,
   "metadata": {
    "slideshow": {
     "slide_type": "slide"
    }
   },
   "outputs": [
    {
     "data": {
      "text/plain": [
       "2000-04-30    2.254607\n",
       "2000-05-31   -0.204677\n",
       "2000-06-30    0.980872\n",
       "2000-07-31    0.658216\n",
       "Freq: M, dtype: float64"
      ]
     },
     "execution_count": 127,
     "metadata": {},
     "output_type": "execute_result"
    }
   ],
   "source": [
    "ts.shift(3, freq='M')#移动time，而不是value"
   ]
  },
  {
   "cell_type": "code",
   "execution_count": 128,
   "metadata": {},
   "outputs": [
    {
     "data": {
      "text/plain": [
       "2000-01-31    2.254607\n",
       "2000-02-29   -0.204677\n",
       "2000-03-31    0.980872\n",
       "2000-04-30    0.658216\n",
       "Freq: M, dtype: float64"
      ]
     },
     "execution_count": 128,
     "metadata": {},
     "output_type": "execute_result"
    }
   ],
   "source": [
    "ts"
   ]
  },
  {
   "cell_type": "code",
   "execution_count": 129,
   "metadata": {
    "slideshow": {
     "slide_type": "slide"
    }
   },
   "outputs": [
    {
     "data": {
      "text/plain": [
       "2000-02-03    2.254607\n",
       "2000-03-03   -0.204677\n",
       "2000-04-03    0.980872\n",
       "2000-05-03    0.658216\n",
       "dtype: float64"
      ]
     },
     "execution_count": 129,
     "metadata": {},
     "output_type": "execute_result"
    }
   ],
   "source": [
    "ts.shift(3, freq='D')\n",
    "# 相当于 freq=3D"
   ]
  },
  {
   "cell_type": "code",
   "execution_count": 130,
   "metadata": {
    "slideshow": {
     "slide_type": "slide"
    }
   },
   "outputs": [
    {
     "data": {
      "text/plain": [
       "2000-02-03    2.254607\n",
       "2000-03-03   -0.204677\n",
       "2000-04-03    0.980872\n",
       "2000-05-03    0.658216\n",
       "dtype: float64"
      ]
     },
     "execution_count": 130,
     "metadata": {},
     "output_type": "execute_result"
    }
   ],
   "source": [
    "ts.shift(1, freq='3D')"
   ]
  },
  {
   "cell_type": "markdown",
   "metadata": {
    "slideshow": {
     "slide_type": "slide"
    }
   },
   "source": [
    "+ 移动90秒"
   ]
  },
  {
   "cell_type": "code",
   "execution_count": 131,
   "metadata": {
    "slideshow": {
     "slide_type": "-"
    }
   },
   "outputs": [
    {
     "data": {
      "text/plain": [
       "2000-01-31 01:30:00    2.254607\n",
       "2000-02-29 01:30:00   -0.204677\n",
       "2000-03-31 01:30:00    0.980872\n",
       "2000-04-30 01:30:00    0.658216\n",
       "dtype: float64"
      ]
     },
     "execution_count": 131,
     "metadata": {},
     "output_type": "execute_result"
    }
   ],
   "source": [
    "ts.shift(1, freq='90T')"
   ]
  },
  {
   "cell_type": "markdown",
   "metadata": {
    "slideshow": {
     "slide_type": "slide"
    }
   },
   "source": [
    "## 日期及其算术运算"
   ]
  },
  {
   "cell_type": "markdown",
   "metadata": {
    "slideshow": {
     "slide_type": "slide"
    }
   },
   "source": [
    "+ A- 表示每年指定月份\n",
    "+ Period 对象表示一段时间\n",
    "+ 下列表示2006年12月1日到2007年11月30日之间的整段时间"
   ]
  },
  {
   "cell_type": "code",
   "execution_count": 132,
   "metadata": {
    "slideshow": {
     "slide_type": "-"
    }
   },
   "outputs": [
    {
     "data": {
      "text/plain": [
       "Period('2007', 'A-NOV')"
      ]
     },
     "execution_count": 132,
     "metadata": {},
     "output_type": "execute_result"
    }
   ],
   "source": [
    "p = pd.Period(2007, freq='A-NOV')\n",
    "p"
   ]
  },
  {
   "cell_type": "code",
   "execution_count": 133,
   "metadata": {},
   "outputs": [
    {
     "data": {
      "text/plain": [
       "(Timestamp('2006-12-01 00:00:00'), Timestamp('2007-11-30 23:59:59.999999999'))"
      ]
     },
     "execution_count": 133,
     "metadata": {},
     "output_type": "execute_result"
    }
   ],
   "source": [
    "p.start_time,p.end_time"
   ]
  },
  {
   "cell_type": "markdown",
   "metadata": {
    "slideshow": {
     "slide_type": "slide"
    }
   },
   "source": [
    "Period对象加减一个整数可根据其频率实现位移效果 "
   ]
  },
  {
   "cell_type": "code",
   "execution_count": 134,
   "metadata": {
    "slideshow": {
     "slide_type": "-"
    }
   },
   "outputs": [
    {
     "data": {
      "text/plain": [
       "Period('2012', 'A-NOV')"
      ]
     },
     "execution_count": 134,
     "metadata": {},
     "output_type": "execute_result"
    }
   ],
   "source": [
    "p + 5#根据的是对象的频率"
   ]
  },
  {
   "cell_type": "code",
   "execution_count": 135,
   "metadata": {
    "slideshow": {
     "slide_type": "-"
    }
   },
   "outputs": [
    {
     "data": {
      "text/plain": [
       "Period('2005', 'A-NOV')"
      ]
     },
     "execution_count": 135,
     "metadata": {},
     "output_type": "execute_result"
    }
   ],
   "source": [
    "p - 2"
   ]
  },
  {
   "cell_type": "markdown",
   "metadata": {
    "slideshow": {
     "slide_type": "slide"
    }
   },
   "source": [
    "+ 两个等频率的Period对象的差就是他们之间的单位数量"
   ]
  },
  {
   "cell_type": "code",
   "execution_count": 136,
   "metadata": {
    "slideshow": {
     "slide_type": "-"
    }
   },
   "outputs": [
    {
     "data": {
      "text/plain": [
       "<7 * YearEnds: month=11>"
      ]
     },
     "execution_count": 136,
     "metadata": {},
     "output_type": "execute_result"
    }
   ],
   "source": [
    "pd.Period('2014', freq='A-NOV')-p"
   ]
  },
  {
   "cell_type": "markdown",
   "metadata": {
    "slideshow": {
     "slide_type": "slide"
    }
   },
   "source": [
    "+ 表示 时期序列"
   ]
  },
  {
   "cell_type": "code",
   "execution_count": 139,
   "metadata": {
    "slideshow": {
     "slide_type": "subslide"
    }
   },
   "outputs": [
    {
     "data": {
      "text/plain": [
       "PeriodIndex(['2000-01', '2000-02', '2000-03', '2000-04', '2000-05', '2000-06'], dtype='period[M]')"
      ]
     },
     "execution_count": 139,
     "metadata": {},
     "output_type": "execute_result"
    }
   ],
   "source": [
    "rng = pd.period_range(start='1/1/2000', end='6/30/2000', freq='M')\n",
    "rng"
   ]
  },
  {
   "cell_type": "code",
   "execution_count": 140,
   "metadata": {
    "slideshow": {
     "slide_type": "subslide"
    }
   },
   "outputs": [
    {
     "data": {
      "text/plain": [
       "2000-01    0.516456\n",
       "2000-02   -2.484818\n",
       "2000-03    0.165181\n",
       "2000-04   -0.653130\n",
       "2000-05    0.736969\n",
       "2000-06   -1.107977\n",
       "Freq: M, dtype: float64"
      ]
     },
     "execution_count": 140,
     "metadata": {},
     "output_type": "execute_result"
    }
   ],
   "source": [
    "Series(np.random.randn(6), index=rng)"
   ]
  },
  {
   "cell_type": "code",
   "execution_count": 153,
   "metadata": {
    "slideshow": {
     "slide_type": "subslide"
    }
   },
   "outputs": [
    {
     "data": {
      "text/plain": [
       "PeriodIndex(['2001Q3', '2002Q2', '2003Q1'], dtype='period[Q-DEC]')"
      ]
     },
     "execution_count": 153,
     "metadata": {},
     "output_type": "execute_result"
    }
   ],
   "source": [
    "values = ['2001Q3', '2002Q2', '2003Q1']\n",
    "index = pd.PeriodIndex(values, freq='Q-DEC')#季度频率, 樂，还得专门做一个PeriodIndex对象。。。\n",
    "index"
   ]
  },
  {
   "cell_type": "code",
   "execution_count": 166,
   "metadata": {},
   "outputs": [
    {
     "data": {
      "text/plain": [
       "2001Q3   -1.588671\n",
       "2002Q2   -1.193946\n",
       "2003Q1   -2.452930\n",
       "dtype: float64"
      ]
     },
     "execution_count": 166,
     "metadata": {},
     "output_type": "execute_result"
    }
   ],
   "source": [
    "Series(np.random.randn(3), index=['2001Q3', '2002Q2', '2003Q1'])"
   ]
  },
  {
   "cell_type": "code",
   "execution_count": 167,
   "metadata": {},
   "outputs": [
    {
     "data": {
      "text/plain": [
       "2001Q3   -2.019992\n",
       "2002Q2    2.632031\n",
       "2003Q1   -0.533102\n",
       "Freq: Q-DEC, dtype: float64"
      ]
     },
     "execution_count": 167,
     "metadata": {},
     "output_type": "execute_result"
    }
   ],
   "source": [
    "Series(np.random.randn(3), index=index)"
   ]
  },
  {
   "cell_type": "markdown",
   "metadata": {
    "slideshow": {
     "slide_type": "slide"
    }
   },
   "source": [
    "### 时期频率转换\n",
    "\n",
    "通过asfreq方法可以将时期或时期index转换为别的频率"
   ]
  },
  {
   "cell_type": "code",
   "execution_count": 172,
   "metadata": {
    "slideshow": {
     "slide_type": "slide"
    }
   },
   "outputs": [
    {
     "data": {
      "text/plain": [
       "Period('2007', 'A-DEC')"
      ]
     },
     "execution_count": 172,
     "metadata": {},
     "output_type": "execute_result"
    }
   ],
   "source": [
    "p = pd.Period('2007', freq='A-DEC')\n",
    "p"
   ]
  },
  {
   "cell_type": "code",
   "execution_count": 173,
   "metadata": {},
   "outputs": [
    {
     "data": {
      "text/plain": [
       "Period('2007-01', 'M')"
      ]
     },
     "execution_count": 173,
     "metadata": {},
     "output_type": "execute_result"
    }
   ],
   "source": [
    "p.asfreq('M', how='start')"
   ]
  },
  {
   "cell_type": "code",
   "execution_count": 175,
   "metadata": {},
   "outputs": [
    {
     "data": {
      "text/plain": [
       "Period('2007', 'A-DEC')"
      ]
     },
     "execution_count": 175,
     "metadata": {},
     "output_type": "execute_result"
    }
   ],
   "source": [
    "p#原来的p没有改变"
   ]
  },
  {
   "cell_type": "code",
   "execution_count": 176,
   "metadata": {
    "slideshow": {
     "slide_type": "-"
    }
   },
   "outputs": [
    {
     "data": {
      "text/plain": [
       "Period('2007-12', 'M')"
      ]
     },
     "execution_count": 176,
     "metadata": {},
     "output_type": "execute_result"
    }
   ],
   "source": [
    "p.asfreq('M', how='end')"
   ]
  },
  {
   "cell_type": "code",
   "execution_count": 177,
   "metadata": {
    "slideshow": {
     "slide_type": "slide"
    }
   },
   "outputs": [
    {
     "data": {
      "text/plain": [
       "Period('2006-07', 'M')"
      ]
     },
     "execution_count": 177,
     "metadata": {},
     "output_type": "execute_result"
    }
   ],
   "source": [
    "p = pd.Period('2007', freq='A-JUN')\n",
    "p.asfreq('M', 'start')"
   ]
  },
  {
   "cell_type": "code",
   "execution_count": 178,
   "metadata": {
    "slideshow": {
     "slide_type": "-"
    }
   },
   "outputs": [
    {
     "data": {
      "text/plain": [
       "Period('2007-06', 'M')"
      ]
     },
     "execution_count": 178,
     "metadata": {},
     "output_type": "execute_result"
    }
   ],
   "source": [
    "p.asfreq('M', 'end')"
   ]
  },
  {
   "cell_type": "code",
   "execution_count": 179,
   "metadata": {
    "slideshow": {
     "slide_type": "-"
    }
   },
   "outputs": [
    {
     "data": {
      "text/plain": [
       "Period('2008', 'A-JUN')"
      ]
     },
     "execution_count": 179,
     "metadata": {},
     "output_type": "execute_result"
    }
   ],
   "source": [
    "p = pd.Period('Aug-2007', 'M')\n",
    "p.asfreq('A-JUN')"
   ]
  },
  {
   "cell_type": "code",
   "execution_count": 180,
   "metadata": {
    "slideshow": {
     "slide_type": "slide"
    }
   },
   "outputs": [
    {
     "data": {
      "text/plain": [
       "2006    0.580969\n",
       "2007   -0.268509\n",
       "2008    0.912624\n",
       "2009    0.231478\n",
       "Freq: A-DEC, dtype: float64"
      ]
     },
     "execution_count": 180,
     "metadata": {},
     "output_type": "execute_result"
    }
   ],
   "source": [
    "rng = pd.period_range('2006', '2009', freq='A-DEC')\n",
    "ts = Series(np.random.randn(len(rng)), index=rng)\n",
    "ts"
   ]
  },
  {
   "cell_type": "code",
   "execution_count": 181,
   "metadata": {
    "slideshow": {
     "slide_type": "subslide"
    }
   },
   "outputs": [
    {
     "data": {
      "text/plain": [
       "2006-01    0.580969\n",
       "2007-01   -0.268509\n",
       "2008-01    0.912624\n",
       "2009-01    0.231478\n",
       "Freq: M, dtype: float64"
      ]
     },
     "execution_count": 181,
     "metadata": {},
     "output_type": "execute_result"
    }
   ],
   "source": [
    "ts.asfreq('M', how='start')"
   ]
  },
  {
   "cell_type": "code",
   "execution_count": 182,
   "metadata": {
    "slideshow": {
     "slide_type": "subslide"
    }
   },
   "outputs": [
    {
     "data": {
      "text/plain": [
       "2006-12-29    0.580969\n",
       "2007-12-31   -0.268509\n",
       "2008-12-31    0.912624\n",
       "2009-12-31    0.231478\n",
       "Freq: B, dtype: float64"
      ]
     },
     "execution_count": 182,
     "metadata": {},
     "output_type": "execute_result"
    }
   ],
   "source": [
    "ts.asfreq('B', how='end')"
   ]
  },
  {
   "cell_type": "markdown",
   "metadata": {
    "slideshow": {
     "slide_type": "slide"
    }
   },
   "source": [
    "### 按季度计算的时期频率\n",
    "\n",
    "+ 季度型数据在会计、金融等领域很常见。很多数据都会涉及财年末的概念，通常表示数据刻画的时期几月开始，几月结束。用Q-表示\n"
   ]
  },
  {
   "cell_type": "code",
   "execution_count": 183,
   "metadata": {
    "slideshow": {
     "slide_type": "slide"
    }
   },
   "outputs": [
    {
     "data": {
      "text/plain": [
       "Period('2012Q4', 'Q-JAN')"
      ]
     },
     "execution_count": 183,
     "metadata": {},
     "output_type": "execute_result"
    }
   ],
   "source": [
    "p = pd.Period('2012Q4', freq='Q-JAN')#季度\n",
    "p"
   ]
  },
  {
   "cell_type": "code",
   "execution_count": 184,
   "metadata": {
    "slideshow": {
     "slide_type": "-"
    }
   },
   "outputs": [
    {
     "data": {
      "text/plain": [
       "Period('2011-11-01', 'D')"
      ]
     },
     "execution_count": 184,
     "metadata": {},
     "output_type": "execute_result"
    }
   ],
   "source": [
    "p.asfreq('D', 'start')"
   ]
  },
  {
   "cell_type": "code",
   "execution_count": 185,
   "metadata": {
    "slideshow": {
     "slide_type": "-"
    }
   },
   "outputs": [
    {
     "data": {
      "text/plain": [
       "Period('2012-01-31', 'D')"
      ]
     },
     "execution_count": 185,
     "metadata": {},
     "output_type": "execute_result"
    }
   ],
   "source": [
    "p.asfreq('D', 'end')"
   ]
  },
  {
   "cell_type": "markdown",
   "metadata": {
    "slideshow": {
     "slide_type": "slide"
    }
   },
   "source": [
    "下面的例子获取 季度倒数第二个工作日下午4点的时间戳"
   ]
  },
  {
   "cell_type": "code",
   "execution_count": 187,
   "metadata": {
    "slideshow": {
     "slide_type": "-"
    }
   },
   "outputs": [
    {
     "data": {
      "text/plain": [
       "Period('2012-01-30 16:00', 'T')"
      ]
     },
     "execution_count": 187,
     "metadata": {},
     "output_type": "execute_result"
    }
   ],
   "source": [
    "p4pm = (p.asfreq('B', 'e') - 1).asfreq('T', 's') + 16 * 60\n",
    "p4pm"
   ]
  },
  {
   "cell_type": "code",
   "execution_count": 189,
   "metadata": {
    "slideshow": {
     "slide_type": "-"
    }
   },
   "outputs": [
    {
     "data": {
      "text/plain": [
       "Timestamp('2012-01-30 16:00:00')"
      ]
     },
     "execution_count": 189,
     "metadata": {},
     "output_type": "execute_result"
    }
   ],
   "source": [
    "p4pm.to_timestamp()"
   ]
  },
  {
   "cell_type": "code",
   "execution_count": 188,
   "metadata": {},
   "outputs": [
    {
     "name": "stdout",
     "output_type": "stream",
     "text": [
      "\u001b[1;31mDocstring:\u001b[0m\n",
      "Return the Timestamp representation of the Period.\n",
      "\n",
      "Uses the target frequency specified at the part of the period specified\n",
      "by `how`, which is either `Start` or `Finish`.\n",
      "\n",
      "Parameters\n",
      "----------\n",
      "freq : str or DateOffset\n",
      "    Target frequency. Default is 'D' if self.freq is week or\n",
      "    longer and 'S' otherwise.\n",
      "how : str, default 'S' (start)\n",
      "    One of 'S', 'E'. Can be aliased as case insensitive\n",
      "    'Start', 'Finish', 'Begin', 'End'.\n",
      "\n",
      "Returns\n",
      "-------\n",
      "Timestamp\n",
      "\u001b[1;31mType:\u001b[0m      builtin_function_or_method"
     ]
    }
   ],
   "source": [
    "p4pm.to_timestamp?"
   ]
  },
  {
   "cell_type": "markdown",
   "metadata": {
    "slideshow": {
     "slide_type": "slide"
    }
   },
   "source": [
    "下面的例子生成季度型范围"
   ]
  },
  {
   "cell_type": "code",
   "execution_count": 86,
   "metadata": {
    "slideshow": {
     "slide_type": "-"
    }
   },
   "outputs": [
    {
     "data": {
      "text/plain": [
       "2011Q3    0\n",
       "2011Q4    1\n",
       "2012Q1    2\n",
       "2012Q2    3\n",
       "2012Q3    4\n",
       "2012Q4    5\n",
       "Freq: Q-JAN, dtype: int32"
      ]
     },
     "execution_count": 86,
     "metadata": {},
     "output_type": "execute_result"
    }
   ],
   "source": [
    "rng = pd.period_range('2011Q3', '2012Q4', freq='Q-JAN')\n",
    "ts = Series(np.arange(len(rng)), index=rng)\n",
    "ts"
   ]
  },
  {
   "cell_type": "code",
   "execution_count": 87,
   "metadata": {
    "slideshow": {
     "slide_type": "subslide"
    }
   },
   "outputs": [
    {
     "data": {
      "text/plain": [
       "2010-10-28 16:00:00    0\n",
       "2011-01-28 16:00:00    1\n",
       "2011-04-28 16:00:00    2\n",
       "2011-07-28 16:00:00    3\n",
       "2011-10-28 16:00:00    4\n",
       "2012-01-30 16:00:00    5\n",
       "dtype: int32"
      ]
     },
     "execution_count": 87,
     "metadata": {},
     "output_type": "execute_result"
    }
   ],
   "source": [
    "new_rng = (rng.asfreq('B', 'e') - 1).asfreq('T', 's') + 16 * 60\n",
    "ts.index = new_rng.to_timestamp()\n",
    "ts"
   ]
  },
  {
   "cell_type": "markdown",
   "metadata": {
    "slideshow": {
     "slide_type": "slide"
    }
   },
   "source": [
    "### 将 Timestamps 转换为 Periods \n",
    "\n",
    "+ to_period方法\n",
    "+ to_timestamp 方法"
   ]
  },
  {
   "cell_type": "code",
   "execution_count": 88,
   "metadata": {
    "slideshow": {
     "slide_type": "slide"
    }
   },
   "outputs": [],
   "source": [
    "rng = pd.date_range('1/1/2000', periods=3, freq='M')\n",
    "ts = Series(randn(3), index=rng)\n",
    "pts = ts.to_period()\n"
   ]
  },
  {
   "cell_type": "code",
   "execution_count": 89,
   "metadata": {
    "slideshow": {
     "slide_type": "-"
    }
   },
   "outputs": [
    {
     "name": "stdout",
     "output_type": "stream",
     "text": [
      "2000-01-31    0.198275\n",
      "2000-02-29   -0.281490\n",
      "2000-03-31    0.231296\n",
      "Freq: M, dtype: float64\n"
     ]
    },
    {
     "data": {
      "text/plain": [
       "2000-01    0.198275\n",
       "2000-02   -0.281490\n",
       "2000-03    0.231296\n",
       "Freq: M, dtype: float64"
      ]
     },
     "execution_count": 89,
     "metadata": {},
     "output_type": "execute_result"
    }
   ],
   "source": [
    "print(ts)\n",
    "pts"
   ]
  },
  {
   "cell_type": "code",
   "execution_count": 90,
   "metadata": {
    "slideshow": {
     "slide_type": "slide"
    }
   },
   "outputs": [
    {
     "data": {
      "text/plain": [
       "2000-01    1.098593\n",
       "2000-01   -0.180997\n",
       "2000-01    0.907144\n",
       "2000-02   -1.147550\n",
       "2000-02    0.763143\n",
       "2000-02   -1.354875\n",
       "Freq: M, dtype: float64"
      ]
     },
     "execution_count": 90,
     "metadata": {},
     "output_type": "execute_result"
    }
   ],
   "source": [
    "rng = pd.date_range('1/29/2000', periods=6, freq='D')\n",
    "ts2 = Series(randn(6), index=rng)\n",
    "ts2.to_period('M')"
   ]
  },
  {
   "cell_type": "code",
   "execution_count": 91,
   "metadata": {
    "slideshow": {
     "slide_type": "-"
    }
   },
   "outputs": [
    {
     "data": {
      "text/plain": [
       "2000-01    0.198275\n",
       "2000-02   -0.281490\n",
       "2000-03    0.231296\n",
       "Freq: M, dtype: float64"
      ]
     },
     "execution_count": 91,
     "metadata": {},
     "output_type": "execute_result"
    }
   ],
   "source": [
    "pts = ts.to_period()\n",
    "pts"
   ]
  },
  {
   "cell_type": "code",
   "execution_count": 92,
   "metadata": {
    "slideshow": {
     "slide_type": "slide"
    }
   },
   "outputs": [
    {
     "data": {
      "text/plain": [
       "2000-01-31 23:59:59.999999999    0.198275\n",
       "2000-02-29 23:59:59.999999999   -0.281490\n",
       "2000-03-31 23:59:59.999999999    0.231296\n",
       "Freq: M, dtype: float64"
      ]
     },
     "execution_count": 92,
     "metadata": {},
     "output_type": "execute_result"
    }
   ],
   "source": [
    "pts.to_timestamp(how='end')"
   ]
  },
  {
   "cell_type": "markdown",
   "metadata": {},
   "source": [
    "**区别？**\n",
    "+ period 表示一段时间，timestamp表示一个时间点\n",
    "+ 可以利用的方法不一样\n",
    "+ period可以用来检查该段时间内是否发生什么事件。比如飞机降落，股票平均价格"
   ]
  },
  {
   "cell_type": "code",
   "execution_count": 93,
   "metadata": {
    "scrolled": true
   },
   "outputs": [
    {
     "data": {
      "text/plain": [
       "True"
      ]
     },
     "execution_count": 93,
     "metadata": {},
     "output_type": "execute_result"
    }
   ],
   "source": [
    "p = pd.Period('2019-10-07')\n",
    "test = pd.Timestamp('2019-10-07 9:11')\n",
    "p.start_time < test < p.end_time\n"
   ]
  },
  {
   "cell_type": "code",
   "execution_count": 94,
   "metadata": {},
   "outputs": [
    {
     "data": {
      "text/plain": [
       "(Timestamp('2019-10-07 00:00:00'), Timestamp('2019-10-07 23:59:59.999999999'))"
      ]
     },
     "execution_count": 94,
     "metadata": {},
     "output_type": "execute_result"
    }
   ],
   "source": [
    "p.start_time, p.end_time\n"
   ]
  },
  {
   "cell_type": "markdown",
   "metadata": {
    "slideshow": {
     "slide_type": "slide"
    }
   },
   "source": [
    "### 通过数组创建 PeriodIndex"
   ]
  },
  {
   "cell_type": "code",
   "execution_count": 95,
   "metadata": {
    "slideshow": {
     "slide_type": "slide"
    }
   },
   "outputs": [
    {
     "data": {
      "text/plain": [
       "0      1959.0\n",
       "1      1959.0\n",
       "2      1959.0\n",
       "3      1959.0\n",
       "4      1960.0\n",
       "        ...  \n",
       "198    2008.0\n",
       "199    2008.0\n",
       "200    2009.0\n",
       "201    2009.0\n",
       "202    2009.0\n",
       "Name: year, Length: 203, dtype: float64"
      ]
     },
     "execution_count": 95,
     "metadata": {},
     "output_type": "execute_result"
    }
   ],
   "source": [
    "data = pd.read_csv('data/macrodata.csv')\n",
    "data.year"
   ]
  },
  {
   "cell_type": "code",
   "execution_count": 96,
   "metadata": {
    "slideshow": {
     "slide_type": "subslide"
    }
   },
   "outputs": [
    {
     "data": {
      "text/plain": [
       "0      1.0\n",
       "1      2.0\n",
       "2      3.0\n",
       "3      4.0\n",
       "4      1.0\n",
       "      ... \n",
       "198    3.0\n",
       "199    4.0\n",
       "200    1.0\n",
       "201    2.0\n",
       "202    3.0\n",
       "Name: quarter, Length: 203, dtype: float64"
      ]
     },
     "execution_count": 96,
     "metadata": {},
     "output_type": "execute_result"
    }
   ],
   "source": [
    "data.quarter"
   ]
  },
  {
   "cell_type": "code",
   "execution_count": 97,
   "metadata": {
    "slideshow": {
     "slide_type": "slide"
    }
   },
   "outputs": [
    {
     "data": {
      "text/plain": [
       "PeriodIndex(['1959Q1', '1959Q2', '1959Q3', '1959Q4', '1960Q1', '1960Q2',\n",
       "             '1960Q3', '1960Q4', '1961Q1', '1961Q2',\n",
       "             ...\n",
       "             '2007Q2', '2007Q3', '2007Q4', '2008Q1', '2008Q2', '2008Q3',\n",
       "             '2008Q4', '2009Q1', '2009Q2', '2009Q3'],\n",
       "            dtype='period[Q-DEC]', length=203, freq='Q-DEC')"
      ]
     },
     "execution_count": 97,
     "metadata": {},
     "output_type": "execute_result"
    }
   ],
   "source": [
    "index = pd.PeriodIndex(year=data.year, quarter=data.quarter, freq='Q-DEC')\n",
    "index"
   ]
  },
  {
   "cell_type": "code",
   "execution_count": 98,
   "metadata": {
    "scrolled": true,
    "slideshow": {
     "slide_type": "slide"
    }
   },
   "outputs": [
    {
     "data": {
      "text/html": [
       "<div>\n",
       "<style scoped>\n",
       "    .dataframe tbody tr th:only-of-type {\n",
       "        vertical-align: middle;\n",
       "    }\n",
       "\n",
       "    .dataframe tbody tr th {\n",
       "        vertical-align: top;\n",
       "    }\n",
       "\n",
       "    .dataframe thead th {\n",
       "        text-align: right;\n",
       "    }\n",
       "</style>\n",
       "<table border=\"1\" class=\"dataframe\">\n",
       "  <thead>\n",
       "    <tr style=\"text-align: right;\">\n",
       "      <th></th>\n",
       "      <th>year</th>\n",
       "      <th>quarter</th>\n",
       "      <th>realgdp</th>\n",
       "      <th>realcons</th>\n",
       "      <th>realinv</th>\n",
       "      <th>realgovt</th>\n",
       "      <th>realdpi</th>\n",
       "      <th>cpi</th>\n",
       "      <th>m1</th>\n",
       "      <th>tbilrate</th>\n",
       "      <th>unemp</th>\n",
       "      <th>pop</th>\n",
       "      <th>infl</th>\n",
       "      <th>realint</th>\n",
       "    </tr>\n",
       "  </thead>\n",
       "  <tbody>\n",
       "    <tr>\n",
       "      <th>1959Q1</th>\n",
       "      <td>1959.0</td>\n",
       "      <td>1.0</td>\n",
       "      <td>2710.349</td>\n",
       "      <td>1707.4</td>\n",
       "      <td>286.898</td>\n",
       "      <td>470.045</td>\n",
       "      <td>1886.9</td>\n",
       "      <td>28.980</td>\n",
       "      <td>139.7</td>\n",
       "      <td>2.82</td>\n",
       "      <td>5.8</td>\n",
       "      <td>177.146</td>\n",
       "      <td>0.00</td>\n",
       "      <td>0.00</td>\n",
       "    </tr>\n",
       "    <tr>\n",
       "      <th>1959Q2</th>\n",
       "      <td>1959.0</td>\n",
       "      <td>2.0</td>\n",
       "      <td>2778.801</td>\n",
       "      <td>1733.7</td>\n",
       "      <td>310.859</td>\n",
       "      <td>481.301</td>\n",
       "      <td>1919.7</td>\n",
       "      <td>29.150</td>\n",
       "      <td>141.7</td>\n",
       "      <td>3.08</td>\n",
       "      <td>5.1</td>\n",
       "      <td>177.830</td>\n",
       "      <td>2.34</td>\n",
       "      <td>0.74</td>\n",
       "    </tr>\n",
       "    <tr>\n",
       "      <th>1959Q3</th>\n",
       "      <td>1959.0</td>\n",
       "      <td>3.0</td>\n",
       "      <td>2775.488</td>\n",
       "      <td>1751.8</td>\n",
       "      <td>289.226</td>\n",
       "      <td>491.260</td>\n",
       "      <td>1916.4</td>\n",
       "      <td>29.350</td>\n",
       "      <td>140.5</td>\n",
       "      <td>3.82</td>\n",
       "      <td>5.3</td>\n",
       "      <td>178.657</td>\n",
       "      <td>2.74</td>\n",
       "      <td>1.09</td>\n",
       "    </tr>\n",
       "    <tr>\n",
       "      <th>1959Q4</th>\n",
       "      <td>1959.0</td>\n",
       "      <td>4.0</td>\n",
       "      <td>2785.204</td>\n",
       "      <td>1753.7</td>\n",
       "      <td>299.356</td>\n",
       "      <td>484.052</td>\n",
       "      <td>1931.3</td>\n",
       "      <td>29.370</td>\n",
       "      <td>140.0</td>\n",
       "      <td>4.33</td>\n",
       "      <td>5.6</td>\n",
       "      <td>179.386</td>\n",
       "      <td>0.27</td>\n",
       "      <td>4.06</td>\n",
       "    </tr>\n",
       "    <tr>\n",
       "      <th>1960Q1</th>\n",
       "      <td>1960.0</td>\n",
       "      <td>1.0</td>\n",
       "      <td>2847.699</td>\n",
       "      <td>1770.5</td>\n",
       "      <td>331.722</td>\n",
       "      <td>462.199</td>\n",
       "      <td>1955.5</td>\n",
       "      <td>29.540</td>\n",
       "      <td>139.6</td>\n",
       "      <td>3.50</td>\n",
       "      <td>5.2</td>\n",
       "      <td>180.007</td>\n",
       "      <td>2.31</td>\n",
       "      <td>1.19</td>\n",
       "    </tr>\n",
       "    <tr>\n",
       "      <th>...</th>\n",
       "      <td>...</td>\n",
       "      <td>...</td>\n",
       "      <td>...</td>\n",
       "      <td>...</td>\n",
       "      <td>...</td>\n",
       "      <td>...</td>\n",
       "      <td>...</td>\n",
       "      <td>...</td>\n",
       "      <td>...</td>\n",
       "      <td>...</td>\n",
       "      <td>...</td>\n",
       "      <td>...</td>\n",
       "      <td>...</td>\n",
       "      <td>...</td>\n",
       "    </tr>\n",
       "    <tr>\n",
       "      <th>2008Q3</th>\n",
       "      <td>2008.0</td>\n",
       "      <td>3.0</td>\n",
       "      <td>13324.600</td>\n",
       "      <td>9267.7</td>\n",
       "      <td>1990.693</td>\n",
       "      <td>991.551</td>\n",
       "      <td>9838.3</td>\n",
       "      <td>216.889</td>\n",
       "      <td>1474.7</td>\n",
       "      <td>1.17</td>\n",
       "      <td>6.0</td>\n",
       "      <td>305.270</td>\n",
       "      <td>-3.16</td>\n",
       "      <td>4.33</td>\n",
       "    </tr>\n",
       "    <tr>\n",
       "      <th>2008Q4</th>\n",
       "      <td>2008.0</td>\n",
       "      <td>4.0</td>\n",
       "      <td>13141.920</td>\n",
       "      <td>9195.3</td>\n",
       "      <td>1857.661</td>\n",
       "      <td>1007.273</td>\n",
       "      <td>9920.4</td>\n",
       "      <td>212.174</td>\n",
       "      <td>1576.5</td>\n",
       "      <td>0.12</td>\n",
       "      <td>6.9</td>\n",
       "      <td>305.952</td>\n",
       "      <td>-8.79</td>\n",
       "      <td>8.91</td>\n",
       "    </tr>\n",
       "    <tr>\n",
       "      <th>2009Q1</th>\n",
       "      <td>2009.0</td>\n",
       "      <td>1.0</td>\n",
       "      <td>12925.410</td>\n",
       "      <td>9209.2</td>\n",
       "      <td>1558.494</td>\n",
       "      <td>996.287</td>\n",
       "      <td>9926.4</td>\n",
       "      <td>212.671</td>\n",
       "      <td>1592.8</td>\n",
       "      <td>0.22</td>\n",
       "      <td>8.1</td>\n",
       "      <td>306.547</td>\n",
       "      <td>0.94</td>\n",
       "      <td>-0.71</td>\n",
       "    </tr>\n",
       "    <tr>\n",
       "      <th>2009Q2</th>\n",
       "      <td>2009.0</td>\n",
       "      <td>2.0</td>\n",
       "      <td>12901.504</td>\n",
       "      <td>9189.0</td>\n",
       "      <td>1456.678</td>\n",
       "      <td>1023.528</td>\n",
       "      <td>10077.5</td>\n",
       "      <td>214.469</td>\n",
       "      <td>1653.6</td>\n",
       "      <td>0.18</td>\n",
       "      <td>9.2</td>\n",
       "      <td>307.226</td>\n",
       "      <td>3.37</td>\n",
       "      <td>-3.19</td>\n",
       "    </tr>\n",
       "    <tr>\n",
       "      <th>2009Q3</th>\n",
       "      <td>2009.0</td>\n",
       "      <td>3.0</td>\n",
       "      <td>12990.341</td>\n",
       "      <td>9256.0</td>\n",
       "      <td>1486.398</td>\n",
       "      <td>1044.088</td>\n",
       "      <td>10040.6</td>\n",
       "      <td>216.385</td>\n",
       "      <td>1673.9</td>\n",
       "      <td>0.12</td>\n",
       "      <td>9.6</td>\n",
       "      <td>308.013</td>\n",
       "      <td>3.56</td>\n",
       "      <td>-3.44</td>\n",
       "    </tr>\n",
       "  </tbody>\n",
       "</table>\n",
       "<p>203 rows × 14 columns</p>\n",
       "</div>"
      ],
      "text/plain": [
       "          year  quarter    realgdp  realcons   realinv  realgovt  realdpi  \\\n",
       "1959Q1  1959.0      1.0   2710.349    1707.4   286.898   470.045   1886.9   \n",
       "1959Q2  1959.0      2.0   2778.801    1733.7   310.859   481.301   1919.7   \n",
       "1959Q3  1959.0      3.0   2775.488    1751.8   289.226   491.260   1916.4   \n",
       "1959Q4  1959.0      4.0   2785.204    1753.7   299.356   484.052   1931.3   \n",
       "1960Q1  1960.0      1.0   2847.699    1770.5   331.722   462.199   1955.5   \n",
       "...        ...      ...        ...       ...       ...       ...      ...   \n",
       "2008Q3  2008.0      3.0  13324.600    9267.7  1990.693   991.551   9838.3   \n",
       "2008Q4  2008.0      4.0  13141.920    9195.3  1857.661  1007.273   9920.4   \n",
       "2009Q1  2009.0      1.0  12925.410    9209.2  1558.494   996.287   9926.4   \n",
       "2009Q2  2009.0      2.0  12901.504    9189.0  1456.678  1023.528  10077.5   \n",
       "2009Q3  2009.0      3.0  12990.341    9256.0  1486.398  1044.088  10040.6   \n",
       "\n",
       "            cpi      m1  tbilrate  unemp      pop  infl  realint  \n",
       "1959Q1   28.980   139.7      2.82    5.8  177.146  0.00     0.00  \n",
       "1959Q2   29.150   141.7      3.08    5.1  177.830  2.34     0.74  \n",
       "1959Q3   29.350   140.5      3.82    5.3  178.657  2.74     1.09  \n",
       "1959Q4   29.370   140.0      4.33    5.6  179.386  0.27     4.06  \n",
       "1960Q1   29.540   139.6      3.50    5.2  180.007  2.31     1.19  \n",
       "...         ...     ...       ...    ...      ...   ...      ...  \n",
       "2008Q3  216.889  1474.7      1.17    6.0  305.270 -3.16     4.33  \n",
       "2008Q4  212.174  1576.5      0.12    6.9  305.952 -8.79     8.91  \n",
       "2009Q1  212.671  1592.8      0.22    8.1  306.547  0.94    -0.71  \n",
       "2009Q2  214.469  1653.6      0.18    9.2  307.226  3.37    -3.19  \n",
       "2009Q3  216.385  1673.9      0.12    9.6  308.013  3.56    -3.44  \n",
       "\n",
       "[203 rows x 14 columns]"
      ]
     },
     "execution_count": 98,
     "metadata": {},
     "output_type": "execute_result"
    }
   ],
   "source": [
    "data.index = index\n",
    "data"
   ]
  },
  {
   "cell_type": "markdown",
   "metadata": {
    "slideshow": {
     "slide_type": "slide"
    }
   },
   "source": [
    "## 重采样和频率转换\n",
    "重采样及频率转换。在进行金融时间序列分析时，我们有时候需要进行数据频率的转换，比方在时，日，周，月，季度和年度数据之间进行转换。从高频率数据聚合产生低频率数据称为降采样(downsampling),而将低频了数据转换为高频率这称为升采样（upsampling）。在pandas中，用resample方法实现频率转换。\n"
   ]
  },
  {
   "cell_type": "code",
   "execution_count": 194,
   "metadata": {
    "slideshow": {
     "slide_type": "slide"
    }
   },
   "outputs": [
    {
     "data": {
      "text/plain": [
       "2000-01-01   -0.028560\n",
       "2000-01-02   -0.056850\n",
       "2000-01-03   -0.695159\n",
       "2000-01-04   -0.306225\n",
       "2000-01-05   -0.328872\n",
       "                ...   \n",
       "2000-04-05    0.236040\n",
       "2000-04-06   -0.672436\n",
       "2000-04-07   -0.286239\n",
       "2000-04-08   -1.376756\n",
       "2000-04-09   -0.017042\n",
       "Freq: D, Length: 100, dtype: float64"
      ]
     },
     "execution_count": 194,
     "metadata": {},
     "output_type": "execute_result"
    }
   ],
   "source": [
    "rng = pd.date_range('1/1/2000', periods=100, freq='D')\n",
    "ts = Series(randn(len(rng)), index=rng)\n",
    "ts"
   ]
  },
  {
   "cell_type": "code",
   "execution_count": 195,
   "metadata": {},
   "outputs": [
    {
     "name": "stdout",
     "output_type": "stream",
     "text": [
      "\u001b[1;31mSignature:\u001b[0m\n",
      "\u001b[0mts\u001b[0m\u001b[1;33m.\u001b[0m\u001b[0mresample\u001b[0m\u001b[1;33m(\u001b[0m\u001b[1;33m\n",
      "\u001b[0m    \u001b[0mrule\u001b[0m\u001b[1;33m,\u001b[0m\u001b[1;33m\n",
      "\u001b[0m    \u001b[0maxis\u001b[0m\u001b[1;33m:\u001b[0m \u001b[1;34m'Axis'\u001b[0m \u001b[1;33m=\u001b[0m \u001b[1;36m0\u001b[0m\u001b[1;33m,\u001b[0m\u001b[1;33m\n",
      "\u001b[0m    \u001b[0mclosed\u001b[0m\u001b[1;33m:\u001b[0m \u001b[1;34m'str | None'\u001b[0m \u001b[1;33m=\u001b[0m \u001b[1;32mNone\u001b[0m\u001b[1;33m,\u001b[0m\u001b[1;33m\n",
      "\u001b[0m    \u001b[0mlabel\u001b[0m\u001b[1;33m:\u001b[0m \u001b[1;34m'str | None'\u001b[0m \u001b[1;33m=\u001b[0m \u001b[1;32mNone\u001b[0m\u001b[1;33m,\u001b[0m\u001b[1;33m\n",
      "\u001b[0m    \u001b[0mconvention\u001b[0m\u001b[1;33m:\u001b[0m \u001b[1;34m'str'\u001b[0m \u001b[1;33m=\u001b[0m \u001b[1;34m'start'\u001b[0m\u001b[1;33m,\u001b[0m\u001b[1;33m\n",
      "\u001b[0m    \u001b[0mkind\u001b[0m\u001b[1;33m:\u001b[0m \u001b[1;34m'str | None'\u001b[0m \u001b[1;33m=\u001b[0m \u001b[1;32mNone\u001b[0m\u001b[1;33m,\u001b[0m\u001b[1;33m\n",
      "\u001b[0m    \u001b[0mloffset\u001b[0m\u001b[1;33m=\u001b[0m\u001b[1;32mNone\u001b[0m\u001b[1;33m,\u001b[0m\u001b[1;33m\n",
      "\u001b[0m    \u001b[0mbase\u001b[0m\u001b[1;33m:\u001b[0m \u001b[1;34m'int | None'\u001b[0m \u001b[1;33m=\u001b[0m \u001b[1;32mNone\u001b[0m\u001b[1;33m,\u001b[0m\u001b[1;33m\n",
      "\u001b[0m    \u001b[0mon\u001b[0m\u001b[1;33m:\u001b[0m \u001b[1;34m'Level'\u001b[0m \u001b[1;33m=\u001b[0m \u001b[1;32mNone\u001b[0m\u001b[1;33m,\u001b[0m\u001b[1;33m\n",
      "\u001b[0m    \u001b[0mlevel\u001b[0m\u001b[1;33m:\u001b[0m \u001b[1;34m'Level'\u001b[0m \u001b[1;33m=\u001b[0m \u001b[1;32mNone\u001b[0m\u001b[1;33m,\u001b[0m\u001b[1;33m\n",
      "\u001b[0m    \u001b[0morigin\u001b[0m\u001b[1;33m:\u001b[0m \u001b[1;34m'str | TimestampConvertibleTypes'\u001b[0m \u001b[1;33m=\u001b[0m \u001b[1;34m'start_day'\u001b[0m\u001b[1;33m,\u001b[0m\u001b[1;33m\n",
      "\u001b[0m    \u001b[0moffset\u001b[0m\u001b[1;33m:\u001b[0m \u001b[1;34m'TimedeltaConvertibleTypes | None'\u001b[0m \u001b[1;33m=\u001b[0m \u001b[1;32mNone\u001b[0m\u001b[1;33m,\u001b[0m\u001b[1;33m\n",
      "\u001b[0m    \u001b[0mgroup_keys\u001b[0m\u001b[1;33m:\u001b[0m \u001b[1;34m'bool | lib.NoDefault'\u001b[0m \u001b[1;33m=\u001b[0m \u001b[1;33m<\u001b[0m\u001b[0mno_default\u001b[0m\u001b[1;33m>\u001b[0m\u001b[1;33m,\u001b[0m\u001b[1;33m\n",
      "\u001b[0m\u001b[1;33m)\u001b[0m \u001b[1;33m->\u001b[0m \u001b[1;34m'Resampler'\u001b[0m\u001b[1;33m\u001b[0m\u001b[1;33m\u001b[0m\u001b[0m\n",
      "\u001b[1;31mDocstring:\u001b[0m\n",
      "Resample time-series data.\n",
      "\n",
      "Convenience method for frequency conversion and resampling of time series.\n",
      "The object must have a datetime-like index (`DatetimeIndex`, `PeriodIndex`,\n",
      "or `TimedeltaIndex`), or the caller must pass the label of a datetime-like\n",
      "series/index to the ``on``/``level`` keyword parameter.\n",
      "\n",
      "Parameters\n",
      "----------\n",
      "rule : DateOffset, Timedelta or str\n",
      "    The offset string or object representing target conversion.\n",
      "axis : {0 or 'index', 1 or 'columns'}, default 0\n",
      "    Which axis to use for up- or down-sampling. For `Series` this parameter\n",
      "    is unused and defaults to 0. Must be\n",
      "    `DatetimeIndex`, `TimedeltaIndex` or `PeriodIndex`.\n",
      "closed : {'right', 'left'}, default None\n",
      "    Which side of bin interval is closed. The default is 'left'\n",
      "    for all frequency offsets except for 'M', 'A', 'Q', 'BM',\n",
      "    'BA', 'BQ', and 'W' which all have a default of 'right'.\n",
      "label : {'right', 'left'}, default None\n",
      "    Which bin edge label to label bucket with. The default is 'left'\n",
      "    for all frequency offsets except for 'M', 'A', 'Q', 'BM',\n",
      "    'BA', 'BQ', and 'W' which all have a default of 'right'.\n",
      "convention : {'start', 'end', 's', 'e'}, default 'start'\n",
      "    For `PeriodIndex` only, controls whether to use the start or\n",
      "    end of `rule`.\n",
      "kind : {'timestamp', 'period'}, optional, default None\n",
      "    Pass 'timestamp' to convert the resulting index to a\n",
      "    `DateTimeIndex` or 'period' to convert it to a `PeriodIndex`.\n",
      "    By default the input representation is retained.\n",
      "loffset : timedelta, default None\n",
      "    Adjust the resampled time labels.\n",
      "\n",
      "    .. deprecated:: 1.1.0\n",
      "        You should add the loffset to the `df.index` after the resample.\n",
      "        See below.\n",
      "\n",
      "base : int, default 0\n",
      "    For frequencies that evenly subdivide 1 day, the \"origin\" of the\n",
      "    aggregated intervals. For example, for '5min' frequency, base could\n",
      "    range from 0 through 4. Defaults to 0.\n",
      "\n",
      "    .. deprecated:: 1.1.0\n",
      "        The new arguments that you should use are 'offset' or 'origin'.\n",
      "\n",
      "on : str, optional\n",
      "    For a DataFrame, column to use instead of index for resampling.\n",
      "    Column must be datetime-like.\n",
      "level : str or int, optional\n",
      "    For a MultiIndex, level (name or number) to use for\n",
      "    resampling. `level` must be datetime-like.\n",
      "origin : Timestamp or str, default 'start_day'\n",
      "    The timestamp on which to adjust the grouping. The timezone of origin\n",
      "    must match the timezone of the index.\n",
      "    If string, must be one of the following:\n",
      "\n",
      "    - 'epoch': `origin` is 1970-01-01\n",
      "    - 'start': `origin` is the first value of the timeseries\n",
      "    - 'start_day': `origin` is the first day at midnight of the timeseries\n",
      "\n",
      "    .. versionadded:: 1.1.0\n",
      "\n",
      "    - 'end': `origin` is the last value of the timeseries\n",
      "    - 'end_day': `origin` is the ceiling midnight of the last day\n",
      "\n",
      "    .. versionadded:: 1.3.0\n",
      "\n",
      "offset : Timedelta or str, default is None\n",
      "    An offset timedelta added to the origin.\n",
      "\n",
      "    .. versionadded:: 1.1.0\n",
      "\n",
      "group_keys : bool, optional\n",
      "    Whether to include the group keys in the result index when using\n",
      "    ``.apply()`` on the resampled object. Not specifying ``group_keys``\n",
      "    will retain values-dependent behavior from pandas 1.4\n",
      "    and earlier (see :ref:`pandas 1.5.0 Release notes\n",
      "    <whatsnew_150.enhancements.resample_group_keys>`\n",
      "    for examples). In a future version of pandas, the behavior will\n",
      "    default to the same as specifying ``group_keys=False``.\n",
      "\n",
      "    .. versionadded:: 1.5.0\n",
      "\n",
      "Returns\n",
      "-------\n",
      "pandas.core.Resampler\n",
      "    :class:`~pandas.core.Resampler` object.\n",
      "\n",
      "See Also\n",
      "--------\n",
      "Series.resample : Resample a Series.\n",
      "DataFrame.resample : Resample a DataFrame.\n",
      "groupby : Group Series by mapping, function, label, or list of labels.\n",
      "asfreq : Reindex a Series with the given frequency without grouping.\n",
      "\n",
      "Notes\n",
      "-----\n",
      "See the `user guide\n",
      "<https://pandas.pydata.org/pandas-docs/stable/user_guide/timeseries.html#resampling>`__\n",
      "for more.\n",
      "\n",
      "To learn more about the offset strings, please see `this link\n",
      "<https://pandas.pydata.org/pandas-docs/stable/user_guide/timeseries.html#dateoffset-objects>`__.\n",
      "\n",
      "Examples\n",
      "--------\n",
      "Start by creating a series with 9 one minute timestamps.\n",
      "\n",
      ">>> index = pd.date_range('1/1/2000', periods=9, freq='T')\n",
      ">>> series = pd.Series(range(9), index=index)\n",
      ">>> series\n",
      "2000-01-01 00:00:00    0\n",
      "2000-01-01 00:01:00    1\n",
      "2000-01-01 00:02:00    2\n",
      "2000-01-01 00:03:00    3\n",
      "2000-01-01 00:04:00    4\n",
      "2000-01-01 00:05:00    5\n",
      "2000-01-01 00:06:00    6\n",
      "2000-01-01 00:07:00    7\n",
      "2000-01-01 00:08:00    8\n",
      "Freq: T, dtype: int64\n",
      "\n",
      "Downsample the series into 3 minute bins and sum the values\n",
      "of the timestamps falling into a bin.\n",
      "\n",
      ">>> series.resample('3T').sum()\n",
      "2000-01-01 00:00:00     3\n",
      "2000-01-01 00:03:00    12\n",
      "2000-01-01 00:06:00    21\n",
      "Freq: 3T, dtype: int64\n",
      "\n",
      "Downsample the series into 3 minute bins as above, but label each\n",
      "bin using the right edge instead of the left. Please note that the\n",
      "value in the bucket used as the label is not included in the bucket,\n",
      "which it labels. For example, in the original series the\n",
      "bucket ``2000-01-01 00:03:00`` contains the value 3, but the summed\n",
      "value in the resampled bucket with the label ``2000-01-01 00:03:00``\n",
      "does not include 3 (if it did, the summed value would be 6, not 3).\n",
      "To include this value close the right side of the bin interval as\n",
      "illustrated in the example below this one.\n",
      "\n",
      ">>> series.resample('3T', label='right').sum()\n",
      "2000-01-01 00:03:00     3\n",
      "2000-01-01 00:06:00    12\n",
      "2000-01-01 00:09:00    21\n",
      "Freq: 3T, dtype: int64\n",
      "\n",
      "Downsample the series into 3 minute bins as above, but close the right\n",
      "side of the bin interval.\n",
      "\n",
      ">>> series.resample('3T', label='right', closed='right').sum()\n",
      "2000-01-01 00:00:00     0\n",
      "2000-01-01 00:03:00     6\n",
      "2000-01-01 00:06:00    15\n",
      "2000-01-01 00:09:00    15\n",
      "Freq: 3T, dtype: int64\n",
      "\n",
      "Upsample the series into 30 second bins.\n",
      "\n",
      ">>> series.resample('30S').asfreq()[0:5]   # Select first 5 rows\n",
      "2000-01-01 00:00:00   0.0\n",
      "2000-01-01 00:00:30   NaN\n",
      "2000-01-01 00:01:00   1.0\n",
      "2000-01-01 00:01:30   NaN\n",
      "2000-01-01 00:02:00   2.0\n",
      "Freq: 30S, dtype: float64\n",
      "\n",
      "Upsample the series into 30 second bins and fill the ``NaN``\n",
      "values using the ``ffill`` method.\n",
      "\n",
      ">>> series.resample('30S').ffill()[0:5]\n",
      "2000-01-01 00:00:00    0\n",
      "2000-01-01 00:00:30    0\n",
      "2000-01-01 00:01:00    1\n",
      "2000-01-01 00:01:30    1\n",
      "2000-01-01 00:02:00    2\n",
      "Freq: 30S, dtype: int64\n",
      "\n",
      "Upsample the series into 30 second bins and fill the\n",
      "``NaN`` values using the ``bfill`` method.\n",
      "\n",
      ">>> series.resample('30S').bfill()[0:5]\n",
      "2000-01-01 00:00:00    0\n",
      "2000-01-01 00:00:30    1\n",
      "2000-01-01 00:01:00    1\n",
      "2000-01-01 00:01:30    2\n",
      "2000-01-01 00:02:00    2\n",
      "Freq: 30S, dtype: int64\n",
      "\n",
      "Pass a custom function via ``apply``\n",
      "\n",
      ">>> def custom_resampler(arraylike):\n",
      "...     return np.sum(arraylike) + 5\n",
      "...\n",
      ">>> series.resample('3T').apply(custom_resampler)\n",
      "2000-01-01 00:00:00     8\n",
      "2000-01-01 00:03:00    17\n",
      "2000-01-01 00:06:00    26\n",
      "Freq: 3T, dtype: int64\n",
      "\n",
      "For a Series with a PeriodIndex, the keyword `convention` can be\n",
      "used to control whether to use the start or end of `rule`.\n",
      "\n",
      "Resample a year by quarter using 'start' `convention`. Values are\n",
      "assigned to the first quarter of the period.\n",
      "\n",
      ">>> s = pd.Series([1, 2], index=pd.period_range('2012-01-01',\n",
      "...                                             freq='A',\n",
      "...                                             periods=2))\n",
      ">>> s\n",
      "2012    1\n",
      "2013    2\n",
      "Freq: A-DEC, dtype: int64\n",
      ">>> s.resample('Q', convention='start').asfreq()\n",
      "2012Q1    1.0\n",
      "2012Q2    NaN\n",
      "2012Q3    NaN\n",
      "2012Q4    NaN\n",
      "2013Q1    2.0\n",
      "2013Q2    NaN\n",
      "2013Q3    NaN\n",
      "2013Q4    NaN\n",
      "Freq: Q-DEC, dtype: float64\n",
      "\n",
      "Resample quarters by month using 'end' `convention`. Values are\n",
      "assigned to the last month of the period.\n",
      "\n",
      ">>> q = pd.Series([1, 2, 3, 4], index=pd.period_range('2018-01-01',\n",
      "...                                                   freq='Q',\n",
      "...                                                   periods=4))\n",
      ">>> q\n",
      "2018Q1    1\n",
      "2018Q2    2\n",
      "2018Q3    3\n",
      "2018Q4    4\n",
      "Freq: Q-DEC, dtype: int64\n",
      ">>> q.resample('M', convention='end').asfreq()\n",
      "2018-03    1.0\n",
      "2018-04    NaN\n",
      "2018-05    NaN\n",
      "2018-06    2.0\n",
      "2018-07    NaN\n",
      "2018-08    NaN\n",
      "2018-09    3.0\n",
      "2018-10    NaN\n",
      "2018-11    NaN\n",
      "2018-12    4.0\n",
      "Freq: M, dtype: float64\n",
      "\n",
      "For DataFrame objects, the keyword `on` can be used to specify the\n",
      "column instead of the index for resampling.\n",
      "\n",
      ">>> d = {'price': [10, 11, 9, 13, 14, 18, 17, 19],\n",
      "...      'volume': [50, 60, 40, 100, 50, 100, 40, 50]}\n",
      ">>> df = pd.DataFrame(d)\n",
      ">>> df['week_starting'] = pd.date_range('01/01/2018',\n",
      "...                                     periods=8,\n",
      "...                                     freq='W')\n",
      ">>> df\n",
      "   price  volume week_starting\n",
      "0     10      50    2018-01-07\n",
      "1     11      60    2018-01-14\n",
      "2      9      40    2018-01-21\n",
      "3     13     100    2018-01-28\n",
      "4     14      50    2018-02-04\n",
      "5     18     100    2018-02-11\n",
      "6     17      40    2018-02-18\n",
      "7     19      50    2018-02-25\n",
      ">>> df.resample('M', on='week_starting').mean()\n",
      "               price  volume\n",
      "week_starting\n",
      "2018-01-31     10.75    62.5\n",
      "2018-02-28     17.00    60.0\n",
      "\n",
      "For a DataFrame with MultiIndex, the keyword `level` can be used to\n",
      "specify on which level the resampling needs to take place.\n",
      "\n",
      ">>> days = pd.date_range('1/1/2000', periods=4, freq='D')\n",
      ">>> d2 = {'price': [10, 11, 9, 13, 14, 18, 17, 19],\n",
      "...       'volume': [50, 60, 40, 100, 50, 100, 40, 50]}\n",
      ">>> df2 = pd.DataFrame(\n",
      "...     d2,\n",
      "...     index=pd.MultiIndex.from_product(\n",
      "...         [days, ['morning', 'afternoon']]\n",
      "...     )\n",
      "... )\n",
      ">>> df2\n",
      "                      price  volume\n",
      "2000-01-01 morning       10      50\n",
      "           afternoon     11      60\n",
      "2000-01-02 morning        9      40\n",
      "           afternoon     13     100\n",
      "2000-01-03 morning       14      50\n",
      "           afternoon     18     100\n",
      "2000-01-04 morning       17      40\n",
      "           afternoon     19      50\n",
      ">>> df2.resample('D', level=0).sum()\n",
      "            price  volume\n",
      "2000-01-01     21     110\n",
      "2000-01-02     22     140\n",
      "2000-01-03     32     150\n",
      "2000-01-04     36      90\n",
      "\n",
      "If you want to adjust the start of the bins based on a fixed timestamp:\n",
      "\n",
      ">>> start, end = '2000-10-01 23:30:00', '2000-10-02 00:30:00'\n",
      ">>> rng = pd.date_range(start, end, freq='7min')\n",
      ">>> ts = pd.Series(np.arange(len(rng)) * 3, index=rng)\n",
      ">>> ts\n",
      "2000-10-01 23:30:00     0\n",
      "2000-10-01 23:37:00     3\n",
      "2000-10-01 23:44:00     6\n",
      "2000-10-01 23:51:00     9\n",
      "2000-10-01 23:58:00    12\n",
      "2000-10-02 00:05:00    15\n",
      "2000-10-02 00:12:00    18\n",
      "2000-10-02 00:19:00    21\n",
      "2000-10-02 00:26:00    24\n",
      "Freq: 7T, dtype: int64\n",
      "\n",
      ">>> ts.resample('17min').sum()\n",
      "2000-10-01 23:14:00     0\n",
      "2000-10-01 23:31:00     9\n",
      "2000-10-01 23:48:00    21\n",
      "2000-10-02 00:05:00    54\n",
      "2000-10-02 00:22:00    24\n",
      "Freq: 17T, dtype: int64\n",
      "\n",
      ">>> ts.resample('17min', origin='epoch').sum()\n",
      "2000-10-01 23:18:00     0\n",
      "2000-10-01 23:35:00    18\n",
      "2000-10-01 23:52:00    27\n",
      "2000-10-02 00:09:00    39\n",
      "2000-10-02 00:26:00    24\n",
      "Freq: 17T, dtype: int64\n",
      "\n",
      ">>> ts.resample('17min', origin='2000-01-01').sum()\n",
      "2000-10-01 23:24:00     3\n",
      "2000-10-01 23:41:00    15\n",
      "2000-10-01 23:58:00    45\n",
      "2000-10-02 00:15:00    45\n",
      "Freq: 17T, dtype: int64\n",
      "\n",
      "If you want to adjust the start of the bins with an `offset` Timedelta, the two\n",
      "following lines are equivalent:\n",
      "\n",
      ">>> ts.resample('17min', origin='start').sum()\n",
      "2000-10-01 23:30:00     9\n",
      "2000-10-01 23:47:00    21\n",
      "2000-10-02 00:04:00    54\n",
      "2000-10-02 00:21:00    24\n",
      "Freq: 17T, dtype: int64\n",
      "\n",
      ">>> ts.resample('17min', offset='23h30min').sum()\n",
      "2000-10-01 23:30:00     9\n",
      "2000-10-01 23:47:00    21\n",
      "2000-10-02 00:04:00    54\n",
      "2000-10-02 00:21:00    24\n",
      "Freq: 17T, dtype: int64\n",
      "\n",
      "If you want to take the largest Timestamp as the end of the bins:\n",
      "\n",
      ">>> ts.resample('17min', origin='end').sum()\n",
      "2000-10-01 23:35:00     0\n",
      "2000-10-01 23:52:00    18\n",
      "2000-10-02 00:09:00    27\n",
      "2000-10-02 00:26:00    63\n",
      "Freq: 17T, dtype: int64\n",
      "\n",
      "In contrast with the `start_day`, you can use `end_day` to take the ceiling\n",
      "midnight of the largest Timestamp as the end of the bins and drop the bins\n",
      "not containing data:\n",
      "\n",
      ">>> ts.resample('17min', origin='end_day').sum()\n",
      "2000-10-01 23:38:00     3\n",
      "2000-10-01 23:55:00    15\n",
      "2000-10-02 00:12:00    45\n",
      "2000-10-02 00:29:00    45\n",
      "Freq: 17T, dtype: int64\n",
      "\n",
      "To replace the use of the deprecated `base` argument, you can now use `offset`,\n",
      "in this example it is equivalent to have `base=2`:\n",
      "\n",
      ">>> ts.resample('17min', offset='2min').sum()\n",
      "2000-10-01 23:16:00     0\n",
      "2000-10-01 23:33:00     9\n",
      "2000-10-01 23:50:00    36\n",
      "2000-10-02 00:07:00    39\n",
      "2000-10-02 00:24:00    24\n",
      "Freq: 17T, dtype: int64\n",
      "\n",
      "To replace the use of the deprecated `loffset` argument:\n",
      "\n",
      ">>> from pandas.tseries.frequencies import to_offset\n",
      ">>> loffset = '19min'\n",
      ">>> ts_out = ts.resample('17min').sum()\n",
      ">>> ts_out.index = ts_out.index + to_offset(loffset)\n",
      ">>> ts_out\n",
      "2000-10-01 23:33:00     0\n",
      "2000-10-01 23:50:00     9\n",
      "2000-10-02 00:07:00    21\n",
      "2000-10-02 00:24:00    54\n",
      "2000-10-02 00:41:00    24\n",
      "Freq: 17T, dtype: int64\n",
      "\u001b[1;31mFile:\u001b[0m      d:\\anaconda3\\lib\\site-packages\\pandas\\core\\series.py\n",
      "\u001b[1;31mType:\u001b[0m      method"
     ]
    }
   ],
   "source": [
    "ts.resample?"
   ]
  },
  {
   "cell_type": "code",
   "execution_count": 193,
   "metadata": {},
   "outputs": [
    {
     "data": {
      "text/plain": [
       "2000-01-31   -0.227572\n",
       "2000-02-29    0.313793\n",
       "2000-03-31   -0.027252\n",
       "2000-04-30    0.113460\n",
       "Freq: M, dtype: float64"
      ]
     },
     "execution_count": 193,
     "metadata": {},
     "output_type": "execute_result"
    }
   ],
   "source": [
    "ts.resample('M').mean()#按照月resample"
   ]
  },
  {
   "cell_type": "code",
   "execution_count": 100,
   "metadata": {
    "slideshow": {
     "slide_type": "-"
    }
   },
   "outputs": [
    {
     "data": {
      "text/plain": [
       "2000-01   -4.091241\n",
       "2000-02   -4.641962\n",
       "2000-03    3.025323\n",
       "2000-04    0.397917\n",
       "Freq: M, dtype: float64"
      ]
     },
     "execution_count": 100,
     "metadata": {},
     "output_type": "execute_result"
    }
   ],
   "source": [
    "ts.resample('M',kind='period').sum()"
   ]
  },
  {
   "cell_type": "markdown",
   "metadata": {},
   "source": [
    "parameter| decription\n",
    "------ |------\n",
    "rule|  string the offset string or object representing target conversion\n",
    "**how** | string method for down- or re-sampling, default to ‘mean’ for downsampling\n",
    "axis | int, optional, default 0\n",
    "fill_method  | string, default None fill_method for upsampling\n",
    "**closed**  | {‘right’, ‘left’} Which side of bin interval is closed\n",
    "**label**|  {‘right’, ‘left’} Which bin edge label to label bucket with\n",
    "convention | {‘start’, ‘end’, ‘s’, ‘e’}\n",
    "kind|  “period”/”timestamp”\n",
    "loffset | timedelta Adjust the resampled time labels\n",
    "limit| int, default None, Maximum size gap to when reindexing with fill_method\n",
    "base |  int, default 0 For frequencies that evenly subdivide 1 day, the “origin” of the aggregated intervals. For example, for ‘5min’ frequency, base could range from 0 through 4. Defaults to 0"
   ]
  },
  {
   "cell_type": "markdown",
   "metadata": {
    "slideshow": {
     "slide_type": "slide"
    }
   },
   "source": [
    "### Downsampling\n",
    "\n",
    "利用高频数据作低频的汇总\n",
    "\n",
    "关键是要明确计算的区间，\n"
   ]
  },
  {
   "cell_type": "code",
   "execution_count": 196,
   "metadata": {
    "slideshow": {
     "slide_type": "slide"
    }
   },
   "outputs": [
    {
     "data": {
      "text/plain": [
       "2000-01-01 00:00:00     0\n",
       "2000-01-01 00:01:00     1\n",
       "2000-01-01 00:02:00     2\n",
       "2000-01-01 00:03:00     3\n",
       "2000-01-01 00:04:00     4\n",
       "2000-01-01 00:05:00     5\n",
       "2000-01-01 00:06:00     6\n",
       "2000-01-01 00:07:00     7\n",
       "2000-01-01 00:08:00     8\n",
       "2000-01-01 00:09:00     9\n",
       "2000-01-01 00:10:00    10\n",
       "2000-01-01 00:11:00    11\n",
       "Freq: T, dtype: int32"
      ]
     },
     "execution_count": 196,
     "metadata": {},
     "output_type": "execute_result"
    }
   ],
   "source": [
    "rng = pd.date_range('1/1/2000', periods=12, freq='T')\n",
    "ts = Series(np.arange(12), index=rng)\n",
    "ts"
   ]
  },
  {
   "cell_type": "code",
   "execution_count": 197,
   "metadata": {
    "slideshow": {
     "slide_type": "slide"
    }
   },
   "outputs": [
    {
     "data": {
      "text/plain": [
       "2000-01-01 00:00:00    10\n",
       "2000-01-01 00:05:00    35\n",
       "2000-01-01 00:10:00    21\n",
       "Freq: 5T, dtype: int32"
      ]
     },
     "execution_count": 197,
     "metadata": {},
     "output_type": "execute_result"
    }
   ],
   "source": [
    "ts.resample('5min').sum()\n",
    "# note: output changed (as the default changed from closed='right', label='right' to closed='left', label='left'"
   ]
  },
  {
   "cell_type": "code",
   "execution_count": 201,
   "metadata": {
    "slideshow": {
     "slide_type": "slide"
    }
   },
   "outputs": [
    {
     "data": {
      "text/plain": [
       "2000-01-01 00:00:00    10\n",
       "2000-01-01 00:05:00    35\n",
       "2000-01-01 00:10:00    21\n",
       "Freq: 5T, dtype: int32"
      ]
     },
     "execution_count": 201,
     "metadata": {},
     "output_type": "execute_result"
    }
   ],
   "source": [
    "ts.resample('5min',closed='left').sum()\n",
    "# 包含左 端点，但不包含右端点"
   ]
  },
  {
   "cell_type": "code",
   "execution_count": 199,
   "metadata": {
    "slideshow": {
     "slide_type": "slide"
    }
   },
   "outputs": [
    {
     "data": {
      "text/plain": [
       "2000-01-01 00:05:00    10\n",
       "2000-01-01 00:10:00    35\n",
       "2000-01-01 00:15:00    21\n",
       "Freq: 5T, dtype: int32"
      ]
     },
     "execution_count": 199,
     "metadata": {},
     "output_type": "execute_result"
    }
   ],
   "source": [
    "ts.resample('5min', closed='left', label='right').sum()"
   ]
  },
  {
   "cell_type": "code",
   "execution_count": 105,
   "metadata": {
    "slideshow": {
     "slide_type": "slide"
    }
   },
   "outputs": [
    {
     "data": {
      "text/plain": [
       "1999-12-31 23:59:59    10\n",
       "2000-01-01 00:04:59    35\n",
       "2000-01-01 00:09:59    21\n",
       "Freq: 5T, dtype: int32"
      ]
     },
     "execution_count": 105,
     "metadata": {},
     "output_type": "execute_result"
    }
   ],
   "source": [
    "ts.resample('5min', loffset='-1s').sum()\n",
    "#loffset=-1s,时间向前偏差1秒"
   ]
  },
  {
   "cell_type": "markdown",
   "metadata": {
    "slideshow": {
     "slide_type": "slide"
    }
   },
   "source": [
    "#### Open-High-Low-Close (OHLC) resampling\n",
    "\n",
    "金融中计算区间的开盘价、收盘价、最高、最低价。"
   ]
  },
  {
   "cell_type": "code",
   "execution_count": 202,
   "metadata": {
    "slideshow": {
     "slide_type": "-"
    }
   },
   "outputs": [
    {
     "data": {
      "text/html": [
       "<div>\n",
       "<style scoped>\n",
       "    .dataframe tbody tr th:only-of-type {\n",
       "        vertical-align: middle;\n",
       "    }\n",
       "\n",
       "    .dataframe tbody tr th {\n",
       "        vertical-align: top;\n",
       "    }\n",
       "\n",
       "    .dataframe thead th {\n",
       "        text-align: right;\n",
       "    }\n",
       "</style>\n",
       "<table border=\"1\" class=\"dataframe\">\n",
       "  <thead>\n",
       "    <tr style=\"text-align: right;\">\n",
       "      <th></th>\n",
       "      <th>open</th>\n",
       "      <th>high</th>\n",
       "      <th>low</th>\n",
       "      <th>close</th>\n",
       "    </tr>\n",
       "  </thead>\n",
       "  <tbody>\n",
       "    <tr>\n",
       "      <th>2000-01-01 00:00:00</th>\n",
       "      <td>0</td>\n",
       "      <td>4</td>\n",
       "      <td>0</td>\n",
       "      <td>4</td>\n",
       "    </tr>\n",
       "    <tr>\n",
       "      <th>2000-01-01 00:05:00</th>\n",
       "      <td>5</td>\n",
       "      <td>9</td>\n",
       "      <td>5</td>\n",
       "      <td>9</td>\n",
       "    </tr>\n",
       "    <tr>\n",
       "      <th>2000-01-01 00:10:00</th>\n",
       "      <td>10</td>\n",
       "      <td>11</td>\n",
       "      <td>10</td>\n",
       "      <td>11</td>\n",
       "    </tr>\n",
       "  </tbody>\n",
       "</table>\n",
       "</div>"
      ],
      "text/plain": [
       "                     open  high  low  close\n",
       "2000-01-01 00:00:00     0     4    0      4\n",
       "2000-01-01 00:05:00     5     9    5      9\n",
       "2000-01-01 00:10:00    10    11   10     11"
      ]
     },
     "execution_count": 202,
     "metadata": {},
     "output_type": "execute_result"
    }
   ],
   "source": [
    "ts.resample('5min').ohlc()\n",
    "# note: output changed because of changed defaults"
   ]
  },
  {
   "cell_type": "markdown",
   "metadata": {
    "slideshow": {
     "slide_type": "slide"
    }
   },
   "source": [
    "#### Resampling with GroupBy"
   ]
  },
  {
   "cell_type": "code",
   "execution_count": null,
   "metadata": {},
   "outputs": [],
   "source": [
    "ts.groupby?"
   ]
  },
  {
   "cell_type": "code",
   "execution_count": 206,
   "metadata": {
    "slideshow": {
     "slide_type": "-"
    }
   },
   "outputs": [
    {
     "name": "stdout",
     "output_type": "stream",
     "text": [
      "2000-01-01      0\n",
      "2000-01-02      1\n",
      "2000-01-03      2\n",
      "2000-01-04      3\n",
      "2000-01-05      4\n",
      "             ... \n",
      "2002-09-22    995\n",
      "2002-09-23    996\n",
      "2002-09-24    997\n",
      "2002-09-25    998\n",
      "2002-09-26    999\n",
      "Freq: D, Length: 1000, dtype: int32\n"
     ]
    },
    {
     "data": {
      "text/plain": [
       "1     380.666667\n",
       "2     406.035294\n",
       "3     440.000000\n",
       "4     470.500000\n",
       "5     501.000000\n",
       "6     531.500000\n",
       "7     562.000000\n",
       "8     593.000000\n",
       "9     605.918605\n",
       "10    471.500000\n",
       "11    502.000000\n",
       "12    532.500000\n",
       "dtype: float64"
      ]
     },
     "execution_count": 206,
     "metadata": {},
     "output_type": "execute_result"
    }
   ],
   "source": [
    "rng = pd.date_range('1/1/2000', periods=1000, freq='D')\n",
    "ts = Series(np.arange(1000), index=rng)\n",
    "print(ts)\n",
    "ts.groupby(lambda x: x.month).mean()#groupby需要给一个等长的向量\n",
    "#groupby根据index元素的函数进行"
   ]
  },
  {
   "cell_type": "code",
   "execution_count": 210,
   "metadata": {
    "scrolled": true,
    "slideshow": {
     "slide_type": "subslide"
    }
   },
   "outputs": [
    {
     "data": {
      "text/plain": [
       "0    499.0\n",
       "1    500.0\n",
       "2    501.0\n",
       "3    502.0\n",
       "4    499.5\n",
       "5    497.0\n",
       "6    498.0\n",
       "dtype: float64"
      ]
     },
     "execution_count": 210,
     "metadata": {},
     "output_type": "execute_result"
    }
   ],
   "source": [
    "ts.groupby(lambda x: x.weekday).mean()"
   ]
  },
  {
   "cell_type": "markdown",
   "metadata": {},
   "source": [
    "1. 计算所有月同一日对应的数值的和\n",
    "2. 计算所有工作日（周一到周五）和休息日的均值（周六周日）"
   ]
  },
  {
   "cell_type": "code",
   "execution_count": 109,
   "metadata": {},
   "outputs": [
    {
     "data": {
      "text/plain": [
       "False    498.50000\n",
       "True     499.90056\n",
       "dtype: float64"
      ]
     },
     "execution_count": 109,
     "metadata": {},
     "output_type": "execute_result"
    }
   ],
   "source": [
    "ts.groupby(lambda x: x.weekday() in [1,2,3,4,5]).mean()"
   ]
  },
  {
   "cell_type": "markdown",
   "metadata": {
    "slideshow": {
     "slide_type": "slide"
    }
   },
   "source": [
    "### Upsampling and interpolation******\n",
    "\n",
    "升采样和插值，\n",
    "升采样时，有的值就会缺失，因此可以能要插值。"
   ]
  },
  {
   "cell_type": "code",
   "execution_count": 211,
   "metadata": {
    "slideshow": {
     "slide_type": "-"
    }
   },
   "outputs": [
    {
     "data": {
      "text/html": [
       "<div>\n",
       "<style scoped>\n",
       "    .dataframe tbody tr th:only-of-type {\n",
       "        vertical-align: middle;\n",
       "    }\n",
       "\n",
       "    .dataframe tbody tr th {\n",
       "        vertical-align: top;\n",
       "    }\n",
       "\n",
       "    .dataframe thead th {\n",
       "        text-align: right;\n",
       "    }\n",
       "</style>\n",
       "<table border=\"1\" class=\"dataframe\">\n",
       "  <thead>\n",
       "    <tr style=\"text-align: right;\">\n",
       "      <th></th>\n",
       "      <th>Colorado</th>\n",
       "      <th>Texas</th>\n",
       "      <th>New York</th>\n",
       "      <th>Ohio</th>\n",
       "    </tr>\n",
       "  </thead>\n",
       "  <tbody>\n",
       "    <tr>\n",
       "      <th>2000-01-05</th>\n",
       "      <td>0.114830</td>\n",
       "      <td>1.409960</td>\n",
       "      <td>-0.626491</td>\n",
       "      <td>0.857395</td>\n",
       "    </tr>\n",
       "    <tr>\n",
       "      <th>2000-01-12</th>\n",
       "      <td>-0.187378</td>\n",
       "      <td>-0.805177</td>\n",
       "      <td>-1.532256</td>\n",
       "      <td>-1.223429</td>\n",
       "    </tr>\n",
       "  </tbody>\n",
       "</table>\n",
       "</div>"
      ],
      "text/plain": [
       "            Colorado     Texas  New York      Ohio\n",
       "2000-01-05  0.114830  1.409960 -0.626491  0.857395\n",
       "2000-01-12 -0.187378 -0.805177 -1.532256 -1.223429"
      ]
     },
     "execution_count": 211,
     "metadata": {},
     "output_type": "execute_result"
    }
   ],
   "source": [
    "frame = DataFrame(np.random.randn(2, 4),\n",
    "                  index=pd.date_range('1/1/2000', periods=2, freq='W-WED'),\n",
    "                  columns=['Colorado', 'Texas', 'New York', 'Ohio'])\n",
    "frame"
   ]
  },
  {
   "cell_type": "code",
   "execution_count": 111,
   "metadata": {
    "slideshow": {
     "slide_type": "slide"
    }
   },
   "outputs": [
    {
     "data": {
      "text/html": [
       "<div>\n",
       "<style scoped>\n",
       "    .dataframe tbody tr th:only-of-type {\n",
       "        vertical-align: middle;\n",
       "    }\n",
       "\n",
       "    .dataframe tbody tr th {\n",
       "        vertical-align: top;\n",
       "    }\n",
       "\n",
       "    .dataframe thead th {\n",
       "        text-align: right;\n",
       "    }\n",
       "</style>\n",
       "<table border=\"1\" class=\"dataframe\">\n",
       "  <thead>\n",
       "    <tr style=\"text-align: right;\">\n",
       "      <th></th>\n",
       "      <th>Colorado</th>\n",
       "      <th>Texas</th>\n",
       "      <th>New York</th>\n",
       "      <th>Ohio</th>\n",
       "    </tr>\n",
       "  </thead>\n",
       "  <tbody>\n",
       "    <tr>\n",
       "      <th>2000-01-05</th>\n",
       "      <td>1.200353</td>\n",
       "      <td>0.840303</td>\n",
       "      <td>-0.283287</td>\n",
       "      <td>-1.228777</td>\n",
       "    </tr>\n",
       "    <tr>\n",
       "      <th>2000-01-06</th>\n",
       "      <td>NaN</td>\n",
       "      <td>NaN</td>\n",
       "      <td>NaN</td>\n",
       "      <td>NaN</td>\n",
       "    </tr>\n",
       "    <tr>\n",
       "      <th>2000-01-07</th>\n",
       "      <td>NaN</td>\n",
       "      <td>NaN</td>\n",
       "      <td>NaN</td>\n",
       "      <td>NaN</td>\n",
       "    </tr>\n",
       "    <tr>\n",
       "      <th>2000-01-08</th>\n",
       "      <td>NaN</td>\n",
       "      <td>NaN</td>\n",
       "      <td>NaN</td>\n",
       "      <td>NaN</td>\n",
       "    </tr>\n",
       "    <tr>\n",
       "      <th>2000-01-09</th>\n",
       "      <td>NaN</td>\n",
       "      <td>NaN</td>\n",
       "      <td>NaN</td>\n",
       "      <td>NaN</td>\n",
       "    </tr>\n",
       "    <tr>\n",
       "      <th>2000-01-10</th>\n",
       "      <td>NaN</td>\n",
       "      <td>NaN</td>\n",
       "      <td>NaN</td>\n",
       "      <td>NaN</td>\n",
       "    </tr>\n",
       "    <tr>\n",
       "      <th>2000-01-11</th>\n",
       "      <td>NaN</td>\n",
       "      <td>NaN</td>\n",
       "      <td>NaN</td>\n",
       "      <td>NaN</td>\n",
       "    </tr>\n",
       "    <tr>\n",
       "      <th>2000-01-12</th>\n",
       "      <td>-0.649803</td>\n",
       "      <td>2.510537</td>\n",
       "      <td>-0.467724</td>\n",
       "      <td>-0.614696</td>\n",
       "    </tr>\n",
       "  </tbody>\n",
       "</table>\n",
       "</div>"
      ],
      "text/plain": [
       "            Colorado     Texas  New York      Ohio\n",
       "2000-01-05  1.200353  0.840303 -0.283287 -1.228777\n",
       "2000-01-06       NaN       NaN       NaN       NaN\n",
       "2000-01-07       NaN       NaN       NaN       NaN\n",
       "2000-01-08       NaN       NaN       NaN       NaN\n",
       "2000-01-09       NaN       NaN       NaN       NaN\n",
       "2000-01-10       NaN       NaN       NaN       NaN\n",
       "2000-01-11       NaN       NaN       NaN       NaN\n",
       "2000-01-12 -0.649803  2.510537 -0.467724 -0.614696"
      ]
     },
     "execution_count": 111,
     "metadata": {},
     "output_type": "execute_result"
    }
   ],
   "source": [
    "frame.resample('D').first()\n",
    " "
   ]
  },
  {
   "cell_type": "code",
   "execution_count": 112,
   "metadata": {
    "slideshow": {
     "slide_type": "slide"
    }
   },
   "outputs": [
    {
     "data": {
      "text/html": [
       "<div>\n",
       "<style scoped>\n",
       "    .dataframe tbody tr th:only-of-type {\n",
       "        vertical-align: middle;\n",
       "    }\n",
       "\n",
       "    .dataframe tbody tr th {\n",
       "        vertical-align: top;\n",
       "    }\n",
       "\n",
       "    .dataframe thead th {\n",
       "        text-align: right;\n",
       "    }\n",
       "</style>\n",
       "<table border=\"1\" class=\"dataframe\">\n",
       "  <thead>\n",
       "    <tr style=\"text-align: right;\">\n",
       "      <th></th>\n",
       "      <th>Colorado</th>\n",
       "      <th>Texas</th>\n",
       "      <th>New York</th>\n",
       "      <th>Ohio</th>\n",
       "    </tr>\n",
       "  </thead>\n",
       "  <tbody>\n",
       "    <tr>\n",
       "      <th>2000-01-05</th>\n",
       "      <td>1.200353</td>\n",
       "      <td>0.840303</td>\n",
       "      <td>-0.283287</td>\n",
       "      <td>-1.228777</td>\n",
       "    </tr>\n",
       "    <tr>\n",
       "      <th>2000-01-06</th>\n",
       "      <td>1.200353</td>\n",
       "      <td>0.840303</td>\n",
       "      <td>-0.283287</td>\n",
       "      <td>-1.228777</td>\n",
       "    </tr>\n",
       "    <tr>\n",
       "      <th>2000-01-07</th>\n",
       "      <td>1.200353</td>\n",
       "      <td>0.840303</td>\n",
       "      <td>-0.283287</td>\n",
       "      <td>-1.228777</td>\n",
       "    </tr>\n",
       "    <tr>\n",
       "      <th>2000-01-08</th>\n",
       "      <td>1.200353</td>\n",
       "      <td>0.840303</td>\n",
       "      <td>-0.283287</td>\n",
       "      <td>-1.228777</td>\n",
       "    </tr>\n",
       "    <tr>\n",
       "      <th>2000-01-09</th>\n",
       "      <td>1.200353</td>\n",
       "      <td>0.840303</td>\n",
       "      <td>-0.283287</td>\n",
       "      <td>-1.228777</td>\n",
       "    </tr>\n",
       "    <tr>\n",
       "      <th>2000-01-10</th>\n",
       "      <td>1.200353</td>\n",
       "      <td>0.840303</td>\n",
       "      <td>-0.283287</td>\n",
       "      <td>-1.228777</td>\n",
       "    </tr>\n",
       "    <tr>\n",
       "      <th>2000-01-11</th>\n",
       "      <td>1.200353</td>\n",
       "      <td>0.840303</td>\n",
       "      <td>-0.283287</td>\n",
       "      <td>-1.228777</td>\n",
       "    </tr>\n",
       "    <tr>\n",
       "      <th>2000-01-12</th>\n",
       "      <td>-0.649803</td>\n",
       "      <td>2.510537</td>\n",
       "      <td>-0.467724</td>\n",
       "      <td>-0.614696</td>\n",
       "    </tr>\n",
       "  </tbody>\n",
       "</table>\n",
       "</div>"
      ],
      "text/plain": [
       "            Colorado     Texas  New York      Ohio\n",
       "2000-01-05  1.200353  0.840303 -0.283287 -1.228777\n",
       "2000-01-06  1.200353  0.840303 -0.283287 -1.228777\n",
       "2000-01-07  1.200353  0.840303 -0.283287 -1.228777\n",
       "2000-01-08  1.200353  0.840303 -0.283287 -1.228777\n",
       "2000-01-09  1.200353  0.840303 -0.283287 -1.228777\n",
       "2000-01-10  1.200353  0.840303 -0.283287 -1.228777\n",
       "2000-01-11  1.200353  0.840303 -0.283287 -1.228777\n",
       "2000-01-12 -0.649803  2.510537 -0.467724 -0.614696"
      ]
     },
     "execution_count": 112,
     "metadata": {},
     "output_type": "execute_result"
    }
   ],
   "source": [
    "frame.resample('D').ffill()"
   ]
  },
  {
   "cell_type": "code",
   "execution_count": 113,
   "metadata": {
    "slideshow": {
     "slide_type": "slide"
    }
   },
   "outputs": [
    {
     "data": {
      "text/html": [
       "<div>\n",
       "<style scoped>\n",
       "    .dataframe tbody tr th:only-of-type {\n",
       "        vertical-align: middle;\n",
       "    }\n",
       "\n",
       "    .dataframe tbody tr th {\n",
       "        vertical-align: top;\n",
       "    }\n",
       "\n",
       "    .dataframe thead th {\n",
       "        text-align: right;\n",
       "    }\n",
       "</style>\n",
       "<table border=\"1\" class=\"dataframe\">\n",
       "  <thead>\n",
       "    <tr style=\"text-align: right;\">\n",
       "      <th></th>\n",
       "      <th>Colorado</th>\n",
       "      <th>Texas</th>\n",
       "      <th>New York</th>\n",
       "      <th>Ohio</th>\n",
       "    </tr>\n",
       "  </thead>\n",
       "  <tbody>\n",
       "    <tr>\n",
       "      <th>2000-01-05</th>\n",
       "      <td>1.200353</td>\n",
       "      <td>0.840303</td>\n",
       "      <td>-0.283287</td>\n",
       "      <td>-1.228777</td>\n",
       "    </tr>\n",
       "    <tr>\n",
       "      <th>2000-01-06</th>\n",
       "      <td>1.200353</td>\n",
       "      <td>0.840303</td>\n",
       "      <td>-0.283287</td>\n",
       "      <td>-1.228777</td>\n",
       "    </tr>\n",
       "    <tr>\n",
       "      <th>2000-01-07</th>\n",
       "      <td>1.200353</td>\n",
       "      <td>0.840303</td>\n",
       "      <td>-0.283287</td>\n",
       "      <td>-1.228777</td>\n",
       "    </tr>\n",
       "    <tr>\n",
       "      <th>2000-01-08</th>\n",
       "      <td>NaN</td>\n",
       "      <td>NaN</td>\n",
       "      <td>NaN</td>\n",
       "      <td>NaN</td>\n",
       "    </tr>\n",
       "    <tr>\n",
       "      <th>2000-01-09</th>\n",
       "      <td>NaN</td>\n",
       "      <td>NaN</td>\n",
       "      <td>NaN</td>\n",
       "      <td>NaN</td>\n",
       "    </tr>\n",
       "    <tr>\n",
       "      <th>2000-01-10</th>\n",
       "      <td>NaN</td>\n",
       "      <td>NaN</td>\n",
       "      <td>NaN</td>\n",
       "      <td>NaN</td>\n",
       "    </tr>\n",
       "    <tr>\n",
       "      <th>2000-01-11</th>\n",
       "      <td>NaN</td>\n",
       "      <td>NaN</td>\n",
       "      <td>NaN</td>\n",
       "      <td>NaN</td>\n",
       "    </tr>\n",
       "    <tr>\n",
       "      <th>2000-01-12</th>\n",
       "      <td>-0.649803</td>\n",
       "      <td>2.510537</td>\n",
       "      <td>-0.467724</td>\n",
       "      <td>-0.614696</td>\n",
       "    </tr>\n",
       "  </tbody>\n",
       "</table>\n",
       "</div>"
      ],
      "text/plain": [
       "            Colorado     Texas  New York      Ohio\n",
       "2000-01-05  1.200353  0.840303 -0.283287 -1.228777\n",
       "2000-01-06  1.200353  0.840303 -0.283287 -1.228777\n",
       "2000-01-07  1.200353  0.840303 -0.283287 -1.228777\n",
       "2000-01-08       NaN       NaN       NaN       NaN\n",
       "2000-01-09       NaN       NaN       NaN       NaN\n",
       "2000-01-10       NaN       NaN       NaN       NaN\n",
       "2000-01-11       NaN       NaN       NaN       NaN\n",
       "2000-01-12 -0.649803  2.510537 -0.467724 -0.614696"
      ]
     },
     "execution_count": 113,
     "metadata": {},
     "output_type": "execute_result"
    }
   ],
   "source": [
    "frame.resample('D').ffill(limit=2)"
   ]
  },
  {
   "cell_type": "code",
   "execution_count": 114,
   "metadata": {
    "slideshow": {
     "slide_type": "slide"
    }
   },
   "outputs": [
    {
     "data": {
      "text/html": [
       "<div>\n",
       "<style scoped>\n",
       "    .dataframe tbody tr th:only-of-type {\n",
       "        vertical-align: middle;\n",
       "    }\n",
       "\n",
       "    .dataframe tbody tr th {\n",
       "        vertical-align: top;\n",
       "    }\n",
       "\n",
       "    .dataframe thead th {\n",
       "        text-align: right;\n",
       "    }\n",
       "</style>\n",
       "<table border=\"1\" class=\"dataframe\">\n",
       "  <thead>\n",
       "    <tr style=\"text-align: right;\">\n",
       "      <th></th>\n",
       "      <th>Colorado</th>\n",
       "      <th>Texas</th>\n",
       "      <th>New York</th>\n",
       "      <th>Ohio</th>\n",
       "    </tr>\n",
       "  </thead>\n",
       "  <tbody>\n",
       "    <tr>\n",
       "      <th>2000-01-06</th>\n",
       "      <td>1.200353</td>\n",
       "      <td>0.840303</td>\n",
       "      <td>-0.283287</td>\n",
       "      <td>-1.228777</td>\n",
       "    </tr>\n",
       "    <tr>\n",
       "      <th>2000-01-13</th>\n",
       "      <td>-0.649803</td>\n",
       "      <td>2.510537</td>\n",
       "      <td>-0.467724</td>\n",
       "      <td>-0.614696</td>\n",
       "    </tr>\n",
       "  </tbody>\n",
       "</table>\n",
       "</div>"
      ],
      "text/plain": [
       "            Colorado     Texas  New York      Ohio\n",
       "2000-01-06  1.200353  0.840303 -0.283287 -1.228777\n",
       "2000-01-13 -0.649803  2.510537 -0.467724 -0.614696"
      ]
     },
     "execution_count": 114,
     "metadata": {},
     "output_type": "execute_result"
    }
   ],
   "source": [
    "frame.resample('W-THU').ffill()"
   ]
  },
  {
   "cell_type": "markdown",
   "metadata": {
    "slideshow": {
     "slide_type": "slide"
    }
   },
   "source": [
    "### Resampling with periods\n",
    "\n",
    "通过时期采样"
   ]
  },
  {
   "cell_type": "code",
   "execution_count": 115,
   "metadata": {
    "slideshow": {
     "slide_type": "-"
    }
   },
   "outputs": [
    {
     "data": {
      "text/html": [
       "<div>\n",
       "<style scoped>\n",
       "    .dataframe tbody tr th:only-of-type {\n",
       "        vertical-align: middle;\n",
       "    }\n",
       "\n",
       "    .dataframe tbody tr th {\n",
       "        vertical-align: top;\n",
       "    }\n",
       "\n",
       "    .dataframe thead th {\n",
       "        text-align: right;\n",
       "    }\n",
       "</style>\n",
       "<table border=\"1\" class=\"dataframe\">\n",
       "  <thead>\n",
       "    <tr style=\"text-align: right;\">\n",
       "      <th></th>\n",
       "      <th>Colorado</th>\n",
       "      <th>Texas</th>\n",
       "      <th>New York</th>\n",
       "      <th>Ohio</th>\n",
       "    </tr>\n",
       "  </thead>\n",
       "  <tbody>\n",
       "    <tr>\n",
       "      <th>2000-01</th>\n",
       "      <td>-1.111744</td>\n",
       "      <td>-0.696383</td>\n",
       "      <td>0.254506</td>\n",
       "      <td>-1.370185</td>\n",
       "    </tr>\n",
       "    <tr>\n",
       "      <th>2000-02</th>\n",
       "      <td>-0.205392</td>\n",
       "      <td>-0.433984</td>\n",
       "      <td>0.512341</td>\n",
       "      <td>1.361802</td>\n",
       "    </tr>\n",
       "    <tr>\n",
       "      <th>2000-03</th>\n",
       "      <td>-0.094470</td>\n",
       "      <td>0.127671</td>\n",
       "      <td>-0.616774</td>\n",
       "      <td>-3.172215</td>\n",
       "    </tr>\n",
       "    <tr>\n",
       "      <th>2000-04</th>\n",
       "      <td>0.649893</td>\n",
       "      <td>-0.761473</td>\n",
       "      <td>0.022421</td>\n",
       "      <td>0.779078</td>\n",
       "    </tr>\n",
       "    <tr>\n",
       "      <th>2000-05</th>\n",
       "      <td>-1.837773</td>\n",
       "      <td>0.263870</td>\n",
       "      <td>-0.688442</td>\n",
       "      <td>-0.766511</td>\n",
       "    </tr>\n",
       "  </tbody>\n",
       "</table>\n",
       "</div>"
      ],
      "text/plain": [
       "         Colorado     Texas  New York      Ohio\n",
       "2000-01 -1.111744 -0.696383  0.254506 -1.370185\n",
       "2000-02 -0.205392 -0.433984  0.512341  1.361802\n",
       "2000-03 -0.094470  0.127671 -0.616774 -3.172215\n",
       "2000-04  0.649893 -0.761473  0.022421  0.779078\n",
       "2000-05 -1.837773  0.263870 -0.688442 -0.766511"
      ]
     },
     "execution_count": 115,
     "metadata": {},
     "output_type": "execute_result"
    }
   ],
   "source": [
    "frame = DataFrame(np.random.randn(24, 4),\n",
    "                  index=pd.period_range('1-2000', '12-2001', freq='M'),\n",
    "                  columns=['Colorado', 'Texas', 'New York', 'Ohio'])\n",
    "frame[:5]"
   ]
  },
  {
   "cell_type": "code",
   "execution_count": 116,
   "metadata": {
    "slideshow": {
     "slide_type": "slide"
    }
   },
   "outputs": [
    {
     "data": {
      "text/html": [
       "<div>\n",
       "<style scoped>\n",
       "    .dataframe tbody tr th:only-of-type {\n",
       "        vertical-align: middle;\n",
       "    }\n",
       "\n",
       "    .dataframe tbody tr th {\n",
       "        vertical-align: top;\n",
       "    }\n",
       "\n",
       "    .dataframe thead th {\n",
       "        text-align: right;\n",
       "    }\n",
       "</style>\n",
       "<table border=\"1\" class=\"dataframe\">\n",
       "  <thead>\n",
       "    <tr style=\"text-align: right;\">\n",
       "      <th></th>\n",
       "      <th>Colorado</th>\n",
       "      <th>Texas</th>\n",
       "      <th>New York</th>\n",
       "      <th>Ohio</th>\n",
       "    </tr>\n",
       "  </thead>\n",
       "  <tbody>\n",
       "    <tr>\n",
       "      <th>2000</th>\n",
       "      <td>-0.406554</td>\n",
       "      <td>0.170947</td>\n",
       "      <td>-0.313566</td>\n",
       "      <td>-0.286282</td>\n",
       "    </tr>\n",
       "    <tr>\n",
       "      <th>2001</th>\n",
       "      <td>0.205663</td>\n",
       "      <td>-0.332031</td>\n",
       "      <td>-0.095910</td>\n",
       "      <td>-0.279879</td>\n",
       "    </tr>\n",
       "  </tbody>\n",
       "</table>\n",
       "</div>"
      ],
      "text/plain": [
       "      Colorado     Texas  New York      Ohio\n",
       "2000 -0.406554  0.170947 -0.313566 -0.286282\n",
       "2001  0.205663 -0.332031 -0.095910 -0.279879"
      ]
     },
     "execution_count": 116,
     "metadata": {},
     "output_type": "execute_result"
    }
   ],
   "source": [
    "annual_frame = frame.resample('A-DEC').mean()\n",
    "annual_frame"
   ]
  },
  {
   "cell_type": "code",
   "execution_count": 117,
   "metadata": {
    "slideshow": {
     "slide_type": "slide"
    }
   },
   "outputs": [
    {
     "data": {
      "text/html": [
       "<div>\n",
       "<style scoped>\n",
       "    .dataframe tbody tr th:only-of-type {\n",
       "        vertical-align: middle;\n",
       "    }\n",
       "\n",
       "    .dataframe tbody tr th {\n",
       "        vertical-align: top;\n",
       "    }\n",
       "\n",
       "    .dataframe thead th {\n",
       "        text-align: right;\n",
       "    }\n",
       "</style>\n",
       "<table border=\"1\" class=\"dataframe\">\n",
       "  <thead>\n",
       "    <tr style=\"text-align: right;\">\n",
       "      <th></th>\n",
       "      <th>Colorado</th>\n",
       "      <th>Texas</th>\n",
       "      <th>New York</th>\n",
       "      <th>Ohio</th>\n",
       "    </tr>\n",
       "  </thead>\n",
       "  <tbody>\n",
       "    <tr>\n",
       "      <th>2000Q1</th>\n",
       "      <td>-0.406554</td>\n",
       "      <td>0.170947</td>\n",
       "      <td>-0.313566</td>\n",
       "      <td>-0.286282</td>\n",
       "    </tr>\n",
       "    <tr>\n",
       "      <th>2000Q2</th>\n",
       "      <td>-0.406554</td>\n",
       "      <td>0.170947</td>\n",
       "      <td>-0.313566</td>\n",
       "      <td>-0.286282</td>\n",
       "    </tr>\n",
       "    <tr>\n",
       "      <th>2000Q3</th>\n",
       "      <td>-0.406554</td>\n",
       "      <td>0.170947</td>\n",
       "      <td>-0.313566</td>\n",
       "      <td>-0.286282</td>\n",
       "    </tr>\n",
       "    <tr>\n",
       "      <th>2000Q4</th>\n",
       "      <td>-0.406554</td>\n",
       "      <td>0.170947</td>\n",
       "      <td>-0.313566</td>\n",
       "      <td>-0.286282</td>\n",
       "    </tr>\n",
       "    <tr>\n",
       "      <th>2001Q1</th>\n",
       "      <td>0.205663</td>\n",
       "      <td>-0.332031</td>\n",
       "      <td>-0.095910</td>\n",
       "      <td>-0.279879</td>\n",
       "    </tr>\n",
       "    <tr>\n",
       "      <th>2001Q2</th>\n",
       "      <td>0.205663</td>\n",
       "      <td>-0.332031</td>\n",
       "      <td>-0.095910</td>\n",
       "      <td>-0.279879</td>\n",
       "    </tr>\n",
       "    <tr>\n",
       "      <th>2001Q3</th>\n",
       "      <td>0.205663</td>\n",
       "      <td>-0.332031</td>\n",
       "      <td>-0.095910</td>\n",
       "      <td>-0.279879</td>\n",
       "    </tr>\n",
       "    <tr>\n",
       "      <th>2001Q4</th>\n",
       "      <td>0.205663</td>\n",
       "      <td>-0.332031</td>\n",
       "      <td>-0.095910</td>\n",
       "      <td>-0.279879</td>\n",
       "    </tr>\n",
       "  </tbody>\n",
       "</table>\n",
       "</div>"
      ],
      "text/plain": [
       "        Colorado     Texas  New York      Ohio\n",
       "2000Q1 -0.406554  0.170947 -0.313566 -0.286282\n",
       "2000Q2 -0.406554  0.170947 -0.313566 -0.286282\n",
       "2000Q3 -0.406554  0.170947 -0.313566 -0.286282\n",
       "2000Q4 -0.406554  0.170947 -0.313566 -0.286282\n",
       "2001Q1  0.205663 -0.332031 -0.095910 -0.279879\n",
       "2001Q2  0.205663 -0.332031 -0.095910 -0.279879\n",
       "2001Q3  0.205663 -0.332031 -0.095910 -0.279879\n",
       "2001Q4  0.205663 -0.332031 -0.095910 -0.279879"
      ]
     },
     "execution_count": 117,
     "metadata": {},
     "output_type": "execute_result"
    }
   ],
   "source": [
    "# Q-DEC: Quarterly, year ending in December\n",
    "annual_frame.resample('Q-DEC').ffill()\n",
    "# note: output changed, default value changed from convention='end' to convention='start' + 'start' changed to span-like\n",
    "# also the following cells"
   ]
  },
  {
   "cell_type": "code",
   "execution_count": 118,
   "metadata": {
    "slideshow": {
     "slide_type": "slide"
    }
   },
   "outputs": [
    {
     "data": {
      "text/html": [
       "<div>\n",
       "<style scoped>\n",
       "    .dataframe tbody tr th:only-of-type {\n",
       "        vertical-align: middle;\n",
       "    }\n",
       "\n",
       "    .dataframe tbody tr th {\n",
       "        vertical-align: top;\n",
       "    }\n",
       "\n",
       "    .dataframe thead th {\n",
       "        text-align: right;\n",
       "    }\n",
       "</style>\n",
       "<table border=\"1\" class=\"dataframe\">\n",
       "  <thead>\n",
       "    <tr style=\"text-align: right;\">\n",
       "      <th></th>\n",
       "      <th>Colorado</th>\n",
       "      <th>Texas</th>\n",
       "      <th>New York</th>\n",
       "      <th>Ohio</th>\n",
       "    </tr>\n",
       "  </thead>\n",
       "  <tbody>\n",
       "    <tr>\n",
       "      <th>2000Q4</th>\n",
       "      <td>-0.406554</td>\n",
       "      <td>0.170947</td>\n",
       "      <td>-0.313566</td>\n",
       "      <td>-0.286282</td>\n",
       "    </tr>\n",
       "    <tr>\n",
       "      <th>2001Q1</th>\n",
       "      <td>-0.406554</td>\n",
       "      <td>0.170947</td>\n",
       "      <td>-0.313566</td>\n",
       "      <td>-0.286282</td>\n",
       "    </tr>\n",
       "    <tr>\n",
       "      <th>2001Q2</th>\n",
       "      <td>-0.406554</td>\n",
       "      <td>0.170947</td>\n",
       "      <td>-0.313566</td>\n",
       "      <td>-0.286282</td>\n",
       "    </tr>\n",
       "    <tr>\n",
       "      <th>2001Q3</th>\n",
       "      <td>-0.406554</td>\n",
       "      <td>0.170947</td>\n",
       "      <td>-0.313566</td>\n",
       "      <td>-0.286282</td>\n",
       "    </tr>\n",
       "    <tr>\n",
       "      <th>2001Q4</th>\n",
       "      <td>0.205663</td>\n",
       "      <td>-0.332031</td>\n",
       "      <td>-0.095910</td>\n",
       "      <td>-0.279879</td>\n",
       "    </tr>\n",
       "    <tr>\n",
       "      <th>2002Q1</th>\n",
       "      <td>0.205663</td>\n",
       "      <td>-0.332031</td>\n",
       "      <td>-0.095910</td>\n",
       "      <td>-0.279879</td>\n",
       "    </tr>\n",
       "    <tr>\n",
       "      <th>2002Q2</th>\n",
       "      <td>0.205663</td>\n",
       "      <td>-0.332031</td>\n",
       "      <td>-0.095910</td>\n",
       "      <td>-0.279879</td>\n",
       "    </tr>\n",
       "    <tr>\n",
       "      <th>2002Q3</th>\n",
       "      <td>0.205663</td>\n",
       "      <td>-0.332031</td>\n",
       "      <td>-0.095910</td>\n",
       "      <td>-0.279879</td>\n",
       "    </tr>\n",
       "  </tbody>\n",
       "</table>\n",
       "</div>"
      ],
      "text/plain": [
       "        Colorado     Texas  New York      Ohio\n",
       "2000Q4 -0.406554  0.170947 -0.313566 -0.286282\n",
       "2001Q1 -0.406554  0.170947 -0.313566 -0.286282\n",
       "2001Q2 -0.406554  0.170947 -0.313566 -0.286282\n",
       "2001Q3 -0.406554  0.170947 -0.313566 -0.286282\n",
       "2001Q4  0.205663 -0.332031 -0.095910 -0.279879\n",
       "2002Q1  0.205663 -0.332031 -0.095910 -0.279879\n",
       "2002Q2  0.205663 -0.332031 -0.095910 -0.279879\n",
       "2002Q3  0.205663 -0.332031 -0.095910 -0.279879"
      ]
     },
     "execution_count": 118,
     "metadata": {},
     "output_type": "execute_result"
    }
   ],
   "source": [
    "annual_frame.resample('Q-MAR').ffill()"
   ]
  },
  {
   "cell_type": "markdown",
   "metadata": {
    "slideshow": {
     "slide_type": "slide"
    }
   },
   "source": [
    "A number of string aliases are given to useful common time series frequencies. We will refer to these aliases as offset aliases (referred to as time rules prior to v0.8.0).\n",
    "\n",
    "Alias |\tDescription\n",
    "------|------\n",
    "B |\tbusiness day frequency\n",
    "C|custom business day frequency (experimental)\n",
    "D|\tcalendar day frequency\n",
    "W|\tweekly frequency\n",
    "M|\tmonth end frequency\n",
    "BM\t|business month end frequency\n",
    "CBM|\tcustom business month end frequency\n",
    "MS|\tmonth start frequency\n",
    "BMS|\tbusiness month start frequency\n",
    "CBMS|\tcustom business month start frequency\n",
    "Q|\tquarter end frequency\n",
    "BQ\t|business quarter endfrequency\n",
    "QS|\tquarter start frequency\n",
    "BQS|\tbusiness quarter start frequency\n",
    "A|\tyear end frequency\n",
    "BA\t|business year end frequency\n",
    "AS|\tyear start frequency\n",
    "BAS|\tbusiness year start frequency\n",
    "BH|\tbusiness hour frequency\n",
    "H|\thourly frequency\n",
    "T\t|minutely frequency\n",
    "S\t|secondly frequency\n",
    "L|\tmilliseonds\n",
    "U\t|microseconds\n",
    "N|\tnanoseconds"
   ]
  },
  {
   "cell_type": "code",
   "execution_count": 119,
   "metadata": {
    "scrolled": true,
    "slideshow": {
     "slide_type": "notes"
    }
   },
   "outputs": [
    {
     "data": {
      "text/plain": [
       "False    497.50000\n",
       "True     500.30112\n",
       "dtype: float64"
      ]
     },
     "execution_count": 119,
     "metadata": {},
     "output_type": "execute_result"
    }
   ],
   "source": [
    "ts.groupby(lambda x: x.day).sum()\n",
    "ts.groupby(lambda x: x.dayofweek<5).mean() "
   ]
  },
  {
   "cell_type": "code",
   "execution_count": 121,
   "metadata": {},
   "outputs": [
    {
     "data": {
      "text/plain": [
       "'D:\\\\teaching\\\\金融数据分析datafin'"
      ]
     },
     "execution_count": 121,
     "metadata": {},
     "output_type": "execute_result"
    }
   ],
   "source": [
    "%pwd"
   ]
  },
  {
   "cell_type": "code",
   "execution_count": 124,
   "metadata": {},
   "outputs": [
    {
     "data": {
      "text/html": [
       "<div>\n",
       "<style scoped>\n",
       "    .dataframe tbody tr th:only-of-type {\n",
       "        vertical-align: middle;\n",
       "    }\n",
       "\n",
       "    .dataframe tbody tr th {\n",
       "        vertical-align: top;\n",
       "    }\n",
       "\n",
       "    .dataframe thead th {\n",
       "        text-align: right;\n",
       "    }\n",
       "</style>\n",
       "<table border=\"1\" class=\"dataframe\">\n",
       "  <thead>\n",
       "    <tr style=\"text-align: right;\">\n",
       "      <th></th>\n",
       "      <th>开盘价</th>\n",
       "      <th>最高价</th>\n",
       "      <th>最低价</th>\n",
       "      <th>收盘价</th>\n",
       "      <th>成交量</th>\n",
       "    </tr>\n",
       "    <tr>\n",
       "      <th>日期</th>\n",
       "      <th></th>\n",
       "      <th></th>\n",
       "      <th></th>\n",
       "      <th></th>\n",
       "      <th></th>\n",
       "    </tr>\n",
       "  </thead>\n",
       "  <tbody>\n",
       "    <tr>\n",
       "      <th>2015-10-08</th>\n",
       "      <td>2145</td>\n",
       "      <td>2145</td>\n",
       "      <td>2037</td>\n",
       "      <td>2041</td>\n",
       "      <td>168204</td>\n",
       "    </tr>\n",
       "    <tr>\n",
       "      <th>2015-10-09</th>\n",
       "      <td>2042</td>\n",
       "      <td>2090</td>\n",
       "      <td>2037</td>\n",
       "      <td>2065</td>\n",
       "      <td>170228</td>\n",
       "    </tr>\n",
       "  </tbody>\n",
       "</table>\n",
       "</div>"
      ],
      "text/plain": [
       "             开盘价   最高价   最低价   收盘价     成交量\n",
       "日期                                        \n",
       "2015-10-08  2145  2145  2037  2041  168204\n",
       "2015-10-09  2042  2090  2037  2065  170228"
      ]
     },
     "execution_count": 124,
     "metadata": {},
     "output_type": "execute_result"
    }
   ],
   "source": [
    "path='D:\\\\teaching\\\\金融数据分析datafin\\\\内盘合约日线数据\\\\'\n",
    "xl = pd.ExcelFile(path+\"大商所-淀粉.xlsx\")\n",
    "xl.sheet_names \n",
    "\n",
    "Da=pd.read_excel(path+\"大商所-淀粉.xlsx\",None,skiprows=[0,1],usecols=None ,index_col=0)\n",
    "Da[xl.sheet_names[0]][\"2015-10-1\":\"2015-10-10\"]"
   ]
  },
  {
   "cell_type": "code",
   "execution_count": 125,
   "metadata": {},
   "outputs": [
    {
     "data": {
      "text/html": [
       "<div>\n",
       "<style scoped>\n",
       "    .dataframe tbody tr th:only-of-type {\n",
       "        vertical-align: middle;\n",
       "    }\n",
       "\n",
       "    .dataframe tbody tr th {\n",
       "        vertical-align: top;\n",
       "    }\n",
       "\n",
       "    .dataframe thead th {\n",
       "        text-align: right;\n",
       "    }\n",
       "</style>\n",
       "<table border=\"1\" class=\"dataframe\">\n",
       "  <thead>\n",
       "    <tr style=\"text-align: right;\">\n",
       "      <th></th>\n",
       "      <th>开盘价</th>\n",
       "      <th>最高价</th>\n",
       "      <th>最低价</th>\n",
       "      <th>收盘价</th>\n",
       "      <th>成交量</th>\n",
       "    </tr>\n",
       "    <tr>\n",
       "      <th>日期</th>\n",
       "      <th></th>\n",
       "      <th></th>\n",
       "      <th></th>\n",
       "      <th></th>\n",
       "      <th></th>\n",
       "    </tr>\n",
       "  </thead>\n",
       "  <tbody>\n",
       "    <tr>\n",
       "      <th>2015-01-19</th>\n",
       "      <td>2800</td>\n",
       "      <td>2800</td>\n",
       "      <td>2674</td>\n",
       "      <td>2707</td>\n",
       "      <td>12</td>\n",
       "    </tr>\n",
       "    <tr>\n",
       "      <th>2015-01-20</th>\n",
       "      <td>2743</td>\n",
       "      <td>2743</td>\n",
       "      <td>2743</td>\n",
       "      <td>2743</td>\n",
       "      <td>0</td>\n",
       "    </tr>\n",
       "    <tr>\n",
       "      <th>2015-01-21</th>\n",
       "      <td>2756</td>\n",
       "      <td>2756</td>\n",
       "      <td>2676</td>\n",
       "      <td>2711</td>\n",
       "      <td>18</td>\n",
       "    </tr>\n",
       "    <tr>\n",
       "      <th>2015-01-22</th>\n",
       "      <td>2720</td>\n",
       "      <td>2720</td>\n",
       "      <td>2720</td>\n",
       "      <td>2720</td>\n",
       "      <td>2</td>\n",
       "    </tr>\n",
       "    <tr>\n",
       "      <th>2015-01-23</th>\n",
       "      <td>2756</td>\n",
       "      <td>2756</td>\n",
       "      <td>2697</td>\n",
       "      <td>2697</td>\n",
       "      <td>4</td>\n",
       "    </tr>\n",
       "    <tr>\n",
       "      <th>2015-01-26</th>\n",
       "      <td>2726</td>\n",
       "      <td>2726</td>\n",
       "      <td>2726</td>\n",
       "      <td>2726</td>\n",
       "      <td>0</td>\n",
       "    </tr>\n",
       "    <tr>\n",
       "      <th>2015-01-27</th>\n",
       "      <td>2726</td>\n",
       "      <td>2726</td>\n",
       "      <td>2726</td>\n",
       "      <td>2726</td>\n",
       "      <td>0</td>\n",
       "    </tr>\n",
       "    <tr>\n",
       "      <th>2015-01-28</th>\n",
       "      <td>2720</td>\n",
       "      <td>2720</td>\n",
       "      <td>2720</td>\n",
       "      <td>2720</td>\n",
       "      <td>8</td>\n",
       "    </tr>\n",
       "    <tr>\n",
       "      <th>2015-01-29</th>\n",
       "      <td>2759</td>\n",
       "      <td>2759</td>\n",
       "      <td>2739</td>\n",
       "      <td>2750</td>\n",
       "      <td>26</td>\n",
       "    </tr>\n",
       "    <tr>\n",
       "      <th>2015-01-30</th>\n",
       "      <td>2745</td>\n",
       "      <td>2745</td>\n",
       "      <td>2745</td>\n",
       "      <td>2745</td>\n",
       "      <td>0</td>\n",
       "    </tr>\n",
       "  </tbody>\n",
       "</table>\n",
       "</div>"
      ],
      "text/plain": [
       "             开盘价   最高价   最低价   收盘价  成交量\n",
       "日期                                     \n",
       "2015-01-19  2800  2800  2674  2707   12\n",
       "2015-01-20  2743  2743  2743  2743    0\n",
       "2015-01-21  2756  2756  2676  2711   18\n",
       "2015-01-22  2720  2720  2720  2720    2\n",
       "2015-01-23  2756  2756  2697  2697    4\n",
       "2015-01-26  2726  2726  2726  2726    0\n",
       "2015-01-27  2726  2726  2726  2726    0\n",
       "2015-01-28  2720  2720  2720  2720    8\n",
       "2015-01-29  2759  2759  2739  2750   26\n",
       "2015-01-30  2745  2745  2745  2745    0"
      ]
     },
     "execution_count": 125,
     "metadata": {},
     "output_type": "execute_result"
    }
   ],
   "source": [
    "D1=pd.read_excel(path+\"大商所-淀粉.xlsx\",skiprows=[0,1],rows=10,sheet_name=0,usecols=None ,index_col=0)\n",
    "D1[\"2015-1\"]"
   ]
  }
 ],
 "metadata": {
  "anaconda-cloud": {},
  "celltoolbar": "Slideshow",
  "kernelspec": {
   "display_name": "Python 3 (ipykernel)",
   "language": "python",
   "name": "python3"
  },
  "language_info": {
   "codemirror_mode": {
    "name": "ipython",
    "version": 3
   },
   "file_extension": ".py",
   "mimetype": "text/x-python",
   "name": "python",
   "nbconvert_exporter": "python",
   "pygments_lexer": "ipython3",
   "version": "3.11.4"
  },
  "latex_envs": {
   "LaTeX_envs_menu_present": true,
   "autoclose": false,
   "autocomplete": true,
   "bibliofile": "biblio.bib",
   "cite_by": "apalike",
   "current_citInitial": 1,
   "eqLabelWithNumbers": true,
   "eqNumInitial": 1,
   "hotkeys": {
    "equation": "Ctrl-E",
    "itemize": "Ctrl-I"
   },
   "labels_anchors": false,
   "latex_user_defs": false,
   "report_style_numbering": false,
   "user_envs_cfg": false
  }
 },
 "nbformat": 4,
 "nbformat_minor": 1
}
