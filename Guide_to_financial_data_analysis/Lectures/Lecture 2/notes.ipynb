{
 "cells": [
  {
   "cell_type": "code",
   "execution_count": 156,
   "metadata": {},
   "outputs": [],
   "source": [
    "from numpy.random import randn #产生正态随机数的函数\n",
    "import numpy as np #简便书写"
   ]
  },
  {
   "cell_type": "code",
   "execution_count": 157,
   "metadata": {},
   "outputs": [
    {
     "data": {
      "text/plain": [
       "array([3.4, 5.5])"
      ]
     },
     "execution_count": 157,
     "metadata": {},
     "output_type": "execute_result"
    }
   ],
   "source": [
    "np.array([3.4, 5.5])#生成array 数据的函数"
   ]
  },
  {
   "cell_type": "code",
   "execution_count": 158,
   "metadata": {},
   "outputs": [
    {
     "name": "stdout",
     "output_type": "stream",
     "text": [
      "[[ 0.3192411  -0.67316001  1.13375406]\n",
      " [ 0.17912702  1.98246491 -1.35834762]]\n",
      "(2, 3)\n",
      "float64\n"
     ]
    },
    {
     "data": {
      "text/plain": [
       "(1, 1)"
      ]
     },
     "execution_count": 158,
     "metadata": {},
     "output_type": "execute_result"
    }
   ],
   "source": [
    "data = randn(2,3)\n",
    "print(data)\n",
    "print(data.shape) #输出array格式的数据的维数\n",
    "print(data.dtype) #输出array格式的的数据的类别\n",
    "b = [[2,]]\n",
    "np.array(b).shape #说明空的会被省略掉"
   ]
  },
  {
   "cell_type": "code",
   "execution_count": 159,
   "metadata": {},
   "outputs": [
    {
     "name": "stdout",
     "output_type": "stream",
     "text": [
      "[1 2 3] (3,) int32\n",
      "\n",
      "[[1]] (1, 1) int32\n",
      "\n",
      "[[1 0 0]\n",
      " [0 1 2]] (2, 3) int32\n",
      "\n"
     ]
    }
   ],
   "source": [
    "a=np.array([1,2,3])\n",
    "b=np.array([[1,]])\n",
    "c=np.array([[1,0,0],[0,1,2]])\n",
    "print(a,a.shape,a.dtype,end='\\n\\n')\n",
    "print(b,b.shape,b.dtype,end='\\n\\n')\n",
    "print(c,c.shape,c.dtype,end='\\n\\n')"
   ]
  },
  {
   "cell_type": "code",
   "execution_count": 160,
   "metadata": {},
   "outputs": [
    {
     "name": "stdout",
     "output_type": "stream",
     "text": [
      "[ 0  1  2  3  4  5  6  7  8  9 10 11 12 13 14]\n",
      "\n",
      "[ 2  3  4  5  6  7  8  9 10 11 12 13 14]\n",
      "\n",
      "[ 2  4  6  8 10 12 14]\n",
      "\n",
      "[ 2.   3.5  5.   6.5  8.   9.5 11.  12.5 14. ]\n",
      "\n"
     ]
    }
   ],
   "source": [
    "print(np.arange(15),end='\\n\\n') #输出等差数列，默认值0-15，不包含mxa=15，默认步长为1\n",
    "print(np.arange(2,15),end='\\n\\n') #输出等差数列，从2-15，不包含15，默认步长为1\n",
    "print(np.arange(2,15,2),end='\\n\\n') #输出等差数列，从2-15，不包含15，步长设定为2\n",
    "print(np.arange(2,15,1.5),end='\\n\\n') #步长设定为1.5"
   ]
  },
  {
   "cell_type": "code",
   "execution_count": 161,
   "metadata": {},
   "outputs": [
    {
     "name": "stdout",
     "output_type": "stream",
     "text": [
      "[0.  0.1 0.2 0.3 0.4 0.5 0.6 0.7 0.8 0.9 1. ]\n",
      "\n",
      "[0.         0.09090909 0.18181818 0.27272727 0.36363636 0.45454545\n",
      " 0.54545455 0.63636364 0.72727273 0.81818182 0.90909091]\n",
      "\n",
      "[0.  0.1 0.2 0.3 0.4 0.5 0.6 0.7 0.8 0.9 1. ]\n",
      "\n",
      "[0.         0.09090909 0.18181818 0.27272727 0.36363636 0.45454545\n",
      " 0.54545455 0.63636364 0.72727273 0.81818182 0.90909091 1.        ]\n",
      "\n"
     ]
    }
   ],
   "source": [
    "print(np.linspace(0,1,11),end='\\n\\n')#从0-11，不包含11，设定一共有11个\n",
    "print(np.linspace(0,1,11, endpoint = False), end='\\n\\n')\n",
    "print(np.linspace(0,1,11, endpoint = True), end='\\n\\n')#可以设置是否包含max\n",
    "print(np.linspace(0,1,12),end='\\n\\n')"
   ]
  },
  {
   "cell_type": "code",
   "execution_count": 162,
   "metadata": {},
   "outputs": [
    {
     "name": "stdout",
     "output_type": "stream",
     "text": [
      "[ 6.   7.8  8.9 33. ] (4,) float64\n"
     ]
    }
   ],
   "source": [
    "data1=[6,7.8,8.9,33]\n",
    "arr1=np.array(data1)\n",
    "print(arr1,arr1.shape,arr1.dtype)"
   ]
  },
  {
   "cell_type": "code",
   "execution_count": 163,
   "metadata": {},
   "outputs": [
    {
     "name": "stdout",
     "output_type": "stream",
     "text": [
      "[[1. 2. 3. 4.]\n",
      " [5. 6. 7. 8.]] (2, 4) float64\n"
     ]
    }
   ],
   "source": [
    "data2=[[1,2,3.0,4],[5,6,7,8]]\n",
    "arr2=np.array(data2)\n",
    "print(arr2,arr2.shape,arr2.dtype)"
   ]
  },
  {
   "cell_type": "code",
   "execution_count": 164,
   "metadata": {},
   "outputs": [
    {
     "name": "stdout",
     "output_type": "stream",
     "text": [
      "[[1. 2. 3. 4.]\n",
      " [5. 6. 7. 8.]] (2, 4) float64\n",
      "\n",
      "[[1. 2. 3. 4. 5. 6. 7. 8.]] (1, 8) float64\n",
      "\n",
      "[[1. 2.]\n",
      " [3. 4.]\n",
      " [5. 6.]\n",
      " [7. 8.]] (4, 2) float64\n",
      "\n"
     ]
    }
   ],
   "source": [
    "#使用reshape来改变维数\n",
    "print(arr2,arr2.shape,arr2.dtype,end='\\n\\n')\n",
    "b=arr2.reshape((1,8))\n",
    "print(b,b.shape,b.dtype,end='\\n\\n')\n",
    "b=arr2.reshape((4,2))\n",
    "print(b,b.shape,b.dtype,end='\\n\\n')\n"
   ]
  },
  {
   "cell_type": "code",
   "execution_count": 165,
   "metadata": {},
   "outputs": [
    {
     "name": "stdout",
     "output_type": "stream",
     "text": [
      "[0 0 0 0 0 0 0 0 0 0] (10,) int32\n",
      "[0. 0. 0. 0. 0. 0. 0. 0. 0. 0.] (10,) float64\n"
     ]
    }
   ],
   "source": [
    "a=np.zeros(10,dtype='int')\n",
    "print(a,a.shape,a.dtype)\n",
    "a=np.zeros(10,dtype='float')\n",
    "print(a,a.shape,a.dtype)"
   ]
  },
  {
   "cell_type": "code",
   "execution_count": 166,
   "metadata": {},
   "outputs": [
    {
     "name": "stdout",
     "output_type": "stream",
     "text": [
      "[[1 1 1]\n",
      " [1 1 1]] (2, 3) int32\n",
      "[[1. 1. 1.]\n",
      " [1. 1. 1.]] (2, 3) float64\n"
     ]
    }
   ],
   "source": [
    "b=np.ones((2,3),dtype='int')\n",
    "print(b,b.shape,b.dtype)\n",
    "b=np.ones((2,3),dtype='float')\n",
    "print(b,b.shape,b.dtype)"
   ]
  },
  {
   "cell_type": "code",
   "execution_count": 167,
   "metadata": {},
   "outputs": [
    {
     "name": "stdout",
     "output_type": "stream",
     "text": [
      "[[1. 0.]\n",
      " [0. 1.]] (2, 2) float64\n",
      "\n",
      "[[1. 0. 0. 0. 0. 0. 0. 0. 0.]\n",
      " [0. 1. 0. 0. 0. 0. 0. 0. 0.]\n",
      " [0. 0. 1. 0. 0. 0. 0. 0. 0.]\n",
      " [0. 0. 0. 1. 0. 0. 0. 0. 0.]] (4, 9) float64\n"
     ]
    }
   ],
   "source": [
    "c=np.identity(2)#单位矩阵(方阵)\n",
    "print(c,c.shape,c.dtype,end='\\n\\n')\n",
    "d=np.eye(4,9)\n",
    "print(d,d.shape,d.dtype)"
   ]
  },
  {
   "cell_type": "code",
   "execution_count": 168,
   "metadata": {},
   "outputs": [
    {
     "name": "stdout",
     "output_type": "stream",
     "text": [
      "[1 2 3 4 5] (5,) int32\n"
     ]
    }
   ],
   "source": [
    "arr = np.array([1,2,3,4,5],dtype=np.int32)\n",
    "print(arr,arr.shape,arr.dtype)"
   ]
  },
  {
   "cell_type": "code",
   "execution_count": 169,
   "metadata": {},
   "outputs": [
    {
     "name": "stdout",
     "output_type": "stream",
     "text": [
      "[1. 2. 3. 4. 5.] (5,) float64\n"
     ]
    }
   ],
   "source": [
    "#使用astype去修改类型\n",
    "float_arr = arr.astype(np.float64)\n",
    "print(float_arr,float_arr.shape,float_arr.dtype)"
   ]
  },
  {
   "cell_type": "code",
   "execution_count": 170,
   "metadata": {},
   "outputs": [
    {
     "name": "stdout",
     "output_type": "stream",
     "text": [
      "[ 3  1  0 12  5] (5,) int32\n"
     ]
    }
   ],
   "source": [
    "arr=np.array([3.7,1.2,0.5,12.7,5.6])\n",
    "c=arr.astype(np.int32)\n",
    "print(c,c.shape,c.dtype)"
   ]
  },
  {
   "cell_type": "code",
   "execution_count": 171,
   "metadata": {},
   "outputs": [
    {
     "name": "stdout",
     "output_type": "stream",
     "text": [
      "['1.25' '42'] (2,) <U4\n",
      "[ 1.25 42.  ] (2,) float64\n"
     ]
    }
   ],
   "source": [
    "c=numeric_strings = np.array(['1.25', '42'],dtype=str)\n",
    "print(c,c.shape,c.dtype)\n",
    "c=c.astype(float)\n",
    "print(c,c.shape,c.dtype)"
   ]
  },
  {
   "cell_type": "code",
   "execution_count": 172,
   "metadata": {},
   "outputs": [
    {
     "name": "stdout",
     "output_type": "stream",
     "text": [
      "[[1. 2. 3.]\n",
      " [4. 5. 6.]]\n",
      "\n",
      "[[ 1.  4.  9.]\n",
      " [16. 25. 36.]]\n",
      "\n",
      "[[ 0.  2.  6.]\n",
      " [12. 20. 30.]]\n",
      "\n",
      "[[1.         0.5        0.33333333]\n",
      " [0.25       0.2        0.16666667]]\n",
      "\n",
      "[[ 2.  4.  6.]\n",
      " [ 8. 10. 12.]]\n",
      "\n",
      "[[ 1.  4.  9.]\n",
      " [16. 25. 36.]]\n",
      "\n"
     ]
    }
   ],
   "source": [
    "arr=np.array(([1,2,3],[4,5,6]),dtype=float)\n",
    "print(arr,end='\\n\\n')\n",
    "print(arr*arr,end='\\n\\n')#对应元素相乘\n",
    "print(arr*arr-arr,end='\\n\\n')\n",
    "print(1/arr,end='\\n\\n')\n",
    "print(arr*2,end='\\n\\n')\n",
    "print(arr**2,end='\\n\\n')#对应元素平方"
   ]
  },
  {
   "cell_type": "code",
   "execution_count": 173,
   "metadata": {},
   "outputs": [
    {
     "name": "stdout",
     "output_type": "stream",
     "text": [
      "[0 1 2 3 4 5 6 7 8 9] (10,) int32\n",
      "[5 6 7]\n",
      "[ 0  1  2  3  4 12 12 12  8  9] (10,) int32\n"
     ]
    }
   ],
   "source": [
    "arr=np.arange(10)\n",
    "print(arr,arr.shape,arr.dtype)\n",
    "print(arr[5:8])\n",
    "arr[5:8] = 12\n",
    "print(arr,arr.shape,arr.dtype)"
   ]
  },
  {
   "cell_type": "code",
   "execution_count": 174,
   "metadata": {},
   "outputs": [
    {
     "name": "stdout",
     "output_type": "stream",
     "text": [
      "2177491970992 2177465975792\n",
      "False \n",
      " [ True  True  True]\n",
      "[    0     1     2     3     4     5 12345     7     8     9] \n",
      " [    5 12345     7]\n"
     ]
    }
   ],
   "source": [
    "arr=np.arange(10)\n",
    "arr_slice=arr[5:8]\n",
    "print(id(arr_slice), id(arr[5:8]),)\n",
    "print(arr_slice is arr[5:8],'\\n',arr_slice == arr[5:8] )\n",
    "arr_slice[1]=12345\n",
    "print(arr,'\\n', arr_slice)"
   ]
  },
  {
   "cell_type": "markdown",
   "metadata": {},
   "source": [
    "原因：\n",
    "> object（对象） 与 location（地址） 并不相同\n",
    "+ 一个对象可以是一个指针，例如对象A是个指针，它的内容是->B，其中B是一个存储空间；C也可以是个指针，内容也是->B，这时候它们是两个不同的对象，指向同一个存储空间\n",
    "> 但实际上，切片slice，只是创造了一个视图，其实指向的地址还是不一样"
   ]
  },
  {
   "cell_type": "code",
   "execution_count": 175,
   "metadata": {},
   "outputs": [
    {
     "name": "stdout",
     "output_type": "stream",
     "text": [
      "[    0     1     2     3     4     5 12345     7     8     9] \n",
      " [    5 12345     7]\n",
      "[ 0  1  2  3  4 64 64 64  8  9] \n",
      " [64 64 64]\n"
     ]
    }
   ],
   "source": [
    "print(arr,'\\n',arr_slice)\n",
    "arr_slice[:]=64\n",
    "print(arr,'\\n',arr_slice)"
   ]
  },
  {
   "cell_type": "code",
   "execution_count": 176,
   "metadata": {},
   "outputs": [
    {
     "name": "stdout",
     "output_type": "stream",
     "text": [
      "False\n",
      "[0, 1, 2, 3, 4, 5, 6, 7, 8, 9] \n",
      " [5, 12345, 7]\n"
     ]
    }
   ],
   "source": [
    "a_list=list(range(10))\n",
    "list_slice=a_list[5:8]\n",
    "print(a_list is list_slice)\n",
    "list_slice[1] = 12345\n",
    "print(a_list, '\\n', list_slice)"
   ]
  },
  {
   "cell_type": "code",
   "execution_count": 177,
   "metadata": {},
   "outputs": [
    {
     "name": "stdout",
     "output_type": "stream",
     "text": [
      "True\n",
      "[1, 2, 3, [1, 2]] \n",
      " 1000\n"
     ]
    }
   ],
   "source": [
    "a=[1,2,3,[1,2]]\n",
    "b=a[3][1]\n",
    "print(b is a[3][1])\n",
    "b=1000\n",
    "print(a,'\\n',b)"
   ]
  },
  {
   "cell_type": "code",
   "execution_count": 178,
   "metadata": {},
   "outputs": [
    {
     "name": "stdout",
     "output_type": "stream",
     "text": [
      "False True\n"
     ]
    }
   ],
   "source": [
    "import copy\n",
    "c=copy.deepcopy(a)\n",
    "print(a is c, a==c)"
   ]
  },
  {
   "cell_type": "code",
   "execution_count": 179,
   "metadata": {},
   "outputs": [
    {
     "name": "stdout",
     "output_type": "stream",
     "text": [
      "[[1 2 3]\n",
      " [4 5 6]\n",
      " [7 8 9]] (3, 3) int32\n",
      "\n",
      "[[1 2 3]\n",
      " [4 5 6]\n",
      " [7 8 9]] \n",
      "\n",
      " [1 2 3] \n",
      "\n",
      " 2\n"
     ]
    }
   ],
   "source": [
    "arr2d = np.array([[1,2,3],[4,5,6],[7,8,9]])\n",
    "print(arr2d,arr2d.shape,arr2d.dtype,end='\\n\\n')\n",
    "print(arr2d,'\\n\\n',arr2d[0],'\\n\\n',arr2d[0][1])"
   ]
  },
  {
   "cell_type": "code",
   "execution_count": 180,
   "metadata": {},
   "outputs": [
    {
     "name": "stdout",
     "output_type": "stream",
     "text": [
      "[[1 2 3]\n",
      " [4 5 6]\n",
      " [7 8 9]]\n",
      "\n",
      "[1 2 3] \n",
      "\n",
      " [1 4 7]\n",
      "\n",
      "[ True False False] False\n"
     ]
    }
   ],
   "source": [
    "print(arr2d,end='\\n\\n')\n",
    "print(arr2d[:][0] , '\\n\\n', arr2d[:,0],end='\\n\\n')\n",
    "print(arr2d[:][0]==arr2d[:,0], arr2d[:][0] is arr2d[:,0])"
   ]
  },
  {
   "cell_type": "markdown",
   "metadata": {},
   "source": [
    "+ arr2d[:][0] is equivalent to arr2d[0] instead of arr2d[:,0]"
   ]
  },
  {
   "cell_type": "code",
   "execution_count": 181,
   "metadata": {},
   "outputs": [
    {
     "name": "stdout",
     "output_type": "stream",
     "text": [
      "[[1 2 3]\n",
      " [4 5 6]\n",
      " [7 8 9]]\n",
      "\n",
      "[7 8 9] False\n",
      "\n",
      "arr2d[2]= [3 3 3] \n",
      "\n",
      " arr2d=\n",
      " [[1 2 3]\n",
      " [4 5 6]\n",
      " [3 3 3]]\n",
      "\n",
      "False [1 2]\n",
      "\n",
      "arr2d[0][:2]= [1000 1000] \n",
      " arr2d=\n",
      " [[1000 1000    3]\n",
      " [   4    5    6]\n",
      " [   3    3    3]]\n",
      "\n"
     ]
    }
   ],
   "source": [
    "#二维数组切片也传输地址\n",
    "arr2d = np.array([[1,2,3],[4,5,6],[7,8,9]])\n",
    "print(arr2d,end='\\n\\n')\n",
    "b = arr2d[2]\n",
    "print(b,b is arr2d[2],end='\\n\\n')\n",
    "arr2d[2] = 3\n",
    "print('arr2d[2]=',arr2d[2],'\\n\\n','arr2d=\\n',arr2d,end='\\n\\n')\n",
    "#二维数组的切片一定会传地址\n",
    "c=arr2d[0][:2]\n",
    "print(c is arr2d[0][:2], c, end='\\n\\n')\n",
    "arr2d[0][:2]=1000\n",
    "print('arr2d[0][:2]=',arr2d[0][:2],'\\n','arr2d=\\n',arr2d,end='\\n\\n')"
   ]
  },
  {
   "cell_type": "code",
   "execution_count": 182,
   "metadata": {},
   "outputs": [
    {
     "name": "stdout",
     "output_type": "stream",
     "text": [
      "[[[ 1  2  3]\n",
      "  [ 4  5  6]]\n",
      "\n",
      " [[ 7  8  9]\n",
      "  [10 11 12]]] \n",
      "\n",
      " (2, 2, 3) \n",
      "\n",
      " int32\n",
      "arr3d[0]= [[1 2 3]\n",
      " [4 5 6]]\n",
      "arr3d[0][0]= [1 2 3]\n",
      "arr3d[0][0][0]= 1\n"
     ]
    }
   ],
   "source": [
    "arr3d = np.array([[[1, 2, 3], [4, 5, 6]], [[7, 8, 9], [10, 11, 12]]])\n",
    "print(arr3d,'\\n\\n',arr3d.shape,'\\n\\n',arr3d.dtype)\n",
    "print('arr3d[0]=',arr3d[0])\n",
    "print('arr3d[0][0]=',arr3d[0][0])\n",
    "print('arr3d[0][0][0]=',arr3d[0][0][0])"
   ]
  },
  {
   "cell_type": "markdown",
   "metadata": {},
   "source": [
    "+ 数组拷贝\n",
    "> 要生成新的对象(传递数值)，而不是传递地址，需要用到copy函数"
   ]
  },
  {
   "cell_type": "code",
   "execution_count": 183,
   "metadata": {},
   "outputs": [
    {
     "name": "stdout",
     "output_type": "stream",
     "text": [
      "[[1 2 3]\n",
      " [4 5 6]\n",
      " [7 8 9]] (3, 3) int32\n",
      "\n",
      "[[1 2 3]\n",
      " [4 5 6]\n",
      " [7 8 9]]\n",
      "[[999 999 999]\n",
      " [  4   5   6]\n",
      " [  7   8   9]] \n",
      " [[1 2 3]\n",
      " [4 5 6]\n",
      " [7 8 9]] \n",
      " [[1 2 3]\n",
      " [4 5 6]\n",
      " [7 8 9]]\n"
     ]
    }
   ],
   "source": [
    "arr2d = np.array([[1, 2, 3], [4, 5, 6], [7, 8, 9]])\n",
    "print(arr2d,arr2d.shape,arr2d.dtype,end='\\n\\n')\n",
    "\n",
    "old_values=arr2d.copy()\n",
    "old_1=copy.deepcopy(arr2d)\n",
    "print(old_values)\n",
    "\n",
    "arr2d[0][:]=999\n",
    "print(arr2d,'\\n',old_values,'\\n',old_1)"
   ]
  },
  {
   "cell_type": "code",
   "execution_count": 184,
   "metadata": {},
   "outputs": [
    {
     "name": "stdout",
     "output_type": "stream",
     "text": [
      "[ 0  1  2  3  4 64 64 64  8  9]\n",
      "[ 1  2  3  4 64] \n",
      "\n",
      "[[999 999 999]\n",
      " [  4   5   6]\n",
      " [  7   8   9]]\n",
      "[[999 999 999]\n",
      " [  4   5   6]] \n",
      "\n",
      "[4 5] \n",
      "\n",
      "[[999   0   0]\n",
      " [  4   0   0]\n",
      " [  7   8   9]]\n"
     ]
    }
   ],
   "source": [
    "print(arr)\n",
    "print(arr[1:6],'\\n')\n",
    "\n",
    "print(arr2d)\n",
    "print(arr2d[:2],'\\n')\n",
    "\n",
    "print(arr2d[1, :2],'\\n')\n",
    "\n",
    "arr2d[:2 , 1: ]=0\n",
    "print(arr2d)"
   ]
  },
  {
   "cell_type": "code",
   "execution_count": 185,
   "metadata": {},
   "outputs": [
    {
     "name": "stdout",
     "output_type": "stream",
     "text": [
      "['Bob' 'Joe' 'Will' 'Bob' 'Will' 'Joe' 'Joe'] \n",
      "\n",
      " [[-0.17872588 -0.25569421  0.56120059 -1.22199587]\n",
      " [-0.92460662 -0.58359025 -0.19233456  0.54893941]\n",
      " [ 0.29801744  0.48836221  1.60763441  0.81107404]\n",
      " [ 1.08536569  0.63556861  0.63352529 -0.92164713]\n",
      " [-0.85851877  1.61867532 -1.46538398  0.74410527]\n",
      " [-0.42675704  0.36538623  0.15421803  0.15693241]\n",
      " [-0.73011664  0.80600366  0.21969491 -1.01815037]] \n",
      "\n",
      "[ True False False  True False False False] \n",
      "\n",
      "[[-0.17872588 -0.25569421  0.56120059 -1.22199587]\n",
      " [ 1.08536569  0.63556861  0.63352529 -0.92164713]] \n",
      "\n",
      "[[ 0.56120059 -1.22199587]\n",
      " [ 0.63352529 -0.92164713]] \n",
      "\n",
      "[[-1.22199587]\n",
      " [-0.92164713]] \n",
      "\n",
      "[False  True  True False  True  True  True]\n",
      "[[-0.92460662 -0.58359025 -0.19233456  0.54893941]\n",
      " [ 0.29801744  0.48836221  1.60763441  0.81107404]\n",
      " [-0.85851877  1.61867532 -1.46538398  0.74410527]\n",
      " [-0.42675704  0.36538623  0.15421803  0.15693241]\n",
      " [-0.73011664  0.80600366  0.21969491 -1.01815037]] \n",
      "\n"
     ]
    }
   ],
   "source": [
    "names = np.array(['Bob', 'Joe', 'Will', 'Bob', 'Will', 'Joe', 'Joe'])\n",
    "data = randn(7,4)\n",
    "print(names,'\\n\\n',data,'\\n')\n",
    "\n",
    "print(names == 'Bob','\\n') #返回的逻辑判断是对所有元素逐个判断之后合并起来的array变量\n",
    "print(data[names == 'Bob'],'\\n')#输出的是取了True的行，其他都没有输出\n",
    "print(data[names == 'Bob',2:],'\\n')#第三列到最后\n",
    "print(data[names == 'Bob',3:],'\\n')#第四列\n",
    "\n",
    "print(names != 'Bob')\n",
    "print(data[names != 'Bob'],'\\n')"
   ]
  },
  {
   "cell_type": "code",
   "execution_count": 186,
   "metadata": {},
   "outputs": [
    {
     "name": "stdout",
     "output_type": "stream",
     "text": [
      "[ True False  True  True  True False False] \n",
      "\n",
      "[[-0.17872588 -0.25569421  0.56120059 -1.22199587]\n",
      " [ 0.29801744  0.48836221  1.60763441  0.81107404]\n",
      " [ 1.08536569  0.63556861  0.63352529 -0.92164713]\n",
      " [-0.85851877  1.61867532 -1.46538398  0.74410527]] \n",
      "\n"
     ]
    }
   ],
   "source": [
    "mask = (names == 'Bob') | (names == 'Will')  # 还有&\n",
    "print(mask,'\\n')\n",
    "print(data[mask],'\\n')"
   ]
  },
  {
   "cell_type": "code",
   "execution_count": 187,
   "metadata": {},
   "outputs": [
    {
     "name": "stdout",
     "output_type": "stream",
     "text": [
      "[[-0.17872588 -0.25569421  0.56120059 -1.22199587]\n",
      " [-0.92460662 -0.58359025 -0.19233456  0.54893941]\n",
      " [ 0.29801744  0.48836221  1.60763441  0.81107404]\n",
      " [ 1.08536569  0.63556861  0.63352529 -0.92164713]\n",
      " [-0.85851877  1.61867532 -1.46538398  0.74410527]\n",
      " [-0.42675704  0.36538623  0.15421803  0.15693241]\n",
      " [-0.73011664  0.80600366  0.21969491 -1.01815037]] \n",
      "\n",
      "[[ True  True False  True]\n",
      " [ True  True  True False]\n",
      " [False False False False]\n",
      " [False False False  True]\n",
      " [ True False  True False]\n",
      " [ True False False False]\n",
      " [ True False False  True]] \n",
      "\n",
      "[[0.         0.         0.56120059 0.        ]\n",
      " [0.         0.         0.         0.54893941]\n",
      " [0.29801744 0.48836221 1.60763441 0.81107404]\n",
      " [1.08536569 0.63556861 0.63352529 0.        ]\n",
      " [0.         1.61867532 0.         0.74410527]\n",
      " [0.         0.36538623 0.15421803 0.15693241]\n",
      " [0.         0.80600366 0.21969491 0.        ]] \n",
      "\n"
     ]
    }
   ],
   "source": [
    "print(data,'\\n')\n",
    "print(data < 0 ,'\\n')\n",
    "\n",
    "data[data<0] = 0\n",
    "print ( data,'\\n')"
   ]
  },
  {
   "cell_type": "code",
   "execution_count": 188,
   "metadata": {},
   "outputs": [
    {
     "name": "stdout",
     "output_type": "stream",
     "text": [
      "[[7.         7.         7.         7.        ]\n",
      " [0.         0.         0.         0.54893941]\n",
      " [7.         7.         7.         7.        ]\n",
      " [7.         7.         7.         7.        ]\n",
      " [7.         7.         7.         7.        ]\n",
      " [0.         0.36538623 0.15421803 0.15693241]\n",
      " [0.         0.80600366 0.21969491 0.        ]]\n"
     ]
    }
   ],
   "source": [
    "data [ names != 'Joe'] = 7\n",
    "print(data)"
   ]
  },
  {
   "cell_type": "code",
   "execution_count": 189,
   "metadata": {},
   "outputs": [
    {
     "data": {
      "text/plain": [
       "array([[16843009, 16843009],\n",
       "       [16843009, 16843009]])"
      ]
     },
     "execution_count": 189,
     "metadata": {},
     "output_type": "execute_result"
    }
   ],
   "source": [
    "np.empty([2,2],dtype=int)"
   ]
  },
  {
   "cell_type": "markdown",
   "metadata": {},
   "source": [
    "+ Keep in mind that the values in the array are essentially garbage values until you explicitly assign values to them."
   ]
  },
  {
   "cell_type": "code",
   "execution_count": 190,
   "metadata": {},
   "outputs": [
    {
     "name": "stdout",
     "output_type": "stream",
     "text": [
      "Object `np.empty  # 使用 ipython 中的 ? 进行索引说明` not found.\n"
     ]
    }
   ],
   "source": [
    "?np.empty  # 使用 ipython 中的 ? 进行索引说明"
   ]
  },
  {
   "cell_type": "code",
   "execution_count": 191,
   "metadata": {},
   "outputs": [
    {
     "data": {
      "text/plain": [
       "array([[0., 0., 0., 0.],\n",
       "       [1., 1., 1., 1.],\n",
       "       [2., 2., 2., 2.],\n",
       "       [3., 3., 3., 3.],\n",
       "       [4., 4., 4., 4.],\n",
       "       [5., 5., 5., 5.],\n",
       "       [6., 6., 6., 6.],\n",
       "       [7., 7., 7., 7.]])"
      ]
     },
     "execution_count": 191,
     "metadata": {},
     "output_type": "execute_result"
    }
   ],
   "source": [
    "arr = np.empty([8,4])\n",
    "for i in range(8):\n",
    "    arr[i] = i\n",
    "arr"
   ]
  },
  {
   "cell_type": "code",
   "execution_count": 192,
   "metadata": {},
   "outputs": [
    {
     "data": {
      "text/plain": [
       "array([[4., 4., 4., 4.],\n",
       "       [5., 5., 5., 5.],\n",
       "       [6., 6., 6., 6.],\n",
       "       [0., 0., 0., 0.]])"
      ]
     },
     "execution_count": 192,
     "metadata": {},
     "output_type": "execute_result"
    }
   ],
   "source": [
    "#可以同时索引多行\n",
    "arr[[4,5,6,0]]"
   ]
  },
  {
   "cell_type": "code",
   "execution_count": 193,
   "metadata": {},
   "outputs": [
    {
     "data": {
      "text/plain": [
       "array([[7., 7., 7., 7.],\n",
       "       [6., 6., 6., 6.],\n",
       "       [0., 0., 0., 0.],\n",
       "       [2., 2., 2., 2.]])"
      ]
     },
     "execution_count": 193,
     "metadata": {},
     "output_type": "execute_result"
    }
   ],
   "source": [
    "arr[[-1,-2,0,2]] #-1就是倒数第一行，这里是第八行(7)"
   ]
  },
  {
   "cell_type": "code",
   "execution_count": 194,
   "metadata": {},
   "outputs": [
    {
     "name": "stdout",
     "output_type": "stream",
     "text": [
      "[[ 0  1  2  3]\n",
      " [ 4  5  6  7]\n",
      " [ 8  9 10 11]\n",
      " [12 13 14 15]\n",
      " [16 17 18 19]\n",
      " [20 21 22 23]\n",
      " [24 25 26 27]\n",
      " [28 29 30 31]] \n",
      "\n",
      "[[ 4  5  6  7]\n",
      " [20 21 22 23]\n",
      " [28 29 30 31]\n",
      " [ 8  9 10 11]] \n",
      "\n",
      "[[ 0  3  1  2]\n",
      " [ 4  7  5  6]\n",
      " [ 8 11  9 10]\n",
      " [12 15 13 14]\n",
      " [16 19 17 18]\n",
      " [20 23 21 22]\n",
      " [24 27 25 26]\n",
      " [28 31 29 30]] \n",
      "\n",
      "[[ 4  7  5  6]\n",
      " [20 23 21 22]\n",
      " [28 31 29 30]\n",
      " [ 8 11  9 10]] \n",
      "\n",
      "[ 4 23 29 10]\n"
     ]
    }
   ],
   "source": [
    "arr = np.arange(32).reshape((8,4))\n",
    "print(arr,'\\n')\n",
    "\n",
    "b = arr[[1,5,7,2]]\n",
    "print(b,'\\n')\n",
    "\n",
    "c = arr[:,[0,3,1,2]]\n",
    "print(c,'\\n')\n",
    "\n",
    "d = arr[[1,5,7,2],:][: , [0,3,1,2]]\n",
    "print(d,'\\n')\n",
    "\n",
    "e = arr[[1,5,7,2],[0,3,1,2]]\n",
    "print(e)"
   ]
  },
  {
   "cell_type": "code",
   "execution_count": 195,
   "metadata": {},
   "outputs": [
    {
     "name": "stdout",
     "output_type": "stream",
     "text": [
      "[[ 0  1  2  3  4]\n",
      " [ 5  6  7  8  9]\n",
      " [10 11 12 13 14]] \n",
      "\n",
      " [[ 0  5 10]\n",
      " [ 1  6 11]\n",
      " [ 2  7 12]\n",
      " [ 3  8 13]\n",
      " [ 4  9 14]] \n",
      "\n"
     ]
    }
   ],
   "source": [
    "arr=np.arange(15).reshape((3,5))\n",
    "print(arr,'\\n\\n',arr.T,'\\n')"
   ]
  },
  {
   "cell_type": "code",
   "execution_count": 196,
   "metadata": {},
   "outputs": [
    {
     "data": {
      "text/plain": [
       "array([[ 5.31793861,  0.29960075,  0.45766063],\n",
       "       [ 0.29960075,  5.78891428, -1.9058296 ],\n",
       "       [ 0.45766063, -1.9058296 ,  3.91187592]])"
      ]
     },
     "execution_count": 196,
     "metadata": {},
     "output_type": "execute_result"
    }
   ],
   "source": [
    "arr=np.random.randn(6,3)\n",
    "np.dot(arr.T, arr)#真正的矩阵乘法"
   ]
  },
  {
   "cell_type": "code",
   "execution_count": 197,
   "metadata": {},
   "outputs": [
    {
     "name": "stdout",
     "output_type": "stream",
     "text": [
      "[[[ 0  1  2  3]\n",
      "  [ 4  5  6  7]]\n",
      "\n",
      " [[ 8  9 10 11]\n",
      "  [12 13 14 15]]]\n"
     ]
    }
   ],
   "source": [
    "arr = np.arange(16).reshape((2,2,4))\n",
    "print(arr)"
   ]
  },
  {
   "cell_type": "code",
   "execution_count": 198,
   "metadata": {},
   "outputs": [
    {
     "name": "stdout",
     "output_type": "stream",
     "text": [
      "[0 1 2 3 4 5 6 7 8 9] \n",
      "\n",
      "[0.         1.         1.41421356 1.73205081 2.         2.23606798\n",
      " 2.44948974 2.64575131 2.82842712 3.        ] \n",
      "\n",
      "[1.00000000e+00 2.71828183e+00 7.38905610e+00 2.00855369e+01\n",
      " 5.45981500e+01 1.48413159e+02 4.03428793e+02 1.09663316e+03\n",
      " 2.98095799e+03 8.10308393e+03] \n",
      "\n"
     ]
    }
   ],
   "source": [
    "arr = np.arange(10)\n",
    "print(arr,'\\n')\n",
    "print(np.sqrt(arr),'\\n')\n",
    "print(np.exp(arr),'\\n')"
   ]
  },
  {
   "cell_type": "code",
   "execution_count": 199,
   "metadata": {},
   "outputs": [
    {
     "name": "stdout",
     "output_type": "stream",
     "text": [
      "[ 1.59559376  1.9274926  -1.08344231  0.63771828  1.2934025   0.77806739\n",
      " -0.13613861 -1.18403072] [-0.59705253 -0.94285944  0.25077418 -1.0432987   0.76569732 -0.21548239\n",
      " -0.53145377 -1.44341468] \n",
      "\n",
      "[ 1.59559376  1.9274926   0.25077418  0.63771828  1.2934025   0.77806739\n",
      " -0.13613861 -1.18403072]\n"
     ]
    }
   ],
   "source": [
    "x=randn(8)\n",
    "y=randn(8)\n",
    "print(x,y,'\\n')\n",
    "print(np.maximum(x,y))#生成二维元组，对应位置取x,y的最大值"
   ]
  },
  {
   "cell_type": "code",
   "execution_count": 200,
   "metadata": {},
   "outputs": [
    {
     "name": "stdout",
     "output_type": "stream",
     "text": [
      "[ 2.3169992   5.33672161 -1.22389738  3.44357595 -2.57408955 -3.89429947\n",
      "  0.50162323] \n",
      "\n",
      "(array([ 0.3169992 ,  0.33672161, -0.22389738,  0.44357595, -0.57408955,\n",
      "       -0.89429947,  0.50162323]), array([ 2.,  5., -1.,  3., -2., -3.,  0.]))\n",
      "test:\n",
      "\n",
      "arr= [ 0.67  1.67  2.67  3.67  4.67  5.67  6.67  7.67  8.67  9.67 10.67 11.67\n",
      " 12.67 13.67 14.67] \n",
      "\n",
      "np.modf(arr)= (array([0.67, 0.67, 0.67, 0.67, 0.67, 0.67, 0.67, 0.67, 0.67, 0.67, 0.67,\n",
      "       0.67, 0.67, 0.67, 0.67]), array([ 0.,  1.,  2.,  3.,  4.,  5.,  6.,  7.,  8.,  9., 10., 11., 12.,\n",
      "       13., 14.])) \n",
      "\n"
     ]
    }
   ],
   "source": [
    "arr = randn(7)*5\n",
    "print(arr,'\\n')\n",
    "print(np.modf(arr))\n",
    "\n",
    "print('test:\\n')\n",
    "arr = np.arange(15)+0.67\n",
    "print('arr=',arr,'\\n')\n",
    "print('np.modf(arr)=',np.modf(arr),'\\n')"
   ]
  },
  {
   "cell_type": "code",
   "execution_count": 201,
   "metadata": {},
   "outputs": [
    {
     "name": "stdout",
     "output_type": "stream",
     "text": [
      "[[-5.   -5.   -5.   ... -5.   -5.   -5.  ]\n",
      " [-4.99 -4.99 -4.99 ... -4.99 -4.99 -4.99]\n",
      " [-4.98 -4.98 -4.98 ... -4.98 -4.98 -4.98]\n",
      " ...\n",
      " [ 4.97  4.97  4.97 ...  4.97  4.97  4.97]\n",
      " [ 4.98  4.98  4.98 ...  4.98  4.98  4.98]\n",
      " [ 4.99  4.99  4.99 ...  4.99  4.99  4.99]] \n",
      "\n",
      "[[-5.   -4.99 -4.98 ...  4.97  4.98  4.99]\n",
      " [-5.   -4.99 -4.98 ...  4.97  4.98  4.99]\n",
      " [-5.   -4.99 -4.98 ...  4.97  4.98  4.99]\n",
      " ...\n",
      " [-5.   -4.99 -4.98 ...  4.97  4.98  4.99]\n",
      " [-5.   -4.99 -4.98 ...  4.97  4.98  4.99]\n",
      " [-5.   -4.99 -4.98 ...  4.97  4.98  4.99]] \n",
      "\n"
     ]
    }
   ],
   "source": [
    "points = np.arange(-5,5,0.01)\n",
    "xs,ys = np.meshgrid(points,points)#生成网格\n",
    "\n",
    "print(ys,'\\n')\n",
    "\n",
    "print(xs,'\\n')"
   ]
  },
  {
   "cell_type": "code",
   "execution_count": 202,
   "metadata": {},
   "outputs": [],
   "source": [
    "xarr = np.array([1.1, 1.2, 1.3, 1.4, 1.5])\n",
    "yarr = np.array([2.1, 2.2, 2.3, 2.4, 2.5])\n",
    "cond = np.array([True, False, True, True, False])"
   ]
  },
  {
   "cell_type": "code",
   "execution_count": 203,
   "metadata": {},
   "outputs": [
    {
     "name": "stdout",
     "output_type": "stream",
     "text": [
      "[1.1 2.2 1.3 1.4 2.5]\n"
     ]
    }
   ],
   "source": [
    "result = np.where(cond, xarr, yarr)#condition放在第一个\n",
    "print(result)"
   ]
  },
  {
   "cell_type": "code",
   "execution_count": 204,
   "metadata": {},
   "outputs": [
    {
     "name": "stdout",
     "output_type": "stream",
     "text": [
      "[[ 2.23716548  1.05702038 -1.69319386  0.8361549 ]\n",
      " [-2.06525477  1.87998311  0.58641227  0.78704777]\n",
      " [ 0.68943263 -0.66774698 -0.6992185  -0.88709689]\n",
      " [ 0.62290984 -1.34064248  0.63401856 -0.88281804]] \n",
      "\n",
      "[[ 2  2 -2  2]\n",
      " [-2  2  2  2]\n",
      " [ 2 -2 -2 -2]\n",
      " [ 2 -2  2 -2]]\n",
      "[[ 2.          2.         -1.69319386  2.        ]\n",
      " [-2.06525477  2.          2.          2.        ]\n",
      " [ 2.         -0.66774698 -0.6992185  -0.88709689]\n",
      " [ 2.         -1.34064248  2.         -0.88281804]]\n"
     ]
    }
   ],
   "source": [
    "arr=randn(4,4)\n",
    "print(arr,'\\n')\n",
    "print(np.where(arr>0 , 2,-2))\n",
    "\n",
    "print(np.where(arr>0,2,arr))#只有大于2的会改变"
   ]
  },
  {
   "cell_type": "code",
   "execution_count": 205,
   "metadata": {},
   "outputs": [
    {
     "name": "stdout",
     "output_type": "stream",
     "text": [
      "[[ 1.32450259 -1.00941953  1.43578502  0.83033906]\n",
      " [-0.87164747  0.1258827  -1.08892099 -0.90156244]\n",
      " [ 0.72160043 -0.87232091  1.53909366 -0.90927085]\n",
      " [ 1.55614154  0.81867135 -0.36080106  0.20691931]\n",
      " [-0.20165046 -1.11827404 -1.56190931 -1.27020024]]\n",
      "-0.08035208281821968\n",
      "-1.6070416563643934\n"
     ]
    }
   ],
   "source": [
    "arr = np.random.randn(5,4)\n",
    "print(arr)\n",
    "print(arr.mean())#求所有元素的平均数\n",
    "print(arr.sum())#求所有元素的和"
   ]
  },
  {
   "cell_type": "code",
   "execution_count": 206,
   "metadata": {},
   "outputs": [
    {
     "name": "stdout",
     "output_type": "stream",
     "text": [
      "[[-0.46223377 -0.24404519 -0.02398056  0.37714308]\n",
      " [ 2.23967034  1.34709968  1.82132011  0.06120014]\n",
      " [ 1.58278614 -0.29997199  0.03389977  1.13107212]\n",
      " [ 2.34683536 -0.70770164  1.95636117  1.97753219]\n",
      " [ 1.35507633  0.31371426  0.27316598 -1.4640075 ]]\n",
      "0.6807468007040096\n",
      "[1.41242688 0.08181902 0.81215329 0.41658801]\n",
      "[-0.08827911  1.36732256  0.61194651  1.39325677  0.11948727] \n",
      "\n",
      "[7.0621344  0.40909512 4.06076646 2.08294004]\n",
      "[-0.35311644  5.46929026  2.44778604  5.57302709  0.47794907]\n"
     ]
    }
   ],
   "source": [
    "arr = np.random.randn(5,4)\n",
    "print(arr)\n",
    "print(arr.mean())\n",
    "print(arr.mean(axis=0))#按行求平均值\n",
    "print(arr.mean(axis=1),'\\n')#按列去求平均值\n",
    "print(arr.sum(axis=0))#按行去求和\n",
    "print(arr.sum(axis=1))#按列去求和"
   ]
  },
  {
   "cell_type": "code",
   "execution_count": 212,
   "metadata": {},
   "outputs": [
    {
     "name": "stdout",
     "output_type": "stream",
     "text": [
      "[[0 1 2]\n",
      " [3 4 5]\n",
      " [6 7 8]] \n",
      "\n",
      "[[ 0  1  2]\n",
      " [ 3  5  7]\n",
      " [ 9 12 15]]\n"
     ]
    }
   ],
   "source": [
    "arr = np.array([[0, 1, 2], [3, 4, 5], [6, 7, 8]])\n",
    "print(arr,'\\n')\n",
    "print(arr.cumsum(0))"
   ]
  },
  {
   "cell_type": "code",
   "execution_count": 220,
   "metadata": {},
   "outputs": [
    {
     "name": "stdout",
     "output_type": "stream",
     "text": [
      "[ 2.07007709 -2.69303235  1.46053914  0.20456127 -0.17845922 -0.67172091\n",
      " -0.58404964 -1.47812221  1.06730168 -1.06311426 -0.22832272  0.2625817\n",
      "  0.11890047  1.17509178 -0.74420285  1.29146873  0.95622199 -0.34847173\n",
      "  1.01380095  1.01661601 -0.44515774 -0.4985426   1.46993628  0.65305314\n",
      "  0.44100553 -0.69694802  0.94657385  1.83941819 -0.58299143  0.68940818\n",
      "  1.12668278 -0.51018349  2.21234696  2.08907372  1.25594133 -0.23840061\n",
      " -0.03945636 -1.94819371  1.22484395  0.24117936 -1.06227558  0.09437509\n",
      " -0.91145693  0.80485054  0.73980808  0.23362754 -0.82945003  2.11048483\n",
      "  0.98106892  0.47368824 -1.08893145 -0.35770246 -0.23668908  1.15868734\n",
      " -0.43342439  1.88776645  1.81749239 -1.04387648  1.94689496  0.58113388\n",
      "  0.32316201  0.67780484 -1.25776201  0.19541457  0.68661454 -0.58776153\n",
      " -2.74601491 -0.09362513  1.51482087  0.69644189 -0.68814841  0.95578558\n",
      "  0.76135901 -0.27780559  0.56625186 -0.60219215  1.70474584  0.74027291\n",
      "  0.15666842  1.08703515  1.39266597 -0.47378805 -0.79988527  1.08572279\n",
      " -0.75054806  0.22141631  1.69507161  0.43238009  0.07404112 -0.11012557\n",
      "  1.52559094  1.02530167  0.01696006 -0.10392835  1.07859116  2.32957394\n",
      " -0.84715165  0.53838206  1.45089505 -0.9955488 ] \n",
      "\n",
      "61\n"
     ]
    }
   ],
   "source": [
    "arr = randn(100)\n",
    "print(arr,'\\n')\n",
    "print((arr>0).sum())"
   ]
  },
  {
   "cell_type": "code",
   "execution_count": 223,
   "metadata": {},
   "outputs": [
    {
     "name": "stdout",
     "output_type": "stream",
     "text": [
      "True\n",
      "False\n"
     ]
    }
   ],
   "source": [
    "bools = np.array([False, False, True, False])\n",
    "print(bools.any())\n",
    "print(bools.all())"
   ]
  },
  {
   "cell_type": "code",
   "execution_count": 224,
   "metadata": {},
   "outputs": [
    {
     "name": "stdout",
     "output_type": "stream",
     "text": [
      "[ 0.61310342 -1.60577422  0.33023465 -2.01371434  1.90438638  0.71188584\n",
      "  2.31931475  0.63984496] \n",
      "\n",
      "[-2.01371434 -1.60577422  0.33023465  0.61310342  0.63984496  0.71188584\n",
      "  1.90438638  2.31931475] \n",
      "\n",
      "None\n"
     ]
    }
   ],
   "source": [
    "arr = randn(8)\n",
    "print(arr,'\\n')\n",
    "x = arr.sort()\n",
    "print(arr,'\\n')\n",
    "print(x)"
   ]
  },
  {
   "cell_type": "code",
   "execution_count": 225,
   "metadata": {},
   "outputs": [
    {
     "name": "stdout",
     "output_type": "stream",
     "text": [
      "\u001b[1;31mSignature:\u001b[0m \u001b[0mnp\u001b[0m\u001b[1;33m.\u001b[0m\u001b[0msort\u001b[0m\u001b[1;33m(\u001b[0m\u001b[0ma\u001b[0m\u001b[1;33m,\u001b[0m \u001b[0maxis\u001b[0m\u001b[1;33m=\u001b[0m\u001b[1;33m-\u001b[0m\u001b[1;36m1\u001b[0m\u001b[1;33m,\u001b[0m \u001b[0mkind\u001b[0m\u001b[1;33m=\u001b[0m\u001b[1;32mNone\u001b[0m\u001b[1;33m,\u001b[0m \u001b[0morder\u001b[0m\u001b[1;33m=\u001b[0m\u001b[1;32mNone\u001b[0m\u001b[1;33m)\u001b[0m\u001b[1;33m\u001b[0m\u001b[1;33m\u001b[0m\u001b[0m\n",
      "\u001b[1;31mDocstring:\u001b[0m\n",
      "Return a sorted copy of an array.\n",
      "\n",
      "Parameters\n",
      "----------\n",
      "a : array_like\n",
      "    Array to be sorted.\n",
      "axis : int or None, optional\n",
      "    Axis along which to sort. If None, the array is flattened before\n",
      "    sorting. The default is -1, which sorts along the last axis.\n",
      "kind : {'quicksort', 'mergesort', 'heapsort', 'stable'}, optional\n",
      "    Sorting algorithm. The default is 'quicksort'. Note that both 'stable'\n",
      "    and 'mergesort' use timsort or radix sort under the covers and, in general,\n",
      "    the actual implementation will vary with data type. The 'mergesort' option\n",
      "    is retained for backwards compatibility.\n",
      "\n",
      "    .. versionchanged:: 1.15.0.\n",
      "       The 'stable' option was added.\n",
      "\n",
      "order : str or list of str, optional\n",
      "    When `a` is an array with fields defined, this argument specifies\n",
      "    which fields to compare first, second, etc.  A single field can\n",
      "    be specified as a string, and not all fields need be specified,\n",
      "    but unspecified fields will still be used, in the order in which\n",
      "    they come up in the dtype, to break ties.\n",
      "\n",
      "Returns\n",
      "-------\n",
      "sorted_array : ndarray\n",
      "    Array of the same type and shape as `a`.\n",
      "\n",
      "See Also\n",
      "--------\n",
      "ndarray.sort : Method to sort an array in-place.\n",
      "argsort : Indirect sort.\n",
      "lexsort : Indirect stable sort on multiple keys.\n",
      "searchsorted : Find elements in a sorted array.\n",
      "partition : Partial sort.\n",
      "\n",
      "Notes\n",
      "-----\n",
      "The various sorting algorithms are characterized by their average speed,\n",
      "worst case performance, work space size, and whether they are stable. A\n",
      "stable sort keeps items with the same key in the same relative\n",
      "order. The four algorithms implemented in NumPy have the following\n",
      "properties:\n",
      "\n",
      "=========== ======= ============= ============ ========\n",
      "   kind      speed   worst case    work space   stable\n",
      "=========== ======= ============= ============ ========\n",
      "'quicksort'    1     O(n^2)            0          no\n",
      "'heapsort'     3     O(n*log(n))       0          no\n",
      "'mergesort'    2     O(n*log(n))      ~n/2        yes\n",
      "'timsort'      2     O(n*log(n))      ~n/2        yes\n",
      "=========== ======= ============= ============ ========\n",
      "\n",
      ".. note:: The datatype determines which of 'mergesort' or 'timsort'\n",
      "   is actually used, even if 'mergesort' is specified. User selection\n",
      "   at a finer scale is not currently available.\n",
      "\n",
      "All the sort algorithms make temporary copies of the data when\n",
      "sorting along any but the last axis.  Consequently, sorting along\n",
      "the last axis is faster and uses less space than sorting along\n",
      "any other axis.\n",
      "\n",
      "The sort order for complex numbers is lexicographic. If both the real\n",
      "and imaginary parts are non-nan then the order is determined by the\n",
      "real parts except when they are equal, in which case the order is\n",
      "determined by the imaginary parts.\n",
      "\n",
      "Previous to numpy 1.4.0 sorting real and complex arrays containing nan\n",
      "values led to undefined behaviour. In numpy versions >= 1.4.0 nan\n",
      "values are sorted to the end. The extended sort order is:\n",
      "\n",
      "  * Real: [R, nan]\n",
      "  * Complex: [R + Rj, R + nanj, nan + Rj, nan + nanj]\n",
      "\n",
      "where R is a non-nan real value. Complex values with the same nan\n",
      "placements are sorted according to the non-nan part if it exists.\n",
      "Non-nan values are sorted as before.\n",
      "\n",
      ".. versionadded:: 1.12.0\n",
      "\n",
      "quicksort has been changed to `introsort <https://en.wikipedia.org/wiki/Introsort>`_.\n",
      "When sorting does not make enough progress it switches to\n",
      "`heapsort <https://en.wikipedia.org/wiki/Heapsort>`_.\n",
      "This implementation makes quicksort O(n*log(n)) in the worst case.\n",
      "\n",
      "'stable' automatically chooses the best stable sorting algorithm\n",
      "for the data type being sorted.\n",
      "It, along with 'mergesort' is currently mapped to\n",
      "`timsort <https://en.wikipedia.org/wiki/Timsort>`_\n",
      "or `radix sort <https://en.wikipedia.org/wiki/Radix_sort>`_\n",
      "depending on the data type.\n",
      "API forward compatibility currently limits the\n",
      "ability to select the implementation and it is hardwired for the different\n",
      "data types.\n",
      "\n",
      ".. versionadded:: 1.17.0\n",
      "\n",
      "Timsort is added for better performance on already or nearly\n",
      "sorted data. On random data timsort is almost identical to\n",
      "mergesort. It is now used for stable sort while quicksort is still the\n",
      "default sort if none is chosen. For timsort details, refer to\n",
      "`CPython listsort.txt <https://github.com/python/cpython/blob/3.7/Objects/listsort.txt>`_.\n",
      "'mergesort' and 'stable' are mapped to radix sort for integer data types. Radix sort is an\n",
      "O(n) sort instead of O(n log n).\n",
      "\n",
      ".. versionchanged:: 1.18.0\n",
      "\n",
      "NaT now sorts to the end of arrays for consistency with NaN.\n",
      "\n",
      "Examples\n",
      "--------\n",
      ">>> a = np.array([[1,4],[3,1]])\n",
      ">>> np.sort(a)                # sort along the last axis\n",
      "array([[1, 4],\n",
      "       [1, 3]])\n",
      ">>> np.sort(a, axis=None)     # sort the flattened array\n",
      "array([1, 1, 3, 4])\n",
      ">>> np.sort(a, axis=0)        # sort along the first axis\n",
      "array([[1, 1],\n",
      "       [3, 4]])\n",
      "\n",
      "Use the `order` keyword to specify a field to use when sorting a\n",
      "structured array:\n",
      "\n",
      ">>> dtype = [('name', 'S10'), ('height', float), ('age', int)]\n",
      ">>> values = [('Arthur', 1.8, 41), ('Lancelot', 1.9, 38),\n",
      "...           ('Galahad', 1.7, 38)]\n",
      ">>> a = np.array(values, dtype=dtype)       # create a structured array\n",
      ">>> np.sort(a, order='height')                        # doctest: +SKIP\n",
      "array([('Galahad', 1.7, 38), ('Arthur', 1.8, 41),\n",
      "       ('Lancelot', 1.8999999999999999, 38)],\n",
      "      dtype=[('name', '|S10'), ('height', '<f8'), ('age', '<i4')])\n",
      "\n",
      "Sort by age, then height if ages are equal:\n",
      "\n",
      ">>> np.sort(a, order=['age', 'height'])               # doctest: +SKIP\n",
      "array([('Galahad', 1.7, 38), ('Lancelot', 1.8999999999999999, 38),\n",
      "       ('Arthur', 1.8, 41)],\n",
      "      dtype=[('name', '|S10'), ('height', '<f8'), ('age', '<i4')])\n",
      "\u001b[1;31mFile:\u001b[0m      d:\\anaconda3\\lib\\site-packages\\numpy\\core\\fromnumeric.py\n",
      "\u001b[1;31mType:\u001b[0m      function"
     ]
    }
   ],
   "source": [
    "?np.sort"
   ]
  },
  {
   "cell_type": "code",
   "execution_count": 227,
   "metadata": {},
   "outputs": [
    {
     "name": "stdout",
     "output_type": "stream",
     "text": [
      "[[ 0.17145896 -1.52602272  1.5854286 ]\n",
      " [ 0.49801416 -0.64500621  1.14538681]\n",
      " [ 1.65124163 -1.19610026  0.73750836]\n",
      " [-1.55495568  0.30361193 -0.59113717]\n",
      " [-1.10052218 -0.96703533 -1.82893308]] \n",
      "\n",
      "[[-1.55495568 -1.52602272 -1.82893308]\n",
      " [-1.10052218 -1.19610026 -0.59113717]\n",
      " [ 0.17145896 -0.96703533  0.73750836]\n",
      " [ 0.49801416 -0.64500621  1.14538681]\n",
      " [ 1.65124163  0.30361193  1.5854286 ]]\n"
     ]
    }
   ],
   "source": [
    "arr = randn(5,3)\n",
    "print(arr,'\\n')\n",
    "arr.sort(0)#按照列排序\n",
    "print(arr)"
   ]
  },
  {
   "cell_type": "code",
   "execution_count": 228,
   "metadata": {},
   "outputs": [
    {
     "name": "stdout",
     "output_type": "stream",
     "text": [
      "[[ 0.5321423   0.16431801 -0.95005707]\n",
      " [-1.38661766 -0.87009503 -0.01135111]\n",
      " [-0.66603627 -0.29659678 -0.34695893]\n",
      " [ 1.09030618 -0.16802158  1.37154675]\n",
      " [-1.07306628  0.01434594  1.02245603]] \n",
      "\n",
      "[[-0.95005707  0.16431801  0.5321423 ]\n",
      " [-1.38661766 -0.87009503 -0.01135111]\n",
      " [-0.66603627 -0.34695893 -0.29659678]\n",
      " [-0.16802158  1.09030618  1.37154675]\n",
      " [-1.07306628  0.01434594  1.02245603]]\n"
     ]
    }
   ],
   "source": [
    "arr = randn(5,3)\n",
    "print(arr,'\\n')\n",
    "arr.sort(1)\n",
    "print(arr)"
   ]
  },
  {
   "cell_type": "code",
   "execution_count": 231,
   "metadata": {},
   "outputs": [
    {
     "name": "stdout",
     "output_type": "stream",
     "text": [
      "['Bob' 'Joe' 'Will']\n",
      "[1 2 3 4]\n"
     ]
    }
   ],
   "source": [
    "#np.unique()返回所有出现过的元素（次数为一次）\n",
    "names = np.array(['Bob', 'Joe', 'Will', 'Bob', 'Will', 'Joe', 'Joe'])\n",
    "print(np.unique(names))\n",
    "ints = np.array([3, 3, 3, 2, 2, 1, 1, 4, 4])\n",
    "print(np.unique(ints))"
   ]
  },
  {
   "cell_type": "code",
   "execution_count": 237,
   "metadata": {},
   "outputs": [
    {
     "name": "stdout",
     "output_type": "stream",
     "text": [
      "{'Joe', 'Bob', 'Will'}\n",
      "{'Joe', 'Bob', 'Will'}\n",
      "['Bob', 'Joe', 'Will']\n"
     ]
    }
   ],
   "source": [
    "print(set(names)) #set 形成集合 set也是一种数据类型\n",
    "print(np.array(set(names)))\n",
    "print(sorted(set(names)))"
   ]
  },
  {
   "cell_type": "code",
   "execution_count": 239,
   "metadata": {},
   "outputs": [
    {
     "data": {
      "text/plain": [
       "array([ True, False, False,  True,  True, False,  True])"
      ]
     },
     "execution_count": 239,
     "metadata": {},
     "output_type": "execute_result"
    }
   ],
   "source": [
    "values = np.array([6, 0, 0, 3, 2, 5, 6])\n",
    "np.in1d(values, [2,3,6])#测试，左边的元素是不是在右边"
   ]
  },
  {
   "cell_type": "code",
   "execution_count": 241,
   "metadata": {},
   "outputs": [
    {
     "name": "stdout",
     "output_type": "stream",
     "text": [
      "[0 1 2 3 4 5 6 7 8 9]\n"
     ]
    }
   ],
   "source": [
    "arr = np.arange(10)\n",
    "np.save('some_array', arr)\n",
    "a = np.load('some_array.npy')\n",
    "print(a)"
   ]
  },
  {
   "cell_type": "code",
   "execution_count": 251,
   "metadata": {},
   "outputs": [
    {
     "name": "stdout",
     "output_type": "stream",
     "text": [
      "[[1. 2. 3.]\n",
      " [4. 5. 6.]] \n",
      "\n",
      " [[ 6. 23.]\n",
      " [-1.  7.]\n",
      " [ 8.  9.]] \n",
      "\n",
      " (2, 3) (3, 2) \n",
      "\n",
      "[[ 28.  64.]\n",
      " [ 67. 181.]] \n",
      "\n",
      " [[ 98.  27.  44.]\n",
      " [127.  33.  61.]\n",
      " [156.  39.  78.]] \n",
      "\n",
      "\n",
      "[[ 28.  64.]\n",
      " [ 67. 181.]] \n",
      "\n",
      " [[ 98.  27.  44.]\n",
      " [127.  33.  61.]\n",
      " [156.  39.  78.]]\n"
     ]
    }
   ],
   "source": [
    "x=np.array([[1,2,3],[4,5,6]],dtype=float)\n",
    "y=np.array([[6,23],[-1,7],[8,9]],dtype=float)\n",
    "print(x,'\\n\\n',y,'\\n\\n',x.shape,y.shape,'\\n')\n",
    "print(x.dot(y),'\\n\\n', (x.T).dot(y.T),'\\n\\n')\n",
    "print(np.dot(x,y),'\\n\\n',np.dot(x.T,y.T))"
   ]
  },
  {
   "cell_type": "code",
   "execution_count": 255,
   "metadata": {},
   "outputs": [
    {
     "name": "stdout",
     "output_type": "stream",
     "text": [
      "[1. 1. 1.] \n",
      "\n",
      "(2, 3) (3,)\n",
      "\n",
      "[ 6. 15.]\n"
     ]
    }
   ],
   "source": [
    "t=np.ones(3)\n",
    "print(t,'\\n')\n",
    "print(x.shape,t.shape,end='\\n\\n')\n",
    "print(np.dot(x,t))"
   ]
  },
  {
   "cell_type": "code",
   "execution_count": 261,
   "metadata": {},
   "outputs": [
    {
     "name": "stdout",
     "output_type": "stream",
     "text": [
      "x=\n",
      " [[-0.3755847  -1.02529964  0.33812979  0.52754975  0.54696716]\n",
      " [ 0.12982844  1.58424493  0.04415913 -0.37045732  0.06027039]\n",
      " [ 0.47595983 -0.13774299  1.54566752  0.29964252  1.40176556]\n",
      " [-0.17330577 -0.44113998  0.43800773 -0.88289319  0.76412782]\n",
      " [ 1.70280328 -0.81448733  1.85644254 -1.124569   -0.1933254 ]] \n",
      "\n",
      "\n",
      "mat=\n",
      " [[ 3.31403094 -0.78525282  3.69965956 -1.86552701  0.00795352]\n",
      " [-0.78525282  4.43803858 -2.194902    0.13636134 -0.8380318 ]\n",
      " [ 3.69965956 -2.194902    6.14359954 -1.84924286  2.33006727]\n",
      " [-1.86552701  0.13636134 -1.84924286  2.54948882  0.22901784]\n",
      " [ 0.00795352 -0.8380318   2.33006727  0.22901784  2.88901832]] \n",
      "\n",
      "\n",
      "The invert of mat is\n",
      "  [[ 2.68920021e+01 -3.84637754e+00 -2.44143628e+01  5.16367914e-01\n",
      "   1.84601036e+01]\n",
      " [-3.84637754e+00  8.37546352e-01  3.64018263e+00  2.21859147e-02\n",
      "  -2.68411889e+00]\n",
      " [-2.44143628e+01  3.64018263e+00  2.26216218e+01 -1.13761283e-01\n",
      "  -1.71127604e+01]\n",
      " [ 5.16367914e-01  2.21859147e-02 -1.13761283e-01  6.82541159e-01\n",
      "   4.26590922e-02]\n",
      " [ 1.84601036e+01 -2.68411889e+00 -1.71127604e+01  4.26590922e-02\n",
      "   1.33152196e+01]] \n",
      "\n",
      "\n",
      "q=\n",
      " [[-0.61788561 -0.20455359  0.23360554 -0.32445433  0.64539371]\n",
      " [ 0.14640672 -0.93812273 -0.2881666  -0.08151504 -0.09384094]\n",
      " [-0.68978426  0.07752522 -0.35650929 -0.18204254 -0.59828852]\n",
      " [ 0.34781881  0.18607221 -0.17431055 -0.90222659  0.00149143]\n",
      " [-0.0014829   0.19352143 -0.83958646  0.20231752  0.46552063]] \n",
      "\n",
      "\n",
      "r=\n",
      " [[-5.36350242  2.69763572 -7.49172977  3.33464567 -1.65947899]\n",
      " [ 0.         -4.30976293  1.88541802  0.62902247  1.56688956]\n",
      " [ 0.          0.         -2.32744228 -0.45250305 -3.05284076]\n",
      " [ 0.          0.          0.         -1.32307859  0.01943331]\n",
      " [ 0.          0.          0.          0.          0.03496154]] \n",
      "\n",
      "\n"
     ]
    }
   ],
   "source": [
    "from numpy.linalg import inv, qr\n",
    "x = randn(5,5)\n",
    "print('x=\\n',x,'\\n\\n')\n",
    "mat = (x.T).dot(x)\n",
    "print('mat=\\n',mat,'\\n\\n')\n",
    "c=inv(mat)\n",
    "print('The invert of mat is\\n ', c,'\\n\\n')\n",
    "(q, r)=qr(mat)\n",
    "print('q=\\n',q,'\\n\\n')\n",
    "print('r=\\n',r,'\\n\\n')"
   ]
  },
  {
   "cell_type": "code",
   "execution_count": 275,
   "metadata": {},
   "outputs": [
    {
     "name": "stdout",
     "output_type": "stream",
     "text": [
      "[[-0.08881692  1.15858193 -1.17933738 -2.13968393]\n",
      " [ 0.82144224  2.26854232  0.98145734 -0.7322152 ]\n",
      " [-0.35785547 -1.17050115  0.38294671  0.97962245]\n",
      " [-0.28756499  0.42724861  0.80425825  1.49452765]]\n",
      "0.21016577917125742\n"
     ]
    }
   ],
   "source": [
    "#生成随机数\n",
    "smaples = np.random.normal(size=(4,4))\n",
    "print(smaples)\n",
    "print(np.mean(smaples))"
   ]
  }
 ],
 "metadata": {
  "kernelspec": {
   "display_name": "base",
   "language": "python",
   "name": "python3"
  },
  "language_info": {
   "codemirror_mode": {
    "name": "ipython",
    "version": 3
   },
   "file_extension": ".py",
   "mimetype": "text/x-python",
   "name": "python",
   "nbconvert_exporter": "python",
   "pygments_lexer": "ipython3",
   "version": "3.11.4"
  },
  "orig_nbformat": 4
 },
 "nbformat": 4,
 "nbformat_minor": 2
}
