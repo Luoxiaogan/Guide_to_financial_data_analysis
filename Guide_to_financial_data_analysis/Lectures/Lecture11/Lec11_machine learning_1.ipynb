{
 "cells": [
  {
   "cell_type": "markdown",
   "metadata": {
    "slideshow": {
     "slide_type": "slide"
    }
   },
   "source": [
    "## 机器学习\n",
    "\n",
    "利用数据进行学习和预测的模型方法或算法\n",
    "\n",
    "+ 有监督学习\n",
    "\n",
    "   对特定的目标变量进行预测，并且有目标变量的数据可以利用。在监督学习Supervised learning,有一个变量可以对照，优化一般有比较明确的目标。\n",
    "   \n",
    "  - 回归\n",
    "  - 分类\n",
    "+ 无监督学习\n",
    "\n",
    "  无特定的目标变量，目的是探索数据内的规律\n",
    "  \n",
    "  - 聚类,用户画像\n",
    "  "
   ]
  },
  {
   "cell_type": "markdown",
   "metadata": {
    "slideshow": {
     "slide_type": "slide"
    }
   },
   "source": [
    "## 分类回归的基本概念\n",
    "+ 数据 $(\\mathbf{x_1},y_1),(\\mathbf{x_2},y_2),\\ldots,(\\mathbf{x_N},y_N)\\sim (X,Y)$\n",
    "+ 有监督学习: $\\hat{y}_i=f(\\mathbf{x_i})$\n",
    "+ 分类和回归\n",
    "+ 训练样本(training data)，检验样本（test data） \n",
    "+ 评估：错误率,有多少样本被错误分类，定义为： $$\\frac{1}{N}\\sum_{i=1}^N{I}(f(\\mathbf{x}_i)\\neq y_i)$$\n",
    "+ 评估：查准率，查全率 (两分类问题)\n",
    "     \n",
    "    + True Positive （真正, TP）被模型预测为正的正样本；  \n",
    "    True Negative（真负 , TN）被模型预测为负的负样本；  \n",
    "    False Positive （假正, FP）被模型预测为正的负样本；      \n",
    "     False Negative（假负 , FN）被模型预测为负的正样本；\n",
    "     \n",
    "    + 查准率（ precision, TPR),被预测为正的样本的确是正的概率：$P = \\frac{TP}{（TP + FP）}$ \n",
    "       \n",
    "    +  查全率（recall） ,正的样本被识别出来的概率, $R =  \\frac{TP}{TP + FN} $\n",
    " "
   ]
  },
  {
   "cell_type": "markdown",
   "metadata": {
    "slideshow": {
     "slide_type": "slide"
    }
   },
   "source": [
    "# Scikit-Learn库"
   ]
  },
  {
   "cell_type": "markdown",
   "metadata": {},
   "source": [
    "[scikit-learn: machine learning in Python — scikit-learn 0.19.1 documentation](http://scikit-learn.org/stable/index.html)\n",
    " \n",
    "![](scikit_learn.png)"
   ]
  },
  {
   "cell_type": "markdown",
   "metadata": {},
   "source": [
    "[基于 Python 和 Scikit-Learn 的机器学习介绍 - Python - 伯乐在线](http://python.jobbole.com/81721/)\n",
    "\n",
    "\n",
    "\n",
    "\n",
    "### 朴素贝叶斯 （Naive Bayesian）\n",
    "\n",
    "它也是最有名的机器学习的算法之一,这个方法通常在多类的分类问题上表现的很好。\n",
    "\n",
    "### k-最近邻 (k-nearnest neighbor)\n",
    "\n",
    "kNN（k-最近邻）通过分析相邻样本的目标变量进行判断。 有时候，一个简单的kNN算法在良好选择的特征上会有很出色的表现。当参数（主要是metrics）被设置得当，这个算法在分类或回归问题中通常表现很好。\n",
    "### 逻辑回归 (logistic regression)\n",
    "\n",
    "大多数情况下被用来解决分类问题（二元分类），但多分类也适用。这个算法的优点是对于每一个输出的对象都有一个对应类别的概率。\n",
    "\n",
    "## 决策树 (Decision Tree)\n",
    "\n",
    "分类和回归树（CART）是最经典的决策树方法，在这类问题中对象有可分类的特征且被用于回归和分类问题。决策树很适用于多类分类。"
   ]
  },
  {
   "cell_type": "markdown",
   "metadata": {},
   "source": [
    "# Native Bayesian classifer\n",
    "\n",
    "\n",
    "理论上，概率模型分类器是一个条件概率模型。\n",
    "$$p(Y \\vert X_1,\\dots,X_n)\\,$$\n",
    "独立的类别变量$Y$有若干类别，条件依赖于若干特征变量\n",
    "$X_1$,$X_2$,...,$X_n$。但问题在于如果特征数量$n$较大或者每个特征能取大量值时，基于概率模型列出概率表变得不现实。所以我们修改这个模型使之变得可行。\n",
    "\n",
    " 贝叶斯定理有以下式子：\n",
    " \n",
    "$$p(Y \\vert X_1,\\dots,X_n) = \\frac{p(Y) \\ p(X_1,\\dots,X_n\\vert Y)}{p(X_1,\\dots,X_n)}. \\,$$\n",
    " \n",
    "\n",
    "实际中，我们只关心分式中的分子部分，因为分母不依赖于$Y$而且特征$X_i$的值是给定的，可以认为是一个常数。这样分子就等价于联合分布模型。\n",
    " $p(Y, X_1, \\dots, X_n)\\,$\n",
    " \n",
    " "
   ]
  },
  {
   "cell_type": "markdown",
   "metadata": {},
   "source": [
    "重复使用链式法则，可将该式写成条件概率的形式，如下所示：\n",
    "\n",
    " $$\\begin{aligned}p(Y,& X_1, \\dots, X_n)\\\\  \n",
    " & \\varpropto p(Y) \\ p(X_1,\\dots,X_n\\vert Y)\\\\ \n",
    " &\\varpropto p(Y) \\ p(X_1\\vert Y) \\ p(X_2,\\dots,X_n\\vert Y, X_1)\\\\\n",
    " &\\varpropto p(Y) \\ p(X_1\\vert Y) \\ p(X_2\\vert Y, X_1) \\ p(X_3,\\dots,X_n\\vert Y, X_1, X_2)\\\\\n",
    " &\\varpropto p(Y) \\ p(X_1\\vert Y) \\ p(X_2\\vert Y, X_1) \\ p(X_3\\vert Y, X_1, X_2) \\ p(X_4,\\dots,X_n\\vert Y, X_1, X_2, X_3)\\\\\n",
    " &\\varpropto p(Y) \\ p(X_1\\vert Y) \\ p(X_2\\vert Y, X_1) \\ p(X_3\\vert Y, X_1, X_2) \\ \\dots p(X_n\\vert Y, X_1, X_2, X_3,\\dots,X_{n-1}).\\end{aligned}$$\n",
    " \n",
    "现在“朴素”的**条件独立**假设开始发挥作用:假设每个特征$X_i$对于其他特征$X_j$,$j\\neq i$是条件独立的。\n",
    "\n",
    "这就意味着\n",
    "$p(X_i \\vert Y, X_j) = p(X_i \\vert Y)\\,$\n",
    "对于$i\\ne j$，所以联合分布模型可以表达为\n",
    " $$ \\begin{align}\n",
    "p(Y \\vert X_1, \\dots, X_n) & \\varpropto p(Y, X_1, \\dots, X_n)\\\\ & \\varpropto p(Y) \\ p(X_1\\vert Y) \\ p(X_2\\vert Y) \\ p(X_3\\vert Y) \\ \\cdots\\, \\\\& \\varpropto p(Y) \\prod_{i=1}^n p(X_i \\vert Y).\\,\\end{align}$$\n",
    "\n",
    "这意味着上述假设下，类变量$Y$的条件分布可以表达为：\n",
    "$$p(Y \\vert X_1,\\dots,X_n) = \\frac{1}{Z}  p(Y) \\prod_{i=1}^n p(X_i \\vert Y)$$\n",
    "\n",
    "其中$Z$(证据因子)是一个只依赖与$X_1,\\dots,X_n$等的缩放因子，当特征变量的值已知时是一个常数。\n",
    "表达式分解为类先验概率$p(Y)$和独立概率分布$p(X_i\\vert Y)$，概率模型的操作性得到很大的提高。如果这是一个$k$分类问题，且每个$p(X_i\\vert Y=y)\n",
    "$可以表达为$r$个参数，于是相应的朴素贝叶斯模型有$(k − 1) + nrk$个参数。最简单应用中，取$k=2$（二分类问题），$r=1$ (伯努利分布作为特征），因此模型的参数个数为$2n+1$，其中$n$是二值分类特征的个数。"
   ]
  },
  {
   "cell_type": "markdown",
   "metadata": {},
   "source": [
    "### 从概率模型中构造分类器 \n",
    " \n",
    " Naive 分类器包括了模型和相应的决策规则。一个普通的规则就是选出最有可能的那个：这就是大家熟知的**最大后验概率**（MAP）决策准则。相应的分类器是如下定义的：\n",
    "$$\\mathrm{classify}(X_1,\\dots,X_n) = \\underset{y}{\\operatorname{argmax}} \\ p(Y=y) \\displaystyle\\prod_{i=1}^n p(X_i=X_i\\vert Y=y).$$\n",
    "\n",
    "\n",
    "sklearn.naive_bayes:\n",
    "\n",
    "\n",
    "BernoulliNB\n",
    "Naive Bayes classifier for multivariate Bernoulli models.\n",
    "\n",
    "CategoricalNB\n",
    "Naive Bayes classifier for categorical features.\n",
    "\n",
    "ComplementNB\n",
    "Complement Naive Bayes classifier.\n",
    "\n",
    "GaussianNB\n",
    "Gaussian Naive Bayes.\n"
   ]
  },
  {
   "cell_type": "code",
   "execution_count": 1,
   "metadata": {},
   "outputs": [],
   "source": [
    "import sklearn.naive_bayes as nb"
   ]
  },
  {
   "cell_type": "code",
   "execution_count": 7,
   "metadata": {},
   "outputs": [],
   "source": [
    "nb.BernoulliNB?"
   ]
  },
  {
   "cell_type": "code",
   "execution_count": 15,
   "metadata": {},
   "outputs": [
    {
     "name": "stdout",
     "output_type": "stream",
     "text": [
      "[1 2 3 4 4 5]\n"
     ]
    }
   ],
   "source": [
    "import numpy as np\n",
    "rng = np.random.RandomState(1)\n",
    "X = rng.randint(5, size=(6, 100))\n",
    "Y = np.array([1, 2, 3, 4, 4, 5])\n",
    "from sklearn.naive_bayes import BernoulliNB\n",
    "clf = BernoulliNB()\n",
    "clf.fit(X, Y) \n",
    "print(clf.predict(X))"
   ]
  },
  {
   "cell_type": "markdown",
   "metadata": {},
   "source": [
    "### Binary Logistic Regression\n",
    "\n",
    "+ 一些设定\n",
    "  1. 响应变量$Y_i$是二值的\n",
    "  2. 响应变量的因子1是我们真正关心的水平\n",
    "  3. 解释变量对响应取值都有影响\n",
    "  4. 解释变量彼此独立，也就是说，模型应该没有或较小的共线性\n",
    "  5. 解释变量对响应变量概率 $P(Y_i=1|\\mathbf X)$的函数有线性关系\n",
    "  6. 有较多的样本 "
   ]
  },
  {
   "cell_type": "markdown",
   "metadata": {},
   "source": [
    "### 关于5.的进一步解释\n",
    " \n",
    "+ Odds 优势：$\\frac{p}{1-p}$\n",
    "+ 优势的对数为Logit： \n",
    "\n",
    "$$\\text{logit } p = \\log \\frac{p}{1-p}$$ \n",
    "\n",
    "+ logistic 回归模型：\n",
    " \n",
    "\n",
    "$$\\text{logit } P(Y_i=1|   X_i) = { X}_i\\beta$$ \n",
    "\n",
    "注意这里$\\beta$是向量，对应常数项和每个$X_i$的系数项。\n",
    "\n",
    "+ 变形为：\n",
    "\n",
    "$$P(Y_i=1|  X_i) =  \\frac{\\exp (X_i\\beta)}{1+\\exp(X_i\\beta)}$$ \n",
    "\n",
    "\n",
    "   \n",
    "\n",
    "+ 其中  $\\frac{\\exp (x)}{1+\\exp(x)}$也称为 logistic函数 或者 sigmoid函数。\n"
   ]
  },
  {
   "cell_type": "markdown",
   "metadata": {},
   "source": [
    "### Logistic 回归的参数估计\n",
    "\n",
    "+ 参数为 $\\beta$\n",
    "+ 似然函数 (下面我们用小写字母表示观测)：\n",
    "   $$l(\\beta)=\\sum_{i=1}^n \\log p_i= \\sum_{i=1}^n \\log  P(Y_i=y_i| x_i)$$\n",
    "+ 注意$y_i=1$或者 $y_i=0$，上面的公式可以写为：\n",
    "    $$\\begin{array}{rl}l(\\beta)&=\\sum_{i=1}^n \\left[y_i\\log  P(Y_i=1| x_i)+(1-y_i) \\log  P(Y_i=0| x_i)\\right]\\\\\n",
    "   &= \\sum_{i=1}^n \\left[y_i\\log  P(Y_i=1| x_i)+(1-y_i) \\log (1- P(Y_i=1| x_i))\\right]\\\\\n",
    "    &= \\sum_{i=1}^n \\left[y_i\\log (\\frac{\\exp (x_i\\beta)}{1+\\exp(x_i\\beta)})  +(1-y_i) \\log (1- (\\frac{\\exp (x_i\\beta)}{1+\\exp(x_i\\beta)}))\\right]\\\\\n",
    "     &= \\sum_{i=1}^n \\left[y_i\\log (\\frac{\\exp (x_i\\beta)}{1+\\exp(x_i\\beta)})  +(1-y_i) \\log (  \\frac{1}{1+\\exp(x_i\\beta)} )\\right]\\\\\n",
    "        &= \\sum_{i=1}^n \\left[y_i x_i\\beta -\\log (1+\\exp(x_i\\beta) )\\right]\\\\\n",
    "    \\end{array}$$\n",
    "  \n",
    "+  极大似然估计为：\n",
    "   $$\\hat \\beta = \\arg\\max_\\beta \\sum_{i=1}^n \\left[y_i x_i\\beta -\\log (1+\\exp(x_i\\beta) )\\right] $$\n",
    " 注意： 该函数是凹函数,优化相对容易收敛。\n",
    " "
   ]
  },
  {
   "cell_type": "code",
   "execution_count": 16,
   "metadata": {},
   "outputs": [],
   "source": [
    "import numpy as np\n",
    "import pandas as pd\n",
    "import statsmodels.api as sm\n",
    "import matplotlib.pyplot as plt\n",
    "from patsy import dmatrices\n",
    "from sklearn.linear_model import LogisticRegression \n",
    "from sklearn import metrics\n",
    "%matplotlib inline"
   ]
  },
  {
   "cell_type": "code",
   "execution_count": 17,
   "metadata": {},
   "outputs": [],
   "source": [
    "#ccard=sm.datasets.ccard.load_pandas().data\n",
    "#ccard=pd.read_csv(\"http://www.stern.nyu.edu/~wgreene/Text/Edition7/TableF9-1.txt\")\n",
    "dta=pd.read_csv(\"data\\TableF9-1.csv\")"
   ]
  },
  {
   "cell_type": "markdown",
   "metadata": {},
   "source": [
    "+ http://pages.stern.nyu.edu/~wgreene/Text/econometricanalysis.htm\n",
    "+ MDR = Number of derogatory reports\n",
    "+ Acc = Credit card application accepted (1=yes),\n",
    "+ Age = Age in years+ 12ths of a year,\n",
    "+ Income = Income, divided by 10,000 ,\n",
    "+ Avgexp = Avg. monthly credit card expenditure,\n",
    "+ Ownrent = OwnRent, individual owns (1) or rents (0) home.\n",
    "+ Selfempl = Self employed (1=yes, 0=no)\n",
    "+ 我们的目标是预测Acc，探讨影响变量"
   ]
  },
  {
   "cell_type": "code",
   "execution_count": 4,
   "metadata": {
    "scrolled": true
   },
   "outputs": [
    {
     "data": {
      "text/html": [
       "<div>\n",
       "<style scoped>\n",
       "    .dataframe tbody tr th:only-of-type {\n",
       "        vertical-align: middle;\n",
       "    }\n",
       "\n",
       "    .dataframe tbody tr th {\n",
       "        vertical-align: top;\n",
       "    }\n",
       "\n",
       "    .dataframe thead th {\n",
       "        text-align: right;\n",
       "    }\n",
       "</style>\n",
       "<table border=\"1\" class=\"dataframe\">\n",
       "  <thead>\n",
       "    <tr style=\"text-align: right;\">\n",
       "      <th></th>\n",
       "      <th>MDR</th>\n",
       "      <th>AGE</th>\n",
       "      <th>INCOME</th>\n",
       "      <th>AVGEXP</th>\n",
       "      <th>OWNRENT</th>\n",
       "      <th>SELFEMPL</th>\n",
       "    </tr>\n",
       "    <tr>\n",
       "      <th>ACC</th>\n",
       "      <th></th>\n",
       "      <th></th>\n",
       "      <th></th>\n",
       "      <th></th>\n",
       "      <th></th>\n",
       "      <th></th>\n",
       "    </tr>\n",
       "  </thead>\n",
       "  <tbody>\n",
       "    <tr>\n",
       "      <th>0</th>\n",
       "      <td>1.037037</td>\n",
       "      <td>34.592593</td>\n",
       "      <td>3.255556</td>\n",
       "      <td>0.000000</td>\n",
       "      <td>0.333333</td>\n",
       "      <td>0.111111</td>\n",
       "    </tr>\n",
       "    <tr>\n",
       "      <th>1</th>\n",
       "      <td>0.109589</td>\n",
       "      <td>31.150685</td>\n",
       "      <td>3.411370</td>\n",
       "      <td>258.935753</td>\n",
       "      <td>0.369863</td>\n",
       "      <td>0.027397</td>\n",
       "    </tr>\n",
       "  </tbody>\n",
       "</table>\n",
       "</div>"
      ],
      "text/plain": [
       "          MDR        AGE    INCOME      AVGEXP   OWNRENT  SELFEMPL \n",
       "ACC                                                                \n",
       "0    1.037037  34.592593  3.255556    0.000000  0.333333   0.111111\n",
       "1    0.109589  31.150685  3.411370  258.935753  0.369863   0.027397"
      ]
     },
     "execution_count": 4,
     "metadata": {},
     "output_type": "execute_result"
    }
   ],
   "source": [
    "dta.groupby('ACC').mean()"
   ]
  },
  {
   "cell_type": "markdown",
   "metadata": {},
   "source": [
    "\n",
    "+ AVGEXP 是事后的变量，ACC是不能用的\n",
    "+ 下面看下各变量的情况"
   ]
  },
  {
   "cell_type": "code",
   "execution_count": 5,
   "metadata": {
    "scrolled": true
   },
   "outputs": [
    {
     "data": {
      "text/html": [
       "<div>\n",
       "<style scoped>\n",
       "    .dataframe tbody tr th:only-of-type {\n",
       "        vertical-align: middle;\n",
       "    }\n",
       "\n",
       "    .dataframe tbody tr th {\n",
       "        vertical-align: top;\n",
       "    }\n",
       "\n",
       "    .dataframe thead th {\n",
       "        text-align: right;\n",
       "    }\n",
       "</style>\n",
       "<table border=\"1\" class=\"dataframe\">\n",
       "  <thead>\n",
       "    <tr style=\"text-align: right;\">\n",
       "      <th></th>\n",
       "      <th>ACC</th>\n",
       "      <th>AGE</th>\n",
       "      <th>INCOME</th>\n",
       "      <th>OWNRENT</th>\n",
       "      <th>SELFEMPL</th>\n",
       "    </tr>\n",
       "    <tr>\n",
       "      <th>MDR</th>\n",
       "      <th></th>\n",
       "      <th></th>\n",
       "      <th></th>\n",
       "      <th></th>\n",
       "      <th></th>\n",
       "    </tr>\n",
       "  </thead>\n",
       "  <tbody>\n",
       "    <tr>\n",
       "      <th>0</th>\n",
       "      <td>0.804878</td>\n",
       "      <td>31.658537</td>\n",
       "      <td>3.302195</td>\n",
       "      <td>0.378049</td>\n",
       "      <td>0.060976</td>\n",
       "    </tr>\n",
       "    <tr>\n",
       "      <th>1</th>\n",
       "      <td>0.600000</td>\n",
       "      <td>33.900000</td>\n",
       "      <td>3.575000</td>\n",
       "      <td>0.300000</td>\n",
       "      <td>0.000000</td>\n",
       "    </tr>\n",
       "    <tr>\n",
       "      <th>2</th>\n",
       "      <td>0.333333</td>\n",
       "      <td>31.666667</td>\n",
       "      <td>4.630000</td>\n",
       "      <td>0.000000</td>\n",
       "      <td>0.000000</td>\n",
       "    </tr>\n",
       "    <tr>\n",
       "      <th>3</th>\n",
       "      <td>0.000000</td>\n",
       "      <td>37.666667</td>\n",
       "      <td>4.003333</td>\n",
       "      <td>0.333333</td>\n",
       "      <td>0.000000</td>\n",
       "    </tr>\n",
       "    <tr>\n",
       "      <th>4</th>\n",
       "      <td>0.000000</td>\n",
       "      <td>35.000000</td>\n",
       "      <td>1.500000</td>\n",
       "      <td>0.000000</td>\n",
       "      <td>0.000000</td>\n",
       "    </tr>\n",
       "    <tr>\n",
       "      <th>7</th>\n",
       "      <td>0.000000</td>\n",
       "      <td>30.000000</td>\n",
       "      <td>3.000000</td>\n",
       "      <td>1.000000</td>\n",
       "      <td>0.000000</td>\n",
       "    </tr>\n",
       "  </tbody>\n",
       "</table>\n",
       "</div>"
      ],
      "text/plain": [
       "          ACC        AGE    INCOME   OWNRENT  SELFEMPL \n",
       "MDR                                                    \n",
       "0    0.804878  31.658537  3.302195  0.378049   0.060976\n",
       "1    0.600000  33.900000  3.575000  0.300000   0.000000\n",
       "2    0.333333  31.666667  4.630000  0.000000   0.000000\n",
       "3    0.000000  37.666667  4.003333  0.333333   0.000000\n",
       "4    0.000000  35.000000  1.500000  0.000000   0.000000\n",
       "7    0.000000  30.000000  3.000000  1.000000   0.000000"
      ]
     },
     "execution_count": 5,
     "metadata": {},
     "output_type": "execute_result"
    }
   ],
   "source": [
    "dta=dta.drop(axis=1,columns=\"AVGEXP\")\n",
    "dta.groupby('MDR').mean()"
   ]
  },
  {
   "cell_type": "code",
   "execution_count": 6,
   "metadata": {
    "scrolled": true
   },
   "outputs": [
    {
     "data": {
      "text/plain": [
       "Text(0, 0.5, 'Frequency')"
      ]
     },
     "execution_count": 6,
     "metadata": {},
     "output_type": "execute_result"
    },
    {
     "data": {
      "image/png": "[encoded data removed]",
      "text/plain": [
       "<Figure size 432x288 with 1 Axes>"
      ]
     },
     "metadata": {
      "needs_background": "light"
     },
     "output_type": "display_data"
    }
   ],
   "source": [
    "dta.AGE.hist()\n",
    "plt.title('Histogram of AGE')\n",
    "plt.xlabel('AGE')\n",
    "plt.ylabel('Frequency')"
   ]
  },
  {
   "cell_type": "code",
   "execution_count": 9,
   "metadata": {},
   "outputs": [
    {
     "data": {
      "text/plain": [
       "Text(0, 0.5, 'Frequency')"
      ]
     },
     "execution_count": 9,
     "metadata": {},
     "output_type": "execute_result"
    },
    {
     "data": {
      "image/png": "[encoded data removed]",
      "text/plain": [
       "<Figure size 432x288 with 1 Axes>"
      ]
     },
     "metadata": {
      "needs_background": "light"
     },
     "output_type": "display_data"
    }
   ],
   "source": [
    "dta.INCOME.hist()\n",
    "plt.title('Histogram of INCOME')\n",
    "plt.xlabel('INCOME')\n",
    "plt.ylabel('Frequency')"
   ]
  },
  {
   "cell_type": "code",
   "execution_count": 10,
   "metadata": {
    "scrolled": true
   },
   "outputs": [
    {
     "data": {
      "text/plain": [
       "Text(0, 0.5, 'Frequency')"
      ]
     },
     "execution_count": 10,
     "metadata": {},
     "output_type": "execute_result"
    },
    {
     "data": {
      "image/png": "[encoded data removed]",
      "text/plain": [
       "<Figure size 432x288 with 1 Axes>"
      ]
     },
     "metadata": {
      "needs_background": "light"
     },
     "output_type": "display_data"
    }
   ],
   "source": [
    "# barplot of MDR grouped by ACC (True or False)\n",
    "pd.crosstab(dta.MDR, dta.ACC.astype(bool)).plot(kind='bar')\n",
    "plt.title('MDR Distribution by ACC Status')\n",
    "plt.xlabel('MDR')\n",
    "plt.ylabel('Frequency')\n",
    "#OWNRENT,SELFEMPL"
   ]
  },
  {
   "cell_type": "code",
   "execution_count": 11,
   "metadata": {
    "scrolled": false
   },
   "outputs": [
    {
     "data": {
      "text/plain": [
       "Text(0, 0.5, 'Frequency')"
      ]
     },
     "execution_count": 11,
     "metadata": {},
     "output_type": "execute_result"
    },
    {
     "data": {
      "image/png": "[encoded data removed]",
      "text/plain": [
       "<Figure size 432x288 with 1 Axes>"
      ]
     },
     "metadata": {
      "needs_background": "light"
     },
     "output_type": "display_data"
    }
   ],
   "source": [
    "# barplot of OWNRENT grouped by ACC (True or False)\n",
    "pd.crosstab(dta.OWNRENT, dta.ACC.astype(bool)).plot(kind='bar')\n",
    "plt.title('OWNRENT Distribution by ACC Status')\n",
    "plt.xlabel('OWNRENT')\n",
    "plt.ylabel('Frequency')\n",
    "#OWNRENT,SELFEMPL"
   ]
  },
  {
   "cell_type": "code",
   "execution_count": 12,
   "metadata": {},
   "outputs": [],
   "source": [
    "dta=dta.rename(columns={\"SELFEMPL \":\"SELFEMPL\"})"
   ]
  },
  {
   "cell_type": "code",
   "execution_count": 13,
   "metadata": {},
   "outputs": [
    {
     "data": {
      "text/plain": [
       "Text(0, 0.5, 'Frequency')"
      ]
     },
     "execution_count": 13,
     "metadata": {},
     "output_type": "execute_result"
    },
    {
     "data": {
      "image/png": "[encoded data removed]",
      "text/plain": [
       "<Figure size 432x288 with 1 Axes>"
      ]
     },
     "metadata": {
      "needs_background": "light"
     },
     "output_type": "display_data"
    }
   ],
   "source": [
    "# barplot of SELFEMPL grouped by ACC (True or False)\n",
    "pd.crosstab(dta.SELFEMPL, dta.ACC.astype(bool)).plot(kind='bar')\n",
    "plt.title('SELFEMPL Distribution by ACC Status')\n",
    "plt.xlabel('SELFEMPL')\n",
    "plt.ylabel('Frequency') "
   ]
  },
  {
   "cell_type": "code",
   "execution_count": 14,
   "metadata": {},
   "outputs": [
    {
     "data": {
      "text/plain": [
       "Index(['MDR', 'ACC', 'AGE', 'INCOME', 'OWNRENT', 'SELFEMPL'], dtype='object')"
      ]
     },
     "execution_count": 14,
     "metadata": {},
     "output_type": "execute_result"
    }
   ],
   "source": [
    "dta.columns"
   ]
  },
  {
   "cell_type": "code",
   "execution_count": 15,
   "metadata": {},
   "outputs": [
    {
     "name": "stdout",
     "output_type": "stream",
     "text": [
      "Index(['Intercept', 'C(OWNRENT)[T.1]', 'C(SELFEMPL)[T.1]', 'MDR', 'AGE',\n",
      "       'INCOME'],\n",
      "      dtype='object')\n"
     ]
    }
   ],
   "source": [
    "# create dataframes with an intercept column and dummy variables for\n",
    "#  'OWNRENT' and 'SELFEMPL' \n",
    "y, X = dmatrices('ACC ~ MDR  + AGE + INCOME + C(OWNRENT) + C(SELFEMPL)',\n",
    "                  dta, return_type=\"dataframe\")\n",
    "print(X.columns)"
   ]
  },
  {
   "cell_type": "code",
   "execution_count": 17,
   "metadata": {},
   "outputs": [
    {
     "data": {
      "text/html": [
       "<div>\n",
       "<style scoped>\n",
       "    .dataframe tbody tr th:only-of-type {\n",
       "        vertical-align: middle;\n",
       "    }\n",
       "\n",
       "    .dataframe tbody tr th {\n",
       "        vertical-align: top;\n",
       "    }\n",
       "\n",
       "    .dataframe thead th {\n",
       "        text-align: right;\n",
       "    }\n",
       "</style>\n",
       "<table border=\"1\" class=\"dataframe\">\n",
       "  <thead>\n",
       "    <tr style=\"text-align: right;\">\n",
       "      <th></th>\n",
       "      <th>Intercept</th>\n",
       "      <th>C(OWNRENT)[T.1]</th>\n",
       "      <th>C(SELFEMPL)[T.1]</th>\n",
       "      <th>MDR</th>\n",
       "      <th>AGE</th>\n",
       "      <th>INCOME</th>\n",
       "    </tr>\n",
       "  </thead>\n",
       "  <tbody>\n",
       "    <tr>\n",
       "      <th>0</th>\n",
       "      <td>1.0</td>\n",
       "      <td>1.0</td>\n",
       "      <td>0.0</td>\n",
       "      <td>0.0</td>\n",
       "      <td>38.0</td>\n",
       "      <td>4.52</td>\n",
       "    </tr>\n",
       "    <tr>\n",
       "      <th>1</th>\n",
       "      <td>1.0</td>\n",
       "      <td>0.0</td>\n",
       "      <td>0.0</td>\n",
       "      <td>0.0</td>\n",
       "      <td>33.0</td>\n",
       "      <td>2.42</td>\n",
       "    </tr>\n",
       "    <tr>\n",
       "      <th>2</th>\n",
       "      <td>1.0</td>\n",
       "      <td>1.0</td>\n",
       "      <td>0.0</td>\n",
       "      <td>0.0</td>\n",
       "      <td>34.0</td>\n",
       "      <td>4.50</td>\n",
       "    </tr>\n",
       "    <tr>\n",
       "      <th>3</th>\n",
       "      <td>1.0</td>\n",
       "      <td>0.0</td>\n",
       "      <td>0.0</td>\n",
       "      <td>0.0</td>\n",
       "      <td>31.0</td>\n",
       "      <td>2.54</td>\n",
       "    </tr>\n",
       "    <tr>\n",
       "      <th>4</th>\n",
       "      <td>1.0</td>\n",
       "      <td>1.0</td>\n",
       "      <td>0.0</td>\n",
       "      <td>0.0</td>\n",
       "      <td>32.0</td>\n",
       "      <td>9.79</td>\n",
       "    </tr>\n",
       "    <tr>\n",
       "      <th>...</th>\n",
       "      <td>...</td>\n",
       "      <td>...</td>\n",
       "      <td>...</td>\n",
       "      <td>...</td>\n",
       "      <td>...</td>\n",
       "      <td>...</td>\n",
       "    </tr>\n",
       "    <tr>\n",
       "      <th>95</th>\n",
       "      <td>1.0</td>\n",
       "      <td>0.0</td>\n",
       "      <td>0.0</td>\n",
       "      <td>0.0</td>\n",
       "      <td>22.0</td>\n",
       "      <td>1.56</td>\n",
       "    </tr>\n",
       "    <tr>\n",
       "      <th>96</th>\n",
       "      <td>1.0</td>\n",
       "      <td>1.0</td>\n",
       "      <td>0.0</td>\n",
       "      <td>1.0</td>\n",
       "      <td>33.0</td>\n",
       "      <td>6.00</td>\n",
       "    </tr>\n",
       "    <tr>\n",
       "      <th>97</th>\n",
       "      <td>1.0</td>\n",
       "      <td>0.0</td>\n",
       "      <td>0.0</td>\n",
       "      <td>1.0</td>\n",
       "      <td>25.0</td>\n",
       "      <td>3.60</td>\n",
       "    </tr>\n",
       "    <tr>\n",
       "      <th>98</th>\n",
       "      <td>1.0</td>\n",
       "      <td>1.0</td>\n",
       "      <td>0.0</td>\n",
       "      <td>0.0</td>\n",
       "      <td>26.0</td>\n",
       "      <td>5.00</td>\n",
       "    </tr>\n",
       "    <tr>\n",
       "      <th>99</th>\n",
       "      <td>1.0</td>\n",
       "      <td>1.0</td>\n",
       "      <td>0.0</td>\n",
       "      <td>0.0</td>\n",
       "      <td>46.0</td>\n",
       "      <td>5.50</td>\n",
       "    </tr>\n",
       "  </tbody>\n",
       "</table>\n",
       "<p>100 rows × 6 columns</p>\n",
       "</div>"
      ],
      "text/plain": [
       "    Intercept  C(OWNRENT)[T.1]  C(SELFEMPL)[T.1]  MDR   AGE  INCOME\n",
       "0         1.0              1.0               0.0  0.0  38.0    4.52\n",
       "1         1.0              0.0               0.0  0.0  33.0    2.42\n",
       "2         1.0              1.0               0.0  0.0  34.0    4.50\n",
       "3         1.0              0.0               0.0  0.0  31.0    2.54\n",
       "4         1.0              1.0               0.0  0.0  32.0    9.79\n",
       "..        ...              ...               ...  ...   ...     ...\n",
       "95        1.0              0.0               0.0  0.0  22.0    1.56\n",
       "96        1.0              1.0               0.0  1.0  33.0    6.00\n",
       "97        1.0              0.0               0.0  1.0  25.0    3.60\n",
       "98        1.0              1.0               0.0  0.0  26.0    5.00\n",
       "99        1.0              1.0               0.0  0.0  46.0    5.50\n",
       "\n",
       "[100 rows x 6 columns]"
      ]
     },
     "execution_count": 17,
     "metadata": {},
     "output_type": "execute_result"
    }
   ],
   "source": [
    "X"
   ]
  },
  {
   "cell_type": "code",
   "execution_count": 18,
   "metadata": {},
   "outputs": [],
   "source": [
    "y = np.ravel(y)\n",
    "#  A column-vector y was passed when a 1d array was expected."
   ]
  },
  {
   "cell_type": "markdown",
   "metadata": {},
   "source": [
    "### Logistic Reg"
   ]
  },
  {
   "cell_type": "code",
   "execution_count": 14,
   "metadata": {},
   "outputs": [
    {
     "name": "stdout",
     "output_type": "stream",
     "text": [
      "Index(['Intercept', 'C(OWNRENT)[T.1]', 'C(SELFEMPL)[T.1]', 'MDR', 'AGE',\n",
      "       'INCOME'],\n",
      "      dtype='object')\n",
      "[ 1.09348933e-05  5.84694955e-02 -1.26789758e+00 -1.18210964e+00\n",
      " -6.52392572e-02  2.44608895e-01]\n"
     ]
    }
   ],
   "source": [
    "# instantiate a logistic regression model, and fit with X and y\n",
    "model = LogisticRegression(max_iter=1000)\n",
    "modelres = model.fit(X, y)\n",
    "print(X.columns)\n",
    "print(modelres.coef_[0])\n"
   ]
  },
  {
   "cell_type": "code",
   "execution_count": 15,
   "metadata": {
    "scrolled": true
   },
   "outputs": [
    {
     "name": "stdout",
     "output_type": "stream",
     "text": [
      "0.78\n",
      "0.73\n"
     ]
    }
   ],
   "source": [
    "# check the accuracy on the training set\n",
    "print(modelres.score(X, y))\n",
    "# what percentage application accepted?\n",
    "print(y.mean())"
   ]
  },
  {
   "cell_type": "code",
   "execution_count": 16,
   "metadata": {},
   "outputs": [
    {
     "name": "stdout",
     "output_type": "stream",
     "text": [
      "    y_Actual  y_Predicted\n",
      "0        1.0          1.0\n",
      "1        1.0          1.0\n",
      "2        1.0          1.0\n",
      "3        1.0          1.0\n",
      "4        1.0          1.0\n",
      "..       ...          ...\n",
      "95       1.0          1.0\n",
      "96       1.0          1.0\n",
      "97       1.0          1.0\n",
      "98       1.0          1.0\n",
      "99       1.0          1.0\n",
      "\n",
      "[100 rows x 2 columns]\n"
     ]
    }
   ],
   "source": [
    "data = {'y_Actual':   y,\n",
    "        'y_Predicted': modelres.predict(X) \n",
    "        }\n",
    "df = pd.DataFrame(data, columns=['y_Actual','y_Predicted'])\n",
    "print(df)\n",
    "#modelres.predict_proba(X)"
   ]
  },
  {
   "cell_type": "code",
   "execution_count": 17,
   "metadata": {
    "scrolled": false
   },
   "outputs": [
    {
     "data": {
      "image/png": "[encoded data removed]",
      "text/plain": [
       "<Figure size 432x288 with 2 Axes>"
      ]
     },
     "metadata": {
      "needs_background": "light"
     },
     "output_type": "display_data"
    }
   ],
   "source": [
    "import pandas as pd\n",
    "import seaborn as sn\n",
    "import matplotlib.pyplot as plt \n",
    "confusion_matrix = pd.crosstab(df['y_Actual'], df['y_Predicted'], rownames=['Actual'], colnames=['Predicted'])\n",
    "sn.heatmap(confusion_matrix, annot=True)\n",
    "plt.show()"
   ]
  },
  {
   "cell_type": "code",
   "execution_count": 18,
   "metadata": {},
   "outputs": [
    {
     "name": "stdout",
     "output_type": "stream",
     "text": [
      "[[ 7 20]\n",
      " [ 2 71]]\n",
      "              precision    recall  f1-score   support\n",
      "\n",
      "         0.0       0.78      0.26      0.39        27\n",
      "         1.0       0.78      0.97      0.87        73\n",
      "\n",
      "    accuracy                           0.78       100\n",
      "   macro avg       0.78      0.62      0.63       100\n",
      "weighted avg       0.78      0.78      0.74       100\n",
      "\n"
     ]
    }
   ],
   "source": [
    "print(metrics.confusion_matrix(y, model.predict(X)))\n",
    "print(metrics.classification_report(y, model.predict(X)))"
   ]
  },
  {
   "cell_type": "markdown",
   "metadata": {
    "slideshow": {
     "slide_type": "slide"
    }
   },
   "source": [
    "# 决策树\n",
    "\n",
    "http://dataaspirant.com/2017/02/01/decision-tree-algorithm-python-with-scikit-learn/\n",
    "\n",
    "http://archive.ics.uci.edu/ml/datasets/default+of+credit+card+clients\n",
    "\n",
    "http://archive.ics.uci.edu/ml/datasets/Dow+Jones+Index\n",
    "\n",
    " "
   ]
  },
  {
   "cell_type": "markdown",
   "metadata": {
    "slideshow": {
     "slide_type": "slide"
    }
   },
   "source": [
    "![](B03905_05_01-compressor.png)"
   ]
  },
  {
   "cell_type": "markdown",
   "metadata": {
    "slideshow": {
     "slide_type": "slide"
    }
   },
   "source": [
    "### scikit-learn决策树结果的可视化\n",
    "\n",
    "决策树可视化可以方便我们直观的观察模型，以及发现模型中的问题。\n",
    "\n",
    "### 决策树可视化环境搭建\n",
    "scikit-learn中决策树的可视化一般需要安装graphviz。主要包括graphviz的安装和python的graphviz插件的安装。\n",
    "\n",
    "   + 第一步是安装graphviz。下载地址是： http://www.graphviz.org/ 。如果你是Linux系统，可以用apt-get或者yum的方法安装。如果是Windows，就在官网上下载msi文件安装。无论是Linux还是Windows，装完后都要设置环境变量，将graphviz的bin目录加到PATH中，比如我是Windows，则需要将C:\\Program Files\\Graphviz\\bin\\加入到PATH中。\n",
    "    \n",
    "   + 第二步是安装python的graphviz插件，执行下面的安装命令即可： pip install graphviz。(conda)\n",
    "    \n",
    "   + 第三步是安装python的pydotplus（或者 pydot插件），执行下面的安装命令即可：pip install pydotplus。(conda),或者 pip install pydot\n",
    "    \n",
    "   + 第四步是安装ipython的notebook，执行下面的安装命令即可：pip install notebook。\n",
    "    \n",
    "这样环境就搭建好了，有时候python会很笨，仍然找不到graphviz，这时，可以在代码里面加入这一行：\n",
    "    os.environ[\"PATH\"] += os.pathsep + 'C:/Program Files (x86)/Graphviz2.38/bin/'\n",
    "注意后面的路径是你自己的graphviz的bin目录。\n"
   ]
  },
  {
   "cell_type": "markdown",
   "metadata": {
    "slideshow": {
     "slide_type": "slide"
    }
   },
   "source": [
    "## 决策树的基本介绍\n",
    "+ 决策树用于分类和回归。\n",
    "+ 其以一种树状的形式实现很多if then决策问题。\n",
    "\n",
    "方法：\n",
    "\n",
    "+ 首先用\"最好\"的变量构成if 条件作为树的根\n",
    "+ 然后将训练集继续分割，每次使用一个变量\n",
    "+ 重复上述过程直到得到满意的叶子结点。 "
   ]
  },
  {
   "cell_type": "markdown",
   "metadata": {
    "slideshow": {
     "slide_type": "slide"
    }
   },
   "source": [
    "## 划分\n",
    "\n",
    "+ 决策树将样本空间分割为很多小的子集。分割的目的是使得每个子集中的样本性质更加一致，即具有相同的类别或相近的目标取值。 \n",
    "+ 如何分割：连续变量，离散变量\n",
    "\n",
    "X，0.1，9，10...$ X>x_0$ \n",
    "\n",
    "\n",
    "$X\\in \\{\"1\",\"2\",\"3\"\\}$\n",
    "\"1\"-----\"2\",\"3\"\n"
   ]
  },
  {
   "cell_type": "markdown",
   "metadata": {
    "slideshow": {
     "slide_type": "slide"
    }
   },
   "source": [
    "## 划分准则\n",
    "\n",
    "+ 选择什么变量？\n",
    "如果变量包含了n个变量，在根节点，或者在任何一个结点，选择哪个变量其实是很复杂的。如果只是随机的选择，结果可能会比较差。\n",
    "\n",
    "+ 遵循什么法则\n",
    "    + Information gain,信息增益，基于信息熵的准则。  \n",
    "         + 熵(Entropy)用来度量一个随机变量的随机性或者说不确定性。  \n",
    "         对于一个两分类问题（正负），如果所有样本都是正或者都是负，熵为0，确定性最高，熵最低；  \n",
    "         如果有一半是正的，一半是负的，则熵为1，随机性最高，熵最高。  \n",
    "         熵的定义为：\n",
    "     $$H(X)=-\\sum_{x\\in \\mathbb{X}}p(x)\\log_2 p(x)$$     \n",
    "    + Gini index，基尼指数准则\n",
    "        + 记分类变量 Y的水平数为$|Y|$，$p_k=P(Y=k)$\n",
    "      $$\\mbox{Gini index}=\\sum_{k=1}^{|Y|}\\sum_{k'\\neq k}p_kp_{k'}=1-\\sum_{j}p_j^2$$\n",
    "        + 直观反映从数据中随机抽取两个样本，其类别标记$Y$的取值不一致的概率。上述值越小，数据类别的纯度越高。"
   ]
  },
  {
   "cell_type": "code",
   "execution_count": 7,
   "metadata": {},
   "outputs": [],
   "source": [
    "import numpy as np\n",
    "import matplotlib as mpl\n",
    "import matplotlib.pyplot as plt\n",
    "%matplotlib inline\n",
    "import pandas as pd\n",
    "A=[4.8,5,5,5.2,5.2,4.7,4.8,5.4,7,6.4,6.9,5.5,6.5,5.7,6.3,4.9]\n",
    "B=[3.4,3,3.4,3.5,3.4,3.2,3.2,3.4,3.2,3.2,3.1,2.3,2.8,2.8,3.3,2.4]\n",
    "C=[1.9,1.6,1.6,1.5,1.4,1.6,1.6,1.5,4.7,4.5,4.9,4,4.6,4.5,4.7,3.3]\n",
    "D=[0.2,0.2,0.4,0.2,0.2,0.2,0.2,0.4,1.4,1.5,1.5,1.3,1.5,1.3,1.6,1]\n",
    "cols=[\"red\"]*8+[\"blue\"]*8\n",
    "E=[\"positive\"]*8+[\"negative\"]*8\n",
    "data=pd.DataFrame([A,B,C,D,E]).T\n",
    "data.columns= [\"A\",\"B\",\"C\",\"D\",\"E\"]"
   ]
  },
  {
   "cell_type": "code",
   "execution_count": 20,
   "metadata": {},
   "outputs": [
    {
     "data": {
      "text/html": [
       "<div>\n",
       "<style scoped>\n",
       "    .dataframe tbody tr th:only-of-type {\n",
       "        vertical-align: middle;\n",
       "    }\n",
       "\n",
       "    .dataframe tbody tr th {\n",
       "        vertical-align: top;\n",
       "    }\n",
       "\n",
       "    .dataframe thead th {\n",
       "        text-align: right;\n",
       "    }\n",
       "</style>\n",
       "<table border=\"1\" class=\"dataframe\">\n",
       "  <thead>\n",
       "    <tr style=\"text-align: right;\">\n",
       "      <th></th>\n",
       "      <th>A</th>\n",
       "      <th>B</th>\n",
       "      <th>C</th>\n",
       "      <th>D</th>\n",
       "      <th>E</th>\n",
       "    </tr>\n",
       "  </thead>\n",
       "  <tbody>\n",
       "    <tr>\n",
       "      <th>0</th>\n",
       "      <td>4.8</td>\n",
       "      <td>3.4</td>\n",
       "      <td>1.9</td>\n",
       "      <td>0.2</td>\n",
       "      <td>positive</td>\n",
       "    </tr>\n",
       "    <tr>\n",
       "      <th>1</th>\n",
       "      <td>5</td>\n",
       "      <td>3</td>\n",
       "      <td>1.6</td>\n",
       "      <td>0.2</td>\n",
       "      <td>positive</td>\n",
       "    </tr>\n",
       "    <tr>\n",
       "      <th>2</th>\n",
       "      <td>5</td>\n",
       "      <td>3.4</td>\n",
       "      <td>1.6</td>\n",
       "      <td>0.4</td>\n",
       "      <td>positive</td>\n",
       "    </tr>\n",
       "    <tr>\n",
       "      <th>3</th>\n",
       "      <td>5.2</td>\n",
       "      <td>3.5</td>\n",
       "      <td>1.5</td>\n",
       "      <td>0.2</td>\n",
       "      <td>positive</td>\n",
       "    </tr>\n",
       "    <tr>\n",
       "      <th>4</th>\n",
       "      <td>5.2</td>\n",
       "      <td>3.4</td>\n",
       "      <td>1.4</td>\n",
       "      <td>0.2</td>\n",
       "      <td>positive</td>\n",
       "    </tr>\n",
       "    <tr>\n",
       "      <th>5</th>\n",
       "      <td>4.7</td>\n",
       "      <td>3.2</td>\n",
       "      <td>1.6</td>\n",
       "      <td>0.2</td>\n",
       "      <td>positive</td>\n",
       "    </tr>\n",
       "    <tr>\n",
       "      <th>6</th>\n",
       "      <td>4.8</td>\n",
       "      <td>3.2</td>\n",
       "      <td>1.6</td>\n",
       "      <td>0.2</td>\n",
       "      <td>positive</td>\n",
       "    </tr>\n",
       "    <tr>\n",
       "      <th>7</th>\n",
       "      <td>5.4</td>\n",
       "      <td>3.4</td>\n",
       "      <td>1.5</td>\n",
       "      <td>0.4</td>\n",
       "      <td>positive</td>\n",
       "    </tr>\n",
       "    <tr>\n",
       "      <th>8</th>\n",
       "      <td>7</td>\n",
       "      <td>3.2</td>\n",
       "      <td>4.7</td>\n",
       "      <td>1.4</td>\n",
       "      <td>negative</td>\n",
       "    </tr>\n",
       "    <tr>\n",
       "      <th>9</th>\n",
       "      <td>6.4</td>\n",
       "      <td>3.2</td>\n",
       "      <td>4.5</td>\n",
       "      <td>1.5</td>\n",
       "      <td>negative</td>\n",
       "    </tr>\n",
       "    <tr>\n",
       "      <th>10</th>\n",
       "      <td>6.9</td>\n",
       "      <td>3.1</td>\n",
       "      <td>4.9</td>\n",
       "      <td>1.5</td>\n",
       "      <td>negative</td>\n",
       "    </tr>\n",
       "    <tr>\n",
       "      <th>11</th>\n",
       "      <td>5.5</td>\n",
       "      <td>2.3</td>\n",
       "      <td>4</td>\n",
       "      <td>1.3</td>\n",
       "      <td>negative</td>\n",
       "    </tr>\n",
       "    <tr>\n",
       "      <th>12</th>\n",
       "      <td>6.5</td>\n",
       "      <td>2.8</td>\n",
       "      <td>4.6</td>\n",
       "      <td>1.5</td>\n",
       "      <td>negative</td>\n",
       "    </tr>\n",
       "    <tr>\n",
       "      <th>13</th>\n",
       "      <td>5.7</td>\n",
       "      <td>2.8</td>\n",
       "      <td>4.5</td>\n",
       "      <td>1.3</td>\n",
       "      <td>negative</td>\n",
       "    </tr>\n",
       "    <tr>\n",
       "      <th>14</th>\n",
       "      <td>6.3</td>\n",
       "      <td>3.3</td>\n",
       "      <td>4.7</td>\n",
       "      <td>1.6</td>\n",
       "      <td>negative</td>\n",
       "    </tr>\n",
       "    <tr>\n",
       "      <th>15</th>\n",
       "      <td>4.9</td>\n",
       "      <td>2.4</td>\n",
       "      <td>3.3</td>\n",
       "      <td>1</td>\n",
       "      <td>negative</td>\n",
       "    </tr>\n",
       "  </tbody>\n",
       "</table>\n",
       "</div>"
      ],
      "text/plain": [
       "      A    B    C    D         E\n",
       "0   4.8  3.4  1.9  0.2  positive\n",
       "1     5    3  1.6  0.2  positive\n",
       "2     5  3.4  1.6  0.4  positive\n",
       "3   5.2  3.5  1.5  0.2  positive\n",
       "4   5.2  3.4  1.4  0.2  positive\n",
       "5   4.7  3.2  1.6  0.2  positive\n",
       "6   4.8  3.2  1.6  0.2  positive\n",
       "7   5.4  3.4  1.5  0.4  positive\n",
       "8     7  3.2  4.7  1.4  negative\n",
       "9   6.4  3.2  4.5  1.5  negative\n",
       "10  6.9  3.1  4.9  1.5  negative\n",
       "11  5.5  2.3    4  1.3  negative\n",
       "12  6.5  2.8  4.6  1.5  negative\n",
       "13  5.7  2.8  4.5  1.3  negative\n",
       "14  6.3  3.3  4.7  1.6  negative\n",
       "15  4.9  2.4  3.3    1  negative"
      ]
     },
     "execution_count": 20,
     "metadata": {},
     "output_type": "execute_result"
    }
   ],
   "source": [
    "data"
   ]
  },
  {
   "cell_type": "markdown",
   "metadata": {
    "slideshow": {
     "slide_type": "slide"
    }
   },
   "source": [
    "##  用 Gini index 示范\n",
    "\n",
    "<div style=\"float:left;border:solid 1px 000;margin:15px;\"><img src=\"figures/treedata.png\"  width=\"400\" height=\"520\" ></div> \n",
    "\n",
    "+ 利用左边数据，我们使用Gini准则来生成决策树。\n",
    "\n",
    " $\\mbox{Gini index}=1-\\sum_{j}p_j^2$\n",
    "+ 四个变量数据是连续型，最后一个两值变量是我们的分类目标。\n",
    "+ 假设我们在这个例子根据给定的值进行了如下离散化：\n",
    "\n",
    "A |\tB |\tC |\tD\n",
    "-----|-----|-----|-----\n",
    "$\\ge$ 5 |$\\ge$  3.0|\t$\\ge$ 4.2 |\t$\\ge$  1.4\n",
    "< 5 |\t< 3.0 |\t< 4.2 |\t< 1.4\n",
    "\n",
    "+ 决策树算法中，我们可以遍历可能的分割点"
   ]
  },
  {
   "cell_type": "markdown",
   "metadata": {
    "slideshow": {
     "slide_type": "slide"
    }
   },
   "source": [
    " <div style=\"float:left;border:solid 1px 000;margin:15px;\"><img src=\"figures/treedata.png\"  width=\"400\" height=\"820\" ></div>  \n",
    "\n",
    "计算变量A的Gini Index，首先给出列联表\n",
    "\n",
    " $ \\quad$  |\t 正 |\t负\t \n",
    "-----|-----|----- \n",
    "$A\\ge 5$  | 5|7 \n",
    "$A<5$  |\t 3|1\n",
    " \n",
    "\n",
    "\n",
    "\n",
    "\n",
    "+ For Var A $\\ge$ 5 & class == positive: 5/12\n",
    "\n",
    "+ For Var A $\\ge$ 5 & class == negative: 7/12\n",
    "     $$gini(5,7) = 1- ( (5/12)^2 + (7/12)^2 ) = 0.4860$$\n",
    "     \n",
    "+ For Var A <5 & class == positive: 3/4\n",
    "\n",
    "+ For Var A <5 & class == negative: 1/4\n",
    "     $$gini(3,1) = 1- ( (3/4)^2 + (1/4)^2 ) = 0.375$$     \n",
    "A 的gini index 为 两部分的加权：\n",
    "$$\\begin{array}{ll}gini(Target,A)=&(12/16)*(0.486)\\\\&+(4/16)*(0.375)={\\color{red}{0.45825}}\\\\\\end{array}$$\n",
    "+ 同理，我们可以得到：\n",
    "$$\\begin{array}{rl}gini(Target,B)=&{\\color{red}{0.3345}}\\\\\\end{array}$$\n",
    "$$\\begin{array}{rl}gini(Target,C)=&{\\color{red}{0.2}}\\\\\\end{array}$$\n",
    "$$\\begin{array}{rl}gini(Target,D)=&{\\color{red}{0.273}}\\\\\\end{array}$$\n",
    "\n"
   ]
  },
  {
   "cell_type": "code",
   "execution_count": 8,
   "metadata": {
    "scrolled": false,
    "slideshow": {
     "slide_type": "slide"
    }
   },
   "outputs": [
    {
     "data": {
      "text/plain": [
       "Text(0, 0.5, 'C')"
      ]
     },
     "execution_count": 8,
     "metadata": {},
     "output_type": "execute_result"
    },
    {
     "data": {
      "image/png": "[encoded data removed]",
      "text/plain": [
       "<Figure size 432x288 with 1 Axes>"
      ]
     },
     "metadata": {
      "needs_background": "light"
     },
     "output_type": "display_data"
    }
   ],
   "source": [
    "plt.scatter(data[\"D\"],data[\"C\"],c=cols) \n",
    "plt.xlim=(0,2)\n",
    "plt.plot([0,2],[4.2,4.2]) \n",
    "plt.xlabel(\"D\")\n",
    "plt.ylabel(\"C\")\n",
    "#C,D都可以完全区分样本的类别。"
   ]
  },
  {
   "cell_type": "code",
   "execution_count": 9,
   "metadata": {
    "scrolled": true,
    "slideshow": {
     "slide_type": "slide"
    }
   },
   "outputs": [],
   "source": [
    "from sklearn import tree\n",
    "import pydot\n",
    "%matplotlib inline\n",
    "from IPython.display import Image\n",
    "import os\n",
    "os.environ[\"PATH\"] += os.pathsep + 'C:/Program Files/Graphviz/bin'\n",
    "\n",
    "clf = tree.DecisionTreeClassifier()\n",
    "clf = clf.fit(data[[\"A\",\"B\",\"C\",\"D\"]], data[[\"E\"]])\n",
    "\n",
    "##注意：\n",
    "dot_data = tree.export_graphviz(clf, out_file=\"temptree.dot\", feature_names=[\"A\",\"B\",\"C\",\"D\"],\n",
    "                                class_names=np.unique(data[[\"E\"]]),\n",
    "                                filled=True, rounded=True,)\n",
    "\n",
    "##"
   ]
  },
  {
   "cell_type": "code",
   "execution_count": 10,
   "metadata": {
    "scrolled": true
   },
   "outputs": [
    {
     "data": {
      "text/plain": [
       "[Text(334.8, 244.62, 'X[3] <= 0.7\\ngini = 0.5\\nsamples = 16\\nvalue = [8, 8]'),\n",
       " Text(167.4, 81.54000000000002, 'gini = 0.0\\nsamples = 8\\nvalue = [0, 8]'),\n",
       " Text(502.20000000000005, 81.54000000000002, 'gini = 0.0\\nsamples = 8\\nvalue = [8, 0]')]"
      ]
     },
     "execution_count": 10,
     "metadata": {},
     "output_type": "execute_result"
    },
    {
     "data": {
      "image/png": "[encoded data removed]",
      "text/plain": [
       "<Figure size 864x432 with 1 Axes>"
      ]
     },
     "metadata": {
      "needs_background": "light"
     },
     "output_type": "display_data"
    }
   ],
   "source": [
    "plt.figure(figsize=(12,6))\n",
    "tree.plot_tree(clf)  "
   ]
  },
  {
   "cell_type": "code",
   "execution_count": 11,
   "metadata": {},
   "outputs": [],
   "source": [
    "tree.plot_tree??"
   ]
  },
  {
   "cell_type": "code",
   "execution_count": 25,
   "metadata": {},
   "outputs": [
    {
     "data": {
      "image/png": "[encoded data removed]",
      "text/plain": [
       "<IPython.core.display.Image object>"
      ]
     },
     "execution_count": 25,
     "metadata": {},
     "output_type": "execute_result"
    }
   ],
   "source": [
    "dot_file=r\"./temptree.dot\"\n",
    "graph = pydot.graph_from_dot_file(dot_file)  \n",
    "Image(graph[0].create_png())\n",
    " "
   ]
  },
  {
   "cell_type": "code",
   "execution_count": 26,
   "metadata": {},
   "outputs": [
    {
     "data": {
      "text/plain": [
       "array(['negative'], dtype=object)"
      ]
     },
     "execution_count": 26,
     "metadata": {},
     "output_type": "execute_result"
    }
   ],
   "source": [
    "#预测分类,\n",
    "clf.predict([[2., 2.,2.,2]])\n"
   ]
  },
  {
   "cell_type": "code",
   "execution_count": 27,
   "metadata": {},
   "outputs": [
    {
     "data": {
      "text/plain": [
       "array([[1., 0.]])"
      ]
     },
     "execution_count": 27,
     "metadata": {},
     "output_type": "execute_result"
    }
   ],
   "source": [
    "#预测概率\n",
    "clf.predict_proba([[2., 2.,2,2]])"
   ]
  },
  {
   "cell_type": "markdown",
   "metadata": {},
   "source": [
    "下面看一个复杂一点的例子。"
   ]
  },
  {
   "cell_type": "code",
   "execution_count": 28,
   "metadata": {
    "scrolled": false
   },
   "outputs": [
    {
     "data": {
      "text/plain": [
       "(['sepal length (cm)',\n",
       "  'sepal width (cm)',\n",
       "  'petal length (cm)',\n",
       "  'petal width (cm)'],\n",
       " array(['setosa', 'versicolor', 'virginica'], dtype='<U10'))"
      ]
     },
     "execution_count": 28,
     "metadata": {},
     "output_type": "execute_result"
    }
   ],
   "source": [
    "from sklearn.datasets import load_iris\n",
    "\n",
    "data = load_iris()\n",
    "\n",
    "data.feature_names,data.target_names"
   ]
  },
  {
   "cell_type": "markdown",
   "metadata": {},
   "source": [
    "+ 分别是花萼长度(cm)、花萼宽度(cm)、花瓣长度(cm)、花瓣宽度(cm)，\n",
    "+ 山鸢尾花(Iris Setosa),变色鸢尾花(Iris Versicolor)和维吉尼亚鸢尾花(Iris Virginica)"
   ]
  },
  {
   "cell_type": "markdown",
   "metadata": {},
   "source": [
    "https://blog.csdn.net/u013019338/article/details/87475669 "
   ]
  },
  {
   "cell_type": "code",
   "execution_count": 29,
   "metadata": {
    "scrolled": false
   },
   "outputs": [
    {
     "data": {
      "image/png": "[encoded data removed]",
      "text/plain": [
       "<IPython.core.display.Image object>"
      ]
     },
     "execution_count": 29,
     "metadata": {},
     "output_type": "execute_result"
    }
   ],
   "source": [
    "\n",
    "clf = tree.DecisionTreeClassifier()\n",
    "clf = clf.fit(data.data, data.target)\n",
    "\n",
    "dot_data = tree.export_graphviz(clf, out_file=\"temptree.dot\",\n",
    "                                feature_names=data.feature_names,\n",
    "                                class_names=data.target_names,\n",
    "                                filled=True, rounded=True,\n",
    "                                special_characters=True)\n",
    "\n",
    "dot_file=r'.\\temptree.dot'\n",
    "graph = pydot.graph_from_dot_file(dot_file)[0]  \n",
    "Image(graph.create_png())\n",
    "#写到pdf文件\n",
    "#graph.write_pdf(\"iris1.pdf\")"
   ]
  }
 ],
 "metadata": {
  "anaconda-cloud": {},
  "celltoolbar": "Slideshow",
  "kernelspec": {
   "display_name": "Python 3 (ipykernel)",
   "language": "python",
   "name": "python3"
  },
  "language_info": {
   "codemirror_mode": {
    "name": "ipython",
    "version": 3
   },
   "file_extension": ".py",
   "mimetype": "text/x-python",
   "name": "python",
   "nbconvert_exporter": "python",
   "pygments_lexer": "ipython3",
   "version": "3.9.7"
  },
  "latex_envs": {
   "LaTeX_envs_menu_present": true,
   "autoclose": false,
   "autocomplete": true,
   "bibliofile": "biblio.bib",
   "cite_by": "apalike",
   "current_citInitial": 1,
   "eqLabelWithNumbers": true,
   "eqNumInitial": 1,
   "hotkeys": {
    "equation": "Ctrl-E",
    "itemize": "Ctrl-I"
   },
   "labels_anchors": false,
   "latex_user_defs": false,
   "report_style_numbering": false,
   "user_envs_cfg": false
  }
 },
 "nbformat": 4,
 "nbformat_minor": 1
}
