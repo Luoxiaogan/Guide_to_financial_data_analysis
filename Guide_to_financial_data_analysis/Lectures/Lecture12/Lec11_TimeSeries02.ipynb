{
 "cells": [
  {
   "cell_type": "markdown",
   "metadata": {
    "slideshow": {
     "slide_type": "slide"
    }
   },
   "source": [
    "##  五： 自回归模型\n",
    "\n",
    "若序列表现出一定的相关性，则历史数据可能对预测未来有一定帮助，考虑简单情形，${r_t}$ 可以写为${r_{t - 1}}$ 的线性模型\n",
    "\n",
    "$${r_t} = {\\phi _0} + {\\phi _1}{r_{t - 1}} + {\\varepsilon _t},\\quad \\varepsilon_t\\sim WN(0,\\sigma^2)$$\n",
    "\n",
    "其中${\\varepsilon _t}$ 为期望为0方差为${\\sigma ^2}$ 的白噪声序列。上述模型称为一阶自回归模型，记为AR(1)模型。"
   ]
  },
  {
   "cell_type": "markdown",
   "metadata": {
    "slideshow": {
     "slide_type": "slide"
    }
   },
   "source": [
    "**条件期望和方差**\n",
    "\n",
    "利用一阶自回归模型，可以推断：给定前一天历史收益率条件下，当天收益率的期望和方差\n",
    "\n",
    "$$E\\left( {{r_t}|{r_{t - 1}}} \\right) = {\\phi _0} + {\\phi _1}{r_{t - 1}},\\quad {\\mathop{\\rm var}} \\left( {{r_t}|{r_{t - 1}}} \\right) = {\\sigma ^2}$$\n",
    "\n",
    "可以看出，此时的条件期望不再是收益率的长期期望（无条件期望）0，条件方差也不是收益率的长期方差。条件收益率是以新的${\\phi _0} + {\\phi _1}{r_{t - 1}}$ 为中心，以白噪声方差为方差的分布。\n",
    "\n",
    "假设$E\\left( {{\\varepsilon_t}|{r_{t - 1}}} \\right)=0$"
   ]
  },
  {
   "cell_type": "markdown",
   "metadata": {
    "slideshow": {
     "slide_type": "slide"
    }
   },
   "source": [
    "**AR(1)模型的期望**\n",
    "\n",
    "我们来看看最简单的一阶自回归模型的性质。模型表示为\n",
    "  $${r_t} = {\\phi _0} + {\\phi _1}{r_{t - 1}} + {\\varepsilon _t},\\quad {\\varepsilon _t}\\sim WN\\left( {0,{\\sigma ^2}} \\right)$$\n",
    "如果序列平稳，则期望为\n",
    " $$E\\left( {{r_t}} \\right) = \\frac{{{\\phi _0}}}{{1 - {\\phi _1}}}.$$\n",
    " \n"
   ]
  },
  {
   "cell_type": "markdown",
   "metadata": {
    "slideshow": {
     "slide_type": "slide"
    }
   },
   "source": [
    "**因果性条件或合理性条件**\n",
    "\n",
    "对时间序列来说，${\\varepsilon _t}$ 表示$t$ 时刻的白噪声，在金融时间序列中，我们称其为扰动或冲击，即由第$t$  日的新信息带来的序列变化。因此，基于新信息的性质，我们有理由假设${r_{t - j}},j > 0$ 和${\\varepsilon _t}$ 是线性无关的，即${\\mathop{\\rm cov}} \\left( {{r_{t - j}},{\\varepsilon _t}} \\right) = E\\left( {{r_{t - j}}{\\varepsilon _t}} \\right) = 0$ ，有时也称这个条件为因果性条件或合理性条件。"
   ]
  },
  {
   "cell_type": "markdown",
   "metadata": {
    "slideshow": {
     "slide_type": "slide"
    }
   },
   "source": [
    "**AR(1)模型的方差**\n",
    "\n",
    "\n",
    "考虑零均值的一阶自回归模型\n",
    "$${r_t} = {\\phi _1}{r_{t - 1}} + {\\varepsilon _t}$$\n",
    "两边同时取方差，有\n",
    "$${\\gamma _0} = {\\mathop{\\rm var}} \\left( {{r_t}} \\right) = E\\left[ {{{\\left( {{\\phi _1}{r_{t - 1}} + {\\varepsilon _t}} \\right)}^2}} \\right] = \\phi _1^2{\\gamma _0} + {\\sigma ^2}$$\n",
    "\n",
    "可得\n",
    " $${\\gamma _0} = \\frac{{{\\sigma ^2}}}{{1 - \\phi _1^2}}$$\n",
    " "
   ]
  },
  {
   "cell_type": "markdown",
   "metadata": {
    "slideshow": {
     "slide_type": "slide"
    }
   },
   "source": [
    "**模型平稳的充要条件**\n",
    "\n",
    "由 $${\\gamma _0} = \\frac{{{\\sigma ^2}}}{{1 - \\phi _1^2}}$$\n",
    " 我们必须要求${\\rm{|}}{\\phi _1}{\\rm{| < 1}}$ 。这同样也是一阶自回归模型平稳的充分条件。"
   ]
  },
  {
   "cell_type": "markdown",
   "metadata": {
    "slideshow": {
     "slide_type": "slide"
    }
   },
   "source": [
    "**AR(1)的线性时间序列表示**\n",
    "\n",
    "当平稳条件成立时，我们可以用白噪声表示${r_t}$\n",
    "\n",
    "$${r_t} = \\frac{{{\\phi _0}}}{{1 - {\\phi _1}}} + \\sum\\limits_{j = 0}^\\infty  {{{\\left( {{\\phi _1}} \\right)}^j}{\\varepsilon _{t - j}}} $$\n",
    " \n",
    "我们可以通过这个表示计算方差及验证因果性条件：\n",
    "\n",
    "$${\\gamma _0} = {\\sigma ^2}\\sum\\limits_{j = 0}^\\infty  {\\phi _1^{2j}}  = \\frac{{{\\sigma ^2}}}{{1 - \\phi _1^2}}$$\n",
    "$$E\\left( {{r_{t-j}}{\\varepsilon _{t}}} \\right) = 0,j > 0$$"
   ]
  },
  {
   "cell_type": "markdown",
   "metadata": {
    "slideshow": {
     "slide_type": "slide"
    }
   },
   "source": [
    "**AR(1)自相关函数，Yule-Walker方程**\n",
    "\n",
    "我们在零均值一阶自回归模型两端同时乘${r_t}$ 并取期望，得到${\\gamma _0} = {\\phi _1}{\\gamma _1} + {\\sigma ^2}$，即\n",
    "  $${\\gamma _0} = {\\phi _1}{\\gamma _1} + {\\sigma ^2}$$\n",
    "两端同时乘${r_{t - k}}$ 并取期望，得\n",
    " \n",
    "$${\\gamma _k} = {\\phi _1}{\\gamma _{k - 1}}$$\n",
    "\n",
    "这说明一阶自回归模型的协方差函数满足序列相同的形式。这个方程称为自协方差函数的Yule-Walker方程。"
   ]
  },
  {
   "cell_type": "markdown",
   "metadata": {
    "slideshow": {
     "slide_type": "slide"
    }
   },
   "source": [
    "**AR(1)自相关函数的收敛性**\n",
    "\n",
    "利用该方程，可以递推得到一阶自回归模型的k阶自协方差函数为：\n",
    "\n",
    "$${\\gamma _k} = {\\phi _1}{\\gamma _{k - 1}} = \\phi _1^k{\\gamma _0} = \\frac{{\\phi _1^k{\\sigma ^2}}}{{1 - \\phi _1^2}}.$$\n",
    "\n",
    "由此可以看出k阶自协方差函数表现出负指数级的收敛性。当${\\phi _1}$越小，收敛到0的速度越快。当${\\phi _1}$ 为负数时，两者震荡收敛到0。"
   ]
  },
  {
   "cell_type": "code",
   "execution_count": 1,
   "metadata": {
    "scrolled": false,
    "slideshow": {
     "slide_type": "slide"
    }
   },
   "outputs": [
    {
     "data": {
      "text/plain": [
       "<matplotlib.legend.Legend at 0x1b351f20d00>"
      ]
     },
     "execution_count": 1,
     "metadata": {},
     "output_type": "execute_result"
    },
    {
     "data": {
      "image/png": "[encoded data removed]",
      "text/plain": [
       "<Figure size 360x360 with 1 Axes>"
      ]
     },
     "metadata": {
      "needs_background": "light"
     },
     "output_type": "display_data"
    }
   ],
   "source": [
    "#导入 包 \n",
    "import numpy as np\n",
    "import matplotlib.pylab as plt\n",
    "%matplotlib inline\n",
    "k=10\n",
    "K=np.arange(k)\n",
    "#定义AR(1)协方差函数\n",
    "def rho_ar1(K,phi,sig):\n",
    "    return(phi**K*sig**2/(1-phi**2))\n",
    "# 画图\n",
    "plt.figure(figsize=(5,5))\n",
    "plt.plot(K,rho_ar1(K,0.5,1),label=r\"$\\phi_1=0.5$\")\n",
    "plt.plot(K,rho_ar1(K,-0.5,1),label=r\"$\\phi_1=-0.5$\")\n",
    "plt.plot([0,k],[0,0])\n",
    "plt.ylabel(r\"$\\gamma_k$\")\n",
    "plt.xlabel(r\"lag\")\n",
    "plt.legend()"
   ]
  },
  {
   "cell_type": "markdown",
   "metadata": {
    "slideshow": {
     "slide_type": "slide"
    }
   },
   "source": [
    "###  AR(2) 模型的定义，性质，和平稳性条件\n",
    "\n",
    "1.\t形式：${r_t} = {\\phi _0} + {\\phi _1}{r_{t - 1}} + {\\phi _2}{r_{t - 2}} + {\\epsilon_t}$            \n",
    "2.\t称 $\\left( {1 - {\\phi _1}B - {\\phi _2}{B^2}} \\right){r_t} = 0$ 为齐次差分方程。\n",
    "3.\t$A\\left( z \\right) = 1 - {\\phi _1}z - {\\phi _2}{z^2}$ 为上述齐次差分方程对应的多项式。\n",
    "4.\t平稳条件：多项式方程$A\\left( z \\right) = 1 - {\\phi _1}z - {\\phi _2}{z^2} = 0$ 的根的模大于1"
   ]
  },
  {
   "cell_type": "markdown",
   "metadata": {
    "slideshow": {
     "slide_type": "slide"
    }
   },
   "source": [
    "**各阶距，Yule Walker**\n",
    "\n",
    "5.\t均值： \n",
    "$$E\\left( {{r_t}} \\right) = \\frac{{{\\phi _0}}}{{1 - {\\phi _1} - {\\phi _2}}}$$\n",
    "6.\tACF： \n",
    "$${\\rho _0} = 1,{\\rho _1} = \\frac{{{\\phi _1}}}{{1 - {\\phi _2}}},$$\n",
    "$${\\rho _l} = {\\phi _1}{\\rho _{l - 1}} + {\\phi _2}{\\rho _{l - 2}},\\;\\;\\;{\\kern 1pt} l \\ge 1$$\n",
    " "
   ]
  },
  {
   "cell_type": "markdown",
   "metadata": {
    "slideshow": {
     "slide_type": "slide"
    }
   },
   "source": [
    "**周期性**\n",
    "\n",
    "随机商业周期：如果$\\phi _1^2 + 4{\\phi _2} < 0,$ 则 ${r_t}$ 有周期表现，其平均周期长度为：\n",
    "  \n",
    "  \n",
    "$$k = \\frac{{2\\pi }}{{{{\\cos }^{ - 1}}\\left[ {{\\phi _1}/\\left( {2\\sqrt { - {\\phi _2}} } \\right)} \\right]}}$$\n",
    "  \n",
    "  \n",
    "如果我们将多项式$\\left( {1 - {\\phi _1}z - {\\phi _2}{z^2}} \\right) = 0$ 的解表示为$a \\pm bi$ ，其中$i = \\sqrt { - 1} $ ，则有${\\phi _1} = 2a$ ，${\\phi _2} =  - \\left( {{a^2} + {b^2}} \\right)$ ，记$\\lambda $ 为解的幅角。\n",
    "\n",
    "\n",
    "$$k = \\frac{{2\\pi }}{{{{\\cos }^{ - 1}}\\left( {a/\\sqrt {{a^2} + {b^2}} } \\right)}} = \\frac{{2\\pi }}{\\lambda }$$"
   ]
  },
  {
   "cell_type": "code",
   "execution_count": 2,
   "metadata": {
    "scrolled": false
   },
   "outputs": [
    {
     "data": {
      "text/plain": [
       "[<matplotlib.lines.Line2D at 0x1b3562199d0>,\n",
       " <matplotlib.lines.Line2D at 0x1b356219ac0>]"
      ]
     },
     "execution_count": 2,
     "metadata": {},
     "output_type": "execute_result"
    },
    {
     "data": {
      "image/png": "[encoded data removed]",
      "text/plain": [
       "<Figure size 432x288 with 1 Axes>"
      ]
     },
     "metadata": {
      "needs_background": "light"
     },
     "output_type": "display_data"
    }
   ],
   "source": [
    "import pandas as pd \n",
    "n=1000\n",
    "error=np.random.normal(size=n)\n",
    "#plt.plot(data)\n",
    "# 计算k阶自相关系数的函数\n",
    "\n",
    "def autocoef(data,k):\n",
    "    meanw=np.mean(data)\n",
    "    n=len(data)    \n",
    "    return np.nansum((data[:(n-k)]-meanw)*(data[k:]-meanw))/np.nansum((data-meanw)**2)\n",
    "#下面这个函数生成随机数\n",
    "%run ARMAgen.py\n",
    "phi=[0.6,-0.4]\n",
    "data=ARMAgenerator(phi=phi,theta=[],sigma=1,n=1000)\n",
    "ac =[autocoef(data,i) for i in range(20)]\n",
    "plt.plot(ac,\"b*\",[0,20],[0,0],\"r-\")"
   ]
  },
  {
   "cell_type": "code",
   "execution_count": 3,
   "metadata": {},
   "outputs": [
    {
     "data": {
      "text/plain": [
       "[<matplotlib.lines.Line2D at 0x1b35629f2e0>]"
      ]
     },
     "execution_count": 3,
     "metadata": {},
     "output_type": "execute_result"
    },
    {
     "data": {
      "image/png": "[encoded data removed]",
      "text/plain": [
       "<Figure size 432x288 with 1 Axes>"
      ]
     },
     "metadata": {
      "needs_background": "light"
     },
     "output_type": "display_data"
    }
   ],
   "source": [
    "plt.plot(data[:100])"
   ]
  },
  {
   "cell_type": "code",
   "execution_count": 4,
   "metadata": {
    "slideshow": {
     "slide_type": "slide"
    }
   },
   "outputs": [
    {
     "data": {
      "text/plain": [
       "5.83624408722266"
      ]
     },
     "execution_count": 4,
     "metadata": {},
     "output_type": "execute_result"
    }
   ],
   "source": [
    "#计算周期\n",
    "phi1=phi[0];phi2=phi[1]\n",
    "2*np.pi/np.arccos(phi1/(2*np.sqrt(-phi2)))"
   ]
  },
  {
   "cell_type": "code",
   "execution_count": 5,
   "metadata": {
    "slideshow": {
     "slide_type": "-"
    }
   },
   "outputs": [
    {
     "name": "stdout",
     "output_type": "stream",
     "text": [
      "(0.75+1.3919410907075056j)\n"
     ]
    },
    {
     "data": {
      "text/plain": [
       "1.5811388300841898"
      ]
     },
     "execution_count": 5,
     "metadata": {},
     "output_type": "execute_result"
    }
   ],
   "source": [
    "# 特征多项式的根\n",
    "\n",
    "phi1=0.6;phi2=-0.4\n",
    "a=-phi2;b=-phi1;c=1\n",
    "root1=(-b+np.sqrt(-b**2+4*a*c)*1j)/(2*a)\n",
    "print(root1)\n",
    "np.abs(root1)"
   ]
  },
  {
   "cell_type": "code",
   "execution_count": 6,
   "metadata": {
    "scrolled": false,
    "slideshow": {
     "slide_type": "slide"
    }
   },
   "outputs": [
    {
     "data": {
      "text/plain": [
       "[<matplotlib.lines.Line2D at 0x1b36ceffca0>,\n",
       " <matplotlib.lines.Line2D at 0x1b36ceffd60>]"
      ]
     },
     "execution_count": 6,
     "metadata": {},
     "output_type": "execute_result"
    },
    {
     "data": {
      "image/png": "[encoded data removed]",
      "text/plain": [
       "<Figure size 432x288 with 1 Axes>"
      ]
     },
     "metadata": {
      "needs_background": "light"
     },
     "output_type": "display_data"
    }
   ],
   "source": [
    "#也可以用statsmodels中的函数产生随机数，注意phi这里表示不一样\n",
    "from statsmodels.tsa.arima_process import arma_generate_sample\n",
    "phi=[1,-0.6,0.4]\n",
    "data=arma_generate_sample(ar=phi,ma=[1],nsample=1000)\n",
    "ac=[autocoef(data,i) for i in range(20)]\n",
    "plt.plot(ac,\"b*\",[0,20],[0,0],\"r-\")"
   ]
  },
  {
   "cell_type": "markdown",
   "metadata": {
    "slideshow": {
     "slide_type": "slide"
    }
   },
   "source": [
    "### AR(p)模型\n",
    "\n",
    "AR(1)模型的推广为AR(p)模型，即认为当前收益率不单受前一日的影响，还受前几日的影响，模型表示如下：\n",
    "\n",
    "$${r_t} = {\\phi _0} + {\\phi _1}{r_{t - 1}} +  \\cdots  + {\\phi _p}{r_{t - p}} + {\\varepsilon _t}$$\n",
    "\n",
    "我们讨论AR（p）模型的性质。记 $A\\left( z \\right) = 1 - {\\phi _1}z - {\\phi _2}{z^2} -  \\cdots  - {\\phi _p}{z^p}$ 为上述AR（p）模型的特征多项式，$A\\left( z \\right) = 0$ 为特征方程。如果特征方程的根都在单位圆外，则AR（p）模型是平稳模型."
   ]
  },
  {
   "cell_type": "markdown",
   "metadata": {
    "slideshow": {
     "slide_type": "slide"
    }
   },
   "source": [
    "### AR模型阶的识别\n",
    "在实际的应用中，自回归模型的阶并非事前确定的，需要我们在建模时利用数据来确定。确定阶的方法有两种，一种利用偏相关函数，另一种利用信息准则。\n",
    "\n"
   ]
  },
  {
   "cell_type": "markdown",
   "metadata": {
    "slideshow": {
     "slide_type": "slide"
    }
   },
   "source": [
    "#### 偏相关函数(PACF)\n",
    " 对一个时间序列，我们可以对其进行不同阶的自回归分析\n",
    "$$\\begin{array}{rl}\n",
    "{r_t} &= {\\phi _{1,0}} + {\\phi _{1,1}}{r_{t - 1}} + {e_{1t}},\\\\\n",
    "{r_t} &= {\\phi _{2,0}} + {\\phi _{2,1}}{r_{t - 1}} + {\\phi _{2,2}}{r_{t - 2}} + {e_{2t}},\\\\\n",
    "{r_t}& = {\\phi _{3,0}} + {\\phi _{3,1}}{r_{t - 1}} + {\\phi _{3,2}}{r_{t - 2}} + {\\phi _{3,3}}{r_{t - 3}} + {e_{3t}},\\\\\n",
    " &\\vdots \n",
    "\\end{array}$$\n",
    "\n",
    "其中， ${\\phi _{i,0}}$为常数项， ${\\phi _{i,j}}$为回归系数， ${e_{it}}$为误差项。上述模型具有多元回归形式，我们可以利用最小二乘法来估计参数。在所得的参数中，称${\\hat \\phi _{1,1}}$ 为一阶偏相关函数， ${\\hat \\phi _{2,2}}$为二阶偏相关函数， ${\\hat \\phi _{3,3}}$为三阶偏相关函数。 ${\\hat \\phi _{2,2}}$可以看出在AR（1）模型的基础上，再添加${r_{t - 2}}$ 时的贡献。 ${\\hat \\phi _{3,3}}$可以看出在AR（2）模型的基础上，再添加 ${r_{t - 3}}$时的贡献。"
   ]
  },
  {
   "cell_type": "markdown",
   "metadata": {
    "slideshow": {
     "slide_type": "slide"
    }
   },
   "source": [
    "**利用偏相关系数判断模型的阶，及偏相关系数计算**\n",
    "\n",
    "因此，直观地看，如果真实模型是AR（p）模型，则在AR（p）模型的基础上再添加${r_{t - p - 1}}$ 的贡献应该为0，相应的度量偏相关系数${\\hat \\phi _{p + 1,p{\\rm{ + 1}}}}$ 就应该为0。因此得到偏相关系数后，就可以利用其是否有截尾性判断模型的阶。\n",
    "理论上，对AR（p）模型，当样本足够多时，${\\hat \\phi _{{\\rm{p}},{\\rm{p}}}}$ 是收敛到${\\phi _p}$ 的，当$k > p$ 时，偏相关函数${\\hat \\phi _{{\\rm{k}},{\\rm{k}}}}$ 收敛到0.并且收敛的渐进方差为$1/n$ ，其中$n$ 为样本量。\n",
    "\n",
    "\n",
    " 偏相关系数${\\phi _{{\\rm{k}},{\\rm{k}}}}$ 满足下面的方程\n",
    " $${\\Gamma _k}a = {\\Upsilon _k}$$\n",
    "其中\n",
    " $${\\Gamma _k} = \\left( {\\begin{array}{*{20}{c}}\n",
    "{{\\gamma _0}}&{{\\gamma _1}}& \\cdots &{{\\gamma _{k - 1}}}\\\\\n",
    "{{\\gamma _1}}&{{\\gamma _0}}& \\cdots &{{\\gamma _{k - 2}}}\\\\\n",
    " \\vdots & \\vdots &{ \\vdots  \\cdots }& \\vdots \\\\\n",
    "{{\\gamma _{k - 1}}}&{{\\gamma _{k - 2}}}& \\cdots &{{\\gamma _0}}\n",
    "\\end{array}} \\right),{\\Upsilon _k} = \\left( {\\begin{array}{*{20}{c}}\n",
    "{{\\gamma _1}}\\\\\n",
    "{{\\gamma _2}}\\\\\n",
    " \\vdots \\\\\n",
    "{\\gamma k}\n",
    "\\end{array}} \\right),a = \\left( {\\begin{array}{*{20}{c}}\n",
    "{{\\phi _{k1}}}\\\\\n",
    "{{\\phi _{k2}}}\\\\\n",
    " \\vdots \\\\\n",
    "{{\\phi _{kk}}}\n",
    "\\end{array}} \\right)$$\n",
    "可以利用解线性方程求${\\phi _{{\\rm{k}},{\\rm{k}}}}$ 的值。\n"
   ]
  },
  {
   "cell_type": "code",
   "execution_count": 7,
   "metadata": {
    "slideshow": {
     "slide_type": "slide"
    }
   },
   "outputs": [
    {
     "name": "stdout",
     "output_type": "stream",
     "text": [
      "[ 0.62895871 -0.44520634]\n",
      "[ 0.61428699 -0.42447909 -0.03295487]\n",
      "0.061980642139300234\n"
     ]
    }
   ],
   "source": [
    "#下面计算二、三阶偏相关系数，判断上述ar模型为两阶的\n",
    "from scipy.linalg import toeplitz\n",
    "\n",
    "def mypacf(ac,k):    \n",
    "    r=ac[:k]\n",
    "    R = toeplitz(r[:-1])\n",
    "    rho = np.linalg.solve(R, r[1:])\n",
    "    return(rho)\n",
    "print(mypacf(ac,3))\n",
    "print(mypacf(ac,4))\n",
    "#95%的阀值为：\n",
    "print(1.96/np.sqrt(1000))"
   ]
  },
  {
   "cell_type": "code",
   "execution_count": 8,
   "metadata": {
    "slideshow": {
     "slide_type": "slide"
    }
   },
   "outputs": [
    {
     "data": {
      "text/plain": [
       "array([ 1.        ,  0.43563904, -0.44630718, -0.03284389, -0.01838576,\n",
       "        0.00177529,  0.03598366,  0.04885475,  0.00263634,  0.02445258,\n",
       "       -0.04133986])"
      ]
     },
     "execution_count": 8,
     "metadata": {},
     "output_type": "execute_result"
    }
   ],
   "source": [
    "#也可以用如下的包中的函数，提供了计算偏相关系数的方法\n",
    "from statsmodels.tsa.stattools import pacf\n",
    "pacf(data,10)"
   ]
  },
  {
   "cell_type": "markdown",
   "metadata": {
    "slideshow": {
     "slide_type": "slide"
    }
   },
   "source": [
    "**信息准则**\n",
    "\n",
    "除偏相关系数外，还可以利用信息准则进行AR（p）模型阶数的选择。信息准则方法是一种应用范围更加广泛的模型选择方法。不但自回归模型可以使用信息准则选择阶数，其它任何的模型，只要需要对模型的复杂进行选择，都可以利用信息准则的思想。\n",
    "  自回归模型的阶体现了模型的复杂度，阶越大，模型使用的参数越多，也就越复杂。一般来说，越复杂的模型对数据的拟合越好。但恰当的模型应该具有良好的扩展性，即模型不但对训练数据（用来进行参数估计的数据）拟合好，还需要对新的数据也有效。一般来说，如果使用过于复杂的模型拟合训练数据，就可能导致过度拟合的问题，扩展性会很差，良好的扩展性要求较简洁的模型。因此，建模是常常需要兼顾如下两个原则：\n",
    "\n",
    "+\t模型尽可能地拟合数据； \n",
    "+\t模型尽可能地简洁。"
   ]
  },
  {
   "cell_type": "markdown",
   "metadata": {
    "slideshow": {
     "slide_type": "slide"
    }
   },
   "source": [
    "**信息准则**\n",
    "\n",
    "如何衡量这两个原则呢？一般采用如下的两个度量：\n",
    "\n",
    "+\t残差平方和$\\hat \\sigma _k^2$ 或 对数似然\n",
    "+\t参数个数$k$。\n",
    "残差平方和表示模型对数据的预测偏差的平方和，它可以用来衡量模拟对数据的拟合度；而参数个数则衡量模型的复杂程度。"
   ]
  },
  {
   "cell_type": "markdown",
   "metadata": {
    "slideshow": {
     "slide_type": "slide"
    }
   },
   "source": [
    "**信息准则**\n",
    "\n",
    "在现实中，两个原则往往不能兼顾。因此需要在两者之间取得平衡，结合拟合度和参数个数(k)及样本量(N)，模型选择的信息准则有如下形式： \n",
    " $${I_N}(k) = -2 {logL} + k{{C(N)}} $$\n",
    "\n",
    "参数个数$k$   的选择遵循如下方法：  \n",
    " \n",
    " $$\\hat k = \\arg \\mathop {\\min }\\limits_{k \\le m}  {I_N}(k)$$\n",
    " \n",
    "常见的信息准则(IC)\n",
    "\n",
    "+\tAkaike(AIC):   $C(N) = 2$\n",
    "+\tSchwartz or Bayesian (BIC):    $C(N) = \\log (N)$\n",
    "   \n",
    "AIC有高估参数个数的倾向。"
   ]
  },
  {
   "cell_type": "markdown",
   "metadata": {
    "slideshow": {
     "slide_type": "slide"
    }
   },
   "source": [
    "### 参数估计\n",
    " 选择好自回归模型的阶后，AR(p)模型可以表示如下， \n",
    " $${r_t} = {\\phi _0} + {\\phi _1}{r_{t - 1}} +  \\cdots  + {\\phi _p}{r_{t - p}} + {\\varepsilon _t},\\quad {\\varepsilon _t}\\sim WN\\left( {0,{\\sigma ^2}} \\right)$$\n",
    "其中常数项、自回归系数以及白噪声方差都需要估计。"
   ]
  },
  {
   "cell_type": "markdown",
   "metadata": {
    "slideshow": {
     "slide_type": "slide"
    }
   },
   "source": [
    "**中心化**\n",
    "\n",
    "如果我们首先将收益率中心化处理，\n",
    " $${x_t} = {r_t} - {\\bar r_n}$$\n",
    "其中${\\bar r_n}$ 为所有观测的均值，则此时${x_t}$ 期望为0。此时我们估计的模型为\n",
    " $${x_t} = {a_1}{x_{t - 1}} +  \\cdots  + {a_p}{x_{t - p}} + {\\varepsilon _t}$$\n",
    "将${x_t} = {r_t} - {\\bar r_n}$ 带入上述模型得\n",
    " $${r_t} - {\\bar r_n} = {a_1}\\left( {{r_{t - 1}} - {{\\bar r}_n}} \\right) +  \\cdots  + {a_p}\\left( {{r_{t - p}} - {{\\bar r}_n}} \\right) + {\\varepsilon _t}$$\n",
    "进一步简化为\n",
    " \n",
    "$$\\begin{array}{rl}\n",
    "{r_t}& = {{\\bar r}_n}\\left( {1 - {a_1} -  \\cdots  - {a_p}} \\right) + {a_1}{r_{t - 1}} +  \\cdots  + {a_p}{r_{t - p}} + {\\varepsilon _t}\\\\\n",
    " &= {{\\bar r}_n}A\\left( 1 \\right) + {a_1}{r_{t - 1}} +  \\cdots  + {a_p}{r_{t - p}} + {\\varepsilon _t}\n",
    "\\end{array}$$\n",
    "比较参数有\n",
    " $${\\phi _0} = {\\bar r_n}A\\left( 1 \\right),{\\phi _1} = {a_1}, \\cdots ,{\\phi _p} = a_p$$\n",
    "\n",
    "可以看出，通过中心化可以减少一个参数的计算，我们不再需要估计${\\phi _0}$ 了。"
   ]
  },
  {
   "cell_type": "markdown",
   "metadata": {
    "slideshow": {
     "slide_type": "slide"
    }
   },
   "source": [
    "**估计方法**\n",
    "\n",
    "有很多方法可以估计自回归模型的参数，其中包括\n",
    "\n",
    "+ 最小二乘估计，\n",
    "\n",
    "    最小二乘估计方法是统计学中最传统的参数估计方法，它通过极小化预测偏差的平方和进行。\n",
    "+ yule-walker估计，\n",
    "\n",
    "    Yule-walker通过解估计方程${\\Gamma _p}a = {\\Upsilon _p}$ 完成，其中 $a = \\left( {{\\phi _1}, \\cdots ,{\\phi _p}} \\right)$为自回归系数,这其实是一种矩估计\n",
    "\n",
    "+ 极大似然估计。\n",
    "\n",
    "    极大似然估计则假设时间序列为正态时间序列，通过极大化观测数据的似然函数估计参数。在自回归模型的参数估计中，三者差别不大。"
   ]
  },
  {
   "cell_type": "code",
   "execution_count": 9,
   "metadata": {
    "scrolled": false,
    "slideshow": {
     "slide_type": "slide"
    }
   },
   "outputs": [],
   "source": [
    "# 最小二乘估计\n",
    "import statsmodels.formula.api as sm\n",
    "# 自回归的数据矩阵　lagmat\n",
    "from statsmodels.tsa.tsatools import  lagmat\n",
    "from statsmodels.regression.linear_model import OLS\n",
    "X=lagmat(data,2)\n",
    "results = OLS(data, X).fit()"
   ]
  },
  {
   "cell_type": "code",
   "execution_count": 10,
   "metadata": {
    "slideshow": {
     "slide_type": "slide"
    }
   },
   "outputs": [
    {
     "data": {
      "text/html": [
       "<table class=\"simpletable\">\n",
       "<caption>OLS Regression Results</caption>\n",
       "<tr>\n",
       "  <th>Dep. Variable:</th>            <td>y</td>        <th>  R-squared (uncentered):</th>      <td>   0.350</td>\n",
       "</tr>\n",
       "<tr>\n",
       "  <th>Model:</th>                   <td>OLS</td>       <th>  Adj. R-squared (uncentered):</th> <td>   0.349</td>\n",
       "</tr>\n",
       "<tr>\n",
       "  <th>Method:</th>             <td>Least Squares</td>  <th>  F-statistic:       </th>          <td>   269.2</td>\n",
       "</tr>\n",
       "<tr>\n",
       "  <th>Date:</th>             <td>Tue, 12 Dec 2023</td> <th>  Prob (F-statistic):</th>          <td>3.15e-94</td>\n",
       "</tr>\n",
       "<tr>\n",
       "  <th>Time:</th>                 <td>09:44:53</td>     <th>  Log-Likelihood:    </th>          <td> -1448.8</td>\n",
       "</tr>\n",
       "<tr>\n",
       "  <th>No. Observations:</th>      <td>  1000</td>      <th>  AIC:               </th>          <td>   2902.</td>\n",
       "</tr>\n",
       "<tr>\n",
       "  <th>Df Residuals:</th>          <td>   998</td>      <th>  BIC:               </th>          <td>   2911.</td>\n",
       "</tr>\n",
       "<tr>\n",
       "  <th>Df Model:</th>              <td>     2</td>      <th>                     </th>              <td> </td>   \n",
       "</tr>\n",
       "<tr>\n",
       "  <th>Covariance Type:</th>      <td>nonrobust</td>    <th>                     </th>              <td> </td>   \n",
       "</tr>\n",
       "</table>\n",
       "<table class=\"simpletable\">\n",
       "<tr>\n",
       "   <td></td>     <th>coef</th>     <th>std err</th>      <th>t</th>      <th>P>|t|</th>  <th>[0.025</th>    <th>0.975]</th>  \n",
       "</tr>\n",
       "<tr>\n",
       "  <th>x1</th> <td>    0.6300</td> <td>    0.028</td> <td>   22.216</td> <td> 0.000</td> <td>    0.574</td> <td>    0.686</td>\n",
       "</tr>\n",
       "<tr>\n",
       "  <th>x2</th> <td>   -0.4456</td> <td>    0.028</td> <td>  -15.691</td> <td> 0.000</td> <td>   -0.501</td> <td>   -0.390</td>\n",
       "</tr>\n",
       "</table>\n",
       "<table class=\"simpletable\">\n",
       "<tr>\n",
       "  <th>Omnibus:</th>       <td> 0.285</td> <th>  Durbin-Watson:     </th> <td>   2.029</td>\n",
       "</tr>\n",
       "<tr>\n",
       "  <th>Prob(Omnibus):</th> <td> 0.867</td> <th>  Jarque-Bera (JB):  </th> <td>   0.197</td>\n",
       "</tr>\n",
       "<tr>\n",
       "  <th>Skew:</th>          <td> 0.022</td> <th>  Prob(JB):          </th> <td>   0.906</td>\n",
       "</tr>\n",
       "<tr>\n",
       "  <th>Kurtosis:</th>      <td> 3.053</td> <th>  Cond. No.          </th> <td>    1.59</td>\n",
       "</tr>\n",
       "</table><br/><br/>Notes:<br/>[1] R² is computed without centering (uncentered) since the model does not contain a constant.<br/>[2] Standard Errors assume that the covariance matrix of the errors is correctly specified."
      ],
      "text/latex": [
       "\\begin{center}\n",
       "\\begin{tabular}{lclc}\n",
       "\\toprule\n",
       "\\textbf{Dep. Variable:}    &        y         & \\textbf{  R-squared (uncentered):}      &     0.350   \\\\\n",
       "\\textbf{Model:}            &       OLS        & \\textbf{  Adj. R-squared (uncentered):} &     0.349   \\\\\n",
       "\\textbf{Method:}           &  Least Squares   & \\textbf{  F-statistic:       }          &     269.2   \\\\\n",
       "\\textbf{Date:}             & Tue, 12 Dec 2023 & \\textbf{  Prob (F-statistic):}          &  3.15e-94   \\\\\n",
       "\\textbf{Time:}             &     09:44:53     & \\textbf{  Log-Likelihood:    }          &   -1448.8   \\\\\n",
       "\\textbf{No. Observations:} &        1000      & \\textbf{  AIC:               }          &     2902.   \\\\\n",
       "\\textbf{Df Residuals:}     &         998      & \\textbf{  BIC:               }          &     2911.   \\\\\n",
       "\\textbf{Df Model:}         &           2      & \\textbf{                     }          &             \\\\\n",
       "\\textbf{Covariance Type:}  &    nonrobust     & \\textbf{                     }          &             \\\\\n",
       "\\bottomrule\n",
       "\\end{tabular}\n",
       "\\begin{tabular}{lcccccc}\n",
       "            & \\textbf{coef} & \\textbf{std err} & \\textbf{t} & \\textbf{P$> |$t$|$} & \\textbf{[0.025} & \\textbf{0.975]}  \\\\\n",
       "\\midrule\n",
       "\\textbf{x1} &       0.6300  &        0.028     &    22.216  &         0.000        &        0.574    &        0.686     \\\\\n",
       "\\textbf{x2} &      -0.4456  &        0.028     &   -15.691  &         0.000        &       -0.501    &       -0.390     \\\\\n",
       "\\bottomrule\n",
       "\\end{tabular}\n",
       "\\begin{tabular}{lclc}\n",
       "\\textbf{Omnibus:}       &  0.285 & \\textbf{  Durbin-Watson:     } &    2.029  \\\\\n",
       "\\textbf{Prob(Omnibus):} &  0.867 & \\textbf{  Jarque-Bera (JB):  } &    0.197  \\\\\n",
       "\\textbf{Skew:}          &  0.022 & \\textbf{  Prob(JB):          } &    0.906  \\\\\n",
       "\\textbf{Kurtosis:}      &  3.053 & \\textbf{  Cond. No.          } &     1.59  \\\\\n",
       "\\bottomrule\n",
       "\\end{tabular}\n",
       "%\\caption{OLS Regression Results}\n",
       "\\end{center}\n",
       "\n",
       "Notes: \\newline\n",
       " [1] R² is computed without centering (uncentered) since the model does not contain a constant. \\newline\n",
       " [2] Standard Errors assume that the covariance matrix of the errors is correctly specified."
      ],
      "text/plain": [
       "<class 'statsmodels.iolib.summary.Summary'>\n",
       "\"\"\"\n",
       "                                 OLS Regression Results                                \n",
       "=======================================================================================\n",
       "Dep. Variable:                      y   R-squared (uncentered):                   0.350\n",
       "Model:                            OLS   Adj. R-squared (uncentered):              0.349\n",
       "Method:                 Least Squares   F-statistic:                              269.2\n",
       "Date:                Tue, 12 Dec 2023   Prob (F-statistic):                    3.15e-94\n",
       "Time:                        09:44:53   Log-Likelihood:                         -1448.8\n",
       "No. Observations:                1000   AIC:                                      2902.\n",
       "Df Residuals:                     998   BIC:                                      2911.\n",
       "Df Model:                           2                                                  \n",
       "Covariance Type:            nonrobust                                                  \n",
       "==============================================================================\n",
       "                 coef    std err          t      P>|t|      [0.025      0.975]\n",
       "------------------------------------------------------------------------------\n",
       "x1             0.6300      0.028     22.216      0.000       0.574       0.686\n",
       "x2            -0.4456      0.028    -15.691      0.000      -0.501      -0.390\n",
       "==============================================================================\n",
       "Omnibus:                        0.285   Durbin-Watson:                   2.029\n",
       "Prob(Omnibus):                  0.867   Jarque-Bera (JB):                0.197\n",
       "Skew:                           0.022   Prob(JB):                        0.906\n",
       "Kurtosis:                       3.053   Cond. No.                         1.59\n",
       "==============================================================================\n",
       "\n",
       "Notes:\n",
       "[1] R² is computed without centering (uncentered) since the model does not contain a constant.\n",
       "[2] Standard Errors assume that the covariance matrix of the errors is correctly specified.\n",
       "\"\"\""
      ]
     },
     "execution_count": 10,
     "metadata": {},
     "output_type": "execute_result"
    }
   ],
   "source": [
    "#注1：系数的显著性检验\n",
    "\n",
    "#注2：关于截距\n",
    "\n",
    "results.summary()"
   ]
  },
  {
   "cell_type": "markdown",
   "metadata": {
    "slideshow": {
     "slide_type": "slide"
    }
   },
   "source": [
    "### \t模型检验\n",
    "\n",
    "通过实际的数据建立自回归模型，首先选择模型的阶，然后进行参数估计和参数的检验，但仅仅这些还不够，我们还需要从整体上分析模型的合理性。若模型是合理的，则我们事前关于模型的假设就应该基本成立。即假设数据来自模型\n",
    " $${x_t} = {a_1}{x_{t - 1}} +  \\cdots  + {a_p}{x_{t - p}} + {\\varepsilon _t},\\quad {\\varepsilon _t}\\sim WN\\left( {0,{\\sigma ^2}} \\right)$$\n",
    "其中一个重要的假设是${\\varepsilon _t}$ 为白噪声序列。通过实际数据计算${\\varepsilon _t} = {x_t} - \\left( {{a_1}{x_{t - 1}} +  \\cdots  + {a_p}{x_{t - p}}} \\right)$ ，记为 ${\\hat \\varepsilon _t}$，称为模型的残差。因此，如果模型合理，至少残差${\\hat \\varepsilon _t}$ 应该为白噪声序列。\n",
    "    残差序列的白噪声检验可以利用卡方检验 和正态检验法。正态检验法可以利用残差的自相关系数判断。 \n",
    "\n"
   ]
  },
  {
   "cell_type": "code",
   "execution_count": 11,
   "metadata": {},
   "outputs": [
    {
     "data": {
      "text/plain": [
       "[<matplotlib.lines.Line2D at 0x1b36d255160>,\n",
       " <matplotlib.lines.Line2D at 0x1b36d255130>,\n",
       " <matplotlib.lines.Line2D at 0x1b36d255370>]"
      ]
     },
     "execution_count": 11,
     "metadata": {},
     "output_type": "execute_result"
    },
    {
     "data": {
      "image/png": "[encoded data removed]",
      "text/plain": [
       "<Figure size 432x360 with 1 Axes>"
      ]
     },
     "metadata": {
      "needs_background": "light"
     },
     "output_type": "display_data"
    }
   ],
   "source": [
    "k=5\n",
    "autoco=[autocoef(results.resid,i) for i in range(k+1)]\n",
    "n=len(results.resid)\n",
    "plt.figure(figsize=(6,5))\n",
    "plt.plot(range(1,k+1),autoco[1:],\"b*\",[0,k+1],[1.96/np.sqrt(n)]*2,\"r--\",[0,k+1],[-1.96/np.sqrt(n)]*2,\"r--\")\n"
   ]
  },
  {
   "cell_type": "code",
   "execution_count": 12,
   "metadata": {},
   "outputs": [
    {
     "data": {
      "text/plain": [
       "(2901.6370292626243, 2911.4525398205888)"
      ]
     },
     "execution_count": 12,
     "metadata": {},
     "output_type": "execute_result"
    }
   ],
   "source": [
    "results.aic,results.bic"
   ]
  },
  {
   "cell_type": "markdown",
   "metadata": {
    "slideshow": {
     "slide_type": "slide"
    }
   },
   "source": [
    "### 预测\n",
    "\n",
    "金融时间序列分析除了可以用来解释金融现象，还有一个重要的应用是利用历史信息对未来进行预测。对AR(p)模型\n",
    " $${x_t} = {a_1}{x_{t - 1}} +  \\cdots  + {a_p}{x_{t - p}} + {\\varepsilon _t},\\quad {\\varepsilon _t}\\sim WN\\left( {0,{\\sigma ^2}} \\right)$$\n",
    "假定我们在时间为t的点上，想要预测${r_{t + k}}$ ，其中 $k$大于0。时间指标t称为预测原点（forecast origin），正整数$k$ 称为预测步长（forecast horizon）。利用历史数据 ${r_1}, \\cdots ,{r_t}$，我们可以用很多函数来预测 ${r_{t + k}}$，但究竟选择哪一个呢？我们需要定义一种准则来履行这样的任务。最小均方是准则之一，它选择使预测误差的平方期望最小的预测方法。记${\\hat r_t}(k)$ 为以$t$ 为预测原点，步长为$k$ 的对${r_{t + k}}$ 的最小均方误差预测，则有对任何预测函数$g$ ，有\n",
    "$$E{\\left[ {{r_{t + k}} - {{\\hat r}_t}\\left( k \\right)} \\right]^2} \\le  E {\\left( {{r_{t + k}} - g} \\right)^2}$$"
   ]
  },
  {
   "cell_type": "markdown",
   "metadata": {
    "slideshow": {
     "slide_type": "slide"
    }
   },
   "source": [
    "#### 向前一步预测\n",
    "\n",
    "考虑AR(p)模型\n",
    " $${x_{t + 1}} = {a_1}{x_t} +  \\cdots  + {a_p}{x_{t + 1 - p}} + {\\varepsilon _{t + 1}},\\quad {\\varepsilon _{t + 1}}\\sim WN\\left( {0,{\\sigma ^2}} \\right)$$\n",
    "在均方误差损失最小的前提下，给定参数估计值和历史的观测${x_t}, \\cdots ,{x_{t + 1 - p}}$ ， ${x_{t + 1}}$的点估计为其条件期望\n",
    " $${\\hat x_t}(1) = E\\left( {{x_{t + 1}}|{x_t}, \\cdots ,{x_{t + 1 - p}}, \\cdots } \\right) = {a_1}{x_t} +  \\cdots  + {a_p}{x_{t + 1 - p}}$$\n",
    "相应的预测误差为${e_t}\\left( 1 \\right) = {x_{t + 1}} - {\\hat x_t}(1) = {\\varepsilon _{t + 1}}$ ，从而，向前1步预测的方差为 ${\\mathop{\\rm var}} \\left( {{e_t}\\left( 1 \\right)} \\right) = {\\mathop{\\rm var}} \\left( {{\\varepsilon _{t + 1}}} \\right) = {\\sigma ^2}$，若白噪声为正态白噪声，则 ${x_{t + 1}}$的95%的预测区间为 ${\\hat x_t}(1) \\pm 1.96\\sigma $。在计量经济学文献中，称 ${\\varepsilon _{t + 1}}$为 $t + 1$时刻的扰动，它同时也是一步预测误差。\n",
    "\n"
   ]
  },
  {
   "cell_type": "code",
   "execution_count": 13,
   "metadata": {
    "scrolled": false,
    "slideshow": {
     "slide_type": "slide"
    }
   },
   "outputs": [
    {
     "data": {
      "text/plain": [
       "[<matplotlib.lines.Line2D at 0x1b36cf36dc0>,\n",
       " <matplotlib.lines.Line2D at 0x1b36e28bf40>]"
      ]
     },
     "execution_count": 13,
     "metadata": {},
     "output_type": "execute_result"
    },
    {
     "data": {
      "image/png": "[encoded data removed]",
      "text/plain": [
       "<Figure size 432x288 with 1 Axes>"
      ]
     },
     "metadata": {
      "needs_background": "light"
     },
     "output_type": "display_data"
    }
   ],
   "source": [
    "#一步预测和真值的比较，以及预测区间\n",
    "plt.plot(range(950,1000),data[950:1000],\"b-\",range(980,1000),results.predict()[980:1000],\"r^\")\n",
    "sig=results.resid.std()\n",
    "pred=results.predict()\n",
    "plt.plot( range(980,1000),pred[980:1000]+1.96*sig,\"r-\", range(980,1000),pred[980:1000]-1.96*sig,\"r-\")"
   ]
  },
  {
   "cell_type": "markdown",
   "metadata": {
    "slideshow": {
     "slide_type": "slide"
    }
   },
   "source": [
    "#### 向前两步预测\n",
    "\n",
    "考虑以$t$ 为预测原点，对 $t + 2$时刻的预测。模型可以写为：\n",
    " $${x_{t + 2}} = {a_1}{x_{t + 1}} +  \\cdots  + {a_p}{x_{t + 2 - p}} + {\\varepsilon _{t + 2}},\\quad {\\varepsilon _{t + 2}}\\sim WN\\left( {0,{\\sigma ^2}} \\right)$$\n",
    "预测为历史的条件期望，计算如下：\n",
    " $${\\hat x_t}(2) = E\\left( {{x_{t + 2}}|{x_t}, \\cdots ,{x_{t + 1 - p}}, \\cdots } \\right) = {a_1}{\\hat x_t}(1) +  \\cdots  + {a_p}{x_{t + 2 - p}}$$\n",
    "其预测误差为\n",
    "$$\\begin{array}{rl}\n",
    "{e_t}\\left( 2 \\right) &= {x_{t + 2}} - {{\\hat x}_t}\\left( 2 \\right)\\\\\n",
    "& = {x_{t + 2}} - \\left( {{a_1}{{\\hat x}_t}(1) +  \\cdots  + {a_p}{x_{t + 2 - p}}} \\right)\\\\\n",
    " &= {x_{t + 2}} - ({a_2}{x_t} +  \\cdots  + {a_p}{x_{t + 2 - p}}) - {a_1}{{\\hat x}_t}(1)\\\\\n",
    "&= {a_1}{x_{t + 1}} + {\\varepsilon _{t + 2}} - {a_1}{{\\hat x}_t}(1)\\\\\n",
    "& = {\\varepsilon _{t + 2}} + {a_1}{\\varepsilon _{t + 1}}\n",
    "\\end{array}$$\n",
    "预测方差为$\\left( {1 + a_1^2} \\right){\\sigma ^2}$ 。在正态假设下，和一步预测类似，我们可以得到任何置信度的预测区间。注意到两步预测的方差比一步预测的方差大一些，这说明两步预测的不确定性比一步预测更大，这和常识是一致的：我们对越远的未来进行预测，把握越小。\n"
   ]
  },
  {
   "cell_type": "markdown",
   "metadata": {
    "slideshow": {
     "slide_type": "slide"
    }
   },
   "source": [
    "#### 向前K步预测\n",
    "\n",
    "一般地，自回归模型有：\n",
    "$${x_{t + k}} = {a_1}{x_{t + k - 1}} +  \\cdots  + {a_p}{x_{t + k - p}} + {\\varepsilon _{t + k}}$$\n",
    "以$t$ 时刻为预测原点，对${x_{t + k}}$ 的预测由如下的递推公式给出：\n",
    " \n",
    " $${\\hat x_t}\\left( k \\right) = \\sum\\limits_{i = 1}^p {{a_i}{{\\hat x}_t}\\left( {k - i} \\right)} $$\n",
    "其中${\\hat x_t}(j) = {x_{t + j}}$ 如果$j \\le 0$。通过对$i = k - 1,k - 2, \\cdots ,1$ 的计算，就可以得到对${x_{t + k}}$ 的预测。可以证明，向前k步预测的方差随着k的增大而增大，并且会收敛到时间序列${x_t}$ 的方差。这表明，随着k的增大，预测不确定性增加，并且预测结果会趋向于没有任何信息时的预测（用期望预测）。\n",
    "\n",
    "通过预测的期望和方差，在误差正态假设下，我们可以给出预测的区间."
   ]
  }
 ],
 "metadata": {
  "anaconda-cloud": {},
  "celltoolbar": "Slideshow",
  "kernelspec": {
   "display_name": "Python 3 (ipykernel)",
   "language": "python",
   "name": "python3"
  },
  "language_info": {
   "codemirror_mode": {
    "name": "ipython",
    "version": 3
   },
   "file_extension": ".py",
   "mimetype": "text/x-python",
   "name": "python",
   "nbconvert_exporter": "python",
   "pygments_lexer": "ipython3",
   "version": "3.9.7"
  },
  "latex_envs": {
   "LaTeX_envs_menu_present": true,
   "autoclose": false,
   "autocomplete": true,
   "bibliofile": "biblio.bib",
   "cite_by": "apalike",
   "current_citInitial": 1,
   "eqLabelWithNumbers": true,
   "eqNumInitial": 1,
   "hotkeys": {
    "equation": "Ctrl-E",
    "itemize": "Ctrl-I"
   },
   "labels_anchors": false,
   "latex_user_defs": false,
   "report_style_numbering": false,
   "user_envs_cfg": false
  }
 },
 "nbformat": 4,
 "nbformat_minor": 1
}
