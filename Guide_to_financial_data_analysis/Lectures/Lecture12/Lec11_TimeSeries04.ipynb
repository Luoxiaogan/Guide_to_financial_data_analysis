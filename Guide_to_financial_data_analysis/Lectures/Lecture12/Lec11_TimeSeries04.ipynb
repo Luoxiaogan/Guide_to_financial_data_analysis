{
 "cells": [
  {
   "cell_type": "markdown",
   "metadata": {
    "slideshow": {
     "slide_type": "slide"
    }
   },
   "source": [
    "#  ARMA模型\n",
    "自回归模型和滑动平均模型都有较简单的性质，有相对简单的判断模型阶以及进行参数估计的方法。但在某些应用中，如果利用AR和MA进行建模可能需要比较高的阶，才能对数据进行好的拟合，问题可能变得比较复杂。如果结合AR模型和MA模型，可利用较少的参数对这些数据进行建模。ARMA模型结合AR模型和MA模型，ARMA序列的当前值是过去的回归项和若干扰动的滑动平均之和。ARMA(1,1)模型表示为\n",
    "\n",
    "$$r_t = \\phi_0 + \\phi_1r_{t - 1} + \\varepsilon_t + b_1\\varepsilon_{t - 1},\\\\ {\\varepsilon _t}\\sim WN( {0,{\\sigma ^2}} )$$\n",
    "\n",
    "其中$\\{ \\varepsilon_t \\}$ 为零均值白噪声序列，并且上述$r_t$ 为$ARMA(1,1)$序列。一般我们要求$\\phi_1 \\ne  - b_1$ ，否则就能推导出$r_t$ 为白噪声序列。\n"
   ]
  },
  {
   "cell_type": "markdown",
   "metadata": {
    "slideshow": {
     "slide_type": "slide"
    }
   },
   "source": [
    "## ARMA（1，1）模型的性质\n",
    "\n",
    "**期望**\n",
    "\n",
    "在ARMA(1,1)模型\n",
    "\n",
    "$${r_t} = \\phi_0 + \\phi_1 r_{t-1} + \\varepsilon_t + b_1\\varepsilon_{t - 1},\\\\ \\varepsilon_t\\sim WN( 0,\\sigma ^2 )$$\n",
    "\n",
    "模型方程等式两边同时取期望，可得\n",
    "$$E(r_t) = \\frac{\\phi _0}{1 - \\phi_1}$$\n",
    "\n",
    "这个结果和一阶自回归模型相同。"
   ]
  },
  {
   "cell_type": "markdown",
   "metadata": {
    "slideshow": {
     "slide_type": "slide"
    }
   },
   "source": [
    "**方差**\n",
    "\n",
    "我们考虑零均值的ARMA(1,1)模型，即其中${\\phi _0} = 0$。同样，如果因果条件成立，即$\\mathop{\\rm cov} ( r_{t - j},\\varepsilon_t ) = 0$，我们可以计算\n",
    " \n",
    " $$E( r_t\\varepsilon_t ) = \\sigma ^2$$\n",
    "ARMA(1,1)模型两边同时取方差，有\n",
    "\n",
    "\n",
    "$$\\begin{array}{rl}\n",
    "\\gamma_0 &= \\mathop{\\rm var} (r_t) = E\\left[( \\phi_1r_{t - 1} + \\varepsilon_t + b_1\\varepsilon_{t - 1} )^2 \\right]\\\\\n",
    " &= \\phi_1^2\\gamma_0 + \\sigma^2 + b_1^2\\sigma^2 + 2\\phi_1b_1E(r_{t - 1}\\varepsilon_{t - 1})\\\\\n",
    " &= \\phi_1^2\\gamma_0 + ( 1 + b_1^2 + 2\\phi_1b_1)\\sigma ^2\n",
    "\\end{array}$$\n",
    "\n",
    " \n",
    "可得\n",
    " $${\\gamma _0} = \\frac{( 1 + b_1^2 + 2\\phi_1b_1 )\\sigma ^2}{1 - \\phi _1^2}$$\n",
    "因此，我们必须要求${\\rm{|}}\\phi_1\\rm{| < 1}$。这同样也是ARMA(1,1)模型平稳的充分条件。"
   ]
  },
  {
   "cell_type": "markdown",
   "metadata": {
    "slideshow": {
     "slide_type": "slide"
    }
   },
   "source": [
    "**Yule-Walker 方程**\n",
    "\n",
    "我们在零均值ARMA(1,1)模型两边同时乘以 ${r_{t - k}}$，并且同时取期望，得到\n",
    "\n",
    "当$k = 1$ 时，有\n",
    " $${\\gamma _1} - {\\phi _1}{\\gamma _0} = {b_1}{\\sigma ^2}$$\n",
    "$k \\ge 2$时，有\n",
    "\n",
    " $${\\gamma _k} - {\\phi _1}{\\gamma _{k - 1}} = 0$$\n",
    "因此，我们可以计算自相关系数如下\n",
    " $${\\rho _1} = {\\phi _1} + \\frac{{{b_1}{\\sigma ^2}}}{{{\\gamma _0}}},\\quad {\\rho _k} = {\\phi _1}{\\rho _{k - 1}}\\quad \\left( {k > 1} \\right)$$\n",
    "这说明ＡＲＭＡ（１，１）模型的自相关系数不截尾。"
   ]
  },
  {
   "cell_type": "markdown",
   "metadata": {
    "slideshow": {
     "slide_type": "slide"
    }
   },
   "source": [
    " ## ARMA（ｐ，ｑ）模型\n",
    "一般的ＡＲＭＡ（ｐ，ｑ）模型的形式为\n",
    " $${r_t} = {\\phi _0} + \\sum\\limits_{i = 1}^p {{\\phi _i}{r_{t - i}}}  + {\\varepsilon _t} + \\sum\\limits_{i = 1}^q {{b_i}{\\varepsilon _{t - i}}} ,$$\n",
    " 其中$\\varepsilon_t\\sim WN(0,\\sigma^2)$."
   ]
  },
  {
   "cell_type": "markdown",
   "metadata": {
    "slideshow": {
     "slide_type": "slide"
    }
   },
   "source": [
    "**平稳性条件**\n",
    "\n",
    "称$A\\left( z \\right) = 1 - \\sum\\limits_{i = 1}^p {{\\phi _i}{z^i}} $ 为ＡＲ多项式， $B\\left( z \\right) = 1 + \\sum\\limits_{i = 1}^q {{b_i}{z^i}} $为ＭＡ多项式。为了保证模型为最简约形式，要求$A\\left( z \\right),B\\left( z \\right)$ 没有公因子。如果要求序列平稳，则要求$A\\left( z \\right)$ 的根都在单位圆外。"
   ]
  },
  {
   "cell_type": "markdown",
   "metadata": {
    "slideshow": {
     "slide_type": "slide"
    }
   },
   "source": [
    "**模型的选择，估计和检验**\n",
    "\n",
    "当$k > q$ 时，ＡＲＭＡ（ｐ，ｑ）模型有和自回归模型类似的Ｙｕｌｅ－Ｗａｌｋｅｒ方程。利用这一点也可以用来判断ＡＲＭＡ模型的阶，但通常是利用信息准则来选择恰当阶的ARMA模型。\n",
    "\n",
    "估计和模型检验和前面介绍的AR模型和MA模型类似，使用极大似然估计估计参数，并利用白噪声检验判断模型残差是否为白噪声。"
   ]
  },
  {
   "cell_type": "markdown",
   "metadata": {
    "slideshow": {
     "slide_type": "slide"
    }
   },
   "source": [
    "**模型的预测**\n",
    "\n",
    "   ARMA(p,q)模型的预测和AR模型类似，只是需要对MA部分进行调整。并且这种调整只需要对较低期的预测需要，当预测的期数高于MA的阶$q$时，MA部分的影响就消失了。\n",
    "   \n",
    "   设 $h$为预测原点，$F_h$为在$h$时刻所能得到的信息的集合，向前1步预测为：\n",
    "   \n",
    "   $$\\hat{r}_h(1)=E(r_{h+1}|F_h)=\\phi_0+\\sum_{i=1}^p\\phi_i r_{h+1-i}+\\sum_{i=1}^q b_i \\varepsilon_{h+1-i}$$\n",
    "   预测的误差$$e_h(1)=r_{h+1}-\\hat{r}_h(1)=\\varepsilon_{h+1}$$\n",
    "   误差的方差就是白噪声方差$\\sigma^2$"
   ]
  },
  {
   "cell_type": "markdown",
   "metadata": {
    "slideshow": {
     "slide_type": "slide"
    }
   },
   "source": [
    "**$k$步预测**\n",
    "\n",
    "   $$\\hat{r}_h(k)=E(r_{h+k}|F_h)=\\phi_0+\\sum_{i=1}^p\\phi_i \\hat{r}_h(k-i)+\\sum_{i=1}^q b_i \\varepsilon_{h}(k-i)$$\n",
    "   其中 $k-i\\leq 0$时，$ \\hat{r}_h(k-i)=r_{h+k-i}, \\varepsilon_h(k-i)=\\varepsilon_{h+k-i}$\n",
    "   \n",
    "   当  $k-i> 0$时，$   \\varepsilon_h(k-i)=0$\n",
    "   \n",
    "   预测的误差$$e_h(k)=r_{h+k}-\\hat{r}_h(k)$$\n",
    "   \n",
    "   预测误差的方差可以用如下的ＭＡ表示计算"
   ]
  },
  {
   "cell_type": "markdown",
   "metadata": {
    "slideshow": {
     "slide_type": "slide"
    }
   },
   "source": [
    "**ARMA 模型的 MA表示**\n",
    "\n",
    "和AR模型一样，我们可以用白噪声的线性序列表示观察数据$r_t$.\n",
    "\n",
    "\n",
    " $${r_t} = {\\phi _0} + \\sum\\limits_{i = 1}^p {{\\phi _i}{r_{t - i}}}  + {\\varepsilon _t} + \\sum\\limits_{i = 1}^q {{b_i}{\\varepsilon _{t - i}}} ,$$\n",
    " \n",
    " 引入滞后算子(为了避免混淆，用$L$)多项式\n",
    "\n",
    "$A\\left(L \\right) = 1 - \\sum\\limits_{i = 1}^p {{\\phi _i}{L^i}} $  ， $B\\left(L \\right) = 1 + \\sum\\limits_{i = 1}^q {{b_i}{L^i}} $\n",
    "\n",
    "将模型表示为：\n",
    "\n",
    "$$A(L)r_t=\\phi_0+B(L)\\varepsilon_t$$\n",
    "\n"
   ]
  },
  {
   "cell_type": "markdown",
   "metadata": {
    "slideshow": {
     "slide_type": "slide"
    }
   },
   "source": [
    "**ARMA 模型的 MA表示**\n",
    "\n",
    "我们将$A^{-1}(L)$展开为多项式级数的形式，如果存在，显然 $A^{-1}(L)A(L)=1$\n",
    "\n",
    "将算子$A^{-1}(L)$同时作用于等式 $A(L)r_t=\\phi_0+B(L)\\varepsilon_t$ 两边，可以得到\n",
    "\n",
    "\n",
    "$$r_t=A^{-1}(L)\\phi_0+A^{-1}(L)B(L)\\varepsilon_t=\\mu+\\varepsilon_t+\\psi_1 \\varepsilon_{t-1}+\\psi_2 \\varepsilon_{t-2}+\\cdots$$\n",
    "\n",
    "这个$\\psi_i$为脉冲响应系数\n",
    "\n"
   ]
  },
  {
   "cell_type": "markdown",
   "metadata": {
    "slideshow": {
     "slide_type": "slide"
    }
   },
   "source": [
    "**用MA表示分析ARMA的预测**\n",
    "\n",
    "\n",
    "$$r_{h+k}=\\mu+\\varepsilon_{h+k}+\\psi_1 \\varepsilon_{h+k-1}+\\psi_2 \\varepsilon_{h+k-2}+\\cdots$$\n",
    "\n",
    "ARMA模型的向前 $k$步预测为：\n",
    "\n",
    " $$ \\hat{r}_h(k)=\\mu+\\psi_k \\varepsilon_h+ \\psi_{k+1} \\varepsilon_{h-1}+\\cdots$$\n",
    "\n",
    "误差为： \n",
    "   $$e_h(k)=r_{h+k}- \\hat{r}_h(k)=\\varepsilon_{h+k}+\\psi_1 \\varepsilon_{h+k-1}+\\cdots+\\psi_{k-1} \\varepsilon_{h+1}$$\n",
    "   \n",
    " 预测误差的方差为：\n",
    " \n",
    " $$(1+\\psi_1^2+\\cdots+\\psi_{k-1}^2)\\sigma^2$$"
   ]
  },
  {
   "cell_type": "markdown",
   "metadata": {
    "slideshow": {
     "slide_type": "slide"
    }
   },
   "source": [
    "我们利用２０１２－２０１４年沪深股市的数据，看看日收益率的自相关性(这里仅仅讨论了日收益率)，stockautocorr700.csv保存了收益率序列拒绝白噪声检验的序列自相关系数。"
   ]
  },
  {
   "cell_type": "code",
   "execution_count": 1,
   "metadata": {
    "slideshow": {
     "slide_type": "slide"
    }
   },
   "outputs": [
    {
     "data": {
      "text/html": [
       "<div>\n",
       "<style scoped>\n",
       "    .dataframe tbody tr th:only-of-type {\n",
       "        vertical-align: middle;\n",
       "    }\n",
       "\n",
       "    .dataframe tbody tr th {\n",
       "        vertical-align: top;\n",
       "    }\n",
       "\n",
       "    .dataframe thead th {\n",
       "        text-align: right;\n",
       "    }\n",
       "</style>\n",
       "<table border=\"1\" class=\"dataframe\">\n",
       "  <thead>\n",
       "    <tr style=\"text-align: right;\">\n",
       "      <th></th>\n",
       "      <th>0</th>\n",
       "      <th>1</th>\n",
       "      <th>2</th>\n",
       "      <th>3</th>\n",
       "      <th>4</th>\n",
       "      <th>5</th>\n",
       "    </tr>\n",
       "  </thead>\n",
       "  <tbody>\n",
       "    <tr>\n",
       "      <th>600317</th>\n",
       "      <td>0.230590</td>\n",
       "      <td>0.048977</td>\n",
       "      <td>0.001059</td>\n",
       "      <td>0.068277</td>\n",
       "      <td>-0.054996</td>\n",
       "      <td>0.002247</td>\n",
       "    </tr>\n",
       "    <tr>\n",
       "      <th>000606</th>\n",
       "      <td>0.182622</td>\n",
       "      <td>0.006486</td>\n",
       "      <td>0.022557</td>\n",
       "      <td>-0.029581</td>\n",
       "      <td>-0.092574</td>\n",
       "      <td>-0.010252</td>\n",
       "    </tr>\n",
       "    <tr>\n",
       "      <th>600301</th>\n",
       "      <td>0.178848</td>\n",
       "      <td>0.025379</td>\n",
       "      <td>0.045260</td>\n",
       "      <td>0.033242</td>\n",
       "      <td>-0.029048</td>\n",
       "      <td>0.001965</td>\n",
       "    </tr>\n",
       "    <tr>\n",
       "      <th>002355</th>\n",
       "      <td>0.170163</td>\n",
       "      <td>0.066944</td>\n",
       "      <td>0.033639</td>\n",
       "      <td>0.024863</td>\n",
       "      <td>0.009346</td>\n",
       "      <td>-0.095205</td>\n",
       "    </tr>\n",
       "    <tr>\n",
       "      <th>000059</th>\n",
       "      <td>0.166113</td>\n",
       "      <td>-0.057725</td>\n",
       "      <td>0.024846</td>\n",
       "      <td>0.007080</td>\n",
       "      <td>0.035886</td>\n",
       "      <td>0.020479</td>\n",
       "    </tr>\n",
       "    <tr>\n",
       "      <th>601668</th>\n",
       "      <td>-0.027504</td>\n",
       "      <td>0.055419</td>\n",
       "      <td>-0.056715</td>\n",
       "      <td>0.165671</td>\n",
       "      <td>0.019762</td>\n",
       "      <td>0.013104</td>\n",
       "    </tr>\n",
       "    <tr>\n",
       "      <th>002027</th>\n",
       "      <td>0.160108</td>\n",
       "      <td>0.010033</td>\n",
       "      <td>0.008325</td>\n",
       "      <td>-0.007444</td>\n",
       "      <td>-0.102126</td>\n",
       "      <td>-0.059907</td>\n",
       "    </tr>\n",
       "    <tr>\n",
       "      <th>601939</th>\n",
       "      <td>-0.004485</td>\n",
       "      <td>-0.070203</td>\n",
       "      <td>0.061159</td>\n",
       "      <td>0.160038</td>\n",
       "      <td>-0.147009</td>\n",
       "      <td>0.012374</td>\n",
       "    </tr>\n",
       "    <tr>\n",
       "      <th>000806</th>\n",
       "      <td>0.156048</td>\n",
       "      <td>0.004091</td>\n",
       "      <td>-0.017619</td>\n",
       "      <td>0.042569</td>\n",
       "      <td>-0.041648</td>\n",
       "      <td>-0.026724</td>\n",
       "    </tr>\n",
       "    <tr>\n",
       "      <th>000829</th>\n",
       "      <td>0.152872</td>\n",
       "      <td>-0.016700</td>\n",
       "      <td>-0.087600</td>\n",
       "      <td>-0.043394</td>\n",
       "      <td>-0.074999</td>\n",
       "      <td>-0.007591</td>\n",
       "    </tr>\n",
       "  </tbody>\n",
       "</table>\n",
       "</div>"
      ],
      "text/plain": [
       "               0         1         2         3         4         5\n",
       "600317  0.230590  0.048977  0.001059  0.068277 -0.054996  0.002247\n",
       "000606  0.182622  0.006486  0.022557 -0.029581 -0.092574 -0.010252\n",
       "600301  0.178848  0.025379  0.045260  0.033242 -0.029048  0.001965\n",
       "002355  0.170163  0.066944  0.033639  0.024863  0.009346 -0.095205\n",
       "000059  0.166113 -0.057725  0.024846  0.007080  0.035886  0.020479\n",
       "601668 -0.027504  0.055419 -0.056715  0.165671  0.019762  0.013104\n",
       "002027  0.160108  0.010033  0.008325 -0.007444 -0.102126 -0.059907\n",
       "601939 -0.004485 -0.070203  0.061159  0.160038 -0.147009  0.012374\n",
       "000806  0.156048  0.004091 -0.017619  0.042569 -0.041648 -0.026724\n",
       "000829  0.152872 -0.016700 -0.087600 -0.043394 -0.074999 -0.007591"
      ]
     },
     "execution_count": 1,
     "metadata": {},
     "output_type": "execute_result"
    }
   ],
   "source": [
    "import statsmodels.api as sm\n",
    "import pandas as pd \n",
    "from statsmodels.tsa.stattools import q_stat, acf\n",
    "import numpy as np\n",
    "\n",
    "#下面文件存储了收益率拒绝白噪声检验（2012-2014日对数收益率，alpha=0.01,m=6）的沪深股票的自相关系数\n",
    "autocorr=pd.read_csv(\"data/stockautocorr700.csv\",index_col=0)\n",
    "#autocorr.sort(columns=\"0\",ascending=False)\n",
    "automax=autocorr.max(axis=1) \n",
    "oindex=automax.sort_values(ascending=False).index\n",
    "#取出相关系数最大的10只\n",
    "autocorr10=autocorr.loc[oindex][:10]\n",
    "stockidset=[str(item).zfill(6) for item in autocorr10.index]\n",
    "autocorr10.index =  stockidset \n",
    "autocorr10"
   ]
  },
  {
   "cell_type": "markdown",
   "metadata": {
    "slideshow": {
     "slide_type": "slide"
    }
   },
   "source": [
    "我们选择002355讨论一下 "
   ]
  },
  {
   "cell_type": "code",
   "execution_count": 3,
   "metadata": {
    "slideshow": {
     "slide_type": "slide"
    }
   },
   "outputs": [],
   "source": [
    "#取1只的数据，并计算日收益率\n",
    " #stocks=pd.read_csv(\"data/stockclose.csv\",index_col=0,parse_dates=True)\n",
    "sz2355=pd.read_csv(\"data/sz002355.csv\",index_col=0,parse_dates=True)\n",
    "sz2355=sz2355[\"2012-1-1\":\"2014-12-31\"]\n",
    "simpleret=sz2355.pct_change()\n",
    "logret= np.log(sz2355) - np.log(sz2355.shift(1))\n"
   ]
  },
  {
   "cell_type": "code",
   "execution_count": 4,
   "metadata": {
    "scrolled": false,
    "slideshow": {
     "slide_type": "slide"
    }
   },
   "outputs": [
    {
     "data": {
      "text/plain": [
       "array([<AxesSubplot:xlabel='date'>], dtype=object)"
      ]
     },
     "execution_count": 4,
     "metadata": {},
     "output_type": "execute_result"
    },
    {
     "data": {
      "image/png": "[encoded data removed]",
      "text/plain": [
       "<Figure size 432x288 with 1 Axes>"
      ]
     },
     "metadata": {
      "needs_background": "light"
     },
     "output_type": "display_data"
    },
    {
     "data": {
      "image/png": "[encoded data removed]",
      "text/plain": [
       "<Figure size 432x288 with 1 Axes>"
      ]
     },
     "metadata": {
      "needs_background": "light"
     },
     "output_type": "display_data"
    }
   ],
   "source": [
    "\n",
    "%matplotlib inline\n",
    "sz2355.plot(subplots=True)\n",
    "logret.plot(subplots=True)"
   ]
  },
  {
   "cell_type": "code",
   "execution_count": 79,
   "metadata": {
    "scrolled": true,
    "slideshow": {
     "slide_type": "slide"
    }
   },
   "outputs": [
    {
     "name": "stdout",
     "output_type": "stream",
     "text": [
      "        002355.SZ\n",
      "count  725.000000\n",
      "mean     0.000181\n",
      "std      0.020082\n",
      "min     -0.105956\n",
      "25%     -0.008255\n",
      "50%      0.000907\n",
      "75%      0.009951\n",
      "max      0.095397\n"
     ]
    },
    {
     "data": {
      "text/plain": [
       "array([ 1.        ,  0.16911725,  0.06750653,  0.03220622,  0.02413935,\n",
       "        0.01109958, -0.0975453 , -0.02834674,  0.00138082, -0.00986724,\n",
       "       -0.01755614])"
      ]
     },
     "execution_count": 79,
     "metadata": {},
     "output_type": "execute_result"
    }
   ],
   "source": [
    "# 取出数据并去掉第一个NA值\n",
    "logret1=logret[1:]\n",
    "logret1.index = pd.to_datetime(logret1.index)\n",
    "\n",
    "print( logret1.describe())\n",
    "acf(logret1,nlags=10,fft=False)"
   ]
  },
  {
   "cell_type": "code",
   "execution_count": 80,
   "metadata": {
    "scrolled": false,
    "slideshow": {
     "slide_type": "slide"
    }
   },
   "outputs": [
    {
     "name": "stderr",
     "output_type": "stream",
     "text": [
      "C:\\Users\\heyb\\Anaconda3\\lib\\site-packages\\statsmodels\\tsa\\statespace\\sarimax.py:966: UserWarning: Non-stationary starting autoregressive parameters found. Using zeros as starting parameters.\n",
      "  warn('Non-stationary starting autoregressive parameters'\n",
      "C:\\Users\\heyb\\Anaconda3\\lib\\site-packages\\statsmodels\\tsa\\statespace\\sarimax.py:978: UserWarning: Non-invertible starting MA parameters found. Using zeros as starting parameters.\n",
      "  warn('Non-invertible starting MA parameters found.'\n"
     ]
    },
    {
     "name": "stdout",
     "output_type": "stream",
     "text": [
      "(1, 0) (1, 0)\n",
      "             0            1            2\n",
      "0 -3606.005154 -3623.669492 -3624.325538\n",
      "1 -3625.719137 -3624.978268 -3623.103467\n",
      "2 -3624.895399 -3623.050005 -3620.661893\n",
      "3 -3623.094290 -3621.066551 -3619.024132\n",
      "4 -3621.271522 -3619.247967 -3617.305384\n",
      "             0            1            2\n",
      "0 -3596.832810 -3609.910977 -3605.980851\n",
      "1 -3611.960622 -3606.633581 -3600.172609\n",
      "2 -3606.550712 -3600.119146 -3593.144863\n",
      "3 -3600.163432 -3593.549521 -3586.920931\n",
      "4 -3593.754492 -3587.144766 -3580.616010\n"
     ]
    }
   ],
   "source": [
    "mean1=logret1.mean()\n",
    "logret1=logret1-mean1\n",
    "res = sm.tsa.arma_order_select_ic(logret1, ic=['aic', 'bic'], trend='c',max_ar=4, max_ma=2)\n",
    "print( res.aic_min_order,res.bic_min_order)\n",
    "print( res.aic)\n",
    "print( res.bic)"
   ]
  },
  {
   "cell_type": "code",
   "execution_count": 81,
   "metadata": {
    "scrolled": true,
    "slideshow": {
     "slide_type": "slide"
    }
   },
   "outputs": [
    {
     "name": "stderr",
     "output_type": "stream",
     "text": [
      "C:\\Users\\heyb\\Anaconda3\\lib\\site-packages\\statsmodels\\tsa\\base\\tsa_model.py:473: ValueWarning: A date index has been provided, but it has no associated frequency information and so will be ignored when e.g. forecasting.\n",
      "  self._init_dates(dates, freq)\n",
      "C:\\Users\\heyb\\Anaconda3\\lib\\site-packages\\statsmodels\\tsa\\base\\tsa_model.py:473: ValueWarning: A date index has been provided, but it has no associated frequency information and so will be ignored when e.g. forecasting.\n",
      "  self._init_dates(dates, freq)\n",
      "C:\\Users\\heyb\\Anaconda3\\lib\\site-packages\\statsmodels\\tsa\\base\\tsa_model.py:473: ValueWarning: A date index has been provided, but it has no associated frequency information and so will be ignored when e.g. forecasting.\n",
      "  self._init_dates(dates, freq)\n"
     ]
    },
    {
     "data": {
      "text/html": [
       "<table class=\"simpletable\">\n",
       "<caption>SARIMAX Results</caption>\n",
       "<tr>\n",
       "  <th>Dep. Variable:</th>       <td>002355.SZ</td>    <th>  No. Observations:  </th>    <td>725</td>   \n",
       "</tr>\n",
       "<tr>\n",
       "  <th>Model:</th>            <td>ARIMA(1, 0, 0)</td>  <th>  Log Likelihood     </th> <td>1815.860</td> \n",
       "</tr>\n",
       "<tr>\n",
       "  <th>Date:</th>            <td>Tue, 12 Dec 2023</td> <th>  AIC                </th> <td>-3625.719</td>\n",
       "</tr>\n",
       "<tr>\n",
       "  <th>Time:</th>                <td>12:46:40</td>     <th>  BIC                </th> <td>-3611.961</td>\n",
       "</tr>\n",
       "<tr>\n",
       "  <th>Sample:</th>                  <td>0</td>        <th>  HQIC               </th> <td>-3620.409</td>\n",
       "</tr>\n",
       "<tr>\n",
       "  <th></th>                      <td> - 725</td>      <th>                     </th>     <td> </td>    \n",
       "</tr>\n",
       "<tr>\n",
       "  <th>Covariance Type:</th>        <td>opg</td>       <th>                     </th>     <td> </td>    \n",
       "</tr>\n",
       "</table>\n",
       "<table class=\"simpletable\">\n",
       "<tr>\n",
       "     <td></td>       <th>coef</th>     <th>std err</th>      <th>z</th>      <th>P>|z|</th>  <th>[0.025</th>    <th>0.975]</th>  \n",
       "</tr>\n",
       "<tr>\n",
       "  <th>const</th>  <td> 2.926e-05</td> <td>    0.001</td> <td>    0.032</td> <td> 0.974</td> <td>   -0.002</td> <td>    0.002</td>\n",
       "</tr>\n",
       "<tr>\n",
       "  <th>ar.L1</th>  <td>    0.1747</td> <td>    0.031</td> <td>    5.648</td> <td> 0.000</td> <td>    0.114</td> <td>    0.235</td>\n",
       "</tr>\n",
       "<tr>\n",
       "  <th>sigma2</th> <td>    0.0004</td> <td> 1.14e-05</td> <td>   34.397</td> <td> 0.000</td> <td>    0.000</td> <td>    0.000</td>\n",
       "</tr>\n",
       "</table>\n",
       "<table class=\"simpletable\">\n",
       "<tr>\n",
       "  <th>Ljung-Box (L1) (Q):</th>     <td>0.11</td> <th>  Jarque-Bera (JB):  </th> <td>795.62</td>\n",
       "</tr>\n",
       "<tr>\n",
       "  <th>Prob(Q):</th>                <td>0.74</td> <th>  Prob(JB):          </th>  <td>0.00</td> \n",
       "</tr>\n",
       "<tr>\n",
       "  <th>Heteroskedasticity (H):</th> <td>0.85</td> <th>  Skew:              </th>  <td>-0.63</td>\n",
       "</tr>\n",
       "<tr>\n",
       "  <th>Prob(H) (two-sided):</th>    <td>0.22</td> <th>  Kurtosis:          </th>  <td>7.97</td> \n",
       "</tr>\n",
       "</table><br/><br/>Warnings:<br/>[1] Covariance matrix calculated using the outer product of gradients (complex-step)."
      ],
      "text/latex": [
       "\\begin{center}\n",
       "\\begin{tabular}{lclc}\n",
       "\\toprule\n",
       "\\textbf{Dep. Variable:}          &    002355.SZ     & \\textbf{  No. Observations:  } &    725      \\\\\n",
       "\\textbf{Model:}                  &  ARIMA(1, 0, 0)  & \\textbf{  Log Likelihood     } &  1815.860   \\\\\n",
       "\\textbf{Date:}                   & Tue, 12 Dec 2023 & \\textbf{  AIC                } & -3625.719   \\\\\n",
       "\\textbf{Time:}                   &     12:46:40     & \\textbf{  BIC                } & -3611.961   \\\\\n",
       "\\textbf{Sample:}                 &        0         & \\textbf{  HQIC               } & -3620.409   \\\\\n",
       "\\textbf{}                        &       - 725      & \\textbf{                     } &             \\\\\n",
       "\\textbf{Covariance Type:}        &       opg        & \\textbf{                     } &             \\\\\n",
       "\\bottomrule\n",
       "\\end{tabular}\n",
       "\\begin{tabular}{lcccccc}\n",
       "                & \\textbf{coef} & \\textbf{std err} & \\textbf{z} & \\textbf{P$> |$z$|$} & \\textbf{[0.025} & \\textbf{0.975]}  \\\\\n",
       "\\midrule\n",
       "\\textbf{const}  &    2.926e-05  &        0.001     &     0.032  &         0.974        &       -0.002    &        0.002     \\\\\n",
       "\\textbf{ar.L1}  &       0.1747  &        0.031     &     5.648  &         0.000        &        0.114    &        0.235     \\\\\n",
       "\\textbf{sigma2} &       0.0004  &     1.14e-05     &    34.397  &         0.000        &        0.000    &        0.000     \\\\\n",
       "\\bottomrule\n",
       "\\end{tabular}\n",
       "\\begin{tabular}{lclc}\n",
       "\\textbf{Ljung-Box (L1) (Q):}     & 0.11 & \\textbf{  Jarque-Bera (JB):  } & 795.62  \\\\\n",
       "\\textbf{Prob(Q):}                & 0.74 & \\textbf{  Prob(JB):          } &  0.00   \\\\\n",
       "\\textbf{Heteroskedasticity (H):} & 0.85 & \\textbf{  Skew:              } & -0.63   \\\\\n",
       "\\textbf{Prob(H) (two-sided):}    & 0.22 & \\textbf{  Kurtosis:          } &  7.97   \\\\\n",
       "\\bottomrule\n",
       "\\end{tabular}\n",
       "%\\caption{SARIMAX Results}\n",
       "\\end{center}\n",
       "\n",
       "Warnings: \\newline\n",
       " [1] Covariance matrix calculated using the outer product of gradients (complex-step)."
      ],
      "text/plain": [
       "<class 'statsmodels.iolib.summary.Summary'>\n",
       "\"\"\"\n",
       "                               SARIMAX Results                                \n",
       "==============================================================================\n",
       "Dep. Variable:              002355.SZ   No. Observations:                  725\n",
       "Model:                 ARIMA(1, 0, 0)   Log Likelihood                1815.860\n",
       "Date:                Tue, 12 Dec 2023   AIC                          -3625.719\n",
       "Time:                        12:46:40   BIC                          -3611.961\n",
       "Sample:                             0   HQIC                         -3620.409\n",
       "                                - 725                                         \n",
       "Covariance Type:                  opg                                         \n",
       "==============================================================================\n",
       "                 coef    std err          z      P>|z|      [0.025      0.975]\n",
       "------------------------------------------------------------------------------\n",
       "const       2.926e-05      0.001      0.032      0.974      -0.002       0.002\n",
       "ar.L1          0.1747      0.031      5.648      0.000       0.114       0.235\n",
       "sigma2         0.0004   1.14e-05     34.397      0.000       0.000       0.000\n",
       "===================================================================================\n",
       "Ljung-Box (L1) (Q):                   0.11   Jarque-Bera (JB):               795.62\n",
       "Prob(Q):                              0.74   Prob(JB):                         0.00\n",
       "Heteroskedasticity (H):               0.85   Skew:                            -0.63\n",
       "Prob(H) (two-sided):                  0.22   Kurtosis:                         7.97\n",
       "===================================================================================\n",
       "\n",
       "Warnings:\n",
       "[1] Covariance matrix calculated using the outer product of gradients (complex-step).\n",
       "\"\"\""
      ]
     },
     "execution_count": 81,
     "metadata": {},
     "output_type": "execute_result"
    }
   ],
   "source": [
    "arma_mod1 = sm.tsa.arima.ARIMA(logret1, order=(1,0,0))\n",
    "arma_res = arma_mod1.fit()\n",
    "arma_res.summary()"
   ]
  },
  {
   "cell_type": "code",
   "execution_count": 82,
   "metadata": {
    "slideshow": {
     "slide_type": "slide"
    }
   },
   "outputs": [
    {
     "data": {
      "text/plain": [
       "002355.SZ    0.028602\n",
       "dtype: float64"
      ]
     },
     "execution_count": 82,
     "metadata": {},
     "output_type": "execute_result"
    }
   ],
   "source": [
    "## R^2\n",
    "1-(arma_res.resid.std()/logret1.std())**2\n"
   ]
  },
  {
   "cell_type": "code",
   "execution_count": 83,
   "metadata": {},
   "outputs": [
    {
     "data": {
      "text/plain": [
       "0.02895530694400006"
      ]
     },
     "execution_count": 83,
     "metadata": {},
     "output_type": "execute_result"
    }
   ],
   "source": [
    "1-(1-0.014584)**2"
   ]
  },
  {
   "cell_type": "code",
   "execution_count": 84,
   "metadata": {
    "slideshow": {
     "slide_type": "slide"
    }
   },
   "outputs": [
    {
     "data": {
      "text/plain": [
       "array([ 1.        , -0.0123619 ,  0.03546657,  0.01749634,  0.0177607 ,\n",
       "        0.024936  , -0.10011354, -0.01286981,  0.00725706, -0.00756761,\n",
       "       -0.01529349])"
      ]
     },
     "execution_count": 84,
     "metadata": {},
     "output_type": "execute_result"
    }
   ],
   "source": [
    "acf(arma_res.resid,nlags=10)"
   ]
  },
  {
   "cell_type": "markdown",
   "metadata": {
    "slideshow": {
     "slide_type": "slide"
    }
   },
   "source": [
    "+ 其实我们从收益率方差和白噪声方差就可以看出，即使对沪深股票收益率自相关相对较大的情形，线性时间序列的预测能力也很低。至少从R平方这个角度看，对2012.1.1-2014.12.30这段时间的日收益率，线性时间序列的预测能力是比较低的。\n",
    "+ 并且 有较高阶的自相关系数还较大(相对 1.96/np.sqrt(724)=0.073，从绝对量来说还是比较小)，通常情况下我们不会强行对这种高阶(弱)相关性进行拟合，除非其有明确的意义。"
   ]
  },
  {
   "cell_type": "markdown",
   "metadata": {
    "slideshow": {
     "slide_type": "slide"
    }
   },
   "source": [
    "下面画出其样本预测值"
   ]
  },
  {
   "cell_type": "code",
   "execution_count": 90,
   "metadata": {
    "slideshow": {
     "slide_type": "slide"
    }
   },
   "outputs": [
    {
     "name": "stdout",
     "output_type": "stream",
     "text": [
      "            002355.SZ\n",
      "date                 \n",
      "2014-12-18  -0.010818\n",
      "2014-12-19  -0.002855\n",
      "2014-12-22  -0.106137\n",
      "2014-12-23  -0.027381\n",
      "2014-12-24   0.021032\n",
      "2014-12-25  -0.000181\n",
      "2014-12-26  -0.006188\n",
      "2014-12-29  -0.019994\n",
      "2014-12-30   0.001361\n",
      "2014-12-31   0.016574\n"
     ]
    },
    {
     "name": "stderr",
     "output_type": "stream",
     "text": [
      "C:\\Users\\heyb\\Anaconda3\\lib\\site-packages\\statsmodels\\tsa\\base\\tsa_model.py:836: ValueWarning: No supported index is available. Prediction results will be given with an integer index beginning at `start`.\n",
      "  return get_prediction_index(\n",
      "C:\\Users\\heyb\\Anaconda3\\lib\\site-packages\\statsmodels\\tsa\\base\\tsa_model.py:836: FutureWarning: No supported index is available. In the next version, calling this method in a model without a supported index will result in an exception.\n",
      "  return get_prediction_index(\n"
     ]
    }
   ],
   "source": [
    "import matplotlib.pylab as plt\n",
    "%matplotlib inline\n",
    "print( logret1.tail(10))\n",
    " \n",
    "res=arma_res.get_forecast(5)   \n",
    "pred=res.predicted_mean\n",
    "low=res.conf_int().values[:,0] \n",
    "upp=res.conf_int().values[:,1] "
   ]
  },
  {
   "cell_type": "code",
   "execution_count": 91,
   "metadata": {
    "scrolled": true,
    "slideshow": {
     "slide_type": "slide"
    }
   },
   "outputs": [
    {
     "data": {
      "text/plain": [
       "<AxesSubplot:xlabel='date'>"
      ]
     },
     "execution_count": 91,
     "metadata": {},
     "output_type": "execute_result"
    },
    {
     "data": {
      "image/png": "[encoded data removed]",
      "text/plain": [
       "<Figure size 360x288 with 1 Axes>"
      ]
     },
     "metadata": {
      "needs_background": "light"
     },
     "output_type": "display_data"
    }
   ],
   "source": [
    "import pandas as pd\n",
    "\n",
    "fig, ax = plt.subplots(figsize=(5,4))\n",
    "\n",
    "xt=pd.date_range(start=\"2015-1-2\", end=None, periods=5, freq='B')\n",
    "da=logret.tail(10)\n",
    "xdate=da.index.union(xt)\n",
    "data=np.append(da.values,pred )\n",
    "alld=pd.Series(data,index=xdate)\n",
    "alld.plot(ax=ax)\n",
    "#preda.plot()\n",
    "ax.plot(xt,pred,\"g-\",xt,upp,\"g-\",xt,low,\"g-\")\n",
    "arma_res.predict().tail(10).plot(ax=ax)"
   ]
  },
  {
   "cell_type": "markdown",
   "metadata": {},
   "source": [
    "**练习** :\n",
    "\n",
    "+ 问题： 这种序列弱序列相关性能利用来设计投资策略吗？如何评估效果？\n",
    "        \n",
    "       评估一下策略：如果今天涨就以收盘价买入，如果今天跌，就以收盘价卖出。\n",
    "       \n",
    "+ 对index中的指数计算收益率（2016－2023），进行白噪声检验，选出一个序列相关性较大的指数。对其进行ＡＲＭＡ建模。"
   ]
  },
  {
   "cell_type": "code",
   "execution_count": 101,
   "metadata": {},
   "outputs": [],
   "source": [
    "import numpy as np\n",
    "indexclose=pd.read_csv(\"./data/sh.000001.csv\",index_col=0,parse_dates=True)[\"close\"]\n",
    "\n",
    "indexretsimple = indexclose.pct_change()\n",
    "indexretlog = np.log(indexclose) - np.log(indexclose.shift(1))"
   ]
  },
  {
   "cell_type": "code",
   "execution_count": 102,
   "metadata": {},
   "outputs": [
    {
     "data": {
      "text/plain": [
       "array([1.33133602])"
      ]
     },
     "execution_count": 102,
     "metadata": {},
     "output_type": "execute_result"
    }
   ],
   "source": [
    "ret=logret[1:]\n",
    "posi=np.sign(ret).shift(1)\n",
    "ret1=posi*ret\n",
    "x=ret1[1:]\n",
    "sum(x.values)"
   ]
  },
  {
   "cell_type": "code",
   "execution_count": 104,
   "metadata": {},
   "outputs": [],
   "source": [
    "import os\n",
    "import pandas as pd\n",
    "\n",
    "# 存储所有数据的字典\n",
    "data = {}\n",
    "\n",
    "# 遍历目录中的所有文件\n",
    "for filename in os.listdir('E:/Quant/data/baostock/index/daily'):\n",
    "    # 检查文件名是否以'sh'开头\n",
    "    if filename.startswith('sh'):\n",
    "        # 读取文件中的收盘价\n",
    "        close_price = pd.read_csv(f'E:/Quant/data/baostock/index/daily/{filename}', index_col=0, parse_dates=True)['close']\n",
    "        # 将收盘价添加到数据字典中，使用文件名作为键\n",
    "        data[filename] = close_price\n",
    "\n",
    "# 将数据字典转换为DataFrame\n",
    "df = pd.DataFrame(data)\n",
    "\n",
    "# 将DataFrame写入CSV文件\n",
    "df.to_csv('./data/indexclose.csv')"
   ]
  },
  {
   "cell_type": "code",
   "execution_count": 105,
   "metadata": {},
   "outputs": [
    {
     "data": {
      "text/html": [
       "<div>\n",
       "<style scoped>\n",
       "    .dataframe tbody tr th:only-of-type {\n",
       "        vertical-align: middle;\n",
       "    }\n",
       "\n",
       "    .dataframe tbody tr th {\n",
       "        vertical-align: top;\n",
       "    }\n",
       "\n",
       "    .dataframe thead th {\n",
       "        text-align: right;\n",
       "    }\n",
       "</style>\n",
       "<table border=\"1\" class=\"dataframe\">\n",
       "  <thead>\n",
       "    <tr style=\"text-align: right;\">\n",
       "      <th></th>\n",
       "      <th>sh.000001.csv</th>\n",
       "      <th>sh.000002.csv</th>\n",
       "      <th>sh.000003.csv</th>\n",
       "      <th>sh.000004.csv</th>\n",
       "      <th>sh.000005.csv</th>\n",
       "      <th>sh.000006.csv</th>\n",
       "      <th>sh.000007.csv</th>\n",
       "      <th>sh.000008.csv</th>\n",
       "      <th>sh.000009.csv</th>\n",
       "      <th>sh.000010.csv</th>\n",
       "      <th>...</th>\n",
       "      <th>sh.000984.csv</th>\n",
       "      <th>sh.000986.csv</th>\n",
       "      <th>sh.000987.csv</th>\n",
       "      <th>sh.000989.csv</th>\n",
       "      <th>sh.000990.csv</th>\n",
       "      <th>sh.000991.csv</th>\n",
       "      <th>sh.000992.csv</th>\n",
       "      <th>sh.000993.csv</th>\n",
       "      <th>sh.000998.csv</th>\n",
       "      <th>sh.000999.csv</th>\n",
       "    </tr>\n",
       "    <tr>\n",
       "      <th>date</th>\n",
       "      <th></th>\n",
       "      <th></th>\n",
       "      <th></th>\n",
       "      <th></th>\n",
       "      <th></th>\n",
       "      <th></th>\n",
       "      <th></th>\n",
       "      <th></th>\n",
       "      <th></th>\n",
       "      <th></th>\n",
       "      <th></th>\n",
       "      <th></th>\n",
       "      <th></th>\n",
       "      <th></th>\n",
       "      <th></th>\n",
       "      <th></th>\n",
       "      <th></th>\n",
       "      <th></th>\n",
       "      <th></th>\n",
       "      <th></th>\n",
       "      <th></th>\n",
       "    </tr>\n",
       "  </thead>\n",
       "  <tbody>\n",
       "    <tr>\n",
       "      <th>1991-07-15</th>\n",
       "      <td>133.1400</td>\n",
       "      <td>NaN</td>\n",
       "      <td>NaN</td>\n",
       "      <td>NaN</td>\n",
       "      <td>NaN</td>\n",
       "      <td>NaN</td>\n",
       "      <td>NaN</td>\n",
       "      <td>NaN</td>\n",
       "      <td>NaN</td>\n",
       "      <td>NaN</td>\n",
       "      <td>...</td>\n",
       "      <td>NaN</td>\n",
       "      <td>NaN</td>\n",
       "      <td>NaN</td>\n",
       "      <td>NaN</td>\n",
       "      <td>NaN</td>\n",
       "      <td>NaN</td>\n",
       "      <td>NaN</td>\n",
       "      <td>NaN</td>\n",
       "      <td>NaN</td>\n",
       "      <td>NaN</td>\n",
       "    </tr>\n",
       "    <tr>\n",
       "      <th>1991-07-16</th>\n",
       "      <td>134.4700</td>\n",
       "      <td>NaN</td>\n",
       "      <td>NaN</td>\n",
       "      <td>NaN</td>\n",
       "      <td>NaN</td>\n",
       "      <td>NaN</td>\n",
       "      <td>NaN</td>\n",
       "      <td>NaN</td>\n",
       "      <td>NaN</td>\n",
       "      <td>NaN</td>\n",
       "      <td>...</td>\n",
       "      <td>NaN</td>\n",
       "      <td>NaN</td>\n",
       "      <td>NaN</td>\n",
       "      <td>NaN</td>\n",
       "      <td>NaN</td>\n",
       "      <td>NaN</td>\n",
       "      <td>NaN</td>\n",
       "      <td>NaN</td>\n",
       "      <td>NaN</td>\n",
       "      <td>NaN</td>\n",
       "    </tr>\n",
       "    <tr>\n",
       "      <th>1991-07-17</th>\n",
       "      <td>135.8100</td>\n",
       "      <td>NaN</td>\n",
       "      <td>NaN</td>\n",
       "      <td>NaN</td>\n",
       "      <td>NaN</td>\n",
       "      <td>NaN</td>\n",
       "      <td>NaN</td>\n",
       "      <td>NaN</td>\n",
       "      <td>NaN</td>\n",
       "      <td>NaN</td>\n",
       "      <td>...</td>\n",
       "      <td>NaN</td>\n",
       "      <td>NaN</td>\n",
       "      <td>NaN</td>\n",
       "      <td>NaN</td>\n",
       "      <td>NaN</td>\n",
       "      <td>NaN</td>\n",
       "      <td>NaN</td>\n",
       "      <td>NaN</td>\n",
       "      <td>NaN</td>\n",
       "      <td>NaN</td>\n",
       "    </tr>\n",
       "    <tr>\n",
       "      <th>1991-07-18</th>\n",
       "      <td>137.1700</td>\n",
       "      <td>NaN</td>\n",
       "      <td>NaN</td>\n",
       "      <td>NaN</td>\n",
       "      <td>NaN</td>\n",
       "      <td>NaN</td>\n",
       "      <td>NaN</td>\n",
       "      <td>NaN</td>\n",
       "      <td>NaN</td>\n",
       "      <td>NaN</td>\n",
       "      <td>...</td>\n",
       "      <td>NaN</td>\n",
       "      <td>NaN</td>\n",
       "      <td>NaN</td>\n",
       "      <td>NaN</td>\n",
       "      <td>NaN</td>\n",
       "      <td>NaN</td>\n",
       "      <td>NaN</td>\n",
       "      <td>NaN</td>\n",
       "      <td>NaN</td>\n",
       "      <td>NaN</td>\n",
       "    </tr>\n",
       "    <tr>\n",
       "      <th>1991-07-19</th>\n",
       "      <td>136.7000</td>\n",
       "      <td>NaN</td>\n",
       "      <td>NaN</td>\n",
       "      <td>NaN</td>\n",
       "      <td>NaN</td>\n",
       "      <td>NaN</td>\n",
       "      <td>NaN</td>\n",
       "      <td>NaN</td>\n",
       "      <td>NaN</td>\n",
       "      <td>NaN</td>\n",
       "      <td>...</td>\n",
       "      <td>NaN</td>\n",
       "      <td>NaN</td>\n",
       "      <td>NaN</td>\n",
       "      <td>NaN</td>\n",
       "      <td>NaN</td>\n",
       "      <td>NaN</td>\n",
       "      <td>NaN</td>\n",
       "      <td>NaN</td>\n",
       "      <td>NaN</td>\n",
       "      <td>NaN</td>\n",
       "    </tr>\n",
       "    <tr>\n",
       "      <th>...</th>\n",
       "      <td>...</td>\n",
       "      <td>...</td>\n",
       "      <td>...</td>\n",
       "      <td>...</td>\n",
       "      <td>...</td>\n",
       "      <td>...</td>\n",
       "      <td>...</td>\n",
       "      <td>...</td>\n",
       "      <td>...</td>\n",
       "      <td>...</td>\n",
       "      <td>...</td>\n",
       "      <td>...</td>\n",
       "      <td>...</td>\n",
       "      <td>...</td>\n",
       "      <td>...</td>\n",
       "      <td>...</td>\n",
       "      <td>...</td>\n",
       "      <td>...</td>\n",
       "      <td>...</td>\n",
       "      <td>...</td>\n",
       "      <td>...</td>\n",
       "    </tr>\n",
       "    <tr>\n",
       "      <th>2023-09-18</th>\n",
       "      <td>3125.9319</td>\n",
       "      <td>3277.3990</td>\n",
       "      <td>236.2817</td>\n",
       "      <td>2829.6815</td>\n",
       "      <td>2520.6895</td>\n",
       "      <td>5524.4962</td>\n",
       "      <td>4367.3298</td>\n",
       "      <td>2650.7533</td>\n",
       "      <td>5461.1290</td>\n",
       "      <td>8053.1212</td>\n",
       "      <td>...</td>\n",
       "      <td>3808.7243</td>\n",
       "      <td>2267.2735</td>\n",
       "      <td>3361.3702</td>\n",
       "      <td>4654.9160</td>\n",
       "      <td>16450.5105</td>\n",
       "      <td>9733.1380</td>\n",
       "      <td>4770.3584</td>\n",
       "      <td>5113.9533</td>\n",
       "      <td>1782.6742</td>\n",
       "      <td>NaN</td>\n",
       "    </tr>\n",
       "    <tr>\n",
       "      <th>2023-09-19</th>\n",
       "      <td>3124.9567</td>\n",
       "      <td>3276.4070</td>\n",
       "      <td>234.4758</td>\n",
       "      <td>2822.4080</td>\n",
       "      <td>2519.5244</td>\n",
       "      <td>5526.3585</td>\n",
       "      <td>4379.4514</td>\n",
       "      <td>2661.5625</td>\n",
       "      <td>5441.6287</td>\n",
       "      <td>8057.6235</td>\n",
       "      <td>...</td>\n",
       "      <td>3798.5265</td>\n",
       "      <td>2289.2442</td>\n",
       "      <td>3354.6644</td>\n",
       "      <td>4639.1274</td>\n",
       "      <td>16387.8032</td>\n",
       "      <td>9707.0567</td>\n",
       "      <td>4780.8737</td>\n",
       "      <td>5063.2859</td>\n",
       "      <td>1765.0644</td>\n",
       "      <td>NaN</td>\n",
       "    </tr>\n",
       "    <tr>\n",
       "      <th>2023-09-20</th>\n",
       "      <td>3108.5679</td>\n",
       "      <td>3259.2309</td>\n",
       "      <td>233.2540</td>\n",
       "      <td>2801.4327</td>\n",
       "      <td>2514.3178</td>\n",
       "      <td>5540.3416</td>\n",
       "      <td>4348.4561</td>\n",
       "      <td>2659.0890</td>\n",
       "      <td>5405.6450</td>\n",
       "      <td>8026.8531</td>\n",
       "      <td>...</td>\n",
       "      <td>3780.4769</td>\n",
       "      <td>2275.6511</td>\n",
       "      <td>3335.5265</td>\n",
       "      <td>4623.3646</td>\n",
       "      <td>16345.8652</td>\n",
       "      <td>9656.2966</td>\n",
       "      <td>4777.5702</td>\n",
       "      <td>5024.1198</td>\n",
       "      <td>1750.5060</td>\n",
       "      <td>NaN</td>\n",
       "    </tr>\n",
       "    <tr>\n",
       "      <th>2023-09-21</th>\n",
       "      <td>3084.7010</td>\n",
       "      <td>3234.2097</td>\n",
       "      <td>230.6993</td>\n",
       "      <td>2776.5866</td>\n",
       "      <td>2486.5002</td>\n",
       "      <td>5508.7563</td>\n",
       "      <td>4325.2976</td>\n",
       "      <td>2646.2180</td>\n",
       "      <td>5362.1803</td>\n",
       "      <td>7957.9056</td>\n",
       "      <td>...</td>\n",
       "      <td>3751.4721</td>\n",
       "      <td>2259.8462</td>\n",
       "      <td>3302.1597</td>\n",
       "      <td>4570.2078</td>\n",
       "      <td>16065.6684</td>\n",
       "      <td>9538.1806</td>\n",
       "      <td>4746.8655</td>\n",
       "      <td>5011.4866</td>\n",
       "      <td>1745.9580</td>\n",
       "      <td>NaN</td>\n",
       "    </tr>\n",
       "    <tr>\n",
       "      <th>2023-09-22</th>\n",
       "      <td>3132.4316</td>\n",
       "      <td>3284.2199</td>\n",
       "      <td>234.3628</td>\n",
       "      <td>2823.0616</td>\n",
       "      <td>2520.3614</td>\n",
       "      <td>5597.1923</td>\n",
       "      <td>4349.5016</td>\n",
       "      <td>2687.7567</td>\n",
       "      <td>5419.3915</td>\n",
       "      <td>8105.3178</td>\n",
       "      <td>...</td>\n",
       "      <td>3803.9704</td>\n",
       "      <td>2262.9980</td>\n",
       "      <td>3318.0501</td>\n",
       "      <td>4632.5984</td>\n",
       "      <td>16369.5118</td>\n",
       "      <td>9627.2961</td>\n",
       "      <td>4839.4883</td>\n",
       "      <td>5171.4569</td>\n",
       "      <td>1795.1100</td>\n",
       "      <td>NaN</td>\n",
       "    </tr>\n",
       "  </tbody>\n",
       "</table>\n",
       "<p>7862 rows × 223 columns</p>\n",
       "</div>"
      ],
      "text/plain": [
       "            sh.000001.csv  sh.000002.csv  sh.000003.csv  sh.000004.csv  \\\n",
       "date                                                                     \n",
       "1991-07-15       133.1400            NaN            NaN            NaN   \n",
       "1991-07-16       134.4700            NaN            NaN            NaN   \n",
       "1991-07-17       135.8100            NaN            NaN            NaN   \n",
       "1991-07-18       137.1700            NaN            NaN            NaN   \n",
       "1991-07-19       136.7000            NaN            NaN            NaN   \n",
       "...                   ...            ...            ...            ...   \n",
       "2023-09-18      3125.9319      3277.3990       236.2817      2829.6815   \n",
       "2023-09-19      3124.9567      3276.4070       234.4758      2822.4080   \n",
       "2023-09-20      3108.5679      3259.2309       233.2540      2801.4327   \n",
       "2023-09-21      3084.7010      3234.2097       230.6993      2776.5866   \n",
       "2023-09-22      3132.4316      3284.2199       234.3628      2823.0616   \n",
       "\n",
       "            sh.000005.csv  sh.000006.csv  sh.000007.csv  sh.000008.csv  \\\n",
       "date                                                                     \n",
       "1991-07-15            NaN            NaN            NaN            NaN   \n",
       "1991-07-16            NaN            NaN            NaN            NaN   \n",
       "1991-07-17            NaN            NaN            NaN            NaN   \n",
       "1991-07-18            NaN            NaN            NaN            NaN   \n",
       "1991-07-19            NaN            NaN            NaN            NaN   \n",
       "...                   ...            ...            ...            ...   \n",
       "2023-09-18      2520.6895      5524.4962      4367.3298      2650.7533   \n",
       "2023-09-19      2519.5244      5526.3585      4379.4514      2661.5625   \n",
       "2023-09-20      2514.3178      5540.3416      4348.4561      2659.0890   \n",
       "2023-09-21      2486.5002      5508.7563      4325.2976      2646.2180   \n",
       "2023-09-22      2520.3614      5597.1923      4349.5016      2687.7567   \n",
       "\n",
       "            sh.000009.csv  sh.000010.csv  ...  sh.000984.csv  sh.000986.csv  \\\n",
       "date                                      ...                                 \n",
       "1991-07-15            NaN            NaN  ...            NaN            NaN   \n",
       "1991-07-16            NaN            NaN  ...            NaN            NaN   \n",
       "1991-07-17            NaN            NaN  ...            NaN            NaN   \n",
       "1991-07-18            NaN            NaN  ...            NaN            NaN   \n",
       "1991-07-19            NaN            NaN  ...            NaN            NaN   \n",
       "...                   ...            ...  ...            ...            ...   \n",
       "2023-09-18      5461.1290      8053.1212  ...      3808.7243      2267.2735   \n",
       "2023-09-19      5441.6287      8057.6235  ...      3798.5265      2289.2442   \n",
       "2023-09-20      5405.6450      8026.8531  ...      3780.4769      2275.6511   \n",
       "2023-09-21      5362.1803      7957.9056  ...      3751.4721      2259.8462   \n",
       "2023-09-22      5419.3915      8105.3178  ...      3803.9704      2262.9980   \n",
       "\n",
       "            sh.000987.csv  sh.000989.csv  sh.000990.csv  sh.000991.csv  \\\n",
       "date                                                                     \n",
       "1991-07-15            NaN            NaN            NaN            NaN   \n",
       "1991-07-16            NaN            NaN            NaN            NaN   \n",
       "1991-07-17            NaN            NaN            NaN            NaN   \n",
       "1991-07-18            NaN            NaN            NaN            NaN   \n",
       "1991-07-19            NaN            NaN            NaN            NaN   \n",
       "...                   ...            ...            ...            ...   \n",
       "2023-09-18      3361.3702      4654.9160     16450.5105      9733.1380   \n",
       "2023-09-19      3354.6644      4639.1274     16387.8032      9707.0567   \n",
       "2023-09-20      3335.5265      4623.3646     16345.8652      9656.2966   \n",
       "2023-09-21      3302.1597      4570.2078     16065.6684      9538.1806   \n",
       "2023-09-22      3318.0501      4632.5984     16369.5118      9627.2961   \n",
       "\n",
       "            sh.000992.csv  sh.000993.csv  sh.000998.csv  sh.000999.csv  \n",
       "date                                                                    \n",
       "1991-07-15            NaN            NaN            NaN            NaN  \n",
       "1991-07-16            NaN            NaN            NaN            NaN  \n",
       "1991-07-17            NaN            NaN            NaN            NaN  \n",
       "1991-07-18            NaN            NaN            NaN            NaN  \n",
       "1991-07-19            NaN            NaN            NaN            NaN  \n",
       "...                   ...            ...            ...            ...  \n",
       "2023-09-18      4770.3584      5113.9533      1782.6742            NaN  \n",
       "2023-09-19      4780.8737      5063.2859      1765.0644            NaN  \n",
       "2023-09-20      4777.5702      5024.1198      1750.5060            NaN  \n",
       "2023-09-21      4746.8655      5011.4866      1745.9580            NaN  \n",
       "2023-09-22      4839.4883      5171.4569      1795.1100            NaN  \n",
       "\n",
       "[7862 rows x 223 columns]"
      ]
     },
     "execution_count": 105,
     "metadata": {},
     "output_type": "execute_result"
    }
   ],
   "source": [
    "df"
   ]
  }
 ],
 "metadata": {
  "anaconda-cloud": {},
  "celltoolbar": "Slideshow",
  "kernelspec": {
   "display_name": "Python 3 (ipykernel)",
   "language": "python",
   "name": "python3"
  },
  "language_info": {
   "codemirror_mode": {
    "name": "ipython",
    "version": 3
   },
   "file_extension": ".py",
   "mimetype": "text/x-python",
   "name": "python",
   "nbconvert_exporter": "python",
   "pygments_lexer": "ipython3",
   "version": "3.9.7"
  },
  "latex_envs": {
   "LaTeX_envs_menu_present": true,
   "autoclose": false,
   "autocomplete": true,
   "bibliofile": "biblio.bib",
   "cite_by": "apalike",
   "current_citInitial": 1,
   "eqLabelWithNumbers": true,
   "eqNumInitial": 1,
   "hotkeys": {
    "equation": "Ctrl-E",
    "itemize": "Ctrl-I"
   },
   "labels_anchors": false,
   "latex_user_defs": false,
   "report_style_numbering": false,
   "user_envs_cfg": false
  }
 },
 "nbformat": 4,
 "nbformat_minor": 1
}
