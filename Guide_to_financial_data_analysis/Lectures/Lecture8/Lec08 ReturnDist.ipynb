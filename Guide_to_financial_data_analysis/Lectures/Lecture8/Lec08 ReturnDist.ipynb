{
 "cells": [
  {
   "cell_type": "markdown",
   "metadata": {
    "slideshow": {
     "slide_type": "slide"
    }
   },
   "source": [
    " <center> <font size=5 face=\"STCAIYUN\" color=#0099ff > 先看看下面几种描述收益率的分布</font> </center>\n",
    "\n",
    "![](distribution.png)"
   ]
  },
  {
   "cell_type": "markdown",
   "metadata": {
    "slideshow": {
     "slide_type": "slide"
    }
   },
   "source": [
    "# 收益率的分布\n",
    "\n",
    "\n",
    "+ 我们前面讨论了收益率和价格指数的不可预测性，分析了其可能具有随机游走或者几何随机游走的性质。\n",
    "+ 对随机游走的独立增量，即单期对数收益率，一般设定其满足正态分布。但我们也做了初步的分析，在大多数情形下，正态分布设定可能是不准确的。 特别在两端，即大的损失和收益，用正态分布可能也不恰当。\n",
    "+ 那么，问题是：对数收益率(或者收益率)究竟满足什么样的分布呢？"
   ]
  },
  {
   "cell_type": "markdown",
   "metadata": {
    "slideshow": {
     "slide_type": "slide"
    }
   },
   "source": [
    "我们这一讲将包含如下内容：\n",
    "\n",
    "+ 分析收益率分布的图形工具，\n",
    "+ 常见的分布\n",
    "+ 分布参数的估计"
   ]
  },
  {
   "cell_type": "markdown",
   "metadata": {
    "slideshow": {
     "slide_type": "slide"
    }
   },
   "source": [
    "## 分析收益率分布的图形工具\n",
    "将数据可视化，即利用图形工具能增加我们对收益率直观的，整体的认识。这些图形工具包括：\n",
    "\n",
    "+ 直方图\n",
    "+ QQ 图，(我们已经介绍了)\n",
    "+ Box and whisker plots（箱形图，盒须图）"
   ]
  },
  {
   "cell_type": "markdown",
   "metadata": {
    "slideshow": {
     "slide_type": "slide"
    }
   },
   "source": [
    "### 直方图 \n",
    "\n",
    "利用直方图，我们能对收益率有一个整体的认识。一般来说，收益率分布形态上近似正态分布，像一个倒扣掉的钟形。\n",
    "\n",
    "画直方图的步骤：\n",
    "\n",
    "1. 确定数据的取值范围，\n",
    "2. 将数据分为若干等距区间， \n",
    "3. 统计在每个区间内的频数或比例 \n",
    "4. 以数据的取值为横坐标，相应等距区间内数据频数或比例为纵坐标，画二维图。"
   ]
  },
  {
   "cell_type": "markdown",
   "metadata": {
    "slideshow": {
     "slide_type": "slide"
    }
   },
   "source": [
    "+ 当然我们也可以不要求等距，不过此时需要对纵坐标调整，使得相应区间的面积和频数成比例。\n",
    "\n",
    "+ 对一个pandas Series对象，利用其方法.hist() 就可产生其直方图。\n",
    "+ 该方法的众多参数中，最重要的是选择数据区间的数量，该数量的选择和数据量有关，比方三年的日交易数据，选50就比较合适。"
   ]
  },
  {
   "cell_type": "markdown",
   "metadata": {
    "slideshow": {
     "slide_type": "slide"
    }
   },
   "source": [
    "下面我们给出最近三年的上证指数的收益率直方图"
   ]
  },
  {
   "cell_type": "code",
   "execution_count": 1,
   "metadata": {},
   "outputs": [],
   "source": [
    "import os\n",
    "import sys\n",
    "import matplotlib.pyplot as plt\n",
    "import numpy as np\n",
    "import math\n",
    "import pandas as pd\n",
    "%matplotlib inline\n",
    "%precision 4\n",
    "np.random.seed(1)\n",
    "#plt.style.use('ggplot')\n"
   ]
  },
  {
   "cell_type": "code",
   "execution_count": 2,
   "metadata": {
    "slideshow": {
     "slide_type": "slide"
    }
   },
   "outputs": [
    {
     "data": {
      "image/png": "[encoded data removed]",
      "text/plain": [
       "<Figure size 720x288 with 4 Axes>"
      ]
     },
     "metadata": {
      "needs_background": "light"
     },
     "output_type": "display_data"
    }
   ],
   "source": [
    "shindex=pd.read_csv(\"data/000001.SH.csv\",index_col=0,parse_dates=True)\n",
    "shindex=shindex.loc[\"2012\":\"2014\"][\"CLOSE\"]\n",
    "\n",
    "ret=shindex.pct_change()\n",
    "#logret=(1+ret).map(np.math.log)\n",
    "logret=(1+ret).map(math.log)\n",
    "fig = plt.figure(figsize=(10,4))\n",
    "xticks=np.linspace(-0.06,0.06,5)\n",
    "ax = fig.add_subplot(1,4,1)\n",
    "logret.hist(bins=50,label=\"Log\")\n",
    "ax.set_xticks(xticks)\n",
    "plt.legend()\n",
    "ax = fig.add_subplot(1,4,2)\n",
    "ret.hist(bins=50,label=\"Simple\")\n",
    "\n",
    "ax.set_xticks(xticks)\n",
    "plt.legend(loc=\"best\")\n",
    "\n",
    "yticks=np.linspace(0,90,10) # 改进显示\n",
    "ax.set_yticks(yticks)\n",
    "plt.legend(loc=\"upper left\",frameon=False)\n",
    "ax = fig.add_subplot(1,4,3)\n",
    "ret.hist(bins=50,label=\"S\")\n",
    "logret.hist(bins=50,label=\"L\")\n",
    "ax.set_xticks(xticks)\n",
    "plt.legend(loc=\"best\")\n",
    "ax = fig.add_subplot(1,4,4)\n",
    "\n",
    "xticks = pd.date_range(\"2012-1-1\", \"2014-12-31\", freq='A')\n",
    "shindex.plot(xticks=xticks.to_pydatetime())\n",
    "ax.set_xticklabels([x.strftime('%Y') for x in xticks])\n",
    "\n",
    "fig.tight_layout()\n"
   ]
  },
  {
   "cell_type": "code",
   "execution_count": 3,
   "metadata": {},
   "outputs": [],
   "source": [
    "from statsmodels.tsa.stattools import  acf\n",
    "acf?"
   ]
  },
  {
   "cell_type": "code",
   "execution_count": 4,
   "metadata": {
    "scrolled": true
   },
   "outputs": [
    {
     "data": {
      "text/plain": [
       "[<matplotlib.lines.Line2D at 0x16a7d9e2bb0>,\n",
       " <matplotlib.lines.Line2D at 0x16a7d9e2ca0>]"
      ]
     },
     "execution_count": 4,
     "metadata": {},
     "output_type": "execute_result"
    },
    {
     "data": {
      "image/png": "[encoded data removed]",
      "text/plain": [
       "<Figure size 432x288 with 1 Axes>"
      ]
     },
     "metadata": {
      "needs_background": "light"
     },
     "output_type": "display_data"
    }
   ],
   "source": [
    "shindex=pd.read_csv(\"data/000001.SH.csv\",index_col=0,parse_dates=True)\n",
    "shindex=shindex.loc[\"2000\":\"2020\"][\"CLOSE\"]\n",
    "\n",
    "ret=shindex.pct_change()\n",
    "logret=(1+ret).map(math.log)\n",
    "#logret.plot()\n",
    "ac=acf(logret**2,nlags=20,missing='drop')\n",
    "plt.plot(ac,\"b*\",[0,40],[0,0],\"r-\")"
   ]
  },
  {
   "cell_type": "code",
   "execution_count": 5,
   "metadata": {},
   "outputs": [
    {
     "data": {
      "text/plain": [
       "array([1.    , 0.1595, 0.1408, 0.181 , 0.1546, 0.1284, 0.1234, 0.1339,\n",
       "       0.1223, 0.0875, 0.1535, 0.1039, 0.0865, 0.1355, 0.1195, 0.0863,\n",
       "       0.1157, 0.0977, 0.098 , 0.0949, 0.1333])"
      ]
     },
     "execution_count": 5,
     "metadata": {},
     "output_type": "execute_result"
    }
   ],
   "source": [
    "ac"
   ]
  },
  {
   "cell_type": "markdown",
   "metadata": {
    "slideshow": {
     "slide_type": "subslide"
    }
   },
   "source": [
    "从这个图可以看出：\n",
    "+  收益率在0周围\n",
    "+ 数据轻微右偏(均值大于中位数)，但又更多的极端负值（因为选取的三年是股市上升期）\n",
    "+ 近似有正态形状"
   ]
  },
  {
   "cell_type": "code",
   "execution_count": 6,
   "metadata": {
    "scrolled": true,
    "slideshow": {
     "slide_type": "slide"
    }
   },
   "outputs": [
    {
     "data": {
      "text/plain": [
       "count    5015.000000\n",
       "mean        0.000289\n",
       "std         0.015527\n",
       "min        -0.088406\n",
       "25%        -0.006644\n",
       "50%         0.000656\n",
       "75%         0.007542\n",
       "max         0.098570\n",
       "Name: CLOSE, dtype: float64"
      ]
     },
     "execution_count": 6,
     "metadata": {},
     "output_type": "execute_result"
    }
   ],
   "source": [
    "ret.dropna().describe()"
   ]
  },
  {
   "cell_type": "code",
   "execution_count": 7,
   "metadata": {
    "slideshow": {
     "slide_type": "slide"
    }
   },
   "outputs": [
    {
     "data": {
      "text/plain": [
       "count    5015.000000\n",
       "mean        0.000289\n",
       "std         0.015527\n",
       "min        -0.088406\n",
       "0.5%       -0.057864\n",
       "2.5%       -0.033366\n",
       "16%        -0.011056\n",
       "50%         0.000656\n",
       "max         0.098570\n",
       "Name: CLOSE, dtype: float64"
      ]
     },
     "execution_count": 7,
     "metadata": {},
     "output_type": "execute_result"
    }
   ],
   "source": [
    " ret.dropna().describe(percentiles=[0.005, 0.025,0.16])"
   ]
  },
  {
   "cell_type": "markdown",
   "metadata": {
    "slideshow": {
     "slide_type": "slide"
    }
   },
   "source": [
    "### 画多个收益率序列的直方图"
   ]
  },
  {
   "cell_type": "markdown",
   "metadata": {
    "slideshow": {
     "slide_type": "slide"
    }
   },
   "source": [
    "#利用wind数据\n",
    "from WindPy import w\n",
    "import datetime\n",
    "w.start();\n",
    "\n",
    "codeid=[\"000001.SZ\",\"000623.SZ\",\"601288.SH\",\"000690.SZ\"]\n",
    "start_date=datetime.datetime(2012,1,1)\n",
    "end_date=datetime.datetime(2014,12,31)\n",
    "stock=w.wsd(codeid, \"close\", start_date,end_date,\"Priceadj=F\")\n",
    "stockdf.T.to_csv(\"./data/stockexamples.csv\")"
   ]
  },
  {
   "cell_type": "markdown",
   "metadata": {},
   "source": [
    "下面给出四只股票： 平安银行,吉林敖东，农业银行，宝新能源，2012年至2014年的收盘价，计算简单日收益率并画出各自的直方图。"
   ]
  },
  {
   "cell_type": "markdown",
   "metadata": {
    "slideshow": {
     "slide_type": "skip"
    }
   },
   "source": [
    "注：如果图形中中文显示不正常，可以尝试添加下面代码(2022.10.03)\n",
    "\n",
    "plt.rcParams['font.sans-serif']=['SimHei']\n",
    "plt.rcParams['axes.unicode_minus'] = False"
   ]
  },
  {
   "cell_type": "code",
   "execution_count": 8,
   "metadata": {
    "slideshow": {
     "slide_type": "slide"
    }
   },
   "outputs": [],
   "source": [
    "ss=pd.read_csv(\"./data/stockexamples.csv\",parse_dates=True,index_col=0)  \n",
    "ss.columns=[\"平安银行\",\"吉林敖东\",\"农业银行\",\"宝新能源\"]\n",
    "#ss.columns=[\"pingAn\",\"Aodong\",\"nongy\",\"baoxin\"]\n",
    "ret=ss.pct_change()\n",
    " \n"
   ]
  },
  {
   "cell_type": "code",
   "execution_count": 9,
   "metadata": {},
   "outputs": [
    {
     "data": {
      "image/png": "[encoded data removed]",
      "text/plain": [
       "<Figure size 576x432 with 4 Axes>"
      ]
     },
     "metadata": {
      "needs_background": "light"
     },
     "output_type": "display_data"
    }
   ],
   "source": [
    "ret.hist(bins=50, sharex=True, figsize=(8,6))\n",
    "plt.rcParams['font.sans-serif']=['SimHei']\n",
    "plt.rcParams['axes.unicode_minus'] = False"
   ]
  },
  {
   "cell_type": "markdown",
   "metadata": {
    "slideshow": {
     "slide_type": "subslide"
    }
   },
   "source": [
    "上面hist参数的含义，以及我们从上图可以看出不同股票的收益率特征。。。"
   ]
  },
  {
   "cell_type": "code",
   "execution_count": 11,
   "metadata": {
    "scrolled": true
   },
   "outputs": [
    {
     "data": {
      "text/plain": [
       "array([[<AxesSubplot:title={'center':'平安银行'}>,\n",
       "        <AxesSubplot:title={'center':'吉林敖东'}>],\n",
       "       [<AxesSubplot:title={'center':'农业银行'}>,\n",
       "        <AxesSubplot:title={'center':'宝新能源'}>]], dtype=object)"
      ]
     },
     "execution_count": 11,
     "metadata": {},
     "output_type": "execute_result"
    },
    {
     "data": {
      "image/png": "[encoded data removed]",
      "text/plain": [
       "<Figure size 576x432 with 4 Axes>"
      ]
     },
     "metadata": {
      "needs_background": "light"
     },
     "output_type": "display_data"
    }
   ],
   "source": [
    "# 下面我们从数据库中取10年的数据\n",
    "from sqlalchemy import create_engine\n",
    "import pandas as pd\n",
    "\n",
    "import pandas as pd\n",
    "import os\n",
    "path='E:\\\\Quant\\\\data\\\\baostock\\\\stock\\\\daily'\n",
    "codes=['sz.000001', 'sz.000623','sh.601288','sz.000690']\n",
    "data={}\n",
    "for code in codes:\n",
    "    filen=os.path.join(path,code+'.csv')\n",
    "    tem = pd.read_csv(filen, parse_dates=['date'], index_col='date') \n",
    "    data[code] = tem['pctChg']/100 \n",
    "ret1=pd.DataFrame(data)  \n",
    "\n",
    "ret1.columns=[\"平安银行\",\"吉林敖东\",\"农业银行\",\"宝新能源\"]\n",
    "ret1=ret1.loc[\"2012-01\":\"2021-12\"]\n",
    "ret1.hist(bins=50, sharex=True, figsize=(8,6))"
   ]
  },
  {
   "cell_type": "code",
   "execution_count": 39,
   "metadata": {},
   "outputs": [],
   "source": [
    "# \n",
    "#import zipfile\n",
    "#zip_path = 'lec08data2.zip'\n",
    "#with zipfile.ZipFile(zip_path, 'w', zipfile.ZIP_DEFLATED) as zipf:\n",
    "#    for code in codes:\n",
    "#        filen=os.path.join(path,code+'.csv')\n",
    "#        zipf.write(filen, arcname=os.path.join('daily', code+'.csv'))"
   ]
  },
  {
   "cell_type": "markdown",
   "metadata": {
    "slideshow": {
     "slide_type": "slide"
    }
   },
   "source": [
    "### Box and whisker "
   ]
  },
  {
   "cell_type": "code",
   "execution_count": 12,
   "metadata": {},
   "outputs": [
    {
     "data": {
      "text/plain": [
       "<AxesSubplot:>"
      ]
     },
     "execution_count": 12,
     "metadata": {},
     "output_type": "execute_result"
    },
    {
     "data": {
      "image/png": "[encoded data removed]",
      "text/plain": [
       "<Figure size 864x576 with 1 Axes>"
      ]
     },
     "metadata": {
      "needs_background": "light"
     },
     "output_type": "display_data"
    }
   ],
   "source": [
    "ret.plot(kind='box',figsize=(12,8))\n",
    "# IQR,1.5IQR"
   ]
  },
  {
   "cell_type": "code",
   "execution_count": 13,
   "metadata": {},
   "outputs": [
    {
     "data": {
      "text/plain": [
       "<AxesSubplot:>"
      ]
     },
     "execution_count": 13,
     "metadata": {},
     "output_type": "execute_result"
    },
    {
     "data": {
      "image/png": "[encoded data removed]",
      "text/plain": [
       "<Figure size 432x288 with 1 Axes>"
      ]
     },
     "metadata": {
      "needs_background": "light"
     },
     "output_type": "display_data"
    }
   ],
   "source": [
    "import seaborn as sb\n",
    "sb.violinplot(data = ret)\n",
    "# Box plot + density plot"
   ]
  },
  {
   "cell_type": "markdown",
   "metadata": {
    "slideshow": {
     "slide_type": "slide"
    }
   },
   "source": [
    "## 常见的描述收益率的分布\n",
    "\n",
    "通常我们讨论的分布都可以由若干个参数确定。设随机变量$X$ 的分布密度为$f(x)$。\n",
    "\n",
    "+ 位置参数\n",
    "\n",
    "改变位置参数时分布将发生左移或右移，而不会改变它的形态或标准差。随机变量  $Y=X+\\mu$的 分布密度为$f(y-\\mu)$。$\\mu$ 为位置参数。"
   ]
  },
  {
   "cell_type": "markdown",
   "metadata": {
    "slideshow": {
     "slide_type": "slide"
    }
   },
   "source": [
    "+ 刻度参数\n",
    "\n",
    "刻度参数描述分布的标准差的倍数。直观上将分布密度整体放大或缩小。从随机变量来说，$Y=\\theta X$的分布密度 $\\theta^{-1}f(y/\\theta),\\theta>0$。 $\\theta$ 为刻度参数。\n",
    "\n",
    "$Y=\\theta X+\\mu$的分布为${\\theta ^{ - 1}}f\\left\\{ {\\left( {y - \\mu } \\right)/\\theta } \\right\\},\\theta  > 0$，其中$\\mu$为位置参数，$\\theta$为刻度参数。通常的标准化就是通过设置位置参数和刻度参数使分布其期望和方差变为0和1.\n",
    "\n",
    "+ 形态参数\n",
    "\n",
    " 形态参数描述分布的形状，它确定了分布的形态，其是描述分布特性的重要参数。"
   ]
  },
  {
   "cell_type": "markdown",
   "metadata": {
    "slideshow": {
     "slide_type": "slide"
    }
   },
   "source": [
    "### 正态分布\n",
    "\n",
    "最常用的标准正态分布 $f(x)=\\frac{1}{\\sqrt{2\\pi}}\\exp(-\\frac{x^2}{2})$, 分布对称。 我们下面看看当$x=-5,-4,-3,-2,-1,0$ 时 $P(X\\leq x)$的值：\n",
    "\n"
   ]
  },
  {
   "cell_type": "code",
   "execution_count": 14,
   "metadata": {
    "slideshow": {
     "slide_type": "slide"
    }
   },
   "outputs": [],
   "source": [
    "import scipy.stats as stats  "
   ]
  },
  {
   "cell_type": "markdown",
   "metadata": {},
   "source": [
    "这里我们导入了scipy模块中的统计包，里面包含了很多分布函数和统计函数。"
   ]
  },
  {
   "cell_type": "code",
   "execution_count": 15,
   "metadata": {
    "slideshow": {
     "slide_type": "slide"
    }
   },
   "outputs": [
    {
     "data": {
      "text/html": [
       "<div>\n",
       "<style scoped>\n",
       "    .dataframe tbody tr th:only-of-type {\n",
       "        vertical-align: middle;\n",
       "    }\n",
       "\n",
       "    .dataframe tbody tr th {\n",
       "        vertical-align: top;\n",
       "    }\n",
       "\n",
       "    .dataframe thead th {\n",
       "        text-align: right;\n",
       "    }\n",
       "</style>\n",
       "<table border=\"1\" class=\"dataframe\">\n",
       "  <thead>\n",
       "    <tr style=\"text-align: right;\">\n",
       "      <th></th>\n",
       "      <th>-5</th>\n",
       "      <th>-4</th>\n",
       "      <th>-3</th>\n",
       "      <th>-2</th>\n",
       "      <th>-1</th>\n",
       "      <th>0</th>\n",
       "    </tr>\n",
       "  </thead>\n",
       "  <tbody>\n",
       "    <tr>\n",
       "      <th>cdf</th>\n",
       "      <td>2.866516e-07</td>\n",
       "      <td>0.000032</td>\n",
       "      <td>0.00135</td>\n",
       "      <td>0.02275</td>\n",
       "      <td>0.158655</td>\n",
       "      <td>0.5</td>\n",
       "    </tr>\n",
       "  </tbody>\n",
       "</table>\n",
       "</div>"
      ],
      "text/plain": [
       "               -5        -4       -3       -2        -1    0\n",
       "cdf  2.866516e-07  0.000032  0.00135  0.02275  0.158655  0.5"
      ]
     },
     "execution_count": 15,
     "metadata": {},
     "output_type": "execute_result"
    },
    {
     "data": {
      "image/png": "[encoded data removed]",
      "text/plain": [
       "<Figure size 432x288 with 1 Axes>"
      ]
     },
     "metadata": {
      "needs_background": "light"
     },
     "output_type": "display_data"
    }
   ],
   "source": [
    "x=np.arange(-5,1)\n",
    "cdfn=stats.norm.cdf(x)\n",
    "res=pd.DataFrame(cdfn,index=map(str,x),columns=[\"cdf\"])\n",
    "x=np.linspace(-5,-3) #  default 50 intervals\n",
    "plt.plot(x,stats.norm.cdf(x))\n",
    "res.T"
   ]
  },
  {
   "cell_type": "markdown",
   "metadata": {
    "slideshow": {
     "slide_type": "slide"
    }
   },
   "source": [
    "**厚尾分布**\n",
    "\n",
    "+ 可以看出，标准正态分布取得较大绝对值的概率非常非常小。绝对值大的数在坐标横坐标的两边，因此我们说这样的分布尾很薄。\n",
    "+ 从分布密度形态上来说，这样的分布密度在两尾迅速的趋于0. 对正态分布来说，密度以快于负指数，即以$exp(-x^2)$的速度趋于零。 \n",
    "\n",
    "+ 考虑指数分布 其密度$\\lambda\\exp(-\\lambda x)$ 的尾部，右端是以负指数收敛到0的。\n",
    "+ 显然负指数上为二次函数的正态分布在坐标两端衰减得更快。从而指数分布随机变量取得较大值的概率大于正态分布.\n",
    "+ 金融中描述这种现象的术语为厚尾。指数分布的尾比正态分布厚。\n",
    "+ 如果随机变量描述盈利或损失，则尾厚的分布表明发生大的损失或收益的概率大，这类分布在金融数据分析中具有重要的作用。\n",
    "+ 在理论上，有时利用指数分布来定义厚尾分布， 如果某分布的尾比指数分布的厚就被称为厚尾分布。"
   ]
  },
  {
   "cell_type": "markdown",
   "metadata": {
    "slideshow": {
     "slide_type": "slide"
    }
   },
   "source": [
    "### \t偏度和峰度\n",
    "\n",
    "+ 偏度和峰度常用来描述分布的形态。\n",
    "+ 偏度度量分布的对称性，如果分布对称，偏度为0，如果偏度为正则表明分布具有更长的右尾，如果偏度为负则分布具有更长的左尾。\n",
    "+ 尾指远离中心的区域，通常在均值的两倍标准差外。而峰度刻画有多少概率集中在分布的中心，或者尾部，而不是集中“肩部”。这里中心一般指均值的一倍标准差内区域，“肩部”指距均值一倍标准差和两倍标准差之间的区域。"
   ]
  },
  {
   "cell_type": "markdown",
   "metadata": {
    "slideshow": {
     "slide_type": "slide"
    },
    "variables": {
     "1 - 2p": "<p><strong>SyntaxError</strong>: invalid syntax (<ipython-input-26-172c8278e3c1>, line 1)</p>\n",
     "E{{\\left\\{ {X - E\\left( X \\right)} \\right\\": "<p><strong>SyntaxError</strong>: invalid syntax (<ipython-input-26-29c4daaf1fee>, line 1)</p>\n",
     "X - E\\left( X \\right)": "<p><strong>SyntaxError</strong>: unexpected character after line continuation character (<ipython-input-26-1a3d41d0d8b4>, line 1)</p>\n",
     "\\sqrt {np\\left( {1 - p} \\right)} ": "<p><strong>SyntaxError</strong>: unexpected character after line continuation character (<ipython-input-26-11ba92e8935d>, line 1)</p>\n",
     "{\\sigma ^3": "<p><strong>SyntaxError</strong>: unexpected character after line continuation character (<ipython-input-26-94e42091a46b>, line 1)</p>\n"
    }
   },
   "source": [
    "偏度和峰度度量分布的形态，它和分布的位置参数和刻度参数无关，其定义如下：\n",
    " \n",
    " $$S = E{\\left\\{ {\\frac{{X - E\\left( X \\right)}}{\\sigma }} \\right\\}^3} = \\frac{{E{{\\left\\{ {X - E\\left( X \\right)} \\right\\}}^3}}}{{{\\sigma ^3}}}$$\n",
    " \n",
    "二项分布的偏度为 $S = \\frac{{1 - 2p}}{{\\sqrt {np\\left( {1 - p} \\right)} }}$\n",
    " \n",
    "据此可以分析偏度 和分布左偏，右偏的关系。"
   ]
  },
  {
   "cell_type": "markdown",
   "metadata": {
    "slideshow": {
     "slide_type": "slide"
    },
    "variables": {
     "E{{\\left\\{ {X - E\\left( X \\right)} \\right\\": "<p><strong>SyntaxError</strong>: invalid syntax (<ipython-input-10-29c4daaf1fee>, line 1)</p>\n",
     "X - E\\left( X \\right)": "<p><strong>SyntaxError</strong>: unexpected character after line continuation character (<ipython-input-10-1a3d41d0d8b4>, line 1)</p>\n",
     "{\\sigma ^4": "<p><strong>SyntaxError</strong>: unexpected character after line continuation character (<ipython-input-10-be2aee86f5e9>, line 1)</p>\n"
    }
   },
   "source": [
    "峰度定义如下：\n",
    " \n",
    " $$K = E{\\left\\{ {\\frac{{X - E\\left( X \\right)}}{\\sigma }} \\right\\}^4} = \\frac{{E{{\\left\\{ {X - E\\left( X \\right)} \\right\\}}^4}}}{{{\\sigma ^4}}}$$\n",
    " \n",
    " + 关于标准正态分布随机变量$Z$的距有如下结论：\n",
    "\n",
    "${E}\\left(Z^{n+1}\\right) = n{E}\\left(Z^{n-1}\\right)$\n",
    "\n",
    "因此有：\n",
    "\n",
    "$${E} \\left( Z^{2 n} \\right) = 1 \\cdot 3 \\cdots (2n - 1) = (2  n)! \\big/ (n! 2^n),\\quad E(Z^4)=3$$\n",
    "\n",
    "+ 证明：\n",
    "\n",
    "标准正态分布的密度函数为 $\\phi(z) = \\frac{1}{\\sqrt{2 \\, \\pi}} e^{-\\frac{1}{2} z^2}, \\quad z \\in \\mathbb{R}$,有\n",
    "$$\\phi^\\prime(z) = - z \\phi(z)$$\n",
    "\n",
    "并且\n",
    "$$E\\left(Z^{n+1}\\right) = \\int_{-\\infty}^\\infty z^{n+1} \\phi(z) \\, dz = \\int_{-\\infty}^\\infty z^n z \\phi(z) \\, dz = - \\int_{-\\infty}^\\infty z^n \\phi^\\prime(z) \\, dz$$\n",
    "\n",
    "由分步积分\n",
    "$$E\\left(Z^{n+1}\\right) = -z^n \\phi(z) \\bigg|_{-\\infty}^\\infty + \\int_{-\\infty}^\\infty n z^{n-1} \\phi(z) \\, dz = 0 + n E\\left(Z^{n-1}\\right)$$\n",
    "\n",
    " "
   ]
  },
  {
   "cell_type": "markdown",
   "metadata": {
    "slideshow": {
     "slide_type": "slide"
    },
    "variables": {
     "e^{{\\sigma ^2": "<p><strong>SyntaxError</strong>: unexpected character after line continuation character (<ipython-input-10-f41ea32f4e0b>, line 1)</p>\n"
    }
   },
   "source": [
    "+ 正态分布的峰度为3，定义$K - 3$ 为超额峰度，它给出分布和正态分布的差距。一般来说，峰度越大，分布的尾越厚。\n",
    "+ 指数分布的偏度为2，峰度为9。峰度和偏度不受位置参数和刻度参数的影响。\n",
    "+ 对数正态分布的偏度为$\\left( {{e^{{\\sigma ^2}}} + 2} \\right)\\sqrt {{e^{{\\sigma ^2}}} - 1} $，超额峰度为：$e^{4\\sigma^2}\\!\\! + 2e^{3\\sigma^2}\\!\\! + 3e^{2\\sigma^2}\\!\\! - 6$\n",
    " "
   ]
  },
  {
   "cell_type": "markdown",
   "metadata": {
    "slideshow": {
     "slide_type": "slide"
    },
    "variables": {
     "\\hat \\sigma ": "<p><strong>SyntaxError</strong>: unexpected character after line continuation character (<ipython-input-10-050c2da81621>, line 1)</p>\n",
     "{X_i} - \\bar X": "<p><strong>SyntaxError</strong>: unexpected character after line continuation character (<ipython-input-10-eff20516c813>, line 1)</p>\n"
    }
   },
   "source": [
    " 偏度和峰度可以用样本估计，其估计量分别为：\n",
    " $$\\hat S = \\frac{1}{n}{\\sum\\limits_{i = 1}^n {\\left( {\\frac{{{X_i} - \\bar X}}{{\\hat \\sigma }}} \\right)} ^3}$$\n",
    " $$\\hat K = \\frac{1}{n}{\\sum\\limits_{i = 1}^n {\\left( {\\frac{{{X_i} - \\bar X}}{{\\hat \\sigma }}} \\right)} ^4}$$\n",
    "其中$\\bar X$ 为样本均值， $\\hat \\sigma $为样本标准差。\n",
    "   需要指出的是，偏度和峰度的计算对异常点非常敏感。比方我们随机生成1000个标准正态随机数，引入异常点，将其中一个替换为30。计算偏度和峰度发现偏度大约为10，峰度大约为243。显然和正态分布的偏度和峰度有很大的差别。"
   ]
  },
  {
   "cell_type": "markdown",
   "metadata": {
    "slideshow": {
     "slide_type": "slide"
    }
   },
   "source": [
    "### 几种厚尾分布\n",
    "\n",
    "下面我们着重介绍几种厚分布\n",
    "\n",
    "+ t分布\n",
    "+ GED分布,(广义正态分布)\n",
    "+ Pareto 分布\n",
    "\n",
    "下面导入这几个分布"
   ]
  },
  {
   "cell_type": "code",
   "execution_count": 16,
   "metadata": {
    "slideshow": {
     "slide_type": "slide"
    }
   },
   "outputs": [],
   "source": [
    "from scipy.stats import  t,  gennorm, pareto,norm,cauchy\n",
    "\n",
    "#gennorm 在 0.16 版本中才有，需要用 conda install scipy 更新"
   ]
  },
  {
   "cell_type": "markdown",
   "metadata": {
    "slideshow": {
     "slide_type": "slide"
    }
   },
   "source": [
    "#### t 分布\n",
    "\n",
    "\n",
    "\n",
    "定义：如果$Z\\sim N\\left( {0,1} \\right)$ ，$W\\sim\\chi_v^2$ ，并且$Z,W$ 独立，则$Z/\\sqrt {W/v} $ 服从自由度为$v$ 的t分布，记为${t_v}$ 。\n",
    "\n",
    "其密度为：\n",
    "\n",
    "$$f(t) = \\frac{\\Gamma(\\frac{\\nu+1}{2})} {\\sqrt{\\nu\\pi}\\,\\Gamma(\\frac{\\nu}{2})} \\left(1+\\frac{t^2}{\\nu} \\right)^{-\\frac{\\nu+1}{2}},\\!$$\n",
    "\n",
    "其中$\\Gamma(n)=n\\Gamma(n-1),\\quad\\Gamma\\left(\\tfrac{1}{2}\\right)=\\sqrt{\\pi},\\Gamma(1)=1$。"
   ]
  },
  {
   "cell_type": "markdown",
   "metadata": {
    "slideshow": {
     "slide_type": "slide"
    },
    "variables": {
     "X": "<p><strong>NameError</strong>: name &#39;X&#39; is not defined</p>\n",
     "\\sigma X": "<p><strong>SyntaxError</strong>: unexpected character after line continuation character (<ipython-input-11-738f83f48da6>, line 1)</p>\n",
     "\\sqrt {v/\\left( {v - 2} \\right)} ": "<p><strong>SyntaxError</strong>: unexpected character after line continuation character (<ipython-input-11-b3c142ca316c>, line 1)</p>\n"
    }
   },
   "source": [
    "$t$分布 的期望为0，当$v > 2$ 时方差为$v/\\left( {v - 2} \\right)$ ，此时我们可以定义变量 \n",
    "\n",
    "$$\\mu  + \\frac{{\\sigma X}}{{\\sqrt {v/\\left( {v - 2} \\right)} }}$$\n",
    " \n",
    "该变量的期望为$\\mu$ ，方差为$\\sigma^2$ ，我们将其分布记为${t_v}\\left( {\\mu ,{\\sigma ^2}} \\right)$ ，其中位置参数为 $\\mu$，刻度参数为$\\sigma $ ， $v$ 为形态参数。显然，${t_v}$  相当于 ${t_v}\\left( {0,v/\\left( {v - 2} \\right)} \\right)$，其并不是标准化的分布，$\\frac{{X}}{{\\sqrt {v/\\left( {v - 2} \\right)} }}$ 才是期望为0，方差为1的分布。"
   ]
  },
  {
   "cell_type": "markdown",
   "metadata": {
    "slideshow": {
     "slide_type": "slide"
    },
    "variables": {
     "v - 4": "<p><strong>NameError</strong>: name &#39;v&#39; is not defined</p>\n",
     "{{\\left( {1 + {x^2}/v} \\right)}^{\\left( {v + 1} \\right)/2": "<p><strong>SyntaxError</strong>: unexpected character after line continuation character (<ipython-input-11-8cd1cefab9c0>, line 1)</p>\n"
    }
   },
   "source": [
    "当$v > 4$ 时，自由度为$v$ 的t分布的峰度为\n",
    " $$K\\left( v \\right) = 3 + \\frac{6}{{v - 4}}$$\n",
    " \n",
    "显然，此时t分布的峰度大于3，并且自由度越小，尾越厚，当$v < 4$ 的尾非常厚，以至于其峰度无穷大，其实就是4阶距无穷大。设位置参数和刻度参数为0和1，则t分布的密度正比于\n",
    "    $$\\frac{1}{{{{\\left( {1 + {x^2}/v} \\right)}^{\\left( {v + 1} \\right)/2}}}}$$"
   ]
  },
  {
   "cell_type": "markdown",
   "metadata": {
    "slideshow": {
     "slide_type": "slide"
    },
    "variables": {
     "{{\\left( {1 + {x^2}/v} \\right)}^{\\left( {v + 1} \\right)/2": "<p><strong>SyntaxError</strong>: unexpected character after line continuation character (<ipython-input-11-8cd1cefab9c0>, line 1)</p>\n"
    }
   },
   "source": [
    "当$|x|$ 很大时，近似有\n",
    " \n",
    " $$\\frac{1}{{{{\\left( {1 + {x^2}/v} \\right)}^{\\left( {v + 1} \\right)/2}}}} \\propto |x{|^{ - \\left( {v + 1} \\right)}}$$\n",
    " \n",
    "因此，t分布具有多项式尾，但其尾参数都为整数，这限制了该分布在金融数据建模中的应用。\n",
    "\n",
    "注：这里介绍的都是中心t分布及其线性变换，还有一种非中心t分布其定义为：$Z\\sim N\\left( {\\delta ,1} \\right)$ ，$W\\sim\\chi _v^2$ ，并且 $Z,W$独立，则$Z/\\sqrt {W/v} $ 服从自由度为$v$ 的非中心t分布，记为 ${t_v}\\left( \\delta  \\right)$."
   ]
  },
  {
   "cell_type": "code",
   "execution_count": 17,
   "metadata": {
    "slideshow": {
     "slide_type": "slide"
    }
   },
   "outputs": [
    {
     "name": "stdout",
     "output_type": "stream",
     "text": [
      "     mean       var  skew    kurt\n",
      "3     0.0  3.000000   NaN     inf\n",
      "5     0.0  1.666667   0.0  6.0000\n",
      "6     0.0  1.500000   0.0  3.0000\n",
      "10    0.0  1.250000   0.0  1.0000\n",
      "100   0.0  1.020408   0.0  0.0625\n"
     ]
    }
   ],
   "source": [
    "def tstats(v):\n",
    "    return np.array(t.stats(v,moments='mvsk'))\n",
    "\n",
    "vlist=[3,5,6,10,100]\n",
    "a=list(map(tstats,vlist))\n",
    "stat1=pd.DataFrame(a,index=list(map(str,vlist)),columns=[\"mean\",\"var\",\"skew\",\"kurt\"])\n",
    "print(stat1)"
   ]
  },
  {
   "cell_type": "code",
   "execution_count": 18,
   "metadata": {},
   "outputs": [
    {
     "data": {
      "text/plain": [
       "array([-5, -4, -3, -2, -1,  0])"
      ]
     },
     "execution_count": 18,
     "metadata": {},
     "output_type": "execute_result"
    }
   ],
   "source": [
    "np.arange(-5,1)"
   ]
  },
  {
   "cell_type": "code",
   "execution_count": 19,
   "metadata": {
    "slideshow": {
     "slide_type": "slide"
    }
   },
   "outputs": [
    {
     "name": "stdout",
     "output_type": "stream",
     "text": [
      "[0.0189 0.0286 0.0477 0.0918 0.2113 0.5   ]\n"
     ]
    },
    {
     "data": {
      "text/plain": [
       "array([2.8665e-07, 3.1671e-05, 1.3499e-03, 2.2750e-02, 1.5866e-01,\n",
       "       5.0000e-01])"
      ]
     },
     "execution_count": 19,
     "metadata": {},
     "output_type": "execute_result"
    },
    {
     "data": {
      "image/png": "[encoded data removed]",
      "text/plain": [
       "<Figure size 432x288 with 1 Axes>"
      ]
     },
     "metadata": {
      "needs_background": "light"
     },
     "output_type": "display_data"
    }
   ],
   "source": [
    "v=2\n",
    "x = np.linspace(t.ppf(0.01, v), t.ppf(0.99, v), 100)\n",
    "plt.plot(x, t.pdf(x, v), 'b-', lw=5, alpha=0.5, label='t pdf')\n",
    "plt.legend()\n",
    "print(t.cdf(np.arange(-5,1),v))\n",
    "norm.cdf(np.arange(-5,1))"
   ]
  },
  {
   "cell_type": "markdown",
   "metadata": {
    "slideshow": {
     "slide_type": "slide"
    }
   },
   "source": [
    "####  GED 分布\n",
    "\n",
    "ged分布是广义误差分布（Generalized error distribution 或 Exponential power distribution，Generalized normal distribution），是一种连续概率分布，使用尺度参数$\\alpha$和指数$\\beta$。它的概率密度为：\n",
    " \n",
    "$$\\frac{\\beta}{2\\alpha\\Gamma(1/\\beta)} \\; e^{-(|x-\\mu|/\\alpha)^\\beta}$$\n",
    "\n",
    "其中$\\beta$是形态参数，$\\mu,\\alpha$分别为位置参数和刻度参数。"
   ]
  },
  {
   "cell_type": "markdown",
   "metadata": {
    "slideshow": {
     "slide_type": "slide"
    }
   },
   "source": [
    "当$\\beta= 1$时，即缩减成一个拉普拉斯分布。\n",
    "\n",
    "$$\\frac{1}{2\\alpha} \\; e^{-(|x-\\mu|/\\alpha)}$$\n",
    "\n",
    "当$\\beta = 2, \\alpha=\\sqrt{2}$时,分布是一个正态分布。\n",
    "\n",
    "\n",
    "$$\\frac{1}{\\sqrt{2\\pi}} \\; e^{-(|x-\\mu|/2)^2}$$\n",
    "\n",
    "当 $\\textstyle\\beta\\rightarrow\\infty$, 分布密度收敛到$\\textstyle (\\mu-\\alpha,\\mu+\\alpha)$上的均匀分布。\n",
    "\n",
    "该分布族可以描述尾比正态分布厚的分布(当 $\\beta<2$)，也可以描述尾较正态分布薄的分布(当 $\\beta>2$)。\n",
    "当$\\beta$越来越大，尾部越来越薄，最后会趋于有限区间上的均匀分布（尾部消失）。"
   ]
  },
  {
   "cell_type": "code",
   "execution_count": 1,
   "metadata": {},
   "outputs": [
    {
     "name": "stdout",
     "output_type": "stream",
     "text": [
      "Object `gennorm` not found.\n"
     ]
    }
   ],
   "source": [
    "gennorm?"
   ]
  },
  {
   "cell_type": "code",
   "execution_count": 21,
   "metadata": {
    "slideshow": {
     "slide_type": "slide"
    }
   },
   "outputs": [
    {
     "data": {
      "text/html": [
       "<div>\n",
       "<style scoped>\n",
       "    .dataframe tbody tr th:only-of-type {\n",
       "        vertical-align: middle;\n",
       "    }\n",
       "\n",
       "    .dataframe tbody tr th {\n",
       "        vertical-align: top;\n",
       "    }\n",
       "\n",
       "    .dataframe thead th {\n",
       "        text-align: right;\n",
       "    }\n",
       "</style>\n",
       "<table border=\"1\" class=\"dataframe\">\n",
       "  <thead>\n",
       "    <tr style=\"text-align: right;\">\n",
       "      <th></th>\n",
       "      <th>mean</th>\n",
       "      <th>var</th>\n",
       "      <th>skew</th>\n",
       "      <th>kurt</th>\n",
       "    </tr>\n",
       "  </thead>\n",
       "  <tbody>\n",
       "    <tr>\n",
       "      <th>1</th>\n",
       "      <td>0.0</td>\n",
       "      <td>2.000000</td>\n",
       "      <td>0.0</td>\n",
       "      <td>3.000000e+00</td>\n",
       "    </tr>\n",
       "    <tr>\n",
       "      <th>2</th>\n",
       "      <td>0.0</td>\n",
       "      <td>0.500000</td>\n",
       "      <td>0.0</td>\n",
       "      <td>-4.440892e-16</td>\n",
       "    </tr>\n",
       "    <tr>\n",
       "      <th>3</th>\n",
       "      <td>0.0</td>\n",
       "      <td>0.373282</td>\n",
       "      <td>0.0</td>\n",
       "      <td>-5.816008e-01</td>\n",
       "    </tr>\n",
       "    <tr>\n",
       "      <th>4</th>\n",
       "      <td>0.0</td>\n",
       "      <td>0.337989</td>\n",
       "      <td>0.0</td>\n",
       "      <td>-8.115604e-01</td>\n",
       "    </tr>\n",
       "  </tbody>\n",
       "</table>\n",
       "</div>"
      ],
      "text/plain": [
       "   mean       var  skew          kurt\n",
       "1   0.0  2.000000   0.0  3.000000e+00\n",
       "2   0.0  0.500000   0.0 -4.440892e-16\n",
       "3   0.0  0.373282   0.0 -5.816008e-01\n",
       "4   0.0  0.337989   0.0 -8.115604e-01"
      ]
     },
     "execution_count": 21,
     "metadata": {},
     "output_type": "execute_result"
    }
   ],
   "source": [
    "def gevstats(b):\n",
    "    return np.array(gennorm.stats(b,moments='mvsk'))\n",
    "\n",
    "alist=[1,2,3,4]\n",
    "x=list(map(gevstats,alist))\n",
    "pd.DataFrame(x,index=list(map(str,alist)),columns=[\"mean\",\"var\",\"skew\",\"kurt\"])\n",
    " "
   ]
  },
  {
   "cell_type": "code",
   "execution_count": 22,
   "metadata": {
    "scrolled": true,
    "slideshow": {
     "slide_type": "slide"
    }
   },
   "outputs": [
    {
     "data": {
      "text/plain": [
       "<matplotlib.legend.Legend at 0x16a0282a220>"
      ]
     },
     "execution_count": 22,
     "metadata": {},
     "output_type": "execute_result"
    },
    {
     "data": {
      "image/png": "[encoded data removed]",
      "text/plain": [
       "<Figure size 720x216 with 2 Axes>"
      ]
     },
     "metadata": {
      "needs_background": "light"
     },
     "output_type": "display_data"
    }
   ],
   "source": [
    "b=1.1\n",
    "x = np.linspace(gennorm.ppf(0.0001, b), gennorm.ppf(0.05,b), 100)\n",
    "fig = plt.figure(figsize=(10,3))\n",
    "ax=fig.add_subplot(1,2,1)\n",
    "plt.plot(x, gennorm.pdf(x,b), 'r-', lw=3, alpha=0.5, label=r'$\\beta=1.1$')\n",
    "\n",
    "b=2\n",
    "plt.plot(x, gennorm.pdf(x, b), 'b-', lw=3, alpha=0.5, label=r'$\\beta=$'+str(b))\n",
    "plt.legend(loc=\"best\")\n",
    "\n",
    "ax=fig.add_subplot(1,2,2)\n",
    "\n",
    "b=10\n",
    "x = np.linspace(gennorm.ppf(0.0001, b), gennorm.ppf(0.9999,b), 100)\n",
    "plt.plot(x, gennorm.pdf(x, b), 'b-', lw=3, alpha=0.5, label=r'$\\beta=$'+str(b))\n",
    "b=50\n",
    "x = np.linspace(gennorm.ppf(0.0001, b), gennorm.ppf(0.9999,b), 100)\n",
    "\n",
    "plt.plot(x, gennorm.pdf(x, b), 'r-', lw=3, alpha=0.5, label=r'$\\beta=$'+str(b))\n",
    "\n",
    "plt.legend(loc=\"center\")\n"
   ]
  },
  {
   "cell_type": "markdown",
   "metadata": {
    "slideshow": {
     "slide_type": "slide"
    }
   },
   "source": [
    "进一步从分位点数字来看看尾的厚度。我们设定$\\beta=1.1$,方差为  $\\frac{\\alpha^2\\Gamma(3/\\beta)}{\\Gamma(1/\\beta)}$,则取刻度参数 $\\alpha=\\sqrt{\\frac{\\Gamma(1/\\beta)}{\\Gamma(3/\\beta)}}\\approx 1.2565$时，方差为1. 这样我们就可以和标准正态分布的尾分布进行比较。"
   ]
  },
  {
   "cell_type": "code",
   "execution_count": 23,
   "metadata": {},
   "outputs": [
    {
     "data": {
      "text/plain": [
       "1.2565"
      ]
     },
     "execution_count": 23,
     "metadata": {},
     "output_type": "execute_result"
    }
   ],
   "source": [
    "import math\n",
    "a=math.sqrt(math.gamma(3/1.1))\n",
    "a"
   ]
  },
  {
   "cell_type": "code",
   "execution_count": 24,
   "metadata": {
    "slideshow": {
     "slide_type": "slide"
    }
   },
   "outputs": [
    {
     "data": {
      "text/html": [
       "<div>\n",
       "<style scoped>\n",
       "    .dataframe tbody tr th:only-of-type {\n",
       "        vertical-align: middle;\n",
       "    }\n",
       "\n",
       "    .dataframe tbody tr th {\n",
       "        vertical-align: top;\n",
       "    }\n",
       "\n",
       "    .dataframe thead th {\n",
       "        text-align: right;\n",
       "    }\n",
       "</style>\n",
       "<table border=\"1\" class=\"dataframe\">\n",
       "  <thead>\n",
       "    <tr style=\"text-align: right;\">\n",
       "      <th></th>\n",
       "      <th>-5</th>\n",
       "      <th>-4</th>\n",
       "      <th>-3</th>\n",
       "      <th>-2</th>\n",
       "      <th>-1</th>\n",
       "      <th>0</th>\n",
       "    </tr>\n",
       "  </thead>\n",
       "  <tbody>\n",
       "    <tr>\n",
       "      <th>Cauchy CDF</th>\n",
       "      <td>6.283296e-02</td>\n",
       "      <td>0.077979</td>\n",
       "      <td>0.102416</td>\n",
       "      <td>0.147584</td>\n",
       "      <td>0.250000</td>\n",
       "      <td>0.5</td>\n",
       "    </tr>\n",
       "    <tr>\n",
       "      <th>t CDF</th>\n",
       "      <td>1.887478e-02</td>\n",
       "      <td>0.028595</td>\n",
       "      <td>0.047733</td>\n",
       "      <td>0.091752</td>\n",
       "      <td>0.211325</td>\n",
       "      <td>0.5</td>\n",
       "    </tr>\n",
       "    <tr>\n",
       "      <th>GED CDF</th>\n",
       "      <td>4.186026e-03</td>\n",
       "      <td>0.011526</td>\n",
       "      <td>0.031091</td>\n",
       "      <td>0.081765</td>\n",
       "      <td>0.207871</td>\n",
       "      <td>0.5</td>\n",
       "    </tr>\n",
       "    <tr>\n",
       "      <th>Norm CDF</th>\n",
       "      <td>2.866516e-07</td>\n",
       "      <td>0.000032</td>\n",
       "      <td>0.001350</td>\n",
       "      <td>0.022750</td>\n",
       "      <td>0.158655</td>\n",
       "      <td>0.5</td>\n",
       "    </tr>\n",
       "  </tbody>\n",
       "</table>\n",
       "</div>"
      ],
      "text/plain": [
       "                      -5        -4        -3        -2        -1    0\n",
       "Cauchy CDF  6.283296e-02  0.077979  0.102416  0.147584  0.250000  0.5\n",
       "t CDF       1.887478e-02  0.028595  0.047733  0.091752  0.211325  0.5\n",
       "GED CDF     4.186026e-03  0.011526  0.031091  0.081765  0.207871  0.5\n",
       "Norm CDF    2.866516e-07  0.000032  0.001350  0.022750  0.158655  0.5"
      ]
     },
     "execution_count": 24,
     "metadata": {},
     "output_type": "execute_result"
    }
   ],
   "source": [
    "from scipy.stats import  t,  gennorm, pareto,norm,cauchy\n",
    "b=1.1\n",
    "x=np.arange(-5,1)\n",
    "gn=gennorm.cdf(x,b,scale=a)\n",
    "cy=cauchy.cdf(x)\n",
    "td=t.cdf(np.arange(-5,1),2)\n",
    "n=norm.cdf(x)\n",
    "data=np.vstack([cy,td,gn,n])\n",
    "data=pd.DataFrame(data,columns=x,index=[\"Cauchy CDF\",\"t CDF\",\"GED CDF\",\"Norm CDF\"])\n",
    "data "
   ]
  },
  {
   "cell_type": "code",
   "execution_count": 25,
   "metadata": {},
   "outputs": [
    {
     "name": "stdout",
     "output_type": "stream",
     "text": [
      "\\begin{tabular}{lrrrrrr}\n",
      " & -5 & -4 & -3 & -2 & -1 & 0 \\\\\n",
      "Cauchy CDF & 0.062833 & 0.077979 & 0.102416 & 0.147584 & 0.250000 & 0.500000 \\\\\n",
      "t CDF & 0.018875 & 0.028595 & 0.047733 & 0.091752 & 0.211325 & 0.500000 \\\\\n",
      "GED CDF & 0.004186 & 0.011526 & 0.031091 & 0.081765 & 0.207871 & 0.500000 \\\\\n",
      "Norm CDF & 0.000000 & 0.000032 & 0.001350 & 0.022750 & 0.158655 & 0.500000 \\\\\n",
      "\\end{tabular}\n",
      "\n"
     ]
    }
   ],
   "source": [
    "print(data.style.to_latex())  "
   ]
  },
  {
   "cell_type": "markdown",
   "metadata": {
    "slideshow": {
     "slide_type": "slide"
    },
    "variables": {
     "\\beta ": "<p><strong>SyntaxError</strong>: unexpected character after line continuation character (<ipython-input-19-c5155fef580d>, line 1)</p>\n",
     "{x^{\\beta  + 1": "<p><strong>SyntaxError</strong>: unexpected character after line continuation character (<ipython-input-19-cc0c2ae1b63c>, line 1)</p>\n"
    }
   },
   "source": [
    "###\tPareto 分布\n",
    "\n",
    "Pareto分布的分布密度为:\n",
    "\n",
    " $$ f\\left( x \\right) = \\frac{{\\beta }}{{{x^{\\beta  + 1}}}},\\quad x \\geq 1,\\beta>0$$\n",
    "\n",
    "\n",
    "观察该分布尾部的衰减速度，显然其是多项式的，比负指数慢很多。 从积分可以看出来，pareto分布的矩可能不存在。比如，如果$m\\geq \\beta$，m阶矩就不存在,因为$\\int_1^\\infty \\frac{\\beta}{x^{m-\\beta-1}}$ 为无穷大。\n",
    "\n",
    "\n",
    "Pareto分布有很多种形态，虽然有不同的定义，但最关键的分布密度的多项式衰减形式都是一样的。"
   ]
  },
  {
   "cell_type": "markdown",
   "metadata": {
    "slideshow": {
     "slide_type": "slide"
    },
    "variables": {
     "\\alpha {c^\\alpha ": "<p><strong>SyntaxError</strong>: unexpected character after line continuation character (<ipython-input-19-2776bebdf515>, line 1)</p>\n",
     "{x^{\\alpha  + 1": "<p><strong>SyntaxError</strong>: unexpected character after line continuation character (<ipython-input-19-abd3d5645e3c>, line 1)</p>\n"
    }
   },
   "source": [
    "**极值分布**\n",
    "\n",
    "Pareto （1848-1923）瑞士经济学教授，利用如下公式描述**收入超过$x$** 的人口占总人口的比例，\n",
    "  $$C{x^{ - \\alpha }}$$\n",
    "其中， $C,\\alpha $是常数,与 $x$无关，但依赖于所研究的人群,取值大于0。Pareto认为这种分布规律在各种经济和政治条件下都成立。如果记$F\\left( x \\right)$ 为收入的分布，则有\n",
    " $$F\\left( x \\right) = 1 - {\\left( {\\frac{c}{x}} \\right)^\\alpha },\\quad x > c,$$\n",
    "其中$c > 0$ 为最低收入。这种分布称为Pareto分布，其适用于描述很多经济变量，并且有时也用来对投资的损失进行建模。\n",
    " 对上述分布函数求导，得到分布密度：\n",
    " $$f\\left( x \\right) = \\frac{{\\alpha {c^\\alpha }}}{{{x^{\\alpha  + 1}}}},\\quad x > c,$$ \n",
    "\n",
    "下面看看pareto分布的形态和尾。\n",
    "注意观察右尾，分位数选择0.8到0.999."
   ]
  },
  {
   "cell_type": "code",
   "execution_count": 26,
   "metadata": {
    "slideshow": {
     "slide_type": "slide"
    }
   },
   "outputs": [
    {
     "data": {
      "text/plain": [
       "<matplotlib.legend.Legend at 0x16a03077b50>"
      ]
     },
     "execution_count": 26,
     "metadata": {},
     "output_type": "execute_result"
    },
    {
     "data": {
      "image/png": "[encoded data removed]",
      "text/plain": [
       "<Figure size 720x216 with 2 Axes>"
      ]
     },
     "metadata": {
      "needs_background": "light"
     },
     "output_type": "display_data"
    }
   ],
   "source": [
    "\n",
    "b=2\n",
    "x = np.linspace(pareto.ppf(0.8, 1.1), pareto.ppf(0.999,b), 100)\n",
    "# 形态参数取1.1是为了左边留白\n",
    "fig = plt.figure(figsize=(10,3))\n",
    "ax=fig.add_subplot(1,2,1)\n",
    "plt.plot(x, pareto.pdf(x,b), 'r-', lw=3, alpha=0.5, label='b='+str(b))\n",
    "# alpha这个参数用于设置透明度，0到1之间\n",
    "b=3\n",
    "x = np.linspace(pareto.ppf(0.8, 1.1), pareto.ppf(0.999,b), 100)\n",
    "plt.plot(x, pareto.pdf(x, b), 'b-', lw=3, alpha=0.5, label='b='+str(b))\n",
    "plt.legend(loc=\"best\")\n",
    "\n",
    "ax=fig.add_subplot(1,2,2)\n",
    "\n",
    "b=5\n",
    "scale=3\n",
    "\n",
    "x = np.linspace(pareto.ppf(0.0001, b,scale=scale), pareto.ppf(0.9999,b,scale=scale), 100)\n",
    "plt.plot(x, pareto.pdf(x, b,scale=scale), 'b-', lw=3, alpha=0.5, label='b=5,scale='+str(scale))\n",
    "\n",
    "\n",
    "scale=2\n",
    "x = np.linspace(pareto.ppf(0.0001, b,scale=scale), pareto.ppf(0.9999,b,scale=scale), 100)\n",
    "\n",
    "plt.plot(x, pareto.pdf(x, b,scale=scale), 'r-', lw=3, alpha=0.5, label='b=5,scale='+str(scale))\n",
    "\n",
    "plt.legend(loc=\"best\")\n",
    "\n",
    " \n",
    "\n"
   ]
  },
  {
   "cell_type": "code",
   "execution_count": 27,
   "metadata": {},
   "outputs": [],
   "source": [
    "pareto.ppf?"
   ]
  },
  {
   "cell_type": "markdown",
   "metadata": {
    "slideshow": {
     "slide_type": "slide"
    }
   },
   "source": [
    "## 分布拟合\n",
    "\n",
    "+ 矩估计和极大似然估计\n",
    "\n",
    "+ 我们这里说一下极大似然估计，其不仅可以用来估计分布的参数，还是统计模型参数估计的最重要工具之一。\n",
    "\n",
    "+ 在数据分析中，我们常常要描述数据满足什么样的模型，比如对资产的收益率，分布就是对其的一种统计描述。分析出其遵循的分布，就是一种统计建模。"
   ]
  },
  {
   "cell_type": "markdown",
   "metadata": {
    "slideshow": {
     "slide_type": "slide"
    }
   },
   "source": [
    "+ 那么用什么样的分布来对收益率进行建模呢？答案一定不是唯一的。我们需要选择一个最恰当的分布，使其能尽可能的刻画观测到的收益率数据。\n",
    "\n",
    "+ 最常用的是参数模型方法。我们首先选择一种分布类型，比如正态分布，t分布，广义误差分布等。确定分布类型后，就将选择范围缩小在一类分布族中。比如正态分布族，由其位置参数和刻度参数（均值和方差）刻画。接下来就是要在该分布族内选择一个确定的分布，即确定分布的参数。这时就需要用大极大似然估计。"
   ]
  },
  {
   "cell_type": "markdown",
   "metadata": {
    "slideshow": {
     "slide_type": "slide"
    },
    "variables": {
     "Y_1}, \\cdots ,{Y_n": "<p><strong>SyntaxError</strong>: invalid syntax (<ipython-input-1-c1ce06b20732>, line 1)</p>\n",
     "\\bf{Y": "<p><strong>SyntaxError</strong>: unexpected character after line continuation character (<ipython-input-1-7de84ace1889>, line 1)</p>\n",
     "\\theta _1}, \\cdots ,{\\theta _p": "<p><strong>SyntaxError</strong>: unexpected character after line continuation character (<ipython-input-1-6974fe9660fc>, line 1)</p>\n"
    }
   },
   "source": [
    "+ 极大似然估计的思想：在分布族中寻找使我们观测到的数据出现的几率最大的分布。这个几率用似然函数来刻画。\n",
    "\n",
    "设 \n",
    "\n",
    "\n",
    "+ 设${\\bf{Y}} = {\\left( {{Y_1}, \\cdots ,{Y_n}} \\right)^T}$ 为数据向量，\n",
    "+ ${\\bf{\\theta }} = \\left( {{\\theta _1}, \\cdots ,{\\theta _p}} \\right)^T$表示参数向量。\n",
    "+ $f\\left( {{\\bf{Y}};{\\bf{\\theta }}} \\right)$表示${\\bf{Y}}$ 的密度函数，其是参数的函数。\n",
    "+ 极大似然估计使$f\\left( {{\\bf{Y}};{\\bf{\\theta }}} \\right)$ 取最大值。 称为$f\\left( {{\\bf{Y}};{\\bf{\\theta }}} \\right)$似然函数，记为$L\\left( {\\bf{\\theta }} \\right)$ 。通常情况下对似然函数取对数会使估计更加容易， $\\log \\left\\{ {L\\left( {\\bf{\\theta }} \\right)} \\right\\}$称为对数似然函数。因此，参数$\\theta$极大似然估计$\\hat{\\theta}$用数学公式表示就是：\n",
    "\n",
    "$$ \\{ \\hat\\theta\\} \\subseteq \\{ \\underset{\\theta\\in\\Theta}{\\operatorname{arg\\,max}}\\ \\log L(\\theta) \\},  $$\n",
    "\n",
    "其中$\\Theta$设定了参数的取值范围，比如正态分布，标准差的参数必须是大于0的。 "
   ]
  },
  {
   "cell_type": "markdown",
   "metadata": {
    "variables": {
     " - 1": "-1",
     "2{\\sigma ^2": "<p><strong>SyntaxError</strong>: invalid syntax (<ipython-input-20-1e6d985bebb2>, line 1)</p>\n",
     "Y_1}, \\cdots ,{Y_n": "<p><strong>SyntaxError</strong>: invalid syntax (<ipython-input-20-c1ce06b20732>, line 1)</p>\n",
     "\\bf{Y": "<p><strong>SyntaxError</strong>: unexpected character after line continuation character (<ipython-input-20-7de84ace1889>, line 1)</p>\n",
     "\\sigma ^2": "<p><strong>SyntaxError</strong>: unexpected character after line continuation character (<ipython-input-20-397a28ea3397>, line 1)</p>\n",
     "{Y_i} - \\mu ": "<p><strong>SyntaxError</strong>: unexpected character after line continuation character (<ipython-input-20-9a852f13477c>, line 1)</p>\n",
     "{\\left( {{Y_i} - \\mu } \\right)}^2": "<p><strong>SyntaxError</strong>: unexpected character after line continuation character (<ipython-input-20-66a486a7044d>, line 1)</p>\n",
     "{\\sigma ^n}{{\\left( {2\\pi } \\right)}^{n/2": "<p><strong>SyntaxError</strong>: unexpected character after line continuation character (<ipython-input-20-bc7bb455dd2b>, line 1)</p>\n"
    }
   },
   "source": [
    "+ 一般来说，我们都假设${\\bf{Y}} = {\\left( {{Y_1}, \\cdots ,{Y_n}} \\right)^T}$中的观测是独立同分布的。 $f\\left( {{\\bf{Y}};{\\bf{\\theta }}} \\right)$ 就是每一个$Y_i$分布的乘积。我们用正态分布的极大似然估计来说明一下。\n",
    "\n",
    "+ 对正态分布，似然函数为 \n",
    "\n",
    "$$L\\left( {\\bf{\\theta }} \\right) = \\prod\\limits_{i = 1}^n {\\frac{1}{\\sigma }\\phi \\left( {\\frac{{{Y_i} - \\mu }}{\\sigma }} \\right) = \\frac{1}{{{\\sigma ^n}{{\\left( {2\\pi } \\right)}^{n/2}}}}\\exp \\left\\{ {\\frac{{ - 1}}{{2{\\sigma ^2}}}\\sum\\limits_{i = 1}^n {{{\\left( {{Y_i} - \\mu } \\right)}^2}} } \\right\\}.} $$\n",
    " \n",
    "+ 对数似然函数为\n",
    "\n",
    "$$\\log \\left\\{ {L\\left( {\\bf{\\theta }} \\right)} \\right\\} =  - \\frac{n}{2}\\left\\{ {\\log \\left( {{\\sigma ^2}} \\right) + \\log \\left( {2\\pi } \\right)} \\right\\} - \\frac{1}{{2{\\sigma ^2}}}\\sum\\limits_{i = 1}^n {{{\\left( {{Y_i} - \\mu } \\right)}^2}} $$\n",
    " "
   ]
  },
  {
   "cell_type": "markdown",
   "metadata": {
    "slideshow": {
     "slide_type": "slide"
    },
    "variables": {
     "{\\left( {{Y_i} - \\bar Y} \\right)}^2": "<p><strong>SyntaxError</strong>: unexpected character after line continuation character (<ipython-input-20-685e2a515721>, line 1)</p>\n"
    }
   },
   "source": [
    "+ 可以解得极大似然估计为\n",
    "  $$\\hat \\mu  = \\bar Y, \\quad {\\hat \\sigma ^2} = \\frac{1}{n}\\sum\\limits_{i = 1}^n {{{\\left( {{Y_i} - \\bar Y} \\right)}^2}} $$\n",
    "\n",
    "+ 优化\n",
    "\n",
    "显然，极大似然估计的解并非都像正态分布那样有形式解，特别是在进行较复杂的统计建模时。如果没有形式解，我们就得借助优化方法。因此，在很多统计建模中，优化方法是非常重要的一步。如果模型设计得当，估计的优化算法效率高，方法就越适用。 因此，极大似然估计的问题就转化为优化问题：\n",
    "\n",
    "$$\\underset{\\theta\\in\\Theta}{\\operatorname{arg\\,max}}\\ \\log L(\\theta)$$"
   ]
  },
  {
   "cell_type": "markdown",
   "metadata": {
    "slideshow": {
     "slide_type": "slide"
    }
   },
   "source": [
    "正态分布，t分布，pareto分布，GED分布(广义正态分布)的参数估计都可以用极大似然估计得到。下面的函数给出了这几种分布参数的极大似然估计。 \n",
    "\n",
    "+ 正态分布：norm.fit()\n",
    "+ t分布: t.fit()\n",
    "+ pareto分布： pareto.fit()\n",
    "+ GED分布：gennorm.fit()\n",
    "\n",
    "下面我们用上证指数2012-2014四年的数据来对其对数收益率进行分布建模。\n",
    "我们分别输出参数估计和相应的对数似然函数。"
   ]
  },
  {
   "cell_type": "code",
   "execution_count": 29,
   "metadata": {
    "slideshow": {
     "slide_type": "slide"
    }
   },
   "outputs": [
    {
     "data": {
      "text/plain": [
       "(array([ 2.,  0.,  0.,  0.,  0.,  0.,  0.,  0.,  0.,  1.,  0.,  0.,  1.,\n",
       "         4.,  4.,  2.,  1.,  4.,  3., 15., 15., 15., 19., 32., 36., 47.,\n",
       "        46., 77., 70., 69., 51., 45., 38., 32., 15., 23.,  8.,  8., 10.,\n",
       "         6.,  6.,  4.,  6.,  2.,  2.,  2.,  1.,  0.,  0.,  3.]),\n",
       " array([-0.0558, -0.0539, -0.0519, -0.0499, -0.048 , -0.046 , -0.044 ,\n",
       "        -0.0421, -0.0401, -0.0382, -0.0362, -0.0342, -0.0323, -0.0303,\n",
       "        -0.0283, -0.0264, -0.0244, -0.0225, -0.0205, -0.0185, -0.0166,\n",
       "        -0.0146, -0.0126, -0.0107, -0.0087, -0.0067, -0.0048, -0.0028,\n",
       "        -0.0009,  0.0011,  0.0031,  0.005 ,  0.007 ,  0.009 ,  0.0109,\n",
       "         0.0129,  0.0149,  0.0168,  0.0188,  0.0207,  0.0227,  0.0247,\n",
       "         0.0266,  0.0286,  0.0306,  0.0325,  0.0345,  0.0364,  0.0384,\n",
       "         0.0404,  0.0423]),\n",
       " <BarContainer object of 50 artists>)"
      ]
     },
     "execution_count": 29,
     "metadata": {},
     "output_type": "execute_result"
    },
    {
     "data": {
      "image/png": "[encoded data removed]",
      "text/plain": [
       "<Figure size 432x288 with 1 Axes>"
      ]
     },
     "metadata": {
      "needs_background": "light"
     },
     "output_type": "display_data"
    }
   ],
   "source": [
    "shindex=pd.read_csv(\"data/000001.SH.csv\",index_col=0,parse_dates=True)\n",
    "shindex=shindex.loc[\"2012\":\"2014\"][\"CLOSE\"]\n",
    "logret=shindex.map(math.log)-shindex.shift().map(math.log)\n",
    "logret=logret.dropna()\n",
    "#ret=shindex.pct_change()\n",
    "#logret=(1+ret).map(np.math.log)\n",
    "#logret.plot()\n",
    "#logret[\"\"].hist(bins=50, figsize=(8,6))\n",
    "#plt.hist(,bins=50)\n",
    "#logret.values\n",
    "plt.hist(logret.values,50)"
   ]
  },
  {
   "cell_type": "code",
   "execution_count": 30,
   "metadata": {
    "slideshow": {
     "slide_type": "slide"
    }
   },
   "outputs": [
    {
     "name": "stdout",
     "output_type": "stream",
     "text": [
      "(0.0005510111110118522, 0.011140884396403608) \n",
      " loglik=2231.691465744806\n"
     ]
    }
   ],
   "source": [
    "par=norm.fit(logret)\n",
    "ss=np.log(norm.pdf(logret,loc=par[0],scale=par[1])).sum()\n",
    "#loglik=np.array(map(np.math.log,norm.pdf(logret,loc=par[0],scale=par[1])))\n",
    " \n",
    "print(par,  \"\\n loglik=\"+ str(ss))\n",
    " "
   ]
  },
  {
   "cell_type": "code",
   "execution_count": 31,
   "metadata": {
    "slideshow": {
     "slide_type": "slide"
    }
   },
   "outputs": [
    {
     "name": "stdout",
     "output_type": "stream",
     "text": [
      "(3.944690068045694, 0.0003519065125872601, 0.008128191691365251) \n",
      " loglik= 2266.952526294908\n"
     ]
    }
   ],
   "source": [
    "par=t.fit(logret)\n",
    "loglik= np.log(t.pdf(logret,par[0],loc=par[1],scale=par[2])) \n",
    "print(  par, \"\\n loglik=\", loglik.sum())\n"
   ]
  },
  {
   "cell_type": "code",
   "execution_count": 32,
   "metadata": {
    "slideshow": {
     "slide_type": "slide"
    }
   },
   "outputs": [
    {
     "name": "stdout",
     "output_type": "stream",
     "text": [
      "(1.096114022750268, 0.0003136217082528625, 0.009071683736011658) \n",
      " loglik= 2270.4902279918597\n"
     ]
    }
   ],
   "source": [
    "par=gennorm.fit(logret)\n",
    "\n",
    "loglik=np.log(gennorm.pdf(logret,par[0],loc=par[1],scale=par[2]))\n",
    "print( par, \"\\n loglik=\", loglik.sum())"
   ]
  },
  {
   "cell_type": "code",
   "execution_count": 33,
   "metadata": {},
   "outputs": [
    {
     "data": {
      "text/plain": [
       "(1.9262575284724173, 0, 1.0)"
      ]
     },
     "execution_count": 33,
     "metadata": {},
     "output_type": "execute_result"
    }
   ],
   "source": [
    "logretg=logret[logret>0.01]\n",
    "logretg=logretg/min(logretg)\n",
    "pareto.fit(logretg,floc=0)\n",
    "#plt.hist(logretg,bins=10)  "
   ]
  },
  {
   "cell_type": "markdown",
   "metadata": {},
   "source": [
    "pareto极大似然估计，$x_i$\n",
    "$c = min(x_i)$,\n",
    "$\\alpha=\\frac{n}{\\sum_i\\left(\\frac{\\ln x_i}{c}\\right)}$"
   ]
  },
  {
   "cell_type": "code",
   "execution_count": 34,
   "metadata": {},
   "outputs": [
    {
     "data": {
      "text/plain": [
       "(2.9222334660625138, 1, 9.000343150617558)"
      ]
     },
     "execution_count": 34,
     "metadata": {},
     "output_type": "execute_result"
    },
    {
     "data": {
      "image/png": "[encoded data removed]",
      "text/plain": [
       "<Figure size 720x288 with 2 Axes>"
      ]
     },
     "metadata": {
      "needs_background": "light"
     },
     "output_type": "display_data"
    }
   ],
   "source": [
    "alpha0 = 3    \n",
    "x0=pareto.rvs(alpha0,0,1,500)\n",
    "x = x0*9+1  \n",
    "fig = plt.figure(figsize=(10,4))\n",
    "ax = fig.add_subplot(1,2,1) \n",
    "plt.hist(x0,bins=500)\n",
    "ax = fig.add_subplot(1,2,2) \n",
    "plt.hist(x,bins=500)\n",
    "pareto.fit(x,floc=1)\n"
   ]
  },
  {
   "cell_type": "code",
   "execution_count": 35,
   "metadata": {},
   "outputs": [
    {
     "data": {
      "text/plain": [
       "(3.4239626038574547, -1.0804181929591152, 11.080761343576672)"
      ]
     },
     "execution_count": 35,
     "metadata": {},
     "output_type": "execute_result"
    }
   ],
   "source": [
    "pareto.fit(x)"
   ]
  },
  {
   "cell_type": "markdown",
   "metadata": {
    "slideshow": {
     "slide_type": "slide"
    }
   },
   "source": [
    "###  估计的标准差\n",
    "\n",
    "在统计分析中，我们常常希望知道估计得好不好，并且通常用参数估计量的标准差来刻画。当标准差小时，说明参数的不确定性小，数据给出了比较强的证据支持该参数的估计。如果估计参数的标准差大，说明该参数的不确定性比较大。正态分布的极大似然估计的标准差可以推导得到。\n",
    "\n",
    "从优化的视角看，如果似然函数的顶峰比较尖，即其极大值点非常陡峭，参数值的一点偏离都会使似然函数发生比较大的减小，则该极大似然估计是很好的。反之如果似然函数曲面顶峰比较平坦，参数值的变化不会带来太大的似然值的变化，这时优化效果以及参数估计的效果都不会好。极大似然估计的理论可以给出在大样本情形下，利用对数似然函数可以计算待估参数的标准差。\n",
    "\n",
    "\n",
    "scipy.stats 中的fit方法只能给出参数的值，我们也可以利用数值Hessian估计计算极大似然估计的标准差，有兴趣的同学可以继续学习极大似然估计的相关理论和方法。[极大似然估计简单介绍](mle_introduction.pdf)\n"
   ]
  },
  {
   "cell_type": "markdown",
   "metadata": {},
   "source": [
    "# VAR: value at risk 在险价值\n",
    "\n",
    "VaR是衡量金融资产风险的重要指标。\n",
    "\n",
    "+ 使得资产R的损失 超过$\\mbox{VaR}_\\alpha$的概率不大于 $\\alpha$.  $$\\mbox{VaR}_\\alpha= r: {\\mathbb P}(R\\leq r)= \\alpha$$"
   ]
  },
  {
   "cell_type": "code",
   "execution_count": 36,
   "metadata": {},
   "outputs": [],
   "source": [
    "\n",
    "from scipy.stats import norm\n",
    "import numpy as np\n",
    "import pandas as pd\n",
    "import math\n",
    "\n",
    "def VaR(Returns, Formula = 'Normal', Confidence_Interval = 0.95 , Period_Interval = None ,\n",
    "        Series = False ,removeNa = True):\n",
    "    \n",
    "    '''\n",
    "    This funcction can caluclate both single value VaR and series of VaR values through time.\n",
    "    Supported formulas as Parametric Normal, ....\n",
    "    \n",
    "    '''\n",
    "        \n",
    "    # Removes the NAs from the series\n",
    "    if removeNa==True: Returns = Returns[pd.notnull(Returns)]\n",
    "    \n",
    "    # Data need to be returns already, then here the interval for the sampling is set for No input\n",
    "    if (Series == True and Period_Interval == None):\n",
    "        Period_Interval = 100\n",
    "    elif Period_Interval == None: \n",
    "        Period_Interval = len(Returns)    \n",
    "  \n",
    "    #===============================\n",
    "    #     Parametric Normal VaR \n",
    "    #===============================\n",
    "    if Formula == 'Normal':\n",
    "        \n",
    "        if Series == False: \n",
    "            Data = Returns[-Period_Interval:]\n",
    "            stdev = np.std(Data)\n",
    "            Value_at_Risk = stdev*norm.ppf(Confidence_Interval)\n",
    "        if Series == True:\n",
    "            Value_at_Risk = pd.Series(index=Returns.index, name = 'ParVaR')\n",
    "            for i in range(0,len(Returns)-Period_Interval):\n",
    "                if i == 0: Data = Returns[-(Period_Interval):]\n",
    "                else: Data = Returns[-(Period_Interval+i):-i]\n",
    "                stdev = np.std(Data)\n",
    "                Value_at_Risk[-i-1] = stdev*norm.ppf(Confidence_Interval)\n",
    "    return(Value_at_Risk)"
   ]
  },
  {
   "cell_type": "code",
   "execution_count": 37,
   "metadata": {},
   "outputs": [
    {
     "data": {
      "text/plain": [
       "0.01832512410687153"
      ]
     },
     "execution_count": 37,
     "metadata": {},
     "output_type": "execute_result"
    }
   ],
   "source": [
    "VaR(logret)"
   ]
  },
  {
   "cell_type": "markdown",
   "metadata": {
    "slideshow": {
     "slide_type": "slide"
    }
   },
   "source": [
    "问题\n",
    "\n",
    "1. 收益率分布建模的步骤\n",
    "2. 极大似然估计\n",
    "3. 正态分布的极大似然估计\n",
    "4. 如何理解极大似然估计量的标准差\n",
    "5. 如何比较那个分布更合适\n",
    "6. 不同分布假设对在险价值估计的影响"
   ]
  },
  {
   "cell_type": "markdown",
   "metadata": {},
   "source": [
    "##  作业\n",
    "\n",
    "小组作业1提供的北大网盘上文件index_daily.csv是各种金融指数日数据，index_global.csv是常见国际指数日数据。\n",
    "\n",
    "1. 从index_daily分别选择一些(>1)股票，债券，汇率以及商品指数，以及index_global.csv中 的所有指数，计算日，月，季度，年收益率。\n",
    "2. 分别计算和展示这些收益率的描述性统计量(均值，方差，偏度，峰度，重要分位点)\n",
    "3. 使用月收益率数据，分别利用正态分布、t分和广义误差分布拟合收益率分布，并给出对应的 95%的VaR，及损失超过VaR的概率低于5%。\n",
    "4. 将数据按5年分为若干组，在每组中重复2和3的分析，展示均值、方差、峰度、以及VaR随时间的变化情况。"
   ]
  }
 ],
 "metadata": {
  "anaconda-cloud": {},
  "celltoolbar": "幻灯片",
  "kernelspec": {
   "display_name": "Python 3 (ipykernel)",
   "language": "python",
   "name": "python3"
  },
  "language_info": {
   "codemirror_mode": {
    "name": "ipython",
    "version": 3
   },
   "file_extension": ".py",
   "mimetype": "text/x-python",
   "name": "python",
   "nbconvert_exporter": "python",
   "pygments_lexer": "ipython3",
   "version": "3.11.4"
  },
  "latex_envs": {
   "LaTeX_envs_menu_present": true,
   "autoclose": false,
   "autocomplete": true,
   "bibliofile": "biblio.bib",
   "cite_by": "apalike",
   "current_citInitial": 1,
   "eqLabelWithNumbers": true,
   "eqNumInitial": 1,
   "hotkeys": {
    "equation": "Ctrl-E",
    "itemize": "Ctrl-I"
   },
   "labels_anchors": false,
   "latex_user_defs": false,
   "report_style_numbering": false,
   "user_envs_cfg": false
  }
 },
 "nbformat": 4,
 "nbformat_minor": 4
}
