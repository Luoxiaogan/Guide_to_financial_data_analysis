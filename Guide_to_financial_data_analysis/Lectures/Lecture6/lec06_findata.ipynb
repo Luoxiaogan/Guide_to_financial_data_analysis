{
 "cells": [
  {
   "cell_type": "markdown",
   "metadata": {},
   "source": [
    "# 金融经济数据处理\n",
    "\n",
    "+  这一讲中进一步学习和联系利用pandas进行金融数据的处理，特别是时间序列的数据，内容依然集中在数据的预处理部分。包括数据对齐，数据类型变换，从不同数据源中提取整合数据等的回顾。\n",
    " "
   ]
  },
  {
   "cell_type": "code",
   "execution_count": 1,
   "metadata": {},
   "outputs": [],
   "source": [
    "from __future__ import division\n",
    "from pandas import Series, DataFrame\n",
    "import pandas as pd\n",
    "from numpy.random import randn\n",
    "import numpy as np\n",
    "pd.options.display.max_rows = 12\n",
    "np.set_printoptions(precision=4, suppress=True)\n",
    "import matplotlib.pyplot as plt\n",
    "plt.rc('figure', figsize=(12, 6))"
   ]
  },
  {
   "cell_type": "code",
   "execution_count": 2,
   "metadata": {},
   "outputs": [],
   "source": [
    "%matplotlib inline"
   ]
  },
  {
   "cell_type": "code",
   "execution_count": 3,
   "metadata": {},
   "outputs": [
    {
     "data": {
      "text/plain": [
       "'c:\\\\Users\\\\16017\\\\Desktop\\\\Dropbox\\\\金融数据分析导引\\\\Guide_to_financial_data_analysis\\\\Lectures\\\\Lecture6'"
      ]
     },
     "execution_count": 3,
     "metadata": {},
     "output_type": "execute_result"
    }
   ],
   "source": [
    "%pwd"
   ]
  },
  {
   "cell_type": "markdown",
   "metadata": {},
   "source": [
    "### 时序方向和横截面方向对齐计算\n",
    "\n",
    "+ 计算指数需要对价格进行加权，这是数据对齐非常繁琐，利用pandas中的dataframe处理这个问题非常简单。\n",
    "自动对齐！\n",
    "\n",
    "+ 下面的例子实现了数据的加权计算"
   ]
  },
  {
   "cell_type": "code",
   "execution_count": null,
   "metadata": {},
   "outputs": [],
   "source": [
    "close_px = pd.read_csv('data/stock_px_11.csv', parse_dates=True, index_col=0)\n",
    "volume = pd.read_csv('data/volume_11.csv', parse_dates=True, index_col=0)\n",
    "prices = close_px.loc['2011-09-05':'2011-09-14', ['AAPL', 'JNJ', 'SPX', 'XOM']]\n",
    "volume = volume.loc['2011-09-05':'2011-09-12', ['AAPL', 'JNJ', 'XOM']]"
   ]
  },
  {
   "cell_type": "code",
   "execution_count": 5,
   "metadata": {},
   "outputs": [
    {
     "data": {
      "text/html": [
       "<div>\n",
       "<style scoped>\n",
       "    .dataframe tbody tr th:only-of-type {\n",
       "        vertical-align: middle;\n",
       "    }\n",
       "\n",
       "    .dataframe tbody tr th {\n",
       "        vertical-align: top;\n",
       "    }\n",
       "\n",
       "    .dataframe thead th {\n",
       "        text-align: right;\n",
       "    }\n",
       "</style>\n",
       "<table border=\"1\" class=\"dataframe\">\n",
       "  <thead>\n",
       "    <tr style=\"text-align: right;\">\n",
       "      <th></th>\n",
       "      <th>AAPL</th>\n",
       "      <th>JNJ</th>\n",
       "      <th>SPX</th>\n",
       "      <th>XOM</th>\n",
       "    </tr>\n",
       "  </thead>\n",
       "  <tbody>\n",
       "    <tr>\n",
       "      <th>2011-09-06</th>\n",
       "      <td>379.74</td>\n",
       "      <td>64.64</td>\n",
       "      <td>1165.24</td>\n",
       "      <td>71.15</td>\n",
       "    </tr>\n",
       "    <tr>\n",
       "      <th>2011-09-07</th>\n",
       "      <td>383.93</td>\n",
       "      <td>65.43</td>\n",
       "      <td>1198.62</td>\n",
       "      <td>73.65</td>\n",
       "    </tr>\n",
       "    <tr>\n",
       "      <th>2011-09-08</th>\n",
       "      <td>384.14</td>\n",
       "      <td>64.95</td>\n",
       "      <td>1185.90</td>\n",
       "      <td>72.82</td>\n",
       "    </tr>\n",
       "    <tr>\n",
       "      <th>2011-09-09</th>\n",
       "      <td>377.48</td>\n",
       "      <td>63.64</td>\n",
       "      <td>1154.23</td>\n",
       "      <td>71.01</td>\n",
       "    </tr>\n",
       "    <tr>\n",
       "      <th>2011-09-12</th>\n",
       "      <td>379.94</td>\n",
       "      <td>63.59</td>\n",
       "      <td>1162.27</td>\n",
       "      <td>71.84</td>\n",
       "    </tr>\n",
       "    <tr>\n",
       "      <th>2011-09-13</th>\n",
       "      <td>384.62</td>\n",
       "      <td>63.61</td>\n",
       "      <td>1172.87</td>\n",
       "      <td>71.65</td>\n",
       "    </tr>\n",
       "    <tr>\n",
       "      <th>2011-09-14</th>\n",
       "      <td>389.30</td>\n",
       "      <td>63.73</td>\n",
       "      <td>1188.68</td>\n",
       "      <td>72.64</td>\n",
       "    </tr>\n",
       "  </tbody>\n",
       "</table>\n",
       "</div>"
      ],
      "text/plain": [
       "              AAPL    JNJ      SPX    XOM\n",
       "2011-09-06  379.74  64.64  1165.24  71.15\n",
       "2011-09-07  383.93  65.43  1198.62  73.65\n",
       "2011-09-08  384.14  64.95  1185.90  72.82\n",
       "2011-09-09  377.48  63.64  1154.23  71.01\n",
       "2011-09-12  379.94  63.59  1162.27  71.84\n",
       "2011-09-13  384.62  63.61  1172.87  71.65\n",
       "2011-09-14  389.30  63.73  1188.68  72.64"
      ]
     },
     "execution_count": 5,
     "metadata": {},
     "output_type": "execute_result"
    }
   ],
   "source": [
    "prices"
   ]
  },
  {
   "cell_type": "code",
   "execution_count": 6,
   "metadata": {},
   "outputs": [
    {
     "data": {
      "text/html": [
       "<div>\n",
       "<style scoped>\n",
       "    .dataframe tbody tr th:only-of-type {\n",
       "        vertical-align: middle;\n",
       "    }\n",
       "\n",
       "    .dataframe tbody tr th {\n",
       "        vertical-align: top;\n",
       "    }\n",
       "\n",
       "    .dataframe thead th {\n",
       "        text-align: right;\n",
       "    }\n",
       "</style>\n",
       "<table border=\"1\" class=\"dataframe\">\n",
       "  <thead>\n",
       "    <tr style=\"text-align: right;\">\n",
       "      <th></th>\n",
       "      <th>AAPL</th>\n",
       "      <th>JNJ</th>\n",
       "      <th>XOM</th>\n",
       "    </tr>\n",
       "  </thead>\n",
       "  <tbody>\n",
       "    <tr>\n",
       "      <th>2011-09-06</th>\n",
       "      <td>18173500.0</td>\n",
       "      <td>15848300.0</td>\n",
       "      <td>25416300.0</td>\n",
       "    </tr>\n",
       "    <tr>\n",
       "      <th>2011-09-07</th>\n",
       "      <td>12492000.0</td>\n",
       "      <td>10759700.0</td>\n",
       "      <td>23108400.0</td>\n",
       "    </tr>\n",
       "    <tr>\n",
       "      <th>2011-09-08</th>\n",
       "      <td>14839800.0</td>\n",
       "      <td>15551500.0</td>\n",
       "      <td>22434800.0</td>\n",
       "    </tr>\n",
       "    <tr>\n",
       "      <th>2011-09-09</th>\n",
       "      <td>20171900.0</td>\n",
       "      <td>17008200.0</td>\n",
       "      <td>27969100.0</td>\n",
       "    </tr>\n",
       "    <tr>\n",
       "      <th>2011-09-12</th>\n",
       "      <td>16697300.0</td>\n",
       "      <td>13448200.0</td>\n",
       "      <td>26205800.0</td>\n",
       "    </tr>\n",
       "  </tbody>\n",
       "</table>\n",
       "</div>"
      ],
      "text/plain": [
       "                  AAPL         JNJ         XOM\n",
       "2011-09-06  18173500.0  15848300.0  25416300.0\n",
       "2011-09-07  12492000.0  10759700.0  23108400.0\n",
       "2011-09-08  14839800.0  15551500.0  22434800.0\n",
       "2011-09-09  20171900.0  17008200.0  27969100.0\n",
       "2011-09-12  16697300.0  13448200.0  26205800.0"
      ]
     },
     "execution_count": 6,
     "metadata": {},
     "output_type": "execute_result"
    }
   ],
   "source": [
    "volume"
   ]
  },
  {
   "cell_type": "code",
   "execution_count": 7,
   "metadata": {},
   "outputs": [
    {
     "data": {
      "text/html": [
       "<div>\n",
       "<style scoped>\n",
       "    .dataframe tbody tr th:only-of-type {\n",
       "        vertical-align: middle;\n",
       "    }\n",
       "\n",
       "    .dataframe tbody tr th {\n",
       "        vertical-align: top;\n",
       "    }\n",
       "\n",
       "    .dataframe thead th {\n",
       "        text-align: right;\n",
       "    }\n",
       "</style>\n",
       "<table border=\"1\" class=\"dataframe\">\n",
       "  <thead>\n",
       "    <tr style=\"text-align: right;\">\n",
       "      <th></th>\n",
       "      <th>AAPL</th>\n",
       "      <th>JNJ</th>\n",
       "      <th>SPX</th>\n",
       "      <th>XOM</th>\n",
       "    </tr>\n",
       "  </thead>\n",
       "  <tbody>\n",
       "    <tr>\n",
       "      <th>2011-09-06</th>\n",
       "      <td>6.901205e+09</td>\n",
       "      <td>1.024434e+09</td>\n",
       "      <td>NaN</td>\n",
       "      <td>1.808370e+09</td>\n",
       "    </tr>\n",
       "    <tr>\n",
       "      <th>2011-09-07</th>\n",
       "      <td>4.796054e+09</td>\n",
       "      <td>7.040072e+08</td>\n",
       "      <td>NaN</td>\n",
       "      <td>1.701934e+09</td>\n",
       "    </tr>\n",
       "    <tr>\n",
       "      <th>2011-09-08</th>\n",
       "      <td>5.700561e+09</td>\n",
       "      <td>1.010070e+09</td>\n",
       "      <td>NaN</td>\n",
       "      <td>1.633702e+09</td>\n",
       "    </tr>\n",
       "    <tr>\n",
       "      <th>2011-09-09</th>\n",
       "      <td>7.614489e+09</td>\n",
       "      <td>1.082402e+09</td>\n",
       "      <td>NaN</td>\n",
       "      <td>1.986086e+09</td>\n",
       "    </tr>\n",
       "    <tr>\n",
       "      <th>2011-09-12</th>\n",
       "      <td>6.343972e+09</td>\n",
       "      <td>8.551710e+08</td>\n",
       "      <td>NaN</td>\n",
       "      <td>1.882625e+09</td>\n",
       "    </tr>\n",
       "    <tr>\n",
       "      <th>2011-09-13</th>\n",
       "      <td>NaN</td>\n",
       "      <td>NaN</td>\n",
       "      <td>NaN</td>\n",
       "      <td>NaN</td>\n",
       "    </tr>\n",
       "    <tr>\n",
       "      <th>2011-09-14</th>\n",
       "      <td>NaN</td>\n",
       "      <td>NaN</td>\n",
       "      <td>NaN</td>\n",
       "      <td>NaN</td>\n",
       "    </tr>\n",
       "  </tbody>\n",
       "</table>\n",
       "</div>"
      ],
      "text/plain": [
       "                    AAPL           JNJ  SPX           XOM\n",
       "2011-09-06  6.901205e+09  1.024434e+09  NaN  1.808370e+09\n",
       "2011-09-07  4.796054e+09  7.040072e+08  NaN  1.701934e+09\n",
       "2011-09-08  5.700561e+09  1.010070e+09  NaN  1.633702e+09\n",
       "2011-09-09  7.614489e+09  1.082402e+09  NaN  1.986086e+09\n",
       "2011-09-12  6.343972e+09  8.551710e+08  NaN  1.882625e+09\n",
       "2011-09-13           NaN           NaN  NaN           NaN\n",
       "2011-09-14           NaN           NaN  NaN           NaN"
      ]
     },
     "execution_count": 7,
     "metadata": {},
     "output_type": "execute_result"
    }
   ],
   "source": [
    "prices * volume"
   ]
  },
  {
   "cell_type": "code",
   "execution_count": 8,
   "metadata": {},
   "outputs": [],
   "source": [
    "vwap = (prices * volume).sum() / volume.sum()#计算加权平均"
   ]
  },
  {
   "cell_type": "code",
   "execution_count": 9,
   "metadata": {},
   "outputs": [
    {
     "data": {
      "text/plain": [
       "AAPL    380.655181\n",
       "JNJ      64.394769\n",
       "SPX            NaN\n",
       "XOM      72.024288\n",
       "dtype: float64"
      ]
     },
     "execution_count": 9,
     "metadata": {},
     "output_type": "execute_result"
    }
   ],
   "source": [
    "vwap"
   ]
  },
  {
   "cell_type": "code",
   "execution_count": 10,
   "metadata": {},
   "outputs": [
    {
     "data": {
      "text/plain": [
       "AAPL    380.655181\n",
       "JNJ      64.394769\n",
       "XOM      72.024288\n",
       "dtype: float64"
      ]
     },
     "execution_count": 10,
     "metadata": {},
     "output_type": "execute_result"
    }
   ],
   "source": [
    "vwap.dropna()"
   ]
  },
  {
   "cell_type": "markdown",
   "metadata": {},
   "source": [
    "### 不同频率时间序列的运算\n",
    "\n",
    "+ 利用resample函数可以实现各种频率时间序列数据的采样；reindex用于使数据符合一个新的索引。"
   ]
  },
  {
   "cell_type": "code",
   "execution_count": 5,
   "metadata": {},
   "outputs": [
    {
     "data": {
      "text/plain": [
       "2012-06-13    0.929168\n",
       "2012-06-20    2.582013\n",
       "2012-06-27   -0.558575\n",
       "Freq: W-WED, dtype: float64"
      ]
     },
     "execution_count": 5,
     "metadata": {},
     "output_type": "execute_result"
    }
   ],
   "source": [
    "ts1 = Series(np.random.randn(3),\n",
    "             index=pd.date_range('2012-6-13', periods=3, freq='W-WED'))\n",
    "ts1"
   ]
  },
  {
   "cell_type": "code",
   "execution_count": 18,
   "metadata": {},
   "outputs": [
    {
     "name": "stdout",
     "output_type": "stream",
     "text": [
      "2012-06-13 00:00:00      2012-06-13    0.929168\n",
      "Freq: W-WED, dtype: float64 \n",
      "\n",
      "2012-06-14 00:00:00      Series([], Freq: W-WED, dtype: float64) \n",
      "\n",
      "2012-06-15 00:00:00      Series([], Freq: W-WED, dtype: float64) \n",
      "\n",
      "2012-06-18 00:00:00      Series([], Freq: W-WED, dtype: float64) \n",
      "\n",
      "2012-06-19 00:00:00      Series([], Freq: W-WED, dtype: float64) \n",
      "\n",
      "2012-06-20 00:00:00      2012-06-20    2.582013\n",
      "Freq: W-WED, dtype: float64 \n",
      "\n",
      "2012-06-21 00:00:00      Series([], Freq: W-WED, dtype: float64) \n",
      "\n",
      "2012-06-22 00:00:00      Series([], Freq: W-WED, dtype: float64) \n",
      "\n",
      "2012-06-25 00:00:00      Series([], Freq: W-WED, dtype: float64) \n",
      "\n",
      "2012-06-26 00:00:00      Series([], Freq: W-WED, dtype: float64) \n",
      "\n",
      "2012-06-27 00:00:00      2012-06-27   -0.558575\n",
      "Freq: W-WED, dtype: float64 \n",
      "\n"
     ]
    }
   ],
   "source": [
    "for i,j in ts1.resample('B'):\n",
    "    print(i,'    ',j,'\\n')"
   ]
  },
  {
   "cell_type": "code",
   "execution_count": 19,
   "metadata": {},
   "outputs": [
    {
     "name": "stdout",
     "output_type": "stream",
     "text": [
      "\u001b[1;31mSignature:\u001b[0m\n",
      "\u001b[0mts1\u001b[0m\u001b[1;33m.\u001b[0m\u001b[0mresample\u001b[0m\u001b[1;33m(\u001b[0m\u001b[1;33m\n",
      "\u001b[0m    \u001b[0mrule\u001b[0m\u001b[1;33m,\u001b[0m\u001b[1;33m\n",
      "\u001b[0m    \u001b[0maxis\u001b[0m\u001b[1;33m:\u001b[0m \u001b[1;34m'Axis'\u001b[0m \u001b[1;33m=\u001b[0m \u001b[1;36m0\u001b[0m\u001b[1;33m,\u001b[0m\u001b[1;33m\n",
      "\u001b[0m    \u001b[0mclosed\u001b[0m\u001b[1;33m:\u001b[0m \u001b[1;34m'str | None'\u001b[0m \u001b[1;33m=\u001b[0m \u001b[1;32mNone\u001b[0m\u001b[1;33m,\u001b[0m\u001b[1;33m\n",
      "\u001b[0m    \u001b[0mlabel\u001b[0m\u001b[1;33m:\u001b[0m \u001b[1;34m'str | None'\u001b[0m \u001b[1;33m=\u001b[0m \u001b[1;32mNone\u001b[0m\u001b[1;33m,\u001b[0m\u001b[1;33m\n",
      "\u001b[0m    \u001b[0mconvention\u001b[0m\u001b[1;33m:\u001b[0m \u001b[1;34m'str'\u001b[0m \u001b[1;33m=\u001b[0m \u001b[1;34m'start'\u001b[0m\u001b[1;33m,\u001b[0m\u001b[1;33m\n",
      "\u001b[0m    \u001b[0mkind\u001b[0m\u001b[1;33m:\u001b[0m \u001b[1;34m'str | None'\u001b[0m \u001b[1;33m=\u001b[0m \u001b[1;32mNone\u001b[0m\u001b[1;33m,\u001b[0m\u001b[1;33m\n",
      "\u001b[0m    \u001b[0mloffset\u001b[0m\u001b[1;33m=\u001b[0m\u001b[1;32mNone\u001b[0m\u001b[1;33m,\u001b[0m\u001b[1;33m\n",
      "\u001b[0m    \u001b[0mbase\u001b[0m\u001b[1;33m:\u001b[0m \u001b[1;34m'int | None'\u001b[0m \u001b[1;33m=\u001b[0m \u001b[1;32mNone\u001b[0m\u001b[1;33m,\u001b[0m\u001b[1;33m\n",
      "\u001b[0m    \u001b[0mon\u001b[0m\u001b[1;33m:\u001b[0m \u001b[1;34m'Level'\u001b[0m \u001b[1;33m=\u001b[0m \u001b[1;32mNone\u001b[0m\u001b[1;33m,\u001b[0m\u001b[1;33m\n",
      "\u001b[0m    \u001b[0mlevel\u001b[0m\u001b[1;33m:\u001b[0m \u001b[1;34m'Level'\u001b[0m \u001b[1;33m=\u001b[0m \u001b[1;32mNone\u001b[0m\u001b[1;33m,\u001b[0m\u001b[1;33m\n",
      "\u001b[0m    \u001b[0morigin\u001b[0m\u001b[1;33m:\u001b[0m \u001b[1;34m'str | TimestampConvertibleTypes'\u001b[0m \u001b[1;33m=\u001b[0m \u001b[1;34m'start_day'\u001b[0m\u001b[1;33m,\u001b[0m\u001b[1;33m\n",
      "\u001b[0m    \u001b[0moffset\u001b[0m\u001b[1;33m:\u001b[0m \u001b[1;34m'TimedeltaConvertibleTypes | None'\u001b[0m \u001b[1;33m=\u001b[0m \u001b[1;32mNone\u001b[0m\u001b[1;33m,\u001b[0m\u001b[1;33m\n",
      "\u001b[0m    \u001b[0mgroup_keys\u001b[0m\u001b[1;33m:\u001b[0m \u001b[1;34m'bool | lib.NoDefault'\u001b[0m \u001b[1;33m=\u001b[0m \u001b[1;33m<\u001b[0m\u001b[0mno_default\u001b[0m\u001b[1;33m>\u001b[0m\u001b[1;33m,\u001b[0m\u001b[1;33m\n",
      "\u001b[0m\u001b[1;33m)\u001b[0m \u001b[1;33m->\u001b[0m \u001b[1;34m'Resampler'\u001b[0m\u001b[1;33m\u001b[0m\u001b[1;33m\u001b[0m\u001b[0m\n",
      "\u001b[1;31mDocstring:\u001b[0m\n",
      "Resample time-series data.\n",
      "\n",
      "Convenience method for frequency conversion and resampling of time series.\n",
      "The object must have a datetime-like index (`DatetimeIndex`, `PeriodIndex`,\n",
      "or `TimedeltaIndex`), or the caller must pass the label of a datetime-like\n",
      "series/index to the ``on``/``level`` keyword parameter.\n",
      "\n",
      "Parameters\n",
      "----------\n",
      "rule : DateOffset, Timedelta or str\n",
      "    The offset string or object representing target conversion.\n",
      "axis : {0 or 'index', 1 or 'columns'}, default 0\n",
      "    Which axis to use for up- or down-sampling. For `Series` this parameter\n",
      "    is unused and defaults to 0. Must be\n",
      "    `DatetimeIndex`, `TimedeltaIndex` or `PeriodIndex`.\n",
      "closed : {'right', 'left'}, default None\n",
      "    Which side of bin interval is closed. The default is 'left'\n",
      "    for all frequency offsets except for 'M', 'A', 'Q', 'BM',\n",
      "    'BA', 'BQ', and 'W' which all have a default of 'right'.\n",
      "label : {'right', 'left'}, default None\n",
      "    Which bin edge label to label bucket with. The default is 'left'\n",
      "    for all frequency offsets except for 'M', 'A', 'Q', 'BM',\n",
      "    'BA', 'BQ', and 'W' which all have a default of 'right'.\n",
      "convention : {'start', 'end', 's', 'e'}, default 'start'\n",
      "    For `PeriodIndex` only, controls whether to use the start or\n",
      "    end of `rule`.\n",
      "kind : {'timestamp', 'period'}, optional, default None\n",
      "    Pass 'timestamp' to convert the resulting index to a\n",
      "    `DateTimeIndex` or 'period' to convert it to a `PeriodIndex`.\n",
      "    By default the input representation is retained.\n",
      "loffset : timedelta, default None\n",
      "    Adjust the resampled time labels.\n",
      "\n",
      "    .. deprecated:: 1.1.0\n",
      "        You should add the loffset to the `df.index` after the resample.\n",
      "        See below.\n",
      "\n",
      "base : int, default 0\n",
      "    For frequencies that evenly subdivide 1 day, the \"origin\" of the\n",
      "    aggregated intervals. For example, for '5min' frequency, base could\n",
      "    range from 0 through 4. Defaults to 0.\n",
      "\n",
      "    .. deprecated:: 1.1.0\n",
      "        The new arguments that you should use are 'offset' or 'origin'.\n",
      "\n",
      "on : str, optional\n",
      "    For a DataFrame, column to use instead of index for resampling.\n",
      "    Column must be datetime-like.\n",
      "level : str or int, optional\n",
      "    For a MultiIndex, level (name or number) to use for\n",
      "    resampling. `level` must be datetime-like.\n",
      "origin : Timestamp or str, default 'start_day'\n",
      "    The timestamp on which to adjust the grouping. The timezone of origin\n",
      "    must match the timezone of the index.\n",
      "    If string, must be one of the following:\n",
      "\n",
      "    - 'epoch': `origin` is 1970-01-01\n",
      "    - 'start': `origin` is the first value of the timeseries\n",
      "    - 'start_day': `origin` is the first day at midnight of the timeseries\n",
      "\n",
      "    .. versionadded:: 1.1.0\n",
      "\n",
      "    - 'end': `origin` is the last value of the timeseries\n",
      "    - 'end_day': `origin` is the ceiling midnight of the last day\n",
      "\n",
      "    .. versionadded:: 1.3.0\n",
      "\n",
      "offset : Timedelta or str, default is None\n",
      "    An offset timedelta added to the origin.\n",
      "\n",
      "    .. versionadded:: 1.1.0\n",
      "\n",
      "group_keys : bool, optional\n",
      "    Whether to include the group keys in the result index when using\n",
      "    ``.apply()`` on the resampled object. Not specifying ``group_keys``\n",
      "    will retain values-dependent behavior from pandas 1.4\n",
      "    and earlier (see :ref:`pandas 1.5.0 Release notes\n",
      "    <whatsnew_150.enhancements.resample_group_keys>`\n",
      "    for examples). In a future version of pandas, the behavior will\n",
      "    default to the same as specifying ``group_keys=False``.\n",
      "\n",
      "    .. versionadded:: 1.5.0\n",
      "\n",
      "Returns\n",
      "-------\n",
      "pandas.core.Resampler\n",
      "    :class:`~pandas.core.Resampler` object.\n",
      "\n",
      "See Also\n",
      "--------\n",
      "Series.resample : Resample a Series.\n",
      "DataFrame.resample : Resample a DataFrame.\n",
      "groupby : Group Series by mapping, function, label, or list of labels.\n",
      "asfreq : Reindex a Series with the given frequency without grouping.\n",
      "\n",
      "Notes\n",
      "-----\n",
      "See the `user guide\n",
      "<https://pandas.pydata.org/pandas-docs/stable/user_guide/timeseries.html#resampling>`__\n",
      "for more.\n",
      "\n",
      "To learn more about the offset strings, please see `this link\n",
      "<https://pandas.pydata.org/pandas-docs/stable/user_guide/timeseries.html#dateoffset-objects>`__.\n",
      "\n",
      "Examples\n",
      "--------\n",
      "Start by creating a series with 9 one minute timestamps.\n",
      "\n",
      ">>> index = pd.date_range('1/1/2000', periods=9, freq='T')\n",
      ">>> series = pd.Series(range(9), index=index)\n",
      ">>> series\n",
      "2000-01-01 00:00:00    0\n",
      "2000-01-01 00:01:00    1\n",
      "2000-01-01 00:02:00    2\n",
      "2000-01-01 00:03:00    3\n",
      "2000-01-01 00:04:00    4\n",
      "2000-01-01 00:05:00    5\n",
      "2000-01-01 00:06:00    6\n",
      "2000-01-01 00:07:00    7\n",
      "2000-01-01 00:08:00    8\n",
      "Freq: T, dtype: int64\n",
      "\n",
      "Downsample the series into 3 minute bins and sum the values\n",
      "of the timestamps falling into a bin.\n",
      "\n",
      ">>> series.resample('3T').sum()\n",
      "2000-01-01 00:00:00     3\n",
      "2000-01-01 00:03:00    12\n",
      "2000-01-01 00:06:00    21\n",
      "Freq: 3T, dtype: int64\n",
      "\n",
      "Downsample the series into 3 minute bins as above, but label each\n",
      "bin using the right edge instead of the left. Please note that the\n",
      "value in the bucket used as the label is not included in the bucket,\n",
      "which it labels. For example, in the original series the\n",
      "bucket ``2000-01-01 00:03:00`` contains the value 3, but the summed\n",
      "value in the resampled bucket with the label ``2000-01-01 00:03:00``\n",
      "does not include 3 (if it did, the summed value would be 6, not 3).\n",
      "To include this value close the right side of the bin interval as\n",
      "illustrated in the example below this one.\n",
      "\n",
      ">>> series.resample('3T', label='right').sum()\n",
      "2000-01-01 00:03:00     3\n",
      "2000-01-01 00:06:00    12\n",
      "2000-01-01 00:09:00    21\n",
      "Freq: 3T, dtype: int64\n",
      "\n",
      "Downsample the series into 3 minute bins as above, but close the right\n",
      "side of the bin interval.\n",
      "\n",
      ">>> series.resample('3T', label='right', closed='right').sum()\n",
      "2000-01-01 00:00:00     0\n",
      "2000-01-01 00:03:00     6\n",
      "2000-01-01 00:06:00    15\n",
      "2000-01-01 00:09:00    15\n",
      "Freq: 3T, dtype: int64\n",
      "\n",
      "Upsample the series into 30 second bins.\n",
      "\n",
      ">>> series.resample('30S').asfreq()[0:5]   # Select first 5 rows\n",
      "2000-01-01 00:00:00   0.0\n",
      "2000-01-01 00:00:30   NaN\n",
      "2000-01-01 00:01:00   1.0\n",
      "2000-01-01 00:01:30   NaN\n",
      "2000-01-01 00:02:00   2.0\n",
      "Freq: 30S, dtype: float64\n",
      "\n",
      "Upsample the series into 30 second bins and fill the ``NaN``\n",
      "values using the ``ffill`` method.\n",
      "\n",
      ">>> series.resample('30S').ffill()[0:5]\n",
      "2000-01-01 00:00:00    0\n",
      "2000-01-01 00:00:30    0\n",
      "2000-01-01 00:01:00    1\n",
      "2000-01-01 00:01:30    1\n",
      "2000-01-01 00:02:00    2\n",
      "Freq: 30S, dtype: int64\n",
      "\n",
      "Upsample the series into 30 second bins and fill the\n",
      "``NaN`` values using the ``bfill`` method.\n",
      "\n",
      ">>> series.resample('30S').bfill()[0:5]\n",
      "2000-01-01 00:00:00    0\n",
      "2000-01-01 00:00:30    1\n",
      "2000-01-01 00:01:00    1\n",
      "2000-01-01 00:01:30    2\n",
      "2000-01-01 00:02:00    2\n",
      "Freq: 30S, dtype: int64\n",
      "\n",
      "Pass a custom function via ``apply``\n",
      "\n",
      ">>> def custom_resampler(arraylike):\n",
      "...     return np.sum(arraylike) + 5\n",
      "...\n",
      ">>> series.resample('3T').apply(custom_resampler)\n",
      "2000-01-01 00:00:00     8\n",
      "2000-01-01 00:03:00    17\n",
      "2000-01-01 00:06:00    26\n",
      "Freq: 3T, dtype: int64\n",
      "\n",
      "For a Series with a PeriodIndex, the keyword `convention` can be\n",
      "used to control whether to use the start or end of `rule`.\n",
      "\n",
      "Resample a year by quarter using 'start' `convention`. Values are\n",
      "assigned to the first quarter of the period.\n",
      "\n",
      ">>> s = pd.Series([1, 2], index=pd.period_range('2012-01-01',\n",
      "...                                             freq='A',\n",
      "...                                             periods=2))\n",
      ">>> s\n",
      "2012    1\n",
      "2013    2\n",
      "Freq: A-DEC, dtype: int64\n",
      ">>> s.resample('Q', convention='start').asfreq()\n",
      "2012Q1    1.0\n",
      "2012Q2    NaN\n",
      "2012Q3    NaN\n",
      "2012Q4    NaN\n",
      "2013Q1    2.0\n",
      "2013Q2    NaN\n",
      "2013Q3    NaN\n",
      "2013Q4    NaN\n",
      "Freq: Q-DEC, dtype: float64\n",
      "\n",
      "Resample quarters by month using 'end' `convention`. Values are\n",
      "assigned to the last month of the period.\n",
      "\n",
      ">>> q = pd.Series([1, 2, 3, 4], index=pd.period_range('2018-01-01',\n",
      "...                                                   freq='Q',\n",
      "...                                                   periods=4))\n",
      ">>> q\n",
      "2018Q1    1\n",
      "2018Q2    2\n",
      "2018Q3    3\n",
      "2018Q4    4\n",
      "Freq: Q-DEC, dtype: int64\n",
      ">>> q.resample('M', convention='end').asfreq()\n",
      "2018-03    1.0\n",
      "2018-04    NaN\n",
      "2018-05    NaN\n",
      "2018-06    2.0\n",
      "2018-07    NaN\n",
      "2018-08    NaN\n",
      "2018-09    3.0\n",
      "2018-10    NaN\n",
      "2018-11    NaN\n",
      "2018-12    4.0\n",
      "Freq: M, dtype: float64\n",
      "\n",
      "For DataFrame objects, the keyword `on` can be used to specify the\n",
      "column instead of the index for resampling.\n",
      "\n",
      ">>> d = {'price': [10, 11, 9, 13, 14, 18, 17, 19],\n",
      "...      'volume': [50, 60, 40, 100, 50, 100, 40, 50]}\n",
      ">>> df = pd.DataFrame(d)\n",
      ">>> df['week_starting'] = pd.date_range('01/01/2018',\n",
      "...                                     periods=8,\n",
      "...                                     freq='W')\n",
      ">>> df\n",
      "   price  volume week_starting\n",
      "0     10      50    2018-01-07\n",
      "1     11      60    2018-01-14\n",
      "2      9      40    2018-01-21\n",
      "3     13     100    2018-01-28\n",
      "4     14      50    2018-02-04\n",
      "5     18     100    2018-02-11\n",
      "6     17      40    2018-02-18\n",
      "7     19      50    2018-02-25\n",
      ">>> df.resample('M', on='week_starting').mean()\n",
      "               price  volume\n",
      "week_starting\n",
      "2018-01-31     10.75    62.5\n",
      "2018-02-28     17.00    60.0\n",
      "\n",
      "For a DataFrame with MultiIndex, the keyword `level` can be used to\n",
      "specify on which level the resampling needs to take place.\n",
      "\n",
      ">>> days = pd.date_range('1/1/2000', periods=4, freq='D')\n",
      ">>> d2 = {'price': [10, 11, 9, 13, 14, 18, 17, 19],\n",
      "...       'volume': [50, 60, 40, 100, 50, 100, 40, 50]}\n",
      ">>> df2 = pd.DataFrame(\n",
      "...     d2,\n",
      "...     index=pd.MultiIndex.from_product(\n",
      "...         [days, ['morning', 'afternoon']]\n",
      "...     )\n",
      "... )\n",
      ">>> df2\n",
      "                      price  volume\n",
      "2000-01-01 morning       10      50\n",
      "           afternoon     11      60\n",
      "2000-01-02 morning        9      40\n",
      "           afternoon     13     100\n",
      "2000-01-03 morning       14      50\n",
      "           afternoon     18     100\n",
      "2000-01-04 morning       17      40\n",
      "           afternoon     19      50\n",
      ">>> df2.resample('D', level=0).sum()\n",
      "            price  volume\n",
      "2000-01-01     21     110\n",
      "2000-01-02     22     140\n",
      "2000-01-03     32     150\n",
      "2000-01-04     36      90\n",
      "\n",
      "If you want to adjust the start of the bins based on a fixed timestamp:\n",
      "\n",
      ">>> start, end = '2000-10-01 23:30:00', '2000-10-02 00:30:00'\n",
      ">>> rng = pd.date_range(start, end, freq='7min')\n",
      ">>> ts = pd.Series(np.arange(len(rng)) * 3, index=rng)\n",
      ">>> ts\n",
      "2000-10-01 23:30:00     0\n",
      "2000-10-01 23:37:00     3\n",
      "2000-10-01 23:44:00     6\n",
      "2000-10-01 23:51:00     9\n",
      "2000-10-01 23:58:00    12\n",
      "2000-10-02 00:05:00    15\n",
      "2000-10-02 00:12:00    18\n",
      "2000-10-02 00:19:00    21\n",
      "2000-10-02 00:26:00    24\n",
      "Freq: 7T, dtype: int64\n",
      "\n",
      ">>> ts.resample('17min').sum()\n",
      "2000-10-01 23:14:00     0\n",
      "2000-10-01 23:31:00     9\n",
      "2000-10-01 23:48:00    21\n",
      "2000-10-02 00:05:00    54\n",
      "2000-10-02 00:22:00    24\n",
      "Freq: 17T, dtype: int64\n",
      "\n",
      ">>> ts.resample('17min', origin='epoch').sum()\n",
      "2000-10-01 23:18:00     0\n",
      "2000-10-01 23:35:00    18\n",
      "2000-10-01 23:52:00    27\n",
      "2000-10-02 00:09:00    39\n",
      "2000-10-02 00:26:00    24\n",
      "Freq: 17T, dtype: int64\n",
      "\n",
      ">>> ts.resample('17min', origin='2000-01-01').sum()\n",
      "2000-10-01 23:24:00     3\n",
      "2000-10-01 23:41:00    15\n",
      "2000-10-01 23:58:00    45\n",
      "2000-10-02 00:15:00    45\n",
      "Freq: 17T, dtype: int64\n",
      "\n",
      "If you want to adjust the start of the bins with an `offset` Timedelta, the two\n",
      "following lines are equivalent:\n",
      "\n",
      ">>> ts.resample('17min', origin='start').sum()\n",
      "2000-10-01 23:30:00     9\n",
      "2000-10-01 23:47:00    21\n",
      "2000-10-02 00:04:00    54\n",
      "2000-10-02 00:21:00    24\n",
      "Freq: 17T, dtype: int64\n",
      "\n",
      ">>> ts.resample('17min', offset='23h30min').sum()\n",
      "2000-10-01 23:30:00     9\n",
      "2000-10-01 23:47:00    21\n",
      "2000-10-02 00:04:00    54\n",
      "2000-10-02 00:21:00    24\n",
      "Freq: 17T, dtype: int64\n",
      "\n",
      "If you want to take the largest Timestamp as the end of the bins:\n",
      "\n",
      ">>> ts.resample('17min', origin='end').sum()\n",
      "2000-10-01 23:35:00     0\n",
      "2000-10-01 23:52:00    18\n",
      "2000-10-02 00:09:00    27\n",
      "2000-10-02 00:26:00    63\n",
      "Freq: 17T, dtype: int64\n",
      "\n",
      "In contrast with the `start_day`, you can use `end_day` to take the ceiling\n",
      "midnight of the largest Timestamp as the end of the bins and drop the bins\n",
      "not containing data:\n",
      "\n",
      ">>> ts.resample('17min', origin='end_day').sum()\n",
      "2000-10-01 23:38:00     3\n",
      "2000-10-01 23:55:00    15\n",
      "2000-10-02 00:12:00    45\n",
      "2000-10-02 00:29:00    45\n",
      "Freq: 17T, dtype: int64\n",
      "\n",
      "To replace the use of the deprecated `base` argument, you can now use `offset`,\n",
      "in this example it is equivalent to have `base=2`:\n",
      "\n",
      ">>> ts.resample('17min', offset='2min').sum()\n",
      "2000-10-01 23:16:00     0\n",
      "2000-10-01 23:33:00     9\n",
      "2000-10-01 23:50:00    36\n",
      "2000-10-02 00:07:00    39\n",
      "2000-10-02 00:24:00    24\n",
      "Freq: 17T, dtype: int64\n",
      "\n",
      "To replace the use of the deprecated `loffset` argument:\n",
      "\n",
      ">>> from pandas.tseries.frequencies import to_offset\n",
      ">>> loffset = '19min'\n",
      ">>> ts_out = ts.resample('17min').sum()\n",
      ">>> ts_out.index = ts_out.index + to_offset(loffset)\n",
      ">>> ts_out\n",
      "2000-10-01 23:33:00     0\n",
      "2000-10-01 23:50:00     9\n",
      "2000-10-02 00:07:00    21\n",
      "2000-10-02 00:24:00    54\n",
      "2000-10-02 00:41:00    24\n",
      "Freq: 17T, dtype: int64\n",
      "\u001b[1;31mFile:\u001b[0m      d:\\anaconda3\\lib\\site-packages\\pandas\\core\\series.py\n",
      "\u001b[1;31mType:\u001b[0m      method"
     ]
    }
   ],
   "source": [
    "?ts1.resample"
   ]
  },
  {
   "cell_type": "code",
   "execution_count": 23,
   "metadata": {},
   "outputs": [
    {
     "data": {
      "text/plain": [
       "2012-06-13    0.929168\n",
       "2012-06-14    0.929168\n",
       "2012-06-15    0.929168\n",
       "2012-06-18    0.929168\n",
       "2012-06-19    0.929168\n",
       "2012-06-20    2.582013\n",
       "2012-06-21    2.582013\n",
       "2012-06-22    2.582013\n",
       "2012-06-25    2.582013\n",
       "2012-06-26    2.582013\n",
       "2012-06-27   -0.558575\n",
       "Freq: B, dtype: float64"
      ]
     },
     "execution_count": 23,
     "metadata": {},
     "output_type": "execute_result"
    }
   ],
   "source": [
    "ts1.resample('B').ffill()#forward fill"
   ]
  },
  {
   "cell_type": "code",
   "execution_count": 31,
   "metadata": {},
   "outputs": [
    {
     "name": "stdout",
     "output_type": "stream",
     "text": [
      "\u001b[1;31mSignature:\u001b[0m\n",
      "\u001b[0mts1\u001b[0m\u001b[1;33m.\u001b[0m\u001b[0mffill\u001b[0m\u001b[1;33m(\u001b[0m\u001b[1;33m\n",
      "\u001b[0m    \u001b[1;33m*\u001b[0m\u001b[1;33m,\u001b[0m\u001b[1;33m\n",
      "\u001b[0m    \u001b[0maxis\u001b[0m\u001b[1;33m:\u001b[0m \u001b[1;34m'None | Axis'\u001b[0m \u001b[1;33m=\u001b[0m \u001b[1;32mNone\u001b[0m\u001b[1;33m,\u001b[0m\u001b[1;33m\n",
      "\u001b[0m    \u001b[0minplace\u001b[0m\u001b[1;33m:\u001b[0m \u001b[1;34m'bool'\u001b[0m \u001b[1;33m=\u001b[0m \u001b[1;32mFalse\u001b[0m\u001b[1;33m,\u001b[0m\u001b[1;33m\n",
      "\u001b[0m    \u001b[0mlimit\u001b[0m\u001b[1;33m:\u001b[0m \u001b[1;34m'None | int'\u001b[0m \u001b[1;33m=\u001b[0m \u001b[1;32mNone\u001b[0m\u001b[1;33m,\u001b[0m\u001b[1;33m\n",
      "\u001b[0m    \u001b[0mdowncast\u001b[0m\u001b[1;33m:\u001b[0m \u001b[1;34m'dict | None'\u001b[0m \u001b[1;33m=\u001b[0m \u001b[1;32mNone\u001b[0m\u001b[1;33m,\u001b[0m\u001b[1;33m\n",
      "\u001b[0m\u001b[1;33m)\u001b[0m \u001b[1;33m->\u001b[0m \u001b[1;34m'Series | None'\u001b[0m\u001b[1;33m\u001b[0m\u001b[1;33m\u001b[0m\u001b[0m\n",
      "\u001b[1;31mDocstring:\u001b[0m\n",
      "Synonym for :meth:`DataFrame.fillna` with ``method='ffill'``.\n",
      "\n",
      "Returns\n",
      "-------\n",
      "Series/DataFrame or None\n",
      "    Object with missing values filled or None if ``inplace=True``.\n",
      "\u001b[1;31mFile:\u001b[0m      d:\\anaconda3\\lib\\site-packages\\pandas\\core\\series.py\n",
      "\u001b[1;31mType:\u001b[0m      method"
     ]
    }
   ],
   "source": [
    "?ts1.ffill"
   ]
  },
  {
   "cell_type": "code",
   "execution_count": 32,
   "metadata": {},
   "outputs": [
    {
     "data": {
      "text/plain": [
       "2012-06-12    0.751322\n",
       "2012-06-17   -0.874644\n",
       "2012-06-18   -0.819561\n",
       "2012-06-21    0.954135\n",
       "2012-06-22   -1.058909\n",
       "2012-06-29   -0.226948\n",
       "dtype: float64"
      ]
     },
     "execution_count": 32,
     "metadata": {},
     "output_type": "execute_result"
    }
   ],
   "source": [
    "dates = pd.DatetimeIndex(['2012-6-12', '2012-6-17', '2012-6-18',\n",
    "                          '2012-6-21', '2012-6-22', '2012-6-29'])\n",
    "ts2 = Series(np.random.randn(6), index=dates)\n",
    "ts2"
   ]
  },
  {
   "cell_type": "code",
   "execution_count": 35,
   "metadata": {},
   "outputs": [
    {
     "data": {
      "text/plain": [
       "2012-06-13    0.929168\n",
       "2012-06-20    2.582013\n",
       "2012-06-27   -0.558575\n",
       "Freq: W-WED, dtype: float64"
      ]
     },
     "execution_count": 35,
     "metadata": {},
     "output_type": "execute_result"
    }
   ],
   "source": [
    "ts1"
   ]
  },
  {
   "cell_type": "code",
   "execution_count": 36,
   "metadata": {},
   "outputs": [
    {
     "data": {
      "text/plain": [
       "2012-06-12         NaN\n",
       "2012-06-17    0.929168\n",
       "2012-06-18    0.929168\n",
       "2012-06-21    2.582013\n",
       "2012-06-22    2.582013\n",
       "2012-06-29   -0.558575\n",
       "dtype: float64"
      ]
     },
     "execution_count": 36,
     "metadata": {},
     "output_type": "execute_result"
    }
   ],
   "source": [
    "ts1.reindex(ts2.index, method='ffill')#use the indx of ts2 to be the new index of ts1, if the index in ts2 does not appear in the index of ts1 before, then the value to it is the value to the index in front of it "
   ]
  },
  {
   "cell_type": "code",
   "execution_count": 34,
   "metadata": {},
   "outputs": [
    {
     "name": "stdout",
     "output_type": "stream",
     "text": [
      "\u001b[1;31mSignature:\u001b[0m \u001b[0mts1\u001b[0m\u001b[1;33m.\u001b[0m\u001b[0mreindex\u001b[0m\u001b[1;33m(\u001b[0m\u001b[1;33m*\u001b[0m\u001b[0margs\u001b[0m\u001b[1;33m,\u001b[0m \u001b[1;33m**\u001b[0m\u001b[0mkwargs\u001b[0m\u001b[1;33m)\u001b[0m \u001b[1;33m->\u001b[0m \u001b[1;34m'Series'\u001b[0m\u001b[1;33m\u001b[0m\u001b[1;33m\u001b[0m\u001b[0m\n",
      "\u001b[1;31mDocstring:\u001b[0m\n",
      "Conform Series to new index with optional filling logic.\n",
      "\n",
      "Places NA/NaN in locations having no value in the previous index. A new object\n",
      "is produced unless the new index is equivalent to the current one and\n",
      "``copy=False``.\n",
      "\n",
      "Parameters\n",
      "----------\n",
      "\n",
      "index : array-like, optional\n",
      "    New labels / index to conform to, should be specified using\n",
      "    keywords. Preferably an Index object to avoid duplicating data.\n",
      "\n",
      "method : {None, 'backfill'/'bfill', 'pad'/'ffill', 'nearest'}\n",
      "    Method to use for filling holes in reindexed DataFrame.\n",
      "    Please note: this is only applicable to DataFrames/Series with a\n",
      "    monotonically increasing/decreasing index.\n",
      "\n",
      "    * None (default): don't fill gaps\n",
      "    * pad / ffill: Propagate last valid observation forward to next\n",
      "      valid.\n",
      "    * backfill / bfill: Use next valid observation to fill gap.\n",
      "    * nearest: Use nearest valid observations to fill gap.\n",
      "\n",
      "copy : bool, default True\n",
      "    Return a new object, even if the passed indexes are the same.\n",
      "level : int or name\n",
      "    Broadcast across a level, matching Index values on the\n",
      "    passed MultiIndex level.\n",
      "fill_value : scalar, default np.NaN\n",
      "    Value to use for missing values. Defaults to NaN, but can be any\n",
      "    \"compatible\" value.\n",
      "limit : int, default None\n",
      "    Maximum number of consecutive elements to forward or backward fill.\n",
      "tolerance : optional\n",
      "    Maximum distance between original and new labels for inexact\n",
      "    matches. The values of the index at the matching locations most\n",
      "    satisfy the equation ``abs(index[indexer] - target) <= tolerance``.\n",
      "\n",
      "    Tolerance may be a scalar value, which applies the same tolerance\n",
      "    to all values, or list-like, which applies variable tolerance per\n",
      "    element. List-like includes list, tuple, array, Series, and must be\n",
      "    the same size as the index and its dtype must exactly match the\n",
      "    index's type.\n",
      "\n",
      "Returns\n",
      "-------\n",
      "Series with changed index.\n",
      "\n",
      "See Also\n",
      "--------\n",
      "DataFrame.set_index : Set row labels.\n",
      "DataFrame.reset_index : Remove row labels or move them to new columns.\n",
      "DataFrame.reindex_like : Change to same indices as other DataFrame.\n",
      "\n",
      "Examples\n",
      "--------\n",
      "``DataFrame.reindex`` supports two calling conventions\n",
      "\n",
      "* ``(index=index_labels, columns=column_labels, ...)``\n",
      "* ``(labels, axis={'index', 'columns'}, ...)``\n",
      "\n",
      "We *highly* recommend using keyword arguments to clarify your\n",
      "intent.\n",
      "\n",
      "Create a dataframe with some fictional data.\n",
      "\n",
      ">>> index = ['Firefox', 'Chrome', 'Safari', 'IE10', 'Konqueror']\n",
      ">>> df = pd.DataFrame({'http_status': [200, 200, 404, 404, 301],\n",
      "...                   'response_time': [0.04, 0.02, 0.07, 0.08, 1.0]},\n",
      "...                   index=index)\n",
      ">>> df\n",
      "           http_status  response_time\n",
      "Firefox            200           0.04\n",
      "Chrome             200           0.02\n",
      "Safari             404           0.07\n",
      "IE10               404           0.08\n",
      "Konqueror          301           1.00\n",
      "\n",
      "Create a new index and reindex the dataframe. By default\n",
      "values in the new index that do not have corresponding\n",
      "records in the dataframe are assigned ``NaN``.\n",
      "\n",
      ">>> new_index = ['Safari', 'Iceweasel', 'Comodo Dragon', 'IE10',\n",
      "...              'Chrome']\n",
      ">>> df.reindex(new_index)\n",
      "               http_status  response_time\n",
      "Safari               404.0           0.07\n",
      "Iceweasel              NaN            NaN\n",
      "Comodo Dragon          NaN            NaN\n",
      "IE10                 404.0           0.08\n",
      "Chrome               200.0           0.02\n",
      "\n",
      "We can fill in the missing values by passing a value to\n",
      "the keyword ``fill_value``. Because the index is not monotonically\n",
      "increasing or decreasing, we cannot use arguments to the keyword\n",
      "``method`` to fill the ``NaN`` values.\n",
      "\n",
      ">>> df.reindex(new_index, fill_value=0)\n",
      "               http_status  response_time\n",
      "Safari                 404           0.07\n",
      "Iceweasel                0           0.00\n",
      "Comodo Dragon            0           0.00\n",
      "IE10                   404           0.08\n",
      "Chrome                 200           0.02\n",
      "\n",
      ">>> df.reindex(new_index, fill_value='missing')\n",
      "              http_status response_time\n",
      "Safari                404          0.07\n",
      "Iceweasel         missing       missing\n",
      "Comodo Dragon     missing       missing\n",
      "IE10                  404          0.08\n",
      "Chrome                200          0.02\n",
      "\n",
      "We can also reindex the columns.\n",
      "\n",
      ">>> df.reindex(columns=['http_status', 'user_agent'])\n",
      "           http_status  user_agent\n",
      "Firefox            200         NaN\n",
      "Chrome             200         NaN\n",
      "Safari             404         NaN\n",
      "IE10               404         NaN\n",
      "Konqueror          301         NaN\n",
      "\n",
      "Or we can use \"axis-style\" keyword arguments\n",
      "\n",
      ">>> df.reindex(['http_status', 'user_agent'], axis=\"columns\")\n",
      "           http_status  user_agent\n",
      "Firefox            200         NaN\n",
      "Chrome             200         NaN\n",
      "Safari             404         NaN\n",
      "IE10               404         NaN\n",
      "Konqueror          301         NaN\n",
      "\n",
      "To further illustrate the filling functionality in\n",
      "``reindex``, we will create a dataframe with a\n",
      "monotonically increasing index (for example, a sequence\n",
      "of dates).\n",
      "\n",
      ">>> date_index = pd.date_range('1/1/2010', periods=6, freq='D')\n",
      ">>> df2 = pd.DataFrame({\"prices\": [100, 101, np.nan, 100, 89, 88]},\n",
      "...                    index=date_index)\n",
      ">>> df2\n",
      "            prices\n",
      "2010-01-01   100.0\n",
      "2010-01-02   101.0\n",
      "2010-01-03     NaN\n",
      "2010-01-04   100.0\n",
      "2010-01-05    89.0\n",
      "2010-01-06    88.0\n",
      "\n",
      "Suppose we decide to expand the dataframe to cover a wider\n",
      "date range.\n",
      "\n",
      ">>> date_index2 = pd.date_range('12/29/2009', periods=10, freq='D')\n",
      ">>> df2.reindex(date_index2)\n",
      "            prices\n",
      "2009-12-29     NaN\n",
      "2009-12-30     NaN\n",
      "2009-12-31     NaN\n",
      "2010-01-01   100.0\n",
      "2010-01-02   101.0\n",
      "2010-01-03     NaN\n",
      "2010-01-04   100.0\n",
      "2010-01-05    89.0\n",
      "2010-01-06    88.0\n",
      "2010-01-07     NaN\n",
      "\n",
      "The index entries that did not have a value in the original data frame\n",
      "(for example, '2009-12-29') are by default filled with ``NaN``.\n",
      "If desired, we can fill in the missing values using one of several\n",
      "options.\n",
      "\n",
      "For example, to back-propagate the last valid value to fill the ``NaN``\n",
      "values, pass ``bfill`` as an argument to the ``method`` keyword.\n",
      "\n",
      ">>> df2.reindex(date_index2, method='bfill')\n",
      "            prices\n",
      "2009-12-29   100.0\n",
      "2009-12-30   100.0\n",
      "2009-12-31   100.0\n",
      "2010-01-01   100.0\n",
      "2010-01-02   101.0\n",
      "2010-01-03     NaN\n",
      "2010-01-04   100.0\n",
      "2010-01-05    89.0\n",
      "2010-01-06    88.0\n",
      "2010-01-07     NaN\n",
      "\n",
      "Please note that the ``NaN`` value present in the original dataframe\n",
      "(at index value 2010-01-03) will not be filled by any of the\n",
      "value propagation schemes. This is because filling while reindexing\n",
      "does not look at dataframe values, but only compares the original and\n",
      "desired indexes. If you do want to fill in the ``NaN`` values present\n",
      "in the original dataframe, use the ``fillna()`` method.\n",
      "\n",
      "See the :ref:`user guide <basics.reindexing>` for more.\n",
      "\u001b[1;31mFile:\u001b[0m      d:\\anaconda3\\lib\\site-packages\\pandas\\core\\series.py\n",
      "\u001b[1;31mType:\u001b[0m      method"
     ]
    }
   ],
   "source": [
    "?ts1.reindex"
   ]
  },
  {
   "cell_type": "code",
   "execution_count": 37,
   "metadata": {},
   "outputs": [
    {
     "data": {
      "text/plain": [
       "2012-06-12         NaN\n",
       "2012-06-17    0.054524\n",
       "2012-06-18    0.109607\n",
       "2012-06-21    3.536148\n",
       "2012-06-22    1.523103\n",
       "2012-06-29   -0.785522\n",
       "dtype: float64"
      ]
     },
     "execution_count": 37,
     "metadata": {},
     "output_type": "execute_result"
    }
   ],
   "source": [
    "ts2 + ts1.reindex(ts2.index, method='ffill')"
   ]
  },
  {
   "cell_type": "markdown",
   "metadata": {},
   "source": [
    "#### 使用时间段而不是时间戳\n",
    "\n",
    "使用Periods 非常适用处理特殊规范的以年或季度为频率的金融或经济序列。\n",
    "下面是两个有关GDP和通货澎胀的宏观经济时间序列。"
   ]
  },
  {
   "cell_type": "code",
   "execution_count": 17,
   "metadata": {},
   "outputs": [
    {
     "data": {
      "text/plain": [
       "1984Q2    1.78\n",
       "1984Q3    1.94\n",
       "1984Q4    2.08\n",
       "1985Q1    2.01\n",
       "1985Q2    2.15\n",
       "1985Q3    2.31\n",
       "1985Q4    2.46\n",
       "Freq: Q-SEP, dtype: float64"
      ]
     },
     "execution_count": 17,
     "metadata": {},
     "output_type": "execute_result"
    }
   ],
   "source": [
    "gdp = Series([1.78, 1.94, 2.08, 2.01, 2.15, 2.31, 2.46],\n",
    "             index=pd.period_range('1984Q2', periods=7, freq='Q-SEP'))\n",
    "infl = Series([0.025, 0.045, 0.037, 0.04],\n",
    "              index=pd.period_range('1982', periods=4, freq='A-DEC'))\n",
    "gdp"
   ]
  },
  {
   "cell_type": "code",
   "execution_count": 18,
   "metadata": {},
   "outputs": [
    {
     "data": {
      "text/plain": [
       "1982    0.025\n",
       "1983    0.045\n",
       "1984    0.037\n",
       "1985    0.040\n",
       "Freq: A-DEC, dtype: float64"
      ]
     },
     "execution_count": 18,
     "metadata": {},
     "output_type": "execute_result"
    }
   ],
   "source": [
    "infl"
   ]
  },
  {
   "cell_type": "code",
   "execution_count": 19,
   "metadata": {},
   "outputs": [],
   "source": [
    "infl_q = infl.asfreq('Q-SEP', how='end')"
   ]
  },
  {
   "cell_type": "code",
   "execution_count": 20,
   "metadata": {},
   "outputs": [
    {
     "data": {
      "text/plain": [
       "1983Q1    0.025\n",
       "1984Q1    0.045\n",
       "1985Q1    0.037\n",
       "1986Q1    0.040\n",
       "Freq: Q-SEP, dtype: float64"
      ]
     },
     "execution_count": 20,
     "metadata": {},
     "output_type": "execute_result"
    }
   ],
   "source": [
    "infl_q"
   ]
  },
  {
   "cell_type": "code",
   "execution_count": 21,
   "metadata": {},
   "outputs": [
    {
     "data": {
      "text/plain": [
       "1984Q2    0.045\n",
       "1984Q3    0.045\n",
       "1984Q4    0.045\n",
       "1985Q1    0.037\n",
       "1985Q2    0.037\n",
       "1985Q3    0.037\n",
       "1985Q4    0.037\n",
       "Freq: Q-SEP, dtype: float64"
      ]
     },
     "execution_count": 21,
     "metadata": {},
     "output_type": "execute_result"
    }
   ],
   "source": [
    "infl_q.reindex(gdp.index, method='ffill')"
   ]
  },
  {
   "cell_type": "markdown",
   "metadata": {},
   "source": [
    "### Time of day and \"as of\" data selection\n",
    "\n",
    "假如有一个很长的盘中市场数据时间序列，现在希望抽取其中每天特定时间的价格数据。如果数据不规则，该怎么办呢？在实际工作中，稍有疏忽，就会导致错误的数据规整化。"
   ]
  },
  {
   "cell_type": "code",
   "execution_count": 4,
   "metadata": {},
   "outputs": [
    {
     "data": {
      "text/plain": [
       "DatetimeIndex(['2012-06-01 09:30:00', '2012-06-01 09:31:00',\n",
       "               '2012-06-01 09:32:00', '2012-06-01 09:33:00',\n",
       "               '2012-06-01 09:34:00', '2012-06-01 09:35:00',\n",
       "               '2012-06-01 09:36:00', '2012-06-01 09:37:00',\n",
       "               '2012-06-01 09:38:00', '2012-06-01 09:39:00',\n",
       "               ...\n",
       "               '2012-06-01 15:50:00', '2012-06-01 15:51:00',\n",
       "               '2012-06-01 15:52:00', '2012-06-01 15:53:00',\n",
       "               '2012-06-01 15:54:00', '2012-06-01 15:55:00',\n",
       "               '2012-06-01 15:56:00', '2012-06-01 15:57:00',\n",
       "               '2012-06-01 15:58:00', '2012-06-01 15:59:00'],\n",
       "              dtype='datetime64[ns]', length=390, freq='T')"
      ]
     },
     "execution_count": 4,
     "metadata": {},
     "output_type": "execute_result"
    }
   ],
   "source": [
    "rng = pd.date_range('2012-06-01 09:30', '2012-06-01 15:59', freq='T')\n",
    "rng"
   ]
  },
  {
   "cell_type": "code",
   "execution_count": 6,
   "metadata": {},
   "outputs": [
    {
     "data": {
      "text/plain": [
       "DatetimeIndex(['2012-06-04 09:30:00', '2012-06-04 09:31:00',\n",
       "               '2012-06-04 09:32:00', '2012-06-04 09:33:00',\n",
       "               '2012-06-04 09:34:00', '2012-06-04 09:35:00',\n",
       "               '2012-06-04 09:36:00', '2012-06-04 09:37:00',\n",
       "               '2012-06-04 09:38:00', '2012-06-04 09:39:00',\n",
       "               ...\n",
       "               '2012-06-04 15:50:00', '2012-06-04 15:51:00',\n",
       "               '2012-06-04 15:52:00', '2012-06-04 15:53:00',\n",
       "               '2012-06-04 15:54:00', '2012-06-04 15:55:00',\n",
       "               '2012-06-04 15:56:00', '2012-06-04 15:57:00',\n",
       "               '2012-06-04 15:58:00', '2012-06-04 15:59:00'],\n",
       "              dtype='datetime64[ns]', length=390, freq=None)"
      ]
     },
     "execution_count": 6,
     "metadata": {},
     "output_type": "execute_result"
    }
   ],
   "source": [
    "x=[rng + pd.offsets.BDay(i) for i in range(1, 4)]\n",
    "x[0]"
   ]
  },
  {
   "cell_type": "code",
   "execution_count": 2,
   "metadata": {},
   "outputs": [
    {
     "data": {
      "text/plain": [
       "2012-06-01 09:30:00       0.0\n",
       "2012-06-01 09:31:00       1.0\n",
       "2012-06-01 09:32:00       2.0\n",
       "2012-06-01 09:33:00       3.0\n",
       "2012-06-01 09:34:00       4.0\n",
       "                        ...  \n",
       "2012-06-06 15:55:00    1555.0\n",
       "2012-06-06 15:56:00    1556.0\n",
       "2012-06-06 15:57:00    1557.0\n",
       "2012-06-06 15:58:00    1558.0\n",
       "2012-06-06 15:59:00    1559.0\n",
       "Length: 1560, dtype: float64"
      ]
     },
     "execution_count": 2,
     "metadata": {},
     "output_type": "execute_result"
    }
   ],
   "source": [
    "# Make an intraday date range and time series\n",
    "rng = pd.date_range('2012-06-01 09:30', '2012-06-01 15:59', freq='T')\n",
    "# Make a 5-day series of 9:30-15:59 values\n",
    "# rng中的每个时间的下一个工作日 rng + pd.offsets.BDay(1)\n",
    "rng = rng.append([rng + pd.offsets.BDay(i) for i in range(1, 4)])\n",
    "ts = Series(np.arange(len(rng), dtype=float), index=rng)\n",
    "ts"
   ]
  },
  {
   "cell_type": "code",
   "execution_count": 7,
   "metadata": {},
   "outputs": [
    {
     "data": {
      "text/plain": [
       "2012-06-01 10:00:00      30.0\n",
       "2012-06-04 10:00:00     420.0\n",
       "2012-06-05 10:00:00     810.0\n",
       "2012-06-06 10:00:00    1200.0\n",
       "dtype: float64"
      ]
     },
     "execution_count": 7,
     "metadata": {},
     "output_type": "execute_result"
    }
   ],
   "source": [
    "from datetime import time\n",
    "ts[time(10, 0)]"
   ]
  },
  {
   "cell_type": "code",
   "execution_count": 24,
   "metadata": {},
   "outputs": [
    {
     "data": {
      "text/plain": [
       "2012-06-01 10:00:00      30.0\n",
       "2012-06-04 10:00:00     420.0\n",
       "2012-06-05 10:00:00     810.0\n",
       "2012-06-06 10:00:00    1200.0\n",
       "dtype: float64"
      ]
     },
     "execution_count": 24,
     "metadata": {},
     "output_type": "execute_result"
    }
   ],
   "source": [
    "ts.at_time(time(10, 0))"
   ]
  },
  {
   "cell_type": "code",
   "execution_count": 25,
   "metadata": {},
   "outputs": [
    {
     "data": {
      "text/plain": [
       "2012-06-01 10:00:00      30.0\n",
       "2012-06-01 10:01:00      31.0\n",
       "2012-06-04 10:00:00     420.0\n",
       "2012-06-04 10:01:00     421.0\n",
       "2012-06-05 10:00:00     810.0\n",
       "2012-06-05 10:01:00     811.0\n",
       "2012-06-06 10:00:00    1200.0\n",
       "2012-06-06 10:01:00    1201.0\n",
       "dtype: float64"
      ]
     },
     "execution_count": 25,
     "metadata": {},
     "output_type": "execute_result"
    }
   ],
   "source": [
    "ts.between_time(time(10, 0), time(10, 1))"
   ]
  },
  {
   "cell_type": "code",
   "execution_count": 26,
   "metadata": {},
   "outputs": [],
   "source": [
    "np.random.seed(12346)"
   ]
  },
  {
   "cell_type": "code",
   "execution_count": 27,
   "metadata": {},
   "outputs": [
    {
     "data": {
      "text/plain": [
       "2012-06-01 09:50:00    20.0\n",
       "2012-06-01 09:51:00     NaN\n",
       "2012-06-01 09:52:00    22.0\n",
       "2012-06-01 09:53:00    23.0\n",
       "2012-06-01 09:54:00     NaN\n",
       "2012-06-01 09:55:00    25.0\n",
       "2012-06-01 09:56:00     NaN\n",
       "2012-06-01 09:57:00     NaN\n",
       "2012-06-01 09:58:00     NaN\n",
       "2012-06-01 09:59:00     NaN\n",
       "2012-06-01 10:00:00     NaN\n",
       "dtype: float64"
      ]
     },
     "execution_count": 27,
     "metadata": {},
     "output_type": "execute_result"
    }
   ],
   "source": [
    "# Set most of the time series randomly to NA\n",
    "indexer = np.sort(np.random.permutation(len(ts))[700:])\n",
    "irr_ts = ts.copy()\n",
    "irr_ts[indexer] = np.nan\n",
    "irr_ts['2012-06-01 09:50':'2012-06-01 10:00']"
   ]
  },
  {
   "cell_type": "code",
   "execution_count": 28,
   "metadata": {},
   "outputs": [
    {
     "data": {
      "text/plain": [
       "2012-06-01 10:00:00      25.0\n",
       "2012-06-04 10:00:00     420.0\n",
       "2012-06-05 10:00:00     810.0\n",
       "2012-06-06 10:00:00    1197.0\n",
       "Freq: B, dtype: float64"
      ]
     },
     "execution_count": 28,
     "metadata": {},
     "output_type": "execute_result"
    }
   ],
   "source": [
    "selection = pd.date_range('2012-06-01 10:00', periods=4, freq='B')\n",
    "irr_ts.asof(selection)"
   ]
  },
  {
   "cell_type": "markdown",
   "metadata": {},
   "source": [
    "### 若干数据源切片\n",
    "\n",
    "在金融和经济数据中经常会进行一些如下的操作：\n",
    "\n",
    "+ 在一个特定的时间点上，从一个数据源切换到另一个数据源\n",
    "\n",
    "+ 用另一个时间序列的数据对当前时间序列打补丁\n",
    "\n",
    "+ 将数据中的符号 替换为实际数据\n"
   ]
  },
  {
   "cell_type": "code",
   "execution_count": 29,
   "metadata": {},
   "outputs": [
    {
     "data": {
      "text/html": [
       "<div>\n",
       "<style scoped>\n",
       "    .dataframe tbody tr th:only-of-type {\n",
       "        vertical-align: middle;\n",
       "    }\n",
       "\n",
       "    .dataframe tbody tr th {\n",
       "        vertical-align: top;\n",
       "    }\n",
       "\n",
       "    .dataframe thead th {\n",
       "        text-align: right;\n",
       "    }\n",
       "</style>\n",
       "<table border=\"1\" class=\"dataframe\">\n",
       "  <thead>\n",
       "    <tr style=\"text-align: right;\">\n",
       "      <th></th>\n",
       "      <th>a</th>\n",
       "      <th>b</th>\n",
       "      <th>c</th>\n",
       "    </tr>\n",
       "  </thead>\n",
       "  <tbody>\n",
       "    <tr>\n",
       "      <th>2012-06-12</th>\n",
       "      <td>1.0</td>\n",
       "      <td>1.0</td>\n",
       "      <td>1.0</td>\n",
       "    </tr>\n",
       "    <tr>\n",
       "      <th>2012-06-13</th>\n",
       "      <td>1.0</td>\n",
       "      <td>1.0</td>\n",
       "      <td>1.0</td>\n",
       "    </tr>\n",
       "    <tr>\n",
       "      <th>2012-06-14</th>\n",
       "      <td>1.0</td>\n",
       "      <td>1.0</td>\n",
       "      <td>1.0</td>\n",
       "    </tr>\n",
       "    <tr>\n",
       "      <th>2012-06-15</th>\n",
       "      <td>2.0</td>\n",
       "      <td>2.0</td>\n",
       "      <td>2.0</td>\n",
       "    </tr>\n",
       "    <tr>\n",
       "      <th>2012-06-16</th>\n",
       "      <td>2.0</td>\n",
       "      <td>2.0</td>\n",
       "      <td>2.0</td>\n",
       "    </tr>\n",
       "    <tr>\n",
       "      <th>2012-06-17</th>\n",
       "      <td>2.0</td>\n",
       "      <td>2.0</td>\n",
       "      <td>2.0</td>\n",
       "    </tr>\n",
       "    <tr>\n",
       "      <th>2012-06-18</th>\n",
       "      <td>2.0</td>\n",
       "      <td>2.0</td>\n",
       "      <td>2.0</td>\n",
       "    </tr>\n",
       "  </tbody>\n",
       "</table>\n",
       "</div>"
      ],
      "text/plain": [
       "              a    b    c\n",
       "2012-06-12  1.0  1.0  1.0\n",
       "2012-06-13  1.0  1.0  1.0\n",
       "2012-06-14  1.0  1.0  1.0\n",
       "2012-06-15  2.0  2.0  2.0\n",
       "2012-06-16  2.0  2.0  2.0\n",
       "2012-06-17  2.0  2.0  2.0\n",
       "2012-06-18  2.0  2.0  2.0"
      ]
     },
     "execution_count": 29,
     "metadata": {},
     "output_type": "execute_result"
    }
   ],
   "source": [
    "data1 = DataFrame(np.ones((6, 3), dtype=float),\n",
    "                  columns=['a', 'b', 'c'],\n",
    "                  index=pd.date_range('6/12/2012', periods=6))\n",
    "data2 = DataFrame(np.ones((6, 3), dtype=float) * 2,\n",
    "                  columns=['a', 'b', 'c'],\n",
    "                  index=pd.date_range('6/13/2012', periods=6))\n",
    "spliced = pd.concat([data1.loc[:'2012-06-14'], data2.loc['2012-06-15':]])\n",
    "spliced"
   ]
  },
  {
   "cell_type": "code",
   "execution_count": 30,
   "metadata": {
    "scrolled": true
   },
   "outputs": [
    {
     "data": {
      "text/html": [
       "<div>\n",
       "<style scoped>\n",
       "    .dataframe tbody tr th:only-of-type {\n",
       "        vertical-align: middle;\n",
       "    }\n",
       "\n",
       "    .dataframe tbody tr th {\n",
       "        vertical-align: top;\n",
       "    }\n",
       "\n",
       "    .dataframe thead th {\n",
       "        text-align: right;\n",
       "    }\n",
       "</style>\n",
       "<table border=\"1\" class=\"dataframe\">\n",
       "  <thead>\n",
       "    <tr style=\"text-align: right;\">\n",
       "      <th></th>\n",
       "      <th>a</th>\n",
       "      <th>b</th>\n",
       "      <th>c</th>\n",
       "      <th>d</th>\n",
       "    </tr>\n",
       "  </thead>\n",
       "  <tbody>\n",
       "    <tr>\n",
       "      <th>2012-06-12</th>\n",
       "      <td>1.0</td>\n",
       "      <td>1.0</td>\n",
       "      <td>1.0</td>\n",
       "      <td>NaN</td>\n",
       "    </tr>\n",
       "    <tr>\n",
       "      <th>2012-06-13</th>\n",
       "      <td>1.0</td>\n",
       "      <td>1.0</td>\n",
       "      <td>1.0</td>\n",
       "      <td>NaN</td>\n",
       "    </tr>\n",
       "    <tr>\n",
       "      <th>2012-06-14</th>\n",
       "      <td>1.0</td>\n",
       "      <td>1.0</td>\n",
       "      <td>1.0</td>\n",
       "      <td>NaN</td>\n",
       "    </tr>\n",
       "    <tr>\n",
       "      <th>2012-06-15</th>\n",
       "      <td>2.0</td>\n",
       "      <td>2.0</td>\n",
       "      <td>2.0</td>\n",
       "      <td>2.0</td>\n",
       "    </tr>\n",
       "    <tr>\n",
       "      <th>2012-06-16</th>\n",
       "      <td>2.0</td>\n",
       "      <td>2.0</td>\n",
       "      <td>2.0</td>\n",
       "      <td>2.0</td>\n",
       "    </tr>\n",
       "    <tr>\n",
       "      <th>2012-06-17</th>\n",
       "      <td>2.0</td>\n",
       "      <td>2.0</td>\n",
       "      <td>2.0</td>\n",
       "      <td>2.0</td>\n",
       "    </tr>\n",
       "    <tr>\n",
       "      <th>2012-06-18</th>\n",
       "      <td>2.0</td>\n",
       "      <td>2.0</td>\n",
       "      <td>2.0</td>\n",
       "      <td>2.0</td>\n",
       "    </tr>\n",
       "  </tbody>\n",
       "</table>\n",
       "</div>"
      ],
      "text/plain": [
       "              a    b    c    d\n",
       "2012-06-12  1.0  1.0  1.0  NaN\n",
       "2012-06-13  1.0  1.0  1.0  NaN\n",
       "2012-06-14  1.0  1.0  1.0  NaN\n",
       "2012-06-15  2.0  2.0  2.0  2.0\n",
       "2012-06-16  2.0  2.0  2.0  2.0\n",
       "2012-06-17  2.0  2.0  2.0  2.0\n",
       "2012-06-18  2.0  2.0  2.0  2.0"
      ]
     },
     "execution_count": 30,
     "metadata": {},
     "output_type": "execute_result"
    }
   ],
   "source": [
    "data2 = DataFrame(np.ones((6, 4), dtype=float) * 2,\n",
    "                  columns=['a', 'b', 'c', 'd'],\n",
    "                  index=pd.date_range('6/13/2012', periods=6))\n",
    "spliced = pd.concat([data1.loc[:'2012-06-14'], data2.loc['2012-06-15':]],sort=False)\n",
    "spliced"
   ]
  },
  {
   "cell_type": "code",
   "execution_count": 31,
   "metadata": {},
   "outputs": [],
   "source": [
    " spliced.combine_first?"
   ]
  },
  {
   "cell_type": "code",
   "execution_count": 32,
   "metadata": {},
   "outputs": [
    {
     "data": {
      "text/html": [
       "<div>\n",
       "<style scoped>\n",
       "    .dataframe tbody tr th:only-of-type {\n",
       "        vertical-align: middle;\n",
       "    }\n",
       "\n",
       "    .dataframe tbody tr th {\n",
       "        vertical-align: top;\n",
       "    }\n",
       "\n",
       "    .dataframe thead th {\n",
       "        text-align: right;\n",
       "    }\n",
       "</style>\n",
       "<table border=\"1\" class=\"dataframe\">\n",
       "  <thead>\n",
       "    <tr style=\"text-align: right;\">\n",
       "      <th></th>\n",
       "      <th>a</th>\n",
       "      <th>b</th>\n",
       "      <th>c</th>\n",
       "      <th>d</th>\n",
       "    </tr>\n",
       "  </thead>\n",
       "  <tbody>\n",
       "    <tr>\n",
       "      <th>2012-06-12</th>\n",
       "      <td>1.0</td>\n",
       "      <td>1.0</td>\n",
       "      <td>1.0</td>\n",
       "      <td>NaN</td>\n",
       "    </tr>\n",
       "    <tr>\n",
       "      <th>2012-06-13</th>\n",
       "      <td>1.0</td>\n",
       "      <td>1.0</td>\n",
       "      <td>1.0</td>\n",
       "      <td>2.0</td>\n",
       "    </tr>\n",
       "    <tr>\n",
       "      <th>2012-06-14</th>\n",
       "      <td>1.0</td>\n",
       "      <td>1.0</td>\n",
       "      <td>1.0</td>\n",
       "      <td>2.0</td>\n",
       "    </tr>\n",
       "    <tr>\n",
       "      <th>2012-06-15</th>\n",
       "      <td>2.0</td>\n",
       "      <td>2.0</td>\n",
       "      <td>2.0</td>\n",
       "      <td>2.0</td>\n",
       "    </tr>\n",
       "    <tr>\n",
       "      <th>2012-06-16</th>\n",
       "      <td>2.0</td>\n",
       "      <td>2.0</td>\n",
       "      <td>2.0</td>\n",
       "      <td>2.0</td>\n",
       "    </tr>\n",
       "    <tr>\n",
       "      <th>2012-06-17</th>\n",
       "      <td>2.0</td>\n",
       "      <td>2.0</td>\n",
       "      <td>2.0</td>\n",
       "      <td>2.0</td>\n",
       "    </tr>\n",
       "    <tr>\n",
       "      <th>2012-06-18</th>\n",
       "      <td>2.0</td>\n",
       "      <td>2.0</td>\n",
       "      <td>2.0</td>\n",
       "      <td>2.0</td>\n",
       "    </tr>\n",
       "  </tbody>\n",
       "</table>\n",
       "</div>"
      ],
      "text/plain": [
       "              a    b    c    d\n",
       "2012-06-12  1.0  1.0  1.0  NaN\n",
       "2012-06-13  1.0  1.0  1.0  2.0\n",
       "2012-06-14  1.0  1.0  1.0  2.0\n",
       "2012-06-15  2.0  2.0  2.0  2.0\n",
       "2012-06-16  2.0  2.0  2.0  2.0\n",
       "2012-06-17  2.0  2.0  2.0  2.0\n",
       "2012-06-18  2.0  2.0  2.0  2.0"
      ]
     },
     "execution_count": 32,
     "metadata": {},
     "output_type": "execute_result"
    }
   ],
   "source": [
    "spliced_filled = spliced.combine_first(data2)\n",
    "spliced_filled"
   ]
  },
  {
   "cell_type": "code",
   "execution_count": 33,
   "metadata": {},
   "outputs": [],
   "source": [
    "spliced.update(data2, overwrite=False)"
   ]
  },
  {
   "cell_type": "code",
   "execution_count": 34,
   "metadata": {},
   "outputs": [
    {
     "data": {
      "text/html": [
       "<div>\n",
       "<style scoped>\n",
       "    .dataframe tbody tr th:only-of-type {\n",
       "        vertical-align: middle;\n",
       "    }\n",
       "\n",
       "    .dataframe tbody tr th {\n",
       "        vertical-align: top;\n",
       "    }\n",
       "\n",
       "    .dataframe thead th {\n",
       "        text-align: right;\n",
       "    }\n",
       "</style>\n",
       "<table border=\"1\" class=\"dataframe\">\n",
       "  <thead>\n",
       "    <tr style=\"text-align: right;\">\n",
       "      <th></th>\n",
       "      <th>a</th>\n",
       "      <th>b</th>\n",
       "      <th>c</th>\n",
       "      <th>d</th>\n",
       "    </tr>\n",
       "  </thead>\n",
       "  <tbody>\n",
       "    <tr>\n",
       "      <th>2012-06-12</th>\n",
       "      <td>1.0</td>\n",
       "      <td>1.0</td>\n",
       "      <td>1.0</td>\n",
       "      <td>NaN</td>\n",
       "    </tr>\n",
       "    <tr>\n",
       "      <th>2012-06-13</th>\n",
       "      <td>1.0</td>\n",
       "      <td>1.0</td>\n",
       "      <td>1.0</td>\n",
       "      <td>2.0</td>\n",
       "    </tr>\n",
       "    <tr>\n",
       "      <th>2012-06-14</th>\n",
       "      <td>1.0</td>\n",
       "      <td>1.0</td>\n",
       "      <td>1.0</td>\n",
       "      <td>2.0</td>\n",
       "    </tr>\n",
       "    <tr>\n",
       "      <th>2012-06-15</th>\n",
       "      <td>2.0</td>\n",
       "      <td>2.0</td>\n",
       "      <td>2.0</td>\n",
       "      <td>2.0</td>\n",
       "    </tr>\n",
       "    <tr>\n",
       "      <th>2012-06-16</th>\n",
       "      <td>2.0</td>\n",
       "      <td>2.0</td>\n",
       "      <td>2.0</td>\n",
       "      <td>2.0</td>\n",
       "    </tr>\n",
       "    <tr>\n",
       "      <th>2012-06-17</th>\n",
       "      <td>2.0</td>\n",
       "      <td>2.0</td>\n",
       "      <td>2.0</td>\n",
       "      <td>2.0</td>\n",
       "    </tr>\n",
       "    <tr>\n",
       "      <th>2012-06-18</th>\n",
       "      <td>2.0</td>\n",
       "      <td>2.0</td>\n",
       "      <td>2.0</td>\n",
       "      <td>2.0</td>\n",
       "    </tr>\n",
       "  </tbody>\n",
       "</table>\n",
       "</div>"
      ],
      "text/plain": [
       "              a    b    c    d\n",
       "2012-06-12  1.0  1.0  1.0  NaN\n",
       "2012-06-13  1.0  1.0  1.0  2.0\n",
       "2012-06-14  1.0  1.0  1.0  2.0\n",
       "2012-06-15  2.0  2.0  2.0  2.0\n",
       "2012-06-16  2.0  2.0  2.0  2.0\n",
       "2012-06-17  2.0  2.0  2.0  2.0\n",
       "2012-06-18  2.0  2.0  2.0  2.0"
      ]
     },
     "execution_count": 34,
     "metadata": {},
     "output_type": "execute_result"
    }
   ],
   "source": [
    "spliced"
   ]
  },
  {
   "cell_type": "code",
   "execution_count": 35,
   "metadata": {
    "scrolled": true
   },
   "outputs": [
    {
     "data": {
      "text/html": [
       "<div>\n",
       "<style scoped>\n",
       "    .dataframe tbody tr th:only-of-type {\n",
       "        vertical-align: middle;\n",
       "    }\n",
       "\n",
       "    .dataframe tbody tr th {\n",
       "        vertical-align: top;\n",
       "    }\n",
       "\n",
       "    .dataframe thead th {\n",
       "        text-align: right;\n",
       "    }\n",
       "</style>\n",
       "<table border=\"1\" class=\"dataframe\">\n",
       "  <thead>\n",
       "    <tr style=\"text-align: right;\">\n",
       "      <th></th>\n",
       "      <th>a</th>\n",
       "      <th>b</th>\n",
       "      <th>c</th>\n",
       "      <th>d</th>\n",
       "    </tr>\n",
       "  </thead>\n",
       "  <tbody>\n",
       "    <tr>\n",
       "      <th>2012-06-12</th>\n",
       "      <td>1.0</td>\n",
       "      <td>1.0</td>\n",
       "      <td>1.0</td>\n",
       "      <td>NaN</td>\n",
       "    </tr>\n",
       "    <tr>\n",
       "      <th>2012-06-13</th>\n",
       "      <td>1.0</td>\n",
       "      <td>1.0</td>\n",
       "      <td>1.0</td>\n",
       "      <td>2.0</td>\n",
       "    </tr>\n",
       "    <tr>\n",
       "      <th>2012-06-14</th>\n",
       "      <td>1.0</td>\n",
       "      <td>1.0</td>\n",
       "      <td>1.0</td>\n",
       "      <td>2.0</td>\n",
       "    </tr>\n",
       "    <tr>\n",
       "      <th>2012-06-15</th>\n",
       "      <td>1.0</td>\n",
       "      <td>2.0</td>\n",
       "      <td>1.0</td>\n",
       "      <td>2.0</td>\n",
       "    </tr>\n",
       "    <tr>\n",
       "      <th>2012-06-16</th>\n",
       "      <td>1.0</td>\n",
       "      <td>2.0</td>\n",
       "      <td>1.0</td>\n",
       "      <td>2.0</td>\n",
       "    </tr>\n",
       "    <tr>\n",
       "      <th>2012-06-17</th>\n",
       "      <td>1.0</td>\n",
       "      <td>2.0</td>\n",
       "      <td>1.0</td>\n",
       "      <td>2.0</td>\n",
       "    </tr>\n",
       "    <tr>\n",
       "      <th>2012-06-18</th>\n",
       "      <td>NaN</td>\n",
       "      <td>2.0</td>\n",
       "      <td>NaN</td>\n",
       "      <td>2.0</td>\n",
       "    </tr>\n",
       "  </tbody>\n",
       "</table>\n",
       "</div>"
      ],
      "text/plain": [
       "              a    b    c    d\n",
       "2012-06-12  1.0  1.0  1.0  NaN\n",
       "2012-06-13  1.0  1.0  1.0  2.0\n",
       "2012-06-14  1.0  1.0  1.0  2.0\n",
       "2012-06-15  1.0  2.0  1.0  2.0\n",
       "2012-06-16  1.0  2.0  1.0  2.0\n",
       "2012-06-17  1.0  2.0  1.0  2.0\n",
       "2012-06-18  NaN  2.0  NaN  2.0"
      ]
     },
     "execution_count": 35,
     "metadata": {},
     "output_type": "execute_result"
    }
   ],
   "source": [
    "cp_spliced = spliced.copy()\n",
    "cp_spliced[['a', 'c']] = data1[['a', 'c']]\n",
    "cp_spliced"
   ]
  },
  {
   "cell_type": "code",
   "execution_count": 36,
   "metadata": {},
   "outputs": [
    {
     "data": {
      "text/html": [
       "<div>\n",
       "<style scoped>\n",
       "    .dataframe tbody tr th:only-of-type {\n",
       "        vertical-align: middle;\n",
       "    }\n",
       "\n",
       "    .dataframe tbody tr th {\n",
       "        vertical-align: top;\n",
       "    }\n",
       "\n",
       "    .dataframe thead th {\n",
       "        text-align: right;\n",
       "    }\n",
       "</style>\n",
       "<table border=\"1\" class=\"dataframe\">\n",
       "  <thead>\n",
       "    <tr style=\"text-align: right;\">\n",
       "      <th></th>\n",
       "      <th>OPEN</th>\n",
       "      <th>HIGH</th>\n",
       "      <th>LOW</th>\n",
       "      <th>CLOSE</th>\n",
       "      <th>VOLUME</th>\n",
       "    </tr>\n",
       "  </thead>\n",
       "  <tbody>\n",
       "    <tr>\n",
       "      <th>1990-12-19</th>\n",
       "      <td>96.05</td>\n",
       "      <td>100.00</td>\n",
       "      <td>95.79</td>\n",
       "      <td>100.00</td>\n",
       "      <td>126000.0</td>\n",
       "    </tr>\n",
       "    <tr>\n",
       "      <th>1990-12-20</th>\n",
       "      <td>104.30</td>\n",
       "      <td>104.39</td>\n",
       "      <td>99.98</td>\n",
       "      <td>104.39</td>\n",
       "      <td>19700.0</td>\n",
       "    </tr>\n",
       "    <tr>\n",
       "      <th>1990-12-21</th>\n",
       "      <td>109.07</td>\n",
       "      <td>109.13</td>\n",
       "      <td>103.73</td>\n",
       "      <td>109.13</td>\n",
       "      <td>2800.0</td>\n",
       "    </tr>\n",
       "    <tr>\n",
       "      <th>1990-12-24</th>\n",
       "      <td>113.57</td>\n",
       "      <td>114.55</td>\n",
       "      <td>109.13</td>\n",
       "      <td>114.55</td>\n",
       "      <td>3200.0</td>\n",
       "    </tr>\n",
       "    <tr>\n",
       "      <th>1990-12-25</th>\n",
       "      <td>120.09</td>\n",
       "      <td>120.25</td>\n",
       "      <td>114.55</td>\n",
       "      <td>120.25</td>\n",
       "      <td>1500.0</td>\n",
       "    </tr>\n",
       "  </tbody>\n",
       "</table>\n",
       "</div>"
      ],
      "text/plain": [
       "              OPEN    HIGH     LOW   CLOSE    VOLUME\n",
       "1990-12-19   96.05  100.00   95.79  100.00  126000.0\n",
       "1990-12-20  104.30  104.39   99.98  104.39   19700.0\n",
       "1990-12-21  109.07  109.13  103.73  109.13    2800.0\n",
       "1990-12-24  113.57  114.55  109.13  114.55    3200.0\n",
       "1990-12-25  120.09  120.25  114.55  120.25    1500.0"
      ]
     },
     "execution_count": 36,
     "metadata": {},
     "output_type": "execute_result"
    }
   ],
   "source": [
    "data=pd.read_csv(\"data/000001.SH.csv\",index_col=0,parse_dates=True)\n",
    "data.head()"
   ]
  },
  {
   "cell_type": "markdown",
   "metadata": {},
   "source": [
    "### 收益率指数和累计收益\n",
    "\n"
   ]
  },
  {
   "cell_type": "code",
   "execution_count": 37,
   "metadata": {},
   "outputs": [
    {
     "data": {
      "text/plain": [
       "2020-09-07    3292.5907\n",
       "2020-09-08    3316.4170\n",
       "2020-09-09    3254.6279\n",
       "2020-09-10    3234.8234\n",
       "2020-09-11    3260.3461\n",
       "Name: CLOSE, dtype: float64"
      ]
     },
     "execution_count": 37,
     "metadata": {},
     "output_type": "execute_result"
    }
   ],
   "source": [
    "# %run getsinadata.py\n",
    "# price =get_sina_stock(601899,\"1990-1-1\",\"2015-8-15\")[\"close\"]\n",
    "data=pd.read_csv(\"data/000001.SH.csv\",index_col=0,parse_dates=True)\n",
    "price=data[\"CLOSE\"]\n",
    "price[-5:]"
   ]
  },
  {
   "cell_type": "code",
   "execution_count": 38,
   "metadata": {},
   "outputs": [
    {
     "data": {
      "text/plain": [
       "1990-12-19     1.000000\n",
       "1990-12-20     1.043900\n",
       "1990-12-21     1.091300\n",
       "1990-12-24     1.145500\n",
       "1990-12-25     1.202500\n",
       "                ...    \n",
       "2020-09-07    32.925907\n",
       "2020-09-08    33.164170\n",
       "2020-09-09    32.546279\n",
       "2020-09-10    32.348234\n",
       "2020-09-11    32.603461\n",
       "Name: CLOSE, Length: 7270, dtype: float64"
      ]
     },
     "execution_count": 38,
     "metadata": {},
     "output_type": "execute_result"
    }
   ],
   "source": [
    "returns = price.pct_change()\n",
    "ret_index = (1 + returns).cumprod()\n",
    "ret_index[0] = 1  # Set first value to 1\n",
    "ret_index"
   ]
  },
  {
   "cell_type": "code",
   "execution_count": 39,
   "metadata": {},
   "outputs": [
    {
     "data": {
      "text/plain": [
       "2012-01-31    0.042372\n",
       "2012-02-29    0.059267\n",
       "2012-03-30   -0.068231\n",
       "2012-04-30    0.059010\n",
       "2012-05-31   -0.010050\n",
       "2012-06-29   -0.061884\n",
       "2012-07-31   -0.054730\n",
       "2012-08-31   -0.026674\n",
       "2012-09-28    0.018875\n",
       "2012-10-31   -0.008287\n",
       "2012-11-30   -0.042904\n",
       "2012-12-31    0.145957\n",
       "Freq: BM, Name: CLOSE, dtype: float64"
      ]
     },
     "execution_count": 39,
     "metadata": {},
     "output_type": "execute_result"
    }
   ],
   "source": [
    "m_returns = ret_index.resample('BM').last().pct_change()\n",
    "m_returns['2012']"
   ]
  },
  {
   "cell_type": "code",
   "execution_count": 40,
   "metadata": {
    "scrolled": false
   },
   "outputs": [
    {
     "data": {
      "text/plain": [
       "2012-01    0.042372\n",
       "2012-02    0.059267\n",
       "2012-03   -0.068231\n",
       "2012-04    0.059010\n",
       "2012-05   -0.010050\n",
       "2012-06   -0.061884\n",
       "2012-07   -0.054730\n",
       "2012-08   -0.026674\n",
       "2012-09    0.018875\n",
       "2012-10   -0.008287\n",
       "2012-11   -0.042904\n",
       "2012-12    0.145957\n",
       "Freq: M, Name: CLOSE, dtype: float64"
      ]
     },
     "execution_count": 40,
     "metadata": {},
     "output_type": "execute_result"
    }
   ],
   "source": [
    "m_rets = (1 + returns).resample('M', kind='period').prod() - 1\n",
    "m_rets['2012']"
   ]
  },
  {
   "cell_type": "markdown",
   "metadata": {},
   "source": [
    "## 分组计算"
   ]
  },
  {
   "cell_type": "code",
   "execution_count": 41,
   "metadata": {},
   "outputs": [],
   "source": [
    "pd.options.display.max_rows = 100\n",
    "pd.options.display.max_columns = 10\n",
    "np.random.seed(12345)"
   ]
  },
  {
   "cell_type": "code",
   "execution_count": 42,
   "metadata": {},
   "outputs": [],
   "source": [
    "import random; random.seed(0)\n",
    "import string\n",
    "\n",
    "N = 1000\n",
    "def rands(n):\n",
    "    choices = string.ascii_uppercase\n",
    "    return ''.join([random.choice(choices) for _ in range(n)])\n",
    "tickers = np.array([rands(5) for _ in range(N)])"
   ]
  },
  {
   "cell_type": "code",
   "execution_count": 43,
   "metadata": {},
   "outputs": [
    {
     "data": {
      "text/plain": [
       "'ILVWDD'"
      ]
     },
     "execution_count": 43,
     "metadata": {},
     "output_type": "execute_result"
    }
   ],
   "source": [
    "''.join([random.choice(string.ascii_uppercase) for _ in range(6)])"
   ]
  },
  {
   "cell_type": "code",
   "execution_count": 44,
   "metadata": {},
   "outputs": [],
   "source": [
    "M = 500\n",
    "df = DataFrame({'Momentum' : np.random.randn(M) / 200 + 0.03,\n",
    "                'Value' : np.random.randn(M) / 200 + 0.08,\n",
    "                'ShortInterest' : np.random.randn(M) / 200 - 0.02},\n",
    "                index=tickers[:M])"
   ]
  },
  {
   "cell_type": "code",
   "execution_count": 45,
   "metadata": {},
   "outputs": [],
   "source": [
    "ind_names = np.array(['FINANCIAL', 'TECH'])\n",
    "sampler = np.random.randint(0, len(ind_names), N)\n",
    "industries = Series(ind_names[sampler], index=tickers,\n",
    "                    name='industry')"
   ]
  },
  {
   "cell_type": "code",
   "execution_count": 46,
   "metadata": {},
   "outputs": [
    {
     "data": {
      "text/html": [
       "<div>\n",
       "<style scoped>\n",
       "    .dataframe tbody tr th:only-of-type {\n",
       "        vertical-align: middle;\n",
       "    }\n",
       "\n",
       "    .dataframe tbody tr th {\n",
       "        vertical-align: top;\n",
       "    }\n",
       "\n",
       "    .dataframe thead th {\n",
       "        text-align: right;\n",
       "    }\n",
       "</style>\n",
       "<table border=\"1\" class=\"dataframe\">\n",
       "  <thead>\n",
       "    <tr style=\"text-align: right;\">\n",
       "      <th></th>\n",
       "      <th>Momentum</th>\n",
       "      <th>Value</th>\n",
       "      <th>ShortInterest</th>\n",
       "    </tr>\n",
       "    <tr>\n",
       "      <th>industry</th>\n",
       "      <th></th>\n",
       "      <th></th>\n",
       "      <th></th>\n",
       "    </tr>\n",
       "  </thead>\n",
       "  <tbody>\n",
       "    <tr>\n",
       "      <th>FINANCIAL</th>\n",
       "      <td>0.029485</td>\n",
       "      <td>0.079929</td>\n",
       "      <td>-0.020739</td>\n",
       "    </tr>\n",
       "    <tr>\n",
       "      <th>TECH</th>\n",
       "      <td>0.030407</td>\n",
       "      <td>0.080113</td>\n",
       "      <td>-0.019609</td>\n",
       "    </tr>\n",
       "  </tbody>\n",
       "</table>\n",
       "</div>"
      ],
      "text/plain": [
       "           Momentum     Value  ShortInterest\n",
       "industry                                    \n",
       "FINANCIAL  0.029485  0.079929      -0.020739\n",
       "TECH       0.030407  0.080113      -0.019609"
      ]
     },
     "execution_count": 46,
     "metadata": {},
     "output_type": "execute_result"
    }
   ],
   "source": [
    "by_industry = df.groupby(industries)\n",
    "by_industry.mean()"
   ]
  },
  {
   "cell_type": "code",
   "execution_count": 47,
   "metadata": {},
   "outputs": [
    {
     "data": {
      "text/html": [
       "<div>\n",
       "<style scoped>\n",
       "    .dataframe tbody tr th:only-of-type {\n",
       "        vertical-align: middle;\n",
       "    }\n",
       "\n",
       "    .dataframe tbody tr th {\n",
       "        vertical-align: top;\n",
       "    }\n",
       "\n",
       "    .dataframe thead tr th {\n",
       "        text-align: left;\n",
       "    }\n",
       "\n",
       "    .dataframe thead tr:last-of-type th {\n",
       "        text-align: right;\n",
       "    }\n",
       "</style>\n",
       "<table border=\"1\" class=\"dataframe\">\n",
       "  <thead>\n",
       "    <tr>\n",
       "      <th></th>\n",
       "      <th colspan=\"5\" halign=\"left\">Momentum</th>\n",
       "      <th>...</th>\n",
       "      <th colspan=\"5\" halign=\"left\">ShortInterest</th>\n",
       "    </tr>\n",
       "    <tr>\n",
       "      <th></th>\n",
       "      <th>count</th>\n",
       "      <th>mean</th>\n",
       "      <th>std</th>\n",
       "      <th>min</th>\n",
       "      <th>25%</th>\n",
       "      <th>...</th>\n",
       "      <th>min</th>\n",
       "      <th>25%</th>\n",
       "      <th>50%</th>\n",
       "      <th>75%</th>\n",
       "      <th>max</th>\n",
       "    </tr>\n",
       "    <tr>\n",
       "      <th>industry</th>\n",
       "      <th></th>\n",
       "      <th></th>\n",
       "      <th></th>\n",
       "      <th></th>\n",
       "      <th></th>\n",
       "      <th></th>\n",
       "      <th></th>\n",
       "      <th></th>\n",
       "      <th></th>\n",
       "      <th></th>\n",
       "      <th></th>\n",
       "    </tr>\n",
       "  </thead>\n",
       "  <tbody>\n",
       "    <tr>\n",
       "      <th>FINANCIAL</th>\n",
       "      <td>246.0</td>\n",
       "      <td>0.029485</td>\n",
       "      <td>0.004802</td>\n",
       "      <td>0.017210</td>\n",
       "      <td>0.026263</td>\n",
       "      <td>...</td>\n",
       "      <td>-0.036997</td>\n",
       "      <td>-0.024138</td>\n",
       "      <td>-0.020833</td>\n",
       "      <td>-0.017345</td>\n",
       "      <td>-0.006322</td>\n",
       "    </tr>\n",
       "    <tr>\n",
       "      <th>TECH</th>\n",
       "      <td>254.0</td>\n",
       "      <td>0.030407</td>\n",
       "      <td>0.005303</td>\n",
       "      <td>0.016778</td>\n",
       "      <td>0.026456</td>\n",
       "      <td>...</td>\n",
       "      <td>-0.032682</td>\n",
       "      <td>-0.022779</td>\n",
       "      <td>-0.019829</td>\n",
       "      <td>-0.016923</td>\n",
       "      <td>-0.003698</td>\n",
       "    </tr>\n",
       "  </tbody>\n",
       "</table>\n",
       "<p>2 rows × 24 columns</p>\n",
       "</div>"
      ],
      "text/plain": [
       "          Momentum                                          ... ShortInterest  \\\n",
       "             count      mean       std       min       25%  ...           min   \n",
       "industry                                                    ...                 \n",
       "FINANCIAL    246.0  0.029485  0.004802  0.017210  0.026263  ...     -0.036997   \n",
       "TECH         254.0  0.030407  0.005303  0.016778  0.026456  ...     -0.032682   \n",
       "\n",
       "                                                   \n",
       "                25%       50%       75%       max  \n",
       "industry                                           \n",
       "FINANCIAL -0.024138 -0.020833 -0.017345 -0.006322  \n",
       "TECH      -0.022779 -0.019829 -0.016923 -0.003698  \n",
       "\n",
       "[2 rows x 24 columns]"
      ]
     },
     "execution_count": 47,
     "metadata": {},
     "output_type": "execute_result"
    }
   ],
   "source": [
    "by_industry.describe()"
   ]
  },
  {
   "cell_type": "code",
   "execution_count": 48,
   "metadata": {},
   "outputs": [],
   "source": [
    "# Within-Industry Standardize\n",
    "def zscore(group):\n",
    "    return (group - group.mean()) / group.std()\n",
    "\n",
    "df_stand = by_industry.apply(zscore)"
   ]
  },
  {
   "cell_type": "code",
   "execution_count": 49,
   "metadata": {},
   "outputs": [
    {
     "data": {
      "text/html": [
       "<div>\n",
       "<style scoped>\n",
       "    .dataframe tbody tr th:only-of-type {\n",
       "        vertical-align: middle;\n",
       "    }\n",
       "\n",
       "    .dataframe tbody tr th {\n",
       "        vertical-align: top;\n",
       "    }\n",
       "\n",
       "    .dataframe thead tr th {\n",
       "        text-align: left;\n",
       "    }\n",
       "\n",
       "    .dataframe thead tr:last-of-type th {\n",
       "        text-align: right;\n",
       "    }\n",
       "</style>\n",
       "<table border=\"1\" class=\"dataframe\">\n",
       "  <thead>\n",
       "    <tr>\n",
       "      <th></th>\n",
       "      <th colspan=\"2\" halign=\"left\">Momentum</th>\n",
       "      <th colspan=\"2\" halign=\"left\">Value</th>\n",
       "      <th colspan=\"2\" halign=\"left\">ShortInterest</th>\n",
       "    </tr>\n",
       "    <tr>\n",
       "      <th></th>\n",
       "      <th>mean</th>\n",
       "      <th>std</th>\n",
       "      <th>mean</th>\n",
       "      <th>std</th>\n",
       "      <th>mean</th>\n",
       "      <th>std</th>\n",
       "    </tr>\n",
       "    <tr>\n",
       "      <th>industry</th>\n",
       "      <th></th>\n",
       "      <th></th>\n",
       "      <th></th>\n",
       "      <th></th>\n",
       "      <th></th>\n",
       "      <th></th>\n",
       "    </tr>\n",
       "  </thead>\n",
       "  <tbody>\n",
       "    <tr>\n",
       "      <th>FINANCIAL</th>\n",
       "      <td>1.114736e-15</td>\n",
       "      <td>1.0</td>\n",
       "      <td>8.001278e-15</td>\n",
       "      <td>1.0</td>\n",
       "      <td>3.081772e-15</td>\n",
       "      <td>1.0</td>\n",
       "    </tr>\n",
       "    <tr>\n",
       "      <th>TECH</th>\n",
       "      <td>-2.779929e-16</td>\n",
       "      <td>1.0</td>\n",
       "      <td>-7.139521e-15</td>\n",
       "      <td>1.0</td>\n",
       "      <td>-1.910982e-15</td>\n",
       "      <td>1.0</td>\n",
       "    </tr>\n",
       "  </tbody>\n",
       "</table>\n",
       "</div>"
      ],
      "text/plain": [
       "               Momentum              Value      ShortInterest     \n",
       "                   mean  std          mean  std          mean  std\n",
       "industry                                                          \n",
       "FINANCIAL  1.114736e-15  1.0  8.001278e-15  1.0  3.081772e-15  1.0\n",
       "TECH      -2.779929e-16  1.0 -7.139521e-15  1.0 -1.910982e-15  1.0"
      ]
     },
     "execution_count": 49,
     "metadata": {},
     "output_type": "execute_result"
    }
   ],
   "source": [
    "df_stand.groupby(industries).agg(['mean', 'std'])"
   ]
  },
  {
   "cell_type": "code",
   "execution_count": 50,
   "metadata": {},
   "outputs": [
    {
     "data": {
      "text/html": [
       "<div>\n",
       "<style scoped>\n",
       "    .dataframe tbody tr th:only-of-type {\n",
       "        vertical-align: middle;\n",
       "    }\n",
       "\n",
       "    .dataframe tbody tr th {\n",
       "        vertical-align: top;\n",
       "    }\n",
       "\n",
       "    .dataframe thead tr th {\n",
       "        text-align: left;\n",
       "    }\n",
       "\n",
       "    .dataframe thead tr:last-of-type th {\n",
       "        text-align: right;\n",
       "    }\n",
       "</style>\n",
       "<table border=\"1\" class=\"dataframe\">\n",
       "  <thead>\n",
       "    <tr>\n",
       "      <th></th>\n",
       "      <th colspan=\"2\" halign=\"left\">Momentum</th>\n",
       "      <th colspan=\"2\" halign=\"left\">Value</th>\n",
       "      <th colspan=\"2\" halign=\"left\">ShortInterest</th>\n",
       "    </tr>\n",
       "    <tr>\n",
       "      <th></th>\n",
       "      <th>min</th>\n",
       "      <th>max</th>\n",
       "      <th>min</th>\n",
       "      <th>max</th>\n",
       "      <th>min</th>\n",
       "      <th>max</th>\n",
       "    </tr>\n",
       "    <tr>\n",
       "      <th>industry</th>\n",
       "      <th></th>\n",
       "      <th></th>\n",
       "      <th></th>\n",
       "      <th></th>\n",
       "      <th></th>\n",
       "      <th></th>\n",
       "    </tr>\n",
       "  </thead>\n",
       "  <tbody>\n",
       "    <tr>\n",
       "      <th>FINANCIAL</th>\n",
       "      <td>1.0</td>\n",
       "      <td>246.0</td>\n",
       "      <td>1.0</td>\n",
       "      <td>246.0</td>\n",
       "      <td>1.0</td>\n",
       "      <td>246.0</td>\n",
       "    </tr>\n",
       "    <tr>\n",
       "      <th>TECH</th>\n",
       "      <td>1.0</td>\n",
       "      <td>254.0</td>\n",
       "      <td>1.0</td>\n",
       "      <td>254.0</td>\n",
       "      <td>1.0</td>\n",
       "      <td>254.0</td>\n",
       "    </tr>\n",
       "  </tbody>\n",
       "</table>\n",
       "</div>"
      ],
      "text/plain": [
       "          Momentum        Value        ShortInterest       \n",
       "               min    max   min    max           min    max\n",
       "industry                                                   \n",
       "FINANCIAL      1.0  246.0   1.0  246.0           1.0  246.0\n",
       "TECH           1.0  254.0   1.0  254.0           1.0  254.0"
      ]
     },
     "execution_count": 50,
     "metadata": {},
     "output_type": "execute_result"
    }
   ],
   "source": [
    "# Within-industry rank descending\n",
    "ind_rank = by_industry.rank(ascending=False)\n",
    "ind_rank.groupby(industries).agg(['min', 'max'])"
   ]
  },
  {
   "cell_type": "code",
   "execution_count": 51,
   "metadata": {
    "scrolled": false
   },
   "outputs": [
    {
     "data": {
      "text/html": [
       "<div>\n",
       "<style scoped>\n",
       "    .dataframe tbody tr th:only-of-type {\n",
       "        vertical-align: middle;\n",
       "    }\n",
       "\n",
       "    .dataframe tbody tr th {\n",
       "        vertical-align: top;\n",
       "    }\n",
       "\n",
       "    .dataframe thead th {\n",
       "        text-align: right;\n",
       "    }\n",
       "</style>\n",
       "<table border=\"1\" class=\"dataframe\">\n",
       "  <thead>\n",
       "    <tr style=\"text-align: right;\">\n",
       "      <th></th>\n",
       "      <th>Momentum</th>\n",
       "      <th>Value</th>\n",
       "      <th>ShortInterest</th>\n",
       "    </tr>\n",
       "  </thead>\n",
       "  <tbody>\n",
       "    <tr>\n",
       "      <th>MYNBI</th>\n",
       "      <td>-0.091346</td>\n",
       "      <td>-1.004802</td>\n",
       "      <td>-0.976696</td>\n",
       "    </tr>\n",
       "    <tr>\n",
       "      <th>QPMZJ</th>\n",
       "      <td>0.794005</td>\n",
       "      <td>-0.358356</td>\n",
       "      <td>1.299919</td>\n",
       "    </tr>\n",
       "    <tr>\n",
       "      <th>PLSGQ</th>\n",
       "      <td>-0.541047</td>\n",
       "      <td>-1.679355</td>\n",
       "      <td>-0.836164</td>\n",
       "    </tr>\n",
       "    <tr>\n",
       "      <th>EJEYD</th>\n",
       "      <td>-0.583207</td>\n",
       "      <td>0.990749</td>\n",
       "      <td>-1.623142</td>\n",
       "    </tr>\n",
       "    <tr>\n",
       "      <th>TZIRW</th>\n",
       "      <td>1.572120</td>\n",
       "      <td>0.374314</td>\n",
       "      <td>-0.265423</td>\n",
       "    </tr>\n",
       "    <tr>\n",
       "      <th>...</th>\n",
       "      <td>...</td>\n",
       "      <td>...</td>\n",
       "      <td>...</td>\n",
       "    </tr>\n",
       "    <tr>\n",
       "      <th>JPHKQ</th>\n",
       "      <td>-0.238200</td>\n",
       "      <td>0.074863</td>\n",
       "      <td>0.401537</td>\n",
       "    </tr>\n",
       "    <tr>\n",
       "      <th>VACPK</th>\n",
       "      <td>1.681011</td>\n",
       "      <td>-0.238200</td>\n",
       "      <td>-1.395171</td>\n",
       "    </tr>\n",
       "    <tr>\n",
       "      <th>MHNBS</th>\n",
       "      <td>0.673766</td>\n",
       "      <td>-1.313503</td>\n",
       "      <td>1.490451</td>\n",
       "    </tr>\n",
       "    <tr>\n",
       "      <th>YBNCI</th>\n",
       "      <td>1.623142</td>\n",
       "      <td>0.976696</td>\n",
       "      <td>0.541047</td>\n",
       "    </tr>\n",
       "    <tr>\n",
       "      <th>GXKFD</th>\n",
       "      <td>1.286280</td>\n",
       "      <td>1.381560</td>\n",
       "      <td>1.463228</td>\n",
       "    </tr>\n",
       "  </tbody>\n",
       "</table>\n",
       "<p>500 rows × 3 columns</p>\n",
       "</div>"
      ],
      "text/plain": [
       "       Momentum     Value  ShortInterest\n",
       "MYNBI -0.091346 -1.004802      -0.976696\n",
       "QPMZJ  0.794005 -0.358356       1.299919\n",
       "PLSGQ -0.541047 -1.679355      -0.836164\n",
       "EJEYD -0.583207  0.990749      -1.623142\n",
       "TZIRW  1.572120  0.374314      -0.265423\n",
       "...         ...       ...            ...\n",
       "JPHKQ -0.238200  0.074863       0.401537\n",
       "VACPK  1.681011 -0.238200      -1.395171\n",
       "MHNBS  0.673766 -1.313503       1.490451\n",
       "YBNCI  1.623142  0.976696       0.541047\n",
       "GXKFD  1.286280  1.381560       1.463228\n",
       "\n",
       "[500 rows x 3 columns]"
      ]
     },
     "execution_count": 51,
     "metadata": {},
     "output_type": "execute_result"
    }
   ],
   "source": [
    "# Industry rank and standardize\n",
    "by_industry.apply(lambda x: zscore(x.rank()))"
   ]
  },
  {
   "cell_type": "markdown",
   "metadata": {},
   "source": [
    "作业 \n",
    "\n",
    "1. 自行选择一只股票，下载,财务数据、近三年日线数据、近一周成交明细数据以及分红资料。下载参考如下网址:（请换一只股票，不要选择002051这只），或者用baostock相应接口。\n",
    "\n",
    "http://quotes.money.163.com/f10/fhpg_002051.html#01d05\n",
    "\n",
    "http://quotes.money.163.com/trade/lsjysj_002051.html#01b07\n",
    "\n",
    "http://quotes.money.163.com/trade/cjmx_002051.html#01b05\n",
    "\n",
    "http://quotes.money.163.com/f10/zycwzb_002051.html#01c02\n",
    "\n",
    "将这些数据存入磁盘数据库中\n",
    "\n",
    "\n",
    "2. 画出该日线数据的k线图，5日，20日，30日移动平均线图\n",
    "\n",
    "3. 利用最近三年日线数据，分别计算日收益率、周收益率、月收益率、季度收益率、年收益率简单收益率和对数收益率\n",
    "\n",
    "4. 计算该股票一周内各交易价格上买盘，卖盘和中性盘的成交量，以价格为横坐标，成交量为纵坐标画图\n",
    "\n",
    "5. 利用一周高频数据，分别计算１分钟、１０分钟、１５分钟、半小时简单收益率和对数收益率，给出各收益率的统计量（均值，方差，分位点等信息），画各数据的盒须图；\n",
    "6. 解读其中2个以上财务指标，并画出其时序图，和相应股票价格走势图形进行比较。\n",
    " \n",
    " \n",
    "\n",
    "\n"
   ]
  }
 ],
 "metadata": {
  "anaconda-cloud": {},
  "kernelspec": {
   "display_name": "Python 3 (ipykernel)",
   "language": "python",
   "name": "python3"
  },
  "language_info": {
   "codemirror_mode": {
    "name": "ipython",
    "version": 3
   },
   "file_extension": ".py",
   "mimetype": "text/x-python",
   "name": "python",
   "nbconvert_exporter": "python",
   "pygments_lexer": "ipython3",
   "version": "3.11.4"
  },
  "latex_envs": {
   "LaTeX_envs_menu_present": true,
   "autoclose": false,
   "autocomplete": true,
   "bibliofile": "biblio.bib",
   "cite_by": "apalike",
   "current_citInitial": 1,
   "eqLabelWithNumbers": true,
   "eqNumInitial": 1,
   "hotkeys": {
    "equation": "Ctrl-E",
    "itemize": "Ctrl-I"
   },
   "labels_anchors": false,
   "latex_user_defs": false,
   "report_style_numbering": false,
   "user_envs_cfg": false
  }
 },
 "nbformat": 4,
 "nbformat_minor": 1
}
