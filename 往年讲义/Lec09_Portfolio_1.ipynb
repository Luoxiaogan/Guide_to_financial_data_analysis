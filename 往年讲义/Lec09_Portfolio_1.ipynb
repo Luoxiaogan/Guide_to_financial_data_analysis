{
 "cells": [
  {
   "cell_type": "markdown",
   "metadata": {
    "raw_mimetype": "text/markdown",
    "slideshow": {
     "slide_type": "slide"
    }
   },
   "source": [
    "# 投资组合理论和计算\n",
    "\n",
    "+ 市场中常常有非常多的资产可供选择，如何进行资产选择和配置，是投资的首要问题。\n",
    "+ 投资组合理论关注这类问题\n",
    "+ 投资组合理论考虑收益和风险两个因素和基于两个原则。\n",
    "   - 收益尽可能高\n",
    "   - 风险尽可能小\n"
   ]
  },
  {
   "cell_type": "markdown",
   "metadata": {
    "slideshow": {
     "slide_type": "slide"
    }
   },
   "source": [
    "##  期望收益和风险的平衡\n",
    "\n",
    "进行投资，或者选择投资组合，需要考虑的那些因素呢？\n",
    "1.  收益尽可能高，\n",
    "   - 预期收益率，尽可能地获得高的收益率；预期收益率越高，投资或投资组合就越好   \n",
    "   - 对于风险资产，预期收益率只是一个期望的概念，在一次投资中究竟得到多少收益率具有不确定性。\n",
    "   - 这种不确定性就是风险\n",
    "   "
   ]
  },
  {
   "cell_type": "markdown",
   "metadata": {
    "slideshow": {
     "slide_type": "slide"
    }
   },
   "source": [
    "**风险的概念** \n",
    "\n",
    "+ 比如 我们投资某项资产可能有两种情况，一种情况是收益10%和亏损10%的概率都是50%。投资这种资产的预期收益率就是0。\n",
    "+ 若投资第二种资产可能有两种结果，一是收益20%的概率为50%，二是亏损20%的概率为50%。投资这种资产的预期收益率仍然是0。\n",
    "+ 虽然两种资产的预期收益率是一样的，但显然其风险是不同的。直观上，第二种的风险更高。"
   ]
  },
  {
   "cell_type": "markdown",
   "metadata": {
    "slideshow": {
     "slide_type": "slide"
    }
   },
   "source": [
    "   2 . 风险，尽可能小\n",
    " \n",
    "   - 这里涉及如何定义风险的问题，\n",
    "   - 上面的例子中第二种资产的风险更高， 我们看出是因为不确定性更大。\n",
    "   - 方差或标准差是一种常用风险度量。\n",
    "   "
   ]
  },
  {
   "cell_type": "markdown",
   "metadata": {
    "slideshow": {
     "slide_type": "slide"
    }
   },
   "source": [
    "   + 第一种资产和第二种资产的标准差：   "
   ]
  },
  {
   "cell_type": "code",
   "execution_count": 1,
   "metadata": {
    "slideshow": {
     "slide_type": "-"
    }
   },
   "outputs": [
    {
     "name": "stdout",
     "output_type": "stream",
     "text": [
      "0.1 , 0.2\n"
     ]
    }
   ],
   "source": [
    "print((0.5*(0.1-0)**2+0.5*(-0.1-0)**2)**(0.5),\",\", (0.5*(0.2-0)**2+0.5*(-0.2-0)**2)**(0.5))"
   ]
  },
  {
   "cell_type": "markdown",
   "metadata": {
    "slideshow": {
     "slide_type": "slide"
    }
   },
   "source": [
    "+ 通常情形下，预期收益率高的产品一般风险也会较高，这种较高的收益率是一种**风险溢价**\n",
    "    - 比如固定收益产品，银行存款或者国家债券，其收益率较低，但不确定性，即风险非常低。\n",
    "    - 我们将那些没有风险的资产的收益率叫做无风险收益\n",
    "    - 证券市场中的股票的风险一般比无风险资产（比如国债）高很多，其收益有更大的不确定性。\n",
    "    - 风险资产的收益高于无风险资产的部分原因正是因为风险，这部分收益也被称为风险溢价，是对承担风险的补偿。如果风险没有溢价，理论上是没有人愿意承担风险的。"
   ]
  },
  {
   "cell_type": "markdown",
   "metadata": {
    "slideshow": {
     "slide_type": "slide"
    }
   },
   "source": [
    "+ 因此，对不同的资产，我们就需要对其预期收益率和风险水平进行比较，选择在某种设定下最优的资产或组合\n",
    "   - 给定风险的条件下，最大化预期收益率\n",
    "   - 给定预期收益率的条件下，极小化风险 \n",
    "   \n",
    "+ 下面代码给出了一个资产的收益率的常用统计量，其中在基本的投资组合理论中，我们主要关心 均值和标准差"
   ]
  },
  {
   "cell_type": "code",
   "execution_count": 2,
   "metadata": {},
   "outputs": [],
   "source": [
    "import matplotlib.pyplot as plt\n",
    "import numpy as np\n",
    "import pandas as pd\n",
    "%matplotlib inline\n",
    "from ipywidgets import interact, FloatSlider"
   ]
  },
  {
   "cell_type": "code",
   "execution_count": 3,
   "metadata": {
    "slideshow": {
     "slide_type": "slide"
    }
   },
   "outputs": [],
   "source": [
    "data=pd.read_csv(\"data/000001.SH.csv\",index_col=0,parse_dates=True)\n",
    "close=data[\"1990\":\"2020\"][\"CLOSE\"]\n",
    "closeyear=close.resample(\"A-DEC\").last()\n",
    "ret=closeyear.pct_change()  "
   ]
  },
  {
   "cell_type": "code",
   "execution_count": 4,
   "metadata": {
    "scrolled": true,
    "slideshow": {
     "slide_type": "subslide"
    }
   },
   "outputs": [
    {
     "data": {
      "text/plain": [
       "count    30.000000\n",
       "mean      0.213396\n",
       "std       0.534750\n",
       "min      -0.653942\n",
       "25%      -0.143073\n",
       "50%       0.067010\n",
       "75%       0.463495\n",
       "max       1.665722\n",
       "Name: CLOSE, dtype: float64"
      ]
     },
     "execution_count": 4,
     "metadata": {},
     "output_type": "execute_result"
    }
   ],
   "source": [
    "#np.set_printoptions(precision=2)\n",
    "ret=ret.dropna()\n",
    "ret.describe()"
   ]
  },
  {
   "cell_type": "markdown",
   "metadata": {
    "slideshow": {
     "slide_type": "slide"
    }
   },
   "source": [
    "+ 在分析投资组合之前，我们需要了解市场上单个资产的收益和风险。考虑月收益率，分析市场预期收益和风险及其变化。详情见分组作业。"
   ]
  },
  {
   "cell_type": "markdown",
   "metadata": {
    "slideshow": {
     "slide_type": "slide"
    }
   },
   "source": [
    "## 一个风险资产和一个无风险资产的组合\n",
    "\n",
    "+ 假设市场中只有无风险资产和一种风险资产，如果分配资金？\n",
    "+ 设无风险资产的收益率为4%，风险资产为上证指数基金，年收益率的期望为0.2633，标准差为0.5843\n",
    "+ 我们要根据该信息在无风险资产和指数基金之间分配资金，\n",
    "   - 设总资产为1，分配到指数基金的资产为$w$，分配到无风险资产上的资金为$1-w$,其中$0\\leq w\\leq 1$.\n",
    "   - 则组合的预期收益率为：\n",
    "     $$E(R)=0.2233w+0.04$$\n",
    "   - 标准差为：\n",
    "   $$\\sigma_R=0.5843w $$"
   ]
  },
  {
   "cell_type": "code",
   "execution_count": 5,
   "metadata": {
    "slideshow": {
     "slide_type": "subslide"
    }
   },
   "outputs": [
    {
     "data": {
      "image/png": "[encoded data removed]",
      "text/latex": [
       "$\\displaystyle \\left( 0.2233 w + 0.04, \\  0.5843 w\\right)$"
      ],
      "text/plain": [
       "(0.2233⋅w + 0.04, 0.5843⋅w)"
      ]
     },
     "execution_count": 5,
     "metadata": {},
     "output_type": "execute_result"
    }
   ],
   "source": [
    "import sympy as sy\n",
    "from sympy.interactive import printing\n",
    "printing.init_printing(use_latex=True)\n",
    "\n",
    "w=sy.symbols('w',positive = True, real = True)\n",
    "ExpRet=w*0.2633+(1-w)*0.04\n",
    "StdRet=sy.sqrt(w**2*0.5843**2+(1-w)**2*0)\n",
    "ExpRet, sy.simplify(StdRet)"
   ]
  },
  {
   "cell_type": "markdown",
   "metadata": {
    "slideshow": {
     "slide_type": "subslide"
    }
   },
   "source": [
    "+ 显然，给定预期收益率，投资权重就确定了，从而风险也确定了。\n",
    "+ 同样，给定能承受的风险，投资权重也确定了，从而预期收益率也就确定了。\n",
    "+ 因此，以权重为参数，$(0.2233⋅w + 0.04, 0.5843⋅w)$给出了投资组合预期收益和风险（标准差）之间的关系"
   ]
  },
  {
   "cell_type": "code",
   "execution_count": 6,
   "metadata": {
    "slideshow": {
     "slide_type": "subslide"
    }
   },
   "outputs": [
    {
     "data": {
      "text/plain": [
       "[<matplotlib.lines.Line2D at 0x1c43398b108>]"
      ]
     },
     "execution_count": 6,
     "metadata": {},
     "output_type": "execute_result"
    },
    {
     "data": {
      "image/png": "[encoded data removed]",
      "text/plain": [
       "<Figure size 432x288 with 1 Axes>"
      ]
     },
     "metadata": {
      "needs_background": "light"
     },
     "output_type": "display_data"
    }
   ],
   "source": [
    "#from sympy.plotting import plot_parametric\n",
    "import matplotlib.pyplot as plt\n",
    "%matplotlib inline\n",
    "#sy.plotting.plot_parametric(StdRet,ExpRet,(w,0,1),xlabel=r\"$\\sigma_R$\",ylabel=\"mean\")\n",
    "\n",
    "meanf= sy.lambdify(w, ExpRet, \"numpy\")\n",
    "stdf=sy.lambdify(w,StdRet,\"numpy\")\n",
    "wv=np.linspace(0,1,2)\n",
    "stdv=stdf(wv)\n",
    "meanv=meanf(wv)\n",
    "plt.plot(stdv,meanv,\"bo-\")  \n"
   ]
  },
  {
   "cell_type": "markdown",
   "metadata": {
    "slideshow": {
     "slide_type": "subslide"
    }
   },
   "source": [
    "+ 一般地，一个最优投资组合可以通过两个步骤进行：\n",
    "   1. 寻找最优的风险资产的投资组合，这个组合通常被称为切线组合\"tanency protfolio\"\n",
    "   2. 设定切线组合和无风险资产的恰当比例，形成最终的最优投资组合。\n",
    "+ 第二步就用我们上面介绍的方法确定。\n",
    "+ 投资组合选择的最终目标是在众多风险资产和无风险资产中选择最优的组合，我们只讨论两个风险资产和无风险资产的组合.\n",
    "+ 下面首先讨论两个风险资产的投资组合，然后再加入无风险资产"
   ]
  },
  {
   "cell_type": "markdown",
   "metadata": {
    "slideshow": {
     "slide_type": "slide"
    }
   },
   "source": [
    "## 两个风险资产\n",
    "\n",
    "+ 假设两个风险资产的收益率随机变量分别为 $R_1$和$R_2$\n",
    "\n",
    "+  投资到两个资产的资本权重为$w$和$1-w$。 则投资组合的收益率为：\n",
    "\n",
    "$$R=wR_1+(1-w)R_2$$\n",
    "\n",
    "+ 计算上面投资组合的期望和方差，需要各自的期望方差和两个变量的相关系数\n",
    "$$\\mu_1,\\mu_2,\\sigma_1,\\sigma_2,\\rho_{12}$$\n",
    "\n",
    "显然：\n",
    " $$E(R)=w\\mu_1+(1-w)\\mu_2$$\n",
    "$$\\sigma_R^2=w^2\\sigma_1^2+(1-w)^2\\sigma_2^2+2w(1-w)\\rho_{12}\\sigma_1\\sigma_2$$\n",
    "\n",
    "+ 首先通过一个虚拟的例子来说明\n",
    "   \n",
    "   设 $$\\mu_1=0.14,\\mu_2=0.08,\\sigma_1=0.2,\\sigma_2=0.15,\\rho_{12}=0$$"
   ]
  },
  {
   "cell_type": "code",
   "execution_count": 7,
   "metadata": {
    "slideshow": {
     "slide_type": "slide"
    }
   },
   "outputs": [
    {
     "data": {
      "image/png": "[encoded data removed]",
      "text/latex": [
       "$\\displaystyle \\left( 0.06 w + 0.08, \\  0.25 \\sqrt{w^{2} - 0.72 w + 0.36}\\right)$"
      ],
      "text/plain": [
       "⎛                       ____________________⎞\n",
       "⎜                      ╱  2                 ⎟\n",
       "⎝0.06⋅w + 0.08, 0.25⋅╲╱  w  - 0.72⋅w + 0.36 ⎠"
      ]
     },
     "execution_count": 7,
     "metadata": {},
     "output_type": "execute_result"
    }
   ],
   "source": [
    "printing.init_printing(use_latex=True)\n",
    "mu1=0.14;mu2=0.08;sig1=0.2;sig2=0.15;rho12=0\n",
    "ExpRet=mu2+(mu1-mu2)*w\n",
    "Varf=sy.simplify(sig1**2*w**2+sig2**2*(1-w)**2+2*w*(1-w)*rho12*sig1*sig2)\n",
    "StdRet=sy.sqrt(Varf)\n",
    "ExpRet,sy.simplify(StdRet)\n"
   ]
  },
  {
   "cell_type": "code",
   "execution_count": 8,
   "metadata": {
    "scrolled": false,
    "slideshow": {
     "slide_type": "slide"
    }
   },
   "outputs": [
    {
     "data": {
      "text/plain": [
       "Text(0.19467185601866493, 0.12099393939393939, 'efficient frontier\\n$w\\\\in$[0.36, 1]')"
      ]
     },
     "execution_count": 8,
     "metadata": {},
     "output_type": "execute_result"
    },
    {
     "data": {
      "image/png": "[encoded data removed]",
      "text/plain": [
       "<Figure size 576x432 with 1 Axes>"
      ]
     },
     "metadata": {
      "needs_background": "light"
     },
     "output_type": "display_data"
    }
   ],
   "source": [
    "#a=plot_parametric(StdRet,ExpRet,(w,0,1),xlabel=r\"$\\sigma_R$\",ylabel=\"$E(R)$\",axis_center=(0.11,0.11),xlim=[0.11,0.21])\n",
    "#a.save(\"aa.jpg\")\n",
    "\n",
    "\n",
    "meanf= sy.lambdify(w, ExpRet, \"numpy\")\n",
    "varf=sy.lambdify(w,Varf,\"numpy\")\n",
    "\n",
    "# %matplotlib qt\n",
    "%matplotlib inline\n",
    "\n",
    "fig=plt.figure(figsize=(8,6)) \n",
    "\n",
    "plt.text(sig1+0.002,mu1-0.001,\"$R_1$\")\n",
    "plt.text(sig2+0.002,mu2-0.001,\"$R_2$\")\n",
    "\n",
    "wmin=float(-Varf.coeff(w,1)/(2*Varf.coeff(w,2)))\n",
    "mx=sy.sqrt(varf(wmin));my=meanf(wmin)\n",
    "plt.plot(mx,my,\"bo\")\n",
    "plt.text(mx+0.005,my,\"minimum variance portfolio\")\n",
    "\n",
    "\n",
    "wv=np.linspace(0,wmin,100)\n",
    "stdv=np.sqrt(varf(wv))\n",
    "meanv=meanf(wv)\n",
    "plt.plot(stdv,meanv,\"r-\")  \n",
    "plt.annotate(\"$w\\in$\"+str([0,wmin]), size=20,xy=(stdv[50]+0.002,meanv[50]),\n",
    "             xytext=(stdv[50]+0.05,meanv[50]),\n",
    "            arrowprops=dict(facecolor=\"red\"))\n",
    "\n",
    "plt.xlim([0.1,0.25])\n",
    "plt.ylim([0.07,0.15])\n",
    "plt.xlabel(r\"$\\sigma_r$\")\n",
    "plt.ylabel(r\"$E(R)$\")\n",
    "wv=np.linspace(wmin,1,100)\n",
    "stdv=np.sqrt(varf(wv))\n",
    "meanv=meanf(wv)\n",
    "plt.plot(stdv,meanv,\"b-\") \n",
    "plt.annotate(\"efficient frontier\\n\"+\"$w\\in$\"+str([wmin,1]), size=20,xy=(stdv[50]+0.002,meanv[50]),\n",
    "             xytext=(stdv[50]+0.05,meanv[50]),\n",
    "            arrowprops=dict(facecolor=\"blue\"))\n"
   ]
  },
  {
   "cell_type": "markdown",
   "metadata": {
    "slideshow": {
     "slide_type": "slide"
    }
   },
   "source": [
    "观察上述曲线 $(\\sigma_r,E(R))$,我们可以得到几点：\n",
    "\n",
    "+ 收益在0.08到0.14之间，即单个资产的最高收益率和最低收益率之间\n",
    "+ 风险（用标准差度量）低于单个资产的最低值\n",
    "+ 存在风险最低的一个组合，其它组合的风险高于该组合\n",
    "+ 该组合称为**最小方差组合**，该组合并不是所有组合中收益率最小的。那些收益率低于最小方差组合的投资组合显然是不好的!（红色）\n",
    "+ 在上述曲线的上侧(蓝色)，收益率高于最小方差组合的组合构成了投资组合的**有效前沿**，有效前沿上的投资组合称为**有效组合**，或者称为**均值-方差有效组合**\n"
   ]
  },
  {
   "cell_type": "markdown",
   "metadata": {
    "slideshow": {
     "slide_type": "slide"
    }
   },
   "source": [
    "+ 下面通过两只股票，中信证券(600030) 和大秦铁路（601006）来说明投资组合计算，我们使用过去三年的周收益率计算，"
   ]
  },
  {
   "cell_type": "code",
   "execution_count": 9,
   "metadata": {
    "slideshow": {
     "slide_type": "-"
    }
   },
   "outputs": [
    {
     "data": {
      "text/html": [
       "<div>\n",
       "<style scoped>\n",
       "    .dataframe tbody tr th:only-of-type {\n",
       "        vertical-align: middle;\n",
       "    }\n",
       "\n",
       "    .dataframe tbody tr th {\n",
       "        vertical-align: top;\n",
       "    }\n",
       "\n",
       "    .dataframe thead th {\n",
       "        text-align: right;\n",
       "    }\n",
       "</style>\n",
       "<table border=\"1\" class=\"dataframe\">\n",
       "  <thead>\n",
       "    <tr style=\"text-align: right;\">\n",
       "      <th></th>\n",
       "      <th>600030.SH</th>\n",
       "      <th>601006.SH</th>\n",
       "    </tr>\n",
       "  </thead>\n",
       "  <tbody>\n",
       "    <tr>\n",
       "      <th>count</th>\n",
       "      <td>156.000000</td>\n",
       "      <td>156.000000</td>\n",
       "    </tr>\n",
       "    <tr>\n",
       "      <th>mean</th>\n",
       "      <td>0.010443</td>\n",
       "      <td>0.003947</td>\n",
       "    </tr>\n",
       "    <tr>\n",
       "      <th>std</th>\n",
       "      <td>0.060610</td>\n",
       "      <td>0.034694</td>\n",
       "    </tr>\n",
       "    <tr>\n",
       "      <th>min</th>\n",
       "      <td>-0.115482</td>\n",
       "      <td>-0.077216</td>\n",
       "    </tr>\n",
       "    <tr>\n",
       "      <th>25%</th>\n",
       "      <td>-0.025534</td>\n",
       "      <td>-0.015702</td>\n",
       "    </tr>\n",
       "    <tr>\n",
       "      <th>50%</th>\n",
       "      <td>0.006541</td>\n",
       "      <td>-0.001440</td>\n",
       "    </tr>\n",
       "    <tr>\n",
       "      <th>75%</th>\n",
       "      <td>0.029496</td>\n",
       "      <td>0.016756</td>\n",
       "    </tr>\n",
       "    <tr>\n",
       "      <th>max</th>\n",
       "      <td>0.342991</td>\n",
       "      <td>0.138179</td>\n",
       "    </tr>\n",
       "  </tbody>\n",
       "</table>\n",
       "</div>"
      ],
      "text/plain": [
       "        600030.SH   601006.SH\n",
       "count  156.000000  156.000000\n",
       "mean     0.010443    0.003947\n",
       "std      0.060610    0.034694\n",
       "min     -0.115482   -0.077216\n",
       "25%     -0.025534   -0.015702\n",
       "50%      0.006541   -0.001440\n",
       "75%      0.029496    0.016756\n",
       "max      0.342991    0.138179"
      ]
     },
     "execution_count": 9,
     "metadata": {},
     "output_type": "execute_result"
    }
   ],
   "source": [
    "data=pd.read_excel(\"data/portfolioclosedata.xlsx\",index_col=0,parse_dates=True)\n",
    "id1=\"600030.SH\"\n",
    "id2=\"601006.SH\"\n",
    "start=\"2012-01-01\";end=\"2015-01-01\"\n",
    "data=data[start:end]\n",
    "close=data[[id1,id2]]\n",
    "closew=close.resample(\"W\").last()\n",
    "ret=closew.pct_change()\n",
    "ret=ret.dropna(how=\"all\")\n",
    "ret.describe()"
   ]
  },
  {
   "cell_type": "markdown",
   "metadata": {
    "slideshow": {
     "slide_type": "slide"
    }
   },
   "source": [
    "+ 可以看出，两种资产差异比较大，大秦收益率和风险都比较低，而中信证券相对收益率和风险都相对高些。\n"
   ]
  },
  {
   "cell_type": "code",
   "execution_count": 10,
   "metadata": {
    "slideshow": {
     "slide_type": "slide"
    }
   },
   "outputs": [
    {
     "data": {
      "text/html": [
       "<div>\n",
       "<style scoped>\n",
       "    .dataframe tbody tr th:only-of-type {\n",
       "        vertical-align: middle;\n",
       "    }\n",
       "\n",
       "    .dataframe tbody tr th {\n",
       "        vertical-align: top;\n",
       "    }\n",
       "\n",
       "    .dataframe thead th {\n",
       "        text-align: right;\n",
       "    }\n",
       "</style>\n",
       "<table border=\"1\" class=\"dataframe\">\n",
       "  <thead>\n",
       "    <tr style=\"text-align: right;\">\n",
       "      <th></th>\n",
       "      <th>600030.SH</th>\n",
       "      <th>601006.SH</th>\n",
       "    </tr>\n",
       "  </thead>\n",
       "  <tbody>\n",
       "    <tr>\n",
       "      <th>600030.SH</th>\n",
       "      <td>1.00000</td>\n",
       "      <td>0.49407</td>\n",
       "    </tr>\n",
       "    <tr>\n",
       "      <th>601006.SH</th>\n",
       "      <td>0.49407</td>\n",
       "      <td>1.00000</td>\n",
       "    </tr>\n",
       "  </tbody>\n",
       "</table>\n",
       "</div>"
      ],
      "text/plain": [
       "           600030.SH  601006.SH\n",
       "600030.SH    1.00000    0.49407\n",
       "601006.SH    0.49407    1.00000"
      ]
     },
     "execution_count": 10,
     "metadata": {},
     "output_type": "execute_result"
    }
   ],
   "source": [
    "rho=ret.corr()\n",
    "round(rho,5)"
   ]
  },
  {
   "cell_type": "code",
   "execution_count": 11,
   "metadata": {
    "slideshow": {
     "slide_type": "-"
    }
   },
   "outputs": [
    {
     "data": {
      "image/png": "[encoded data removed]",
      "text/latex": [
       "$\\displaystyle \\left[ 0.01044, \\  0.00395, \\  0.06061, \\  0.03469, \\  0.49407\\right]$"
      ],
      "text/plain": [
       "[0.01044, 0.00395, 0.06061, 0.03469, 0.49407]"
      ]
     },
     "execution_count": 11,
     "metadata": {},
     "output_type": "execute_result"
    }
   ],
   "source": [
    "mu1,mu2=ret.mean()\n",
    "sig1,sig2=ret.std()\n",
    "rho12=ret.corr().iloc[1,0]\n",
    "des=[mu1,mu2,sig1,sig2,rho12]\n",
    "[round(x,5) for  x in des]"
   ]
  },
  {
   "cell_type": "code",
   "execution_count": 12,
   "metadata": {
    "slideshow": {
     "slide_type": "slide"
    }
   },
   "outputs": [
    {
     "data": {
      "text/plain": [
       "<matplotlib.legend.Legend at 0x1c43486cbc8>"
      ]
     },
     "execution_count": 12,
     "metadata": {},
     "output_type": "execute_result"
    },
    {
     "data": {
      "image/png": "[encoded data removed]",
      "text/plain": [
       "<Figure size 432x288 with 1 Axes>"
      ]
     },
     "metadata": {
      "needs_background": "light"
     },
     "output_type": "display_data"
    }
   ],
   "source": [
    "ExpRetreal=mu2+(mu1-mu2)*w\n",
    "StdRetreal=sy.sqrt(sig1**2*w**2+sig2**2*(1-w)**2+2*w*(1-w)*rho12*sig1*sig2)\n",
    "\n",
    "meanf= sy.lambdify(w, ExpRetreal, \"numpy\")\n",
    "stdf=sy.lambdify(w,StdRetreal,\"numpy\")\n",
    "wv=np.linspace(0,1,100)\n",
    "stdv=stdf(wv)\n",
    "meanv=meanf(wv)\n",
    "plt.plot(stdv,meanv,\"b-\",label=r\"$\\rho_{12}=$\"+str(round(rho12,2)))  \n",
    "plt.legend(loc=\"center right\")\n",
    " \n",
    "#a=sy.plotting.plot_parametric((StdRetreal,ExpRetreal),(w,0,1),xlabel=r\"$\\sigma_R$\",ylabel=\"mean\",show=False)\n",
    "#a[0].label=r\"$\\rho_{12}=$\"+str(round(x,2))\n",
    "#a.legend=True\n",
    "#a.show()"
   ]
  },
  {
   "cell_type": "markdown",
   "metadata": {
    "slideshow": {
     "slide_type": "slide"
    }
   },
   "source": [
    "下面计算最小方差组合，分别给出了权重(第一种资产\"中信证券\")、期望收益率和最小标准差"
   ]
  },
  {
   "cell_type": "code",
   "execution_count": 13,
   "metadata": {
    "slideshow": {
     "slide_type": "-"
    }
   },
   "outputs": [
    {
     "data": {
      "text/plain": [
       "'0.0589 0.0043 0.0346'"
      ]
     },
     "execution_count": 13,
     "metadata": {},
     "output_type": "execute_result"
    }
   ],
   "source": [
    "varf=sy.simplify(sig1**2*w**2+sig2**2*(1-w)**2+2*w*(1-w)*rho12*sig1*sig2)\n",
    "wmin=-varf.coeff(w,1)/varf.coeff(w,2)/2\n",
    "\"%.4f %.4f %.4f\"%(wmin,ExpRetreal.subs(w,wmin),sy.sqrt(varf.subs(w,wmin)))"
   ]
  },
  {
   "cell_type": "markdown",
   "metadata": {
    "slideshow": {
     "slide_type": "slide"
    }
   },
   "source": [
    "+ 当相关系数不同时，投资组合的有效前沿是不同的，其最小方差组合也是不同的。\n",
    "+ 相关系数越小 最小方差组合的风险越低，这里两个端点就是单个资产的期望和风险"
   ]
  },
  {
   "cell_type": "code",
   "execution_count": 18,
   "metadata": {
    "slideshow": {
     "slide_type": "-"
    }
   },
   "outputs": [
    {
     "data": {
      "application/vnd.jupyter.widget-view+json": {
       "model_id": "b299ba10cbfe4f818bcd701bd75b7fae",
       "version_major": 2,
       "version_minor": 0
      },
      "text/plain": [
       "interactive(children=(FloatSlider(value=0.5, description='rho', max=1.0), Output()), _dom_classes=('widget-int…"
      ]
     },
     "metadata": {},
     "output_type": "display_data"
    }
   ],
   "source": [
    "#mu1=0.14;mu2=0.08;sig1=0.2;sig2=0.15;\n",
    "\n",
    "rho=sy.symbols(\"rho\")\n",
    "ExpRett=mu2+(mu1-mu2)*w\n",
    "StdRett=sy.sqrt(sig1**2*w**2+sig2**2*(1-w)**2+2*w*(1-w)*rho*sig1*sig2)\n",
    "meanf= sy.lambdify((w,rho), ExpRett, \"numpy\")\n",
    "stdf=sy.lambdify((w,rho),StdRett,\"numpy\")\n",
    "wv=np.linspace(0,1,100)\n",
    "\n",
    "#% matplotlib qt\n",
    "rho=0.5\n",
    "rho_slider = FloatSlider(min=0, max=1, step=0.1, value=rho)\n",
    "\n",
    "@interact(rho=rho_slider)\n",
    "def portfolio_plot(rho):    \n",
    "    fig=plt.figure(figsize=(12,6))\n",
    "    ax=fig.add_subplot(1,2,1)\n",
    "    stdv=stdf(wv,rho) \n",
    "    meanv=meanf(wv,rho)\n",
    "    ax.plot(stdv,meanv,label=r\"$\\rho=$\"+str(round(rho,2))) \n",
    "    ax.legend(loc=\"best\") \n",
    "    ax.set_ylabel(\"Expected return \"+r\"$(\\mu_P)$\")\n",
    "    ax.set_xlabel(\"Standard deviation of return \"+r\"$(\\sigma_P)$\")\n",
    "    color=[\"g\",\"y\",\"b\",\"r\"]\n",
    "    rhos=[-0.5,0,0.48,1]\n",
    "    \n",
    "    ax=fig.add_subplot(1,2,2)\n",
    "    #%matplotlib inline\n",
    "    for i in range(len(rhos)):\n",
    "        rho12=rhos[i]\n",
    "        stdv=stdf(wv,rho12)\n",
    "        meanv=meanf(wv,rho12)\n",
    "        ax.plot(stdv,meanv,color[i]+\"-\",label=r\"$\\rho_{12}=$\"+str(round(rho12,2)))  \n",
    "    ax.legend(loc=\"best\") \n",
    "    ax.set_ylabel(\"Expected return \"+r\"$(\\mu_P)$\")\n",
    "    ax.set_xlabel(\"Standard deviation of return \"+r\"$(\\sigma_P)$\")\n",
    "\n",
    "    plt.show()\n",
    "\n",
    "\n",
    "#    a=sy.plotting.plot_parametric((StdRetreal,ExpRetreal),(StdRet1,ExpRet1),(StdRet2,ExpRet2),(StdRet3,ExpRet3),(StdRet4,ExpRet4),(w,0,1),xlabel=r\"$\\sigma_R$\",ylabel=\"mean\")\n",
    "#    a[0].label\n",
    "#p1=sy.plotting.plot_parametric((StdRetreal,ExpRetreal),(w,0,1), show=False, line_color='r',label=\"red\")\n",
    "#p2=sy.plotting.plot_parametric((StdRet1,ExpRet1),(w,0,1), show=False, line_color='b',label=\"red\")\n",
    "#p1.extend(p2)\n",
    "#p1.show()\n",
    "\n"
   ]
  },
  {
   "cell_type": "markdown",
   "metadata": {
    "collapsed": true,
    "slideshow": {
     "slide_type": "slide"
    }
   },
   "source": [
    "# 两个风险资产和无风险资产的投资组合"
   ]
  },
  {
   "cell_type": "markdown",
   "metadata": {
    "slideshow": {
     "slide_type": "-"
    }
   },
   "source": [
    "+ 前面已经介绍了有效前沿的概念，其上的点都是给定分配在两种风险资产上的权重所得到的组合的收益率$(R)$的标准差和预期收益$(\\sigma_R,E(R))$\n",
    "+ 权重 $w$ 是取值0，1之间的数，给定$w$后，组合就确定了\n",
    "+ 下面我们将讨论将两种风险资产构造的风险资产组合和无风险资产混合在一起"
   ]
  },
  {
   "cell_type": "code",
   "execution_count": 15,
   "metadata": {
    "slideshow": {
     "slide_type": "slide"
    }
   },
   "outputs": [
    {
     "data": {
      "text/plain": [
       "Text(0.15095127662315597, 0.12153846153846154, 'T (tangency portfolio)')"
      ]
     },
     "execution_count": 15,
     "metadata": {},
     "output_type": "execute_result"
    },
    {
     "data": {
      "image/png": "[encoded data removed]",
      "text/plain": [
       "<Figure size 720x432 with 1 Axes>"
      ]
     },
     "metadata": {
      "needs_background": "light"
     },
     "output_type": "display_data"
    }
   ],
   "source": [
    "muf=0.06;mu1=0.14;mu2=0.08;sig1=0.2;sig2=0.15;rho12=0\n",
    "ExpRet=mu2+(mu1-mu2)*w\n",
    "Varf=sy.simplify(sig1**2*w**2+sig2**2*(1-w)**2+2*w*(1-w)*rho12*sig1*sig2)\n",
    "StdRet=sy.sqrt(Varf)\n",
    "#init_printing()\n",
    "ExpRet,sy.simplify(StdRet)\n",
    "\n",
    "meanf= sy.lambdify(w, ExpRet, \"numpy\")\n",
    "varf=sy.lambdify(w,Varf,\"numpy\")\n",
    "\n",
    "#%matplotlib qt\n",
    "%matplotlib inline\n",
    "\n",
    "fig=plt.figure(figsize=(10,6)) \n",
    "\n",
    "plt.text(sig1+0.002,mu1-0.001,\"$R_1$\")\n",
    "plt.text(sig2+0.002,mu2-0.001,\"$R_2$\")\n",
    "\n",
    "wmin=float(-Varf.coeff(w,1)/(2*Varf.coeff(w,2)))\n",
    "mx=np.sqrt(varf(wmin));my=meanf(wmin)\n",
    "plt.plot([mx,0],[my,muf],\"bo\")\n",
    "plt.text(mx+0.005,my,\"M (minimum variance portfolio)\",fontsize=15)\n",
    "plt.text(0,muf+0.005,\"F\",fontsize=15)\n",
    "\n",
    "wv=np.linspace(0,wmin,100)\n",
    "stdv=np.sqrt(varf(wv))\n",
    "meanv=meanf(wv)\n",
    "plt.plot(stdv,meanv,\"r-\")  \n",
    "plt.annotate(\"$w\\in$\"+str([0,wmin]), size=15,xy=(stdv[50]+0.002,meanv[50]),\n",
    "             xytext=(stdv[50]+0.05,meanv[50]),\n",
    "            arrowprops=dict(facecolor=\"red\"))\n",
    "\n",
    "\n",
    "wv=np.linspace(wmin,1,100)\n",
    "stdv=np.sqrt(varf(wv))\n",
    "meanv=meanf(wv)\n",
    "plt.plot(stdv,meanv,\"b-\") \n",
    "plt.annotate(\"efficient frontier\\n\"+\"$w\\in$\"+str([wmin,1]), size=15,xy=(stdv[80]+0.002,meanv[80]),\n",
    "             xytext=(stdv[80]+0.05,meanv[80]),\n",
    "            arrowprops=dict(facecolor=\"blue\"))\n",
    "\n",
    "plt.xlim([-0.01,max(sig1,sig2)*1.5])\n",
    "plt.ylim([max(0,muf-0.02),0.15])\n",
    "plt.plot([0,mx],[muf,my],\"b--\")\n",
    "plt.plot([0,sig2],[muf,mu2],\"r-.\")\n",
    "\n",
    "# tangency portfolio\n",
    "v1=mu1-muf;v2=mu2-muf;\n",
    "Wt=(v1*sig2**2-v2*rho12*sig1*sig2)/(v1*sig2**2+v2*sig1**2-(v1+v2)*rho12*sig1*sig2)\n",
    "Tx=np.sqrt(varf(Wt));Ty=meanf(Wt)\n",
    "plt.plot([Tx],[Ty],\"bo\")\n",
    "plt.plot([Tx,0],[Ty,muf],\"b--\")\n",
    "plt.text(Tx+0.005,Ty,\"T (tangency portfolio)\",fontsize=15)\n"
   ]
  },
  {
   "cell_type": "markdown",
   "metadata": {
    "slideshow": {
     "slide_type": "slide"
    }
   },
   "source": [
    "+ 无风险资产的收益率为0.06\n",
    "+ 首先看连接F和 $R_2$的线段， 根据前面介绍过的内容，其描述单个风险资产$R_2$和无风险资产的组合\n",
    "+ 给定两个风险资产的投资比例，我们就得到一个投资组合。考虑在这个投资组合和无风险收益的组合\n",
    "+ 若该风险资产投资组合为最小方差组合，当投资于该组合资金的权重从1变化到0时，对应的组合收益率的标准差和期望 $(\\sigma,E(R))$ 为上图的MF线段。\n",
    "+ 我们可以看出，对于有相同风险的组合，FM上的组合比$FR_2$上的组合有更高的预期收益"
   ]
  },
  {
   "cell_type": "markdown",
   "metadata": {
    "slideshow": {
     "slide_type": "slide"
    }
   },
   "source": [
    "+ **Sharpe's ratio **\n",
    "  - sharpe比率值上述直线的斜率，直观解释是承担单位风险所能得到的收益。\n",
    "      + 公式\n",
    "  - 衡量投资组合的重要指标\n",
    "  - 观察上面的图形，\n",
    "      + 什么直线有最高的Sharpe比率？\n",
    "  "
   ]
  },
  {
   "cell_type": "markdown",
   "metadata": {
    "slideshow": {
     "slide_type": "slide"
    }
   },
   "source": [
    "  **最优组合**\n",
    "  \n",
    "+ 考虑从F点出发点射线直线，即包含无风险资产的投资组合，从斜率（sharp比率）无穷大开始，我们逐渐降低斜率\n",
    "+ 当该线第一次接触两个资产的有效前沿时，此时该直线和有效前沿相切，只有一个交点。记该交点为$T$\n",
    "+ 切点 $T$ 代表的两个风险资产的投资组合为切线组合\n",
    "+ 线段FT描述的组合是Sharp比率最高的组合！也成为最优组合或有效组合\n",
    "\n",
    "+ 如果无风险资产的收益高于最小方差组合的收益，会出现什么情形？\n"
   ]
  },
  {
   "cell_type": "markdown",
   "metadata": {
    "slideshow": {
     "slide_type": "slide"
    }
   },
   "source": [
    "**有效组合和最优组合**\n",
    "\n",
    "+ 混合切线组合和无风险资产所得到的组合都是有效组合，\n",
    "+ 不同的最优组合具有不同的预期收益率和风险要求，但满足如下性质：\n",
    "   - 给定风险，他是预期收益率最高的组合\n",
    "   - 更定预期收益率，他是风险最低的组合\n",
    "+ 因此，在最优组合之间进行选择时，我们如果希望降低风险，就必须同时减低预期收益；相反地，如果我们希望增加预期收益，就不等不接受更高的风险。\n",
    "+ 选择不同的最优组合只需要改变我们切线组合和无风险资产的投资比率。"
   ]
  },
  {
   "cell_type": "markdown",
   "metadata": {
    "slideshow": {
     "slide_type": "slide"
    }
   },
   "source": [
    "**切线组合如何确定？**\n",
    "\n",
    "\n",
    "+ 设两个风险资产的收益率期望和标准差风别为$\\mu_1,\\sigma_1,\\mu_2,\\sigma_2$，相关系数为$\\rho_{12}$,\n",
    "+ 无风险资产的收益率为$\\mu_f$\n",
    "+ 记 $V_1=\\mu_1-\\mu_f;V_2=\\mu_2-\\mu_f$，两者为超额收益率，即超过无风险资产的收益率\n",
    "+ 则切线组合的则切线组合的权重$w_T$，即在投向两种风险资产的资金中第一种资产所占比例，由如下公式确定：\n",
    " $$w_T=\\frac{V_1\\sigma_2^2-V_2\\rho_{12}\\sigma_1\\sigma_2}{V_1 \\sigma_2^2+V_2 \\sigma_1^2-(V_1+V_2)\\rho_{12}\\sigma_1\\sigma_2}$$"
   ]
  },
  {
   "cell_type": "markdown",
   "metadata": {},
   "source": [
    "+ $R_T$ 表示切线组合收益率，$E(R_T),\\sigma_T$表示他的期望和标准差，则\n",
    "\n",
    "\n",
    " $$\\begin{array}{rl}E(R_T)=&w_T\\mu_1+(1-w_T)\\mu_2\\\\ \\sigma_T=&\\sqrt{w_T^2\\sigma_1^2+(1-w_T)^2\\sigma_2^2+2\\rho_{12}\\sigma_1\\sigma_2} \\end{array}$$"
   ]
  },
  {
   "cell_type": "markdown",
   "metadata": {},
   "source": [
    "$(1+muf)^{50}=1.03$\n"
   ]
  },
  {
   "cell_type": "code",
   "execution_count": 16,
   "metadata": {},
   "outputs": [
    {
     "data": {
      "text/plain": [
       "<Figure size 432x288 with 0 Axes>"
      ]
     },
     "metadata": {},
     "output_type": "display_data"
    },
    {
     "data": {
      "image/png": "[encoded data removed]",
      "text/plain": [
       "<Figure size 1152x864 with 1 Axes>"
      ]
     },
     "metadata": {
      "needs_background": "light"
     },
     "output_type": "display_data"
    }
   ],
   "source": [
    "%run \"efficentfronter.py\"\n",
    "\n",
    "muf=1.03**(1/50.0)-1\n",
    "portfolioplot(muf=muf,mu1=0.01067, sig1=0.0612,mu2= 0.00403,sig2= 0.03503, rho12= 0.4945,figsize=(16,12))"
   ]
  },
  {
   "cell_type": "code",
   "execution_count": 17,
   "metadata": {
    "scrolled": false
   },
   "outputs": [
    {
     "data": {
      "application/vnd.jupyter.widget-view+json": {
       "model_id": "63ada0d598674dfca9a1656b08478228",
       "version_major": 2,
       "version_minor": 0
      },
      "text/plain": [
       "interactive(children=(FloatSlider(value=0.5, description='rho12', max=1.0), FloatSlider(value=0.00059135082382…"
      ]
     },
     "metadata": {},
     "output_type": "display_data"
    }
   ],
   "source": [
    "from sympy import symbols,sqrt,simplify,lambdify \n",
    "mu1=0.01067\n",
    "sig1=0.0612\n",
    "mu2= 0.00403\n",
    "sig2= 0.03503\n",
    "muf=1.03**(1/50.0)-1\n",
    "rho12=0.5\n",
    "rho_slider = FloatSlider(min=0, max=1, step=0.1, value=rho12)\n",
    "muf_slider = FloatSlider(min=-0.002, max=0.014, step=0.0002, value=muf,readout_format=\".4f\") #0.999**50=0.95 \n",
    "\n",
    "@interact(rho12=rho_slider,muf=muf_slider)\n",
    "def portf(rho12,muf):\n",
    "    w=symbols(\"w\")\n",
    "    ExpRet=mu2+(mu1-mu2)*w\n",
    "    Varf=simplify(sig1**2*w**2+sig2**2*(1-w)**2+2*w*(1-w)*rho12*sig1*sig2)\n",
    "    StdRet=sqrt(Varf)\n",
    "    #init_printing()\n",
    "    ExpRet,simplify(StdRet)\n",
    "    \n",
    "    meanf= lambdify(w, ExpRet, \"numpy\")\n",
    "    varf=lambdify(w,Varf,\"numpy\")   \n",
    "    plt.figure(figsize=(14,10))    \n",
    "    plt.text(sig1,mu1*1.02,\"$R_1$\")\n",
    "    plt.text(sig2,mu2*0.95,\"$R_2$\")\n",
    "    \n",
    "    wmin=float(-Varf.coeff(w,1)/(2*Varf.coeff(w,2)))\n",
    "    mx=sqrt(varf(wmin));my=meanf(wmin)\n",
    "    plt.plot([sig1,sig2,0,mx],[mu1,mu2,muf,my],\"bo\")\n",
    "    plt.text(mx*1.02,my,\"M (minimum variance portfolio)\",fontsize=15)\n",
    "    plt.text(0,muf*1.1,\"F\",fontsize=15)\n",
    "    \n",
    "    wv=np.linspace(0,wmin,100)\n",
    "    stdv=np.sqrt(varf(wv))\n",
    "    meanv=meanf(wv)\n",
    "    plt.plot(stdv,meanv,\"r-\")  \n",
    "    plt.annotate(\"$w\\in$\"+str([0,round(wmin,3)]), size=15,xy=(stdv[30],meanv[30]),\n",
    "                 xytext=(stdv[30]*1.1,meanv[30]),\n",
    "                arrowprops=dict(facecolor=\"red\"))\n",
    "    \n",
    "    \n",
    "    wv=np.linspace(wmin,1,100)\n",
    "    stdv=np.sqrt(varf(wv))\n",
    "    meanv=meanf(wv)\n",
    "    plt.plot(stdv,meanv,\"b-\") \n",
    "    plt.annotate(\"efficient frontier\\n\"+\"$w\\in$\"+str([round(wmin,3),1]), size=15,xy=(stdv[80],meanv[80]),\n",
    "                 xytext=(stdv[80]*0.6,meanv[80]),\n",
    "                arrowprops=dict(facecolor=\"blue\"))\n",
    "    \n",
    "    plt.xlim([-0.01,max(sig1,sig2)*1.1])\n",
    "    plt.ylim([-0.002,0.015])\n",
    "    plt.plot([0,mx],[muf,my],\"b--\")\n",
    "    plt.plot([0,sig2],[muf,mu2],\"r-.\")\n",
    "    \n",
    "    # tangency portfolio\n",
    "    v1=mu1-muf;v2=mu2-muf;\n",
    "    Wt=(v1*sig2**2-v2*rho12*sig1*sig2)/(v1*sig2**2+v2*sig1**2-(v1+v2)*rho12*sig1*sig2)\n",
    "    Tx=sqrt(varf(Wt));Ty=meanf(Wt)\n",
    "    plt.plot([Tx],[Ty],\"bo\")\n",
    "    plt.plot([Tx,0],[Ty,muf],\"b--\")\n",
    "    plt.text(Tx*1.01,Ty*0.93,\"T (tangency portfolio)\\n \"+\"$w=$\"+str(round(Wt,3)),fontsize=15)"
   ]
  },
  {
   "cell_type": "markdown",
   "metadata": {},
   "source": [
    "## 卖空\n",
    "\n",
    "+ 卖出我们不拥有的资产即卖空。\n",
    "+ 我们可以向中间商或券商借来股票卖出，得到现金，然后在其后的某个时点，我们再从市场买入数量的归还股票。\n",
    "+ 当这个过程中股票价格下跌，则我们的现金会有所剩余，扣除借股票的费用后的收入就是盈利。\n",
    "+ 我国市场上对应的操作是融券\n",
    "+ 例子：\n",
    "   - 如果当前股票价格是10元/股，我们向券商融券1万股卖出，得到现金10万元，\n",
    "   - 若一月后股票价格降为9元，则我们从市场上买入1万股还给券商，花费9万元。\n",
    "   - 若不考虑各种费用，剩下的1万现金就是我们的利润。\n",
    "   - 当然，如果一月后股票价格为11元，购买1万股需要的现金就是11万，这种情况下卖空就亏损1万元。\n",
    "  \n",
    "  \n"
   ]
  },
  {
   "cell_type": "markdown",
   "metadata": {},
   "source": [
    "+ 投资组合中允许卖空即是允许投资的权重小于0，若只有两个资产，其中一个权重小于0，则另一个就会大于1.\n",
    "+ 若我们有1万元投于两个风险资产，收益率分别为$R_1$和$R_2$。实际的操作为：\n",
    "   - 借价值5000元的B资产卖出，得到5000元现金\n",
    "   - 将1.5万元投资于A资产\n",
    "   - 则该组合中我们卖空B资产，其投资权重为-$\\frac{1}{2}$，而投资在A资产上的权重为$\\frac{3}{2}$\n",
    "   - 该投资组合的收益率为：\n",
    "     $$\\frac{3}{2}R_1+\\left(-\\frac{1}{2}\\right)R_2$$"
   ]
  }
 ],
 "metadata": {
  "anaconda-cloud": {},
  "celltoolbar": "幻灯片",
  "kernelspec": {
   "display_name": "Python 3",
   "language": "python",
   "name": "python3"
  },
  "language_info": {
   "codemirror_mode": {
    "name": "ipython",
    "version": 3
   },
   "file_extension": ".py",
   "mimetype": "text/x-python",
   "name": "python",
   "nbconvert_exporter": "python",
   "pygments_lexer": "ipython3",
   "version": "3.9.4"
  },
  "latex_envs": {
   "LaTeX_envs_menu_present": true,
   "autoclose": false,
   "autocomplete": true,
   "bibliofile": "biblio.bib",
   "cite_by": "apalike",
   "current_citInitial": 1,
   "eqLabelWithNumbers": true,
   "eqNumInitial": 1,
   "hotkeys": {
    "equation": "Ctrl-E",
    "itemize": "Ctrl-I"
   },
   "labels_anchors": false,
   "latex_user_defs": false,
   "report_style_numbering": false,
   "user_envs_cfg": false
  },
  "toc": {
   "base_numbering": 1,
   "nav_menu": {},
   "number_sections": true,
   "sideBar": true,
   "skip_h1_title": false,
   "title_cell": "Table of Contents",
   "title_sidebar": "Contents",
   "toc_cell": false,
   "toc_position": {},
   "toc_section_display": true,
   "toc_window_display": false
  }
 },
 "nbformat": 4,
 "nbformat_minor": 1
}
