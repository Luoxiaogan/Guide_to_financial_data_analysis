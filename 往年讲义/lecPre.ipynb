{
 "cells": [
  {
   "attachments": {
    "finpre.png": {
     "image/png": "[encoded data removed]"
    }
   },
   "cell_type": "markdown",
   "metadata": {
    "slideshow": {
     "slide_type": "slide"
    }
   },
   "source": [
    " $(1-0.01)^{365}=0.0251$；\n",
    " $(1+0)^{365}=1$；\n",
    " $(1+0.01)^{365}=37.78$\n",
    " ![finpre.png](attachment:finpre.png)"
   ]
  },
  {
   "cell_type": "markdown",
   "metadata": {
    "nbpresent": {
     "id": "067d9b73-156d-4f48-a8bb-a5b6c9ab346e"
    },
    "slideshow": {
     "slide_type": "slide"
    }
   },
   "source": [
    "\n",
    "## 金融数据分析导论\n",
    "\n",
    "\n",
    "+ 金融数学系\n",
    "\n",
    "+ 授课：何洋波 heyb@math.pku.edu.cn, \n",
    "\n",
    "+ 2021年 秋\n",
    "\n",
    "+ 助教： 郑清源\n",
    " \n",
    "\n"
   ]
  },
  {
   "cell_type": "markdown",
   "metadata": {
    "slideshow": {
     "slide_type": "slide"
    }
   },
   "source": [
    "## 先看看这个文章\n",
    "https://mp.weixin.qq.com/s/R8R7RsPg7Zyv2NpVB8OMiA\n",
    "\n",
    "了解如何理解和解释数据\n",
    "\n",
    "## 搜索 \n",
    "\n",
    "“西蒙斯” “文艺复兴大奖章基金” 了解量化投资的故事"
   ]
  },
  {
   "cell_type": "markdown",
   "metadata": {
    "slideshow": {
     "slide_type": "slide"
    }
   },
   "source": [
    "# 课程介绍\n",
    "\n",
    "## 两条线\n",
    "\n",
    "1. 编程语言\n",
    "  主要是python，R辅助，各种数据类型的使用，算法和实现，各种资源包。\n",
    "2. 金融市场各种案例和应用。"
   ]
  },
  {
   "cell_type": "markdown",
   "metadata": {
    "slideshow": {
     "slide_type": "-"
    }
   },
   "source": [
    "**金融市场及数据的来源**\n",
    "\n",
    "+ 股票市场\n",
    "+ 债券市场\n",
    "+ 商品市场\n",
    "+ 外汇市场\n",
    "\n",
    "+ 市场参与者\n",
    "+ 新闻\n",
    "+ 宏观经济\n",
    "\n",
    "\n",
    "通过wind数据了解一下"
   ]
  },
  {
   "cell_type": "markdown",
   "metadata": {
    "nbpresent": {
     "id": "36401fc7-c7be-4da3-bc82-e162dd21fb9b"
    },
    "slideshow": {
     "slide_type": "slide"
    }
   },
   "source": [
    "## 授课内容\n",
    "\n",
    "###  数据分析工具--Python 数据分析基础\n",
    "\n",
    "+  Python Introduction \n",
    "\n",
    "+  NumPy  \n",
    "\n",
    "+  Pandas\n",
    "\n",
    "+  数据收集, 读取, 清理\n",
    "\n",
    "+  数据可视化\n",
    "\n",
    "+  时间序列处理"
   ]
  },
  {
   "cell_type": "markdown",
   "metadata": {
    "slideshow": {
     "slide_type": "slide"
    }
   },
   "source": [
    "### R 语言\n",
    "+ 基本语法\n",
    "+ 基本数据类型\n",
    "+ 基本函数和统计包"
   ]
  },
  {
   "cell_type": "markdown",
   "metadata": {
    "slideshow": {
     "slide_type": "slide"
    }
   },
   "source": [
    "### 统计分析\n",
    "\n",
    "+ 分布\n",
    "+ 假设检验\n",
    "+ 线性回归\n",
    "+ 统计建模"
   ]
  },
  {
   "cell_type": "markdown",
   "metadata": {
    "nbpresent": {
     "id": "7d9e5a17-038f-4ba9-9e15-c9ee3ce4bf26"
    },
    "slideshow": {
     "slide_type": "slide"
    }
   },
   "source": [
    "### 时间序列数据分析\n",
    "\n",
    "+  收益率，随机游走，有效市场假定， 收益率分布分析\n",
    "\n",
    "+  时间序列数据的分析建模和预测\n",
    "\n",
    "+  波动率模型"
   ]
  },
  {
   "cell_type": "markdown",
   "metadata": {
    "nbpresent": {
     "id": "db874712-f82a-424c-ba59-a7b465ad68f4"
    },
    "slideshow": {
     "slide_type": "slide"
    }
   },
   "source": [
    "###  其它金融数据分析\n",
    "\n",
    "\n",
    "+ 投资组合和风险\n",
    "  - 经典的方法，资产的配置\n",
    "  - 组合资产评估\n",
    "  \n",
    "+ 投资策略和算法交易\n",
    "\n",
    "    -  资本资产定价模型\n",
    "    -  多因子模型\n",
    "    -  配对交易\n",
    "    -  K线图，动量交易等技术指标量化\n",
    "    \n",
    "+ 金融文本数据分析\n",
    "    - 行业,股东分析\n",
    "    - 媒体新闻，评论情感分析\n",
    "\n",
    "+ 高频数据分析和交易\n",
    "    \n",
    "     - 高频数据\n",
    "\n",
    "+ 机器学习方法\n",
    " "
   ]
  },
  {
   "cell_type": "markdown",
   "metadata": {
    "nbpresent": {
     "id": "1e29a5f6-8daf-4438-b2b2-c4780765185c"
    },
    "slideshow": {
     "slide_type": "slide"
    }
   },
   "source": [
    "## 讲义和参考书\n",
    "\n",
    "+ 讲义\n",
    "  \n",
    "  另外参考\n",
    "\n",
    "  +  利用Python进行数据分析,python for data analysis, 机械工业出版社，中文电子书，英文电子书\n",
    "  +  金融数据分析导论，基于R语言，机械工业出版社。\n",
    "  +  Python for finance: analyze big financial data"
   ]
  },
  {
   "cell_type": "markdown",
   "metadata": {
    "nbpresent": {
     "id": "3e8afca4-11d6-4722-ae44-37e5c195009b"
    },
    "slideshow": {
     "slide_type": "slide"
    }
   },
   "source": [
    "## 关于 Python 和 R\n",
    "\n",
    " \n",
    "+ 数据分析的二个选择\n",
    "+ 相通的，学一个，另一个就容易掌握\n",
    "+ 都有强大的开源社区支持\n",
    "\n",
    "![](./data/python_or_r1.jpg)"
   ]
  },
  {
   "cell_type": "markdown",
   "metadata": {
    "nbpresent": {
     "id": "be0a3493-3063-4fdb-9c55-5fa19858b087"
    },
    "slideshow": {
     "slide_type": "subslide"
    }
   },
   "source": [
    "### R\n",
    "\n",
    " + 强大的社区支持,5000+ packages, \n",
    " + heavy statistical ananlysis or graphing,\n",
    " + 数学和统计\n",
    " + 数据干净\n",
    " \n",
    " "
   ]
  },
  {
   "cell_type": "markdown",
   "metadata": {
    "nbpresent": {
     "id": "64948c4a-283e-47b1-bf03-d09d2daf6764"
    },
    "slideshow": {
     "slide_type": "subslide"
    }
   },
   "source": [
    "### Python\n",
    "\n",
    "+ 面向对象\n",
    "+ 越来越多的支持\n",
    "+ 大规模数据，效率高\n",
    "+ 数据预处理，收集强\n",
    "+ 工程师和计算机\n",
    "+ 可以直接接入应用软件\n",
    " "
   ]
  },
  {
   "cell_type": "markdown",
   "metadata": {
    "nbpresent": {
     "id": "49606012-c63a-4cb3-9712-3d8bcb08215d"
    },
    "slideshow": {
     "slide_type": "slide"
    }
   },
   "source": [
    " \n",
    "## 成绩评定\n",
    "\n",
    "+ 平时成绩40分，个人作业 + 分组大作业（2次）\n",
    "\n",
    "+ 随堂测试（3次左右）+ 考试 60分\n",
    "\n",
    "+ 考虑到可能对期末考试分数 进行 rescale，上述比例仅供参考。\n",
    "\n",
    "## Course.pku.edu\n",
    "\n",
    "\n",
    "\n",
    "+ 课程的讲义，为ipython notebook 文档、 html 或 pdf文档。\n",
    "\n",
    "+ 作业会在该网站发布并通过该网站提交，如果有特别需要的同学，请和助教联系。\n",
    "\n",
    "+ 请同学们自行分组，每位同学都加入某分组，并**必须**在教学网注册分组，否则看不到分组作业，得不到分组作业分数。"
   ]
  },
  {
   "cell_type": "markdown",
   "metadata": {
    "nbpresent": {
     "id": "4209c972-fe41-465a-a86e-72e8a1db3713"
    },
    "slideshow": {
     "slide_type": "slide"
    }
   },
   "source": [
    "## 答疑\n",
    "\n",
    "\n",
    "答疑：每单周四下午 1：00--3:00，办公室一号楼，1525E（两周后）  heyb@math.pku.edu.cn \n",
    "\n",
    " \n"
   ]
  }
 ],
 "metadata": {
  "anaconda-cloud": {},
  "celltoolbar": "幻灯片",
  "kernelspec": {
   "display_name": "Python 3",
   "language": "python",
   "name": "python3"
  },
  "language_info": {
   "codemirror_mode": {
    "name": "ipython",
    "version": 3
   },
   "file_extension": ".py",
   "mimetype": "text/x-python",
   "name": "python",
   "nbconvert_exporter": "python",
   "pygments_lexer": "ipython3",
   "version": "3.9.4"
  },
  "nbpresent": {
   "slides": {
    "19e96c35-6dbd-4c2e-bd42-e36dfd4baf28": {
     "id": "19e96c35-6dbd-4c2e-bd42-e36dfd4baf28",
     "prev": "e27a8784-cebc-48f4-9c0a-4ffe1cf1795d",
     "regions": {
      "6d0c4b41-3a7b-4951-bdb6-b99e08323544": {
       "attrs": {
        "height": 0.8,
        "width": 0.8,
        "x": 0.1,
        "y": 0.1
       },
       "content": {
        "cell": "1e29a5f6-8daf-4438-b2b2-c4780765185c",
        "part": "whole"
       },
       "id": "6d0c4b41-3a7b-4951-bdb6-b99e08323544"
      }
     },
     "theme": "90c1b2f5-d06b-4720-89d6-2ef9a4a22c2c"
    },
    "1eb64509-3822-467d-9969-d3678253ab23": {
     "id": "1eb64509-3822-467d-9969-d3678253ab23",
     "prev": "9cf487fd-ca76-43d6-a05a-9b342ffe3cca",
     "regions": {
      "601b9179-9566-44e3-ba88-449553419855": {
       "attrs": {
        "height": 0.8,
        "width": 0.8,
        "x": 0.1,
        "y": 0.1
       },
       "content": {
        "cell": "49606012-c63a-4cb3-9712-3d8bcb08215d",
        "part": "whole"
       },
       "id": "601b9179-9566-44e3-ba88-449553419855"
      }
     }
    },
    "1fe77b1c-1629-4e07-aedf-bebe5be5565a": {
     "id": "1fe77b1c-1629-4e07-aedf-bebe5be5565a",
     "prev": "1eb64509-3822-467d-9969-d3678253ab23",
     "regions": {
      "4b6e5c21-92ed-47d2-a30d-413eebc97cee": {
       "attrs": {
        "height": 0.8,
        "width": 0.8,
        "x": 0.1,
        "y": 0.1
       },
       "content": {
        "cell": "4209c972-fe41-465a-a86e-72e8a1db3713",
        "part": "whole"
       },
       "id": "4b6e5c21-92ed-47d2-a30d-413eebc97cee"
      }
     }
    },
    "2d5a64c6-3bd2-41d8-ba71-33ad71d07dd4": {
     "id": "2d5a64c6-3bd2-41d8-ba71-33ad71d07dd4",
     "prev": "a0199c33-dd74-4a99-a930-f334b50c22c0",
     "regions": {
      "01692f04-0b3b-43ae-b2af-3675f920cc1b": {
       "attrs": {
        "height": 0.8,
        "width": 0.8,
        "x": 0.1,
        "y": 0.1
       },
       "content": {
        "cell": "36401fc7-c7be-4da3-bc82-e162dd21fb9b",
        "part": "whole"
       },
       "id": "01692f04-0b3b-43ae-b2af-3675f920cc1b"
      }
     }
    },
    "6f7600fb-ccfb-42c6-bc14-c8dbf198a971": {
     "id": "6f7600fb-ccfb-42c6-bc14-c8dbf198a971",
     "prev": "2d5a64c6-3bd2-41d8-ba71-33ad71d07dd4",
     "regions": {
      "60688969-212e-4cca-9ad2-974e6e59fb4f": {
       "attrs": {
        "height": 0.8,
        "width": 0.8,
        "x": 0.1,
        "y": 0.1
       },
       "content": {
        "cell": "7d9e5a17-038f-4ba9-9e15-c9ee3ce4bf26",
        "part": "whole"
       },
       "id": "60688969-212e-4cca-9ad2-974e6e59fb4f"
      }
     }
    },
    "77f6a745-a306-43f4-b031-49f55ed28307": {
     "id": "77f6a745-a306-43f4-b031-49f55ed28307",
     "prev": "19e96c35-6dbd-4c2e-bd42-e36dfd4baf28",
     "regions": {
      "420c1db9-a15e-406e-af00-1f91454209d5": {
       "attrs": {
        "height": 0.8,
        "width": 0.8,
        "x": 0.1,
        "y": 0.1
       },
       "content": {
        "cell": "3e8afca4-11d6-4722-ae44-37e5c195009b",
        "part": "whole"
       },
       "id": "420c1db9-a15e-406e-af00-1f91454209d5"
      }
     }
    },
    "9cf487fd-ca76-43d6-a05a-9b342ffe3cca": {
     "id": "9cf487fd-ca76-43d6-a05a-9b342ffe3cca",
     "prev": "ab578fc4-9964-464e-bc2f-83a53e15ff39",
     "regions": {
      "2cda22f7-ec90-4681-ad76-d13f0bbd0c0a": {
       "attrs": {
        "height": 0.8,
        "width": 0.8,
        "x": 0.1,
        "y": 0.1
       },
       "content": {
        "cell": "64948c4a-283e-47b1-bf03-d09d2daf6764",
        "part": "whole"
       },
       "id": "2cda22f7-ec90-4681-ad76-d13f0bbd0c0a"
      }
     }
    },
    "a0199c33-dd74-4a99-a930-f334b50c22c0": {
     "id": "a0199c33-dd74-4a99-a930-f334b50c22c0",
     "prev": null,
     "regions": {
      "4cd42003-31a6-422d-bc8a-801d32d503ec": {
       "attrs": {
        "height": 0.9857714464001318,
        "width": 0.9737693585709097,
        "x": 0.017811789865110284,
        "y": 0.014419895478591035
       },
       "content": {
        "cell": "067d9b73-156d-4f48-a8bb-a5b6c9ab346e",
        "part": "whole"
       },
       "id": "4cd42003-31a6-422d-bc8a-801d32d503ec"
      }
     }
    },
    "ab578fc4-9964-464e-bc2f-83a53e15ff39": {
     "id": "ab578fc4-9964-464e-bc2f-83a53e15ff39",
     "prev": "77f6a745-a306-43f4-b031-49f55ed28307",
     "regions": {
      "7c9ba386-d577-4123-80fd-7ca3c9e24e89": {
       "attrs": {
        "height": 0.8,
        "width": 0.8,
        "x": 0.1,
        "y": 0.1
       },
       "content": {
        "cell": "be0a3493-3063-4fdb-9c55-5fa19858b087",
        "part": "whole"
       },
       "id": "7c9ba386-d577-4123-80fd-7ca3c9e24e89"
      }
     }
    },
    "e27a8784-cebc-48f4-9c0a-4ffe1cf1795d": {
     "id": "e27a8784-cebc-48f4-9c0a-4ffe1cf1795d",
     "prev": "6f7600fb-ccfb-42c6-bc14-c8dbf198a971",
     "regions": {
      "bd603307-e81f-4741-83c8-564e0ce4ea68": {
       "attrs": {
        "height": 0.8,
        "width": 0.8,
        "x": 0.1,
        "y": 0.1
       },
       "content": {
        "cell": "db874712-f82a-424c-ba59-a7b465ad68f4",
        "part": "whole"
       },
       "id": "bd603307-e81f-4741-83c8-564e0ce4ea68"
      }
     }
    }
   },
   "themes": {
    "default": "90c1b2f5-d06b-4720-89d6-2ef9a4a22c2c",
    "theme": {
     "5890a461-e53d-4952-a5b1-c546602361e6": {
      "backgrounds": {
       "backgroundColor": {
        "background-color": "backgroundColor",
        "id": "backgroundColor"
       }
      },
      "id": "5890a461-e53d-4952-a5b1-c546602361e6",
      "palette": {
       "backgroundColor": {
        "id": "backgroundColor",
        "rgb": [
         253,
         246,
         227
        ]
       },
       "headingColor": {
        "id": "headingColor",
        "rgb": [
         88,
         110,
         117
        ]
       },
       "linkColor": {
        "id": "linkColor",
        "rgb": [
         38,
         139,
         210
        ]
       },
       "mainColor": {
        "id": "mainColor",
        "rgb": [
         101,
         123,
         131
        ]
       }
      },
      "rules": {
       "a": {
        "color": "linkColor"
       },
       "h1": {
        "color": "headingColor",
        "font-family": "Oswald",
        "font-size": 7
       },
       "h2": {
        "color": "headingColor",
        "font-family": "Oswald",
        "font-size": 5
       },
       "h3": {
        "color": "headingColor",
        "font-family": "Oswald",
        "font-size": 3.75
       },
       "h4": {
        "color": "headingColor",
        "font-family": "Oswald",
        "font-size": 3
       },
       "h5": {
        "color": "headingColor",
        "font-family": "Oswald"
       },
       "h6": {
        "color": "headingColor",
        "font-family": "Oswald"
       },
       "h7": {
        "color": "headingColor",
        "font-family": "Oswald"
       },
       "li": {
        "color": "mainColor",
        "font-family": "Lato",
        "font-size": 5
       },
       "p": {
        "color": "mainColor",
        "font-family": "Lato",
        "font-size": 5
       }
      },
      "text-base": {
       "color": "mainColor",
       "font-family": "Lato",
       "font-size": 5
      }
     },
     "90c1b2f5-d06b-4720-89d6-2ef9a4a22c2c": {
      "backgrounds": {
       "backgroundColor": {
        "background-color": "backgroundColor",
        "id": "backgroundColor"
       }
      },
      "id": "90c1b2f5-d06b-4720-89d6-2ef9a4a22c2c",
      "palette": {
       "backgroundColor": {
        "id": "backgroundColor",
        "rgb": [
         256,
         256,
         256
        ]
       },
       "headingColor": {
        "id": "headingColor",
        "rgb": [
         0,
         0,
         0
        ]
       },
       "linkColor": {
        "id": "linkColor",
        "rgb": [
         0,
         0,
         139
        ]
       },
       "mainColor": {
        "id": "mainColor",
        "rgb": [
         0,
         0,
         0
        ]
       }
      },
      "rules": {
       "a": {
        "color": "linkColor"
       },
       "h1": {
        "color": "headingColor",
        "font-family": "News Cycle",
        "font-size": 7
       },
       "h2": {
        "color": "headingColor",
        "font-family": "News Cycle",
        "font-size": 5
       },
       "h3": {
        "color": "headingColor",
        "font-family": "News Cycle",
        "font-size": 3.75
       },
       "h4": {
        "color": "headingColor",
        "font-family": "News Cycle",
        "font-size": 3
       },
       "h5": {
        "color": "headingColor",
        "font-family": "News Cycle"
       },
       "h6": {
        "color": "headingColor",
        "font-family": "News Cycle"
       },
       "h7": {
        "color": "headingColor",
        "font-family": "News Cycle"
       },
       "li": {
        "color": "mainColor",
        "font-family": "Lato",
        "font-size": 5
       },
       "p": {
        "color": "mainColor",
        "font-family": "Lato",
        "font-size": 5
       }
      },
      "text-base": {
       "color": "mainColor",
       "font-family": "Lato",
       "font-size": 5
      }
     }
    }
   }
  },
  "toc": {
   "base_numbering": 1,
   "nav_menu": {},
   "number_sections": true,
   "sideBar": true,
   "skip_h1_title": false,
   "title_cell": "Table of Contents",
   "title_sidebar": "Contents",
   "toc_cell": false,
   "toc_position": {},
   "toc_section_display": true,
   "toc_window_display": false
  }
 },
 "nbformat": 4,
 "nbformat_minor": 1
}
