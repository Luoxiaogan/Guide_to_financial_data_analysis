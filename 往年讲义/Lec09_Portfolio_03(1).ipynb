{
 "cells": [
  {
   "cell_type": "markdown",
   "metadata": {
    "slideshow": {
     "slide_type": "slide"
    }
   },
   "source": [
    "# 基于数值优化的投资组合分析\n",
    "\n",
    "+ 当卖空被限制时，优化问题变为有线性不等式约束的二次优化问题，优化变得比较复杂。\n",
    "+ 投资组合的优化问题就很难用简单的拉格朗日乘子法求解。我们需要借助于优化技术\n",
    "+ 这节我们利用数值优化的计算投资组合"
   ]
  },
  {
   "cell_type": "markdown",
   "metadata": {},
   "source": [
    "## 首先定义一些相关的函数"
   ]
  },
  {
   "cell_type": "code",
   "execution_count": 1,
   "metadata": {
    "slideshow": {
     "slide_type": "slide"
    }
   },
   "outputs": [],
   "source": [
    "import pandas as pd\n",
    "import numpy as np\n",
    "from datetime import datetime\n",
    "import scipy as sp\n",
    "import scipy.optimize as scopt\n",
    "import scipy.stats as spstats\n",
    "import matplotlib.pyplot as plt\n",
    "import matplotlib.mlab as mlab\n",
    "from ipywidgets import interact, FloatSlider \n"
   ]
  },
  {
   "cell_type": "code",
   "execution_count": 2,
   "metadata": {
    "scrolled": true
   },
   "outputs": [
    {
     "data": {
      "text/html": [
       "<div>\n",
       "<style scoped>\n",
       "    .dataframe tbody tr th:only-of-type {\n",
       "        vertical-align: middle;\n",
       "    }\n",
       "\n",
       "    .dataframe tbody tr th {\n",
       "        vertical-align: top;\n",
       "    }\n",
       "\n",
       "    .dataframe thead th {\n",
       "        text-align: right;\n",
       "    }\n",
       "</style>\n",
       "<table border=\"1\" class=\"dataframe\">\n",
       "  <thead>\n",
       "    <tr style=\"text-align: right;\">\n",
       "      <th></th>\n",
       "      <th>600352.SH</th>\n",
       "      <th>600109.SH</th>\n",
       "      <th>601939.SH</th>\n",
       "    </tr>\n",
       "    <tr>\n",
       "      <th>date</th>\n",
       "      <th></th>\n",
       "      <th></th>\n",
       "      <th></th>\n",
       "    </tr>\n",
       "  </thead>\n",
       "  <tbody>\n",
       "    <tr>\n",
       "      <th>2008-01-02</th>\n",
       "      <td>3.8117</td>\n",
       "      <td>15.5625</td>\n",
       "      <td>5.5453</td>\n",
       "    </tr>\n",
       "    <tr>\n",
       "      <th>2008-01-03</th>\n",
       "      <td>3.9152</td>\n",
       "      <td>15.8259</td>\n",
       "      <td>5.5001</td>\n",
       "    </tr>\n",
       "  </tbody>\n",
       "</table>\n",
       "</div>"
      ],
      "text/plain": [
       "           600352.SH  600109.SH 601939.SH\n",
       "date                                     \n",
       "2008-01-02    3.8117    15.5625    5.5453\n",
       "2008-01-03    3.9152    15.8259    5.5001"
      ]
     },
     "execution_count": 2,
     "metadata": {},
     "output_type": "execute_result"
    }
   ],
   "source": [
    "#浙江龙盛，国金证券，建设银行\n",
    "#import os\n",
    "#os.chdir('E:\\\\teaching\\\\2017datafin\\\\notebook')\n",
    "import pandas as pd\n",
    "data=pd.read_excel(\"data/portfolioclosedata.xlsx\",index_col=0,parse_dates=True)\n",
    "\n",
    "tickers=[\"600352.SH\",\"600109.SH\",\"601939.SH\"]\n",
    "start_date=\"2008-1-1\"\n",
    "end_date=\"2015-1-1\"\n",
    "closes=data[tickers].loc[start_date:end_date]\n",
    "closes.head(2)"
   ]
  },
  {
   "cell_type": "code",
   "execution_count": 3,
   "metadata": {},
   "outputs": [
    {
     "data": {
      "text/html": [
       "<div>\n",
       "<style scoped>\n",
       "    .dataframe tbody tr th:only-of-type {\n",
       "        vertical-align: middle;\n",
       "    }\n",
       "\n",
       "    .dataframe tbody tr th {\n",
       "        vertical-align: top;\n",
       "    }\n",
       "\n",
       "    .dataframe thead th {\n",
       "        text-align: right;\n",
       "    }\n",
       "</style>\n",
       "<table border=\"1\" class=\"dataframe\">\n",
       "  <thead>\n",
       "    <tr style=\"text-align: right;\">\n",
       "      <th></th>\n",
       "      <th>600352.SH</th>\n",
       "      <th>600109.SH</th>\n",
       "      <th>601939.SH</th>\n",
       "    </tr>\n",
       "    <tr>\n",
       "      <th>date</th>\n",
       "      <th></th>\n",
       "      <th></th>\n",
       "      <th></th>\n",
       "    </tr>\n",
       "  </thead>\n",
       "  <tbody>\n",
       "    <tr>\n",
       "      <th>2014-12-30</th>\n",
       "      <td>8.8728</td>\n",
       "      <td>19.1602</td>\n",
       "      <td>5.2242</td>\n",
       "    </tr>\n",
       "    <tr>\n",
       "      <th>2014-12-31</th>\n",
       "      <td>9.0429</td>\n",
       "      <td>19.3361</td>\n",
       "      <td>5.3514</td>\n",
       "    </tr>\n",
       "  </tbody>\n",
       "</table>\n",
       "</div>"
      ],
      "text/plain": [
       "           600352.SH  600109.SH 601939.SH\n",
       "date                                     \n",
       "2014-12-30    8.8728    19.1602    5.2242\n",
       "2014-12-31    9.0429    19.3361    5.3514"
      ]
     },
     "execution_count": 3,
     "metadata": {},
     "output_type": "execute_result"
    }
   ],
   "source": [
    "closes.tail(2)"
   ]
  },
  {
   "cell_type": "markdown",
   "metadata": {
    "slideshow": {
     "slide_type": "slide"
    }
   },
   "source": [
    "+ 利用日数据计算各频率收益率"
   ]
  },
  {
   "cell_type": "code",
   "execution_count": 4,
   "metadata": {
    "slideshow": {
     "slide_type": "-"
    }
   },
   "outputs": [],
   "source": [
    "def calc_returns(closes,freq=\"W-FRI\",tye=\"simple\"): \n",
    "    returndaily=np.log(closes.astype('float')).diff()\n",
    "    returns=returndaily.resample(freq).sum() \n",
    "    if tye==\"simple\":\n",
    "        return np.exp(returns)-1\n",
    "    elif tye==\"log\":\n",
    "        return returns"
   ]
  },
  {
   "cell_type": "code",
   "execution_count": 5,
   "metadata": {
    "slideshow": {
     "slide_type": "slide"
    }
   },
   "outputs": [
    {
     "data": {
      "text/html": [
       "<div>\n",
       "<style scoped>\n",
       "    .dataframe tbody tr th:only-of-type {\n",
       "        vertical-align: middle;\n",
       "    }\n",
       "\n",
       "    .dataframe tbody tr th {\n",
       "        vertical-align: top;\n",
       "    }\n",
       "\n",
       "    .dataframe thead th {\n",
       "        text-align: right;\n",
       "    }\n",
       "</style>\n",
       "<table border=\"1\" class=\"dataframe\">\n",
       "  <thead>\n",
       "    <tr style=\"text-align: right;\">\n",
       "      <th></th>\n",
       "      <th>600352.SH</th>\n",
       "      <th>600109.SH</th>\n",
       "      <th>601939.SH</th>\n",
       "    </tr>\n",
       "    <tr>\n",
       "      <th>date</th>\n",
       "      <th></th>\n",
       "      <th></th>\n",
       "      <th></th>\n",
       "    </tr>\n",
       "  </thead>\n",
       "  <tbody>\n",
       "    <tr>\n",
       "      <th>2008-12-31</th>\n",
       "      <td>-0.650786</td>\n",
       "      <td>-0.633793</td>\n",
       "      <td>-0.595549</td>\n",
       "    </tr>\n",
       "    <tr>\n",
       "      <th>2009-12-31</th>\n",
       "      <td>2.672526</td>\n",
       "      <td>1.035058</td>\n",
       "      <td>0.637195</td>\n",
       "    </tr>\n",
       "    <tr>\n",
       "      <th>2010-12-31</th>\n",
       "      <td>0.036535</td>\n",
       "      <td>-0.394611</td>\n",
       "      <td>-0.212451</td>\n",
       "    </tr>\n",
       "    <tr>\n",
       "      <th>2011-12-31</th>\n",
       "      <td>-0.507391</td>\n",
       "      <td>-0.321479</td>\n",
       "      <td>0.031918</td>\n",
       "    </tr>\n",
       "    <tr>\n",
       "      <th>2012-12-31</th>\n",
       "      <td>0.078883</td>\n",
       "      <td>0.811360</td>\n",
       "      <td>0.070038</td>\n",
       "    </tr>\n",
       "    <tr>\n",
       "      <th>2013-12-31</th>\n",
       "      <td>1.215373</td>\n",
       "      <td>-0.042957</td>\n",
       "      <td>-0.042686</td>\n",
       "    </tr>\n",
       "    <tr>\n",
       "      <th>2014-12-31</th>\n",
       "      <td>0.515739</td>\n",
       "      <td>1.341272</td>\n",
       "      <td>0.750654</td>\n",
       "    </tr>\n",
       "  </tbody>\n",
       "</table>\n",
       "</div>"
      ],
      "text/plain": [
       "            600352.SH  600109.SH  601939.SH\n",
       "date                                       \n",
       "2008-12-31  -0.650786  -0.633793  -0.595549\n",
       "2009-12-31   2.672526   1.035058   0.637195\n",
       "2010-12-31   0.036535  -0.394611  -0.212451\n",
       "2011-12-31  -0.507391  -0.321479   0.031918\n",
       "2012-12-31   0.078883   0.811360   0.070038\n",
       "2013-12-31   1.215373  -0.042957  -0.042686\n",
       "2014-12-31   0.515739   1.341272   0.750654"
      ]
     },
     "execution_count": 5,
     "metadata": {},
     "output_type": "execute_result"
    }
   ],
   "source": [
    "returns=calc_returns(closes,\"A\")\n",
    "returns\n"
   ]
  },
  {
   "cell_type": "markdown",
   "metadata": {
    "slideshow": {
     "slide_type": "slide"
    }
   },
   "source": [
    "+ 我们定义投资组合的权重函数如下："
   ]
  },
  {
   "cell_type": "code",
   "execution_count": 6,
   "metadata": {},
   "outputs": [],
   "source": [
    "def create_portfolio(tickers, weights=None):\n",
    "    if weights is None: \n",
    "        weights = np.ones(len(tickers))/len(tickers)\n",
    "    portfolio = pd.DataFrame({'Tickers': tickers, \n",
    "                              'Weights': weights}, \n",
    "                             index=tickers)\n",
    "    return portfolio"
   ]
  },
  {
   "cell_type": "code",
   "execution_count": 7,
   "metadata": {},
   "outputs": [
    {
     "data": {
      "text/html": [
       "<div>\n",
       "<style scoped>\n",
       "    .dataframe tbody tr th:only-of-type {\n",
       "        vertical-align: middle;\n",
       "    }\n",
       "\n",
       "    .dataframe tbody tr th {\n",
       "        vertical-align: top;\n",
       "    }\n",
       "\n",
       "    .dataframe thead th {\n",
       "        text-align: right;\n",
       "    }\n",
       "</style>\n",
       "<table border=\"1\" class=\"dataframe\">\n",
       "  <thead>\n",
       "    <tr style=\"text-align: right;\">\n",
       "      <th></th>\n",
       "      <th>Tickers</th>\n",
       "      <th>Weights</th>\n",
       "    </tr>\n",
       "  </thead>\n",
       "  <tbody>\n",
       "    <tr>\n",
       "      <th>600352.SH</th>\n",
       "      <td>600352.SH</td>\n",
       "      <td>0.5</td>\n",
       "    </tr>\n",
       "    <tr>\n",
       "      <th>600109.SH</th>\n",
       "      <td>600109.SH</td>\n",
       "      <td>0.2</td>\n",
       "    </tr>\n",
       "    <tr>\n",
       "      <th>601939.SH</th>\n",
       "      <td>601939.SH</td>\n",
       "      <td>0.3</td>\n",
       "    </tr>\n",
       "  </tbody>\n",
       "</table>\n",
       "</div>"
      ],
      "text/plain": [
       "             Tickers  Weights\n",
       "600352.SH  600352.SH      0.5\n",
       "600109.SH  600109.SH      0.2\n",
       "601939.SH  601939.SH      0.3"
      ]
     },
     "execution_count": 7,
     "metadata": {},
     "output_type": "execute_result"
    }
   ],
   "source": [
    "portfolio=create_portfolio(tickers,[0.5,0.2,0.3])\n",
    "portfolio"
   ]
  },
  {
   "cell_type": "markdown",
   "metadata": {
    "slideshow": {
     "slide_type": "slide"
    }
   },
   "source": [
    "+ 计算 投资组合收益率"
   ]
  },
  {
   "cell_type": "code",
   "execution_count": 8,
   "metadata": {
    "slideshow": {
     "slide_type": "-"
    }
   },
   "outputs": [],
   "source": [
    "def calculate_weighted_portfolio_value(portfolio, \n",
    "                                       returns, \n",
    "                                       name='Value'):\n",
    "    total_weights = portfolio.Weights.sum()\n",
    "    weighted_returns = returns * (portfolio.Weights / \n",
    "                                  total_weights)\n",
    "    return pd.DataFrame({name: weighted_returns.sum(axis=1)})\n"
   ]
  },
  {
   "cell_type": "markdown",
   "metadata": {
    "slideshow": {
     "slide_type": "slide"
    }
   },
   "source": [
    "+ 下面我们画出投资组合收益率和各资产收益率图形"
   ]
  },
  {
   "cell_type": "code",
   "execution_count": 9,
   "metadata": {
    "scrolled": false,
    "slideshow": {
     "slide_type": "-"
    }
   },
   "outputs": [
    {
     "data": {
      "text/plain": [
       "<matplotlib.axes._subplots.AxesSubplot at 0x2aa660b9100>"
      ]
     },
     "execution_count": 9,
     "metadata": {},
     "output_type": "execute_result"
    },
    {
     "data": {
      "image/png": "[encoded data removed]",
      "text/plain": [
       "<Figure size 576x432 with 1 Axes>"
      ]
     },
     "metadata": {
      "needs_background": "light"
     },
     "output_type": "display_data"
    }
   ],
   "source": [
    "%matplotlib inline\n",
    "portret=calculate_weighted_portfolio_value(portfolio,returns)\n",
    "fig=plt.figure(figsize=(8,6))\n",
    "ax = fig.add_subplot(1, 1, 1)\n",
    "returns.plot(ax=ax)\n",
    "plt.xlabel('Year')\n",
    "plt.ylabel('Returns')\n",
    "portret.plot(ax=ax)"
   ]
  },
  {
   "cell_type": "markdown",
   "metadata": {
    "slideshow": {
     "slide_type": "slide"
    }
   },
   "source": [
    "## 模拟\n",
    "\n",
    "+ 投资组合的标准差计算如下\n",
    "+ 投资组合表示简化"
   ]
  },
  {
   "cell_type": "code",
   "execution_count": 10,
   "metadata": {},
   "outputs": [],
   "source": [
    "def calc_portfolio_std(returns=None,sigma=None, weights=None):\n",
    "    if weights is None: \n",
    "        weights = np.ones(returns.columns.size) / \\\n",
    "        returns.columns.size\n",
    "    if returns is not None:\n",
    "        sigma = returns.cov()\n",
    "    ## the the same result as the  matrix dot\n",
    "    var = weights.dot(sigma).dot(weights)\n",
    "    return np.sqrt(var)"
   ]
  },
  {
   "cell_type": "code",
   "execution_count": 11,
   "metadata": {},
   "outputs": [
    {
     "data": {
      "text/plain": [
       "array([0.82581819, 0.47396589, 0.66665265, 0.43469956, 0.68971224,\n",
       "       0.56731275, 0.59668703, 0.43496785, 0.81547582, 0.6536974 ])"
      ]
     },
     "execution_count": 11,
     "metadata": {},
     "output_type": "execute_result"
    }
   ],
   "source": [
    "np.random.rand(10)"
   ]
  },
  {
   "cell_type": "markdown",
   "metadata": {},
   "source": [
    "随机权重"
   ]
  },
  {
   "cell_type": "code",
   "execution_count": 12,
   "metadata": {},
   "outputs": [],
   "source": [
    "def rand_weights(n,par1=0):\n",
    "    ''' Produces n random weights that sum to 1 '''\n",
    "    k = np.random.rand(n)\n",
    "    k = k *(1+par1*n)/ sum(k)-par1\n",
    "    return k\n",
    "\n",
    "def rand_portfolio_meanstd(returns,par1=0,nsamples=500):\n",
    "    sig = returns.cov()\n",
    "    means=returns.mean()\n",
    "    n_assets=returns.shape[1]\n",
    "    out=[]\n",
    "    for i in range(nsamples):\n",
    "        weight=rand_weights(n_assets,par1)\n",
    "        std=calc_portfolio_std(sigma=sig,weights=weight)\n",
    "        mean=sum(means*weight)\n",
    "        out.append([mean,std])\n",
    "    out=pd.DataFrame(out,columns=[\"mean\",\"std\"])\n",
    "    return(out)\n"
   ]
  },
  {
   "cell_type": "code",
   "execution_count": 13,
   "metadata": {},
   "outputs": [
    {
     "data": {
      "text/plain": [
       "array([0.02207433, 0.39849032, 0.89821027, 0.10836198, 0.12976809,\n",
       "       0.85469348, 0.58194924, 0.57291403, 0.11221771, 0.28101178])"
      ]
     },
     "execution_count": 13,
     "metadata": {},
     "output_type": "execute_result"
    }
   ],
   "source": [
    "np.random.rand(10)"
   ]
  },
  {
   "cell_type": "code",
   "execution_count": 14,
   "metadata": {},
   "outputs": [
    {
     "data": {
      "text/html": [
       "<div>\n",
       "<style scoped>\n",
       "    .dataframe tbody tr th:only-of-type {\n",
       "        vertical-align: middle;\n",
       "    }\n",
       "\n",
       "    .dataframe tbody tr th {\n",
       "        vertical-align: top;\n",
       "    }\n",
       "\n",
       "    .dataframe thead th {\n",
       "        text-align: right;\n",
       "    }\n",
       "</style>\n",
       "<table border=\"1\" class=\"dataframe\">\n",
       "  <thead>\n",
       "    <tr style=\"text-align: right;\">\n",
       "      <th></th>\n",
       "      <th>600352.SH</th>\n",
       "      <th>600109.SH</th>\n",
       "      <th>601939.SH</th>\n",
       "    </tr>\n",
       "    <tr>\n",
       "      <th>date</th>\n",
       "      <th></th>\n",
       "      <th></th>\n",
       "      <th></th>\n",
       "    </tr>\n",
       "  </thead>\n",
       "  <tbody>\n",
       "    <tr>\n",
       "      <th>2008-12-31</th>\n",
       "      <td>-0.650786</td>\n",
       "      <td>-0.633793</td>\n",
       "      <td>-0.595549</td>\n",
       "    </tr>\n",
       "    <tr>\n",
       "      <th>2009-12-31</th>\n",
       "      <td>2.672526</td>\n",
       "      <td>1.035058</td>\n",
       "      <td>0.637195</td>\n",
       "    </tr>\n",
       "    <tr>\n",
       "      <th>2010-12-31</th>\n",
       "      <td>0.036535</td>\n",
       "      <td>-0.394611</td>\n",
       "      <td>-0.212451</td>\n",
       "    </tr>\n",
       "    <tr>\n",
       "      <th>2011-12-31</th>\n",
       "      <td>-0.507391</td>\n",
       "      <td>-0.321479</td>\n",
       "      <td>0.031918</td>\n",
       "    </tr>\n",
       "    <tr>\n",
       "      <th>2012-12-31</th>\n",
       "      <td>0.078883</td>\n",
       "      <td>0.811360</td>\n",
       "      <td>0.070038</td>\n",
       "    </tr>\n",
       "  </tbody>\n",
       "</table>\n",
       "</div>"
      ],
      "text/plain": [
       "            600352.SH  600109.SH  601939.SH\n",
       "date                                       \n",
       "2008-12-31  -0.650786  -0.633793  -0.595549\n",
       "2009-12-31   2.672526   1.035058   0.637195\n",
       "2010-12-31   0.036535  -0.394611  -0.212451\n",
       "2011-12-31  -0.507391  -0.321479   0.031918\n",
       "2012-12-31   0.078883   0.811360   0.070038"
      ]
     },
     "execution_count": 14,
     "metadata": {},
     "output_type": "execute_result"
    }
   ],
   "source": [
    "returns.head()"
   ]
  },
  {
   "cell_type": "code",
   "execution_count": 15,
   "metadata": {},
   "outputs": [
    {
     "data": {
      "text/plain": [
       "<matplotlib.legend.Legend at 0x2aa65fb4f10>"
      ]
     },
     "execution_count": 15,
     "metadata": {},
     "output_type": "execute_result"
    },
    {
     "data": {
      "image/png": "[encoded data removed]",
      "text/plain": [
       "<Figure size 432x288 with 1 Axes>"
      ]
     },
     "metadata": {
      "needs_background": "light"
     },
     "output_type": "display_data"
    }
   ],
   "source": [
    "plt.rcParams['font.sans-serif'] = ['SimHei']  # 中文字体设置  \n",
    "plt.rcParams['axes.unicode_minus'] = False  \n",
    "\n",
    "sim=rand_portfolio_meanstd(returns,par1=0.8,nsamples=50000)\n",
    "sim1=rand_portfolio_meanstd(returns,par1=0,nsamples=50000)\n",
    "std0=np.sqrt(returns.cov().values.diagonal())\n",
    "mean0=returns.mean()\n",
    "plt.figure()\n",
    "plt.plot(sim[\"std\"],sim[\"mean\"], 'r*',markersize=3,label=\"可以卖空\")\n",
    "plt.plot(sim1[\"std\"],sim1[\"mean\"], 'bo',markersize=3,label=\"禁止卖空\")\n",
    "\n",
    "plt.plot(std0,mean0, 'm*',markersize=18,label=\"资产\" )\n",
    "plt.legend(loc=\"lower right\")"
   ]
  },
  {
   "cell_type": "markdown",
   "metadata": {},
   "source": [
    "## 优化\n",
    "\n",
    "+ 有效前沿\n",
    "+ 切线组合，\n",
    "\n",
    "\n",
    "\n",
    "\n",
    "\n",
    "限制包括：\n",
    "\n",
    "+ 权重和为1\n",
    "\n",
    "可选限制：\n",
    "\n",
    "+ 各权重是否在[0,1]之间\n"
   ]
  },
  {
   "cell_type": "markdown",
   "metadata": {},
   "source": [
    "+ 有效组合的计算\n",
    "\n",
    "\n",
    "\n",
    "假设有 N个资产，$R=(R_1,\\cdots,R_N)^T$， 收益率的期望，协方差矩阵分别为：\n",
    " \n",
    "$$E(R)=(\\mu_1,\\cdots,\\mu_N)^T$$\n",
    "$$Cov(R)=\\Omega$$\n",
    "投资组合权重为 $$\\omega=(\\omega_1,\\cdots,\\omega_N)$$\n",
    "\n",
    "给定的预期收益率为$\\mu_P$,求方差最小的投资组合的权重$\\omega_P$\n",
    "\n",
    "1. 没有卖空限制\n",
    "2. 不得卖空\n"
   ]
  },
  {
   "cell_type": "code",
   "execution_count": 16,
   "metadata": {},
   "outputs": [],
   "source": [
    "scopt.minimize?"
   ]
  },
  {
   "cell_type": "markdown",
   "metadata": {},
   "source": [
    "+ 输入 \n",
    "\n",
    "   \n",
    "    import scipy.optimize as scopt \n",
    "\n",
    "+ minimize 函数\n",
    "    \n",
    "    Minimization of scalar function of one or more variables.\n",
    "\n",
    "+ 语法：\n",
    "\n",
    "```\n",
    "编辑过：\n",
    "Signature: scopt.minimize(fun, x0, args=(), method=None, bounds=None, constraints=(), tol=None)\n",
    "```\n",
    "\n",
    "+ 参数：\n",
    "   + fun: 目标函数，第一个参数向量是优化的变量\n",
    "   + x0: 优化变量的初值\n",
    "   + method： 可供选择的优化方法\n",
    "   + 限制: \n",
    "     + bounds,上下界限制;     \n",
    "       + 仅对方法 L-BFGS-B, TNC 和 SLSQP,\n",
    "       + 对每个分量用(min, max)表示界，比如 (0,none)表示大于等于0 \n",
    "       + 两个变量都大于等于0，用 bounds=((0, None), (0, None))\n",
    "     + constraints\n",
    "       + 等式和不等式限制\n",
    "          $$g_i(x)\\geq 0 , i = 1,\\cdots,m$$\n",
    "          $$h_j(x)  = 0 , j = 1,\\cdots,p$$\n",
    "       + 仅对 COBYLA 和 SLSQP方法\n",
    "       + 字典和字典列， \n",
    "\n",
    "```           \n",
    " cons = ({'type': 'ineq', 'fun': lambda x:  x[0] - 2 * x[1] + 2},\n",
    "...         {'type': 'ineq', 'fun': lambda x: -x[0] - 2 * x[1] + 6},\n",
    "...         {'type': 'ineq', 'fun': lambda x: -x[0] + 2 * x[1] + 2})\n",
    "```"
   ]
  },
  {
   "cell_type": "markdown",
   "metadata": {},
   "source": [
    "+ 编辑函数"
   ]
  },
  {
   "cell_type": "code",
   "execution_count": 17,
   "metadata": {},
   "outputs": [],
   "source": [
    "def objfunvar(W, R, target_ret):\n",
    "    #stock_mean = np.mean(R,axis=0)\n",
    "    #port_mean = np.dot(W,stock_mean) # portfolio mean\n",
    "    cov=np.cov(R.T) # var-cov matrix\n",
    "    port_var = np.dot(np.dot(W,cov),W.T) # portfolio variance\n",
    "    #penalty = 2000*abs(port_mean-target_ret)# penalty 4 deviation\n",
    "    #return np.sqrt(port_var) + penalty # objective function\n",
    "    return np.sqrt(port_var)"
   ]
  },
  {
   "cell_type": "markdown",
   "metadata": {},
   "source": [
    "+ 计算有效前沿"
   ]
  },
  {
   "cell_type": "code",
   "execution_count": 18,
   "metadata": {},
   "outputs": [],
   "source": [
    "def calc_efficient_frontier(returns,sellshort=True):\n",
    "    result_means = []\n",
    "    result_stds = []\n",
    "    result_weights = []\n",
    "    \n",
    "    means = returns.mean()\n",
    "    min_mean, max_mean = means.min(), means.max()\n",
    "    \n",
    "    nstocks = returns.columns.size\n",
    "    if sellshort:\n",
    "        bounds=None\n",
    "    else:\n",
    "        bounds = [(0,1) for i in np.arange(nstocks)]\n",
    "    for r in np.linspace(min_mean, max_mean, 100):\n",
    "        weights = np.ones(nstocks)/nstocks        \n",
    "        constraints = ({'type': 'eq', \n",
    "                        'fun': lambda W: np.sum(W) - 1},\n",
    "                      {'type': 'eq', \n",
    "                        'fun': lambda W: np.sum(W*means) -r})\n",
    "        results = scopt.minimize(objfunvar, weights, (returns, r), \n",
    "                                 method='SLSQP', \n",
    "                                 constraints = constraints,\n",
    "                                 bounds = bounds)\n",
    "        if not results.success: # handle error\n",
    "            raise Exception(results.message)\n",
    "        result_means.append(np.round(r,4)) # 4 decimal places\n",
    "        #std_=np.round(np.std(np.sum(returns*results.x,axis=1)),6)\n",
    "        std_=objfunvar(results.x,returns,r)\n",
    "        result_stds.append(std_)        \n",
    "        result_weights.append(np.round(results.x, 5))\n",
    "    return {'Means': result_means, \n",
    "            'Stds': result_stds, \n",
    "            'Weights': result_weights}"
   ]
  },
  {
   "cell_type": "code",
   "execution_count": 19,
   "metadata": {},
   "outputs": [],
   "source": [
    "x=calc_efficient_frontier(returns)\n",
    "x1=calc_efficient_frontier(returns,sellshort=False)"
   ]
  },
  {
   "cell_type": "code",
   "execution_count": 20,
   "metadata": {
    "scrolled": false
   },
   "outputs": [
    {
     "data": {
      "text/plain": [
       "<matplotlib.axes._subplots.AxesSubplot at 0x2aa65e581c0>"
      ]
     },
     "execution_count": 20,
     "metadata": {},
     "output_type": "execute_result"
    },
    {
     "data": {
      "image/png": "[encoded data removed]",
      "text/plain": [
       "<Figure size 576x216 with 2 Axes>"
      ]
     },
     "metadata": {
      "needs_background": "light"
     },
     "output_type": "display_data"
    }
   ],
   "source": [
    "plt.figure(figsize=(8, 3))\n",
    "ax1=plt.subplot(121)\n",
    "pd.DataFrame(x['Weights']).plot(ax=ax1,title=\"short\")\n",
    "ax2=plt.subplot(122)\n",
    "pd.DataFrame(x1['Weights']).plot(ax=ax2,title=\"not short\",ylim=(-0.4,1.2))"
   ]
  },
  {
   "cell_type": "code",
   "execution_count": 21,
   "metadata": {},
   "outputs": [
    {
     "data": {
      "text/plain": [
       "Text(0, 0.5, 'Weights')"
      ]
     },
     "execution_count": 21,
     "metadata": {},
     "output_type": "execute_result"
    },
    {
     "data": {
      "image/png": "[encoded data removed]",
      "text/plain": [
       "<Figure size 576x216 with 2 Axes>"
      ]
     },
     "metadata": {
      "needs_background": "light"
     },
     "output_type": "display_data"
    }
   ],
   "source": [
    "plt.figure(figsize=(8, 3))\n",
    "ax1=plt.subplot(121)\n",
    "pd.DataFrame(x['Weights'],index=x['Means']).plot(ax=ax1,label=[\"x\",\"y\"])\n",
    "ax2=plt.subplot(122)\n",
    "pd.DataFrame(x['Weights'],index=x['Stds']).plot(ax=ax2)\n",
    "ax1.set_xlabel(\"Expected return\")\n",
    "ax2.set_xlabel(\"Std\")\n",
    "ax1.set_ylabel(\"Weights\")\n",
    "ax2.set_ylabel(\"Weights\")"
   ]
  },
  {
   "cell_type": "code",
   "execution_count": 22,
   "metadata": {},
   "outputs": [
    {
     "data": {
      "text/plain": [
       "<matplotlib.legend.Legend at 0x2aa66d7bb20>"
      ]
     },
     "execution_count": 22,
     "metadata": {},
     "output_type": "execute_result"
    },
    {
     "data": {
      "image/png": "[encoded data removed]",
      "text/plain": [
       "<Figure size 432x288 with 1 Axes>"
      ]
     },
     "metadata": {
      "needs_background": "light"
     },
     "output_type": "display_data"
    }
   ],
   "source": [
    "plt.rcParams['font.sans-serif'] = ['SimHei']  # 中文字体设置  \n",
    "plt.rcParams['axes.unicode_minus'] = False  \n",
    "plt.figure()\n",
    "plt.plot(x[\"Stds\"],x[\"Means\"],label=\"可以卖空\")\n",
    "plt.plot(x1[\"Stds\"],x1[\"Means\"],label=\"禁止卖空\")\n",
    "plt.legend(loc=\"center right\")"
   ]
  },
  {
   "cell_type": "code",
   "execution_count": 23,
   "metadata": {},
   "outputs": [],
   "source": [
    "start=\"2012-1-1\"\n",
    "end=\"2015-1-1\"\n",
    "freq=\"W-FRI\"\n",
    "close12_15=closes[start:end]\n",
    "returnsw=calc_returns(close12_15,freq).dropna(how=\"any\")\n",
    "xw=calc_efficient_frontier(returnsw)\n",
    "xw1=calc_efficient_frontier(returnsw,sellshort=False)"
   ]
  },
  {
   "cell_type": "code",
   "execution_count": 24,
   "metadata": {},
   "outputs": [
    {
     "data": {
      "text/plain": [
       "<matplotlib.legend.Legend at 0x2aa66ebb8e0>"
      ]
     },
     "execution_count": 24,
     "metadata": {},
     "output_type": "execute_result"
    },
    {
     "data": {
      "image/png": "[encoded data removed]",
      "text/plain": [
       "<Figure size 576x216 with 2 Axes>"
      ]
     },
     "metadata": {
      "needs_background": "light"
     },
     "output_type": "display_data"
    },
    {
     "data": {
      "image/png": "[encoded data removed]",
      "text/plain": [
       "<Figure size 432x288 with 1 Axes>"
      ]
     },
     "metadata": {
      "needs_background": "light"
     },
     "output_type": "display_data"
    }
   ],
   "source": [
    "plt.figure(figsize=(8, 3))\n",
    "ax1=plt.subplot(121)\n",
    "pd.DataFrame(xw['Weights']).plot(ax=ax1,title=\"可以卖空\")\n",
    "ax2=plt.subplot(122)\n",
    "pd.DataFrame(xw1['Weights']).plot(ax=ax2,title=\"禁止卖空\",ylim=(-0.2,1.2))\n",
    "plt.figure()\n",
    "plt.plot(xw[\"Stds\"],xw[\"Means\"],label=\"可以卖空\")\n",
    "plt.plot(xw1[\"Stds\"],xw1[\"Means\"],label=\"禁止卖空\")\n",
    "plt.legend(loc=\"center right\")"
   ]
  },
  {
   "cell_type": "markdown",
   "metadata": {},
   "source": [
    "+ 切线组合计算\n",
    "+ 优化sharpe ratio"
   ]
  },
  {
   "cell_type": "code",
   "execution_count": 25,
   "metadata": {},
   "outputs": [],
   "source": [
    "def negative_sharpe_ratio( weights,means,sig,risk_free_rate = 0.015):\n",
    "    # get the portfolio variance\n",
    "    std = calc_portfolio_std(sigma=sig, weights=weights)  \n",
    "    # and return the sharpe ratio\n",
    "    return -((means.dot(weights) - risk_free_rate)/(std))\n",
    "     "
   ]
  },
  {
   "cell_type": "code",
   "execution_count": 26,
   "metadata": {},
   "outputs": [],
   "source": [
    "def optimize_portfolio(returns, risk_free_rate,sellshort=True):\n",
    "    \"\"\" \n",
    "    Performs the optimization\n",
    "    \"\"\"\n",
    "    means=returns.mean()\n",
    "    sig=returns.cov()\n",
    "    if sellshort:\n",
    "        bounds=None\n",
    "    else:\n",
    "        bounds = [(0,1) for i in np.arange(returns.columns.size)]\n",
    "        \n",
    "    weights = np.ones(returns.columns.size, \n",
    "                 dtype=float) * 1.0 / returns.columns.size\n",
    "    # minimize the negative sharpe value\n",
    "    \n",
    "    \n",
    "    constraints = ({'type': 'eq', \n",
    "                        'fun': lambda W: np.sum(W) - 1})\n",
    "    results = scopt.minimize(negative_sharpe_ratio, weights, (means,sig, risk_free_rate), \n",
    "                                 method='SLSQP', \n",
    "                                 constraints = constraints,\n",
    "                                 bounds = bounds)\n",
    "    if not results.success: # handle error\n",
    "        raise Exception(results.message)\n",
    "    mean_sharpe=results.x.dot(means)    \n",
    "    std_sharpe=calc_portfolio_std(sigma=sig,weights=results.x)\n",
    "    return {'Means': mean_sharpe, \n",
    "            'Stds': std_sharpe, \n",
    "            'Weights': results.x}\n",
    "\n",
    "    "
   ]
  },
  {
   "cell_type": "code",
   "execution_count": 27,
   "metadata": {},
   "outputs": [
    {
     "data": {
      "text/plain": [
       "{'Means': 0.43595739515829646,\n",
       " 'Stds': 1.02283943934545,\n",
       " 'Weights': array([0.80257187, 0.19742813, 0.        ])}"
      ]
     },
     "execution_count": 27,
     "metadata": {},
     "output_type": "execute_result"
    }
   ],
   "source": [
    "risk_free_rate=0.06\n",
    "T=optimize_portfolio(returns,risk_free_rate ,sellshort=False)\n",
    "T"
   ]
  },
  {
   "cell_type": "code",
   "execution_count": 28,
   "metadata": {
    "scrolled": false
   },
   "outputs": [
    {
     "data": {
      "text/plain": [
       "<matplotlib.legend.Legend at 0x2aa66f58fd0>"
      ]
     },
     "execution_count": 28,
     "metadata": {},
     "output_type": "execute_result"
    },
    {
     "data": {
      "image/png": "[encoded data removed]",
      "text/plain": [
       "<Figure size 432x288 with 1 Axes>"
      ]
     },
     "metadata": {
      "needs_background": "light"
     },
     "output_type": "display_data"
    }
   ],
   "source": [
    "plt.figure()\n",
    "plt.plot(x[\"Stds\"],x[\"Means\"],label=\"可以卖空\")\n",
    "plt.plot(x1[\"Stds\"],x1[\"Means\"],label=\"禁止卖空\")\n",
    "plt.plot(T[\"Stds\"],T[\"Means\"],\"ro\",markersize=5,label=\"切线组合\")\n",
    "plt.plot(0,risk_free_rate,\"go\",markersize=5,label=\"无风险\")\n",
    "plt.plot([0,T[\"Stds\"]],[risk_free_rate,T[\"Means\"]])\n",
    "plt.xlim(-0.1,1)\n",
    "plt.ylim(0,0.4)\n",
    "plt.legend(loc=\"upper left\")\n"
   ]
  },
  {
   "cell_type": "markdown",
   "metadata": {},
   "source": [
    "### 作业：收益率分布和投资组合\n",
    "\n",
    "数据 \"指数行情序列daily.xlsx\" 包含沪深300，上证综指，深证综指，上证国债， 人民币实际指数，Wind商品指数，6种指数市场价格。完成以下作业\n",
    "\n",
    "+ 读入数据，对每个指数做基本统计分析，包括 \n",
    "  - 计算周，月，季度和年对数收益率\n",
    "  - 分析每个指数，每种频率（周，月，季度，年）收益率的分布（利用直方图，qq图，分布估计等工具和方法）\n",
    "  - 计算日，月度简单收益率，完成\n",
    "       + 选择所有指数都有数据的时间点为起点，将所有指数该时间点的价格标准化为100，利用日简单收益率推算各指数后面的价格，并在图中画出走势图。对走势图进行描述和分析。\n",
    "       + 在上述指数中选出3-6只，利用月度收益率进行投资组合分析，在允许卖空和禁止卖空的条件下计算有效前沿和最小方差组合。\n",
    "       + 重新考虑上述投资组合分析，将数据分为2组（按时间先后等分），利用每组数据进行投资组合分析并进行比较。\n",
    "      "
   ]
  }
 ],
 "metadata": {
  "anaconda-cloud": {},
  "celltoolbar": "Slideshow",
  "kernelspec": {
   "display_name": "Python 3",
   "language": "python",
   "name": "python3"
  },
  "language_info": {
   "codemirror_mode": {
    "name": "ipython",
    "version": 3
   },
   "file_extension": ".py",
   "mimetype": "text/x-python",
   "name": "python",
   "nbconvert_exporter": "python",
   "pygments_lexer": "ipython3",
   "version": "3.9.4"
  },
  "latex_envs": {
   "LaTeX_envs_menu_present": true,
   "autoclose": false,
   "autocomplete": true,
   "bibliofile": "biblio.bib",
   "cite_by": "apalike",
   "current_citInitial": 1,
   "eqLabelWithNumbers": true,
   "eqNumInitial": 1,
   "hotkeys": {
    "equation": "Ctrl-E",
    "itemize": "Ctrl-I"
   },
   "labels_anchors": false,
   "latex_user_defs": false,
   "report_style_numbering": false,
   "user_envs_cfg": false
  },
  "toc": {
   "base_numbering": 1,
   "nav_menu": {},
   "number_sections": true,
   "sideBar": true,
   "skip_h1_title": false,
   "title_cell": "Table of Contents",
   "title_sidebar": "Contents",
   "toc_cell": false,
   "toc_position": {},
   "toc_section_display": true,
   "toc_window_display": false
  }
 },
 "nbformat": 4,
 "nbformat_minor": 1
}
