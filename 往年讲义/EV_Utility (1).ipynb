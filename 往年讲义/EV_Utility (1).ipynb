{
 "cells": [
  {
   "cell_type": "markdown",
   "metadata": {},
   "source": [
    "## 效用(Utility)\n",
    "\n",
    "处理不确定下的决策问题，最流行的理论是期望效用理论。效用函数是财富的函数。\n",
    "假设$W_0$为0时刻的财富，投资组合X的期望收益率，$\\sum_{i=1}^Nx_iR_i$，则投资组合可以通过极大化效用函数U的期望获得\n",
    "\n",
    "$$x=\\arg\\max_{x}E[U(W_1)]=\\arg\\max_x E\\left\\{U\\left[ (1+\\sum_{i=1}^Nx_iR_i)W_0\\right]\\right\\}$$\n",
    "\n",
    "+ U: 期望效用函数(Expected Utility Function)\n",
    "+ x: 投资权重\n",
    "+ $R_i$:资产收益率"
   ]
  },
  {
   "cell_type": "markdown",
   "metadata": {},
   "source": [
    "### 期望效用函数的性质\n",
    "\n",
    "1. 对一个投资人来说，期望效用函数的 仿射(affine)变换是等价的。即如果$U(\\cdot)$描述某投资人的效用函数，$U^*(\\cdot)=c_1U(\\cdot)+c_2$也描述其同样的效应。\n",
    "\n",
    "2. 边际效用是正的,$$U'(W)>0.$$\n",
    "\n",
    "3. 风险厌恶\n"
   ]
  },
  {
   "cell_type": "markdown",
   "metadata": {},
   "source": [
    "\n",
    "**定义风险厌恶**\n",
    "\n",
    "不管有多少财富，代理人都不喜欢期望收益为0的风险资产，那么就称其是风险厌恶的。\n",
    "\n",
    "即对任意财务水平$W$，和零期望随机变量$\\varepsilon$满足 $$E[U(W+\\varepsilon)]<U(W)$$\n",
    "注意任意随机变量$X$都可以写成：$X=E(X)+\\varepsilon$。\n",
    "\n",
    "根据Jensen 不等式(凹函数，$E(U(W+\\varepsilon))<U(W)=U(E(W+\\varepsilon))$)，\n",
    "风险厌恶等价于其期望效用函数是凹函数(concave)$$U''(W)<0.$$\n",
    "\n",
    "+ 期望效用函数是凹函数能刻画风险厌恶"
   ]
  },
  {
   "cell_type": "markdown",
   "metadata": {},
   "source": [
    "## 风险厌恶和投资组合多样化\n",
    "\n",
    "+ 利用效用函数进行组合优化。考虑**独立同分布**的两资产的投资组合,要得到效用最大的投资组合，优化下面问题：\n",
    "\n",
    "$$\\max_x E\\{U[(1+xR_1+(1-x)R_2)W_0]\\}$$\n",
    "\n",
    "+  一阶条件\n",
    "\n",
    "$$  E\\{U'[(1+xR_1+(1-x)R_2)W_0](R_1-R_2)\\}=0 \\quad\\quad (1)$$\n",
    "当$x=1/2$时成立。\n",
    "\n",
    " 证明： 因为$R_1,R_2$独立同分布，$U'[(1+R_1/2+R_2/2)W_0]R_1$和$U'[(1+R_1/2+R_2/2)W_0]R_2$同分布。 \n",
    "\n",
    "+  二阶条件 \n",
    "\n",
    "对一个风险厌恶者满足，因为$U''<0$，所有当$x=1/2$时成立，\n",
    "$$  E\\{U''[(1+xR_1+(1-x)R_2)W_0](R_1-R_2)^2\\}<0 \\quad\\quad (2)$$\n",
    "\n",
    " \n",
    "\n",
    "+ 即对独立同分布资产，平均分配的组合效用极大。\n",
    "+ 数学问题：一阶条件的解是否唯一，$x=1/2$是不是唯一极大值点？"
   ]
  },
  {
   "cell_type": "markdown",
   "metadata": {},
   "source": [
    "### 度量风险厌恶\n",
    "\n",
    "#### 风险溢价和Arrow-Pratt Measure\n",
    "\n",
    "+ 风险厌恶者讨厌零均值风险资产，因此，一个直接的度量风险厌恶的量是其为摆脱零均值风险愿意付出的代价。\n",
    "+ $\\varepsilon$是均值为0的随机变量，风险溢价$\\pi$可以定义如下\n",
    "\n",
    "$$E(U(W+\\varepsilon))=U(W-\\pi)\\hspace{2cm}(2)$$\n",
    "\n",
    "+ 通常情况下，风险溢价由$\\varepsilon$的分布、初始财富$W$、以及效用函数$U$确定。\n"
   ]
  },
  {
   "cell_type": "markdown",
   "metadata": {},
   "source": [
    "##### 风险溢价的度量(cont.)\n",
    "\n",
    "+ 我们考虑简单的情形，用泰勒展式的一阶和二阶项来近似(2)式的两边\n",
    "\n",
    "左边\n",
    "\n",
    "$$E(U(W+\\varepsilon))\\approx E[U(W)+\\varepsilon U'(W)+\\frac{\\varepsilon^2}{2}U''(W)]=U(W)+\\frac{\\sigma_\\varepsilon^2}{2}U''(W), $$\n",
    "\n",
    "右边\n",
    "\n",
    "$$U(W-\\pi)\\approx U(W)-\\pi U'(W),$$\n",
    "其中$\\sigma_\\varepsilon^2$是$\\varepsilon$的方差。\n",
    "+ 代入(2)，得到\n",
    "$$\\pi \\approx \\frac{\\sigma_\\varepsilon^2}{2}A(W)，$$\n",
    "其中 $$A(W):=-\\frac{U''(W)}{U'(W)}$$\n",
    "\n",
    "+ 这就是Arrow-Pratt绝对风险厌恶度量，也可以看成效用函数凹度的度量。直观地，分母$U'$避免了度量受到效用函数仿射变化变换的影响。"
   ]
  },
  {
   "cell_type": "markdown",
   "metadata": {},
   "source": [
    "#### Pratt's Theorem\n",
    "\n",
    "代理人1 比代理人2在财富W处更加风险厌恶，则有$A_1(W)>A_2(W).$ 上述是关于风险厌恶的局部（即特定财富水平）陈述。关于风险厌恶的全局结论Pratt's Theorem表明下面三个陈述等价：\n",
    "\n",
    "1. $\\pi_1>\\pi_2$对所有零均值风险和财富$W$成立。\n",
    "2. $A_1(W)>A_2(W)$对所有财富$W$成立。\n",
    "3. 存在严格增的凹函数$G$，使得$U_1(W)=G(U_2(W))$，其中$U_1,U_2$是两人的效用函数。\n",
    "  （复合函数求导直接，利用凹函数二阶导数小于0，可以得到）"
   ]
  },
  {
   "cell_type": "markdown",
   "metadata": {},
   "source": [
    "#### 风险厌恶和财富的关系\n",
    "\n",
    "+ 通常认为绝对风险厌恶度量应该是财富的减函数\n",
    "\n",
    "财富为100块钱的时候损失100块，和财富为1,000,000的时候损失100块感觉是不一样的。因此，风险绝对厌恶降低。拥有100元是更希望消除损失100元的风险，而拥有1,000,000的人可能不愿意为消除损失100元支付更多。\n",
    "\n",
    "这个性质表示为：$$\\frac{d\\pi}{dW}<0 \\Leftrightarrow \\frac{dA(W)}{dW}<0$$\n",
    "即对所有$W$,$$A'(W)<0.$$\n",
    "\n",
    "即$$A'(W)=-\\frac{U'''(W)U'(W)-U''(W)^2}{U'(W)^2}<0$$\n",
    "这个要求效用函数的三阶导数是正的，$U'''(W)>0$。(因为$U'>0$)"
   ]
  },
  {
   "cell_type": "markdown",
   "metadata": {},
   "source": [
    "#### 均值方差分析（均值方差组合理论）和期望效用理论\n",
    "\n",
    "+ 均值方差组合理论认为投资者的偏好可以用均值和标准差描述，即偏好函数为$V(\\mu,\\sigma)$\n",
    "+ 标准的假设是：收益越大越好\n",
    " $$V_\\mu:=\\frac{\\partial V(\\mu,\\sigma)}{\\partial \\mu}>0$$\n",
    " 以及 风险越低越好\n",
    " $$V_\\sigma:=\\frac{\\partial V(\\mu,\\sigma)}{\\partial \\sigma}<0$$\n",
    "\n",
    "  第二个就是风险厌恶\n",
    "+ 如果有这样的偏好函数，投资组合优化就是我们讲过的方法，给定收益极小化风险，或者给定风险极大化收益。\n",
    "\n",
    " \n",
    "\n",
    "+ 期望方差分析和期望效应方法可能是不等价的."
   ]
  },
  {
   "cell_type": "markdown",
   "metadata": {},
   "source": [
    "#### 不等价的例子\n",
    "\n",
    "+ $X,Y$表示两个资产的绝对收益\n",
    "\n",
    "+ 收益分布分别为： \n",
    "\n",
    "  $$p(X=1)=0.8,p(X=100)=0.2$$\n",
    "\n",
    "  $$p(Y=10)=0.99,p(Y=1000)=0.01$$\n",
    "\n",
    "+ 期望和方差\n",
    " $$E(Y)=19.9<E(X)=20.8$$\n",
    "\n",
    "  $$Var(Y)=9702.99>Var(X)=1558.16$$\n",
    "\n",
    "+ 期望方差角度，$X$比$Y$好\n",
    "\n",
    "+ 取$U(W)=\\log W$，效用函数满足 $U'>0,U''<0$\n",
    "\n",
    "+ 不过 $X$期望效用小于$Y$期望效用\n",
    " $$E[U(X)]=0.9210<2.3486=E(U(Y))$$\n",
    " \n",
    "+ 什么时候两者等价？"
   ]
  },
  {
   "cell_type": "markdown",
   "metadata": {},
   "source": [
    "#### $\\mu - \\sigma$分析和期望效用理论 一致的条件？\n",
    "我们下面从两个约束上讨论一下：\n",
    "\n",
    "1. 效用函数的形式,二次效用\n",
    "2. 分布假设，正态假设\n"
   ]
  },
  {
   "cell_type": "markdown",
   "metadata": {},
   "source": [
    "### 二次效用\n",
    "\n",
    "+ 假设投资者的效用函数为 $U(W)=W-\\frac{b}{2}W^2,\\quad b>0$。 这里不考虑常数项和W的系数，因为效用函数对仿射变换等价。\n",
    "\n",
    "+ 边际效用 $U'(W)=1-bW>0$, 对 $W<1/b$成立,\n",
    "+ 并且 $U''(W)=-b<0$，要求$b>0$,\n",
    "+ 期望效应\n",
    "\n",
    "$$\\begin{array}{rl}\n",
    "E[U(W)]&=E(W)-\\frac{b}{2}E(W^2)\\\\\n",
    "&=E(W)-\\frac{b}{2}[Var(W)+E^2(W)]\\\\\n",
    "&=\\mu-\\frac{b}{2}[\\sigma^2+\\mu^2]\\\\\n",
    "&=:V(\\mu,\\sigma)\n",
    "\\end{array}$$\n",
    "是$\\mu,\\sigma$的函数。$V(\\mu,\\sigma)$也称$\\mu - \\sigma$偏好函数。\n",
    "\n",
    "+ 注意这里$\\mu,\\sigma$是财富均值和方差，和收益率均值方差略有不同，相差一个系数。\n",
    "\n",
    "+ 我们有\n",
    "$$V_\\mu:=\\frac{\\partial V}{\\partial \\mu}=1-b\\mu>0, \\mbox{当} \\max{W}<1/b$$\n",
    "$$V_\\sigma:=\\frac{\\partial V}{\\partial \\sigma}=-b\\sigma<0.$$\n",
    "\n",
    "在该框架下，显然方差是风险的近似度量。"
   ]
  },
  {
   "cell_type": "markdown",
   "metadata": {},
   "source": [
    "### $（\\sigma,\\mu）$ 空间的无差异曲线 indifference curve\n",
    "\n",
    "+ **定义**  效用水平$\\bar{V}$的$（\\sigma,\\mu）$ 空间的无差异曲线由$（\\sigma,\\mu）$空间中效用等于 $\\bar{V}$的点构成\n",
    "\n",
    "+ 对于二次效用函数，无差异曲线由如下公式确定\n",
    "$$\\mu-\\frac{b}{2}[\\sigma^2+\\mu^2]\\equiv \\bar{V}$$\n",
    " 两边同时乘以$-2/b$，再加$1/b^2$，可以得到\n",
    " $$\\sigma^2+\\left(\\mu-\\frac{1}{b}\\right)^2=\\frac{2}{b}(\\frac{1}{2b}-\\bar{V})\\equiv const$$\n",
    " \n",
    "+ 无差异曲线是以$(0,1/b)$为中心的半圆,注意这里需要V<1/(2b)"
   ]
  },
  {
   "cell_type": "code",
   "execution_count": 1,
   "metadata": {
    "scrolled": true
   },
   "outputs": [],
   "source": [
    "import numpy as np\n",
    "import scipy as sp\n",
    "import scipy.stats as stat\n",
    "import matplotlib.pyplot as plt\n",
    "%matplotlib inline\n",
    "from ipywidgets import interact, FloatSlider"
   ]
  },
  {
   "cell_type": "code",
   "execution_count": 2,
   "metadata": {},
   "outputs": [
    {
     "data": {
      "application/vnd.jupyter.widget-view+json": {
       "model_id": "0bed10e6564f48079a79b4476bb4e2c7",
       "version_major": 2,
       "version_minor": 0
      },
      "text/plain": [
       "interactive(children=(FloatSlider(value=0.5, description='V', max=1.9, min=0.5, step=0.3), Output()), _dom_cla…"
      ]
     },
     "metadata": {},
     "output_type": "display_data"
    }
   ],
   "source": [
    "plt.rcParams['font.sans-serif'] = ['SimHei']  # 中文字体设置  \n",
    "plt.rcParams['axes.unicode_minus'] = False  \n",
    "\n",
    "V=0.5\n",
    "V_slider = FloatSlider(min=0.5, max=1.9, step=0.3, value=V)\n",
    "\n",
    "@interact(V=V_slider)\n",
    "def semicircle_plot(V):\n",
    "    b=0.25\n",
    "    V1=1\n",
    "    V2=1.5 \n",
    "    fig, ax = plt.subplots(figsize=(5, 5))\n",
    "    for v in (V1,V2):\n",
    "        angl=np.linspace(-3.14/2,3.14/2,100)\n",
    "        k=50\n",
    "        rho=np.sqrt((2/b)*(1/2/b-v))\n",
    "        sigma=rho*np.cos(angl)\n",
    "        mu=rho*np.sin(angl)+1/b\n",
    "        ax.plot(sigma[:k],mu[:k],color=\"black\",  linewidth=v)\n",
    "        ax.plot(sigma[k:],mu[k:], color=\"black\", linewidth=v, linestyle='dashed')\n",
    "        ax.text(sigma[30] + 0.1, mu[30], r'$\\bar{V}=$'+str(v))\n",
    "    \n",
    "    rho=np.sqrt((2/b)*(1/2/b-V))\n",
    "    sigma=rho*np.cos(angl)\n",
    "    mu=rho*np.sin(angl)+1/b\n",
    "    ax.plot(sigma[:50],mu[:50],color=\"red\")\n",
    "    ax.plot(sigma[50:],mu[50:],color=\"red\", linestyle='dashed')\n",
    "    ax.set_title('二次效用的无差异曲线b=0.25')    \n",
    "    ax.xaxis.set_ticks(np.arange(0, 3.6,0.5))\n",
    "    ax.yaxis.set_ticks(np.arange(0, 8.1,1))\n",
    "    ax.set_xlabel('标准差,$\\sigma$')\n",
    "    ax.set_ylabel('均值，$\\mu$')\n",
    "    ax.axhline(4, c='b', ls='--')   \n",
    "    ax.text( 0.01,1/b+0.2, r'1/b')\n",
    "    plt.show()       \n",
    "     "
   ]
  },
  {
   "cell_type": "markdown",
   "metadata": {},
   "source": [
    "+ 从满足效用函数原则的角度，实线部分是我们的无差异曲线\n",
    "+ 实线部分描述的无差异效用曲线是凸函数，每条实线上的点的效用一样。越往西，北，意味方差越小，收益越好，其效用就越高。\n"
   ]
  },
  {
   "cell_type": "markdown",
   "metadata": {},
   "source": [
    "#### 二次效用的缺点\n",
    "\n",
    "+ 边际效用当$W>1/b$时是负数\n",
    "+ 二次函数暗含绝对风险厌恶是单调增加的，这违背直觉和事实。财富越多的人越少投资风险资产，这是荒谬的。\n",
    "\n",
    "$$A(W)=-\\frac{U''(W)}{U'(W)}=\\frac{b}{1-bW}$$\n",
    "因此 $$A'(W)=\\left(\\frac{b}{1-bW}\\right)^2>0$$\n"
   ]
  },
  {
   "cell_type": "markdown",
   "metadata": {},
   "source": [
    "### 收益率的正态假设\n",
    "\n",
    "+ 当收益率正态分布时，投资组合的收益率或财富值也满足正态分布\n",
    "\n",
    "+ 因此投资组合的分布可以用均值和方差刻画。\n",
    "\n",
    "+ 考虑W服从正态分布\n",
    "$$\\begin{array}{rl}E[U(W)]&=\\int_{-\\infty}^\\infty U(W)\\frac{1}{\\sqrt{2\\pi}\\sigma}\\exp\\left\\{-\\frac{(W-\\mu)^2}{2\\sigma^2}\\right\\}dW\\\\\n",
    "&=\\int_{-\\infty}^\\infty U(\\sigma W+\\mu)\\phi(W)dW\\\\\n",
    "&=V(\\mu,\\sigma)\n",
    "\\end{array}$$\n",
    "+ 显然，V关于$\\mu$的导数 \n",
    "$$V_\\mu=\\int_{-\\infty}^\\infty U'(\\sigma W+\\mu)\\phi(W)dW>0$$\n",
    "并且 \n",
    "\n",
    "+ 显然，V关于$\\sigma$的导数 \n",
    "\n",
    "$$\\begin{array}{rl} V_\\sigma &=\\int_{-\\infty}^\\infty WU'(\\sigma W+\\mu )\\phi(W)dW\\\\\n",
    "&= \\int_{-\\infty}^0 WU'(\\sigma W+\\mu )\\phi(W)dW+\\int_0^{\\infty} WU'(\\sigma W+\\mu )\\phi(W)dW\\\\\n",
    "&= \\int_0^{\\infty} W[U'(\\sigma W+\\mu )-  U'(-\\sigma W+\\mu )] \\phi(W)dW\\\\\n",
    "\\end{array}$$\n",
    "最后一行是因为标准正态分布密度对称\n",
    "+ 因为风险厌恶$U''(W)<0$对所有W成立，因此$U'$是单调减少的，有$U'(\\sigma W+\\mu )<  U'(-\\sigma W+\\mu )$,\n",
    "我们有$$V_\\sigma<0.$$\n",
    "\n",
    "也就是说，投资者喜欢高收益低风险。"
   ]
  },
  {
   "cell_type": "markdown",
   "metadata": {},
   "source": [
    "#### $\\sigma,\\mu$空间中的无差异曲线\n",
    "\n",
    "$$V(\\mu,\\sigma)\\equiv \\bar{V}$$\n",
    "\n",
    "可以得到，$V_\\sigma+V_\\mu \\frac{d \\mu}{d\\sigma}=0$\n",
    "因此，$$ \\left.\\frac{d \\mu}{d\\sigma} \\right|_{V(\\mu,\\sigma)=\\bar{V}}=-\\frac{V_\\sigma}{V_\\mu}>0 $$\n",
    "\n",
    "+ 这说明无差异曲线是在$\\sigma,\\mu$空间中是上行的，即在无差异曲线中，风险和收益同时增高。"
   ]
  },
  {
   "cell_type": "markdown",
   "metadata": {},
   "source": [
    "### 无差异曲线的形状\n",
    "\n",
    "\n",
    "+ 考虑无差异曲线上的两点$(\\mu,\\sigma),(\\mu^*,\\sigma^*)$\n",
    "+ 由凹性，$$\\frac{1}{2}U(\\sigma W+\\mu)+\\frac{1}{2}U(\\sigma^* W+\\mu^*)<U\\left(\\frac{\\sigma+\\sigma^*}{2}W+\\frac{\\mu+\\mu^*}{2}\\right).$$\n",
    "+ 两边取期望，\n",
    "$$V(\\frac{\\mu+\\mu^*}{2},\\frac{\\sigma+\\sigma^*}{2})>V(\\mu,\\sigma)=V(\\mu^*,\\sigma^*),$$\n",
    "\n",
    "+ 这说明该无差异函数是凸的，请参考上面图形（1. 是上行的，即在无差异曲线中，风险和收益同时增高，2.下方的效用低。结合这两点，以及上面的不等式，可以得出无差异曲线是凸的)。"
   ]
  },
  {
   "cell_type": "markdown",
   "metadata": {},
   "source": [
    "#### 例子\n",
    "\n",
    "+ 若假设收益率正态，我们常用常数绝对风险厌恶效用函数，\n",
    "$$U(W)=-\\exp\\{-cW\\},\\quad c>0$$\n",
    "+ 为什么说是常数？因为 $A(W)=-U''/U'=c$，说明绝对风险厌恶是常数\n",
    "\n",
    "+ 期望效用\n",
    "\n",
    "$$E[U(W)]=-\\exp\\left\\{-c\\mu+\\frac{c^2}{2}\\sigma^2\\right\\}$$\n",
    "\n",
    "+ $\\mu-\\sigma$偏好函数可以写为\n",
    "\n",
    "$$V(\\mu,\\sigma)=\\mu-\\frac{c}{2}\\sigma^2$$\n",
    "\n",
    "+ 无差异曲线（$\\bar{V}$）\n",
    "$$\\mu\\equiv \\bar{V}+\\frac{c}{2}\\sigma^2$$"
   ]
  },
  {
   "cell_type": "markdown",
   "metadata": {},
   "source": [
    "+ $\\mu-\\sigma$分析不一定需要收益率的正态假设，其在椭球分布中也成立。Ingersoll(1987) Theory of Finacial Decisoin Making\n",
    "\n",
    "+ 即使$\\mu-\\sigma$分析不成立，其也通常是期望效用最大方法的合理近似，利用$\\mu-\\sigma$通常可以简化决策问题\n",
    "\n",
    "+ 很多研究表明$\\mu-\\sigma$分析和期望效用最大得到的结果类似。\n",
    "\n",
    "+ 下面我们就讨论这个问题"
   ]
  },
  {
   "cell_type": "markdown",
   "metadata": {},
   "source": [
    "## Mean-Variance Versus Direct Utility Maximization\n",
    "\n",
    "Author(s): Yoram Kroll, Haim Levy and Harry M. Markowitz\n",
    "Source: The Journal of Finance , Mar., 1984, Vol. 39, No. 1 (Mar., 1984), pp. 47-61\n",
    "\n",
    "https://www.jstor.org/stable/2327667"
   ]
  },
  {
   "cell_type": "markdown",
   "metadata": {},
   "source": [
    "###  问题\n",
    "+ 假设我们有$N$个风险资产，第$i$个资产的收益率用$R_i$表示，其期望为$\\mu_i$。定义\n",
    "\n",
    " $${\\bf R}=\\left( \\begin{array}{c}R_1\\\\ \\vdots\\\\R_N\\end{array}\\right)$$\n",
    " \n",
    " 则有：\n",
    " \n",
    "  $$E({\\bf R})={\\bf\\mu}=\\left( \\begin{array}{c} \\mu_1\\\\ \\vdots\\\\\\mu_N\\end{array}\\right)$$\n",
    "+ 设 $\\Omega_{ij}$ 是$R_i$和 $R_j$的协方差，即$\\Omega_{ij}=\\mbox{COV}(R_i,R_j)$, $\\sigma_i=\\sqrt{\\Omega_{ii}}$ 是 $R_i$的标准差。则$\\bf R$的协方差矩阵如下\n",
    "$$\\varOmega=\\mbox{COV}({\\bf R})$$\n",
    "\n"
   ]
  },
  {
   "cell_type": "markdown",
   "metadata": {},
   "source": [
    "#### 均值方差组合\n",
    "+ 权重为$w$的组合$\\sum_{i=1}^{N} w_iR_i$ 的方差为：\n",
    "$$\\sum_{i=1}^{N}\\sum_{j=1}^{N} w_i w_j\\Omega_{i,j}={  w}^T\\varOmega{  w}$$\n",
    " 求解：$$\\min_w {  w}^T\\varOmega{  w}$$\n",
    " 满足卖空限制$$w_i\\geq 0, i=1,2,N$$ \n",
    "期望收益$$w^T\\mu=\\mu_P$$\n",
    "以及\n",
    "$${w^T \\bf 1}=1$$"
   ]
  },
  {
   "cell_type": "markdown",
   "metadata": {},
   "source": [
    "#### 效用最大化的组合\n",
    "\n",
    "+  权重为$w$的组合$\\sum_{i=1}^{N} w_iR_i$ 的效用为： $EU(\\sum_{i=1}^{N} w_iR_i)$\n",
    "\n",
    " 求解：$$\\max_w EU(\\sum_{i=1}^{N} w_iR_i)$$\n",
    " 满足卖空限制$$w_i\\geq 0, i=1,2,N$$  \n",
    "以及\n",
    "$${w^T \\bf 1}=1$$\n",
    "\n"
   ]
  },
  {
   "cell_type": "markdown",
   "metadata": {},
   "source": [
    "#### 两种效应最大化的途径\n",
    "\n",
    "1. 利用EV(均值方差)得到有效前沿，然后在有效前沿中寻找效用最大的组合，记为$E^*U()$，\n",
    "2. 直接利用上面的效用优化EU\n",
    "\n",
    "#### 两者差别\n",
    "\n",
    "1. 直接优化有更大的效用\n",
    "2. 直接优化计算量大，不同的效用需要重新优化。而先得到统一的有效前沿，然后在有效前沿上优化效率更高\n",
    "3. 对于管理者来说，如果她不能精确给出投资者的效用函数，直接优化就有困难。而EV方法可以在有效前沿上给出若干选项，让投资者选择。可操作性更强。\n"
   ]
  },
  {
   "cell_type": "markdown",
   "metadata": {},
   "source": [
    "### 比较两者方法得到的组合效用是否差异大。\n",
    "\n",
    "定义Index\n",
    "\n",
    "$$I=\\frac{E^*U(\\cdot)-E_NU(\\cdot)}{EU(\\cdot)-E_NU(\\cdot)}$$\n",
    "\n",
    "1. 该指标对效用函数的线性变换不变，\n",
    "2. 均匀投资$E_NU(\\cdot)=EU(\\sum_{i=1}^{N}\\frac{1}{N}R_i)$\n",
    "3. 通常$0\\leq I\\leq 1$,因为优化后的组合效用应该大于均匀投资，并且直接优化无约束，效用更大"
   ]
  },
  {
   "cell_type": "markdown",
   "metadata": {},
   "source": [
    "+ 效用函数\n",
    "\n",
    " \n",
    " \n",
    "\n",
    "\n",
    "................Utility.................|      Absolute Risk Aversion \n",
    "------------- | ----------------\n",
    "$-\\exp(-\\alpha W)$ | Constant\n",
    "$(W+B)^\\alpha,  (0<\\alpha<1)$| Decreasing\n",
    "$\\ln(W+B), (B>0)$ | Decreasing \n",
    " \n",
    " \n",
    "![EV](figures/mvutility.png)\n",
    "\n",
    "![EV1](figures/mvutilityfig.png)\n",
    "\n",
    "![EV2](figures/mvutilityfig2.png)"
   ]
  }
 ],
 "metadata": {
  "date": 1603853325.1177468,
  "filename": "black_litterman.rst",
  "kernelspec": {
   "display_name": "Python 3",
   "language": "python",
   "name": "python3"
  },
  "language_info": {
   "codemirror_mode": {
    "name": "ipython",
    "version": 3
   },
   "file_extension": ".py",
   "mimetype": "text/x-python",
   "name": "python",
   "nbconvert_exporter": "python",
   "pygments_lexer": "ipython3",
   "version": "3.7.6"
  },
  "next_doc": {
   "link": "BCG_complete_mkts",
   "title": "Irrelevance of Capital Structures with Complete Markets"
  },
  "prev_doc": {
   "link": "lucas_model",
   "title": "Asset Pricing II: The Lucas Asset Pricing Model"
  },
  "title": "Two Modifications of Mean-Variance Portfolio Theory"
 },
 "nbformat": 4,
 "nbformat_minor": 2
}
