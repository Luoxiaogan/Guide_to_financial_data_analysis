{
 "cells": [
  {
   "cell_type": "markdown",
   "metadata": {
    "slideshow": {
     "slide_type": "slide"
    }
   },
   "source": [
    "## 收益率的不可预测性和证券价格特征\n",
    "\n",
    "+ 风险资产的收益率有什么样的特征？ \n",
    "+ 1900年，法国数学家路易斯·巴舍利耶利用随机方法分析股票收益率，发现其收益率的期望近似为零，并且能用随机游走模型刻画股票的价格。\n",
    "+ 还有很多**公开**的相关研究，都力图对收益率进行预测，但同样也导致了相同的结论：股票价格的波动近似遵循随机游走模型。"
   ]
  },
  {
   "cell_type": "markdown",
   "metadata": {
    "slideshow": {
     "slide_type": "slide"
    }
   },
   "source": [
    "+ 资产价格的不确定性导致了收益率的随机性，资产价格可能高于我们的预期带来额外收益，也可能低于预期带来巨大损失。\n",
    "+ 正因为如此，要**准确预测**特定资产在未来特定日期的收益率几乎是不可能的。即在一般情形下，收益率是**不可预测的**。"
   ]
  },
  {
   "cell_type": "markdown",
   "metadata": {
    "slideshow": {
     "slide_type": "slide"
    }
   },
   "source": [
    "+ 收益率的随机性可以用随机变量描述，而该随机变量的分布,或统计特征可以一定程度地反应收益率的性质。\n",
    "+ 然而，知道收益率的确切分布并不容易。这一点和机会游戏不同。\n",
    "+ 在掷骰子游戏中虽然不能预测每次投掷的数字，但却能精确地给出出现这个数字的概率。如果骰子均匀，则从1到6出现的机会均等，都有1/6的概率。而投硬币时正面向上和方面向上的机会也是均等的，都是1/2。\n",
    "+ 显然，投掷骰子或硬币的不确定性比收益率的不确定性比更简单。"
   ]
  },
  {
   "cell_type": "markdown",
   "metadata": {
    "slideshow": {
     "slide_type": "slide"
    }
   },
   "source": [
    "+ 一般来说，基于某种机会游戏的赌博的收益的不确定性（分布）都可以准确估计。\n",
    "+ 但除此之外的现实世界的不确定性常常较复杂，需要一定的假设并利用历史数据对其概率进行推断。\n",
    "+ 对金融市场风险资产收益率也是如此，在时刻$t-1$ ，价格$P_t$ 以及收益率$R_t$ 的分布都是未知的。\n",
    "+ 如果我们假定未来的收益率和过去的收益率相似，即具有某种平稳性，我们就可以利用历史数据对收益率的分布进行推断。\n",
    "\n",
    "+ 在这一讲，我们首先讨论收益率的不可预测性，然后在下一讲介绍收益率历史数据的分布建模\n",
    "+ 在此之前，我们先简单介绍分析金融市场的一些方法"
   ]
  },
  {
   "cell_type": "markdown",
   "metadata": {
    "slideshow": {
     "slide_type": "slide"
    }
   },
   "source": [
    "## 基本面分析和技术分析\n",
    "\n",
    "\n",
    "对市场进行分析的方法通常有两类，即**基本面分析**和**技术分析**。 "
   ]
  },
  {
   "cell_type": "markdown",
   "metadata": {
    "slideshow": {
     "slide_type": "slide"
    }
   },
   "source": [
    "###  基本面分析\n",
    "\n",
    "\n",
    "  采用基本面分析的证券分析师主要通过检查会计数据，和公司管理者见面，关注经济数据，利率水平以及政策方向等方法来收集相关证券的基本信息。然后通过这些基本信息预测证券未来的盈利水平，进而由盈利水平确定证券的基本价值。  本杰明$\\cdot$格雷厄姆( Benjamin Graham) 的<证券分析>是价值投资的经典。\n",
    "  "
   ]
  },
  {
   "cell_type": "markdown",
   "metadata": {
    "slideshow": {
     "slide_type": "slide"
    }
   },
   "source": [
    "  ### \t技术分析\n",
    "\n",
    "   技术分析完全抛开股票的内在价值，强调投资者心理和行为。投资者之所以要以一定的价格购买某种股票，是因为他相信有人将以更高的价格向他购买这种股票。至于股价的高低，可能并不是考虑的重点。 \n",
    "   "
   ]
  },
  {
   "cell_type": "markdown",
   "metadata": {
    "slideshow": {
     "slide_type": "slide"
    }
   },
   "source": [
    "   技术分析一般包括技术指标分析和图表分析。技术分析师相信利用过去的模式可以预测将来的股票价格，他们一般只利用历史价格和成交量预测未来收益率。事实上早期的技术分析只是单纯的图表解析，亦即透过市场行为所构成的图表型态，来推测未来的股价变动趋势。但因这种方法在实际运用上，易受个人主观意识影响，而有不同的判断。这也就是为什么许多人戏称图表解析是一项艺术工作，九个人可能产生十种结论的原因。\n",
    "   \n",
    "   "
   ]
  },
  {
   "cell_type": "markdown",
   "metadata": {
    "slideshow": {
     "slide_type": "slide"
    }
   },
   "source": [
    "技术分析常常会利用下面一些图形：\n",
    "  \n",
    "<img src=\"./data/marketcycle.jpg\" \ttitle=\"市场周期\" width=\"350\" height=\"100\" /> \n",
    "<img src=\"./data/techana.jpg\"  \ttitle=\"技术分析\" width=\"350\" height=\"100\" />\n",
    "    \n",
    " \n",
    " "
   ]
  },
  {
   "cell_type": "markdown",
   "metadata": {
    "slideshow": {
     "slide_type": "slide"
    }
   },
   "source": [
    "      \n",
    "   技术分析方法推陈出新非常的快，旧的投资方法很快就不受欢迎，新的方法又开始流行。比如利用女士衣服的长度，利用气温，利用球队是否获胜来进行投资。有一种叫odd-lot的投资理论，利用总是犯错误的人的信息来进行反向投资。有研究表明，这种投资也不会比平均水平更差。实际上，在市场中总能正确预测股票价格是不容易的，同样，总是错误预测也是不容易的。要找到一个总是犯错误的人和找一个总是正确预测的人一样困难。\n",
    "   \n",
    "\n",
    "   \n",
    "  \n",
    "  "
   ]
  },
  {
   "cell_type": "markdown",
   "metadata": {
    "slideshow": {
     "slide_type": "slide"
    }
   },
   "source": [
    "### 不可预测性\n",
    "   \n",
    "1933年，Alfred Cowles 在一个全新的杂志《Econometrica》发表了一篇题为“Can stock market forecasters forecast?”如今该在这已经是计量经济学领域的顶级杂志。\n",
    "\n",
    "\n",
    "Cowles 主要分析了如下的一些投资记录：\n",
    "+\t16家金融服务机构，他们为其客户提供普通股推荐列表；\n",
    "+\t20家火(灾保)险公司的股票买卖行为\n",
    "+\t24份发表物，包括金融服务机构的报告，金融周刊，银行简报以及\n",
    "+\t华尔街日报的社论"
   ]
  },
  {
   "cell_type": "markdown",
   "metadata": {
    "slideshow": {
     "slide_type": "slide"
    }
   },
   "source": [
    "   ### 16家金融服务机构\n",
    "   + 1928.1-1932.7\n",
    "   + 每周定期向其客户提供荐股服务\n",
    "   + 跟踪每个推荐并且和同期市场比较  "
   ]
  },
  {
   "cell_type": "markdown",
   "metadata": {
    "slideshow": {
     "slide_type": "slide"
    }
   },
   "source": [
    "   <img src=\"./data/cowles.png\" width = \"600\" height = \"400\" alt=\"图片名称\" align=center />\n",
    " "
   ]
  },
  {
   "cell_type": "markdown",
   "metadata": {
    "slideshow": {
     "slide_type": "slide"
    }
   },
   "source": [
    "\n",
    "+ Cowles 发现在16家机构中，只有6家获得了某种意义的成功。即使对最好的投资记录，也不能认为其一定归功于投资技能。\n",
    "\n",
    "+ 这样的结论可以通过统计中的假设检验获得，比如将投资记录和随机投资进行比较，看看其效果十分差异显著。  \n",
    "\n",
    "\n",
    "\n",
    "+ 问题：具体地，上述数据每半年汇总一次，在最好的一家机构中，9个半年中，有7个的推荐优于市场平均，假设每半年随机推荐优于市场的概率为0.5，则效果达到或好于上述最优机构的概率是多少？假设16家机构都随机推荐，至少出现一个机构达到或好于上述最好结果的概率是多少？\n"
   ]
  },
  {
   "cell_type": "code",
   "execution_count": 1,
   "metadata": {
    "scrolled": true,
    "slideshow": {
     "slide_type": "slide"
    }
   },
   "outputs": [
    {
     "name": "stdout",
     "output_type": "stream",
     "text": [
      "P(x = 0) = 0.0020\n",
      "P(x = 1) = 0.0176\n",
      "P(x = 2) = 0.0703\n",
      "P(x = 3) = 0.1641\n",
      "P(x = 4) = 0.2461\n",
      "P(x = 5) = 0.2461\n",
      "P(x = 6) = 0.1641\n",
      "P(x = 7) = 0.0703\n",
      "P(x = 8) = 0.0176\n",
      "--------------------\n",
      "P(x>6) = 0.0898\n"
     ]
    }
   ],
   "source": [
    "from scipy.stats import binom\n",
    "pi = .5; n = 9; k=6\n",
    "# 求成功次数为i的概率\n",
    "pk = 0\n",
    "for i in range(n):\n",
    "    p = binom( n, pi ).pmf( i )     \n",
    "    pk += p\n",
    "    print( 'P(x = {0:d}) = {1:.4f}'.format( i , p ))\n",
    "# 求成功大于k次的概率\n",
    "print('-'*20)\n",
    "p = 1 - binom( n, pi ).cdf( k )\n",
    "print( 'P(x>{0:d}) = {1:.4f}'.format( k ,  p ))"
   ]
  },
  {
   "cell_type": "code",
   "execution_count": 2,
   "metadata": {
    "slideshow": {
     "slide_type": "slide"
    }
   },
   "outputs": [
    {
     "data": {
      "text/plain": [
       "0.7782542568560474"
      ]
     },
     "execution_count": 2,
     "metadata": {},
     "output_type": "execute_result"
    }
   ],
   "source": [
    "#16家机构都随机推荐，至少出现一个机构达到或好于上述最好结果的概率是多少?\n",
    "cdf6 = binom( n, pi ).cdf( 6 )\n",
    "1-cdf6**16\n"
   ]
  },
  {
   "cell_type": "markdown",
   "metadata": {
    "slideshow": {
     "slide_type": "slide"
    }
   },
   "source": [
    " Fama（1965）年发现通过基本面分析选择的股票的表现看起来并不比随机选择的股票的表现好。比如飞镖选择法（用飞镖投向华尔街日报，定中那只股票就投资那只股票）也未必比基本面选择的表现差。当然，公司好的管理，好看的经济数据和趋势的确会影响资产的价格，但Fama声称因为市场会对信息作即时的反应，所以这些信息已经完全反应在当前的股票价格中，因此利用这些信息不大可能对价格变化进行预测。\n",
    " "
   ]
  },
  {
   "cell_type": "markdown",
   "metadata": {
    "slideshow": {
     "slide_type": "slide"
    }
   },
   "source": [
    "股票在市场中被正确定价必定得有好的证券分析，但另一方面，证券分析的结果常常是市场股价和实际价值之间的差异非常小，从而鲜有盈利机会。William Sharpe 讨论了专业的投资者对Fama及其他学者的随机游走理论的抵制。他这样写道：“有趣的是似乎经济学家比投资者更肯定市场中专业投资者的能力。”这也就是说，经济学家相信市场中的专业投资者已经足够多，最够专业，能确保股票被正确地定价，而别的专业投资者则认为他们自己这一类少数的聪明人能在市场中买到便宜货。  "
   ]
  },
  {
   "cell_type": "markdown",
   "metadata": {
    "slideshow": {
     "slide_type": "slide"
    }
   },
   "source": [
    "  \n",
    "  收益率的不可预测性涉及著名的“有效市场假说”（Efficient Market Hypothesis，EMH）。\n",
    "  \n",
    "  2013年诺贝尔经济学奖 法玛(FAMA)教授最主要的贡献是提出了著名的“有效市场假说”（Efficient Market Hypothesis，EMH）。该假说认为，相关的信息如果不受扭曲且在证券价格中得到充分反映，市场就是有效的。有效市场假说的一个最主要的推论就是，任何战胜市场的企图都是徒劳的，因为股票的价格已经充分反映了所有可能的信息，包括所有公开的公共信息和未公开的私人信息，在股票价格对信息的迅速反应下，不可能存在任何高出正常收益的机会。关于技术分析，Fama说：“技术分析师必须承认有相当多的证据支持价格的随机模型，并且这种证据是持续一致的；而对各种技术分析理论，却鲜有严格的经验检验的工作发表。”\n",
    "  "
   ]
  },
  {
   "cell_type": "markdown",
   "metadata": {
    "slideshow": {
     "slide_type": "slide"
    }
   },
   "source": [
    " 其它观点：\n",
    " \n",
    " + 技术方法为什么总是非常受欢迎呢？这可能需要从人类心理学和行为科学去寻找答案。人类的天性使其很难相信在市场上出现的模式仅仅是随机出现的。比如趋势只是随机趋势，随时可能掉头。有人认为我们天生就有寻找模式的本能，总是希望将事实总结为理论。当然，这种倾向可能导致可能并不存在的理论，用统计的术语的话就是过度拟合的问题。我们可能从数据发现很多模式，但这种模式却不具有可持续性。\n",
    "    "
   ]
  },
  {
   "cell_type": "code",
   "execution_count": 3,
   "metadata": {
    "scrolled": true,
    "slideshow": {
     "slide_type": "subslide"
    }
   },
   "outputs": [
    {
     "data": {
      "text/plain": [
       "<matplotlib.axes._subplots.AxesSubplot at 0x1d17ef83f48>"
      ]
     },
     "execution_count": 3,
     "metadata": {},
     "output_type": "execute_result"
    },
    {
     "data": {
      "image/png": "[encoded data removed]",
      "text/plain": [
       "<Figure size 432x288 with 1 Axes>"
      ]
     },
     "metadata": {
      "needs_background": "light"
     },
     "output_type": "display_data"
    }
   ],
   "source": [
    " \n",
    "#id=\"000001\"\n",
    "#start=\"1990-12-1\";end=\"2015-10-29\"\n",
    "#data=get_sina_stock(id,start,end,isstock=False)\n",
    "import pandas as pd\n",
    "import matplotlib as mpl\n",
    "import matplotlib.pyplot as plt\n",
    "%matplotlib inline\n",
    "shindex=pd.read_csv(\"data/000001.SH.csv\",index_col=0,parse_dates=True) \n",
    "shindex[\"CLOSE\"].plot()"
   ]
  },
  {
   "cell_type": "code",
   "execution_count": 4,
   "metadata": {
    "scrolled": true
   },
   "outputs": [
    {
     "data": {
      "text/plain": [
       "2007-10-16    6092.057\n",
       "1990-12-19     100.000\n",
       "Name: CLOSE, dtype: float64"
      ]
     },
     "execution_count": 4,
     "metadata": {},
     "output_type": "execute_result"
    }
   ],
   "source": [
    "x=shindex[\"CLOSE\"][[shindex[\"CLOSE\"].idxmax(),shindex[\"CLOSE\"].idxmin()]]\n",
    "x"
   ]
  },
  {
   "cell_type": "code",
   "execution_count": 5,
   "metadata": {},
   "outputs": [
    {
     "data": {
      "text/plain": [
       "[<matplotlib.lines.Line2D at 0x1d17fc85048>]"
      ]
     },
     "execution_count": 5,
     "metadata": {},
     "output_type": "execute_result"
    },
    {
     "data": {
      "image/png": "[encoded data removed]",
      "text/plain": [
       "<Figure size 432x288 with 1 Axes>"
      ]
     },
     "metadata": {
      "needs_background": "light"
     },
     "output_type": "display_data"
    }
   ],
   "source": [
    "xg=shindex[\"CLOSE\"].groupby(shindex.index.year)\n",
    "dmax=shindex[\"CLOSE\"][xg.idxmax()]\n",
    "#fig, ax1 = plt.subplots()\n",
    "shindex[\"CLOSE\"].plot()\n",
    "plt.plot(dmax,\"bo\")\n",
    "\n"
   ]
  },
  {
   "cell_type": "markdown",
   "metadata": {
    "slideshow": {
     "slide_type": "slide"
    }
   },
   "source": [
    "+  毫无疑问，一个人确实能从股票市场中赚到钱。因为长期来看，股票的收益显然是优于债券和银行存款。就中国来说，28年来年上证指数年化收益率在11%左右，这显然大大优于债券和存款。但对投资者的评价常常并非赚没赚到钱，而是是否“击败了市场”。所谓击败市场是指选择的投资组合好于市场指数的表现，比如在中国投资，如果28年平均收益率高于上证综指收益率（11%），则说明其击败了市场。"
   ]
  },
  {
   "cell_type": "code",
   "execution_count": 6,
   "metadata": {},
   "outputs": [
    {
     "data": {
      "text/plain": [
       "0.11200545217102209"
      ]
     },
     "execution_count": 6,
     "metadata": {},
     "output_type": "execute_result"
    }
   ],
   "source": [
    "#2018年最后一天收盘价\n",
    "close2018=shindex[\"2018\"].iloc[-1][\"CLOSE\"]\n",
    "close1990=shindex[\"1990\"].iloc[-1][\"CLOSE\"]\n",
    "(close2018/close1990)**(1/28.0)-1"
   ]
  },
  {
   "cell_type": "markdown",
   "metadata": {
    "slideshow": {
     "slide_type": "slide"
    }
   },
   "source": [
    "+ 一个解释： 在证券市场中，一般认为标准差越大，收益率就会越高，因为高的标准差说明其风险大，投资者获得高的收益是为了补偿其风险，风险股票的高期望收益被称为风险溢价。一个投资者如果选择了高风险的股票，他显然期待获得更高的收益。投资组合理论将分析的内容，我们将在后面讨论。就这个角度来说，一个投资者击败市场，这说明其选择的投资组合比那些具有相同风险的市场组合的收益高。"
   ]
  },
  {
   "cell_type": "code",
   "execution_count": 7,
   "metadata": {
    "scrolled": true,
    "slideshow": {
     "slide_type": "slide"
    }
   },
   "outputs": [
    {
     "name": "stdout",
     "output_type": "stream",
     "text": [
      "Mean=0.2134,Std=0.5535\n"
     ]
    },
    {
     "data": {
      "image/png": "[encoded data removed]",
      "text/plain": [
       "<Figure size 2100x1200 with 1 Axes>"
      ]
     },
     "metadata": {
      "needs_background": "light"
     },
     "output_type": "display_data"
    }
   ],
   "source": [
    "import matplotlib.pylab as plt\n",
    "import matplotlib.dates as dates\n",
    "close=shindex[\"CLOSE\"]\n",
    "closeyear=close.resample(\"A-DEC\").last()\n",
    "ret=closeyear.pct_change()[1:]  \n",
    "m=pd.Series(ret.mean(),index=ret.index,name=\"mean\")\n",
    "ret=pd.concat([ret,m],1)\n",
    "ax = plt.figure(figsize=(7,4), dpi=300).add_subplot(111)\n",
    "\n",
    "ret.plot(kind=\"bar\",ax=ax)\n",
    "ax.set_xticklabels([\"%s\" % item for item in ret.index.year], rotation=90);\n",
    "print(\"Mean=%.4f,Std=%.4f\" %(ret.iloc[1,1],ret[\"1991\":\"2018\"][\"CLOSE\"].std()))\n",
    "#ret.plot?"
   ]
  },
  {
   "cell_type": "markdown",
   "metadata": {
    "slideshow": {
     "slide_type": "slide"
    }
   },
   "source": [
    "## 随机游走模型\n",
    "\n",
    "若收益率不可预测，那么如何对收益率序列或者资产价格走势进行建模? 最常用的模型就是随机游走模型。这一模型假设是现代金融理论，包括投资组合，衍生产品（期权期货）定价的基础。"
   ]
  },
  {
   "cell_type": "markdown",
   "metadata": {
    "slideshow": {
     "slide_type": "slide"
    }
   },
   "source": [
    " 某风险资产$t$时刻的净收益率记为$R_t$，可以简单假设其满足如下模型：\n",
    " \n",
    "1.\t相互独立假设，即收益率之间独立;\n",
    "2.\t同分布假设，即任何时刻收益率都具有相同的分布，当然也具有相同的期望和方差;\n",
    "3.\t正态假设。假设简单收益率服从正态分布.\n",
    "\n",
    " 描述为： \n",
    " \n",
    "$${R_1},{R_2}, \\cdots \\mathop \\sim\\limits^{iid} N\\left( {\\mu ,{\\sigma ^2}} \\right)$$\n",
    "  "
   ]
  },
  {
   "cell_type": "markdown",
   "metadata": {
    "slideshow": {
     "slide_type": "slide"
    }
   },
   "source": [
    "      \n",
    "  该模型有两个的问题。\n",
    "  \n",
    "  + 首先，正态分布的支撑为整个实数域，可以是无穷大，也可以是无穷小。这表明损失可能是无界的。但实际上，股票资产的购买者最多损失其最初的投资，此时购买的资产价格为0。由净收益率的定义，${R_t} = {P_t}{\\rm{/}}{P_{t - 1}} - 1 \\ge  - 1$ \n",
    "  + 另一个问题是其多期收益率不是正态分布，这凸显了假设的不合理性。这种非正态性可由多期收益率公式$1 + {R_t}\\left( k \\right) = \\left( {1 + {R_t}} \\right) \\cdots \\left( {1 + {R_{t - k + 1}}} \\right)$ 得出。因为：正态分布随机变量和是正态的，而乘积不是正态的。\n",
    "  "
   ]
  },
  {
   "cell_type": "markdown",
   "metadata": {
    "slideshow": {
     "slide_type": "slide"
    }
   },
   "source": [
    "  ### 对数正态模型\n",
    "  \n",
    "  + 既然简单收益率的正态假设有一些问题，为了解决这些矛盾，可以假设\n",
    "  \n",
    "  $\\quad$\n",
    "  <center ><font size=6>对数收益率是独立同分布的正态随机变量 </font></center>\n",
    "  \n",
    "  对数收益率定义为${r_t} = \\ln \\left( {1 + {R_t}} \\right)$ ,其中$1+R_t$ 为总收益率。\n",
    "  + 若假设$\\ln(1+R_t)$  是正态分布，显然$1+R_t$ 非负，即简单净收益率大于-1。\n",
    "  "
   ]
  },
  {
   "cell_type": "markdown",
   "metadata": {
    "slideshow": {
     "slide_type": "slide"
    },
    "variables": {
     "r_t": "<p><strong>NameError</strong>: name &#39;r_t&#39; is not defined</p>\n",
     "r_t} +  \\cdots  + {r_{t - k + 1": "<p><strong>SyntaxError</strong>: invalid syntax (<ipython-input-6-2154c2421060>, line 1)</p>\n",
     "r_{t - k + 1": "<p><strong>SyntaxError</strong>: invalid syntax (<ipython-input-6-a8f4ea882608>, line 1)</p>\n"
    }
   },
   "source": [
    "  + 另一方面，考虑多期收益率\n",
    "\n",
    "$\\begin{gathered}\n",
    "  1 + {R_t}\\left( k \\right) = \\left( {1 + {R_t}} \\right) \\cdots \\left( {1 + {R_{t - k + 1}}} \\right) \\\\ \n",
    "   = \\exp \\left( {{r_t}} \\right) \\cdots \\exp \\left( {{r_{t - k + 1}}} \\right) \\\\ \n",
    "   = \\exp \\left( {{r_t} +  \\cdots  + {r_{t - k + 1}}} \\right) \\\\ \n",
    "\\end{gathered} $\n",
    " \n",
    "因此，${r_t}\\left( k \\right) = {r_t} + {r_{t - 1}} +  \\cdots  + {r_{t - k + 1}}$，即多期对数收益率为正态分布的和，仍然为正态分布。这就解决了正态简单收益率假设中的两个问题。"
   ]
  },
  {
   "cell_type": "markdown",
   "metadata": {
    "slideshow": {
     "slide_type": "slide"
    }
   },
   "source": [
    "+   对数正态分布可以追溯到法国数学家路易·巴舍利耶（Lowis Bachelier）1900年的论文，他利用该模型研究金融收益率。虽然他的研究能预见到许多现代金融数学理论，但在其后近50年的时间内一直没人注意其成果。直到50年后，人们在图书馆中再次发现了他的书和论文，他的工作才被大家了解。\n",
    " "
   ]
  },
  {
   "cell_type": "markdown",
   "metadata": {
    "slideshow": {
     "slide_type": "slide"
    },
    "variables": {
     "0.1}^2": "<p><strong>SyntaxError</strong>: invalid syntax (<ipython-input-6-604ee1393f33>, line 1)</p>\n"
    }
   },
   "source": [
    "+  关于对数正态分布的例子\n",
    " \n",
    " 若简单总收益率为对数正态分布 ${\\text{Lognormal}}\\left( {0,{{0.1}^2}} \\right)$ ，即$\\log \\left( {1 + R} \\right)\\sim N\\left( {0,{{0.1}^2}} \\right)$ ，那么$P\\left( { R < -10\\%} \\right)$ 是多少。\n",
    " \n",
    "答：既然$\\ln \\left( {0.9} \\right) =  - 0.105$ ， $P\\left( {1 + R < 0.9} \\right) = P\\left\\{ {\\ln \\left( {1 + R} \\right) <  - 0.105} \\right\\}\n",
    " = \\Phi \\left( { - 0.105} \\right) = 0.1469$\n"
   ]
  },
  {
   "cell_type": "markdown",
   "metadata": {
    "slideshow": {
     "slide_type": "slide"
    },
    "variables": {
     "0.1}^2": "<p><strong>SyntaxError</strong>: invalid syntax (<ipython-input-6-604ee1393f33>, line 1)</p>\n"
    }
   },
   "source": [
    "例子\n",
    "\n",
    "若假设简单总收益率为对数正态分布${\\text{Lognormal}}\\left( {0,{{0.1}^2}} \\right)$，并且收益率为独立序列，则两期简单总收益率小于0.9的概率是多大？\n",
    "\n",
    "答: 两期简单总收益率服从${\\text{Lognormal}}\\left( {0,2*{{0.1}^2}} \\right)$，则其小于0.9的概率为$\\Phi \\left[ {\\ln \\left( {0.9} \\right)/\\left( {\\sqrt 2 *0.1} \\right)} \\right] = \\Phi \\left( { - 0.745} \\right) = 0.2281$。"
   ]
  },
  {
   "cell_type": "markdown",
   "metadata": {
    "slideshow": {
     "slide_type": "slide"
    },
    "variables": {
     "\\ln \\left( x \\right) - k\\mu ": "<p><strong>SyntaxError</strong>: unexpected character after line continuation character (<ipython-input-6-00abe3dc9e16>, line 1)</p>\n",
     "\\sqrt k \\sigma ": "<p><strong>SyntaxError</strong>: unexpected character after line continuation character (<ipython-input-6-970b26a04dfc>, line 1)</p>\n"
    }
   },
   "source": [
    "+ 总收益率的对数正态分布 \n",
    "\n",
    "若假设对数收益率服从独立同分布正态分布$N\\left( {\\mu ,{\\sigma ^2}} \\right)$ ， 多期对数收益率${r_t}\\left( k \\right) = {r_t} + {r_{t - 1}} +  \\cdots  + {r_{t - k + 1}}$ 服从正态分布$N\\left( {k\\mu ,k{\\sigma ^2}} \\right)$ ，因此，多期总收益率$1+R_t(k)=\\exp(r_t(k))$的分布为Lognormal$\\left( {k\\mu ,k{\\sigma ^2}} \\right)$,分布函数满足\n",
    " \n",
    " \n",
    "$$P\\left\\{ {1 + {R_t}\\left( k \\right) < x} \\right\\} =P\\left\\{\\ln( {1 + {R_t}\\left( k \\right)) <\\ln x} \\right\\}= \\Phi \\left\\{ {\\frac{{\\ln \\left( x \\right) - k\\mu }}{{\\sqrt k \\sigma }}} \\right\\}.$$\n",
    "  "
   ]
  },
  {
   "cell_type": "code",
   "execution_count": 8,
   "metadata": {
    "slideshow": {
     "slide_type": "slide"
    }
   },
   "outputs": [
    {
     "data": {
      "image/png": "[encoded data removed]",
      "text/plain": [
       "<Figure size 864x288 with 3 Axes>"
      ]
     },
     "metadata": {
      "needs_background": "light"
     },
     "output_type": "display_data"
    }
   ],
   "source": [
    "import matplotlib.pyplot as plt\n",
    "import scipy.stats as st\n",
    "import numpy as np\n",
    "from scipy.stats import lognorm\n",
    "%matplotlib inline\n",
    "%precision 4\n",
    "np.random.seed(1)\n",
    "fig, ax = plt.subplots(1,3,figsize=(12,4))\n",
    "\n",
    "sset = [0.1,0.3,0.5,0.01,0.9]\n",
    "ixplot=[0,0 ,0,1,2]\n",
    "for i in range(len(sset)):\n",
    "    s=sset[i]\n",
    "    x = np.linspace(lognorm.ppf(0.01, s), lognorm.ppf(0.99, s), 100)\n",
    "    ax[ixplot[i]].plot(x, lognorm.pdf(x, s),  lw=3, alpha=0.6, label=r\"$\\sigma=$\"+str(s))     \n",
    "    ax[ixplot[i]].legend(loc=\"best\")  \n"
   ]
  },
  {
   "cell_type": "markdown",
   "metadata": {
    "slideshow": {
     "slide_type": "slide"
    }
   },
   "source": [
    "### 　随机游走\n",
    "\n",
    "前面介绍了收益率的分布假设，下面讨论如何描述股票价格的变化。首先给出随机游走的概念。"
   ]
  },
  {
   "cell_type": "markdown",
   "metadata": {
    "slideshow": {
     "slide_type": "slide"
    },
    "variables": {
     "S_t}|{S_0": "<p><strong>SyntaxError</strong>: invalid syntax (<ipython-input-7-92e36aacc52e>, line 1)</p>\n"
    }
   },
   "source": [
    "设${Z_1},{Z_2}, \\cdots $ 是均值为$\\mu $ ，方差为${\\sigma ^2}$ 的独立同分布随机变量。设${S_0}$ 为任意起始点并且\n",
    "\n",
    "$${S_t} = {S_0} + {Z_1} +  \\cdots  + {Z_t},\\quad t \\ge 1.$$\n",
    " \n",
    "+ 过程${S_0},{S_1}, \\cdots $ 为随机游走，${Z_1},{Z_2}, \\cdots $为每步增量。根据假设，该增量是独立的。\n",
    "+ 给定初始${S_0}$ 下${S_t}$ 的 条件期望为$E\\left[ {{S_t}|{S_0}} \\right] = {S_0} + t\\mu $ ，\n",
    "+ 条件方差为 ${\\rm{Var}}\\left[ {{S_t}|{S_0}} \\right] = t{\\sigma ^2}$。\n",
    "+ 参数$\\mu $ 被称为偏移，给出了随机游走的方向，参数$\\sigma $ 描述${S_t}$ 偏离期望${S_0} + t\\mu $ 的幅度。\n",
    "+ $\\left( {{S_0} + t\\mu } \\right) \\pm \\sigma \\sqrt t $描述了${S_t}$ 的一个一倍标准差的波动范围，若独立增量为正态分布，则${S_t}$ 置于该区间的概率约为68%。显然， $t$越大，相同置信水平的波动区间就越宽，即 ${S_t}$的不确定性越大。"
   ]
  },
  {
   "cell_type": "markdown",
   "metadata": {
    "slideshow": {
     "slide_type": "slide"
    },
    "variables": {
     "r_t} +  \\cdots  + {r_1": "<p><strong>SyntaxError</strong>: invalid syntax (<ipython-input-7-b8d847ecad1b>, line 1)</p>\n",
     "r_t} +  \\cdots  + {r_{t - k + 1": "<p><strong>SyntaxError</strong>: invalid syntax (<ipython-input-7-2154c2421060>, line 1)</p>\n",
     "{P_t": "<p><strong>SyntaxError</strong>: unexpected EOF while parsing (<ipython-input-7-c50f32fb6a9c>, line 1)</p>\n",
     "{P_{t - k": "<p><strong>SyntaxError</strong>: invalid syntax (<ipython-input-7-0925345bc346>, line 1)</p>\n"
    }
   },
   "source": [
    "### 几何随机游走\n",
    "\n",
    "+ 由\n",
    "$$\\frac{{{P_t}}}{{{P_{t - k}}}} = 1 + {R_t}\\left( k \\right) = \\exp \\left( {{r_t} +  \\cdots  + {r_{t - k + 1}}} \\right),$$\n",
    "\n",
    "若取 $k = t$，有${P_t} = {P_0}\\exp \\left( {{r_t} +  \\cdots  + {r_1}} \\right),$\n",
    " \n",
    "+ 若对数收益率是独立同分布的正态分布，价格过程就是指数随机游走，也称为几何随机游走。\n",
    "+ 该分布由相应的正态分布的参数-均值和标准差确定。\n",
    "+ 如果各步间隔时间趋向于0，随机游走收敛于布朗运动，几何随机游走收敛于几何布朗运动。几何布朗运动是期权定价中的标准模型。"
   ]
  },
  {
   "cell_type": "markdown",
   "metadata": {
    "slideshow": {
     "slide_type": "slide"
    }
   },
   "source": [
    "在几何随机游走模型假设下，股票价格将来的变化和过去的变化之间彼此相互独立，因此利用历史预测未来价格的变化变得不可能。但这并不是说在证券市场中不能盈利，如果能估计几何随机游走的偏移 ，我们就能得到价格的趋势。因此即使我们不能预测价格偏离趋势的程度，但根据趋势，我们也能进行投资。一般来说，随机游走模型中的偏移都是正的，这说明股票价格有向上的趋势，因此投资股票长期来说是会盈利的。"
   ]
  },
  {
   "cell_type": "markdown",
   "metadata": {
    "slideshow": {
     "slide_type": "slide"
    }
   },
   "source": [
    "+ 如果假设对数收益率的分布为正态分布$N\\left( {\\mu ,{\\sigma ^2}} \\right)$，则总收益率就服从对数正态分布，根据对数正态分布的性质，收益率随机变量的中位数为$\\exp \\left( \\mu  \\right)$，期望为$\\exp \\left( {\\mu  + {\\sigma ^2}/2} \\right)$。对数正态分布是右偏的分布，因此期望大于中位数。如果资产价格在0时刻为${P_0}$，在k时刻后的资产价格的中位数和期望分别是${P_0}\\exp \\left( {k\\mu } \\right)$ 和${P_0}\\exp \\left( {k\\mu  + k{\\sigma ^2}/2} \\right)$。\n",
    "\n"
   ]
  },
  {
   "cell_type": "markdown",
   "metadata": {
    "slideshow": {
     "slide_type": "slide"
    }
   },
   "source": [
    "+ 例子\n",
    "下面分析到2014年的24年间情况：\n",
    "\n",
    "上证综合指数24年来对数收益率的均值约为0.134,标准差为0.46。若假设对数收益率是独立同分布正态随机变量，则指数可以用几何随机游走描述，并且参数为$\\mu=0.134,\\sigma=0.46$ 。每年对数收益率期望为0.134，24年期望和中位数都为24×0.134=3.216。根据对数收益率和简单收益率的关系，我们同样可以得到24年的总收益率（gross return）为 $\\exp \\left( {3.216} \\right) =  24.87$。1991的第一个交易日上证综合指数大约为127点，以此为起点 ，可以得到24年后上证综合指数的中位数为$127\\exp \\left( {3.216} \\right) \\approx {\\rm{3159}}$ ,而期望为${127}\\exp \\left( {k\\mu  + k{\\sigma ^2}/2} \\right) =  127\\exp \\left( {24(0.134) + 24(0.46^2)/2} \\right) \\approx 40110 $ 。\n",
    "\n",
    "\n"
   ]
  },
  {
   "cell_type": "code",
   "execution_count": 9,
   "metadata": {
    "scrolled": false,
    "slideshow": {
     "slide_type": "slide"
    }
   },
   "outputs": [
    {
     "data": {
      "text/html": [
       "<div>\n",
       "<style scoped>\n",
       "    .dataframe tbody tr th:only-of-type {\n",
       "        vertical-align: middle;\n",
       "    }\n",
       "\n",
       "    .dataframe tbody tr th {\n",
       "        vertical-align: top;\n",
       "    }\n",
       "\n",
       "    .dataframe thead th {\n",
       "        text-align: right;\n",
       "    }\n",
       "</style>\n",
       "<table border=\"1\" class=\"dataframe\">\n",
       "  <thead>\n",
       "    <tr style=\"text-align: right;\">\n",
       "      <th></th>\n",
       "      <th>OPEN</th>\n",
       "      <th>HIGH</th>\n",
       "      <th>LOW</th>\n",
       "      <th>CLOSE</th>\n",
       "      <th>VOLUME</th>\n",
       "    </tr>\n",
       "  </thead>\n",
       "  <tbody>\n",
       "    <tr>\n",
       "      <th>1990-12-31</th>\n",
       "      <td>126.5600</td>\n",
       "      <td>127.6100</td>\n",
       "      <td>126.4800</td>\n",
       "      <td>127.6100</td>\n",
       "      <td>7.800000e+03</td>\n",
       "    </tr>\n",
       "    <tr>\n",
       "      <th>1991-12-31</th>\n",
       "      <td>292.4800</td>\n",
       "      <td>292.7500</td>\n",
       "      <td>291.7100</td>\n",
       "      <td>292.7500</td>\n",
       "      <td>5.840000e+04</td>\n",
       "    </tr>\n",
       "    <tr>\n",
       "      <th>1992-12-31</th>\n",
       "      <td>765.8600</td>\n",
       "      <td>784.0300</td>\n",
       "      <td>765.4100</td>\n",
       "      <td>780.3900</td>\n",
       "      <td>1.355110e+07</td>\n",
       "    </tr>\n",
       "    <tr>\n",
       "      <th>2018-12-31</th>\n",
       "      <td>2483.6171</td>\n",
       "      <td>2505.1138</td>\n",
       "      <td>2478.3250</td>\n",
       "      <td>2493.8962</td>\n",
       "      <td>1.192452e+10</td>\n",
       "    </tr>\n",
       "    <tr>\n",
       "      <th>2019-12-31</th>\n",
       "      <td>3036.3858</td>\n",
       "      <td>3051.6770</td>\n",
       "      <td>3030.5122</td>\n",
       "      <td>3050.1240</td>\n",
       "      <td>2.174290e+10</td>\n",
       "    </tr>\n",
       "    <tr>\n",
       "      <th>2020-12-31</th>\n",
       "      <td>3225.7836</td>\n",
       "      <td>3262.4976</td>\n",
       "      <td>3220.5363</td>\n",
       "      <td>3260.3461</td>\n",
       "      <td>2.216988e+10</td>\n",
       "    </tr>\n",
       "  </tbody>\n",
       "</table>\n",
       "</div>"
      ],
      "text/plain": [
       "                 OPEN       HIGH        LOW      CLOSE        VOLUME\n",
       "1990-12-31   126.5600   127.6100   126.4800   127.6100  7.800000e+03\n",
       "1991-12-31   292.4800   292.7500   291.7100   292.7500  5.840000e+04\n",
       "1992-12-31   765.8600   784.0300   765.4100   780.3900  1.355110e+07\n",
       "2018-12-31  2483.6171  2505.1138  2478.3250  2493.8962  1.192452e+10\n",
       "2019-12-31  3036.3858  3051.6770  3030.5122  3050.1240  2.174290e+10\n",
       "2020-12-31  3225.7836  3262.4976  3220.5363  3260.3461  2.216988e+10"
      ]
     },
     "execution_count": 9,
     "metadata": {},
     "output_type": "execute_result"
    }
   ],
   "source": [
    "import numpy as np\n",
    "import pandas as pd\n",
    " \n",
    "shyear=shindex.resample(\"A\").last()\n",
    "pd.concat([shyear[:3],shyear[-3:]])\n"
   ]
  },
  {
   "cell_type": "markdown",
   "metadata": {},
   "source": [
    "收盘价3234.677 和 中位数 3159 差得不多，当天最低价3157.259和中位数接近！"
   ]
  },
  {
   "cell_type": "code",
   "execution_count": 10,
   "metadata": {
    "slideshow": {
     "slide_type": "slide"
    }
   },
   "outputs": [
    {
     "data": {
      "text/plain": [
       "<matplotlib.axes._subplots.AxesSubplot at 0x1d10113b308>"
      ]
     },
     "execution_count": 10,
     "metadata": {},
     "output_type": "execute_result"
    },
    {
     "data": {
      "image/png": "[encoded data removed]",
      "text/plain": [
       "<Figure size 432x288 with 1 Axes>"
      ]
     },
     "metadata": {
      "needs_background": "light"
     },
     "output_type": "display_data"
    }
   ],
   "source": [
    "shindex[\"CLOSE\"].plot()"
   ]
  },
  {
   "cell_type": "code",
   "execution_count": 11,
   "metadata": {
    "slideshow": {
     "slide_type": "slide"
    }
   },
   "outputs": [
    {
     "data": {
      "text/html": [
       "<div>\n",
       "<style scoped>\n",
       "    .dataframe tbody tr th:only-of-type {\n",
       "        vertical-align: middle;\n",
       "    }\n",
       "\n",
       "    .dataframe tbody tr th {\n",
       "        vertical-align: top;\n",
       "    }\n",
       "\n",
       "    .dataframe thead th {\n",
       "        text-align: right;\n",
       "    }\n",
       "</style>\n",
       "<table border=\"1\" class=\"dataframe\">\n",
       "  <thead>\n",
       "    <tr style=\"text-align: right;\">\n",
       "      <th></th>\n",
       "      <th>close</th>\n",
       "      <th>simpleret</th>\n",
       "      <th>logret</th>\n",
       "    </tr>\n",
       "  </thead>\n",
       "  <tbody>\n",
       "    <tr>\n",
       "      <th>1990-12-31</th>\n",
       "      <td>127.61</td>\n",
       "      <td>NaN</td>\n",
       "      <td>NaN</td>\n",
       "    </tr>\n",
       "    <tr>\n",
       "      <th>1991-12-31</th>\n",
       "      <td>292.75</td>\n",
       "      <td>1.294099</td>\n",
       "      <td>0.83034</td>\n",
       "    </tr>\n",
       "  </tbody>\n",
       "</table>\n",
       "</div>"
      ],
      "text/plain": [
       "             close  simpleret   logret\n",
       "1990-12-31  127.61        NaN      NaN\n",
       "1991-12-31  292.75   1.294099  0.83034"
      ]
     },
     "execution_count": 11,
     "metadata": {},
     "output_type": "execute_result"
    }
   ],
   "source": [
    "shindex=shindex[\"1990\":\"2014\"]\n",
    "shcloseyear=shindex[\"CLOSE\"].resample(\"A\").last()\n",
    "ret=shcloseyear.pct_change()\n",
    "ret.columns=[\"SimpleReturn\"]\n",
    "logret=(1+ret).map(np.math.log)\n",
    "logret.columns=[\"LogReturn\"]\n",
    "res=pd.concat([shcloseyear,ret,logret],axis=1)\n",
    "res.columns=[\"close\",\"simpleret\",\"logret\"]\n",
    "res.head(2)"
   ]
  },
  {
   "cell_type": "code",
   "execution_count": 12,
   "metadata": {
    "slideshow": {
     "slide_type": "slide"
    }
   },
   "outputs": [
    {
     "name": "stdout",
     "output_type": "stream",
     "text": [
      "0.13469606744848892\n",
      "0.4599362389738539\n"
     ]
    }
   ],
   "source": [
    "m=logret.mean();sig=logret.std();\n",
    "print(m)\n",
    "print(sig)"
   ]
  },
  {
   "cell_type": "code",
   "execution_count": 13,
   "metadata": {},
   "outputs": [
    {
     "name": "stdout",
     "output_type": "stream",
     "text": [
      "Welcome to use Wind Quant API for Python (WindPy)!\n",
      "\n",
      "COPYRIGHT (C) 2020 WIND INFORMATION CO., LTD. ALL RIGHTS RESERVED.\n",
      "IN NO CIRCUMSTANCE SHALL WIND BE RESPONSIBLE FOR ANY DAMAGES OR LOSSES CAUSED BY USING WIND QUANT API FOR Python.\n"
     ]
    }
   ],
   "source": [
    "#利用wind数据,wind不可用时忽略这两个cell\n",
    "from WindPy import w\n",
    "import pandas as pd\n",
    "import datetime\n",
    "w.start();"
   ]
  },
  {
   "cell_type": "code",
   "execution_count": 14,
   "metadata": {},
   "outputs": [],
   "source": [
    "codeid=\"000001.SH\"\n",
    "start_date=\"1990/12/19\"\n",
    "end_date=datetime.datetime(2021,10,21)\n",
    "stock=w.wsd(codeid, \"open,high,low,close,volume\", start_date,end_date)\n",
    "shindex=pd.DataFrame(stock.Data,index=stock.Fields,columns=stock.Times).T\n",
    "# index is not DatetimeIndex\n",
    "shindex.index=pd.DatetimeIndex(shindex.index) \n",
    "#stockdf.T.to_csv(\"D:\\\\Wind\\\\WindData\\\\daily\\\\\"+codeid+ \".csv\")"
   ]
  },
  {
   "cell_type": "code",
   "execution_count": 15,
   "metadata": {},
   "outputs": [
    {
     "data": {
      "text/plain": [
       "<matplotlib.axes._subplots.AxesSubplot at 0x1d17fe70508>"
      ]
     },
     "execution_count": 15,
     "metadata": {},
     "output_type": "execute_result"
    },
    {
     "data": {
      "image/png": "[encoded data removed]",
      "text/plain": [
       "<Figure size 720x432 with 1 Axes>"
      ]
     },
     "metadata": {
      "needs_background": "light"
     },
     "output_type": "display_data"
    }
   ],
   "source": [
    "fig = plt.figure(figsize=(10,6))\n",
    "#ax = fig.add_subplot(111)\n",
    "#ax.xaxis.set_major_formatter(dates.DateFormatter('%Y'))\n",
    "shindex[\"CLOSE\"].plot()"
   ]
  },
  {
   "cell_type": "code",
   "execution_count": 16,
   "metadata": {
    "slideshow": {
     "slide_type": "slide"
    }
   },
   "outputs": [
    {
     "data": {
      "text/html": [
       "<div>\n",
       "<style scoped>\n",
       "    .dataframe tbody tr th:only-of-type {\n",
       "        vertical-align: middle;\n",
       "    }\n",
       "\n",
       "    .dataframe tbody tr th {\n",
       "        vertical-align: top;\n",
       "    }\n",
       "\n",
       "    .dataframe thead th {\n",
       "        text-align: right;\n",
       "    }\n",
       "</style>\n",
       "<table border=\"1\" class=\"dataframe\">\n",
       "  <thead>\n",
       "    <tr style=\"text-align: right;\">\n",
       "      <th></th>\n",
       "      <th>close</th>\n",
       "      <th>simpleret</th>\n",
       "      <th>logret</th>\n",
       "    </tr>\n",
       "  </thead>\n",
       "  <tbody>\n",
       "    <tr>\n",
       "      <th>1991-12-31</th>\n",
       "      <td>292.7500</td>\n",
       "      <td>1.294099</td>\n",
       "      <td>0.830340</td>\n",
       "    </tr>\n",
       "    <tr>\n",
       "      <th>1992-12-31</th>\n",
       "      <td>780.3900</td>\n",
       "      <td>1.665722</td>\n",
       "      <td>0.980475</td>\n",
       "    </tr>\n",
       "    <tr>\n",
       "      <th>1993-12-31</th>\n",
       "      <td>833.8000</td>\n",
       "      <td>0.068440</td>\n",
       "      <td>0.066200</td>\n",
       "    </tr>\n",
       "    <tr>\n",
       "      <th>2017-12-31</th>\n",
       "      <td>3307.1721</td>\n",
       "      <td>0.065579</td>\n",
       "      <td>0.063519</td>\n",
       "    </tr>\n",
       "    <tr>\n",
       "      <th>2018-12-31</th>\n",
       "      <td>2493.8962</td>\n",
       "      <td>-0.245913</td>\n",
       "      <td>-0.282247</td>\n",
       "    </tr>\n",
       "    <tr>\n",
       "      <th>2019-12-31</th>\n",
       "      <td>3050.1240</td>\n",
       "      <td>0.223036</td>\n",
       "      <td>0.201336</td>\n",
       "    </tr>\n",
       "  </tbody>\n",
       "</table>\n",
       "</div>"
      ],
      "text/plain": [
       "                close  simpleret    logret\n",
       "1991-12-31   292.7500   1.294099  0.830340\n",
       "1992-12-31   780.3900   1.665722  0.980475\n",
       "1993-12-31   833.8000   0.068440  0.066200\n",
       "2017-12-31  3307.1721   0.065579  0.063519\n",
       "2018-12-31  2493.8962  -0.245913 -0.282247\n",
       "2019-12-31  3050.1240   0.223036  0.201336"
      ]
     },
     "execution_count": 16,
     "metadata": {},
     "output_type": "execute_result"
    }
   ],
   "source": [
    "\n",
    "shyear=shindex.resample(\"A\").last()\n",
    "shcloseyear=shindex[\"CLOSE\"].resample(\"A\").last()\n",
    "ret=shcloseyear.pct_change() \n",
    "ret.columns=[\"SimpleReturn\"]\n",
    "logret=(1+ret).map(np.math.log)\n",
    "logret.columns=[\"LogReturn\"]\n",
    "res=pd.concat([shcloseyear,ret,logret],axis=1)[\"1991\":\"2019\"]\n",
    "res.columns=[\"close\",\"simpleret\",\"logret\"]\n",
    "pd.concat([res[:3],res[-3:]])"
   ]
  },
  {
   "cell_type": "code",
   "execution_count": 17,
   "metadata": {
    "slideshow": {
     "slide_type": "slide"
    }
   },
   "outputs": [
    {
     "name": "stdout",
     "output_type": "stream",
     "text": [
      "0.10761590292556182\n",
      "0.4126881399513309\n",
      "2878.568126795382\n",
      "34015.27725534784\n"
     ]
    }
   ],
   "source": [
    "#收益率期望，标准差，价格中位数，期望，\n",
    "m=logret.mean();sig=logret.std();\n",
    "print(m)\n",
    "print(sig)\n",
    "print(127*np.exp(29*m))\n",
    "print(127*np.exp(29*m+29*sig**2/2))"
   ]
  },
  {
   "cell_type": "markdown",
   "metadata": {
    "slideshow": {
     "slide_type": "slide"
    }
   },
   "source": [
    "###  对数收益率的正态假设合理吗？\n",
    "\n",
    "检验一个随机变量是否是正态分布有几种方法，最直观的方法是利用正态QQ图进行比较。画QQ图时，横轴是正态分布的分位数，纵轴是观测样本的分位数。如果QQ图是一条直线，说明观测样本服从正态分布的。\n"
   ]
  },
  {
   "cell_type": "code",
   "execution_count": 19,
   "metadata": {
    "slideshow": {
     "slide_type": "slide"
    }
   },
   "outputs": [],
   "source": [
    "dprice=shindex[\"CLOSE\"][\"1991\":\"2014\"]\n",
    "logret=dprice.map(np.math.log).diff()\n",
    "logret=logret[1:]\n",
    "logretW=logret.resample(\"w\").sum().dropna() \n",
    "logretM=logret.resample(\"M\").sum().dropna()\n",
    "logretQ=logret.resample(\"Q\").sum()\n",
    "logretA=logret.resample(\"A\").sum()"
   ]
  },
  {
   "cell_type": "code",
   "execution_count": 20,
   "metadata": {},
   "outputs": [
    {
     "data": {
      "image/png": "[encoded data removed]",
      "text/plain": [
       "<Figure size 720x432 with 5 Axes>"
      ]
     },
     "metadata": {
      "needs_background": "light"
     },
     "output_type": "display_data"
    }
   ],
   "source": [
    "import statsmodels.api as sm\n",
    "import scipy.stats as stats\n",
    "freqs=[ 'Daily', 'Weekly', 'Monthly','Quarterly','Annually']\n",
    "retlist=[logret,logretW,logretM,logretQ,logretA]\n",
    "left = 0 \n",
    "fig = plt.figure(figsize=(10,6))\n",
    "for i in range(5):\n",
    "    ax = fig.add_subplot(2, 3, i+1)\n",
    "    sm.qqplot(retlist[i],stats.norm,line='s',fit=True,ax=ax)\n",
    "    top = ax.get_ylim()[1] * 0.75\n",
    "    txt = ax.text(left, top, freqs[i], verticalalignment='top')\n",
    "    txt.set_bbox(dict(facecolor='k', alpha=0.1))\n",
    "\n",
    "fig.tight_layout()"
   ]
  },
  {
   "cell_type": "code",
   "execution_count": null,
   "metadata": {
    "slideshow": {
     "slide_type": "slide"
    }
   },
   "outputs": [],
   "source": [
    "sm.qqplot?"
   ]
  },
  {
   "cell_type": "markdown",
   "metadata": {
    "slideshow": {
     "slide_type": "slide"
    }
   },
   "source": [
    "+ 另一个判断正态性的方法利用峰度和偏度。正态分布的偏度为0，峰度为3，如果观测样本服从正态分布，则其样本偏度和样本峰度应该在0和3附近。\n",
    "+ 这个问题我们还会在下一讲中进一步介绍。"
   ]
  },
  {
   "cell_type": "code",
   "execution_count": 21,
   "metadata": {
    "slideshow": {
     "slide_type": "slide"
    }
   },
   "outputs": [
    {
     "data": {
      "text/html": [
       "<div>\n",
       "<style scoped>\n",
       "    .dataframe tbody tr th:only-of-type {\n",
       "        vertical-align: middle;\n",
       "    }\n",
       "\n",
       "    .dataframe tbody tr th {\n",
       "        vertical-align: top;\n",
       "    }\n",
       "\n",
       "    .dataframe thead th {\n",
       "        text-align: right;\n",
       "    }\n",
       "</style>\n",
       "<table border=\"1\" class=\"dataframe\">\n",
       "  <thead>\n",
       "    <tr style=\"text-align: right;\">\n",
       "      <th></th>\n",
       "      <th>日</th>\n",
       "      <th>周</th>\n",
       "      <th>月</th>\n",
       "      <th>季</th>\n",
       "      <th>年</th>\n",
       "    </tr>\n",
       "  </thead>\n",
       "  <tbody>\n",
       "    <tr>\n",
       "      <th>均值</th>\n",
       "      <td>0.000549</td>\n",
       "      <td>0.002572</td>\n",
       "      <td>0.011191</td>\n",
       "      <td>0.033574</td>\n",
       "      <td>0.134296</td>\n",
       "    </tr>\n",
       "    <tr>\n",
       "      <th>标准差</th>\n",
       "      <td>0.023896</td>\n",
       "      <td>0.055840</td>\n",
       "      <td>0.130790</td>\n",
       "      <td>0.217359</td>\n",
       "      <td>0.459309</td>\n",
       "    </tr>\n",
       "    <tr>\n",
       "      <th>偏度</th>\n",
       "      <td>5.539867</td>\n",
       "      <td>5.671401</td>\n",
       "      <td>2.421733</td>\n",
       "      <td>1.364601</td>\n",
       "      <td>-0.186694</td>\n",
       "    </tr>\n",
       "    <tr>\n",
       "      <th>峰度</th>\n",
       "      <td>156.482192</td>\n",
       "      <td>82.973392</td>\n",
       "      <td>21.151204</td>\n",
       "      <td>9.500519</td>\n",
       "      <td>3.723456</td>\n",
       "    </tr>\n",
       "  </tbody>\n",
       "</table>\n",
       "</div>"
      ],
      "text/plain": [
       "              日          周          月         季         年\n",
       "均值     0.000549   0.002572   0.011191  0.033574  0.134296\n",
       "标准差    0.023896   0.055840   0.130790  0.217359  0.459309\n",
       "偏度     5.539867   5.671401   2.421733  1.364601 -0.186694\n",
       "峰度   156.482192  82.973392  21.151204  9.500519  3.723456"
      ]
     },
     "execution_count": 21,
     "metadata": {},
     "output_type": "execute_result"
    }
   ],
   "source": [
    "def moment4(x):\n",
    "    return [x.mean(),x.std(),x.skew(),x.kurt()+3]\n",
    "RetMom=pd.DataFrame([moment4(x) for x in [logret,logretW,logretM,logretQ,logretA]],columns=[u\"均值\",u\"标准差\",u\"偏度\",u\"峰度\"], index=[u\"日\",u\"周\",u\"月\",u\"季\",u\"年\"])\n",
    "RetMom.T"
   ]
  },
  {
   "cell_type": "markdown",
   "metadata": {
    "slideshow": {
     "slide_type": "slide"
    }
   },
   "source": [
    "可以看出，随着计算时长的增加，对数收益率的偏度和峰度逐渐向0和3接近，说明时间越长，对数收益率越接近正态分布。由k期对数收益率是每期对数收益率之和，可以利用大数定律解释这个现象。通过表格同样可以得出日收益率的偏度和峰度都很大，显然不是正态分布。其较大的峰度说明日收益率是一种典型的厚尾分布. 也可以用检验来判断数据是否服从正态分布。"
   ]
  },
  {
   "cell_type": "code",
   "execution_count": 22,
   "metadata": {
    "slideshow": {
     "slide_type": "slide"
    }
   },
   "outputs": [
    {
     "data": {
      "text/plain": [
       "[NormaltestResult(statistic=6982.31478258411, pvalue=0.0),\n",
       " NormaltestResult(statistic=1482.326944148673, pvalue=0.0),\n",
       " NormaltestResult(statistic=196.95575049969784, pvalue=1.704520345543443e-43),\n",
       " NormaltestResult(statistic=42.33593942387097, pvalue=6.410140682277824e-10),\n",
       " NormaltestResult(statistic=1.0864918370303167, pvalue=0.5808597656270704)]"
      ]
     },
     "execution_count": 22,
     "metadata": {},
     "output_type": "execute_result"
    }
   ],
   "source": [
    "[stats.normaltest(x) for x in [logret,logretW,logretM,logretQ,logretA]]"
   ]
  },
  {
   "cell_type": "markdown",
   "metadata": {
    "slideshow": {
     "slide_type": "slide"
    }
   },
   "source": [
    "上述检验的原理仍然是判断偏度和峰度是否偏离0和3。"
   ]
  },
  {
   "cell_type": "markdown",
   "metadata": {
    "slideshow": {
     "slide_type": "slide"
    }
   },
   "source": [
    "上述例子表明上证综合指数对数日收益率分布和正态分布相去甚远，这一点可能和中国市场的特殊性有关。一般来说，证券市场日对数收益率分布和正态分布都有一定的差异，但差异的大小，则与市场情况，证券种类以及分析时期有关系，下面我们看美国证券市场中的通用股份（GE）的日对数收益率。"
   ]
  },
  {
   "cell_type": "markdown",
   "metadata": {
    "slideshow": {
     "slide_type": "slide"
    }
   },
   "source": [
    "![](data/genorm.jpg)\n",
    "\n",
    "均值为 -1.149719e-05，标准差为 0.01758546，偏度为 -0.1482877，峰度为3.092761。可以看出偏度和峰度和正态分布相差无几。 "
   ]
  },
  {
   "cell_type": "markdown",
   "metadata": {},
   "source": [
    "模拟若干条随机游走，几何随机游走，并给出每个时点上的一倍标准差，二倍标准差。\n",
    "\n",
    "利用这些参数，以127为起点模拟对应的几何随机游走序列"
   ]
  },
  {
   "cell_type": "code",
   "execution_count": 25,
   "metadata": {
    "scrolled": false
   },
   "outputs": [
    {
     "data": {
      "text/plain": [
       "[<matplotlib.lines.Line2D at 0x1d102663948>]"
      ]
     },
     "execution_count": 25,
     "metadata": {},
     "output_type": "execute_result"
    },
    {
     "data": {
      "image/png": "[encoded data removed]",
      "text/plain": [
       "<Figure size 864x288 with 1 Axes>"
      ]
     },
     "metadata": {
      "needs_background": "light"
     },
     "output_type": "display_data"
    }
   ],
   "source": [
    "np.random.seed(seed=1000)\n",
    "k=5\n",
    "r=pd.DataFrame(np.random.normal(0.134,0.47,26*k).reshape(26,k))\n",
    "\n",
    "p=np.exp(r.cumsum())*127\n",
    "fig, ax = plt.subplots(1,1,figsize=(12,4))\n",
    "ax.plot(p)\n",
    "ax.plot(shyear[\"CLOSE\"].values,\"y-*\")\n",
    "\n"
   ]
  }
 ],
 "metadata": {
  "anaconda-cloud": {},
  "celltoolbar": "幻灯片",
  "kernelspec": {
   "display_name": "Python 3",
   "language": "python",
   "name": "python3"
  },
  "language_info": {
   "codemirror_mode": {
    "name": "ipython",
    "version": 3
   },
   "file_extension": ".py",
   "mimetype": "text/x-python",
   "name": "python",
   "nbconvert_exporter": "python",
   "pygments_lexer": "ipython3",
   "version": "3.7.6"
  },
  "latex_envs": {
   "LaTeX_envs_menu_present": true,
   "autoclose": false,
   "autocomplete": true,
   "bibliofile": "biblio.bib",
   "cite_by": "apalike",
   "current_citInitial": 1,
   "eqLabelWithNumbers": true,
   "eqNumInitial": 1,
   "hotkeys": {
    "equation": "Ctrl-E",
    "itemize": "Ctrl-I"
   },
   "labels_anchors": false,
   "latex_user_defs": false,
   "report_style_numbering": false,
   "user_envs_cfg": false
  }
 },
 "nbformat": 4,
 "nbformat_minor": 1
}
