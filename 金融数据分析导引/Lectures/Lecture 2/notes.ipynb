{
 "cells": [
  {
   "cell_type": "code",
   "execution_count": 17,
   "metadata": {},
   "outputs": [],
   "source": [
    "from numpy.random import randn #产生正态随机数的函数\n",
    "import numpy as np #简便书写"
   ]
  },
  {
   "cell_type": "code",
   "execution_count": 18,
   "metadata": {},
   "outputs": [
    {
     "data": {
      "text/plain": [
       "array([3.4, 5.5])"
      ]
     },
     "execution_count": 18,
     "metadata": {},
     "output_type": "execute_result"
    }
   ],
   "source": [
    "np.array([3.4, 5.5])#生成array 数据的函数"
   ]
  },
  {
   "cell_type": "code",
   "execution_count": 19,
   "metadata": {},
   "outputs": [
    {
     "name": "stdout",
     "output_type": "stream",
     "text": [
      "[[-0.86753718  0.85666884  0.48470951]\n",
      " [-1.6662022   0.17208592 -0.11600807]]\n",
      "(2, 3)\n",
      "float64\n"
     ]
    },
    {
     "data": {
      "text/plain": [
       "(1, 1)"
      ]
     },
     "execution_count": 19,
     "metadata": {},
     "output_type": "execute_result"
    }
   ],
   "source": [
    "data = randn(2,3)\n",
    "print(data)\n",
    "print(data.shape) #输出array格式的数据的维数\n",
    "print(data.dtype) #输出array格式的的数据的类别\n",
    "b = [[2,]]\n",
    "np.array(b).shape #说明空的会被省略掉"
   ]
  },
  {
   "cell_type": "code",
   "execution_count": 24,
   "metadata": {},
   "outputs": [
    {
     "name": "stdout",
     "output_type": "stream",
     "text": [
      "[ 0  1  2  3  4  5  6  7  8  9 10 11 12 13 14]\n",
      "\n",
      "[ 2  3  4  5  6  7  8  9 10 11 12 13 14]\n",
      "\n",
      "[ 2  4  6  8 10 12 14]\n",
      "\n",
      "[ 2.   3.5  5.   6.5  8.   9.5 11.  12.5 14. ]\n",
      "\n"
     ]
    }
   ],
   "source": [
    "print(np.arange(15),end='\\n\\n') #输出等差数列，默认值0-15，不包含mxa=15，默认步长为1\n",
    "print(np.arange(2,15),end='\\n\\n') #输出等差数列，从2-15，不包含15，默认步长为1\n",
    "print(np.arange(2,15,2),end='\\n\\n') #输出等差数列，从2-15，不包含15，步长设定为2\n",
    "print(np.arange(2,15,1.5),end='\\n\\n') #步长设定为1.5"
   ]
  },
  {
   "cell_type": "code",
   "execution_count": 29,
   "metadata": {},
   "outputs": [
    {
     "name": "stdout",
     "output_type": "stream",
     "text": [
      "[0.  0.1 0.2 0.3 0.4 0.5 0.6 0.7 0.8 0.9 1. ]\n",
      "\n",
      "[0.         0.09090909 0.18181818 0.27272727 0.36363636 0.45454545\n",
      " 0.54545455 0.63636364 0.72727273 0.81818182 0.90909091]\n",
      "\n",
      "[0.  0.1 0.2 0.3 0.4 0.5 0.6 0.7 0.8 0.9 1. ]\n",
      "\n",
      "[0.         0.09090909 0.18181818 0.27272727 0.36363636 0.45454545\n",
      " 0.54545455 0.63636364 0.72727273 0.81818182 0.90909091 1.        ]\n",
      "\n"
     ]
    }
   ],
   "source": [
    "print(np.linspace(0,1,11),end='\\n\\n')#从0-11，不包含11，设定一共有11个\n",
    "print(np.linspace(0,1,11, endpoint = False), end='\\n\\n')\n",
    "print(np.linspace(0,1,11, endpoint = True), end='\\n\\n')#可以设置是否包含max\n",
    "print(np.linspace(0,1,12),end='\\n\\n')"
   ]
  }
 ],
 "metadata": {
  "kernelspec": {
   "display_name": "base",
   "language": "python",
   "name": "python3"
  },
  "language_info": {
   "codemirror_mode": {
    "name": "ipython",
    "version": 3
   },
   "file_extension": ".py",
   "mimetype": "text/x-python",
   "name": "python",
   "nbconvert_exporter": "python",
   "pygments_lexer": "ipython3",
   "version": "3.11.4"
  },
  "orig_nbformat": 4
 },
 "nbformat": 4,
 "nbformat_minor": 2
}
