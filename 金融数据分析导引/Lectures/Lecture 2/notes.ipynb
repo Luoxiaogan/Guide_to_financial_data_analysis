{
 "cells": [
  {
   "cell_type": "code",
   "execution_count": 1,
   "metadata": {},
   "outputs": [],
   "source": [
    "from numpy.random import randn #产生正态随机数的函数\n",
    "import numpy as np #简便书写"
   ]
  },
  {
   "cell_type": "code",
   "execution_count": 2,
   "metadata": {},
   "outputs": [
    {
     "data": {
      "text/plain": [
       "array([3.4, 5.5])"
      ]
     },
     "execution_count": 2,
     "metadata": {},
     "output_type": "execute_result"
    }
   ],
   "source": [
    "np.array([3.4, 5.5])#生成array 数据的函数"
   ]
  },
  {
   "cell_type": "code",
   "execution_count": 3,
   "metadata": {},
   "outputs": [
    {
     "name": "stdout",
     "output_type": "stream",
     "text": [
      "[[-1.26977188 -1.55135293  1.3849248 ]\n",
      " [ 0.04243043 -0.54822738  1.88745729]]\n",
      "(2, 3)\n",
      "float64\n"
     ]
    },
    {
     "data": {
      "text/plain": [
       "(1, 1)"
      ]
     },
     "execution_count": 3,
     "metadata": {},
     "output_type": "execute_result"
    }
   ],
   "source": [
    "data = randn(2,3)\n",
    "print(data)\n",
    "print(data.shape) #输出array格式的数据的维数\n",
    "print(data.dtype) #输出array格式的的数据的类别\n",
    "b = [[2,]]\n",
    "np.array(b).shape #说明空的会被省略掉"
   ]
  },
  {
   "cell_type": "code",
   "execution_count": 4,
   "metadata": {},
   "outputs": [
    {
     "name": "stdout",
     "output_type": "stream",
     "text": [
      "[1 2 3] (3,) int32\n",
      "\n",
      "[[1]] (1, 1) int32\n",
      "\n",
      "[[1 0 0]\n",
      " [0 1 2]] (2, 3) int32\n",
      "\n"
     ]
    }
   ],
   "source": [
    "a=np.array([1,2,3])\n",
    "b=np.array([[1,]])\n",
    "c=np.array([[1,0,0],[0,1,2]])\n",
    "print(a,a.shape,a.dtype,end='\\n\\n')\n",
    "print(b,b.shape,b.dtype,end='\\n\\n')\n",
    "print(c,c.shape,c.dtype,end='\\n\\n')"
   ]
  },
  {
   "cell_type": "code",
   "execution_count": 5,
   "metadata": {},
   "outputs": [
    {
     "name": "stdout",
     "output_type": "stream",
     "text": [
      "[ 0  1  2  3  4  5  6  7  8  9 10 11 12 13 14]\n",
      "\n",
      "[ 2  3  4  5  6  7  8  9 10 11 12 13 14]\n",
      "\n",
      "[ 2  4  6  8 10 12 14]\n",
      "\n",
      "[ 2.   3.5  5.   6.5  8.   9.5 11.  12.5 14. ]\n",
      "\n"
     ]
    }
   ],
   "source": [
    "print(np.arange(15),end='\\n\\n') #输出等差数列，默认值0-15，不包含mxa=15，默认步长为1\n",
    "print(np.arange(2,15),end='\\n\\n') #输出等差数列，从2-15，不包含15，默认步长为1\n",
    "print(np.arange(2,15,2),end='\\n\\n') #输出等差数列，从2-15，不包含15，步长设定为2\n",
    "print(np.arange(2,15,1.5),end='\\n\\n') #步长设定为1.5"
   ]
  },
  {
   "cell_type": "code",
   "execution_count": 6,
   "metadata": {},
   "outputs": [
    {
     "name": "stdout",
     "output_type": "stream",
     "text": [
      "[0.  0.1 0.2 0.3 0.4 0.5 0.6 0.7 0.8 0.9 1. ]\n",
      "\n",
      "[0.         0.09090909 0.18181818 0.27272727 0.36363636 0.45454545\n",
      " 0.54545455 0.63636364 0.72727273 0.81818182 0.90909091]\n",
      "\n",
      "[0.  0.1 0.2 0.3 0.4 0.5 0.6 0.7 0.8 0.9 1. ]\n",
      "\n",
      "[0.         0.09090909 0.18181818 0.27272727 0.36363636 0.45454545\n",
      " 0.54545455 0.63636364 0.72727273 0.81818182 0.90909091 1.        ]\n",
      "\n"
     ]
    }
   ],
   "source": [
    "print(np.linspace(0,1,11),end='\\n\\n')#从0-11，不包含11，设定一共有11个\n",
    "print(np.linspace(0,1,11, endpoint = False), end='\\n\\n')\n",
    "print(np.linspace(0,1,11, endpoint = True), end='\\n\\n')#可以设置是否包含max\n",
    "print(np.linspace(0,1,12),end='\\n\\n')"
   ]
  },
  {
   "cell_type": "code",
   "execution_count": 7,
   "metadata": {},
   "outputs": [
    {
     "name": "stdout",
     "output_type": "stream",
     "text": [
      "[ 6.   7.8  8.9 33. ] (4,) float64\n"
     ]
    }
   ],
   "source": [
    "data1=[6,7.8,8.9,33]\n",
    "arr1=np.array(data1)\n",
    "print(arr1,arr1.shape,arr1.dtype)"
   ]
  },
  {
   "cell_type": "code",
   "execution_count": 8,
   "metadata": {},
   "outputs": [
    {
     "name": "stdout",
     "output_type": "stream",
     "text": [
      "[[1. 2. 3. 4.]\n",
      " [5. 6. 7. 8.]] (2, 4) float64\n"
     ]
    }
   ],
   "source": [
    "data2=[[1,2,3.0,4],[5,6,7,8]]\n",
    "arr2=np.array(data2)\n",
    "print(arr2,arr2.shape,arr2.dtype)"
   ]
  },
  {
   "cell_type": "code",
   "execution_count": 9,
   "metadata": {},
   "outputs": [
    {
     "name": "stdout",
     "output_type": "stream",
     "text": [
      "[[1. 2. 3. 4.]\n",
      " [5. 6. 7. 8.]] (2, 4) float64\n",
      "\n",
      "[[1. 2. 3. 4. 5. 6. 7. 8.]] (1, 8) float64\n",
      "\n",
      "[[1. 2.]\n",
      " [3. 4.]\n",
      " [5. 6.]\n",
      " [7. 8.]] (4, 2) float64\n",
      "\n"
     ]
    }
   ],
   "source": [
    "#使用reshape来改变维数\n",
    "print(arr2,arr2.shape,arr2.dtype,end='\\n\\n')\n",
    "b=arr2.reshape((1,8))\n",
    "print(b,b.shape,b.dtype,end='\\n\\n')\n",
    "b=arr2.reshape((4,2))\n",
    "print(b,b.shape,b.dtype,end='\\n\\n')\n"
   ]
  },
  {
   "cell_type": "code",
   "execution_count": 10,
   "metadata": {},
   "outputs": [
    {
     "name": "stdout",
     "output_type": "stream",
     "text": [
      "[0 0 0 0 0 0 0 0 0 0] (10,) int32\n",
      "[0. 0. 0. 0. 0. 0. 0. 0. 0. 0.] (10,) float64\n"
     ]
    }
   ],
   "source": [
    "a=np.zeros(10,dtype='int')\n",
    "print(a,a.shape,a.dtype)\n",
    "a=np.zeros(10,dtype='float')\n",
    "print(a,a.shape,a.dtype)"
   ]
  },
  {
   "cell_type": "code",
   "execution_count": 11,
   "metadata": {},
   "outputs": [
    {
     "name": "stdout",
     "output_type": "stream",
     "text": [
      "[[1 1 1]\n",
      " [1 1 1]] (2, 3) int32\n",
      "[[1. 1. 1.]\n",
      " [1. 1. 1.]] (2, 3) float64\n"
     ]
    }
   ],
   "source": [
    "b=np.ones((2,3),dtype='int')\n",
    "print(b,b.shape,b.dtype)\n",
    "b=np.ones((2,3),dtype='float')\n",
    "print(b,b.shape,b.dtype)"
   ]
  },
  {
   "cell_type": "code",
   "execution_count": 12,
   "metadata": {},
   "outputs": [
    {
     "name": "stdout",
     "output_type": "stream",
     "text": [
      "[[1. 0.]\n",
      " [0. 1.]] (2, 2) float64\n",
      "\n",
      "[[1. 0. 0. 0. 0. 0. 0. 0. 0.]\n",
      " [0. 1. 0. 0. 0. 0. 0. 0. 0.]\n",
      " [0. 0. 1. 0. 0. 0. 0. 0. 0.]\n",
      " [0. 0. 0. 1. 0. 0. 0. 0. 0.]] (4, 9) float64\n"
     ]
    }
   ],
   "source": [
    "c=np.identity(2)#单位矩阵(方阵)\n",
    "print(c,c.shape,c.dtype,end='\\n\\n')\n",
    "d=np.eye(4,9)\n",
    "print(d,d.shape,d.dtype)"
   ]
  },
  {
   "cell_type": "code",
   "execution_count": 13,
   "metadata": {},
   "outputs": [
    {
     "name": "stdout",
     "output_type": "stream",
     "text": [
      "[1 2 3 4 5] (5,) int32\n"
     ]
    }
   ],
   "source": [
    "arr = np.array([1,2,3,4,5],dtype=np.int32)\n",
    "print(arr,arr.shape,arr.dtype)"
   ]
  },
  {
   "cell_type": "code",
   "execution_count": 14,
   "metadata": {},
   "outputs": [
    {
     "name": "stdout",
     "output_type": "stream",
     "text": [
      "[1. 2. 3. 4. 5.] (5,) float64\n"
     ]
    }
   ],
   "source": [
    "#使用astype去修改类型\n",
    "float_arr = arr.astype(np.float64)\n",
    "print(float_arr,float_arr.shape,float_arr.dtype)"
   ]
  },
  {
   "cell_type": "code",
   "execution_count": 15,
   "metadata": {},
   "outputs": [
    {
     "name": "stdout",
     "output_type": "stream",
     "text": [
      "[ 3  1  0 12  5] (5,) int32\n"
     ]
    }
   ],
   "source": [
    "arr=np.array([3.7,1.2,0.5,12.7,5.6])\n",
    "c=arr.astype(np.int32)\n",
    "print(c,c.shape,c.dtype)"
   ]
  },
  {
   "cell_type": "code",
   "execution_count": 16,
   "metadata": {},
   "outputs": [
    {
     "name": "stdout",
     "output_type": "stream",
     "text": [
      "['1.25' '42'] (2,) <U4\n",
      "[ 1.25 42.  ] (2,) float64\n"
     ]
    }
   ],
   "source": [
    "c=numeric_strings = np.array(['1.25', '42'],dtype=str)\n",
    "print(c,c.shape,c.dtype)\n",
    "c=c.astype(float)\n",
    "print(c,c.shape,c.dtype)"
   ]
  },
  {
   "cell_type": "code",
   "execution_count": 17,
   "metadata": {},
   "outputs": [
    {
     "name": "stdout",
     "output_type": "stream",
     "text": [
      "[[1. 2. 3.]\n",
      " [4. 5. 6.]]\n",
      "\n",
      "[[ 1.  4.  9.]\n",
      " [16. 25. 36.]]\n",
      "\n",
      "[[ 0.  2.  6.]\n",
      " [12. 20. 30.]]\n",
      "\n",
      "[[1.         0.5        0.33333333]\n",
      " [0.25       0.2        0.16666667]]\n",
      "\n",
      "[[ 2.  4.  6.]\n",
      " [ 8. 10. 12.]]\n",
      "\n",
      "[[ 1.  4.  9.]\n",
      " [16. 25. 36.]]\n",
      "\n"
     ]
    }
   ],
   "source": [
    "arr=np.array(([1,2,3],[4,5,6]),dtype=float)\n",
    "print(arr,end='\\n\\n')\n",
    "print(arr*arr,end='\\n\\n')#对应元素相乘\n",
    "print(arr*arr-arr,end='\\n\\n')\n",
    "print(1/arr,end='\\n\\n')\n",
    "print(arr*2,end='\\n\\n')\n",
    "print(arr**2,end='\\n\\n')#对应元素平方"
   ]
  },
  {
   "cell_type": "code",
   "execution_count": 18,
   "metadata": {},
   "outputs": [
    {
     "name": "stdout",
     "output_type": "stream",
     "text": [
      "[0 1 2 3 4 5 6 7 8 9] (10,) int32\n",
      "[5 6 7]\n",
      "[ 0  1  2  3  4 12 12 12  8  9] (10,) int32\n"
     ]
    }
   ],
   "source": [
    "arr=np.arange(10)\n",
    "print(arr,arr.shape,arr.dtype)\n",
    "print(arr[5:8])\n",
    "arr[5:8] = 12\n",
    "print(arr,arr.shape,arr.dtype)"
   ]
  },
  {
   "cell_type": "code",
   "execution_count": 19,
   "metadata": {},
   "outputs": [
    {
     "name": "stdout",
     "output_type": "stream",
     "text": [
      "2504873800304 2504873801936\n",
      "False \n",
      " [ True  True  True]\n",
      "[    0     1     2     3     4     5 12345     7     8     9] \n",
      " [    5 12345     7]\n"
     ]
    }
   ],
   "source": [
    "arr=np.arange(10)\n",
    "arr_slice=arr[5:8]\n",
    "print(id(arr_slice), id(arr[5:8]),)\n",
    "print(arr_slice is arr[5:8],'\\n',arr_slice == arr[5:8] )\n",
    "arr_slice[1]=12345\n",
    "print(arr,'\\n', arr_slice)"
   ]
  },
  {
   "cell_type": "markdown",
   "metadata": {},
   "source": [
    "原因：\n",
    "> object（对象） 与 location（地址） 并不相同\n",
    "+ 一个对象可以是一个指针，例如对象A是个指针，它的内容是->B，其中B是一个存储空间；C也可以是个指针，内容也是->B，这时候它们是两个不同的对象，指向同一个存储空间\n",
    "> 但实际上，切片slice，只是创造了一个视图，其实指向的地址还是不一样"
   ]
  },
  {
   "cell_type": "code",
   "execution_count": 20,
   "metadata": {},
   "outputs": [
    {
     "name": "stdout",
     "output_type": "stream",
     "text": [
      "[    0     1     2     3     4     5 12345     7     8     9] \n",
      " [    5 12345     7]\n",
      "[ 0  1  2  3  4 64 64 64  8  9] \n",
      " [64 64 64]\n"
     ]
    }
   ],
   "source": [
    "print(arr,'\\n',arr_slice)\n",
    "arr_slice[:]=64\n",
    "print(arr,'\\n',arr_slice)"
   ]
  },
  {
   "cell_type": "code",
   "execution_count": 21,
   "metadata": {},
   "outputs": [
    {
     "name": "stdout",
     "output_type": "stream",
     "text": [
      "False\n",
      "[0, 1, 2, 3, 4, 5, 6, 7, 8, 9] \n",
      " [5, 12345, 7]\n"
     ]
    }
   ],
   "source": [
    "a_list=list(range(10))\n",
    "list_slice=a_list[5:8]\n",
    "print(a_list is list_slice)\n",
    "list_slice[1] = 12345\n",
    "print(a_list, '\\n', list_slice)"
   ]
  },
  {
   "cell_type": "code",
   "execution_count": 22,
   "metadata": {},
   "outputs": [
    {
     "name": "stdout",
     "output_type": "stream",
     "text": [
      "True\n",
      "[1, 2, 3, [1, 2]] \n",
      " 1000\n"
     ]
    }
   ],
   "source": [
    "a=[1,2,3,[1,2]]\n",
    "b=a[3][1]\n",
    "print(b is a[3][1])\n",
    "b=1000\n",
    "print(a,'\\n',b)"
   ]
  },
  {
   "cell_type": "code",
   "execution_count": 23,
   "metadata": {},
   "outputs": [
    {
     "name": "stdout",
     "output_type": "stream",
     "text": [
      "False True\n"
     ]
    }
   ],
   "source": [
    "import copy\n",
    "c=copy.deepcopy(a)\n",
    "print(a is c, a==c)"
   ]
  },
  {
   "cell_type": "code",
   "execution_count": 24,
   "metadata": {},
   "outputs": [
    {
     "name": "stdout",
     "output_type": "stream",
     "text": [
      "[[1 2 3]\n",
      " [4 5 6]\n",
      " [7 8 9]] (3, 3) int32\n",
      "\n",
      "[[1 2 3]\n",
      " [4 5 6]\n",
      " [7 8 9]] \n",
      "\n",
      " [1 2 3] \n",
      "\n",
      " 2\n"
     ]
    }
   ],
   "source": [
    "arr2d = np.array([[1,2,3],[4,5,6],[7,8,9]])\n",
    "print(arr2d,arr2d.shape,arr2d.dtype,end='\\n\\n')\n",
    "print(arr2d,'\\n\\n',arr2d[0],'\\n\\n',arr2d[0][1])"
   ]
  },
  {
   "cell_type": "code",
   "execution_count": 25,
   "metadata": {},
   "outputs": [
    {
     "name": "stdout",
     "output_type": "stream",
     "text": [
      "[[1 2 3]\n",
      " [4 5 6]\n",
      " [7 8 9]]\n",
      "\n",
      "[1 2 3] \n",
      "\n",
      " [1 4 7]\n",
      "\n",
      "[ True False False] False\n"
     ]
    }
   ],
   "source": [
    "print(arr2d,end='\\n\\n')\n",
    "print(arr2d[:][0] , '\\n\\n', arr2d[:,0],end='\\n\\n')\n",
    "print(arr2d[:][0]==arr2d[:,0], arr2d[:][0] is arr2d[:,0])"
   ]
  },
  {
   "cell_type": "markdown",
   "metadata": {},
   "source": [
    "+ arr2d[:][0] is equivalent to arr2d[0] instead of arr2d[:,0]"
   ]
  },
  {
   "cell_type": "code",
   "execution_count": 26,
   "metadata": {},
   "outputs": [
    {
     "name": "stdout",
     "output_type": "stream",
     "text": [
      "[[1 2 3]\n",
      " [4 5 6]\n",
      " [7 8 9]]\n",
      "\n",
      "[7 8 9] False\n",
      "\n",
      "arr2d[2]= [3 3 3] \n",
      "\n",
      " arr2d=\n",
      " [[1 2 3]\n",
      " [4 5 6]\n",
      " [3 3 3]]\n",
      "\n",
      "False [1 2]\n",
      "\n",
      "arr2d[0][:2]= [1000 1000] \n",
      " arr2d=\n",
      " [[1000 1000    3]\n",
      " [   4    5    6]\n",
      " [   3    3    3]]\n",
      "\n"
     ]
    }
   ],
   "source": [
    "#二维数组切片也传输地址\n",
    "arr2d = np.array([[1,2,3],[4,5,6],[7,8,9]])\n",
    "print(arr2d,end='\\n\\n')\n",
    "b = arr2d[2]\n",
    "print(b,b is arr2d[2],end='\\n\\n')\n",
    "arr2d[2] = 3\n",
    "print('arr2d[2]=',arr2d[2],'\\n\\n','arr2d=\\n',arr2d,end='\\n\\n')\n",
    "#二维数组的切片一定会传地址\n",
    "c=arr2d[0][:2]\n",
    "print(c is arr2d[0][:2], c, end='\\n\\n')\n",
    "arr2d[0][:2]=1000\n",
    "print('arr2d[0][:2]=',arr2d[0][:2],'\\n','arr2d=\\n',arr2d,end='\\n\\n')"
   ]
  },
  {
   "cell_type": "code",
   "execution_count": 27,
   "metadata": {},
   "outputs": [
    {
     "name": "stdout",
     "output_type": "stream",
     "text": [
      "[[[ 1  2  3]\n",
      "  [ 4  5  6]]\n",
      "\n",
      " [[ 7  8  9]\n",
      "  [10 11 12]]] \n",
      "\n",
      " (2, 2, 3) \n",
      "\n",
      " int32\n",
      "arr3d[0]= [[1 2 3]\n",
      " [4 5 6]]\n",
      "arr3d[0][0]= [1 2 3]\n",
      "arr3d[0][0][0]= 1\n"
     ]
    }
   ],
   "source": [
    "arr3d = np.array([[[1, 2, 3], [4, 5, 6]], [[7, 8, 9], [10, 11, 12]]])\n",
    "print(arr3d,'\\n\\n',arr3d.shape,'\\n\\n',arr3d.dtype)\n",
    "print('arr3d[0]=',arr3d[0])\n",
    "print('arr3d[0][0]=',arr3d[0][0])\n",
    "print('arr3d[0][0][0]=',arr3d[0][0][0])"
   ]
  },
  {
   "cell_type": "markdown",
   "metadata": {},
   "source": [
    "+ 数组拷贝\n",
    "> 要生成新的对象(传递数值)，而不是传递地址，需要用到copy函数"
   ]
  },
  {
   "cell_type": "code",
   "execution_count": 28,
   "metadata": {},
   "outputs": [
    {
     "name": "stdout",
     "output_type": "stream",
     "text": [
      "[[1 2 3]\n",
      " [4 5 6]\n",
      " [7 8 9]] (3, 3) int32\n",
      "\n",
      "[[1 2 3]\n",
      " [4 5 6]\n",
      " [7 8 9]]\n",
      "[[999 999 999]\n",
      " [  4   5   6]\n",
      " [  7   8   9]] \n",
      " [[1 2 3]\n",
      " [4 5 6]\n",
      " [7 8 9]] \n",
      " [[1 2 3]\n",
      " [4 5 6]\n",
      " [7 8 9]]\n"
     ]
    }
   ],
   "source": [
    "arr2d = np.array([[1, 2, 3], [4, 5, 6], [7, 8, 9]])\n",
    "print(arr2d,arr2d.shape,arr2d.dtype,end='\\n\\n')\n",
    "\n",
    "old_values=arr2d.copy()\n",
    "old_1=copy.deepcopy(arr2d)\n",
    "print(old_values)\n",
    "\n",
    "arr2d[0][:]=999\n",
    "print(arr2d,'\\n',old_values,'\\n',old_1)"
   ]
  },
  {
   "cell_type": "code",
   "execution_count": 29,
   "metadata": {},
   "outputs": [
    {
     "name": "stdout",
     "output_type": "stream",
     "text": [
      "[ 0  1  2  3  4 64 64 64  8  9]\n",
      "[ 1  2  3  4 64] \n",
      "\n",
      "[[999 999 999]\n",
      " [  4   5   6]\n",
      " [  7   8   9]]\n",
      "[[999 999 999]\n",
      " [  4   5   6]] \n",
      "\n",
      "[4 5] \n",
      "\n",
      "[[999   0   0]\n",
      " [  4   0   0]\n",
      " [  7   8   9]]\n"
     ]
    }
   ],
   "source": [
    "print(arr)\n",
    "print(arr[1:6],'\\n')\n",
    "\n",
    "print(arr2d)\n",
    "print(arr2d[:2],'\\n')\n",
    "\n",
    "print(arr2d[1, :2],'\\n')\n",
    "\n",
    "arr2d[:2 , 1: ]=0\n",
    "print(arr2d)"
   ]
  },
  {
   "cell_type": "code",
   "execution_count": 30,
   "metadata": {},
   "outputs": [
    {
     "name": "stdout",
     "output_type": "stream",
     "text": [
      "['Bob' 'Joe' 'Will' 'Bob' 'Will' 'Joe' 'Joe'] \n",
      "\n",
      " [[ 0.75108946 -0.23390235 -0.32373551  0.05392005]\n",
      " [ 1.03778907  1.78278384 -2.34098292  1.54874758]\n",
      " [ 0.1402649  -0.60562859  1.15419525  0.22804651]\n",
      " [ 0.4982594   0.46973624  0.57176984  1.03604697]\n",
      " [ 0.13493046  0.84200315 -1.43557186  2.63375762]\n",
      " [-1.5404157   0.21264822  0.44878077  0.78190998]\n",
      " [-0.13094145  1.2944183  -2.1318907  -0.22748309]] \n",
      "\n",
      "[ True False False  True False False False] \n",
      "\n",
      "[[ 0.75108946 -0.23390235 -0.32373551  0.05392005]\n",
      " [ 0.4982594   0.46973624  0.57176984  1.03604697]] \n",
      "\n",
      "[[-0.32373551  0.05392005]\n",
      " [ 0.57176984  1.03604697]] \n",
      "\n",
      "[[0.05392005]\n",
      " [1.03604697]] \n",
      "\n",
      "[False  True  True False  True  True  True]\n",
      "[[ 1.03778907  1.78278384 -2.34098292  1.54874758]\n",
      " [ 0.1402649  -0.60562859  1.15419525  0.22804651]\n",
      " [ 0.13493046  0.84200315 -1.43557186  2.63375762]\n",
      " [-1.5404157   0.21264822  0.44878077  0.78190998]\n",
      " [-0.13094145  1.2944183  -2.1318907  -0.22748309]] \n",
      "\n"
     ]
    }
   ],
   "source": [
    "names = np.array(['Bob', 'Joe', 'Will', 'Bob', 'Will', 'Joe', 'Joe'])\n",
    "data = randn(7,4)\n",
    "print(names,'\\n\\n',data,'\\n')\n",
    "\n",
    "print(names == 'Bob','\\n') #返回的逻辑判断是对所有元素逐个判断之后合并起来的array变量\n",
    "print(data[names == 'Bob'],'\\n')#输出的是取了True的行，其他都没有输出\n",
    "print(data[names == 'Bob',2:],'\\n')#第三列到最后\n",
    "print(data[names == 'Bob',3:],'\\n')#第四列\n",
    "\n",
    "print(names != 'Bob')\n",
    "print(data[names != 'Bob'],'\\n')"
   ]
  },
  {
   "cell_type": "code",
   "execution_count": 31,
   "metadata": {},
   "outputs": [
    {
     "name": "stdout",
     "output_type": "stream",
     "text": [
      "[ True False  True  True  True False False] \n",
      "\n",
      "[[ 0.75108946 -0.23390235 -0.32373551  0.05392005]\n",
      " [ 0.1402649  -0.60562859  1.15419525  0.22804651]\n",
      " [ 0.4982594   0.46973624  0.57176984  1.03604697]\n",
      " [ 0.13493046  0.84200315 -1.43557186  2.63375762]] \n",
      "\n"
     ]
    }
   ],
   "source": [
    "mask = (names == 'Bob') | (names == 'Will')  # 还有&\n",
    "print(mask,'\\n')\n",
    "print(data[mask],'\\n')"
   ]
  },
  {
   "cell_type": "code",
   "execution_count": 32,
   "metadata": {},
   "outputs": [
    {
     "name": "stdout",
     "output_type": "stream",
     "text": [
      "[[ 0.75108946 -0.23390235 -0.32373551  0.05392005]\n",
      " [ 1.03778907  1.78278384 -2.34098292  1.54874758]\n",
      " [ 0.1402649  -0.60562859  1.15419525  0.22804651]\n",
      " [ 0.4982594   0.46973624  0.57176984  1.03604697]\n",
      " [ 0.13493046  0.84200315 -1.43557186  2.63375762]\n",
      " [-1.5404157   0.21264822  0.44878077  0.78190998]\n",
      " [-0.13094145  1.2944183  -2.1318907  -0.22748309]] \n",
      "\n",
      "[[False  True  True False]\n",
      " [False False  True False]\n",
      " [False  True False False]\n",
      " [False False False False]\n",
      " [False False  True False]\n",
      " [ True False False False]\n",
      " [ True False  True  True]] \n",
      "\n",
      "[[0.75108946 0.         0.         0.05392005]\n",
      " [1.03778907 1.78278384 0.         1.54874758]\n",
      " [0.1402649  0.         1.15419525 0.22804651]\n",
      " [0.4982594  0.46973624 0.57176984 1.03604697]\n",
      " [0.13493046 0.84200315 0.         2.63375762]\n",
      " [0.         0.21264822 0.44878077 0.78190998]\n",
      " [0.         1.2944183  0.         0.        ]] \n",
      "\n"
     ]
    }
   ],
   "source": [
    "print(data,'\\n')\n",
    "print(data < 0 ,'\\n')\n",
    "\n",
    "data[data<0] = 0\n",
    "print ( data,'\\n')"
   ]
  },
  {
   "cell_type": "code",
   "execution_count": 33,
   "metadata": {},
   "outputs": [
    {
     "name": "stdout",
     "output_type": "stream",
     "text": [
      "[[7.         7.         7.         7.        ]\n",
      " [1.03778907 1.78278384 0.         1.54874758]\n",
      " [7.         7.         7.         7.        ]\n",
      " [7.         7.         7.         7.        ]\n",
      " [7.         7.         7.         7.        ]\n",
      " [0.         0.21264822 0.44878077 0.78190998]\n",
      " [0.         1.2944183  0.         0.        ]]\n"
     ]
    }
   ],
   "source": [
    "data [ names != 'Joe'] = 7\n",
    "print(data)"
   ]
  },
  {
   "cell_type": "code",
   "execution_count": 34,
   "metadata": {},
   "outputs": [
    {
     "data": {
      "text/plain": [
       "array([[16843009, 16843009],\n",
       "       [16843009, 16843009]])"
      ]
     },
     "execution_count": 34,
     "metadata": {},
     "output_type": "execute_result"
    }
   ],
   "source": [
    "np.empty([2,2],dtype=int)"
   ]
  },
  {
   "cell_type": "markdown",
   "metadata": {},
   "source": [
    "+ Keep in mind that the values in the array are essentially garbage values until you explicitly assign values to them."
   ]
  },
  {
   "cell_type": "code",
   "execution_count": 35,
   "metadata": {},
   "outputs": [
    {
     "name": "stdout",
     "output_type": "stream",
     "text": [
      "\u001b[1;31mDocstring:\u001b[0m\n",
      "empty(shape, dtype=float, order='C', *, like=None)\n",
      "\n",
      "Return a new array of given shape and type, without initializing entries.\n",
      "\n",
      "Parameters\n",
      "----------\n",
      "shape : int or tuple of int\n",
      "    Shape of the empty array, e.g., ``(2, 3)`` or ``2``.\n",
      "dtype : data-type, optional\n",
      "    Desired output data-type for the array, e.g, `numpy.int8`. Default is\n",
      "    `numpy.float64`.\n",
      "order : {'C', 'F'}, optional, default: 'C'\n",
      "    Whether to store multi-dimensional data in row-major\n",
      "    (C-style) or column-major (Fortran-style) order in\n",
      "    memory.\n",
      "like : array_like, optional\n",
      "    Reference object to allow the creation of arrays which are not\n",
      "    NumPy arrays. If an array-like passed in as ``like`` supports\n",
      "    the ``__array_function__`` protocol, the result will be defined\n",
      "    by it. In this case, it ensures the creation of an array object\n",
      "    compatible with that passed in via this argument.\n",
      "\n",
      "    .. versionadded:: 1.20.0\n",
      "\n",
      "Returns\n",
      "-------\n",
      "out : ndarray\n",
      "    Array of uninitialized (arbitrary) data of the given shape, dtype, and\n",
      "    order.  Object arrays will be initialized to None.\n",
      "\n",
      "See Also\n",
      "--------\n",
      "empty_like : Return an empty array with shape and type of input.\n",
      "ones : Return a new array setting values to one.\n",
      "zeros : Return a new array setting values to zero.\n",
      "full : Return a new array of given shape filled with value.\n",
      "\n",
      "\n",
      "Notes\n",
      "-----\n",
      "`empty`, unlike `zeros`, does not set the array values to zero,\n",
      "and may therefore be marginally faster.  On the other hand, it requires\n",
      "the user to manually set all the values in the array, and should be\n",
      "used with caution.\n",
      "\n",
      "Examples\n",
      "--------\n",
      ">>> np.empty([2, 2])\n",
      "array([[ -9.74499359e+001,   6.69583040e-309],\n",
      "       [  2.13182611e-314,   3.06959433e-309]])         #uninitialized\n",
      "\n",
      ">>> np.empty([2, 2], dtype=int)\n",
      "array([[-1073741821, -1067949133],\n",
      "       [  496041986,    19249760]])                     #uninitialized\n",
      "\u001b[1;31mType:\u001b[0m      builtin_function_or_method"
     ]
    }
   ],
   "source": [
    "?np.empty  # 使用 ipython 中的 ? 进行索引说明"
   ]
  },
  {
   "cell_type": "code",
   "execution_count": 38,
   "metadata": {},
   "outputs": [
    {
     "data": {
      "text/plain": [
       "array([[0., 0., 0., 0.],\n",
       "       [1., 1., 1., 1.],\n",
       "       [2., 2., 2., 2.],\n",
       "       [3., 3., 3., 3.],\n",
       "       [4., 4., 4., 4.],\n",
       "       [5., 5., 5., 5.],\n",
       "       [6., 6., 6., 6.],\n",
       "       [7., 7., 7., 7.]])"
      ]
     },
     "execution_count": 38,
     "metadata": {},
     "output_type": "execute_result"
    }
   ],
   "source": [
    "arr = np.empty([8,4])\n",
    "for i in range(8):\n",
    "    arr[i] = i\n",
    "arr"
   ]
  },
  {
   "cell_type": "code",
   "execution_count": 42,
   "metadata": {},
   "outputs": [
    {
     "data": {
      "text/plain": [
       "array([[4., 4., 4., 4.],\n",
       "       [5., 5., 5., 5.],\n",
       "       [6., 6., 6., 6.],\n",
       "       [0., 0., 0., 0.]])"
      ]
     },
     "execution_count": 42,
     "metadata": {},
     "output_type": "execute_result"
    }
   ],
   "source": [
    "#可以同时索引多行\n",
    "arr[[4,5,6,0]]"
   ]
  },
  {
   "cell_type": "code",
   "execution_count": 44,
   "metadata": {},
   "outputs": [
    {
     "data": {
      "text/plain": [
       "array([[7., 7., 7., 7.],\n",
       "       [6., 6., 6., 6.],\n",
       "       [0., 0., 0., 0.],\n",
       "       [2., 2., 2., 2.]])"
      ]
     },
     "execution_count": 44,
     "metadata": {},
     "output_type": "execute_result"
    }
   ],
   "source": [
    "arr[[-1,-2,0,2]] #-1就是倒数第一行，这里是第八行(7)"
   ]
  }
 ],
 "metadata": {
  "kernelspec": {
   "display_name": "base",
   "language": "python",
   "name": "python3"
  },
  "language_info": {
   "codemirror_mode": {
    "name": "ipython",
    "version": 3
   },
   "file_extension": ".py",
   "mimetype": "text/x-python",
   "name": "python",
   "nbconvert_exporter": "python",
   "pygments_lexer": "ipython3",
   "version": "3.11.4"
  },
  "orig_nbformat": 4
 },
 "nbformat": 4,
 "nbformat_minor": 2
}
