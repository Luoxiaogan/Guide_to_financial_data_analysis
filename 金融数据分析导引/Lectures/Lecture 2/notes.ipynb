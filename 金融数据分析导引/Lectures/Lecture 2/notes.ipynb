{
 "cells": [
  {
   "cell_type": "code",
   "execution_count": 2,
   "metadata": {},
   "outputs": [],
   "source": [
    "from numpy.random import randn #产生正态随机数的函数\n",
    "import numpy as np #简便书写"
   ]
  },
  {
   "cell_type": "code",
   "execution_count": 3,
   "metadata": {},
   "outputs": [
    {
     "data": {
      "text/plain": [
       "array([3.4, 5.5])"
      ]
     },
     "execution_count": 3,
     "metadata": {},
     "output_type": "execute_result"
    }
   ],
   "source": [
    "np.array([3.4, 5.5])#生成array 数据的函数"
   ]
  },
  {
   "cell_type": "code",
   "execution_count": 4,
   "metadata": {},
   "outputs": [
    {
     "name": "stdout",
     "output_type": "stream",
     "text": [
      "[[ 1.11050615 -0.48876071 -1.89033779]\n",
      " [-0.72974251  0.24283434 -0.0853379 ]]\n",
      "(2, 3)\n",
      "float64\n"
     ]
    },
    {
     "data": {
      "text/plain": [
       "(1, 1)"
      ]
     },
     "execution_count": 4,
     "metadata": {},
     "output_type": "execute_result"
    }
   ],
   "source": [
    "data = randn(2,3)\n",
    "print(data)\n",
    "print(data.shape) #输出array格式的数据的维数\n",
    "print(data.dtype) #输出array格式的的数据的类别\n",
    "b = [[2,]]\n",
    "np.array(b).shape #说明空的会被省略掉"
   ]
  },
  {
   "cell_type": "code",
   "execution_count": 5,
   "metadata": {},
   "outputs": [
    {
     "name": "stdout",
     "output_type": "stream",
     "text": [
      "[1 2 3] (3,) int32\n",
      "\n",
      "[[1]] (1, 1) int32\n",
      "\n",
      "[[1 0 0]\n",
      " [0 1 2]] (2, 3) int32\n",
      "\n"
     ]
    }
   ],
   "source": [
    "a=np.array([1,2,3])\n",
    "b=np.array([[1,]])\n",
    "c=np.array([[1,0,0],[0,1,2]])\n",
    "print(a,a.shape,a.dtype,end='\\n\\n')\n",
    "print(b,b.shape,b.dtype,end='\\n\\n')\n",
    "print(c,c.shape,c.dtype,end='\\n\\n')"
   ]
  },
  {
   "cell_type": "code",
   "execution_count": 6,
   "metadata": {},
   "outputs": [
    {
     "name": "stdout",
     "output_type": "stream",
     "text": [
      "[ 0  1  2  3  4  5  6  7  8  9 10 11 12 13 14]\n",
      "\n",
      "[ 2  3  4  5  6  7  8  9 10 11 12 13 14]\n",
      "\n",
      "[ 2  4  6  8 10 12 14]\n",
      "\n",
      "[ 2.   3.5  5.   6.5  8.   9.5 11.  12.5 14. ]\n",
      "\n"
     ]
    }
   ],
   "source": [
    "print(np.arange(15),end='\\n\\n') #输出等差数列，默认值0-15，不包含mxa=15，默认步长为1\n",
    "print(np.arange(2,15),end='\\n\\n') #输出等差数列，从2-15，不包含15，默认步长为1\n",
    "print(np.arange(2,15,2),end='\\n\\n') #输出等差数列，从2-15，不包含15，步长设定为2\n",
    "print(np.arange(2,15,1.5),end='\\n\\n') #步长设定为1.5"
   ]
  },
  {
   "cell_type": "code",
   "execution_count": 7,
   "metadata": {},
   "outputs": [
    {
     "name": "stdout",
     "output_type": "stream",
     "text": [
      "[0.  0.1 0.2 0.3 0.4 0.5 0.6 0.7 0.8 0.9 1. ]\n",
      "\n",
      "[0.         0.09090909 0.18181818 0.27272727 0.36363636 0.45454545\n",
      " 0.54545455 0.63636364 0.72727273 0.81818182 0.90909091]\n",
      "\n",
      "[0.  0.1 0.2 0.3 0.4 0.5 0.6 0.7 0.8 0.9 1. ]\n",
      "\n",
      "[0.         0.09090909 0.18181818 0.27272727 0.36363636 0.45454545\n",
      " 0.54545455 0.63636364 0.72727273 0.81818182 0.90909091 1.        ]\n",
      "\n"
     ]
    }
   ],
   "source": [
    "print(np.linspace(0,1,11),end='\\n\\n')#从0-11，不包含11，设定一共有11个\n",
    "print(np.linspace(0,1,11, endpoint = False), end='\\n\\n')\n",
    "print(np.linspace(0,1,11, endpoint = True), end='\\n\\n')#可以设置是否包含max\n",
    "print(np.linspace(0,1,12),end='\\n\\n')"
   ]
  },
  {
   "cell_type": "code",
   "execution_count": 8,
   "metadata": {},
   "outputs": [
    {
     "name": "stdout",
     "output_type": "stream",
     "text": [
      "[ 6.   7.8  8.9 33. ] (4,) float64\n"
     ]
    }
   ],
   "source": [
    "data1=[6,7.8,8.9,33]\n",
    "arr1=np.array(data1)\n",
    "print(arr1,arr1.shape,arr1.dtype)"
   ]
  },
  {
   "cell_type": "code",
   "execution_count": 9,
   "metadata": {},
   "outputs": [
    {
     "name": "stdout",
     "output_type": "stream",
     "text": [
      "[[1. 2. 3. 4.]\n",
      " [5. 6. 7. 8.]] (2, 4) float64\n"
     ]
    }
   ],
   "source": [
    "data2=[[1,2,3.0,4],[5,6,7,8]]\n",
    "arr2=np.array(data2)\n",
    "print(arr2,arr2.shape,arr2.dtype)"
   ]
  },
  {
   "cell_type": "code",
   "execution_count": 10,
   "metadata": {},
   "outputs": [
    {
     "name": "stdout",
     "output_type": "stream",
     "text": [
      "[[1. 2. 3. 4.]\n",
      " [5. 6. 7. 8.]] (2, 4) float64\n",
      "\n",
      "[[1. 2. 3. 4. 5. 6. 7. 8.]] (1, 8) float64\n",
      "\n",
      "[[1. 2.]\n",
      " [3. 4.]\n",
      " [5. 6.]\n",
      " [7. 8.]] (4, 2) float64\n",
      "\n"
     ]
    }
   ],
   "source": [
    "#使用reshape来改变维数\n",
    "print(arr2,arr2.shape,arr2.dtype,end='\\n\\n')\n",
    "b=arr2.reshape((1,8))\n",
    "print(b,b.shape,b.dtype,end='\\n\\n')\n",
    "b=arr2.reshape((4,2))\n",
    "print(b,b.shape,b.dtype,end='\\n\\n')\n"
   ]
  },
  {
   "cell_type": "code",
   "execution_count": 11,
   "metadata": {},
   "outputs": [
    {
     "name": "stdout",
     "output_type": "stream",
     "text": [
      "[0 0 0 0 0 0 0 0 0 0] (10,) int32\n",
      "[0. 0. 0. 0. 0. 0. 0. 0. 0. 0.] (10,) float64\n"
     ]
    }
   ],
   "source": [
    "a=np.zeros(10,dtype='int')\n",
    "print(a,a.shape,a.dtype)\n",
    "a=np.zeros(10,dtype='float')\n",
    "print(a,a.shape,a.dtype)"
   ]
  },
  {
   "cell_type": "code",
   "execution_count": 12,
   "metadata": {},
   "outputs": [
    {
     "name": "stdout",
     "output_type": "stream",
     "text": [
      "[[1 1 1]\n",
      " [1 1 1]] (2, 3) int32\n",
      "[[1. 1. 1.]\n",
      " [1. 1. 1.]] (2, 3) float64\n"
     ]
    }
   ],
   "source": [
    "b=np.ones((2,3),dtype='int')\n",
    "print(b,b.shape,b.dtype)\n",
    "b=np.ones((2,3),dtype='float')\n",
    "print(b,b.shape,b.dtype)"
   ]
  },
  {
   "cell_type": "code",
   "execution_count": 13,
   "metadata": {},
   "outputs": [
    {
     "name": "stdout",
     "output_type": "stream",
     "text": [
      "[[1. 0.]\n",
      " [0. 1.]] (2, 2) float64\n",
      "\n",
      "[[1. 0. 0. 0. 0. 0. 0. 0. 0.]\n",
      " [0. 1. 0. 0. 0. 0. 0. 0. 0.]\n",
      " [0. 0. 1. 0. 0. 0. 0. 0. 0.]\n",
      " [0. 0. 0. 1. 0. 0. 0. 0. 0.]] (4, 9) float64\n"
     ]
    }
   ],
   "source": [
    "c=np.identity(2)#单位矩阵(方阵)\n",
    "print(c,c.shape,c.dtype,end='\\n\\n')\n",
    "d=np.eye(4,9)\n",
    "print(d,d.shape,d.dtype)"
   ]
  },
  {
   "cell_type": "code",
   "execution_count": 14,
   "metadata": {},
   "outputs": [
    {
     "name": "stdout",
     "output_type": "stream",
     "text": [
      "[1 2 3 4 5] (5,) int32\n"
     ]
    }
   ],
   "source": [
    "arr = np.array([1,2,3,4,5],dtype=np.int32)\n",
    "print(arr,arr.shape,arr.dtype)"
   ]
  },
  {
   "cell_type": "code",
   "execution_count": 15,
   "metadata": {},
   "outputs": [
    {
     "name": "stdout",
     "output_type": "stream",
     "text": [
      "[1. 2. 3. 4. 5.] (5,) float64\n"
     ]
    }
   ],
   "source": [
    "#使用astype去修改类型\n",
    "float_arr = arr.astype(np.float64)\n",
    "print(float_arr,float_arr.shape,float_arr.dtype)"
   ]
  },
  {
   "cell_type": "code",
   "execution_count": 16,
   "metadata": {},
   "outputs": [
    {
     "name": "stdout",
     "output_type": "stream",
     "text": [
      "[ 3  1  0 12  5] (5,) int32\n"
     ]
    }
   ],
   "source": [
    "arr=np.array([3.7,1.2,0.5,12.7,5.6])\n",
    "c=arr.astype(np.int32)\n",
    "print(c,c.shape,c.dtype)"
   ]
  },
  {
   "cell_type": "code",
   "execution_count": 17,
   "metadata": {},
   "outputs": [
    {
     "name": "stdout",
     "output_type": "stream",
     "text": [
      "['1.25' '42'] (2,) <U4\n",
      "[ 1.25 42.  ] (2,) float64\n"
     ]
    }
   ],
   "source": [
    "c=numeric_strings = np.array(['1.25', '42'],dtype=str)\n",
    "print(c,c.shape,c.dtype)\n",
    "c=c.astype(float)\n",
    "print(c,c.shape,c.dtype)"
   ]
  },
  {
   "cell_type": "code",
   "execution_count": 18,
   "metadata": {},
   "outputs": [
    {
     "name": "stdout",
     "output_type": "stream",
     "text": [
      "[[1. 2. 3.]\n",
      " [4. 5. 6.]]\n",
      "\n",
      "[[ 1.  4.  9.]\n",
      " [16. 25. 36.]]\n",
      "\n",
      "[[ 0.  2.  6.]\n",
      " [12. 20. 30.]]\n",
      "\n",
      "[[1.         0.5        0.33333333]\n",
      " [0.25       0.2        0.16666667]]\n",
      "\n",
      "[[ 2.  4.  6.]\n",
      " [ 8. 10. 12.]]\n",
      "\n",
      "[[ 1.  4.  9.]\n",
      " [16. 25. 36.]]\n",
      "\n"
     ]
    }
   ],
   "source": [
    "arr=np.array(([1,2,3],[4,5,6]),dtype=float)\n",
    "print(arr,end='\\n\\n')\n",
    "print(arr*arr,end='\\n\\n')#对应元素相乘\n",
    "print(arr*arr-arr,end='\\n\\n')\n",
    "print(1/arr,end='\\n\\n')\n",
    "print(arr*2,end='\\n\\n')\n",
    "print(arr**2,end='\\n\\n')#对应元素平方"
   ]
  },
  {
   "cell_type": "code",
   "execution_count": 19,
   "metadata": {},
   "outputs": [
    {
     "name": "stdout",
     "output_type": "stream",
     "text": [
      "[0 1 2 3 4 5 6 7 8 9] (10,) int32\n",
      "[5 6 7]\n",
      "[ 0  1  2  3  4 12 12 12  8  9] (10,) int32\n"
     ]
    }
   ],
   "source": [
    "arr=np.arange(10)\n",
    "print(arr,arr.shape,arr.dtype)\n",
    "print(arr[5:8])\n",
    "arr[5:8] = 12\n",
    "print(arr,arr.shape,arr.dtype)"
   ]
  },
  {
   "cell_type": "code",
   "execution_count": 20,
   "metadata": {},
   "outputs": [
    {
     "name": "stdout",
     "output_type": "stream",
     "text": [
      "2177465976656 2177465975216\n",
      "False \n",
      " [ True  True  True]\n",
      "[    0     1     2     3     4     5 12345     7     8     9] \n",
      " [    5 12345     7]\n"
     ]
    }
   ],
   "source": [
    "arr=np.arange(10)\n",
    "arr_slice=arr[5:8]\n",
    "print(id(arr_slice), id(arr[5:8]),)\n",
    "print(arr_slice is arr[5:8],'\\n',arr_slice == arr[5:8] )\n",
    "arr_slice[1]=12345\n",
    "print(arr,'\\n', arr_slice)"
   ]
  },
  {
   "cell_type": "markdown",
   "metadata": {},
   "source": [
    "原因：\n",
    "> object（对象） 与 location（地址） 并不相同\n",
    "+ 一个对象可以是一个指针，例如对象A是个指针，它的内容是->B，其中B是一个存储空间；C也可以是个指针，内容也是->B，这时候它们是两个不同的对象，指向同一个存储空间\n",
    "> 但实际上，切片slice，只是创造了一个视图，其实指向的地址还是不一样"
   ]
  },
  {
   "cell_type": "code",
   "execution_count": 21,
   "metadata": {},
   "outputs": [
    {
     "name": "stdout",
     "output_type": "stream",
     "text": [
      "[    0     1     2     3     4     5 12345     7     8     9] \n",
      " [    5 12345     7]\n",
      "[ 0  1  2  3  4 64 64 64  8  9] \n",
      " [64 64 64]\n"
     ]
    }
   ],
   "source": [
    "print(arr,'\\n',arr_slice)\n",
    "arr_slice[:]=64\n",
    "print(arr,'\\n',arr_slice)"
   ]
  },
  {
   "cell_type": "code",
   "execution_count": 22,
   "metadata": {},
   "outputs": [
    {
     "name": "stdout",
     "output_type": "stream",
     "text": [
      "False\n",
      "[0, 1, 2, 3, 4, 5, 6, 7, 8, 9] \n",
      " [5, 12345, 7]\n"
     ]
    }
   ],
   "source": [
    "a_list=list(range(10))\n",
    "list_slice=a_list[5:8]\n",
    "print(a_list is list_slice)\n",
    "list_slice[1] = 12345\n",
    "print(a_list, '\\n', list_slice)"
   ]
  },
  {
   "cell_type": "code",
   "execution_count": 23,
   "metadata": {},
   "outputs": [
    {
     "name": "stdout",
     "output_type": "stream",
     "text": [
      "True\n",
      "[1, 2, 3, [1, 2]] \n",
      " 1000\n"
     ]
    }
   ],
   "source": [
    "a=[1,2,3,[1,2]]\n",
    "b=a[3][1]\n",
    "print(b is a[3][1])\n",
    "b=1000\n",
    "print(a,'\\n',b)"
   ]
  },
  {
   "cell_type": "code",
   "execution_count": 24,
   "metadata": {},
   "outputs": [
    {
     "name": "stdout",
     "output_type": "stream",
     "text": [
      "False True\n"
     ]
    }
   ],
   "source": [
    "import copy\n",
    "c=copy.deepcopy(a)\n",
    "print(a is c, a==c)"
   ]
  },
  {
   "cell_type": "code",
   "execution_count": 25,
   "metadata": {},
   "outputs": [
    {
     "name": "stdout",
     "output_type": "stream",
     "text": [
      "[[1 2 3]\n",
      " [4 5 6]\n",
      " [7 8 9]] (3, 3) int32\n",
      "\n",
      "[[1 2 3]\n",
      " [4 5 6]\n",
      " [7 8 9]] \n",
      "\n",
      " [1 2 3] \n",
      "\n",
      " 2\n"
     ]
    }
   ],
   "source": [
    "arr2d = np.array([[1,2,3],[4,5,6],[7,8,9]])\n",
    "print(arr2d,arr2d.shape,arr2d.dtype,end='\\n\\n')\n",
    "print(arr2d,'\\n\\n',arr2d[0],'\\n\\n',arr2d[0][1])"
   ]
  },
  {
   "cell_type": "code",
   "execution_count": 26,
   "metadata": {},
   "outputs": [
    {
     "name": "stdout",
     "output_type": "stream",
     "text": [
      "[[1 2 3]\n",
      " [4 5 6]\n",
      " [7 8 9]]\n",
      "\n",
      "[1 2 3] \n",
      "\n",
      " [1 4 7]\n",
      "\n",
      "[ True False False] False\n"
     ]
    }
   ],
   "source": [
    "print(arr2d,end='\\n\\n')\n",
    "print(arr2d[:][0] , '\\n\\n', arr2d[:,0],end='\\n\\n')\n",
    "print(arr2d[:][0]==arr2d[:,0], arr2d[:][0] is arr2d[:,0])"
   ]
  },
  {
   "cell_type": "markdown",
   "metadata": {},
   "source": [
    "+ arr2d[:][0] is equivalent to arr2d[0] instead of arr2d[:,0]"
   ]
  },
  {
   "cell_type": "code",
   "execution_count": 27,
   "metadata": {},
   "outputs": [
    {
     "name": "stdout",
     "output_type": "stream",
     "text": [
      "[[1 2 3]\n",
      " [4 5 6]\n",
      " [7 8 9]]\n",
      "\n",
      "[7 8 9] False\n",
      "\n",
      "arr2d[2]= [3 3 3] \n",
      "\n",
      " arr2d=\n",
      " [[1 2 3]\n",
      " [4 5 6]\n",
      " [3 3 3]]\n",
      "\n",
      "False [1 2]\n",
      "\n",
      "arr2d[0][:2]= [1000 1000] \n",
      " arr2d=\n",
      " [[1000 1000    3]\n",
      " [   4    5    6]\n",
      " [   3    3    3]]\n",
      "\n"
     ]
    }
   ],
   "source": [
    "#二维数组切片也传输地址\n",
    "arr2d = np.array([[1,2,3],[4,5,6],[7,8,9]])\n",
    "print(arr2d,end='\\n\\n')\n",
    "b = arr2d[2]\n",
    "print(b,b is arr2d[2],end='\\n\\n')\n",
    "arr2d[2] = 3\n",
    "print('arr2d[2]=',arr2d[2],'\\n\\n','arr2d=\\n',arr2d,end='\\n\\n')\n",
    "#二维数组的切片一定会传地址\n",
    "c=arr2d[0][:2]\n",
    "print(c is arr2d[0][:2], c, end='\\n\\n')\n",
    "arr2d[0][:2]=1000\n",
    "print('arr2d[0][:2]=',arr2d[0][:2],'\\n','arr2d=\\n',arr2d,end='\\n\\n')"
   ]
  },
  {
   "cell_type": "code",
   "execution_count": 28,
   "metadata": {},
   "outputs": [
    {
     "name": "stdout",
     "output_type": "stream",
     "text": [
      "[[[ 1  2  3]\n",
      "  [ 4  5  6]]\n",
      "\n",
      " [[ 7  8  9]\n",
      "  [10 11 12]]] \n",
      "\n",
      " (2, 2, 3) \n",
      "\n",
      " int32\n",
      "arr3d[0]= [[1 2 3]\n",
      " [4 5 6]]\n",
      "arr3d[0][0]= [1 2 3]\n",
      "arr3d[0][0][0]= 1\n"
     ]
    }
   ],
   "source": [
    "arr3d = np.array([[[1, 2, 3], [4, 5, 6]], [[7, 8, 9], [10, 11, 12]]])\n",
    "print(arr3d,'\\n\\n',arr3d.shape,'\\n\\n',arr3d.dtype)\n",
    "print('arr3d[0]=',arr3d[0])\n",
    "print('arr3d[0][0]=',arr3d[0][0])\n",
    "print('arr3d[0][0][0]=',arr3d[0][0][0])"
   ]
  },
  {
   "cell_type": "markdown",
   "metadata": {},
   "source": [
    "+ 数组拷贝\n",
    "> 要生成新的对象(传递数值)，而不是传递地址，需要用到copy函数"
   ]
  },
  {
   "cell_type": "code",
   "execution_count": 29,
   "metadata": {},
   "outputs": [
    {
     "name": "stdout",
     "output_type": "stream",
     "text": [
      "[[1 2 3]\n",
      " [4 5 6]\n",
      " [7 8 9]] (3, 3) int32\n",
      "\n",
      "[[1 2 3]\n",
      " [4 5 6]\n",
      " [7 8 9]]\n",
      "[[999 999 999]\n",
      " [  4   5   6]\n",
      " [  7   8   9]] \n",
      " [[1 2 3]\n",
      " [4 5 6]\n",
      " [7 8 9]] \n",
      " [[1 2 3]\n",
      " [4 5 6]\n",
      " [7 8 9]]\n"
     ]
    }
   ],
   "source": [
    "arr2d = np.array([[1, 2, 3], [4, 5, 6], [7, 8, 9]])\n",
    "print(arr2d,arr2d.shape,arr2d.dtype,end='\\n\\n')\n",
    "\n",
    "old_values=arr2d.copy()\n",
    "old_1=copy.deepcopy(arr2d)\n",
    "print(old_values)\n",
    "\n",
    "arr2d[0][:]=999\n",
    "print(arr2d,'\\n',old_values,'\\n',old_1)"
   ]
  },
  {
   "cell_type": "code",
   "execution_count": 30,
   "metadata": {},
   "outputs": [
    {
     "name": "stdout",
     "output_type": "stream",
     "text": [
      "[ 0  1  2  3  4 64 64 64  8  9]\n",
      "[ 1  2  3  4 64] \n",
      "\n",
      "[[999 999 999]\n",
      " [  4   5   6]\n",
      " [  7   8   9]]\n",
      "[[999 999 999]\n",
      " [  4   5   6]] \n",
      "\n",
      "[4 5] \n",
      "\n",
      "[[999   0   0]\n",
      " [  4   0   0]\n",
      " [  7   8   9]]\n"
     ]
    }
   ],
   "source": [
    "print(arr)\n",
    "print(arr[1:6],'\\n')\n",
    "\n",
    "print(arr2d)\n",
    "print(arr2d[:2],'\\n')\n",
    "\n",
    "print(arr2d[1, :2],'\\n')\n",
    "\n",
    "arr2d[:2 , 1: ]=0\n",
    "print(arr2d)"
   ]
  },
  {
   "cell_type": "code",
   "execution_count": 31,
   "metadata": {},
   "outputs": [
    {
     "name": "stdout",
     "output_type": "stream",
     "text": [
      "['Bob' 'Joe' 'Will' 'Bob' 'Will' 'Joe' 'Joe'] \n",
      "\n",
      " [[ 0.62385572  1.60226246 -0.72252159 -0.04559342]\n",
      " [ 0.3337796  -1.60919439 -0.97578699  0.54728682]\n",
      " [ 0.458751    0.27385572  0.8399314  -0.48927054]\n",
      " [-0.2341917  -0.12779977 -0.19851351 -0.01660679]\n",
      " [-0.37751472 -1.17983226 -1.23789415 -0.06258989]\n",
      " [ 0.53242904 -0.28300355 -0.26773259  0.19337347]\n",
      " [ 0.2387453  -1.76764931  0.20434919  2.76613555]] \n",
      "\n",
      "[ True False False  True False False False] \n",
      "\n",
      "[[ 0.62385572  1.60226246 -0.72252159 -0.04559342]\n",
      " [-0.2341917  -0.12779977 -0.19851351 -0.01660679]] \n",
      "\n",
      "[[-0.72252159 -0.04559342]\n",
      " [-0.19851351 -0.01660679]] \n",
      "\n",
      "[[-0.04559342]\n",
      " [-0.01660679]] \n",
      "\n",
      "[False  True  True False  True  True  True]\n",
      "[[ 0.3337796  -1.60919439 -0.97578699  0.54728682]\n",
      " [ 0.458751    0.27385572  0.8399314  -0.48927054]\n",
      " [-0.37751472 -1.17983226 -1.23789415 -0.06258989]\n",
      " [ 0.53242904 -0.28300355 -0.26773259  0.19337347]\n",
      " [ 0.2387453  -1.76764931  0.20434919  2.76613555]] \n",
      "\n"
     ]
    }
   ],
   "source": [
    "names = np.array(['Bob', 'Joe', 'Will', 'Bob', 'Will', 'Joe', 'Joe'])\n",
    "data = randn(7,4)\n",
    "print(names,'\\n\\n',data,'\\n')\n",
    "\n",
    "print(names == 'Bob','\\n') #返回的逻辑判断是对所有元素逐个判断之后合并起来的array变量\n",
    "print(data[names == 'Bob'],'\\n')#输出的是取了True的行，其他都没有输出\n",
    "print(data[names == 'Bob',2:],'\\n')#第三列到最后\n",
    "print(data[names == 'Bob',3:],'\\n')#第四列\n",
    "\n",
    "print(names != 'Bob')\n",
    "print(data[names != 'Bob'],'\\n')"
   ]
  },
  {
   "cell_type": "code",
   "execution_count": 32,
   "metadata": {},
   "outputs": [
    {
     "name": "stdout",
     "output_type": "stream",
     "text": [
      "[ True False  True  True  True False False] \n",
      "\n",
      "[[ 0.62385572  1.60226246 -0.72252159 -0.04559342]\n",
      " [ 0.458751    0.27385572  0.8399314  -0.48927054]\n",
      " [-0.2341917  -0.12779977 -0.19851351 -0.01660679]\n",
      " [-0.37751472 -1.17983226 -1.23789415 -0.06258989]] \n",
      "\n"
     ]
    }
   ],
   "source": [
    "mask = (names == 'Bob') | (names == 'Will')  # 还有&\n",
    "print(mask,'\\n')\n",
    "print(data[mask],'\\n')"
   ]
  },
  {
   "cell_type": "code",
   "execution_count": 33,
   "metadata": {},
   "outputs": [
    {
     "name": "stdout",
     "output_type": "stream",
     "text": [
      "[[ 0.62385572  1.60226246 -0.72252159 -0.04559342]\n",
      " [ 0.3337796  -1.60919439 -0.97578699  0.54728682]\n",
      " [ 0.458751    0.27385572  0.8399314  -0.48927054]\n",
      " [-0.2341917  -0.12779977 -0.19851351 -0.01660679]\n",
      " [-0.37751472 -1.17983226 -1.23789415 -0.06258989]\n",
      " [ 0.53242904 -0.28300355 -0.26773259  0.19337347]\n",
      " [ 0.2387453  -1.76764931  0.20434919  2.76613555]] \n",
      "\n",
      "[[False False  True  True]\n",
      " [False  True  True False]\n",
      " [False False False  True]\n",
      " [ True  True  True  True]\n",
      " [ True  True  True  True]\n",
      " [False  True  True False]\n",
      " [False  True False False]] \n",
      "\n",
      "[[0.62385572 1.60226246 0.         0.        ]\n",
      " [0.3337796  0.         0.         0.54728682]\n",
      " [0.458751   0.27385572 0.8399314  0.        ]\n",
      " [0.         0.         0.         0.        ]\n",
      " [0.         0.         0.         0.        ]\n",
      " [0.53242904 0.         0.         0.19337347]\n",
      " [0.2387453  0.         0.20434919 2.76613555]] \n",
      "\n"
     ]
    }
   ],
   "source": [
    "print(data,'\\n')\n",
    "print(data < 0 ,'\\n')\n",
    "\n",
    "data[data<0] = 0\n",
    "print ( data,'\\n')"
   ]
  },
  {
   "cell_type": "code",
   "execution_count": 34,
   "metadata": {},
   "outputs": [
    {
     "name": "stdout",
     "output_type": "stream",
     "text": [
      "[[7.         7.         7.         7.        ]\n",
      " [0.3337796  0.         0.         0.54728682]\n",
      " [7.         7.         7.         7.        ]\n",
      " [7.         7.         7.         7.        ]\n",
      " [7.         7.         7.         7.        ]\n",
      " [0.53242904 0.         0.         0.19337347]\n",
      " [0.2387453  0.         0.20434919 2.76613555]]\n"
     ]
    }
   ],
   "source": [
    "data [ names != 'Joe'] = 7\n",
    "print(data)"
   ]
  },
  {
   "cell_type": "code",
   "execution_count": 35,
   "metadata": {},
   "outputs": [
    {
     "data": {
      "text/plain": [
       "array([[16843009, 16843009],\n",
       "       [16843009, 16843009]])"
      ]
     },
     "execution_count": 35,
     "metadata": {},
     "output_type": "execute_result"
    }
   ],
   "source": [
    "np.empty([2,2],dtype=int)"
   ]
  },
  {
   "cell_type": "markdown",
   "metadata": {},
   "source": [
    "+ Keep in mind that the values in the array are essentially garbage values until you explicitly assign values to them."
   ]
  },
  {
   "cell_type": "code",
   "execution_count": 36,
   "metadata": {},
   "outputs": [
    {
     "name": "stdout",
     "output_type": "stream",
     "text": [
      "Object `np.empty  # 使用 ipython 中的 ? 进行索引说明` not found.\n"
     ]
    }
   ],
   "source": [
    "?np.empty  # 使用 ipython 中的 ? 进行索引说明"
   ]
  },
  {
   "cell_type": "code",
   "execution_count": 37,
   "metadata": {},
   "outputs": [
    {
     "data": {
      "text/plain": [
       "array([[0., 0., 0., 0.],\n",
       "       [1., 1., 1., 1.],\n",
       "       [2., 2., 2., 2.],\n",
       "       [3., 3., 3., 3.],\n",
       "       [4., 4., 4., 4.],\n",
       "       [5., 5., 5., 5.],\n",
       "       [6., 6., 6., 6.],\n",
       "       [7., 7., 7., 7.]])"
      ]
     },
     "execution_count": 37,
     "metadata": {},
     "output_type": "execute_result"
    }
   ],
   "source": [
    "arr = np.empty([8,4])\n",
    "for i in range(8):\n",
    "    arr[i] = i\n",
    "arr"
   ]
  },
  {
   "cell_type": "code",
   "execution_count": 38,
   "metadata": {},
   "outputs": [
    {
     "data": {
      "text/plain": [
       "array([[4., 4., 4., 4.],\n",
       "       [5., 5., 5., 5.],\n",
       "       [6., 6., 6., 6.],\n",
       "       [0., 0., 0., 0.]])"
      ]
     },
     "execution_count": 38,
     "metadata": {},
     "output_type": "execute_result"
    }
   ],
   "source": [
    "#可以同时索引多行\n",
    "arr[[4,5,6,0]]"
   ]
  },
  {
   "cell_type": "code",
   "execution_count": 39,
   "metadata": {},
   "outputs": [
    {
     "data": {
      "text/plain": [
       "array([[7., 7., 7., 7.],\n",
       "       [6., 6., 6., 6.],\n",
       "       [0., 0., 0., 0.],\n",
       "       [2., 2., 2., 2.]])"
      ]
     },
     "execution_count": 39,
     "metadata": {},
     "output_type": "execute_result"
    }
   ],
   "source": [
    "arr[[-1,-2,0,2]] #-1就是倒数第一行，这里是第八行(7)"
   ]
  },
  {
   "cell_type": "code",
   "execution_count": 51,
   "metadata": {},
   "outputs": [
    {
     "name": "stdout",
     "output_type": "stream",
     "text": [
      "[[ 0  1  2  3]\n",
      " [ 4  5  6  7]\n",
      " [ 8  9 10 11]\n",
      " [12 13 14 15]\n",
      " [16 17 18 19]\n",
      " [20 21 22 23]\n",
      " [24 25 26 27]\n",
      " [28 29 30 31]] \n",
      "\n",
      "[[ 4  5  6  7]\n",
      " [20 21 22 23]\n",
      " [28 29 30 31]\n",
      " [ 8  9 10 11]] \n",
      "\n",
      "[[ 0  3  1  2]\n",
      " [ 4  7  5  6]\n",
      " [ 8 11  9 10]\n",
      " [12 15 13 14]\n",
      " [16 19 17 18]\n",
      " [20 23 21 22]\n",
      " [24 27 25 26]\n",
      " [28 31 29 30]] \n",
      "\n",
      "[[ 4  7  5  6]\n",
      " [20 23 21 22]\n",
      " [28 31 29 30]\n",
      " [ 8 11  9 10]] \n",
      "\n",
      "[ 4 23 29 10]\n"
     ]
    }
   ],
   "source": [
    "arr = np.arange(32).reshape((8,4))\n",
    "print(arr,'\\n')\n",
    "\n",
    "b = arr[[1,5,7,2]]\n",
    "print(b,'\\n')\n",
    "\n",
    "c = arr[:,[0,3,1,2]]\n",
    "print(c,'\\n')\n",
    "\n",
    "d = arr[[1,5,7,2],:][: , [0,3,1,2]]\n",
    "print(d,'\\n')\n",
    "\n",
    "e = arr[[1,5,7,2],[0,3,1,2]]\n",
    "print(e)"
   ]
  },
  {
   "cell_type": "code",
   "execution_count": 52,
   "metadata": {},
   "outputs": [
    {
     "name": "stdout",
     "output_type": "stream",
     "text": [
      "[[ 0  1  2  3  4]\n",
      " [ 5  6  7  8  9]\n",
      " [10 11 12 13 14]] \n",
      "\n",
      " [[ 0  5 10]\n",
      " [ 1  6 11]\n",
      " [ 2  7 12]\n",
      " [ 3  8 13]\n",
      " [ 4  9 14]] \n",
      "\n"
     ]
    }
   ],
   "source": [
    "arr=np.arange(15).reshape((3,5))\n",
    "print(arr,'\\n\\n',arr.T,'\\n')"
   ]
  },
  {
   "cell_type": "code",
   "execution_count": 53,
   "metadata": {},
   "outputs": [
    {
     "data": {
      "text/plain": [
       "array([[ 9.86812313,  6.23188435, -5.24650373],\n",
       "       [ 6.23188435,  7.59991319, -5.96056109],\n",
       "       [-5.24650373, -5.96056109,  5.83684319]])"
      ]
     },
     "execution_count": 53,
     "metadata": {},
     "output_type": "execute_result"
    }
   ],
   "source": [
    "arr=np.random.randn(6,3)\n",
    "np.dot(arr.T, arr)#真正的矩阵乘法"
   ]
  },
  {
   "cell_type": "code",
   "execution_count": 63,
   "metadata": {},
   "outputs": [
    {
     "name": "stdout",
     "output_type": "stream",
     "text": [
      "[[[ 0  1  2  3]\n",
      "  [ 4  5  6  7]]\n",
      "\n",
      " [[ 8  9 10 11]\n",
      "  [12 13 14 15]]]\n"
     ]
    }
   ],
   "source": [
    "arr = np.arange(16).reshape((2,2,4))\n",
    "print(arr)"
   ]
  },
  {
   "cell_type": "code",
   "execution_count": 65,
   "metadata": {},
   "outputs": [
    {
     "name": "stdout",
     "output_type": "stream",
     "text": [
      "[0 1 2 3 4 5 6 7 8 9] \n",
      "\n",
      "[0.         1.         1.41421356 1.73205081 2.         2.23606798\n",
      " 2.44948974 2.64575131 2.82842712 3.        ] \n",
      "\n",
      "[1.00000000e+00 2.71828183e+00 7.38905610e+00 2.00855369e+01\n",
      " 5.45981500e+01 1.48413159e+02 4.03428793e+02 1.09663316e+03\n",
      " 2.98095799e+03 8.10308393e+03] \n",
      "\n"
     ]
    }
   ],
   "source": [
    "arr = np.arange(10)\n",
    "print(arr,'\\n')\n",
    "print(np.sqrt(arr),'\\n')\n",
    "print(np.exp(arr),'\\n')"
   ]
  },
  {
   "cell_type": "code",
   "execution_count": 68,
   "metadata": {},
   "outputs": [
    {
     "name": "stdout",
     "output_type": "stream",
     "text": [
      "[ 1.47937861  0.16363015  0.07632625 -0.0421127  -0.28039442  2.29488357\n",
      "  0.14705189 -1.09663359] [-0.0246139   0.51394298 -0.02285327 -0.7409974   0.55570039 -0.53417301\n",
      "  0.08019585  0.51399377] \n",
      "\n",
      "[ 1.47937861  0.51394298  0.07632625 -0.0421127   0.55570039  2.29488357\n",
      "  0.14705189  0.51399377]\n"
     ]
    }
   ],
   "source": [
    "x=randn(8)\n",
    "y=randn(8)\n",
    "print(x,y,'\\n')\n",
    "print(np.maximum(x,y))#生成二维元组，对应位置取x,y的最大值"
   ]
  },
  {
   "cell_type": "code",
   "execution_count": 77,
   "metadata": {},
   "outputs": [
    {
     "name": "stdout",
     "output_type": "stream",
     "text": [
      "[ 5.43842255 -8.73812197 -2.60850054 11.03932393  4.72960262 -2.20181843\n",
      " -4.81009494] \n",
      "\n",
      "(array([ 0.43842255, -0.73812197, -0.60850054,  0.03932393,  0.72960262,\n",
      "       -0.20181843, -0.81009494]), array([ 5., -8., -2., 11.,  4., -2., -4.]))\n",
      "test:\n",
      "\n",
      "arr= [ 0.67  1.67  2.67  3.67  4.67  5.67  6.67  7.67  8.67  9.67 10.67 11.67\n",
      " 12.67 13.67 14.67] \n",
      "\n",
      "np.modf(arr)= (array([0.67, 0.67, 0.67, 0.67, 0.67, 0.67, 0.67, 0.67, 0.67, 0.67, 0.67,\n",
      "       0.67, 0.67, 0.67, 0.67]), array([ 0.,  1.,  2.,  3.,  4.,  5.,  6.,  7.,  8.,  9., 10., 11., 12.,\n",
      "       13., 14.])) \n",
      "\n"
     ]
    }
   ],
   "source": [
    "arr = randn(7)*5\n",
    "print(arr,'\\n')\n",
    "print(np.modf(arr))\n",
    "\n",
    "print('test:\\n')\n",
    "arr = np.arange(15)+0.67\n",
    "print('arr=',arr,'\\n')\n",
    "print('np.modf(arr)=',np.modf(arr),'\\n')"
   ]
  },
  {
   "cell_type": "code",
   "execution_count": 75,
   "metadata": {},
   "outputs": [
    {
     "name": "stdout",
     "output_type": "stream",
     "text": [
      "\u001b[1;31mCall signature:\u001b[0m  \u001b[0mnp\u001b[0m\u001b[1;33m.\u001b[0m\u001b[0mmodf\u001b[0m\u001b[1;33m(\u001b[0m\u001b[1;33m*\u001b[0m\u001b[0margs\u001b[0m\u001b[1;33m,\u001b[0m \u001b[1;33m**\u001b[0m\u001b[0mkwargs\u001b[0m\u001b[1;33m)\u001b[0m\u001b[1;33m\u001b[0m\u001b[1;33m\u001b[0m\u001b[0m\n",
      "\u001b[1;31mType:\u001b[0m            ufunc\n",
      "\u001b[1;31mString form:\u001b[0m     <ufunc 'modf'>\n",
      "\u001b[1;31mFile:\u001b[0m            d:\\anaconda3\\lib\\site-packages\\numpy\\__init__.py\n",
      "\u001b[1;31mDocstring:\u001b[0m      \n",
      "modf(x[, out1, out2], / [, out=(None, None)], *, where=True, casting='same_kind', order='K', dtype=None, subok=True[, signature, extobj])\n",
      "\n",
      "Return the fractional and integral parts of an array, element-wise.\n",
      "\n",
      "The fractional and integral parts are negative if the given number is\n",
      "negative.\n",
      "\n",
      "Parameters\n",
      "----------\n",
      "x : array_like\n",
      "    Input array.\n",
      "out : ndarray, None, or tuple of ndarray and None, optional\n",
      "    A location into which the result is stored. If provided, it must have\n",
      "    a shape that the inputs broadcast to. If not provided or None,\n",
      "    a freshly-allocated array is returned. A tuple (possible only as a\n",
      "    keyword argument) must have length equal to the number of outputs.\n",
      "where : array_like, optional\n",
      "    This condition is broadcast over the input. At locations where the\n",
      "    condition is True, the `out` array will be set to the ufunc result.\n",
      "    Elsewhere, the `out` array will retain its original value.\n",
      "    Note that if an uninitialized `out` array is created via the default\n",
      "    ``out=None``, locations within it where the condition is False will\n",
      "    remain uninitialized.\n",
      "**kwargs\n",
      "    For other keyword-only arguments, see the\n",
      "    :ref:`ufunc docs <ufuncs.kwargs>`.\n",
      "\n",
      "Returns\n",
      "-------\n",
      "y1 : ndarray\n",
      "    Fractional part of `x`.\n",
      "    This is a scalar if `x` is a scalar.\n",
      "y2 : ndarray\n",
      "    Integral part of `x`.\n",
      "    This is a scalar if `x` is a scalar.\n",
      "\n",
      "Notes\n",
      "-----\n",
      "For integer input the return values are floats.\n",
      "\n",
      "See Also\n",
      "--------\n",
      "divmod : ``divmod(x, 1)`` is equivalent to ``modf`` with the return values\n",
      "         switched, except it always has a positive remainder.\n",
      "\n",
      "Examples\n",
      "--------\n",
      ">>> np.modf([0, 3.5])\n",
      "(array([ 0. ,  0.5]), array([ 0.,  3.]))\n",
      ">>> np.modf(-0.5)\n",
      "(-0.5, -0)\n",
      "\u001b[1;31mClass docstring:\u001b[0m\n",
      "Functions that operate element by element on whole arrays.\n",
      "\n",
      "To see the documentation for a specific ufunc, use `info`.  For\n",
      "example, ``np.info(np.sin)``.  Because ufuncs are written in C\n",
      "(for speed) and linked into Python with NumPy's ufunc facility,\n",
      "Python's help() function finds this page whenever help() is called\n",
      "on a ufunc.\n",
      "\n",
      "A detailed explanation of ufuncs can be found in the docs for :ref:`ufuncs`.\n",
      "\n",
      "**Calling ufuncs:** ``op(*x[, out], where=True, **kwargs)``\n",
      "\n",
      "Apply `op` to the arguments `*x` elementwise, broadcasting the arguments.\n",
      "\n",
      "The broadcasting rules are:\n",
      "\n",
      "* Dimensions of length 1 may be prepended to either array.\n",
      "* Arrays may be repeated along dimensions of length 1.\n",
      "\n",
      "Parameters\n",
      "----------\n",
      "*x : array_like\n",
      "    Input arrays.\n",
      "out : ndarray, None, or tuple of ndarray and None, optional\n",
      "    Alternate array object(s) in which to put the result; if provided, it\n",
      "    must have a shape that the inputs broadcast to. A tuple of arrays\n",
      "    (possible only as a keyword argument) must have length equal to the\n",
      "    number of outputs; use None for uninitialized outputs to be\n",
      "    allocated by the ufunc.\n",
      "where : array_like, optional\n",
      "    This condition is broadcast over the input. At locations where the\n",
      "    condition is True, the `out` array will be set to the ufunc result.\n",
      "    Elsewhere, the `out` array will retain its original value.\n",
      "    Note that if an uninitialized `out` array is created via the default\n",
      "    ``out=None``, locations within it where the condition is False will\n",
      "    remain uninitialized.\n",
      "**kwargs\n",
      "    For other keyword-only arguments, see the :ref:`ufunc docs <ufuncs.kwargs>`.\n",
      "\n",
      "Returns\n",
      "-------\n",
      "r : ndarray or tuple of ndarray\n",
      "    `r` will have the shape that the arrays in `x` broadcast to; if `out` is\n",
      "    provided, it will be returned. If not, `r` will be allocated and\n",
      "    may contain uninitialized values. If the function has more than one\n",
      "    output, then the result will be a tuple of arrays."
     ]
    }
   ],
   "source": [
    "?np.modf"
   ]
  }
 ],
 "metadata": {
  "kernelspec": {
   "display_name": "base",
   "language": "python",
   "name": "python3"
  },
  "language_info": {
   "codemirror_mode": {
    "name": "ipython",
    "version": 3
   },
   "file_extension": ".py",
   "mimetype": "text/x-python",
   "name": "python",
   "nbconvert_exporter": "python",
   "pygments_lexer": "ipython3",
   "version": "3.11.4"
  },
  "orig_nbformat": 4
 },
 "nbformat": 4,
 "nbformat_minor": 2
}
