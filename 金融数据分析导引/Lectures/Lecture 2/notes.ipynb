{
 "cells": [
  {
   "cell_type": "code",
   "execution_count": 237,
   "metadata": {},
   "outputs": [],
   "source": [
    "from numpy.random import randn #产生正态随机数的函数\n",
    "import numpy as np #简便书写"
   ]
  },
  {
   "cell_type": "code",
   "execution_count": 238,
   "metadata": {},
   "outputs": [
    {
     "data": {
      "text/plain": [
       "array([3.4, 5.5])"
      ]
     },
     "execution_count": 238,
     "metadata": {},
     "output_type": "execute_result"
    }
   ],
   "source": [
    "np.array([3.4, 5.5])#生成array 数据的函数"
   ]
  },
  {
   "cell_type": "code",
   "execution_count": 239,
   "metadata": {},
   "outputs": [
    {
     "name": "stdout",
     "output_type": "stream",
     "text": [
      "[[-0.42994715  0.20095737  1.56722785]\n",
      " [ 1.51359402 -0.13347853  0.91514275]]\n",
      "(2, 3)\n",
      "float64\n"
     ]
    },
    {
     "data": {
      "text/plain": [
       "(1, 1)"
      ]
     },
     "execution_count": 239,
     "metadata": {},
     "output_type": "execute_result"
    }
   ],
   "source": [
    "data = randn(2,3)\n",
    "print(data)\n",
    "print(data.shape) #输出array格式的数据的维数\n",
    "print(data.dtype) #输出array格式的的数据的类别\n",
    "b = [[2,]]\n",
    "np.array(b).shape #说明空的会被省略掉"
   ]
  },
  {
   "cell_type": "code",
   "execution_count": 240,
   "metadata": {},
   "outputs": [
    {
     "name": "stdout",
     "output_type": "stream",
     "text": [
      "[1 2 3] (3,) int32\n",
      "\n",
      "[[1]] (1, 1) int32\n",
      "\n",
      "[[1 0 0]\n",
      " [0 1 2]] (2, 3) int32\n",
      "\n"
     ]
    }
   ],
   "source": [
    "a=np.array([1,2,3])\n",
    "b=np.array([[1,]])\n",
    "c=np.array([[1,0,0],[0,1,2]])\n",
    "print(a,a.shape,a.dtype,end='\\n\\n')\n",
    "print(b,b.shape,b.dtype,end='\\n\\n')\n",
    "print(c,c.shape,c.dtype,end='\\n\\n')"
   ]
  },
  {
   "cell_type": "code",
   "execution_count": 241,
   "metadata": {},
   "outputs": [
    {
     "name": "stdout",
     "output_type": "stream",
     "text": [
      "[ 0  1  2  3  4  5  6  7  8  9 10 11 12 13 14]\n",
      "\n",
      "[ 2  3  4  5  6  7  8  9 10 11 12 13 14]\n",
      "\n",
      "[ 2  4  6  8 10 12 14]\n",
      "\n",
      "[ 2.   3.5  5.   6.5  8.   9.5 11.  12.5 14. ]\n",
      "\n"
     ]
    }
   ],
   "source": [
    "print(np.arange(15),end='\\n\\n') #输出等差数列，默认值0-15，不包含mxa=15，默认步长为1\n",
    "print(np.arange(2,15),end='\\n\\n') #输出等差数列，从2-15，不包含15，默认步长为1\n",
    "print(np.arange(2,15,2),end='\\n\\n') #输出等差数列，从2-15，不包含15，步长设定为2\n",
    "print(np.arange(2,15,1.5),end='\\n\\n') #步长设定为1.5"
   ]
  },
  {
   "cell_type": "code",
   "execution_count": 242,
   "metadata": {},
   "outputs": [
    {
     "name": "stdout",
     "output_type": "stream",
     "text": [
      "[0.  0.1 0.2 0.3 0.4 0.5 0.6 0.7 0.8 0.9 1. ]\n",
      "\n",
      "[0.         0.09090909 0.18181818 0.27272727 0.36363636 0.45454545\n",
      " 0.54545455 0.63636364 0.72727273 0.81818182 0.90909091]\n",
      "\n",
      "[0.  0.1 0.2 0.3 0.4 0.5 0.6 0.7 0.8 0.9 1. ]\n",
      "\n",
      "[0.         0.09090909 0.18181818 0.27272727 0.36363636 0.45454545\n",
      " 0.54545455 0.63636364 0.72727273 0.81818182 0.90909091 1.        ]\n",
      "\n"
     ]
    }
   ],
   "source": [
    "print(np.linspace(0,1,11),end='\\n\\n')#从0-11，不包含11，设定一共有11个\n",
    "print(np.linspace(0,1,11, endpoint = False), end='\\n\\n')\n",
    "print(np.linspace(0,1,11, endpoint = True), end='\\n\\n')#可以设置是否包含max\n",
    "print(np.linspace(0,1,12),end='\\n\\n')"
   ]
  },
  {
   "cell_type": "code",
   "execution_count": 243,
   "metadata": {},
   "outputs": [
    {
     "name": "stdout",
     "output_type": "stream",
     "text": [
      "[ 6.   7.8  8.9 33. ] (4,) float64\n"
     ]
    }
   ],
   "source": [
    "data1=[6,7.8,8.9,33]\n",
    "arr1=np.array(data1)\n",
    "print(arr1,arr1.shape,arr1.dtype)"
   ]
  },
  {
   "cell_type": "code",
   "execution_count": 244,
   "metadata": {},
   "outputs": [
    {
     "name": "stdout",
     "output_type": "stream",
     "text": [
      "[[1. 2. 3. 4.]\n",
      " [5. 6. 7. 8.]] (2, 4) float64\n"
     ]
    }
   ],
   "source": [
    "data2=[[1,2,3.0,4],[5,6,7,8]]\n",
    "arr2=np.array(data2)\n",
    "print(arr2,arr2.shape,arr2.dtype)"
   ]
  },
  {
   "cell_type": "code",
   "execution_count": 245,
   "metadata": {},
   "outputs": [
    {
     "name": "stdout",
     "output_type": "stream",
     "text": [
      "[[1. 2. 3. 4.]\n",
      " [5. 6. 7. 8.]] (2, 4) float64\n",
      "\n",
      "[[1. 2. 3. 4. 5. 6. 7. 8.]] (1, 8) float64\n",
      "\n",
      "[[1. 2.]\n",
      " [3. 4.]\n",
      " [5. 6.]\n",
      " [7. 8.]] (4, 2) float64\n",
      "\n"
     ]
    }
   ],
   "source": [
    "#使用reshape来改变维数\n",
    "print(arr2,arr2.shape,arr2.dtype,end='\\n\\n')\n",
    "b=arr2.reshape((1,8))\n",
    "print(b,b.shape,b.dtype,end='\\n\\n')\n",
    "b=arr2.reshape((4,2))\n",
    "print(b,b.shape,b.dtype,end='\\n\\n')\n"
   ]
  },
  {
   "cell_type": "code",
   "execution_count": 246,
   "metadata": {},
   "outputs": [
    {
     "name": "stdout",
     "output_type": "stream",
     "text": [
      "[0 0 0 0 0 0 0 0 0 0] (10,) int32\n",
      "[0. 0. 0. 0. 0. 0. 0. 0. 0. 0.] (10,) float64\n"
     ]
    }
   ],
   "source": [
    "a=np.zeros(10,dtype='int')\n",
    "print(a,a.shape,a.dtype)\n",
    "a=np.zeros(10,dtype='float')\n",
    "print(a,a.shape,a.dtype)"
   ]
  },
  {
   "cell_type": "code",
   "execution_count": 247,
   "metadata": {},
   "outputs": [
    {
     "name": "stdout",
     "output_type": "stream",
     "text": [
      "[[1 1 1]\n",
      " [1 1 1]] (2, 3) int32\n",
      "[[1. 1. 1.]\n",
      " [1. 1. 1.]] (2, 3) float64\n"
     ]
    }
   ],
   "source": [
    "b=np.ones((2,3),dtype='int')\n",
    "print(b,b.shape,b.dtype)\n",
    "b=np.ones((2,3),dtype='float')\n",
    "print(b,b.shape,b.dtype)"
   ]
  },
  {
   "cell_type": "code",
   "execution_count": 248,
   "metadata": {},
   "outputs": [
    {
     "name": "stdout",
     "output_type": "stream",
     "text": [
      "[[1. 0.]\n",
      " [0. 1.]] (2, 2) float64\n",
      "\n",
      "[[1. 0. 0. 0. 0. 0. 0. 0. 0.]\n",
      " [0. 1. 0. 0. 0. 0. 0. 0. 0.]\n",
      " [0. 0. 1. 0. 0. 0. 0. 0. 0.]\n",
      " [0. 0. 0. 1. 0. 0. 0. 0. 0.]] (4, 9) float64\n"
     ]
    }
   ],
   "source": [
    "c=np.identity(2)#单位矩阵(方阵)\n",
    "print(c,c.shape,c.dtype,end='\\n\\n')\n",
    "d=np.eye(4,9)\n",
    "print(d,d.shape,d.dtype)"
   ]
  },
  {
   "cell_type": "code",
   "execution_count": 249,
   "metadata": {},
   "outputs": [
    {
     "name": "stdout",
     "output_type": "stream",
     "text": [
      "[1 2 3 4 5] (5,) int32\n"
     ]
    }
   ],
   "source": [
    "arr = np.array([1,2,3,4,5],dtype=np.int32)\n",
    "print(arr,arr.shape,arr.dtype)"
   ]
  },
  {
   "cell_type": "code",
   "execution_count": 250,
   "metadata": {},
   "outputs": [
    {
     "name": "stdout",
     "output_type": "stream",
     "text": [
      "[1. 2. 3. 4. 5.] (5,) float64\n"
     ]
    }
   ],
   "source": [
    "#使用astype去修改类型\n",
    "float_arr = arr.astype(np.float64)\n",
    "print(float_arr,float_arr.shape,float_arr.dtype)"
   ]
  },
  {
   "cell_type": "code",
   "execution_count": 251,
   "metadata": {},
   "outputs": [
    {
     "name": "stdout",
     "output_type": "stream",
     "text": [
      "[ 3  1  0 12  5] (5,) int32\n"
     ]
    }
   ],
   "source": [
    "arr=np.array([3.7,1.2,0.5,12.7,5.6])\n",
    "c=arr.astype(np.int32)\n",
    "print(c,c.shape,c.dtype)"
   ]
  },
  {
   "cell_type": "code",
   "execution_count": 252,
   "metadata": {},
   "outputs": [
    {
     "name": "stdout",
     "output_type": "stream",
     "text": [
      "['1.25' '42'] (2,) <U4\n",
      "[ 1.25 42.  ] (2,) float64\n"
     ]
    }
   ],
   "source": [
    "c=numeric_strings = np.array(['1.25', '42'],dtype=str)\n",
    "print(c,c.shape,c.dtype)\n",
    "c=c.astype(float)\n",
    "print(c,c.shape,c.dtype)"
   ]
  },
  {
   "cell_type": "code",
   "execution_count": 253,
   "metadata": {},
   "outputs": [
    {
     "name": "stdout",
     "output_type": "stream",
     "text": [
      "[[1. 2. 3.]\n",
      " [4. 5. 6.]]\n",
      "\n",
      "[[ 1.  4.  9.]\n",
      " [16. 25. 36.]]\n",
      "\n",
      "[[ 0.  2.  6.]\n",
      " [12. 20. 30.]]\n",
      "\n",
      "[[1.         0.5        0.33333333]\n",
      " [0.25       0.2        0.16666667]]\n",
      "\n",
      "[[ 2.  4.  6.]\n",
      " [ 8. 10. 12.]]\n",
      "\n",
      "[[ 1.  4.  9.]\n",
      " [16. 25. 36.]]\n",
      "\n"
     ]
    }
   ],
   "source": [
    "arr=np.array(([1,2,3],[4,5,6]),dtype=float)\n",
    "print(arr,end='\\n\\n')\n",
    "print(arr*arr,end='\\n\\n')#对应元素相乘\n",
    "print(arr*arr-arr,end='\\n\\n')\n",
    "print(1/arr,end='\\n\\n')\n",
    "print(arr*2,end='\\n\\n')\n",
    "print(arr**2,end='\\n\\n')#对应元素平方"
   ]
  },
  {
   "cell_type": "code",
   "execution_count": 254,
   "metadata": {},
   "outputs": [
    {
     "name": "stdout",
     "output_type": "stream",
     "text": [
      "[0 1 2 3 4 5 6 7 8 9] (10,) int32\n",
      "[5 6 7]\n",
      "[ 0  1  2  3  4 12 12 12  8  9] (10,) int32\n"
     ]
    }
   ],
   "source": [
    "arr=np.arange(10)\n",
    "print(arr,arr.shape,arr.dtype)\n",
    "print(arr[5:8])\n",
    "arr[5:8] = 12\n",
    "print(arr,arr.shape,arr.dtype)"
   ]
  },
  {
   "cell_type": "code",
   "execution_count": 255,
   "metadata": {},
   "outputs": [
    {
     "name": "stdout",
     "output_type": "stream",
     "text": [
      "1923494384176 1923495459984\n",
      "False \n",
      " [ True  True  True]\n",
      "[    0     1     2     3     4     5 12345     7     8     9] \n",
      " [    5 12345     7]\n"
     ]
    }
   ],
   "source": [
    "arr=np.arange(10)\n",
    "arr_slice=arr[5:8]\n",
    "print(id(arr_slice), id(arr[5:8]),)\n",
    "print(arr_slice is arr[5:8],'\\n',arr_slice == arr[5:8] )\n",
    "arr_slice[1]=12345\n",
    "print(arr,'\\n', arr_slice)"
   ]
  },
  {
   "cell_type": "markdown",
   "metadata": {},
   "source": [
    "原因：\n",
    "> object（对象） 与 location（地址） 并不相同\n",
    "+ 一个对象可以是一个指针，例如对象A是个指针，它的内容是->B，其中B是一个存储空间；C也可以是个指针，内容也是->B，这时候它们是两个不同的对象，指向同一个存储空间\n",
    "> 但实际上，切片slice，只是创造了一个视图，其实指向的地址还是不一样"
   ]
  },
  {
   "cell_type": "code",
   "execution_count": 256,
   "metadata": {},
   "outputs": [
    {
     "name": "stdout",
     "output_type": "stream",
     "text": [
      "[    0     1     2     3     4     5 12345     7     8     9] \n",
      " [    5 12345     7]\n",
      "[ 0  1  2  3  4 64 64 64  8  9] \n",
      " [64 64 64]\n"
     ]
    }
   ],
   "source": [
    "print(arr,'\\n',arr_slice)\n",
    "arr_slice[:]=64\n",
    "print(arr,'\\n',arr_slice)"
   ]
  },
  {
   "cell_type": "code",
   "execution_count": 257,
   "metadata": {},
   "outputs": [
    {
     "name": "stdout",
     "output_type": "stream",
     "text": [
      "False\n",
      "[0, 1, 2, 3, 4, 5, 6, 7, 8, 9] \n",
      " [5, 12345, 7]\n"
     ]
    }
   ],
   "source": [
    "a_list=list(range(10))\n",
    "list_slice=a_list[5:8]\n",
    "print(a_list is list_slice)\n",
    "list_slice[1] = 12345\n",
    "print(a_list, '\\n', list_slice)"
   ]
  },
  {
   "cell_type": "code",
   "execution_count": 258,
   "metadata": {},
   "outputs": [
    {
     "name": "stdout",
     "output_type": "stream",
     "text": [
      "True\n",
      "[1, 2, 3, [1, 2]] \n",
      " 1000\n"
     ]
    }
   ],
   "source": [
    "a=[1,2,3,[1,2]]\n",
    "b=a[3][1]\n",
    "print(b is a[3][1])\n",
    "b=1000\n",
    "print(a,'\\n',b)"
   ]
  },
  {
   "cell_type": "code",
   "execution_count": 259,
   "metadata": {},
   "outputs": [
    {
     "name": "stdout",
     "output_type": "stream",
     "text": [
      "False True\n"
     ]
    }
   ],
   "source": [
    "import copy\n",
    "c=copy.deepcopy(a)\n",
    "print(a is c, a==c)"
   ]
  },
  {
   "cell_type": "code",
   "execution_count": 260,
   "metadata": {},
   "outputs": [
    {
     "name": "stdout",
     "output_type": "stream",
     "text": [
      "[[1 2 3]\n",
      " [4 5 6]\n",
      " [7 8 9]] (3, 3) int32\n",
      "\n",
      "[[1 2 3]\n",
      " [4 5 6]\n",
      " [7 8 9]] \n",
      "\n",
      " [1 2 3] \n",
      "\n",
      " 2\n"
     ]
    }
   ],
   "source": [
    "arr2d = np.array([[1,2,3],[4,5,6],[7,8,9]])\n",
    "print(arr2d,arr2d.shape,arr2d.dtype,end='\\n\\n')\n",
    "print(arr2d,'\\n\\n',arr2d[0],'\\n\\n',arr2d[0][1])"
   ]
  },
  {
   "cell_type": "code",
   "execution_count": 261,
   "metadata": {},
   "outputs": [
    {
     "name": "stdout",
     "output_type": "stream",
     "text": [
      "[[1 2 3]\n",
      " [4 5 6]\n",
      " [7 8 9]]\n",
      "\n",
      "[1 2 3] \n",
      "\n",
      " [1 4 7]\n",
      "\n",
      "[ True False False] False\n"
     ]
    }
   ],
   "source": [
    "print(arr2d,end='\\n\\n')\n",
    "print(arr2d[:][0] , '\\n\\n', arr2d[:,0],end='\\n\\n')\n",
    "print(arr2d[:][0]==arr2d[:,0], arr2d[:][0] is arr2d[:,0])"
   ]
  },
  {
   "cell_type": "markdown",
   "metadata": {},
   "source": [
    "+ arr2d[:][0] is equivalent to arr2d[0] instead of arr2d[:,0]"
   ]
  },
  {
   "cell_type": "code",
   "execution_count": 262,
   "metadata": {},
   "outputs": [
    {
     "name": "stdout",
     "output_type": "stream",
     "text": [
      "[[1 2 3]\n",
      " [4 5 6]\n",
      " [7 8 9]]\n",
      "\n",
      "[7 8 9] False\n",
      "\n",
      "arr2d[2]= [3 3 3] \n",
      "\n",
      " arr2d=\n",
      " [[1 2 3]\n",
      " [4 5 6]\n",
      " [3 3 3]]\n",
      "\n",
      "False [1 2]\n",
      "\n",
      "arr2d[0][:2]= [1000 1000] \n",
      " arr2d=\n",
      " [[1000 1000    3]\n",
      " [   4    5    6]\n",
      " [   3    3    3]]\n",
      "\n"
     ]
    }
   ],
   "source": [
    "#二维数组切片也传输地址\n",
    "arr2d = np.array([[1,2,3],[4,5,6],[7,8,9]])\n",
    "print(arr2d,end='\\n\\n')\n",
    "b = arr2d[2]\n",
    "print(b,b is arr2d[2],end='\\n\\n')\n",
    "arr2d[2] = 3\n",
    "print('arr2d[2]=',arr2d[2],'\\n\\n','arr2d=\\n',arr2d,end='\\n\\n')\n",
    "#二维数组的切片一定会传地址\n",
    "c=arr2d[0][:2]\n",
    "print(c is arr2d[0][:2], c, end='\\n\\n')\n",
    "arr2d[0][:2]=1000\n",
    "print('arr2d[0][:2]=',arr2d[0][:2],'\\n','arr2d=\\n',arr2d,end='\\n\\n')"
   ]
  },
  {
   "cell_type": "code",
   "execution_count": 263,
   "metadata": {},
   "outputs": [
    {
     "name": "stdout",
     "output_type": "stream",
     "text": [
      "[[[ 1  2  3]\n",
      "  [ 4  5  6]]\n",
      "\n",
      " [[ 7  8  9]\n",
      "  [10 11 12]]] \n",
      "\n",
      " (2, 2, 3) \n",
      "\n",
      " int32\n",
      "arr3d[0]= [[1 2 3]\n",
      " [4 5 6]]\n",
      "arr3d[0][0]= [1 2 3]\n",
      "arr3d[0][0][0]= 1\n"
     ]
    }
   ],
   "source": [
    "arr3d = np.array([[[1, 2, 3], [4, 5, 6]], [[7, 8, 9], [10, 11, 12]]])\n",
    "print(arr3d,'\\n\\n',arr3d.shape,'\\n\\n',arr3d.dtype)\n",
    "print('arr3d[0]=',arr3d[0])\n",
    "print('arr3d[0][0]=',arr3d[0][0])\n",
    "print('arr3d[0][0][0]=',arr3d[0][0][0])"
   ]
  },
  {
   "cell_type": "markdown",
   "metadata": {},
   "source": [
    "+ 数组拷贝\n",
    "> 要生成新的对象(传递数值)，而不是传递地址，需要用到copy函数"
   ]
  },
  {
   "cell_type": "code",
   "execution_count": 264,
   "metadata": {},
   "outputs": [
    {
     "name": "stdout",
     "output_type": "stream",
     "text": [
      "[[1 2 3]\n",
      " [4 5 6]\n",
      " [7 8 9]] (3, 3) int32\n",
      "\n",
      "[[1 2 3]\n",
      " [4 5 6]\n",
      " [7 8 9]]\n",
      "[[999 999 999]\n",
      " [  4   5   6]\n",
      " [  7   8   9]] \n",
      " [[1 2 3]\n",
      " [4 5 6]\n",
      " [7 8 9]] \n",
      " [[1 2 3]\n",
      " [4 5 6]\n",
      " [7 8 9]]\n"
     ]
    }
   ],
   "source": [
    "arr2d = np.array([[1, 2, 3], [4, 5, 6], [7, 8, 9]])\n",
    "print(arr2d,arr2d.shape,arr2d.dtype,end='\\n\\n')\n",
    "\n",
    "old_values=arr2d.copy()\n",
    "old_1=copy.deepcopy(arr2d)\n",
    "print(old_values)\n",
    "\n",
    "arr2d[0][:]=999\n",
    "print(arr2d,'\\n',old_values,'\\n',old_1)"
   ]
  },
  {
   "cell_type": "code",
   "execution_count": 265,
   "metadata": {},
   "outputs": [
    {
     "name": "stdout",
     "output_type": "stream",
     "text": [
      "[ 0  1  2  3  4 64 64 64  8  9]\n",
      "[ 1  2  3  4 64] \n",
      "\n",
      "[[999 999 999]\n",
      " [  4   5   6]\n",
      " [  7   8   9]]\n",
      "[[999 999 999]\n",
      " [  4   5   6]] \n",
      "\n",
      "[4 5] \n",
      "\n",
      "[[999   0   0]\n",
      " [  4   0   0]\n",
      " [  7   8   9]]\n"
     ]
    }
   ],
   "source": [
    "print(arr)\n",
    "print(arr[1:6],'\\n')\n",
    "\n",
    "print(arr2d)\n",
    "print(arr2d[:2],'\\n')\n",
    "\n",
    "print(arr2d[1, :2],'\\n')\n",
    "\n",
    "arr2d[:2 , 1: ]=0\n",
    "print(arr2d)"
   ]
  },
  {
   "cell_type": "code",
   "execution_count": 266,
   "metadata": {},
   "outputs": [
    {
     "name": "stdout",
     "output_type": "stream",
     "text": [
      "['Bob' 'Joe' 'Will' 'Bob' 'Will' 'Joe' 'Joe'] \n",
      "\n",
      " [[ 2.00356037 -0.48959041 -0.87164675  0.51845331]\n",
      " [-0.70049674 -1.79265863 -0.15598787  0.5171986 ]\n",
      " [ 2.68404642 -0.32719274 -0.64353083  0.40603448]\n",
      " [-0.31549991 -0.81249671 -1.00176253 -0.23023844]\n",
      " [ 1.26854787  2.79005299 -0.21017096  0.16679061]\n",
      " [ 0.17642904 -0.73489387 -0.41677191 -1.23605898]\n",
      " [ 0.51474135  0.00741902  0.56536301 -0.7813853 ]] \n",
      "\n",
      "[ True False False  True False False False] \n",
      "\n",
      "[[ 2.00356037 -0.48959041 -0.87164675  0.51845331]\n",
      " [-0.31549991 -0.81249671 -1.00176253 -0.23023844]] \n",
      "\n",
      "[[-0.87164675  0.51845331]\n",
      " [-1.00176253 -0.23023844]] \n",
      "\n",
      "[[ 0.51845331]\n",
      " [-0.23023844]] \n",
      "\n",
      "[False  True  True False  True  True  True]\n",
      "[[-0.70049674 -1.79265863 -0.15598787  0.5171986 ]\n",
      " [ 2.68404642 -0.32719274 -0.64353083  0.40603448]\n",
      " [ 1.26854787  2.79005299 -0.21017096  0.16679061]\n",
      " [ 0.17642904 -0.73489387 -0.41677191 -1.23605898]\n",
      " [ 0.51474135  0.00741902  0.56536301 -0.7813853 ]] \n",
      "\n"
     ]
    }
   ],
   "source": [
    "names = np.array(['Bob', 'Joe', 'Will', 'Bob', 'Will', 'Joe', 'Joe'])\n",
    "data = randn(7,4)\n",
    "print(names,'\\n\\n',data,'\\n')\n",
    "\n",
    "print(names == 'Bob','\\n') #返回的逻辑判断是对所有元素逐个判断之后合并起来的array变量\n",
    "print(data[names == 'Bob'],'\\n')#输出的是取了True的行，其他都没有输出\n",
    "print(data[names == 'Bob',2:],'\\n')#第三列到最后\n",
    "print(data[names == 'Bob',3:],'\\n')#第四列\n",
    "\n",
    "print(names != 'Bob')\n",
    "print(data[names != 'Bob'],'\\n')"
   ]
  },
  {
   "cell_type": "code",
   "execution_count": 267,
   "metadata": {},
   "outputs": [
    {
     "name": "stdout",
     "output_type": "stream",
     "text": [
      "[ True False  True  True  True False False] \n",
      "\n",
      "[[ 2.00356037 -0.48959041 -0.87164675  0.51845331]\n",
      " [ 2.68404642 -0.32719274 -0.64353083  0.40603448]\n",
      " [-0.31549991 -0.81249671 -1.00176253 -0.23023844]\n",
      " [ 1.26854787  2.79005299 -0.21017096  0.16679061]] \n",
      "\n"
     ]
    }
   ],
   "source": [
    "mask = (names == 'Bob') | (names == 'Will')  # 还有&\n",
    "print(mask,'\\n')\n",
    "print(data[mask],'\\n')"
   ]
  },
  {
   "cell_type": "code",
   "execution_count": 268,
   "metadata": {},
   "outputs": [
    {
     "name": "stdout",
     "output_type": "stream",
     "text": [
      "[[ 2.00356037 -0.48959041 -0.87164675  0.51845331]\n",
      " [-0.70049674 -1.79265863 -0.15598787  0.5171986 ]\n",
      " [ 2.68404642 -0.32719274 -0.64353083  0.40603448]\n",
      " [-0.31549991 -0.81249671 -1.00176253 -0.23023844]\n",
      " [ 1.26854787  2.79005299 -0.21017096  0.16679061]\n",
      " [ 0.17642904 -0.73489387 -0.41677191 -1.23605898]\n",
      " [ 0.51474135  0.00741902  0.56536301 -0.7813853 ]] \n",
      "\n",
      "[[False  True  True False]\n",
      " [ True  True  True False]\n",
      " [False  True  True False]\n",
      " [ True  True  True  True]\n",
      " [False False  True False]\n",
      " [False  True  True  True]\n",
      " [False False False  True]] \n",
      "\n",
      "[[2.00356037 0.         0.         0.51845331]\n",
      " [0.         0.         0.         0.5171986 ]\n",
      " [2.68404642 0.         0.         0.40603448]\n",
      " [0.         0.         0.         0.        ]\n",
      " [1.26854787 2.79005299 0.         0.16679061]\n",
      " [0.17642904 0.         0.         0.        ]\n",
      " [0.51474135 0.00741902 0.56536301 0.        ]] \n",
      "\n"
     ]
    }
   ],
   "source": [
    "print(data,'\\n')\n",
    "print(data < 0 ,'\\n')\n",
    "\n",
    "data[data<0] = 0\n",
    "print ( data,'\\n')"
   ]
  },
  {
   "cell_type": "code",
   "execution_count": 269,
   "metadata": {},
   "outputs": [
    {
     "name": "stdout",
     "output_type": "stream",
     "text": [
      "[[7.         7.         7.         7.        ]\n",
      " [0.         0.         0.         0.5171986 ]\n",
      " [7.         7.         7.         7.        ]\n",
      " [7.         7.         7.         7.        ]\n",
      " [7.         7.         7.         7.        ]\n",
      " [0.17642904 0.         0.         0.        ]\n",
      " [0.51474135 0.00741902 0.56536301 0.        ]]\n"
     ]
    }
   ],
   "source": [
    "data [ names != 'Joe'] = 7\n",
    "print(data)"
   ]
  }
 ],
 "metadata": {
  "kernelspec": {
   "display_name": "base",
   "language": "python",
   "name": "python3"
  },
  "language_info": {
   "codemirror_mode": {
    "name": "ipython",
    "version": 3
   },
   "file_extension": ".py",
   "mimetype": "text/x-python",
   "name": "python",
   "nbconvert_exporter": "python",
   "pygments_lexer": "ipython3",
   "version": "3.11.4"
  },
  "orig_nbformat": 4
 },
 "nbformat": 4,
 "nbformat_minor": 2
}
