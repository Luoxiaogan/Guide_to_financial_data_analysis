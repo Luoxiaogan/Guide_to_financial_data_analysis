{
 "cells": [
  {
   "cell_type": "markdown",
   "metadata": {},
   "source": [
    "罗淦 2200013522 第一次作业"
   ]
  },
  {
   "cell_type": "markdown",
   "metadata": {},
   "source": [
    "# 作业\n",
    "\n",
    "编辑自己的第一个notebook文件，其中包括：\n",
    "\n",
    "1. 如果是新安装python的同学，请安装和更新python及其包，包括，NumPy、SciPy、matplotlib、ipython、pandas、statsmodels、 line_profiler等包或库,给出安装这些包需要的代码，介绍安装步骤，出现的问题和解决的方案。如果是已经熟练使用python相关工具，包括python notebook，或其它编辑工具，比如vscode，则分享你的使用经验。\n",
    "2. 金融数学中，我们用$i$表示年利率，$t$表示时间年。$t=0$表示现在。我们知道，现在1块钱，一年后加上利息为$1+i$，两年后为$(1+i)^2$，$k$年后为$(1+i)^k$。我们也可以理解为，$k$年后为$(1+i)^k$块钱相当于现在的1块钱。  用$C_t$表示第$t$年时刻的现金。假设在$t_1,t_2,\\cdots,t_n$时刻有现金流$C_1,\\cdots,C_n$,编一个函数，以列$t_1,t_2,\\cdots,t_n$, 和$C_1,\\cdots,C_n$，以及利率$i$为参数，计算这些现金流相当于现在多少钱(现值)。令$i=0.05,k=1,\\cdots,100$ 用该函数计算下面几个实例，\n",
    "  + 计算$t_k=k,C_{t_k}=1$\n",
    "  + 计算$t_k=C_{t_k}=k-1$\n",
    "  + 计算$t_k=k-1,C_{t_k}=k\\times 1.05^k$\n",
    "  + 计算$t_k=k,C_{t_k}=k\\times 1.06^k$\n",
    "  \n",
    "\n",
    "\n"
   ]
  },
  {
   "cell_type": "markdown",
   "metadata": {},
   "source": [
    "# 第一题"
   ]
  },
  {
   "cell_type": "code",
   "execution_count": null,
   "metadata": {},
   "outputs": [],
   "source": [
    "#给出安装这些包需要的代码(在cmd中)\n",
    "\"\"\" pip install numpy\n",
    "pip install scipy\n",
    "pip install matplotlib\n",
    "pip install ipython\n",
    "pip install pandas\n",
    "pip install statsmodels\n",
    "line_profiler \"\"\""
   ]
  },
  {
   "cell_type": "markdown",
   "metadata": {},
   "source": [
    "### 介绍安装步骤\n",
    "\n",
    "+ 下载Anaconda3，安装\n",
    "+ 打开cmd, 输入conda, 检查是否已经添加环境变量\n",
    "+ activate base, 进入base环境\n",
    "+ 执行上述语句，下载所需要的包"
   ]
  },
  {
   "cell_type": "markdown",
   "metadata": {},
   "source": [
    "# 第二题"
   ]
  },
  {
   "cell_type": "code",
   "execution_count": 7,
   "metadata": {},
   "outputs": [],
   "source": [
    "def compute(t, C, i=0.05):\n",
    "    \"\"\"\n",
    "    t是list形式, t = [t1, t2, ..., tk]\n",
    "    C是list形式, C = [C1, C2, ..., Ck]\n",
    "    利率 i = 0.05\n",
    "    计算这些现金流相当于现在的多少钱\n",
    "    \"\"\"\n",
    "    length = len(t)\n",
    "    sum = 0\n",
    "    i = 0\n",
    "    while i< length:\n",
    "        sum = sum + C[i] / ((1+i)**(t[i]))\n",
    "        i = i+1\n",
    "    print(sum)"
   ]
  },
  {
   "cell_type": "markdown",
   "metadata": {},
   "source": [
    "+ 计算$t_k=k,C_{t_k}=1$"
   ]
  },
  {
   "cell_type": "code",
   "execution_count": 9,
   "metadata": {},
   "outputs": [
    {
     "name": "stdout",
     "output_type": "stream",
     "text": [
      "1.2912859970626636\n"
     ]
    }
   ],
   "source": [
    "t = [k for k in range(1, 101)]\n",
    "C = [1]*100\n",
    "compute(t, C)"
   ]
  },
  {
   "cell_type": "markdown",
   "metadata": {},
   "source": [
    "+ 计算$t_k=C_{t_k}=k-1$"
   ]
  },
  {
   "cell_type": "code",
   "execution_count": 10,
   "metadata": {},
   "outputs": [
    {
     "name": "stdout",
     "output_type": "stream",
     "text": [
      "0.7761947586015348\n"
     ]
    }
   ],
   "source": [
    "t = [k-1 for k in range(1, 101)]\n",
    "C = [k-1 for k in range(1,101)]\n",
    "compute(t, C)"
   ]
  },
  {
   "cell_type": "markdown",
   "metadata": {},
   "source": [
    "+ 计算$t_k=k-1,C_{t_k}=k\\times 1.05^k$"
   ]
  },
  {
   "cell_type": "code",
   "execution_count": 11,
   "metadata": {},
   "outputs": [
    {
     "name": "stdout",
     "output_type": "stream",
     "text": [
      "0.8329368958195779\n"
     ]
    }
   ],
   "source": [
    "t = [k-1 for k in range(1,101)]\n",
    "C = [(k-1)*(1.05**(k-1)) for k in range(1,101)]\n",
    "compute(t, C)"
   ]
  },
  {
   "cell_type": "markdown",
   "metadata": {},
   "source": [
    "+ 计算$t_k=k,C_{t_k}=k\\times 1.06^k$"
   ]
  },
  {
   "cell_type": "code",
   "execution_count": 12,
   "metadata": {},
   "outputs": [
    {
     "name": "stdout",
     "output_type": "stream",
     "text": [
      "1.7761984790273224\n"
     ]
    }
   ],
   "source": [
    "t = [k for k in range(1, 101)]\n",
    "C = [k*(1.06**k) for k in range(1,101)]\n",
    "compute(t, C)"
   ]
  }
 ],
 "metadata": {
  "kernelspec": {
   "display_name": "base",
   "language": "python",
   "name": "python3"
  },
  "language_info": {
   "codemirror_mode": {
    "name": "ipython",
    "version": 3
   },
   "file_extension": ".py",
   "mimetype": "text/x-python",
   "name": "python",
   "nbconvert_exporter": "python",
   "pygments_lexer": "ipython3",
   "version": "3.11.4"
  },
  "orig_nbformat": 4
 },
 "nbformat": 4,
 "nbformat_minor": 2
}
