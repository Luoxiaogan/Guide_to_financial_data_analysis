{
 "cells": [
  {
   "cell_type": "markdown",
   "metadata": {},
   "source": [
    "罗淦 2200013522 第一次作业"
   ]
  },
  {
   "cell_type": "markdown",
   "metadata": {},
   "source": [
    "# 作业\n",
    "\n",
    "编辑自己的第一个notebook文件，其中包括：\n",
    "\n",
    "1. 如果是新安装python的同学，请安装和更新python及其包，包括，NumPy、SciPy、matplotlib、ipython、pandas、statsmodels、 line_profiler等包或库,给出安装这些包需要的代码，介绍安装步骤，出现的问题和解决的方案。如果是已经熟练使用python相关工具，包括python notebook，或其它编辑工具，比如vscode，则分享你的使用经验。\n",
    "2. 金融数学中，我们用$i$表示年利率，$t$表示时间年。$t=0$表示现在。我们知道，现在1块钱，一年后加上利息为$1+i$，两年后为$(1+i)^2$，$k$年后为$(1+i)^k$。我们也可以理解为，$k$年后为$(1+i)^k$块钱相当于现在的1块钱。  用$C_t$表示第$t$年时刻的现金。假设在$t_1,t_2,\\cdots,t_n$时刻有现金流$C_1,\\cdots,C_n$,编一个函数，以列$t_1,t_2,\\cdots,t_n$, 和$C_1,\\cdots,C_n$，以及利率$i$为参数，计算这些现金流相当于现在多少钱(现值)。令$i=0.05,k=1,\\cdots,100$ 用该函数计算下面几个实例，\n",
    "  + 计算$t_k=k,C_{t_k}=1$\n",
    "  + 计算$t_k=C_{t_k}=k-1$\n",
    "  + 计算$t_k=k-1,C_{t_k}=k\\times 1.05^k$\n",
    "  + 计算$t_k=k,C_{t_k}=k\\times 1.06^k$\n",
    "  \n",
    "\n",
    "\n"
   ]
  },
  {
   "cell_type": "markdown",
   "metadata": {},
   "source": [
    "# 第一题"
   ]
  },
  {
   "cell_type": "code",
   "execution_count": 29,
   "metadata": {},
   "outputs": [
    {
     "data": {
      "text/plain": [
       "' pip install numpy\\npip install scipy\\npip install matplotlib\\npip install ipython\\npip install pandas\\npip install statsmodels\\nline_profiler '"
      ]
     },
     "execution_count": 29,
     "metadata": {},
     "output_type": "execute_result"
    }
   ],
   "source": [
    "#给出安装这些包需要的代码(在cmd中)\n",
    "\"\"\" pip install numpy\n",
    "pip install scipy\n",
    "pip install matplotlib\n",
    "pip install ipython\n",
    "pip install pandas\n",
    "pip install statsmodels\n",
    "line_profiler \"\"\""
   ]
  },
  {
   "cell_type": "markdown",
   "metadata": {},
   "source": [
    "### 介绍安装步骤\n",
    "\n",
    "+ 下载Anaconda3，安装\n",
    "+ 打开cmd, 输入conda, 检查是否已经添加环境变量\n",
    "+ activate base, 进入base环境\n",
    "+ 执行上述语句，下载所需要的包"
   ]
  },
  {
   "cell_type": "markdown",
   "metadata": {},
   "source": [
    "# 第二题"
   ]
  },
  {
   "cell_type": "code",
   "execution_count": 30,
   "metadata": {},
   "outputs": [],
   "source": [
    "def compute(t, C, i=0.05):\n",
    "    \"\"\"\n",
    "    t是list形式, t = [t1, t2, ..., tk]\n",
    "    C是list形式, C = [C1, C2, ..., Ck]\n",
    "    利率 i = 0.05\n",
    "    计算这些现金流相当于现在的多少钱\n",
    "    \"\"\"\n",
    "    length = len(t)\n",
    "    sum = 0\n",
    "    j = 0 #遍历整个list的index\n",
    "    while j < len(t):\n",
    "        sum = sum + C[j] / pow(i+1, t[j])\n",
    "        j = j+1\n",
    "    return sum"
   ]
  },
  {
   "cell_type": "markdown",
   "metadata": {},
   "source": [
    "+ 计算$t_k=k,C_{t_k}=1$"
   ]
  },
  {
   "cell_type": "code",
   "execution_count": 31,
   "metadata": {},
   "outputs": [
    {
     "name": "stdout",
     "output_type": "stream",
     "text": [
      "19.847910200042502\n"
     ]
    }
   ],
   "source": [
    "t = [k for k in range(1, 101)]\n",
    "C = [1]*100\n",
    "print(compute(t, C))"
   ]
  },
  {
   "cell_type": "markdown",
   "metadata": {},
   "source": [
    "+ 计算$t_k=C_{t_k}=k-1$"
   ]
  },
  {
   "cell_type": "code",
   "execution_count": 32,
   "metadata": {},
   "outputs": [
    {
     "name": "stdout",
     "output_type": "stream",
     "text": [
      "400.8366852053582\n"
     ]
    }
   ],
   "source": [
    "t = [k-1 for k in range(1, 101)]\n",
    "C = [k-1 for k in range(1,101)]\n",
    "print(compute(t, C))"
   ]
  },
  {
   "cell_type": "markdown",
   "metadata": {},
   "source": [
    "+ 计算$t_k=k-1,C_{t_k}=k\\times 1.05^k$"
   ]
  },
  {
   "cell_type": "code",
   "execution_count": 35,
   "metadata": {},
   "outputs": [
    {
     "name": "stdout",
     "output_type": "stream",
     "text": [
      "5302.5\n"
     ]
    }
   ],
   "source": [
    "t = [k-1 for k in range(1,101)]\n",
    "C = [k*(1.05**k) for k in range(1,101)]\n",
    "print(compute(t, C))"
   ]
  },
  {
   "cell_type": "markdown",
   "metadata": {},
   "source": [
    "+ 计算$t_k=k,C_{t_k}=k\\times 1.06^k$"
   ]
  },
  {
   "cell_type": "code",
   "execution_count": 34,
   "metadata": {},
   "outputs": [
    {
     "name": "stdout",
     "output_type": "stream",
     "text": [
      "9762.483770817924\n"
     ]
    }
   ],
   "source": [
    "t = [k for k in range(1, 101)]\n",
    "C = [k*(1.06**k) for k in range(1,101)]\n",
    "print(compute(t, C))"
   ]
  }
 ],
 "metadata": {
  "kernelspec": {
   "display_name": "base",
   "language": "python",
   "name": "python3"
  },
  "language_info": {
   "codemirror_mode": {
    "name": "ipython",
    "version": 3
   },
   "file_extension": ".py",
   "mimetype": "text/x-python",
   "name": "python",
   "nbconvert_exporter": "python",
   "pygments_lexer": "ipython3",
   "version": "3.11.4"
  },
  "orig_nbformat": 4
 },
 "nbformat": 4,
 "nbformat_minor": 2
}
