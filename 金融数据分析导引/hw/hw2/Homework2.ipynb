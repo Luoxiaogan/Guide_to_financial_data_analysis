{
 "cells": [
  {
   "cell_type": "markdown",
   "id": "0bf317cd",
   "metadata": {},
   "source": [
    "\n",
    "## Numpy\n",
    "\n",
    "1.  给定一个二维数组，每行是一个向量。找出所有不同的行。\n",
    "比如： \n",
    "\n",
    "```x = np.array([[1., 2., 3.], [4., 5., 6.],[1., 2., 3.], [4., 5., 6.]]),则\n",
    "x[:2]，即x的第0,1行，array([[ 1.,  2.,  3.],[ 4.,  5.,  6.]])就是要找到行。\n",
    "```\n",
    "\n",
    "备注：请不要直接调用numpy.unique\n",
    "\n",
    "2.  a).产生正态数据数据向量 Z,长度为T， 建立一个二维数组，使其第一行为 (Z[0],Z[1],Z[2])，然后每一行都后移一位 （因此最后一行为 (Z[T-3],Z[T-2],Z[T-1] );b). 计算每列数据的样本均值，方差，各列之间的协方差。\n",
    " \n",
    "3. a). 随机生成一个1000行50列二维数组，每个元素等概率取值0，1，2，并将该数组按第1列递增和第2列递减对每行排序，即先按第一列递增排序，然后在第一列每组中， 按第二列递减排序。 b). 编一个函数sortbycols(data,cols,descending)，实现行排序。给定参数 data是二维数值，cols是数或list,给出需要排序的列，descending是布尔值或布尔向量，如果是一个布尔值，则所有列都按该顺序排，如果descending是和cols等长的list，则各列按descending给定的顺序排。\n",
    "4.  熟悉学习numpy中的现金流函数, np.pv,np.fv,np.nper,np.pmt,np.rate, 然后编制一个函数，计算给定现金流(array)，利率(array),任意时刻(t)的现金价值。\n",
    "\n",
    "5. 有一个列表X,里面的元素可能是数，包含数的list,或者数值型np.array。请编一个函数把它转换为一维np.array数据。 比如将X=[[1,[2,[4,9]]],np.array([[1,2],[3,4]])]转换为：np.array([1,2,4,9,,1,2,3,4])。注意，列表X的嵌套层数可以是任意的。\n",
    "\n",
    "## Pandas \n",
    "\n",
    "1. 将A1.csv-A5.csv 读入合并，同一个股票合并为一行。注意，这些表格中都有相同的代码和名称列,可以用它们作为index。也可能有一些冗余的列和行，对数据进行清理。\n",
    "2. 按\"细分行业\" 将资产分组 \n",
    "   +  统计平均市盈率，平均价格；\n",
    "   + 用总资产作权重，计算加权市盈率和加权平均价格；\n",
    "   + 用流通市值作权重，计算加权市盈率和加权平均价格；\n",
    "3. 按\"地区\" 将资产分组，重新计算2中问题\n",
    "4. 将上述计算结果合并后存为csv文件。\n"
   ]
  }
 ],
 "metadata": {
  "kernelspec": {
   "display_name": "Python 3 (ipykernel)",
   "language": "python",
   "name": "python3"
  },
  "language_info": {
   "codemirror_mode": {
    "name": "ipython",
    "version": 3
   },
   "file_extension": ".py",
   "mimetype": "text/x-python",
   "name": "python",
   "nbconvert_exporter": "python",
   "pygments_lexer": "ipython3",
   "version": "3.9.7"
  }
 },
 "nbformat": 4,
 "nbformat_minor": 5
}
