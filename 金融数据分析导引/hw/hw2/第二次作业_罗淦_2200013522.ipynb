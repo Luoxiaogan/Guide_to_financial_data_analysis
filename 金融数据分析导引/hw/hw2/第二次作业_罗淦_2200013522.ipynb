{
 "cells": [
  {
   "cell_type": "markdown",
   "metadata": {},
   "source": [
    "# 作业\n",
    "\n",
    "1.  给定一个二维数组，每行是一个向量。找出所有不同的行。\n",
    "比如： \n",
    "\n",
    "```x = np.array([[1., 2., 3.], [4., 5., 6.],[1., 2., 3.], [4., 5., 6.]]),则\n",
    "x[:2]，即x的第0,1行，array([[ 1.,  2.,  3.],[ 4.,  5.,  6.]])就是要找到行。\n",
    "```\n",
    "\n",
    "备注：请不要直接调用numpy.unique\n",
    "\n",
    "2.  a).产生正态数据数据向量 Z,长度为T， 建立一个二维数组，使其第一行为 (Z[0],Z[1],Z[2])，然后每一行都后移一位 （因此最后一行为 (Z[T-3],Z[T-2],Z[T-1] );b). 计算每列数据的样本均值，方差，各列之间的协方差。\n",
    " \n",
    "3. a). 随机生成一个1000行50列二维数组，每个元素等概率取值0，1，2，并将该数组按第1列递增和第2列递减对每行排序，即先按第一列递增排序，然后在第一列每组中， 按第二列递减排序。 b). 编一个函数sortbycols(data,cols,descending)，实现行排序。给定参数 data是二维数值，cols是数或list,给出需要排序的列，descending是布尔值或布尔向量，如果是一个布尔值，则所有列都按该顺序排，如果descending是和cols等长的list，则各列按descending给定的顺序排。\n",
    "4.  熟悉学习numpy中的现金流函数, np.pv,np.fv,np.nper,np.pmt,np.rate, 然后编制一个函数，计算给定现金流(array)，利率(array),任意时刻(t)的现金价值。"
   ]
  },
  {
   "cell_type": "markdown",
   "metadata": {},
   "source": [
    "# 第一题\n",
    "给定一个二维数组，每行是一个向量。找出所有不同的行。\n",
    "比如： \n",
    "\n",
    "```x = np.array([[1., 2., 3.], [4., 5., 6.],[1., 2., 3.], [4., 5., 6.]]),则\n",
    "x[:2]，即x的第0,1行，array([[ 1.,  2.,  3.],[ 4.,  5.,  6.]])就是要找到行。\n",
    "```"
   ]
  },
  {
   "cell_type": "code",
   "execution_count": 67,
   "metadata": {},
   "outputs": [],
   "source": [
    "import numpy as np\n",
    "def check(arr):\n",
    "    \"\"\" 输入一个二维数组，每行是一个向量，找出所有不同的行 \"\"\"\n",
    "    if isinstance(arr,np.ndarray) and len(a.shape)==1:\n",
    "        print('The array only has one row.')\n",
    "        return arr\n",
    "    m=arr.shape[0]\n",
    "    remark=np.zeros((m,1))\n",
    "    for i in range(0,m):\n",
    "        for j in range(0,m):\n",
    "            if np.all(arr[i]==arr[j]):\n",
    "                remark[i]+=1\n",
    "    unique_rows=[]\n",
    "    for i in range(0,m):\n",
    "        if remark[i]==1:\n",
    "            unique_rows.append(arr[i])\n",
    "    return np.array(unique_rows)"
   ]
  },
  {
   "cell_type": "markdown",
   "metadata": {},
   "source": [
    "# 第二题\n",
    "+ a).产生正态数据数据向量 Z,长度为T， 建立一个二维数组，使其第一行为 (Z[0],Z[1],Z[2])，然后每一行都后移一位 （因此最后一行为 (Z[T-3],Z[T-2],Z[T-1] );\n",
    "\n",
    "+ b). 计算每列数据的样本均值，方差，各列之间的协方差。"
   ]
  },
  {
   "cell_type": "code",
   "execution_count": 82,
   "metadata": {},
   "outputs": [],
   "source": [
    "import numpy as np\n",
    "import math\n",
    "def create(T):\n",
    "    \"\"\"\n",
    "    产生正态数据数据向量 Z,长度为T， 建立一个二维数组，使其第一行为 (Z[0],Z[1],Z[2])，然后每一行都后移一位 （因此最后一行为 (Z[T-3],Z[T-2],Z[T-1] );\n",
    "    \"\"\"\n",
    "    arr=np.random.randn(T)\n",
    "    output=np.zeros((T-2,3))\n",
    "    for i in range(0,T-2):\n",
    "        output[i]=arr[i:i+3]\n",
    "    print(output,'\\n\\n')\n",
    "    print('每列数据的样本均值是\\n',np.mean(output,axis=0),'\\n\\n')\n",
    "    print('每列数据的样本方差是\\n',np.var(output,axis=0),'\\n\\n')\n",
    "    print('每列数据的样本协方差是\\n',np.cov(output,rowvar=False))\n",
    "    return "
   ]
  },
  {
   "cell_type": "markdown",
   "metadata": {},
   "source": [
    "# 第三题\n",
    "+ a). 随机生成一个1000行50列二维数组，每个元素等概率取值0，1，2，并将该数组按第1列递增和第2列递减对每行排序，即先按第一列递增排序，然后在第一列每组中， 按第二列递减排序。\n",
    "+ b). 编一个函数sortbycols(data,cols,descending)，实现行排序。给定参数 data是二维数值，cols是数或list,给出需要排序的列，descending是布尔值或布尔向量，如果是一个布尔值，则所有列都按该顺序排，如果descending是和cols等长的list，则各列按descending给定的顺序排。"
   ]
  }
 ],
 "metadata": {
  "kernelspec": {
   "display_name": "base",
   "language": "python",
   "name": "python3"
  },
  "language_info": {
   "codemirror_mode": {
    "name": "ipython",
    "version": 3
   },
   "file_extension": ".py",
   "mimetype": "text/x-python",
   "name": "python",
   "nbconvert_exporter": "python",
   "pygments_lexer": "ipython3",
   "version": "3.11.4"
  },
  "orig_nbformat": 4
 },
 "nbformat": 4,
 "nbformat_minor": 2
}
